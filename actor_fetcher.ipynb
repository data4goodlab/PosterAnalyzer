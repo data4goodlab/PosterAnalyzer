{
 "cells": [
  {
   "cell_type": "markdown",
   "metadata": {
    "id": "UC1qpjDQmKuW"
   },
   "source": [
    "# Fetching The Actors Metadata And Images"
   ]
  },
  {
   "cell_type": "code",
   "execution_count": 1,
   "metadata": {
    "colab": {
     "base_uri": "https://localhost:8080/"
    },
    "executionInfo": {
     "elapsed": 23845,
     "status": "ok",
     "timestamp": 1653287384296,
     "user": {
      "displayName": "Mor Levy",
      "userId": "01162621481807463830"
     },
     "user_tz": -180
    },
    "id": "1MeIwCdI7oOB",
    "outputId": "c9ffd8b6-b561-4617-e14e-3a0e11e8d83f"
   },
   "outputs": [
    {
     "name": "stdout",
     "output_type": "stream",
     "text": [
      "Collecting IMDbPY\n",
      "  Downloading IMDbPY-2021.4.18-py3-none-any.whl (298 kB)\n",
      "\u001b[K     |████████████████████████████████| 298 kB 5.2 MB/s eta 0:00:01\n",
      "\u001b[?25hRequirement already satisfied: SQLAlchemy in /usr/local/lib/python3.7/dist-packages (from IMDbPY) (1.4.36)\n",
      "Requirement already satisfied: lxml in /usr/local/lib/python3.7/dist-packages (from IMDbPY) (4.2.6)\n",
      "Requirement already satisfied: greenlet!=0.4.17 in /usr/local/lib/python3.7/dist-packages (from SQLAlchemy->IMDbPY) (1.1.2)\n",
      "Requirement already satisfied: importlib-metadata in /usr/local/lib/python3.7/dist-packages (from SQLAlchemy->IMDbPY) (4.11.3)\n",
      "Requirement already satisfied: typing-extensions>=3.6.4 in /usr/local/lib/python3.7/dist-packages (from importlib-metadata->SQLAlchemy->IMDbPY) (4.2.0)\n",
      "Requirement already satisfied: zipp>=0.5 in /usr/local/lib/python3.7/dist-packages (from importlib-metadata->SQLAlchemy->IMDbPY) (3.8.0)\n",
      "Installing collected packages: IMDbPY\n",
      "Successfully installed IMDbPY-2021.4.18\n",
      "Collecting tmdbsimple\n",
      "  Downloading tmdbsimple-2.9.1-py3-none-any.whl (38 kB)\n",
      "Requirement already satisfied: requests in /usr/local/lib/python3.7/dist-packages (from tmdbsimple) (2.23.0)\n",
      "Requirement already satisfied: urllib3!=1.25.0,!=1.25.1,<1.26,>=1.21.1 in /usr/local/lib/python3.7/dist-packages (from requests->tmdbsimple) (1.24.3)\n",
      "Requirement already satisfied: idna<3,>=2.5 in /usr/local/lib/python3.7/dist-packages (from requests->tmdbsimple) (2.10)\n",
      "Requirement already satisfied: certifi>=2017.4.17 in /usr/local/lib/python3.7/dist-packages (from requests->tmdbsimple) (2021.10.8)\n",
      "Requirement already satisfied: chardet<4,>=3.0.2 in /usr/local/lib/python3.7/dist-packages (from requests->tmdbsimple) (3.0.4)\n",
      "Installing collected packages: tmdbsimple\n",
      "Successfully installed tmdbsimple-2.9.1\n",
      "Collecting unidecode\n",
      "  Downloading Unidecode-1.3.4-py3-none-any.whl (235 kB)\n",
      "\u001b[K     |████████████████████████████████| 235 kB 5.3 MB/s \n",
      "\u001b[?25hInstalling collected packages: unidecode\n",
      "Successfully installed unidecode-1.3.4\n",
      "Collecting imagehash\n",
      "  Downloading ImageHash-4.2.1.tar.gz (812 kB)\n",
      "\u001b[K     |████████████████████████████████| 812 kB 5.4 MB/s \n",
      "\u001b[?25hRequirement already satisfied: six in /usr/local/lib/python3.7/dist-packages (from imagehash) (1.15.0)\n",
      "Requirement already satisfied: numpy in /usr/local/lib/python3.7/dist-packages (from imagehash) (1.21.6)\n",
      "Requirement already satisfied: scipy in /usr/local/lib/python3.7/dist-packages (from imagehash) (1.4.1)\n",
      "Requirement already satisfied: pillow in /usr/local/lib/python3.7/dist-packages (from imagehash) (7.1.2)\n",
      "Requirement already satisfied: PyWavelets in /usr/local/lib/python3.7/dist-packages (from imagehash) (1.3.0)\n",
      "Building wheels for collected packages: imagehash\n",
      "  Building wheel for imagehash (setup.py) ... \u001b[?25l\u001b[?25hdone\n",
      "  Created wheel for imagehash: filename=ImageHash-4.2.1-py2.py3-none-any.whl size=295206 sha256=ff5acb383fbaa3e7e651b01f31262ff93a44c50c8db1b9ce9779ba2230c154c6\n",
      "  Stored in directory: /root/.cache/pip/wheels/4c/d5/59/5e3e297533ddb09407769762985d134135064c6831e29a914e\n",
      "Successfully built imagehash\n",
      "Installing collected packages: imagehash\n",
      "Successfully installed imagehash-4.2.1\n"
     ]
    }
   ],
   "source": [
    "!pip install IMDbPY\n",
    "!pip install tmdbsimple\n",
    "!pip install unidecode\n",
    "!pip install imagehash"
   ]
  },
  {
   "cell_type": "code",
   "execution_count": 2,
   "metadata": {
    "executionInfo": {
     "elapsed": 601,
     "status": "ok",
     "timestamp": 1653287426334,
     "user": {
      "displayName": "Mor Levy",
      "userId": "01162621481807463830"
     },
     "user_tz": -180
    },
    "id": "27Q2Y2KN7jWV"
   },
   "outputs": [],
   "source": [
    "from PIL import Image\n",
    "import imdb\n",
    "import tmdbsimple as tmdb\n",
    "from io import BytesIO\n",
    "import requests\n",
    "import pickle\n",
    "from pathlib import Path\n",
    "from tqdm import tqdm\n",
    "import pandas as pd\n",
    "from unidecode import unidecode"
   ]
  },
  {
   "cell_type": "code",
   "execution_count": null,
   "metadata": {
    "id": "HI01pDCj1wn3"
   },
   "outputs": [],
   "source": [
    "movies_dir = Path('movies')\n",
    "actors_dir = Path('actors')\n",
    "\n",
    "movies_dir.mkdir(exist_ok=True)\n",
    "actors_dir.mkdir(exist_ok=True)\n",
    "\n",
    "with Path(\"posters_with_dup.pkl\").open(\"rb\") as f:\n",
    "  posters_with_dup = pickle.load(f)\n",
    "\n",
    "posters_with_dup[\"id\"] = posters_with_dup[\"tconst\"].str.strip(\"tt\")\n",
    "movie_ids = list(set(posters_with_dup[\"id\"]))"
   ]
  },
  {
   "cell_type": "code",
   "execution_count": null,
   "metadata": {
    "id": "FH6SCo9w1wnu"
   },
   "outputs": [],
   "source": [
    "ia = imdb.IMDb()\n",
    "\n",
    "def save_movie(movie, movies_dir):\n",
    "  #save to pickle\n",
    "  with open(movies_dir/f'{movie[\"title\"]}-{movie.getID()}.pkl', 'wb') as f:\n",
    "    pickle.dump(movie, f)\n",
    "\n",
    "def save_actors_images(movie, actors_dir):\n",
    "  cast = movie.get('cast')\n",
    "\n",
    "  if cast:\n",
    "      for a in cast:\n",
    "        actor_id = a.getID()\n",
    "        actor_dir = actors_dir/f'{a[\"name\"]}-{actor_id}'\n",
    "\n",
    "        actor_dir.mkdir(exist_ok=True)\n",
    "\n",
    "        if not (actor_dir/'actor.pkl').exists():\n",
    "            person = ia.get_person(actor_id)\n",
    "\n",
    "            try:\n",
    "                url = person['full-size headshot']\n",
    "\n",
    "                if(url):\n",
    "                  response = requests.get(url)\n",
    "                  img = Image.open(BytesIO(response.content))\n",
    "            \n",
    "                  img.save(actor_dir/'imdb.jpg')\n",
    "            except KeyError:\n",
    "                pass\n",
    "            except OSError:\n",
    "                print(\"OSError\")\n",
    "\n",
    "            with open(f'{actor_dir}/actor.pkl', 'wb') as f:\n",
    "                pickle.dump(person, f)\n",
    "\n",
    "def get_movie_actors(movie_id):\n",
    "    try:\n",
    "        if len(list(movies_dir.glob(f\"*{movie_id}.pkl\"))) == 0:\n",
    "            movie = ia.get_movie(movie_id)\n",
    "            save_actors_images(movie, actors_dir)\n",
    "            save_movie(movie, movies_dir)\n",
    "    except imdb.IMDbDataAccessError:\n",
    "        print(\"IMDbDataAccessError\")"
   ]
  },
  {
   "cell_type": "code",
   "execution_count": null,
   "metadata": {
    "colab": {
     "base_uri": "https://localhost:8080/"
    },
    "collapsed": true,
    "executionInfo": {
     "elapsed": 331158,
     "status": "ok",
     "timestamp": 1652607333697,
     "user": {
      "displayName": "Mor Levy",
      "userId": "01162621481807463830"
     },
     "user_tz": -180
    },
    "id": "OKvN9CSA1woK",
    "jupyter": {
     "outputs_hidden": true
    },
    "outputId": "72ae6cc5-b070-4cd8-bd0a-07fc0f9b33cd"
   },
   "outputs": [
    {
     "name": "stderr",
     "output_type": "stream",
     "text": [
      "  0%|          | 0/3 [00:00<?, ?it/s]/usr/local/lib/python3.7/dist-packages/PIL/Image.py:2800: DecompressionBombWarning: Image size (95727189 pixels) exceeds limit of 89478485 pixels, could be decompression bomb DOS attack.\n",
      "  DecompressionBombWarning,\n",
      "100%|██████████| 3/3 [05:30<00:00, 110.25s/it]\n"
     ]
    }
   ],
   "source": [
    "for movie_id in tqdm(movie_ids):\n",
    "  get_movie_actors(movie_id)"
   ]
  },
  {
   "cell_type": "code",
   "execution_count": null,
   "metadata": {
    "id": "4hWZW8BNCGyB"
   },
   "outputs": [],
   "source": [
    "actors_ids = [a.name.rpartition('-')[2] for a in list(actors_dir.rglob(\"\"))[1:]]\n",
    "actors_names = [a.name.rpartition('-')[0] for a in list(actors_dir.rglob(\"\"))[1:]]\n",
    "actors_df = pd.DataFrame({\"imdb_id\": actors_ids, 'name': actors_names})"
   ]
  },
  {
   "cell_type": "code",
   "execution_count": null,
   "metadata": {
    "id": "5TzLuNWhmUBw"
   },
   "outputs": [],
   "source": [
    "# Fetch TMDB actors profile pictures\n",
    "\n",
    "limit = 3\n",
    "last_success = 0\n",
    "base_url = 'https://image.tmdb.org/t/p/w780'\n",
    "\n",
    "with Path(\"tmdb.txt\").open() as  f:\n",
    "  tmdb_key = f.read().strip()\n",
    "tmdb.API_KEY = tmdb_key\n",
    "\n",
    "for idx, row in actors_df.iterrows():\n",
    "    if idx < last_success:\n",
    "        continue\n",
    "        f\n",
    "    try:\n",
    "        tmdb_id = tmdb.Find(f'nm{row[\"imdb_id\"]}').info(external_source='imdb_id')[\"person_results\"][0][\"id\"]\n",
    "        people = tmdb.People(tmdb_id)\n",
    "        urls = list(map(lambda x: x['file_path'], people.images()['profiles']))\n",
    "        for i, url in enumerate(urls[:limit]):\n",
    "            response = requests.get(f'{base_url}{url}')\n",
    "            img = Image.open(BytesIO(response.content))\n",
    "            img.save(f'{actors_dir}/{row[\"name\"]}-{row[\"imdb_id\"]}/{i}.jpg')\n",
    "            print('saved', people.info()[\"name\"], i)\n",
    "    except IndexError:\n",
    "        print(f'failed for {row[\"imdb_id\"]} - {idx}')\n",
    "        continue"
   ]
  },
  {
   "cell_type": "markdown",
   "metadata": {
    "id": "qSZUWgZ2x1-Q"
   },
   "source": [
    "# Create actors data frame"
   ]
  },
  {
   "cell_type": "code",
   "execution_count": null,
   "metadata": {
    "colab": {
     "base_uri": "https://localhost:8080/"
    },
    "executionInfo": {
     "elapsed": 315,
     "status": "ok",
     "timestamp": 1652609678272,
     "user": {
      "displayName": "Mor Levy",
      "userId": "01162621481807463830"
     },
     "user_tz": -180
    },
    "id": "1oZBZZjTx0hy",
    "outputId": "423eabcc-92f2-46cc-ffbc-3642cc0b1cef"
   },
   "outputs": [
    {
     "name": "stderr",
     "output_type": "stream",
     "text": [
      "100%|██████████| 172/172 [00:00<00:00, 151845.99it/s]\n"
     ]
    }
   ],
   "source": [
    "actor_images = list(actors_dir.rglob(\"*.jpg\"))\n",
    "actor_folders = [img.parent for img in actor_images]\n",
    "actor_folders = list(set(actor_folders))\n",
    "\n",
    "for folder in tqdm(actor_folders):\n",
    "    new_path = unidecode(str(folder))\n",
    "    if new_path != str(folder):\n",
    "        folder.replace(new_path)\n",
    "\n",
    "actor_images = list(actors_dir.rglob(\"*.jpg\"))\n",
    "actors_df = pd.DataFrame({\"img_path\": actor_images})\n",
    "\n",
    "actors_df[\"actor_name\"] = actors_df.img_path.apply(lambda x: x.parent.name.rpartition(\"-\")[0])\n",
    "actors_df[\"imdb_id\"] = actors_df.img_path.apply(lambda x: x.parent.name.rpartition(\"-\")[2])"
   ]
  },
  {
   "cell_type": "code",
   "execution_count": null,
   "metadata": {
    "id": "9QrwZjtNyUCg"
   },
   "outputs": [],
   "source": [
    "actors_df.to_pickle(\"actors_df.pkl\")"
   ]
  },
  {
   "cell_type": "code",
   "execution_count": null,
   "metadata": {
    "collapsed": true,
    "id": "sJVRmkox1woH",
    "jupyter": {
     "outputs_hidden": true
    }
   },
   "outputs": [],
   "source": [
    "# Option for concurrent run for fetching actors images\n",
    "\n",
    "# from tqdm import tqdm_notebook as tqdm\n",
    "# import concurrent\n",
    "\n",
    "# max_workers = 8\n",
    "# res = []\n",
    "# movie_ids = list(df[\"id\"])\n",
    "# with concurrent.futures.ProcessPoolExecutor(max_workers=max_workers) as executor:\n",
    "#     for movie_id in tqdm(executor.map(get_movie_actors, movie_ids), total=len(movie_ids)):\n",
    "#          pass"
   ]
  }
 ],
 "metadata": {
  "colab": {
   "collapsed_sections": [],
   "name": "actor_fetcher.ipynb",
   "provenance": []
  },
  "kernelspec": {
   "display_name": "Python 3",
   "language": "python",
   "name": "python3"
  },
  "language_info": {
   "codemirror_mode": {
    "name": "ipython",
    "version": 3
   },
   "file_extension": ".py",
   "mimetype": "text/x-python",
   "name": "python",
   "nbconvert_exporter": "python",
   "pygments_lexer": "ipython3",
   "version": "3.7.3"
  }
 },
 "nbformat": 4,
 "nbformat_minor": 4
}
