{
 "cells": [
  {
   "cell_type": "markdown",
   "metadata": {
    "id": "OTawP50f2xoI"
   },
   "source": [
    "## Face Valiation\n"
   ]
  },
  {
   "cell_type": "code",
   "execution_count": null,
   "metadata": {
    "id": "y0PQ9DTi2xoK"
   },
   "outputs": [],
   "source": [
    "%reload_ext autoreload\n",
    "%autoreload 2\n",
    "%matplotlib inline"
   ]
  },
  {
   "cell_type": "code",
   "execution_count": null,
   "metadata": {
    "colab": {
     "base_uri": "https://localhost:8080/"
    },
    "id": "Kg9ezzIzaE7o",
    "outputId": "e4191ef7-8c14-4801-e071-ce012a14d74d"
   },
   "outputs": [],
   "source": [
    "! pip install tmdbsimple\n",
    "! pip install mtcnn \n",
    "!pip install --upgrade fastai\n",
    "from fastai.vision.all import *"
   ]
  },
  {
   "cell_type": "code",
   "execution_count": 133,
   "metadata": {},
   "outputs": [
    {
     "data": {
      "text/plain": [
       "file_path                                                                                                                                                                                                                                                                                                                                                                                                                                                                                                                                                                                           data/actors/Elvina Kong-0465020/0.jpg\n",
       "Name                                                                                                                                                                                                                                                                                                                                                                                                                                                                                                                                                                                                                          Elvina Kong\n",
       "imdb_id                                                                                                                                                                                                                                                                                                                                                                                                                                                                                                                                                                                                                           0465020\n",
       "faces                                                                                                                                                                                                                                                                                                                                                                                                                                                                                                                                                                                                              [(107, 398, 312, 234)]\n",
       "face_encodings    [[-0.12221746146678925, 0.1403741091489792, 0.09264247864484787, -0.1480139195919037, -0.13569924235343933, 0.014934113249182701, -0.06012199819087982, -0.07389447093009949, 0.20521463453769684, -0.2148081362247467, 0.219447523355484, -0.022067882120609283, -0.19134533405303955, 0.039642151445150375, -0.09008163213729858, 0.21417124569416046, -0.13749746978282928, -0.08308643102645874, -0.07245071232318878, -0.03562012314796448, 0.03620195388793945, 0.04728991538286209, -0.03973950073122978, 0.0529339537024498, -0.10493269562721252, -0.32940611243247986, -0.054709404706954956, -0.017203725...\n",
       "new_file_path                                                                                                                                                                                                                                                                                                                                                                                                                                                                                                                                                                                                   Elvina Kong-0465020/0.jpg\n",
       "actor_dir                                                                                                                                                                                                                                                                                                                                                                                                                                                                                                                                                                                                             Elvina Kong-0465020\n",
       "Name: 32, dtype: object"
      ]
     },
     "execution_count": 133,
     "metadata": {},
     "output_type": "execute_result"
    }
   ],
   "source": [
    "with Path(data_path / \"actor_face_encodings.pkl\").open(\"rb\") as f:\n",
    "    actors_df = pickle.load(f)\n",
    "\n",
    "actors_df[\"actor_dir\"] = actors_df[\"new_file_path\"].str.partition(\"/\")[0]\n",
    "# for i in actors_df[\"new_file_path\"].str.strip(\"/0.jpg\"):\n",
    "#     print(i)\n",
    "#     break\n",
    "actors_df.iloc[32]"
   ]
  },
  {
   "cell_type": "code",
   "execution_count": null,
   "metadata": {
    "scrolled": true
   },
   "outputs": [
    {
     "name": "stdout",
     "output_type": "stream",
     "text": [
      "saved Tom Cavanagh 0\n",
      "saved Tom Cavanagh 1\n",
      "saved James D'Arcy 0\n",
      "saved James D'Arcy 1\n",
      "saved Suman Ranganathan 0\n",
      "saved Suman Ranganathan 1\n",
      "saved Anna Tsuchiya 0\n",
      "saved Maria Bamford 0\n",
      "saved Andrew Howard 0\n",
      "saved Dominic Cooper 0\n",
      "saved Dominic Cooper 1\n",
      "saved Dominic Cooper 2\n",
      "saved Elena Kong 0\n",
      "saved Everal Walsh 0\n",
      "failed for Everal Walsh - 0\n",
      "failed for Everal Walsh - 0\n",
      "saved Roman Yasinovskyi 0\n",
      "failed for Roman Yasinovskyi - 0\n",
      "saved Eric André 0\n",
      "saved Joan Carroll 0\n",
      "saved Milburn Stone 0\n",
      "saved Warren Oates 0\n",
      "saved Warren Oates 1\n",
      "saved Warren Oates 2\n",
      "saved Nicky Henson 0\n",
      "saved Marie Dubois 0\n",
      "saved Carmen Phillips 0\n",
      "saved Jane Winton 0\n",
      "saved Jane Winton 1\n",
      "saved Jane Winton 2\n",
      "saved Michiyo Aratama 0\n",
      "saved Tom Irish 0\n",
      "saved Susumu Kurobe 0\n",
      "saved Peter Chatel 0\n",
      "saved Don Johnson 0\n",
      "saved Don Johnson 1\n",
      "saved Don Johnson 2\n",
      "saved Henri Storck 0\n",
      "saved Robert Walden 0\n",
      "saved Patrick Swayze 0\n",
      "saved Patrick Swayze 1\n",
      "saved Patrick Swayze 2\n",
      "saved Willoughby Gray 0\n",
      "saved Jamshid Hashempour 0\n",
      "saved Jerome Ehlers 0\n",
      "failed for Jerome Ehlers - 0\n",
      "saved Chris Farley 0\n",
      "saved Fiona Loewi 0\n",
      "saved Kathleen Robertson 0\n",
      "failed for Kathleen Robertson - 0\n",
      "saved Eric McCormack 0\n",
      "saved Eric McCormack 1\n",
      "saved Douglas Spain 0\n",
      "saved Emma Černá 0\n",
      "saved Agnieszka Warchulska 0\n",
      "saved R. Madhavan 0\n",
      "saved R. Madhavan 1\n",
      "failed for R. Madhavan - 1\n",
      "saved Wotan Wilke Möhring 0\n",
      "saved Wotan Wilke Möhring 1\n",
      "saved Divya Dutta 0\n",
      "saved Waylon Payne 0\n",
      "saved Letiția Vlădescu 0\n",
      "failed for George Hardy - 0\n",
      "saved Peter Simonischek 0\n",
      "saved Jason Turner 0\n",
      "saved Jessie Buckley 0\n",
      "saved Jessie Buckley 1\n",
      "saved Jessie Buckley 2\n",
      "saved Robert F. Kennedy 0\n",
      "saved Ginny Simms 0\n",
      "saved Nancy Kwan 0\n",
      "saved Nancy Kwan 1\n",
      "saved Ugo Tognazzi 0\n",
      "saved Ugo Tognazzi 1\n",
      "saved Ugo Tognazzi 2\n",
      "saved Mae West 0\n",
      "saved Mae West 1\n",
      "failed for Mae West - 1\n",
      "failed for Mae West - 1\n",
      "saved Mildred Dunnock 0\n",
      "failed for Mildred Dunnock - 0\n",
      "saved Julanne Johnston 0\n",
      "saved Joan Crawford 0\n",
      "saved Joan Crawford 1\n",
      "saved Douglas Fairbanks 0\n",
      "saved Erich Maria Remarque 0\n",
      "saved Ian Bannen 0\n",
      "saved Jafar Vali 0\n",
      "saved Jafar Vali 1\n",
      "saved Morgan Woodward 0\n",
      "saved Hugo Armstrong 0\n",
      "saved Paul McVey 0\n",
      "saved Barbara Bates 0\n",
      "saved Nina Hoss 0\n",
      "saved Nina Hoss 1\n",
      "saved Nancy Marchand 0\n",
      "saved Henry Gibson 0\n",
      "saved Natalya Gundareva 0\n",
      "saved Sonny Landham 0\n",
      "saved Sonny Landham 1\n",
      "saved Hugh Gillin 0\n",
      "saved Charles Kay 0\n",
      "saved Dominique Michel 0\n",
      "saved Gary Oldman 0\n",
      "saved Gary Oldman 1\n",
      "saved Gary Oldman 2\n",
      "saved Martin Short 0\n",
      "saved Kathleen York 0\n",
      "failed for Hillary Wolf - 0\n",
      "saved Daniel Beer 0\n",
      "saved Daniel Beer 1\n",
      "saved Daniel Beer 2\n",
      "saved Laura Favali 0\n",
      "saved Sean Gunn 0\n",
      "saved Sean Gunn 1\n",
      "saved Sean Gunn 2\n",
      "saved Debra Jo Rupp 0\n",
      "saved Debra Jo Rupp 1\n",
      "saved Debra Jo Rupp 2\n",
      "failed for Debra Jo Rupp - 2\n",
      "saved Ana Fernández 0\n",
      "saved Richard Yniguez 0\n",
      "failed for Jalal Agha - 0\n",
      "saved Cyron Melville 0\n",
      "saved Kara Hayward 0\n",
      "saved Kara Hayward 1\n",
      "saved Kara Hayward 2\n",
      "failed for Kara Hayward - 2\n",
      "failed for Kara Hayward - 2\n",
      "saved Alexandre Astier 0\n",
      "saved Alexandre Astier 1\n",
      "saved Roy Castle 0\n",
      "saved Jimmy Durante 0\n",
      "saved Brigitte Helm 0\n",
      "saved Baby LeRoy 0\n",
      "saved Ron Rich 0\n",
      "saved Claude Gensac 0\n",
      "saved Claude Gensac 1\n",
      "saved Mehmood 0\n",
      "saved Mehmood 1\n",
      "saved Kevin Spacey 0\n",
      "saved Kevin Spacey 1\n",
      "saved Kevin Spacey 2\n",
      "failed for Kevin Spacey - 2\n",
      "saved Antonio Aguilar 0\n",
      "saved Antonio Aguilar 1\n",
      "saved Antonio Aguilar 2\n",
      "saved Roger Davis 0\n",
      "saved Tony Roberts 0\n",
      "saved Tony Roberts 1\n",
      "saved Antonio Marsina 0\n",
      "saved Marta Fernández Muro 0\n",
      "saved Virginia Madsen 0\n",
      "saved Virginia Madsen 1\n",
      "saved Virginia Madsen 2\n",
      "saved Bill Cobbs 0\n",
      "saved Bill Cobbs 1\n",
      "saved Bill Cobbs 2\n",
      "saved Estelle Getty 0\n",
      "saved Leslie Hope 0\n",
      "failed for Leslie Hope - 0\n",
      "saved Orlando Bloom 0\n",
      "saved Orlando Bloom 1\n",
      "saved Orlando Bloom 2\n",
      "saved Michael Buie 0\n",
      "saved Radhika Sarathkumar 0\n",
      "saved Nikola Đuričko 0\n",
      "saved Nikola Đuričko 1\n",
      "saved Khleo Thomas 0\n",
      "saved Dustin Bollinger 0\n",
      "saved Qin Junjie 0\n",
      "saved Larry David 0\n",
      "saved Robert Więckiewicz 0\n",
      "saved Robert Więckiewicz 1\n",
      "saved Robert Więckiewicz 2\n",
      "saved Fabrizia Sacchi 0\n",
      "saved Fabrizia Sacchi 1\n",
      "saved Boyd Holbrook 0\n",
      "saved Boyd Holbrook 1\n",
      "saved Boyd Holbrook 2\n",
      "failed for Boyd Holbrook - 2\n",
      "saved Roger Clark 0\n",
      "saved Elizabeth Wilson 0\n",
      "saved Elizabeth Wilson 1\n",
      "saved Barbra Streisand 0\n",
      "saved Barbra Streisand 1\n",
      "saved Barbra Streisand 2\n",
      "saved Eric Alden 0\n",
      "saved Jake Abel 0\n",
      "failed for Jan Klusák - 0\n",
      "saved Ann Christy 0\n",
      "saved Jack La Rue 0\n",
      "saved Robert Gist 0\n",
      "saved William Tracy 0\n",
      "saved Ivan Lapikov 0\n",
      "saved John Larch 0\n",
      "saved BarBara Luna 0\n",
      "saved Elsa Lanchester 0\n",
      "saved Elsa Lanchester 1\n",
      "saved Mel Stewart 0\n",
      "saved Mel Stewart 1\n",
      "saved Norman Eshley 0\n",
      "saved Sek Kin 0\n",
      "saved Sek Kin 1\n",
      "saved John Justin 0\n",
      "saved John Bonham 0\n",
      "saved Joanne Samuel 0\n",
      "saved Garry Cooper 0\n",
      "saved Art Evans 0\n",
      "saved John Pankow 0\n",
      "saved Margaret Whitton 0\n",
      "saved John Ingle 0\n",
      "saved Steve Allen 0\n",
      "saved Sheryl Lee Ralph 0\n",
      "saved Sheryl Lee Ralph 1\n",
      "saved Taylor Nichols 0\n",
      "saved Aileen Wuornos 0\n",
      "saved Johnny Lever 0\n",
      "saved Johnny Lever 1\n",
      "saved Antonio Resines 0\n",
      "failed for Shiloh Strong - 0\n",
      "saved Ellen Muth 0\n",
      "saved Ellen Muth 1\n",
      "saved Joel Palmer 0\n",
      "saved Cameron Diaz 0\n",
      "saved Cameron Diaz 1\n",
      "saved Cameron Diaz 2\n",
      "failed for Cameron Diaz - 2\n",
      "saved Heath Ledger 0\n",
      "saved Heath Ledger 1\n",
      "saved Heath Ledger 2\n",
      "saved Lyubov Agapova 0\n",
      "saved Deobia Oparei 0\n",
      "saved Sofia Carson 0\n",
      "saved Sofia Carson 1\n",
      "saved Sofia Carson 2\n",
      "saved Olivia Poulet 0\n",
      "saved Tripti Dimri 0\n",
      "saved Max Cavalera 0\n",
      "saved Max Cavalera 1\n",
      "saved Casey Groves 0\n",
      "saved Sidné Anderson 0\n",
      "saved Wojciech Mecwaldowski 0\n",
      "failed for Wojciech Mecwaldowski - 0\n",
      "saved Amruta Khanvilkar 0\n",
      "saved Melissa Disney 0\n",
      "saved George Carney 0\n",
      "saved Ralph Dunn 0\n",
      "saved Skelton Knaggs 0\n",
      "saved John Agar 0\n",
      "saved John Agar 1\n",
      "saved John Agar 2\n",
      "saved Rosalind Marquis 0\n",
      "saved Maurice Kaufmann 0\n",
      "saved Brandon T. Jackson 0\n",
      "saved Dominique Lavanant 0\n",
      "saved Jim Nabors 0\n",
      "saved Lawrence Monoson 0\n",
      "saved Mikhail Kononov 0\n",
      "saved Shannon Tweed 0\n",
      "saved Shannon Tweed 1\n",
      "saved Lee Arenberg 0\n",
      "saved Eric Lloyd 0\n",
      "saved Eugene Byrd 0\n",
      "saved Tara Nicodemo 0\n",
      "saved Tara Nicodemo 1\n",
      "saved Eddie Cahill 0\n",
      "failed for Eddie Cahill - 0\n",
      "saved Aura Garrido 0\n",
      "saved Aura Garrido 1\n",
      "saved Aura Garrido 2\n",
      "saved Fiona Press 0\n",
      "failed for Fiona Press - 0\n",
      "saved Salim Kechiouche 0\n",
      "saved Callie Hernandez 0\n",
      "saved Callie Hernandez 1\n",
      "saved Esha Gupta 0\n",
      "failed for Esha Gupta - 0\n",
      "saved Tanya Hope 0\n",
      "saved Tanya Hope 1\n",
      "saved Tanya Hope 2\n",
      "saved Tiffany Haddish 0\n",
      "saved Tiffany Haddish 1\n",
      "saved Tiffany Haddish 2\n",
      "saved Mary Young 0\n",
      "saved Nana Palsikar 0\n",
      "saved Billy Butts 0\n",
      "saved Hilde Sessak 0\n",
      "saved Alma Bennett 0\n",
      "saved James Westmoreland 0\n",
      "saved S. William Hinzman 0\n",
      "saved Carlos Rivas 0\n",
      "saved Melville Cooper 0\n",
      "saved Melville Cooper 1\n",
      "saved Melville Cooper 2\n",
      "saved Constance Dowling 0\n",
      "saved Kō Nishimura 0\n",
      "saved Kō Nishimura 1\n",
      "saved K.T. Stevens 0\n",
      "saved Eitarō Shindō 0\n",
      "saved Eitarō Shindō 1\n",
      "saved Grayson Hall 0\n",
      "saved Erwin Steinhauer 0\n",
      "saved Anastasiya Vertinskaya 0\n",
      "saved Danai Gurira 0\n",
      "saved Danai Gurira 1\n",
      "saved Danai Gurira 2\n",
      "saved Barton MacLane 0\n",
      "saved J. M. Kerrigan 0\n",
      "saved J. M. Kerrigan 1\n",
      "saved William Austin 0\n",
      "saved T. P. McKenna 0\n",
      "saved Dana Hlaváčová 0\n",
      "saved Dana Hlaváčová 1\n",
      "saved Leszek Teleszyński 0\n",
      "saved Franklyn Ajaye 0\n",
      "saved Kote Daushvili 0\n",
      "failed for Kote Daushvili - 0\n",
      "saved Don Scardino 0\n",
      "saved Amanda Langlet 0\n",
      "saved Amanda Langlet 1\n",
      "failed for Amanda Langlet - 1\n",
      "saved Christopher Malcolm 0\n",
      "saved Denis Lavant 0\n",
      "saved Emily Lloyd 0\n",
      "saved Damon Whitaker 0\n",
      "saved John Benfield 0\n",
      "failed for John Benfield - 0\n",
      "saved Larry Miller 0\n",
      "saved Dan Condurache 0\n",
      "saved Élisabeth Bourgine 0\n",
      "saved Élisabeth Bourgine 1\n",
      "saved Élisabeth Bourgine 2\n",
      "saved Jimmy Nail 0\n",
      "saved Jimmy Nail 1\n",
      "saved Shirley Kwan Suk-Yi 0\n",
      "saved David Conrad 0\n",
      "saved Peter Youngblood Hills 0\n",
      "saved Piyush Mishra 0\n",
      "saved Jeryl Prescott 0\n",
      "saved Jeryl Prescott 1\n",
      "saved Jeryl Prescott 2\n",
      "saved Zeki Alpan 0\n",
      "saved Ian Somerhalder 0\n",
      "saved Ian Somerhalder 1\n",
      "saved Marcel Iureș 0\n",
      "saved Marcel Iureș 1\n",
      "saved Marcel Iureș 2\n",
      "saved Danny McBride 0\n",
      "saved Danny McBride 1\n",
      "failed for Danny McBride - 1\n",
      "saved John Paul Tremblay 0\n",
      "saved Charlene McKenna 0\n",
      "saved Charlene McKenna 1\n",
      "saved Craig Hall 0\n",
      "saved Leticia Dolera 0\n",
      "failed for Dillon Freasier - 0\n",
      "saved Lily James 0\n",
      "saved Lily James 1\n",
      "saved Lily James 2\n",
      "saved Monique Spaziani 0\n",
      "saved Vanessa Kirby 0\n",
      "saved Vanessa Kirby 1\n",
      "saved Vanessa Kirby 2\n",
      "saved Matt Braunger 0\n",
      "saved Mime Gopi 0\n",
      "saved Dakota Johnson 0\n",
      "saved Dakota Johnson 1\n",
      "saved Dakota Johnson 2\n",
      "failed for Dakota Johnson - 2\n",
      "saved Alicia von Rittberg 0\n",
      "saved Alicia von Rittberg 1\n",
      "saved Alicia von Rittberg 2\n",
      "saved Barry Ward 0\n",
      "saved Guy Berryman 0\n",
      "saved Ann B. Davis 0\n",
      "saved Ann B. Davis 1\n",
      "saved Adele Mara 0\n",
      "saved Margaret Hayes 0\n",
      "saved Vasili Merkuryev 0\n",
      "saved Clark Howat 0\n",
      "saved Aviva Baumann 0\n",
      "saved Aimée Eccles 0\n",
      "saved Tatsuya Mihashi 0\n",
      "saved Lou Taylor Pucci 0\n",
      "saved Tyne Daly 0\n",
      "saved Susan Dey 0\n",
      "saved Susan Dey 1\n",
      "saved Susan Dey 2\n",
      "saved Shane McDermott 0\n",
      "saved Jean Bousquet 0\n",
      "failed for Susanna Mekhraliyeva - 0\n",
      "saved Daniel London 0\n",
      "saved Cyril Shaps 0\n",
      "saved Anna Popplewell 0\n",
      "saved Anna Popplewell 1\n",
      "saved Vahide Perçin 0\n",
      "saved Ian Mercer 0\n",
      "saved Naga Chaitanya Akkineni 0\n",
      "saved Elizabeth Debicki 0\n",
      "saved Elizabeth Debicki 1\n",
      "saved Elizabeth Debicki 2\n",
      "saved Kirti Kulhari 0\n",
      "saved Kirti Kulhari 1\n",
      "saved Kirti Kulhari 2\n",
      "saved Angeli Bayani 0\n",
      "failed for Angeli Bayani - 0\n",
      "saved Eva Braun 0\n",
      "saved Melanie Liburd 0\n",
      "saved Melanie Liburd 1\n",
      "saved Melanie Liburd 2\n",
      "saved Amitabh Reza Chowdhury 0\n",
      "saved Amitabh Reza Chowdhury 1\n",
      "saved Verónica Echegui 0\n",
      "saved Verónica Echegui 1\n",
      "saved Anne Meara 0\n",
      "saved James Brolin 0\n",
      "saved Mae Barnes 0\n",
      "saved Bryan Forbes 0\n",
      "saved Peter Brocco 0\n",
      "saved Paul Petersen 0\n",
      "saved Paul Petersen 1\n",
      "saved Jennifer Billingsley 0\n",
      "saved Jill Haworth 0\n",
      "saved Martine Kelly 0\n",
      "saved Cheryl Hall 0\n",
      "saved Olga Ostroumova 0\n",
      "saved Florence Stanley 0\n",
      "saved John Cusack 0\n",
      "saved John Cusack 1\n",
      "saved John Cusack 2\n",
      "failed for Michael Podchlebnik - 2\n",
      "saved Barry Pepper 0\n",
      "saved Barry Pepper 1\n",
      "saved Linda Porter 0\n",
      "saved Chad Donella 0\n",
      "saved Nikos Fermas 0\n",
      "saved Amrita Rao 0\n",
      "saved Amrita Rao 1\n",
      "saved Amrita Rao 2\n",
      "saved Ralph Misske 0\n",
      "saved Amy Poehler 0\n",
      "saved Amy Poehler 1\n",
      "saved Amy Poehler 2\n",
      "saved Matthew Marsden 0\n",
      "saved Kida Khodr Ramadan 0\n",
      "saved Kida Khodr Ramadan 1\n",
      "saved Vladimir Lenin 0\n",
      "failed for Vladimir Lenin - 0\n",
      "saved Jose Miguel Vasquez 0\n",
      "failed for Jose Miguel Vasquez - 0\n",
      "saved Alex Hibbert 0\n",
      "saved Olan Prenatt 0\n",
      "failed for Olan Prenatt - 0\n",
      "saved Meredith Hagner 0\n",
      "saved Meredith Hagner 1\n",
      "saved Meredith Hagner 2\n",
      "saved Giovanna Galletti 0\n",
      "saved Giovanna Galletti 1\n",
      "saved Giovanna Galletti 2\n",
      "failed for Giovanna Galletti - 2\n",
      "saved Jeanette MacDonald 0\n",
      "saved Jeanette MacDonald 1\n",
      "saved Jeanette MacDonald 2\n",
      "saved Remo De Angelis 0\n",
      "saved Donald MacBride 0\n",
      "saved Donald MacBride 1\n",
      "saved Georg Rydeberg 0\n",
      "saved Gustavo De Nardo 0\n",
      "saved Jan Merlin 0\n",
      "saved John Ritter 0\n",
      "saved John Ritter 1\n",
      "saved Stephen McHattie 0\n",
      "saved Stephen McHattie 1\n",
      "saved Kathleen Quinlan 0\n",
      "saved Kathleen Quinlan 1\n",
      "saved Kathleen Quinlan 2\n",
      "saved Loretta Devine 0\n",
      "saved Janet Julian 0\n",
      "saved Christina Applegate 0\n",
      "saved Christina Applegate 1\n",
      "saved Christina Applegate 2\n",
      "saved Mariann Aalda 0\n",
      "saved Matt Ross 0\n",
      "saved Nicky Katt 0\n",
      "saved Nicky Katt 1\n",
      "saved Liam Aiken 0\n",
      "saved Talat Gözbak 0\n",
      "failed for Talat Gözbak - 0\n",
      "saved Dar Salim 0\n",
      "saved Maria Bakalova 0\n",
      "saved Maria Bakalova 1\n",
      "saved Elisabeth Duda 0\n",
      "saved Frank Hvam 0\n",
      "saved Frank Hvam 1\n",
      "saved Reuben Uy 0\n",
      "saved Shane Bourne 0\n",
      "saved Chani Martín 0\n",
      "saved Irving Pichel 0\n",
      "saved Irving Pichel 1\n",
      "saved Frederick Stafford 0\n",
      "saved Yaşar Şener 0\n",
      "saved Aleksey Batalov 0\n",
      "saved Mary Duncan 0\n",
      "saved Michael Chaplin 0\n",
      "failed for Michael Chaplin - 0\n",
      "saved Gavin Muir 0\n",
      "saved Verna Bloom 0\n",
      "saved Eric Sykes 0\n",
      "saved Antonio Ferrandis 0\n",
      "failed for Ivan Savkin - 0\n",
      "saved James Doohan 0\n",
      "saved A.K. Hangal 0\n",
      "saved David Clennon 0\n",
      "saved Charles Cyphers 0\n",
      "saved Katharina Thalbach 0\n",
      "saved Katharina Thalbach 1\n",
      "saved Daniel Stern 0\n",
      "saved Daniel Stern 1\n",
      "saved Daniel Stern 2\n",
      "saved Sela Ward 0\n",
      "saved Sela Ward 1\n",
      "saved Sela Ward 2\n",
      "saved Bruce Willis 0\n",
      "saved Bruce Willis 1\n",
      "saved Bruce Willis 2\n",
      "saved Maggie Han 0\n",
      "saved Jason Patric 0\n",
      "saved Doug Bradley 0\n",
      "saved Doug Bradley 1\n",
      "saved Nobu Kanaoka 0\n",
      "saved Terri Treas 0\n",
      "saved Terri Treas 1\n",
      "saved Suresh Oberoi 0\n",
      "saved Maia Morgenstern 0\n",
      "saved Brendan Fraser 0\n",
      "saved Brendan Fraser 1\n",
      "saved Brendan Fraser 2\n",
      "saved Joey Lauren Adams 0\n",
      "saved Robert Pugh 0\n",
      "saved Sibylle Canonica 0\n",
      "saved Emily Woof 0\n",
      "saved Inna Makarova 0\n",
      "saved Will Estes 0\n",
      "saved Émilie Dequenne 0\n",
      "failed for Émilie Dequenne - 0\n",
      "saved Aleksandr Dyachenko 0\n",
      "saved Paul Schulze 0\n",
      "failed for Paul Schulze - 0\n",
      "saved Phillip Glasser 0\n",
      "saved Jonathan Loughran 0\n",
      "saved Francis Renaud 0\n",
      "saved Alex Reid 0\n",
      "saved Keke Palmer 0\n",
      "saved Kunchacko Boban 0\n",
      "saved Kunchacko Boban 1\n",
      "saved Kunchacko Boban 2\n",
      "saved Sébastien Huberdeau 0\n",
      "saved Dylan Kenin 0\n",
      "saved Dylan Minnette 0\n",
      "saved Beth Goddard 0\n",
      "saved Chris Grabher 0\n",
      "failed for Chris Grabher - 0\n",
      "saved Rishab Shetty 0\n",
      "saved Ian Kenny 0\n",
      "saved Harry Greenwood 0\n",
      "saved Millie Bobby Brown 0\n",
      "saved Millie Bobby Brown 1\n",
      "saved Millie Bobby Brown 2\n",
      "failed for Millie Bobby Brown - 2\n",
      "saved Ronald Hines 0\n",
      "saved Ronald Hines 1\n",
      "saved Víctor Manuel Mendoza 0\n",
      "saved Kyôko Izumi 0\n",
      "saved Kyôko Izumi 1\n",
      "saved Merle Oberon 0\n",
      "saved Merle Oberon 1\n",
      "saved Dorothy Alison 0\n",
      "saved Märta Arbin 0\n",
      "saved Audrey Dalton 0\n",
      "saved Audrey Dalton 1\n",
      "saved Harriet Andersson 0\n",
      "saved Harriet Andersson 1\n",
      "saved Gert Fröbe 0\n",
      "saved Gert Fröbe 1\n",
      "saved Gert Fröbe 2\n",
      "failed for Gert Fröbe - 2\n",
      "saved Buck Henry 0\n",
      "saved Buck Henry 1\n",
      "saved Jean Hale 0\n",
      "saved Bobby Van 0\n",
      "saved Elizabeth Allen 0\n",
      "saved Kyrre Haugen Sydness 0\n",
      "saved Gabriella Giorgelli 0\n",
      "saved William Sylvester 0\n",
      "saved William Sylvester 1\n",
      "saved Jim Backus 0\n",
      "saved Jim Backus 1\n",
      "failed for Jim Backus - 1\n",
      "saved Mikael Persbrandt 0\n",
      "saved Jay Robinson 0\n",
      "saved Anitra Ford 0\n",
      "saved Daigo Kusano 0\n",
      "saved Bo Brundin 0\n",
      "saved John Cromwell 0\n",
      "saved Diana Scarwid 0\n",
      "saved Dana Gillespie 0\n",
      "saved Cassandra Harris 0\n",
      "saved Barbara Burska 0\n",
      "saved Barbara Burska 1\n",
      "saved Barbara Burska 2\n",
      "saved Fernando Torres 0\n",
      "saved Michael Lombard 0\n",
      "saved Michael Lombard 1\n",
      "failed for Michael Lombard - 1\n",
      "saved Jamie Bozian 0\n",
      "saved Waise Lee 0\n",
      "saved Waise Lee 1\n",
      "saved Waise Lee 2\n",
      "saved Irène Jacob 0\n",
      "saved Irène Jacob 1\n",
      "saved Irène Jacob 2\n",
      "saved Pam Ferris 0\n",
      "saved Samy Naceri 0\n",
      "saved Manuel Morón 0\n",
      "failed for Manuel Morón - 0\n",
      "saved Paul Spence 0\n",
      "saved Darcy Fehr 0\n",
      "saved Aleksey Serebryakov 0\n",
      "failed for Micaela Nevárez - 0\n",
      "saved David Harbour 0\n",
      "saved Anthony Reynolds 0\n",
      "saved Rhys Darby 0\n",
      "saved Manuela Vellés 0\n",
      "saved Manuela Vellés 1\n",
      "failed for Hannah Sharp - 1\n",
      "failed for Hannah Sharp - 1\n",
      "saved Forrest Goodluck 0\n",
      "saved Forrest Goodluck 1\n",
      "saved Forrest Goodluck 2\n",
      "saved Jacque Fresco 0\n",
      "saved Hana Mae Lee 0\n",
      "saved Kwon Yul 0\n",
      "saved Chester Bennington 0\n",
      "saved Chester Bennington 1\n",
      "saved Chester Bennington 2\n",
      "saved Elizabeth Olsen 0\n",
      "saved Elizabeth Olsen 1\n",
      "saved Elizabeth Olsen 2\n",
      "saved Danny Lloyd 0\n",
      "saved Danny Lloyd 1\n",
      "saved Danny Lloyd 2\n",
      "saved Allyn Rachel 0\n",
      "saved Charles Baker 0\n",
      "saved Ken Duken 0\n",
      "saved Malcolm Waite 0\n",
      "saved Susan Oliver 0\n",
      "saved Susan Oliver 1\n",
      "saved Tatyana Konyukhova 0\n",
      "saved Vladimir Balashov 0\n",
      "saved Billie Whitelaw 0\n",
      "saved Ron Wood 0\n",
      "saved Anna Maria Alberghetti 0\n",
      "saved Anna Maria Alberghetti 1\n",
      "saved Youssef Chahine 0\n",
      "saved Youssef Chahine 1\n",
      "saved Youssef Chahine 2\n",
      "saved Lee Wan-Chung 0\n",
      "saved Joby Baker 0\n",
      "saved Art Hindle 0\n",
      "saved Mikhail Bychkov 0\n",
      "saved Brad Dourif 0\n",
      "saved Brad Dourif 1\n",
      "saved Brad Dourif 2\n",
      "saved Bolaji Badejo 0\n",
      "saved Jean Poiret 0\n",
      "saved Jean Poiret 1\n",
      "saved Jean Poiret 2\n",
      "saved Kim Zimmer 0\n",
      "saved Ed Herlihy 0\n",
      "saved Nick Cassavetes 0\n",
      "saved Nick Cassavetes 1\n",
      "saved Nick Cassavetes 2\n",
      "failed for Nick Cassavetes - 2\n",
      "saved Ellen McElduff 0\n",
      "saved Yasuaki Kurata 0\n",
      "saved Yasuaki Kurata 1\n",
      "saved Julia Rayner 0\n",
      "saved Julia Rayner 1\n",
      "saved Julia Rayner 2\n",
      "saved Michael Mendl 0\n",
      "failed for Michael Mendl - 0\n",
      "saved Michael McElhatton 0\n",
      "saved Hiam Abbass 0\n",
      "saved Hiam Abbass 1\n",
      "saved Hiam Abbass 2\n",
      "saved James Corden 0\n",
      "saved James Corden 1\n",
      "failed for James Corden - 1\n",
      "saved Paula Beer 0\n",
      "saved Paula Beer 1\n",
      "saved Paula Beer 2\n",
      "saved Atila Pesyani 0\n",
      "saved Bruce Cabot 0\n",
      "saved Jon Pertwee 0\n",
      "saved Edward Judd 0\n",
      "saved Ken Scott 0\n",
      "saved Clem Bevans 0\n",
      "saved Mario Cabré 0\n",
      "saved Niké Arrighi 0\n",
      "saved Bonita Granville 0\n",
      "saved Denholm Elliott 0\n",
      "saved Denholm Elliott 1\n",
      "saved Denholm Elliott 2\n",
      "saved Chris Hemsworth 0\n",
      "saved Chris Hemsworth 1\n",
      "saved Chris Hemsworth 2\n",
      "saved Nadira 0\n",
      "saved Paul Koslo 0\n",
      "saved Susan Tyrrell 0\n",
      "saved Susan Tyrrell 1\n",
      "saved David Huffman 0\n",
      "failed for David Huffman - 0\n",
      "saved Nick Stringer 0\n",
      "saved Leslie Ackerman 0\n",
      "failed for Leslie Ackerman - 0\n",
      "saved Laurie Bartram 0\n",
      "saved Bill Quinn 0\n",
      "saved Bill Quinn 1\n",
      "saved Peter MacNicol 0\n",
      "saved Patrick Bouchitey 0\n",
      "saved Rafaela Aparicio 0\n",
      "saved Miguel Ferrer 0\n",
      "saved Károly Eperjes 0\n",
      "saved Cynthia Rhodes 0\n",
      "saved Cynthia Rhodes 1\n",
      "failed for Cynthia Rhodes - 1\n",
      "saved Susan Blommaert 0\n",
      "saved Samantha Mathis 0\n",
      "saved Samantha Mathis 1\n",
      "saved Patrick Breen 0\n",
      "saved Patrick Breen 1\n",
      "saved Patrick Breen 2\n",
      "saved Michael Bacall 0\n",
      "saved John Hannah 0\n",
      "saved John Hannah 1\n",
      "saved Rena Owen 0\n",
      "saved Rena Owen 1\n",
      "saved Geraldine O'Rawe 0\n",
      "saved Sun Chun 0\n",
      "saved Toby Huss 0\n",
      "saved Rachel Weisz 0\n",
      "saved Rachel Weisz 1\n",
      "saved Rachel Weisz 2\n",
      "failed for Rachel Weisz - 2\n",
      "saved Selma Blair 0\n",
      "saved Selma Blair 1\n",
      "saved Selma Blair 2\n",
      "failed for Selma Blair - 2\n",
      "saved Connie Ray 0\n",
      "failed for Samir Soni - 0\n",
      "saved Srihari 0\n",
      "saved Kristen Schaal 0\n",
      "saved Kristen Schaal 1\n",
      "saved Kristen Schaal 2\n",
      "saved Kalpana 0\n",
      "failed for Jerome Burne - 0\n",
      "failed for Jerome Burne - 0\n",
      "saved Thomas Mann 0\n",
      "saved Thomas Mann 1\n",
      "failed for Thomas Mann - 1\n",
      "saved Denzil Smith 0\n",
      "failed for Denzil Smith - 0\n",
      "failed for Denzil Smith - 0\n",
      "failed for Denzil Smith - 0\n",
      "failed for Denzil Smith - 0\n",
      "saved Maya Kelly 0\n",
      "failed for Maya Kelly - 0\n",
      "saved Johan Heldenbergh 0\n",
      "saved Josephine Whittell 0\n",
      "failed for Josephine Whittell - 0\n",
      "saved Gladys George 0\n",
      "saved Gladys George 1\n",
      "saved David Gulpilil 0\n",
      "saved David Gulpilil 1\n",
      "saved Miguel Fernandes 0\n",
      "saved Chris Lemmon 0\n",
      "saved Sarah Jessica Parker 0\n",
      "saved Sarah Jessica Parker 1\n",
      "saved Sarah Jessica Parker 2\n",
      "saved Leonard Termo 0\n",
      "saved Sverre Anker Ousdal 0\n",
      "saved Gregg Edelman 0\n",
      "saved Ross McCall 0\n",
      "saved Semyon Strugachyov 0\n",
      "saved Eero Aho 0\n",
      "saved Alex Corrado 0\n",
      "saved Christian Sinniger 0\n",
      "saved Ravi Ramos Lacerda 0\n",
      "saved Odysseas Papaspiliopoulos 0\n",
      "saved Stephanie Kurtzuba 0\n",
      "saved Stephanie Kurtzuba 1\n",
      "saved Stephanie Kurtzuba 2\n",
      "saved Nicole Grimaudo 0\n",
      "saved Geno Lechner 0\n",
      "saved James Landry Hébert 0\n",
      "saved Roger Dale Floyd 0\n",
      "saved Věra Tichánková 0\n",
      "saved Kurt Kreuger 0\n",
      "saved Anna Karina 0\n",
      "saved Anna Karina 1\n",
      "saved Anna Karina 2\n",
      "saved Colette Divine 0\n",
      "saved Robert Ivers 0\n",
      "saved Herbert Lom 0\n",
      "saved Herbert Lom 1\n",
      "saved Herbert Lom 2\n",
      "saved Reginald Beckwith 0\n",
      "saved Sue Lyon 0\n",
      "saved Sue Lyon 1\n",
      "saved Sue Lyon 2\n",
      "saved Bobs Watson 0\n",
      "saved Benny Baker 0\n",
      "saved Marina Vlady 0\n",
      "saved Marina Vlady 1\n",
      "saved Marina Vlady 2\n",
      "saved Shabana Azmi 0\n",
      "saved Shabana Azmi 1\n",
      "saved Shabana Azmi 2\n",
      "saved Sabine Glaser 0\n",
      "saved George Dzundza 0\n",
      "saved Jonathan Banks 0\n",
      "saved Audrie Neenan 0\n",
      "saved Audrie Neenan 1\n",
      "saved Audrie Neenan 2\n",
      "saved Tim Roth 0\n",
      "saved Tim Roth 1\n",
      "saved Tim Roth 2\n",
      "saved Malik Yoba 0\n",
      "saved Taungaroa Emile 0\n",
      "saved Mehmet Günsür 0\n",
      "saved Mehmet Günsür 1\n",
      "saved Javier Cámara 0\n",
      "saved Rob Brownstein 0\n",
      "saved Rebecka Liljeberg 0\n",
      "failed for Irene Visedo - 0\n",
      "failed for Irene Visedo - 0\n",
      "saved Justin Randell Brooke 0\n",
      "saved Justin Randell Brooke 1\n",
      "saved Mario Valdemarin 0\n",
      "saved Gertrude Welcker 0\n",
      "saved Gertrude Welcker 1\n",
      "saved Liv Ullmann 0\n",
      "saved Liv Ullmann 1\n",
      "saved Liv Ullmann 2\n",
      "saved Renato Salvatori 0\n",
      "saved Renato Salvatori 1\n",
      "saved Renato Salvatori 2\n",
      "saved Peter Willes 0\n",
      "saved Kent Taylor 0\n",
      "saved Lee Marvin 0\n",
      "saved Lee Marvin 1\n",
      "saved Lee Marvin 2\n",
      "saved Doris Lloyd 0\n",
      "saved David Margulies 0\n",
      "saved Tom Burlinson 0\n",
      "saved Alan Ruck 0\n",
      "saved Alice Playten 0\n",
      "saved Michael Kitchen 0\n",
      "saved Stanislas Carré de Malberg 0\n",
      "saved Nikolai Karachentsov 0\n",
      "saved Nikolai Karachentsov 1\n",
      "saved Nikolai Karachentsov 2\n",
      "saved Luminița Gheorghiu 0\n",
      "failed for Bonnie Fu - 0\n",
      "saved Jada Pinkett Smith 0\n",
      "saved Jada Pinkett Smith 1\n",
      "saved Jada Pinkett Smith 2\n",
      "saved Cezary Harasimowicz 0\n",
      "saved Roseanne Barr 0\n",
      "saved Linda Bassett 0\n",
      "saved Johan Widerberg 0\n",
      "failed for Kathleen Noone - 0\n",
      "saved McNally Sagal 0\n",
      "saved Zooey Deschanel 0\n",
      "saved Zooey Deschanel 1\n",
      "saved Zooey Deschanel 2\n",
      "saved Dragan Jovanović 0\n",
      "saved İlyas Salman 0\n",
      "saved İlyas Salman 1\n",
      "saved İlyas Salman 2\n",
      "saved Kristen Dalton 0\n",
      "saved Rachida Brakni 0\n",
      "saved Ivan Franěk 0\n",
      "saved Jaroslava Adamová 0\n",
      "saved Brahmaji 0\n",
      "saved Ritu Varma 0\n",
      "saved Ritu Varma 1\n",
      "saved Ritu Varma 2\n",
      "saved Alejandro Barrios 0\n",
      "saved Roger Narayan 0\n",
      "failed for Roger Narayan - 0\n",
      "saved Georgina Symes 0\n",
      "saved Eileen Brennan 0\n",
      "saved Eileen Brennan 1\n",
      "saved Monty Woolley 0\n",
      "saved Valentina Berezutskaya 0\n",
      "saved Mikhail Kuznetsov 0\n",
      "saved Vera Orlova 0\n",
      "saved Teresa Szmigielówna 0\n",
      "saved Peter Graves 0\n",
      "saved Peter Graves 1\n",
      "saved Christopher Jones 0\n",
      "saved K.N. Singh 0\n",
      "saved Jacques Herlin 0\n",
      "saved Harsh Chhaya 0\n",
      "failed for Harsh Chhaya - 0\n",
      "saved Richard Ward 0\n",
      "saved Borislav Brondukov 0\n",
      "saved Lyudmila Polyakova 0\n",
      "saved Nedra Volz 0\n",
      "saved Amanda Wyss 0\n",
      "saved Camille Saviola 0\n",
      "saved Mark Benton 0\n",
      "saved Kostas Koklas 0\n",
      "failed for Derek Hutchinson - 0\n",
      "saved Eric Mun 0\n",
      "saved Guillermo Francella 0\n",
      "saved Guillermo Francella 1\n",
      "saved Maksim Emelyanov 0\n",
      "failed for Dillon Mitra - 0\n",
      "saved Lili Reinhart 0\n",
      "saved Lili Reinhart 1\n",
      "saved Lili Reinhart 2\n",
      "saved Ella Jay Basco 0\n",
      "saved Ella Jay Basco 1\n",
      "failed for Ella Jay Basco - 1\n",
      "saved Lenita Lane 0\n",
      "failed for Lenita Lane - 0\n",
      "saved Tammy Blanchard 0\n",
      "failed for Tammy Blanchard - 0\n",
      "saved Joan Greenwood 0\n",
      "saved Ranko Hanai 0\n",
      "saved Georges Lannes 0\n",
      "saved Saira Banu 0\n",
      "saved Charles Farrell 0\n",
      "saved Gary Crosby 0\n",
      "saved Chuck Connors 0\n",
      "saved Haji 0\n",
      "saved Tovino Thomas 0\n",
      "saved Tovino Thomas 1\n",
      "saved Hugh Sanders 0\n",
      "saved Tommy Lee Jones 0\n",
      "saved Tommy Lee Jones 1\n",
      "saved Tommy Lee Jones 2\n",
      "failed for Tommy Lee Jones - 2\n",
      "saved Marjorie Weaver 0\n",
      "saved Tod Andrews 0\n",
      "saved Raymond Pellegrin 0\n",
      "saved Deborah McGuire 0\n",
      "saved Eva Kotamanidou 0\n",
      "saved Scott Baio 0\n",
      "saved Scott Baio 1\n",
      "saved Laura Nucci 0\n",
      "saved Laura Nucci 1\n",
      "saved Caroline Aaron 0\n",
      "saved Anna Romantowska 0\n",
      "failed for Anna Romantowska - 0\n",
      "saved Alison Eastwood 0\n",
      "saved Alison Eastwood 1\n",
      "saved Alison Eastwood 2\n",
      "saved Scott Kraft 0\n",
      "saved Griffin O'Neal 0\n",
      "saved Cora Miao 0\n",
      "saved Steve Buscemi 0\n",
      "saved Steve Buscemi 1\n",
      "saved Steve Buscemi 2\n",
      "saved John C. McGinley 0\n",
      "saved John C. McGinley 1\n",
      "saved John C. McGinley 2\n",
      "saved Samuel L. Jackson 0\n",
      "saved Samuel L. Jackson 1\n",
      "saved Samuel L. Jackson 2\n",
      "saved Daniel Baldwin 0\n",
      "failed for Daniel Baldwin - 0\n",
      "saved Jesse Borrego 0\n",
      "saved Jesse Borrego 1\n",
      "saved Isabelle Carré 0\n",
      "saved Isabelle Carré 1\n",
      "saved Isabelle Carré 2\n",
      "saved Barbora Hrzánová 0\n",
      "saved Gregory Jbara 0\n",
      "saved Gregory Jbara 1\n",
      "saved Salvador del Solar 0\n",
      "saved Amanda Detmer 0\n",
      "saved Jun Kunimura 0\n",
      "saved Jun Kunimura 1\n",
      "saved Jun Kunimura 2\n",
      "saved Kerry Washington 0\n",
      "saved Kerry Washington 1\n",
      "saved Kerry Washington 2\n",
      "saved Alison Pill 0\n",
      "saved Alison Pill 1\n",
      "saved Alison Pill 2\n",
      "saved Andrés Montiel 0\n",
      "saved Sonja Richter 0\n",
      "saved Vincent Regan 0\n",
      "saved Pat Buchanan 0\n",
      "saved Max Riemelt 0\n",
      "saved Max Riemelt 1\n",
      "saved Max Riemelt 2\n",
      "saved Amanda Tilson 0\n",
      "saved Sanya Malhotra 0\n",
      "saved Manuel Vignau 0\n",
      "failed for Manuel Vignau - 0\n",
      "saved Daniel Kaluuya 0\n",
      "saved Daniel Kaluuya 1\n",
      "saved Daniel Kaluuya 2\n",
      "saved Nishikant Kamat 0\n",
      "failed for Nishikant Kamat - 0\n",
      "saved Greta Gerwig 0\n",
      "saved Greta Gerwig 1\n",
      "saved Greta Gerwig 2\n",
      "saved Yuval Segal 0\n",
      "saved Allan Paule 0\n",
      "saved Ann Augustine 0\n",
      "saved Cynthy Wu 0\n",
      "saved Burl Ives 0\n",
      "saved Burl Ives 1\n",
      "failed for Burl Ives - 1\n",
      "saved Gerda Maurus 0\n",
      "saved Gerda Maurus 1\n",
      "saved Gerda Maurus 2\n",
      "saved George Eastman 0\n",
      "saved Leonard Strong 0\n",
      "saved Patrick Bauchau 0\n",
      "saved Colby Chester 0\n",
      "saved Tanya Roberts 0\n",
      "saved Tanya Roberts 1\n",
      "saved Tanya Roberts 2\n",
      "saved Marie Rivière 0\n",
      "saved Gina Hecht 0\n",
      "saved Jeff Daniels 0\n",
      "saved Jeff Daniels 1\n",
      "saved Ralph Brown 0\n",
      "failed for Jeremy Lawrence - 0\n",
      "saved Simon Bamford 0\n",
      "saved Catherine Samie 0\n",
      "failed for Catherine Samie - 0\n",
      "saved Nebojša Glogovac 0\n",
      "saved Nebojša Glogovac 1\n",
      "saved Ali Sunal 0\n",
      "saved Ali Sunal 1\n",
      "saved Melonie Diaz 0\n",
      "saved Moussa Maaskri 0\n",
      "saved Pete Tong 0\n",
      "saved Rory Kinnear 0\n",
      "saved Rory Kinnear 1\n",
      "saved Tiler Peck 0\n",
      "saved Rusty Joiner 0\n",
      "saved Rusty Joiner 1\n",
      "saved Tina Desai 0\n",
      "saved Tina Desai 1\n",
      "failed for Tina Desai - 1\n",
      "saved Vica Kerekes 0\n",
      "saved Vica Kerekes 1\n",
      "saved Vica Kerekes 2\n",
      "saved Karoline Schuch 0\n",
      "saved Smruthi Venkat 0\n",
      "saved Smruthi Venkat 1\n",
      "saved Peter Vaughan 0\n",
      "saved Peter Vaughan 1\n",
      "saved Maurice Barrier 0\n",
      "saved Maurice Barrier 1\n",
      "saved Robert Ayres 0\n",
      "saved Mickey Knox 0\n",
      "saved Erik Rhodes 0\n",
      "failed for Erik Rhodes - 0\n",
      "saved Osamu Takizawa 0\n",
      "saved Christine Kaufmann 0\n",
      "saved Christine Kaufmann 1\n",
      "saved Christine Kaufmann 2\n",
      "saved Gérard Buhr 0\n",
      "saved Jimmy Lydon 0\n",
      "saved Jimmy Lydon 1\n",
      "saved Mai Zetterling 0\n",
      "saved Mai Zetterling 1\n",
      "saved Leo McKern 0\n",
      "saved Adeel Akhtar 0\n",
      "saved Adeel Akhtar 1\n",
      "saved Adeel Akhtar 2\n",
      "saved D'Urville Martin 0\n",
      "saved D'Urville Martin 1\n",
      "saved Marian Waldman 0\n",
      "saved Marian Waldman 1\n",
      "failed for Marian Waldman - 1\n",
      "saved Gail Strickland 0\n",
      "saved Melanie Griffith 0\n",
      "saved Melanie Griffith 1\n",
      "saved Melanie Griffith 2\n",
      "saved Sid Vicious 0\n",
      "saved Eva Maria Meineke 0\n",
      "saved Kate Jackson 0\n",
      "saved Kate Jackson 1\n",
      "saved Tony Plana 0\n",
      "saved Lesley Ann Warren 0\n",
      "saved Lesley Ann Warren 1\n",
      "saved Lesley Ann Warren 2\n",
      "failed for Lesley Ann Warren - 2\n",
      "saved Ticky Holgado 0\n",
      "saved Rodney Harvey 0\n",
      "saved Ricki Lake 0\n",
      "saved Maribel Verdú 0\n",
      "saved Maribel Verdú 1\n",
      "saved Maribel Verdú 2\n",
      "failed for Maribel Verdú - 2\n",
      "failed for Maribel Verdú - 2\n",
      "saved Miguel Sandoval 0\n",
      "saved Henry Hübchen 0\n",
      "saved Henry Hübchen 1\n",
      "saved Reinhard Nowak 0\n",
      "saved Sharon Small 0\n",
      "saved Àlex Brendemühl 0\n",
      "saved Soha Ali Khan 0\n",
      "saved Soha Ali Khan 1\n",
      "saved Douglas Reith 0\n",
      "saved T.V. Carpio 0\n",
      "saved T.V. Carpio 1\n",
      "saved Jordi Dauder 0\n",
      "saved Anjela Nedyalkova 0\n",
      "saved Anjela Nedyalkova 1\n",
      "saved Anjela Nedyalkova 2\n",
      "saved Wang Fuli 0\n",
      "failed for Wang Fuli - 0\n",
      "saved Keene McRae 0\n",
      "saved Hande Soral 0\n",
      "saved Hande Soral 1\n",
      "failed for Hande Soral - 1\n",
      "saved Amanda Seyfried 0\n",
      "saved Amanda Seyfried 1\n",
      "saved Amanda Seyfried 2\n",
      "saved Dimiter D. Marinov 0\n",
      "saved Dimiter D. Marinov 1\n",
      "failed for Dimiter D. Marinov - 1\n",
      "failed for Dimiter D. Marinov - 1\n",
      "saved Kim Seok-jin 0\n",
      "saved Kim Seok-jin 1\n",
      "saved Frank Thring 0\n",
      "saved Van Heflin 0\n",
      "saved Art Ellison 0\n",
      "failed for Art Ellison - 0\n",
      "saved Francesca Annis 0\n",
      "saved Michèle Morgan 0\n",
      "saved Al Freeman, Jr. 0\n",
      "saved Fernand Ledoux 0\n",
      "saved Nancy Kelly 0\n",
      "saved Nancy Kelly 1\n",
      "saved Kenneth More 0\n",
      "saved Charles Halton 0\n",
      "saved Christopher Fitzgerald 0\n",
      "saved Marilù Tolo 0\n",
      "saved Lee de Broux 0\n",
      "saved Leni Lynn 0\n",
      "saved Megs Jenkins 0\n",
      "saved Megs Jenkins 1\n",
      "saved Warren William 0\n",
      "saved Wally Albright 0\n",
      "saved Marlene Clark 0\n",
      "saved Gösta Ekman 0\n",
      "saved Gösta Ekman 1\n",
      "saved Deborah Raffin 0\n",
      "saved Deborah Raffin 1\n",
      "saved Deborah Raffin 2\n",
      "saved Mark Harmon 0\n",
      "failed for Mark Harmon - 0\n",
      "saved Chris Mulkey 0\n",
      "saved Chris Mulkey 1\n",
      "saved Duncan Regehr 0\n",
      "saved Richard E. Grant 0\n",
      "saved Birgitte Söndergaard 0\n",
      "failed for Birgitte Söndergaard - 0\n",
      "saved \"Weird Al\" Yankovic 0\n",
      "saved Martin Lawrence 0\n",
      "saved Martin Lawrence 1\n",
      "saved Martin Lawrence 2\n",
      "saved Timothy Spall 0\n",
      "saved Timothy Spall 1\n",
      "saved David Longworth 0\n",
      "saved Jane March 0\n",
      "saved Christopher Eccleston 0\n",
      "saved Florence Pernel 0\n",
      "saved Minnie Driver 0\n",
      "failed for Minnie Driver - 0\n",
      "saved Takashi Kashiwabara 0\n",
      "saved Lyle Lovett 0\n",
      "saved Lyle Lovett 1\n",
      "saved Lyle Lovett 2\n",
      "saved Carrie Aizley 0\n",
      "saved Carrie Aizley 1\n",
      "saved Lev Eliseev 0\n",
      "saved Mélanie Laurent 0\n",
      "saved Mélanie Laurent 1\n",
      "saved Mélanie Laurent 2\n",
      "saved Karl Urban 0\n",
      "saved Karl Urban 1\n",
      "saved Karl Urban 2\n",
      "saved Aleksandr Baluev 0\n",
      "saved Joaquín Cosío 0\n",
      "saved Jung Ryeo-won 0\n",
      "saved Jung Ryeo-won 1\n",
      "saved Jung Ryeo-won 2\n",
      "saved Phife Dawg 0\n",
      "failed for Tara Lynne Barr - 0\n",
      "saved María Marull 0\n",
      "failed for María Marull - 0\n",
      "failed for María Marull - 0\n",
      "saved Gregório Duvivier 0\n",
      "saved Gregório Duvivier 1\n",
      "saved Gregório Duvivier 2\n",
      "saved Adamo Dionisi 0\n",
      "saved Martha Issová 0\n",
      "saved Martha Issová 1\n",
      "saved Martha Issová 2\n",
      "saved Gustav von Seyffertitz 0\n",
      "saved Del Moore 0\n",
      "saved Marvin Kaplan 0\n",
      "saved Sig Ruman 0\n",
      "saved Grant Taylor 0\n",
      "saved Alec Craig 0\n",
      "saved Adriano Domínguez 0\n",
      "saved Frances Dee 0\n",
      "saved Frances Dee 1\n",
      "saved Viveca Lindfors 0\n",
      "saved Viveca Lindfors 1\n",
      "saved Naveen Polishetty 0\n",
      "saved Frank Sutton 0\n",
      "saved Lionel Atwill 0\n",
      "saved Lionel Atwill 1\n",
      "saved Leola Wendorff 0\n",
      "saved Jimmi Simpson 0\n",
      "saved Jimmi Simpson 1\n",
      "saved Jimmi Simpson 2\n",
      "saved Charles Millot 0\n",
      "saved Petula Clark 0\n",
      "saved Donna Anderson 0\n",
      "saved Rory Mallinson 0\n",
      "saved Nicky Blair 0\n",
      "saved David Butler 0\n",
      "saved Gladys Hurlbut 0\n",
      "saved Jane Adams 0\n",
      "saved Ronald Lacey 0\n",
      "saved Charlotte Rampling 0\n",
      "saved Charlotte Rampling 1\n",
      "saved Charlotte Rampling 2\n",
      "saved Sheila Frazier 0\n",
      "saved Henri Guybet 0\n",
      "saved Michael Cavanaugh 0\n",
      "saved Scott Grimes 0\n",
      "saved Keith Szarabajka 0\n",
      "saved Sarah Polley 0\n",
      "saved Sarah Polley 1\n",
      "saved Hossain Sabzian 0\n",
      "saved Jeremy Sisto 0\n",
      "saved Jeremy Sisto 1\n",
      "saved Michael Chapman 0\n",
      "saved Serap Aksoy 0\n",
      "saved Gary Lewis 0\n",
      "saved Gary Lewis 1\n",
      "saved Alberta Watson 0\n",
      "saved Nick Chinlund 0\n",
      "saved Casper Van Dien 0\n",
      "saved Casper Van Dien 1\n",
      "saved Casper Van Dien 2\n",
      "saved Blair Slater 0\n",
      "saved Murali 0\n",
      "saved Murali 1\n",
      "saved Sandra Oh 0\n",
      "saved Sandra Oh 1\n",
      "saved Sandra Oh 2\n",
      "saved Dejan Čukić 0\n",
      "saved Roger Dunn 0\n",
      "saved Lillias White 0\n",
      "failed for Rasmi Dzhabrailov - 0\n",
      "saved Kirin Kiki 0\n",
      "saved Kirin Kiki 1\n",
      "saved Gordon Lam 0\n",
      "saved Kate Yacula 0\n",
      "saved Kate Yacula 1\n",
      "saved Elise Schaap 0\n",
      "saved Jasper Newell 0\n",
      "saved James Badge Dale 0\n",
      "saved James Badge Dale 1\n",
      "failed for Shannon Leto - 1\n",
      "saved Quincy Tyler Bernstine 0\n",
      "failed for Quincy Tyler Bernstine - 0\n",
      "saved Ukee Washington 0\n",
      "failed for Ukee Washington - 0\n",
      "saved Maya Showlen 0\n",
      "saved Marc Evan Jackson 0\n",
      "saved Marc Evan Jackson 1\n",
      "saved Basil Radford 0\n",
      "saved Amara Miller 0\n",
      "saved George Walcott 0\n",
      "saved Akira Ôizumi 0\n",
      "saved John Cairney 0\n",
      "saved Barbara McNair 0\n",
      "saved Spring Byington 0\n",
      "saved Acquanetta 0\n",
      "saved Dandy Nichols 0\n",
      "saved Edmund Breese 0\n",
      "saved Viviane Romance 0\n",
      "saved Viviane Romance 1\n",
      "saved Viviane Romance 2\n",
      "saved Peter Madden 0\n",
      "saved Davy Jones 0\n",
      "saved Russell Collins 0\n",
      "saved Barbara Babcock 0\n",
      "saved Kurt Meisel 0\n",
      "saved Vonetta McGee 0\n",
      "saved Susan Ursitti 0\n",
      "failed for Susan Ursitti - 0\n",
      "saved Wang Chuan 0\n",
      "saved Mo Gaffney 0\n",
      "saved Sean Whalen 0\n",
      "saved Sean Whalen 1\n",
      "saved Sean Whalen 2\n",
      "saved Sean Pertwee 0\n",
      "saved Darrell Larson 0\n",
      "saved Indra Ové 0\n",
      "saved Juliet Aubrey 0\n",
      "saved Daniel Radcliffe 0\n",
      "saved Daniel Radcliffe 1\n",
      "saved Daniel Radcliffe 2\n",
      "saved Yetkin Dikinciler 0\n",
      "saved Ika Nord 0\n",
      "saved Rashida Jones 0\n",
      "saved Rashida Jones 1\n",
      "failed for Rashida Jones - 1\n",
      "failed for Rashida Jones - 1\n",
      "saved Lin Ching-Tai 0\n",
      "saved Lily Pearl 0\n",
      "saved Andrzej Mastalerz 0\n",
      "saved Frank Black 0\n",
      "saved Yograj Singh 0\n",
      "saved Jackie Stewart 0\n",
      "saved Jackie Stewart 1\n",
      "saved Öykü Karayel 0\n",
      "saved Jessie T. Usher 0\n",
      "saved Jessie T. Usher 1\n",
      "saved Jessie T. Usher 2\n",
      "saved Swann Arlaud 0\n",
      "failed for Swann Arlaud - 0\n",
      "failed for Swann Arlaud - 0\n",
      "failed for Swann Arlaud - 0\n",
      "failed for Swann Arlaud - 0\n",
      "failed for Swann Arlaud - 0\n",
      "saved Sree Vishnu 0\n",
      "saved Yvonne De Carlo 0\n",
      "saved Yvonne De Carlo 1\n",
      "saved Nikolay Grinko 0\n",
      "saved Nikolay Grinko 1\n",
      "saved Charles Boyer 0\n",
      "saved Charles Boyer 1\n",
      "saved Emily Blunt 0\n",
      "saved Emily Blunt 1\n",
      "saved Emily Blunt 2\n",
      "saved Judy Campbell 0\n",
      "saved Trevor Braun 0\n",
      "saved Bill Shine 0\n",
      "saved Kaoru Yachigusa 0\n",
      "saved Tatsuya Ishiguro 0\n",
      "saved Pierre Grasset 0\n",
      "saved Jane Daly 0\n",
      "saved Henry Wilcoxon 0\n",
      "saved Henry Wilcoxon 1\n",
      "saved Margaret Sullavan 0\n",
      "saved Houseley Stevenson 0\n",
      "saved Frank Albertson 0\n",
      "saved Arthur Lowe 0\n",
      "saved Helena Rojo 0\n",
      "saved Helena Rojo 1\n",
      "saved Bill Travers 0\n",
      "saved Troy Donahue 0\n",
      "saved Troy Donahue 1\n",
      "saved Carlo Palmucci 0\n",
      "saved Ratna Assan 0\n",
      "saved Carrie Fisher 0\n",
      "saved Carrie Fisher 1\n",
      "saved Carrie Fisher 2\n",
      "saved Eddy Mitchell 0\n",
      "saved Geena Davis 0\n",
      "saved Geena Davis 1\n",
      "saved Geena Davis 2\n",
      "saved John Ashton 0\n",
      "saved Michael Winslow 0\n",
      "saved Stephen Moore 0\n",
      "failed for Stephen Moore - 0\n",
      "saved Svetlana Smirnova 0\n",
      "saved Kerry Fox 0\n",
      "saved Angela Bassett 0\n",
      "saved Angela Bassett 1\n",
      "saved Angela Bassett 2\n",
      "saved Heidi Kling 0\n",
      "failed for Heidi Kling - 0\n",
      "saved Shah Rukh Khan 0\n",
      "saved Shah Rukh Khan 1\n",
      "saved Shah Rukh Khan 2\n",
      "saved Kathy Ireland 0\n",
      "saved Ren Osugi 0\n",
      "saved Ren Osugi 1\n",
      "saved Ren Osugi 2\n",
      "saved Michael Cudlitz 0\n",
      "saved Michael Cudlitz 1\n",
      "saved Michael Cudlitz 2\n",
      "saved Terence Harvey 0\n",
      "saved Ken Garito 0\n",
      "saved Arian Waring Ash 0\n",
      "saved José Coronado 0\n",
      "saved José Coronado 1\n",
      "saved Sanjay Narvekar 0\n",
      "saved Luigi Lo Cascio 0\n",
      "saved David Bowers 0\n",
      "saved Münir Özkul 0\n",
      "saved Münir Özkul 1\n",
      "saved Isabelle Blais 0\n",
      "saved Jan Lamb 0\n",
      "saved Vijay Sethupathi 0\n",
      "saved Ranbir Kapoor 0\n",
      "saved Ranbir Kapoor 1\n",
      "saved James Rawlings 0\n",
      "failed for James Rawlings - 0\n",
      "failed for James Rawlings - 0\n",
      "saved Agnieszka Dygant 0\n",
      "saved Cory Michael Smith 0\n",
      "saved Alexandru Papadopol 0\n",
      "saved Harshvardhan Rane 0\n",
      "saved Colin Woodell 0\n",
      "saved Colin Woodell 1\n",
      "saved Colin Woodell 2\n",
      "failed for Colin Woodell - 2\n",
      "failed for Colin Woodell - 2\n",
      "saved Andy Griffith 0\n",
      "saved Andy Griffith 1\n",
      "saved Andy Griffith 2\n",
      "saved Jane Randolph 0\n",
      "saved John Banner 0\n",
      "saved May Whitty 0\n",
      "saved Arch Johnson 0\n",
      "failed for Arch Johnson - 0\n",
      "saved Nina Mae McKinney 0\n",
      "saved Morgan Wallace 0\n",
      "saved Morgan Wallace 1\n",
      "saved Sarah Lawson 0\n",
      "saved Neil Dudgeon 0\n",
      "saved Anemone Valcke 0\n",
      "failed for Bob Neuwirth - 0\n",
      "saved Mike Pratt 0\n",
      "saved Yue Wong 0\n",
      "saved Thomas G. Waites 0\n",
      "saved Ron Perlman 0\n",
      "saved Ron Perlman 1\n",
      "saved Ron Perlman 2\n",
      "saved Marta Heflin 0\n",
      "saved Roger Rees 0\n",
      "saved James Russo 0\n",
      "saved Pete Smith 0\n",
      "saved Sharat Saxena 0\n",
      "saved Robert Z'Dar 0\n",
      "saved Michelle Nicastro 0\n",
      "saved Michelle Nicastro 1\n",
      "saved Michelle Nicastro 2\n",
      "saved Enrico Lo Verso 0\n",
      "saved Alice Coulthard 0\n",
      "saved Winston Chao 0\n",
      "saved Winston Chao 1\n",
      "saved Frank Ramírez 0\n",
      "saved Frank Ramírez 1\n",
      "saved Temuera Morrison 0\n",
      "saved Temuera Morrison 1\n",
      "saved Temuera Morrison 2\n",
      "saved Ray Chang 0\n",
      "saved Haley Lu Richardson 0\n",
      "saved Haley Lu Richardson 1\n",
      "saved Haley Lu Richardson 2\n",
      "saved Fernanda Torres 0\n",
      "saved Kim Wall 0\n",
      "failed for Kim Wall - 0\n",
      "failed for Kim Wall - 0\n",
      "failed for Kim Wall - 0\n",
      "saved Gerard Plunkett 0\n",
      "saved Alessandro Borghi 0\n",
      "saved Alessandro Borghi 1\n",
      "saved Alessandro Borghi 2\n",
      "saved Arjan Bajwa 0\n",
      "saved Carlos Lasarte 0\n",
      "saved Itay Tiran 0\n",
      "saved Neha Chauhan 0\n",
      "saved Neha Chauhan 1\n",
      "failed for Neha Chauhan - 1\n",
      "saved Jennifer Siebel Newsom 0\n",
      "saved Fırat Tanış 0\n",
      "saved Dee Bradley Baker 0\n",
      "failed for Dee Bradley Baker - 0\n",
      "saved Dome Karukoski 0\n",
      "saved Leon Dai 0\n",
      "saved Leon Dai 1\n",
      "saved Lily Knight 0\n",
      "failed for Lily Knight - 0\n",
      "saved Millard Mitchell 0\n",
      "saved Millard Mitchell 1\n",
      "saved Om Prakash 0\n",
      "saved Hilary Mason 0\n",
      "saved Hilary Mason 1\n",
      "saved Lee Remick 0\n",
      "saved Patrick Mower 0\n",
      "saved Lou Costello 0\n",
      "failed for Lou Costello - 0\n",
      "saved Georges Chamarat 0\n",
      "saved Georgia Engel 0\n",
      "failed for Georgia Engel - 0\n",
      "saved Gustav Knuth 0\n",
      "saved Edward Everett Horton 0\n",
      "saved Helena Kallianiotes 0\n",
      "saved Alfred Ryder 0\n",
      "saved Alfred Ryder 1\n",
      "failed for Alfred Ryder - 1\n",
      "saved Burt Kwouk 0\n",
      "saved Perry Lang 0\n",
      "saved Grande Otelo 0\n",
      "saved Jacqueline Samuda 0\n",
      "saved Alan C. Peterson 0\n",
      "saved Alan C. Peterson 1\n",
      "saved Ayako Fujitani 0\n",
      "saved Ayako Fujitani 1\n",
      "saved Ayako Fujitani 2\n",
      "saved Marek Perepeczko 0\n",
      "saved Shosuke Tanihara 0\n",
      "saved Jason Connery 0\n",
      "saved Jason Connery 1\n",
      "saved Hillary Clinton 0\n",
      "saved Richard Wilson 0\n",
      "saved Walter Murch 0\n",
      "saved Mariana Loyola 0\n",
      "saved Mariana Loyola 1\n",
      "saved Mariana Loyola 2\n",
      "failed for Mariana Loyola - 2\n",
      "saved Alexander Skarsgård 0\n",
      "saved Alexander Skarsgård 1\n",
      "saved Alexander Skarsgård 2\n",
      "saved Kiva Dawson 0\n",
      "saved Isabelle McNally 0\n",
      "saved Isabelle McNally 1\n",
      "saved Marius Biegai 0\n",
      "saved Praveena 0\n",
      "saved Gabriel Akuwudike 0\n",
      "failed for Gabriel Akuwudike - 0\n",
      "saved Du Jiang 0\n",
      "saved Du Jiang 1\n",
      "saved Du Jiang 2\n",
      "saved Seena Owen 0\n",
      "saved Raffaella Carrà 0\n",
      "saved Edwin Richfield 0\n",
      "saved Keith Buckley 0\n",
      "saved Ian Lavender 0\n",
      "saved Elizabeth Knight 0\n",
      "saved Chieko Matsubara 0\n",
      "saved Ronny Cox 0\n",
      "saved Ronny Cox 1\n",
      "saved Margaret Hamilton 0\n",
      "saved Nick Cheung 0\n",
      "saved Giorgio Albertazzi 0\n",
      "saved James Barton 0\n",
      "saved John Sutton 0\n",
      "saved Anders Danielsen Lie 0\n",
      "saved Anders Danielsen Lie 1\n",
      "saved Marc Sheffler 0\n",
      "saved Betty Ann Davies 0\n",
      "saved Michael Visaroff 0\n",
      "saved Billy Halop 0\n",
      "saved Cornelia Sharpe 0\n",
      "saved Antonia Ellis 0\n",
      "saved Patricia Pearcy 0\n",
      "saved Deven Verma 0\n",
      "saved Michael O'Donoghue 0\n",
      "saved Grace Zabriskie 0\n",
      "saved Morris Day 0\n",
      "saved Jenny Beck 0\n",
      "saved Jenny Beck 1\n",
      "saved Margi Clarke 0\n",
      "saved Shi Shi 0\n",
      "saved Kate Beckinsale 0\n",
      "saved Kate Beckinsale 1\n",
      "saved Kate Beckinsale 2\n",
      "saved Ewen Bremner 0\n",
      "saved Ewen Bremner 1\n",
      "saved Ewen Bremner 2\n",
      "saved Pip Torrens 0\n",
      "saved Jack Davenport 0\n",
      "saved Jack Davenport 1\n",
      "saved Jack Davenport 2\n",
      "saved Aden Gillett 0\n",
      "saved Aden Gillett 1\n",
      "saved Suzy Joachim 0\n",
      "saved Ryan Hurst 0\n",
      "saved Daniel Bernhardt 0\n",
      "saved Daniel Bernhardt 1\n",
      "saved Parvathy 0\n",
      "saved Cécile Bois 0\n",
      "saved Grant Roa 0\n",
      "failed for Grant Roa - 0\n",
      "saved Angeliki Papoulia 0\n",
      "saved Peter Grosz 0\n",
      "saved Trond Espen Seim 0\n",
      "saved Trond Espen Seim 1\n",
      "saved Trond Espen Seim 2\n",
      "failed for Trond Espen Seim - 2\n",
      "saved Bárbara Lennie 0\n",
      "saved Bárbara Lennie 1\n",
      "saved Bárbara Lennie 2\n",
      "saved Abbey Lee 0\n",
      "saved Abbey Lee 1\n",
      "saved Abbey Lee 2\n",
      "saved Stanley Townsend 0\n",
      "saved Sathyaraj 0\n",
      "saved Joel Kinnaman 0\n",
      "saved Joel Kinnaman 1\n",
      "saved Takahiro Miura 0\n",
      "saved Farzana Dua Elahe 0\n",
      "saved Farzana Dua Elahe 1\n",
      "saved Farzana Dua Elahe 2\n",
      "saved Luis Bermejo 0\n",
      "saved Luis Bermejo 1\n",
      "saved Luis Bermejo 2\n",
      "failed for David Elliot - 2\n",
      "saved Farid Larbi 0\n",
      "saved Farid Larbi 1\n",
      "saved Farid Larbi 2\n",
      "saved Daniela Vega 0\n",
      "saved Daniela Vega 1\n",
      "saved Murat Yildirim 0\n",
      "failed for Rhoda Pell - 0\n",
      "saved Derek Fowlds 0\n",
      "saved Faye Emerson 0\n",
      "saved Rossana Podestà 0\n",
      "saved Rossana Podestà 1\n",
      "saved Rossana Podestà 2\n",
      "saved Renée Adorée 0\n",
      "saved Eduard Tisse 0\n",
      "saved Carlo Ninchi 0\n",
      "saved Diana Muldaur 0\n",
      "saved Walter Woolf King 0\n",
      "failed for Walter Woolf King - 0\n",
      "saved Zena Marshall 0\n",
      "saved Jullan Kindahl 0\n",
      "saved Willow Smith 0\n",
      "saved Queenie Leonard 0\n",
      "saved Miriam Cooper 0\n",
      "saved Helen Haye 0\n",
      "saved Gerald S. O'Loughlin 0\n",
      "saved Charles Evans 0\n",
      "saved Zvonimir Rogoz 0\n",
      "saved Anita Harris 0\n",
      "saved Jon Cypher 0\n",
      "failed for Jon Cypher - 0\n",
      "saved Michael Elphick 0\n",
      "saved Omero Capanna 0\n",
      "saved Omero Capanna 1\n",
      "failed for Omero Capanna - 1\n",
      "saved Juliana Donald 0\n",
      "saved Lyman Ward 0\n",
      "saved Brian Cox 0\n",
      "saved Brian Cox 1\n",
      "saved Brian Cox 2\n",
      "saved Bibiana Fernández 0\n",
      "saved Maurice Pialat 0\n",
      "saved Maurice Pialat 1\n",
      "saved Reema Lagoo 0\n",
      "saved Reema Lagoo 1\n",
      "saved Pedro Díez del Corral 0\n",
      "saved Gloria Lynne Henry 0\n",
      "saved Giorgos Mihalakopoulos 0\n",
      "saved Alberto San Juan 0\n",
      "saved David Cross 0\n",
      "saved Bill Lake 0\n",
      "failed for Bill Lake - 0\n",
      "saved Rauno Juvonen 0\n",
      "saved Mena Suvari 0\n",
      "saved Mena Suvari 1\n",
      "saved Mena Suvari 2\n",
      "saved David Letterman 0\n",
      "saved David Letterman 1\n",
      "saved Brett Rickaby 0\n",
      "saved Zhou Xun 0\n",
      "saved Zhou Xun 1\n",
      "saved Zhou Xun 2\n",
      "saved Doug Rand 0\n",
      "failed for Chantal Neuwirth - 0\n",
      "saved Yui Natsukawa 0\n",
      "saved Yui Natsukawa 1\n",
      "failed for Rosie Alvarez - 1\n",
      "saved Fernando Tejero 0\n",
      "saved Richard Coyle 0\n",
      "saved Kagiso Kuypers 0\n",
      "saved Jacob Tremblay 0\n",
      "saved Jacob Tremblay 1\n",
      "saved Jacob Tremblay 2\n",
      "saved Gayathrie Shankar 0\n",
      "saved Sheetal Shetty 0\n",
      "failed for Sheetal Shetty - 0\n",
      "saved Jeroen van Koningsbrugge 0\n",
      "saved Allison Williams 0\n",
      "saved Allison Williams 1\n",
      "saved Allison Williams 2\n",
      "failed for Allison Williams - 2\n",
      "failed for Allison Williams - 2\n",
      "saved Irving Bacon 0\n",
      "saved Henri Poirier 0\n",
      "saved Katherine Emery 0\n",
      "saved Raj Kapoor 0\n",
      "saved Robert Burton 0\n",
      "saved Little Unicorn 0\n",
      "saved Naomi Stevens 0\n",
      "saved Lee Meredith 0\n",
      "saved Andi Garrett 0\n",
      "saved Simone Valère 0\n",
      "saved Alastair Sim 0\n",
      "saved Frank Austin 0\n",
      "saved Brandon Routh 0\n",
      "saved Brandon Routh 1\n",
      "saved Brandon Routh 2\n",
      "saved Valentin Popescu 0\n",
      "saved Loredana Nusciak 0\n",
      "saved Loredana Nusciak 1\n",
      "saved Lo Lieh 0\n",
      "saved Nicolas Coster 0\n",
      "saved Tisa Farrow 0\n",
      "saved Tom McLoughlin 0\n",
      "saved Michael Ironside 0\n",
      "saved Michael Ironside 1\n",
      "saved Michael Ironside 2\n",
      "saved Fisher Stevens 0\n",
      "saved Fisher Stevens 1\n",
      "saved Fisher Stevens 2\n",
      "saved Mars 0\n",
      "saved Dana Hill 0\n",
      "saved Terry O'Quinn 0\n",
      "saved Terry O'Quinn 1\n",
      "saved Terry O'Quinn 2\n",
      "saved Lea Thompson 0\n",
      "saved Lea Thompson 1\n",
      "saved Lea Thompson 2\n",
      "saved Eric Viellard 0\n",
      "failed for Eric Viellard - 0\n",
      "saved Billy Crystal 0\n",
      "saved Billy Crystal 1\n",
      "saved Emma Thompson 0\n",
      "saved Emma Thompson 1\n",
      "saved Emma Thompson 2\n",
      "failed for Emma Thompson - 2\n",
      "saved Terrence Howard 0\n",
      "saved Terrence Howard 1\n",
      "saved Terrence Howard 2\n",
      "saved Ben Miles 0\n",
      "saved David Arquette 0\n",
      "failed for David Arquette - 0\n",
      "saved Vineeth Radhakrishnan 0\n",
      "saved Vineeth Radhakrishnan 1\n",
      "saved Fernando Ramallo 0\n",
      "saved Lillete Dubey 0\n",
      "saved Jonathan Haagensen 0\n",
      "saved Nayanthara 0\n",
      "saved Priyamani 0\n",
      "saved Priyamani 1\n",
      "saved Karole Rocher 0\n",
      "saved Jared Gilman 0\n",
      "saved Jared Gilman 1\n",
      "saved Jared Gilman 2\n",
      "saved Matteo Simoni 0\n",
      "saved Louise Lasser 0\n",
      "saved Jessie Royce Landis 0\n",
      "saved Reiko Ike 0\n",
      "saved Marc Wootton 0\n",
      "saved Roy Dotrice 0\n",
      "saved Gino Pernice 0\n",
      "saved Lindsay Kemp 0\n",
      "saved Theresa Harris 0\n",
      "saved Sally Ann Howes 0\n",
      "failed for Sally Ann Howes - 0\n",
      "failed for Chad Gundersen - 0\n",
      "saved Leonard Nimoy 0\n",
      "saved Leonard Nimoy 1\n",
      "saved Leonard Nimoy 2\n",
      "saved Kandice Stroh 0\n",
      "saved Anthony O'Donnell 0\n",
      "saved Irvin Kershner 0\n",
      "saved Irvin Kershner 1\n",
      "saved Shehzad Khan 0\n",
      "saved Paul Sutera 0\n",
      "saved Renée Humphrey 0\n",
      "saved Hilary Swank 0\n",
      "saved Hilary Swank 1\n",
      "saved Hilary Swank 2\n",
      "saved Licia Maglietta 0\n",
      "saved Natasha Wightman 0\n",
      "saved Leah Remini 0\n",
      "saved Leah Remini 1\n",
      "saved Leah Remini 2\n",
      "saved Rupert Friend 0\n",
      "saved Rupert Friend 1\n",
      "saved Aurélie Thépaut 0\n",
      "saved Aurélie Thépaut 1\n",
      "saved Aurélie Thépaut 2\n",
      "failed for Aurélie Thépaut - 2\n",
      "saved Frantz Turner 0\n",
      "saved Kasumi Arimura 0\n",
      "saved Kasumi Arimura 1\n",
      "saved Austin Abrams 0\n",
      "saved Austin Abrams 1\n",
      "saved Austin Abrams 2\n",
      "saved Femi Benussi 0\n",
      "saved Femi Benussi 1\n",
      "saved Femi Benussi 2\n",
      "saved Anna Massey 0\n",
      "saved Moray Watson 0\n",
      "saved Rita Hayworth 0\n",
      "saved Rita Hayworth 1\n",
      "saved Rita Hayworth 2\n",
      "saved Joseph Walsh 0\n",
      "saved Francisco Reiguera 0\n",
      "saved Mick Jagger 0\n",
      "saved Keiko Kishi 0\n",
      "saved Andrea Rau 0\n",
      "saved Andrea Rau 1\n",
      "saved Carol Veazie 0\n",
      "saved Gilles De Schryver 0\n",
      "saved Ronald Reagan 0\n",
      "saved Ronald Reagan 1\n",
      "saved Ronald Reagan 2\n",
      "saved Titos Vandis 0\n",
      "saved Kamal Kapoor 0\n",
      "saved Ken Ogata 0\n",
      "saved Alain Doutey 0\n",
      "saved Kara Wai 0\n",
      "saved Barbara Hicks 0\n",
      "saved Kate Capshaw 0\n",
      "saved Kate Capshaw 1\n",
      "saved Kate Capshaw 2\n",
      "saved China Zorrilla 0\n",
      "saved Frances Barber 0\n",
      "saved Arsenio Hall 0\n",
      "saved Vasilis Bouyiouklakis 0\n",
      "saved Peter Y. Kim 0\n",
      "saved Bill Raymond 0\n",
      "saved Neve Campbell 0\n",
      "saved Neve Campbell 1\n",
      "saved Neve Campbell 2\n",
      "saved Kristy Yang 0\n",
      "saved Snoop Dogg 0\n",
      "saved Snoop Dogg 1\n",
      "saved Snoop Dogg 2\n",
      "saved Paprika Steen 0\n",
      "saved Paprika Steen 1\n",
      "saved Paprika Steen 2\n",
      "saved María Galiana 0\n",
      "saved Kirk Geiger 0\n",
      "saved Orla Brady 0\n",
      "saved Behnaz Jafari 0\n",
      "saved Sam Lee 0\n",
      "saved Margarita Broich 0\n",
      "saved Margarita Broich 1\n",
      "saved Margarita Broich 2\n",
      "failed for Margarita Broich - 2\n",
      "failed for Christopher Toler - 2\n",
      "saved Erinn Hayes 0\n",
      "saved Vincent Rottiers 0\n",
      "saved Leven Rambin 0\n",
      "saved Maury Sterling 0\n",
      "saved Camille Cottin 0\n",
      "saved Trace Adkins 0\n",
      "failed for Trace Adkins - 0\n",
      "saved Roman Bohnen 0\n",
      "saved Jane Merrow 0\n",
      "saved Howard Freeman 0\n",
      "saved Bobby Driscoll 0\n",
      "saved Katherine Locke 0\n",
      "saved Spencer Tracy 0\n",
      "saved Spencer Tracy 1\n",
      "saved Spencer Tracy 2\n",
      "saved Felix Knight 0\n",
      "saved Cicely Tyson 0\n",
      "saved Cicely Tyson 1\n",
      "saved Cicely Tyson 2\n",
      "saved Lien Deyers 0\n",
      "saved Lien Deyers 1\n",
      "saved Fred Stone 0\n",
      "saved Sergey Gazarov 0\n",
      "saved Dorothy Tutin 0\n",
      "saved James Gleason 0\n",
      "saved Karen Morley 0\n",
      "saved Paola Mori 0\n",
      "saved Arthur Hoyt 0\n",
      "saved Patti Page 0\n",
      "saved Roland Dubillard 0\n",
      "saved Slavko Štimac 0\n",
      "saved Yevgeniya Khanayeva 0\n",
      "saved William Hootkins 0\n",
      "saved Miles Chapin 0\n",
      "saved Patricia Donahue 0\n",
      "saved Domiziana Giordano 0\n",
      "saved Milton Nascimento 0\n",
      "saved Lola Cardona 0\n",
      "saved Akosua Busia 0\n",
      "saved Billy Lau 0\n",
      "saved Hiroshi Mikami 0\n",
      "saved Hiroshi Mikami 1\n",
      "saved Thom Mathews 0\n",
      "saved Stanley Tucci 0\n",
      "saved Stanley Tucci 1\n",
      "saved Stanley Tucci 2\n",
      "saved Sim 0\n",
      "saved Stephen Hawking 0\n",
      "saved Jack Noseworthy 0\n",
      "saved Pramod Moutho 0\n",
      "saved Nick Searcy 0\n",
      "saved Matthew Bennett 0\n",
      "saved Matthew Bennett 1\n",
      "saved Jay Thomas 0\n",
      "saved Erika Marozsán 0\n",
      "saved Rajendra Gupta 0\n",
      "saved Tamer Balcı 0\n",
      "saved Tamer Balcı 1\n",
      "saved Bae Doo-na 0\n",
      "saved Bae Doo-na 1\n",
      "saved Bae Doo-na 2\n",
      "saved Alice Braga 0\n",
      "saved Alice Braga 1\n",
      "saved Alice Braga 2\n",
      "saved Fernanda Mistral 0\n",
      "saved Chris Anton 0\n",
      "saved Mahesh Manjrekar 0\n",
      "saved Mahesh Manjrekar 1\n",
      "saved Mahesh Manjrekar 2\n",
      "saved Kentaro Sakaguchi 0\n",
      "failed for Kentaro Sakaguchi - 0\n",
      "failed for Sabina Ajrula - 0\n",
      "saved Harry Lister Smith 0\n",
      "failed for Harry Lister Smith - 0\n",
      "failed for Harry Lister Smith - 0\n",
      "saved Valentina Mazunina 0\n",
      "saved Ruth Bader Ginsburg 0\n",
      "saved Fabrizio Ferracane 0\n",
      "saved Katherine DeMille 0\n",
      "saved Mike Connors 0\n",
      "saved Anna Magnani 0\n",
      "saved Nina Alisova 0\n",
      "saved June Allyson 0\n",
      "saved June Allyson 1\n",
      "saved June Allyson 2\n",
      "saved Andrews Engelmann 0\n",
      "saved Pierre Brasseur 0\n",
      "saved Andrew Keir 0\n",
      "saved Jack McBrayer 0\n",
      "saved Dorothy Tristan 0\n",
      "saved Takahiro Tamura 0\n",
      "saved Takahiro Tamura 1\n",
      "saved David Huddleston 0\n",
      "saved Sid Caesar 0\n",
      "saved William H. O'Brien 0\n",
      "saved Barlow Jacobs 0\n",
      "saved Rada Rassimov 0\n",
      "saved Don Pedro Colley 0\n",
      "saved Jeff Cooper 0\n",
      "saved Michel Auclair 0\n",
      "saved Olin Francis 0\n",
      "saved Michael Redgrave 0\n",
      "saved Michael Redgrave 1\n",
      "saved Michael Redgrave 2\n",
      "saved Josiane Balasko 0\n",
      "saved Josiane Balasko 1\n",
      "saved Paul Brooke 0\n",
      "saved Mark Wingett 0\n",
      "saved Dolly Parton 0\n",
      "failed for Dolly Parton - 0\n",
      "saved Simon de La Brosse 0\n",
      "saved Dalila Di Lazzaro 0\n",
      "saved Alison Steadman 0\n",
      "saved Alison Steadman 1\n",
      "saved Alison Steadman 2\n",
      "saved Barry Flatman 0\n",
      "saved Pauline Collins 0\n",
      "failed for Pauline Collins - 0\n",
      "saved Tina Majorino 0\n",
      "saved Tina Majorino 1\n",
      "saved Tina Majorino 2\n",
      "saved Russi Taylor 0\n",
      "saved Shea Whigham 0\n",
      "saved Shea Whigham 1\n",
      "saved Renos Haralambidis 0\n",
      "saved Renos Haralambidis 1\n",
      "saved Rick Kavanian 0\n",
      "saved Rick Kavanian 1\n",
      "failed for Rick Kavanian - 1\n",
      "saved Tyler Hoechlin 0\n",
      "saved Tyler Hoechlin 1\n",
      "saved Tyler Hoechlin 2\n",
      "saved Will Ferrell 0\n",
      "saved Will Ferrell 1\n",
      "saved Will Ferrell 2\n",
      "saved Maria Ciunelis 0\n",
      "saved Johnny Ramone 0\n",
      "saved Ivana Miličević 0\n",
      "saved Ivana Miličević 1\n",
      "saved Ivana Miličević 2\n",
      "saved Asif Basra 0\n",
      "failed for Tommy the Clown - 0\n",
      "saved Orla Fitzgerald 0\n",
      "failed for Orla Fitzgerald - 0\n",
      "saved Style Dayne 0\n",
      "saved Style Dayne 1\n",
      "failed for Style Dayne - 1\n",
      "saved Andrew Sellon 0\n",
      "saved Samrat Chakrabarti 0\n",
      "failed for Samrat Chakrabarti - 0\n",
      "failed for Samrat Chakrabarti - 0\n",
      "saved Manikandan R Achari 0\n",
      "saved Manikandan R Achari 1\n",
      "failed for Manikandan R Achari - 1\n",
      "saved Virna Lisi 0\n",
      "saved Virna Lisi 1\n",
      "saved Virna Lisi 2\n",
      "saved Jim Dale 0\n",
      "saved Natalie Schafer 0\n",
      "saved Harry von Zell 0\n",
      "saved William Schallert 0\n",
      "saved William Schallert 1\n",
      "saved Xavier Dolan 0\n",
      "saved Xavier Dolan 1\n",
      "saved Xavier Dolan 2\n",
      "saved Yuriy Solomin 0\n",
      "saved Kenta Kiritani 0\n",
      "saved Kenta Kiritani 1\n",
      "saved Mieczysław Voit 0\n",
      "saved Terence Rigby 0\n",
      "saved Tomisaburō Wakayama 0\n",
      "saved Robert Frazer 0\n",
      "saved Aleksandr Antonov 0\n",
      "saved Daisy Earles 0\n",
      "saved Henry Mollison 0\n",
      "saved Tina Louise 0\n",
      "saved Kevin Rankin 0\n",
      "failed for Kevin Rankin - 0\n",
      "saved Jean Reno 0\n",
      "saved Jean Reno 1\n",
      "saved Jean Reno 2\n",
      "saved Kevin Peter Hall 0\n",
      "failed for Steven Goldstein - 0\n",
      "failed for Steven Goldstein - 0\n",
      "failed for Steven Goldstein - 0\n",
      "saved Luis Guzmán 0\n",
      "failed for Luis Guzmán - 0\n",
      "saved Robert Cicchini 0\n",
      "saved Eric Kot 0\n",
      "saved Yu Rongguang 0\n",
      "saved Bahni Turpin 0\n",
      "saved José Zúñiga 0\n",
      "saved Tom Wilkinson 0\n",
      "saved Tom Wilkinson 1\n",
      "saved Tom Wilkinson 2\n",
      "failed for Tom Wilkinson - 2\n",
      "saved Clelia Rondinella 0\n",
      "saved Callum Keith Rennie 0\n",
      "saved Göran Forsmark 0\n",
      "saved Olivia Williams 0\n",
      "saved Olivia Williams 1\n",
      "saved Arthur Bridgers 0\n",
      "saved Puru Rajkumar 0\n",
      "saved Natalia Tena 0\n",
      "saved Natalia Tena 1\n",
      "saved Natalia Tena 2\n",
      "saved Jesús Ochoa 0\n",
      "saved Kankuro Kudo 0\n",
      "failed for Kankuro Kudo - 0\n",
      "saved Rudy Eisenzopf 0\n",
      "saved Bénédicte Décary 0\n",
      "saved Robert Longstreet 0\n",
      "failed for Vauxhall Jermaine - 0\n",
      "saved Alejandro de la Madrid 0\n",
      "saved Moris Cohen 0\n",
      "saved Jenson Button 0\n",
      "failed for Jenson Button - 0\n",
      "saved Devi Ajith 0\n",
      "failed for Devi Ajith - 0\n",
      "failed for Devi Ajith - 0\n",
      "failed for Devi Ajith - 0\n",
      "saved Parminder Nagra 0\n",
      "saved Parminder Nagra 1\n",
      "saved Lucienne Bogaert 0\n",
      "saved Jason Robards Sr. 0\n",
      "saved Jason Robards Sr. 1\n",
      "saved Enzo Staiola 0\n",
      "saved Erika Blanc 0\n",
      "saved Erika Blanc 1\n",
      "saved Lillian Gish 0\n",
      "saved Lillian Gish 1\n",
      "saved Lillian Gish 2\n",
      "saved Patrick Fischler 0\n",
      "saved Patrick Fischler 1\n",
      "saved Patrick Fischler 2\n",
      "saved Ufuk Bayraktar 0\n",
      "saved Jon Stewart 0\n",
      "saved Zinoviy Gerdt 0\n",
      "saved Joseph Mell 0\n",
      "saved Brigitte Fossey 0\n",
      "saved Niall MacGinnis 0\n",
      "saved Werner Peters 0\n",
      "saved Jack Elam 0\n",
      "saved Jack Elam 1\n",
      "failed for Jack Elam - 1\n",
      "saved Denny Doherty 0\n",
      "saved Elena Drapeko 0\n",
      "saved Nigel Green 0\n",
      "saved Nigel Green 1\n",
      "failed for Nigel Green - 1\n",
      "saved Matthew Labyorteaux 0\n",
      "saved Caroline Langrishe 0\n",
      "saved Cristina Sánchez Pascual 0\n",
      "saved Laurent Malet 0\n",
      "saved Steven Wright 0\n",
      "saved Armin Shimerman 0\n",
      "saved Hugh Grant 0\n",
      "saved Hugh Grant 1\n",
      "saved Hugh Grant 2\n",
      "saved Zakes Mokae 0\n",
      "saved Benoît Magimel 0\n",
      "saved Rebecca Pan 0\n",
      "saved Ernest R. Dickerson 0\n",
      "saved Michael Hitchcock 0\n",
      "saved Ed O'Brien 0\n",
      "saved Ed O'Brien 1\n",
      "saved Ed O'Brien 2\n",
      "saved Rita Davies 0\n",
      "saved Rita Davies 1\n",
      "saved Rita Davies 2\n",
      "saved Elena Cotta 0\n",
      "saved Kostas Grekas 0\n",
      "saved David Ramsey 0\n",
      "saved Remo Girone 0\n",
      "saved Bradley Walsh 0\n",
      "failed for Bradley Walsh - 0\n",
      "saved Robin Dunne 0\n",
      "saved José María Yázpik 0\n",
      "saved José María Yázpik 1\n",
      "saved José María Yázpik 2\n",
      "saved Adriano Giannini 0\n",
      "saved Clotilde Hesme 0\n",
      "failed for Clotilde Hesme - 0\n",
      "saved Andrea Powell 0\n",
      "saved Phil Campbell 0\n",
      "saved Kyla Deaver 0\n",
      "saved Bill Walton 0\n",
      "saved Bagavathi Perumal 0\n",
      "saved Anil George 0\n",
      "saved Félix Maritaud 0\n",
      "saved Félix Maritaud 1\n",
      "saved Félix Maritaud 2\n",
      "failed for Félix Maritaud - 2\n",
      "failed for Félix Maritaud - 2\n",
      "saved Cliff Edwards 0\n",
      "failed for Cliff Edwards - 0\n",
      "saved Carlo Croccolo 0\n",
      "saved Raoul Walsh 0\n",
      "saved Ernie Kovacs 0\n",
      "failed for Ernie Kovacs - 0\n",
      "saved Charmian Carr 0\n",
      "saved Charmian Carr 1\n",
      "saved Arlen Escarpeta 0\n",
      "saved Mariya Vinogradova 0\n",
      "saved Ferike Boros 0\n",
      "saved Martha MacIsaac 0\n",
      "saved Ulla Jacobsson 0\n",
      "saved Darrell Foster 0\n",
      "saved Renato Scarpa 0\n",
      "saved John Rodney 0\n",
      "saved John Wray 0\n",
      "saved Alexis Smith 0\n",
      "saved Alexis Smith 1\n",
      "saved John Williams 0\n",
      "saved John Williams 1\n",
      "saved John Karlen 0\n",
      "saved John Karlen 1\n",
      "saved John Karlen 2\n",
      "failed for Evgeniya Glushenko - 2\n",
      "saved John Getz 0\n",
      "saved Richard Wilson 0\n",
      "saved Chuck Bush 0\n",
      "saved Tichina Arnold 0\n",
      "saved Dylan Baker 0\n",
      "saved Dylan Baker 1\n",
      "saved Dylan Baker 2\n",
      "saved Susan Blanchard 0\n",
      "saved Peter Van Norden 0\n",
      "saved Roger Aaron Brown 0\n",
      "saved Prabhu Ganesan 0\n",
      "failed for Rebecca Jenkins - 0\n",
      "saved Eddie Izzard 0\n",
      "saved Michel Muller 0\n",
      "saved Jason Clarke 0\n",
      "saved Jason Clarke 1\n",
      "saved Shek Sau 0\n",
      "saved J. C. MacKenzie 0\n",
      "saved J. C. MacKenzie 1\n",
      "saved Elena Anaya 0\n",
      "saved Elena Anaya 1\n",
      "failed for Elena Anaya - 1\n",
      "saved Dreama Walker 0\n",
      "saved Maxim Kostromykin 0\n",
      "saved Nora Waldstätten 0\n",
      "saved Nora Waldstätten 1\n",
      "saved Nora Waldstätten 2\n",
      "saved Tom Proctor 0\n",
      "failed for Tom Proctor - 0\n",
      "failed for Tom Proctor - 0\n",
      "saved Paris Hilton 0\n",
      "saved Paris Hilton 1\n",
      "saved Marcia Jean Kurtz 0\n",
      "saved Rambha 0\n",
      "saved Ben Turpin 0\n",
      "saved Jorja Curtright 0\n",
      "saved Philip Tonge 0\n",
      "saved Heinz Reincke 0\n",
      "saved Harry Harvey 0\n",
      "saved Lars Hanson 0\n",
      "saved Thurston Hall 0\n",
      "saved John Vernon 0\n",
      "saved John Vernon 1\n",
      "saved John Vernon 2\n",
      "failed for John Vernon - 2\n",
      "saved Ian Carmichael 0\n",
      "saved Eric Godon 0\n",
      "saved Anny Ondra 0\n",
      "saved Wolfgang Preiss 0\n",
      "saved Joseph Mascolo 0\n",
      "saved Kurt Russell 0\n",
      "saved Kurt Russell 1\n",
      "saved Kurt Russell 2\n",
      "saved John Paul Jones 0\n",
      "saved Blythe Danner 0\n",
      "saved Blythe Danner 1\n",
      "saved Antonia Franceschi 0\n",
      "saved Mario Zaragoza 0\n",
      "saved Thom Hoffman 0\n",
      "saved Thom Hoffman 1\n",
      "saved Thom Hoffman 2\n",
      "failed for Robert Dryer - 2\n",
      "saved Andrew Dice Clay 0\n",
      "saved Andrew Dice Clay 1\n",
      "saved Andrew Dice Clay 2\n",
      "saved Richard Brooks 0\n",
      "saved Lorraine Bracco 0\n",
      "saved Lorraine Bracco 1\n",
      "saved Lorraine Bracco 2\n",
      "saved Stephen E. Miller 0\n",
      "saved Heather Graham 0\n",
      "saved Heather Graham 1\n",
      "saved Heather Graham 2\n",
      "saved Clyde Kusatsu 0\n",
      "saved Dhritiman Chatterjee 0\n",
      "saved Wiley Wiggins 0\n",
      "saved Karl Geary 0\n",
      "saved Gwen McGee 0\n",
      "saved Gwen McGee 1\n",
      "saved Tony Leblanc 0\n",
      "saved Tony Leblanc 1\n",
      "saved Martin Clunes 0\n",
      "saved Irina Rozanova 0\n",
      "saved Benno Fürmann 0\n",
      "saved Benno Fürmann 1\n",
      "saved Mandy Moore 0\n",
      "saved Mandy Moore 1\n",
      "saved Mandy Moore 2\n",
      "saved Max Pirkis 0\n",
      "failed for Luisa Huertas - 0\n",
      "saved Bob Stephenson 0\n",
      "saved Paran Banerjee 0\n",
      "saved Aldine Muller 0\n",
      "saved Aldine Muller 1\n",
      "saved Finn Wittrock 0\n",
      "saved Finn Wittrock 1\n",
      "saved Finn Wittrock 2\n",
      "saved Ignacio Mateos 0\n",
      "saved Nora Arnezeder 0\n",
      "saved Donald Glover 0\n",
      "saved Matt Letscher 0\n",
      "saved Gary Weeks 0\n",
      "saved Brian Keith 0\n",
      "failed for Brian Keith - 0\n",
      "saved Judi Bowker 0\n",
      "saved Isela Vega 0\n",
      "saved Isela Vega 1\n",
      "saved Pål Sverre Hagen 0\n",
      "failed for Michael Rupert - 0\n",
      "saved Pat Morita 0\n",
      "saved Jack Hawkins 0\n",
      "saved Jack Hawkins 1\n",
      "saved Simone Renant 0\n",
      "saved Audie Murphy 0\n",
      "saved Audie Murphy 1\n",
      "saved John Lupton 0\n",
      "failed for John Lupton - 0\n",
      "saved Carmen Ejogo 0\n",
      "saved Anne Seymour 0\n",
      "saved Paul Henckels 0\n",
      "saved Paul Henckels 1\n",
      "saved Bruce Lee 0\n",
      "saved Bruce Lee 1\n",
      "saved Bruce Lee 2\n",
      "saved Glauco Onorato 0\n",
      "saved Gabriele Lavia 0\n",
      "saved Richard Manuel 0\n",
      "saved Robert A. Silverman 0\n",
      "saved John Lurie 0\n",
      "saved Bruce Boxleitner 0\n",
      "saved Tanuja 0\n",
      "saved Lisa Hart Carroll 0\n",
      "saved Predrag Laković 0\n",
      "saved M.C. Gainey 0\n",
      "saved Glenn Plummer 0\n",
      "saved Glenn Plummer 1\n",
      "saved Mark Hadlow 0\n",
      "saved Kario Salem 0\n",
      "saved Jaime Blanch 0\n",
      "saved Pep Munné 0\n",
      "saved Pep Munné 1\n",
      "saved Pep Munné 2\n",
      "saved Diana Kent 0\n",
      "saved Vishwajeet Pradhan 0\n",
      "saved Maria Pitillo 0\n",
      "saved Maria Pitillo 1\n",
      "saved Maria Pitillo 2\n",
      "saved Robert Costanzo 0\n",
      "saved Robert Costanzo 1\n",
      "saved Walton Goggins 0\n",
      "saved Walton Goggins 1\n",
      "saved Walton Goggins 2\n",
      "saved Nina Proll 0\n",
      "saved Alison Lohman 0\n",
      "saved Alison Lohman 1\n",
      "saved Hidetoshi Nishijima 0\n",
      "saved Hidetoshi Nishijima 1\n",
      "saved Aure Atika 0\n",
      "failed for Aure Atika - 0\n",
      "saved Michael Irby 0\n",
      "saved Brian Yuzna 0\n",
      "saved Brian Yuzna 1\n",
      "saved Brian Yuzna 2\n",
      "saved Bharath Reddy 0\n",
      "failed for Bharath Reddy - 0\n",
      "saved Donna Biscoe 0\n",
      "saved Martin McCann 0\n",
      "saved Kerem Bürsin 0\n",
      "saved Kim Estes 0\n",
      "saved Kim Estes 1\n",
      "saved Kim Estes 2\n",
      "saved Elizabeth James 0\n",
      "saved Russell Brand 0\n",
      "saved Joseph Cotten 0\n",
      "saved Joseph Cotten 1\n",
      "saved John Carter 0\n",
      "saved Jack Kehoe 0\n",
      "saved Jack Kehoe 1\n",
      "saved Giulietta Masina 0\n",
      "saved Susan Anspach 0\n",
      "saved Susan Anspach 1\n",
      "saved Peggy Ann Garner 0\n",
      "saved Lili Gentle 0\n",
      "saved Veruschka von Lehndorff 0\n",
      "saved Maureen Connell 0\n",
      "saved Harry Shannon 0\n",
      "saved Vic Morrow 0\n",
      "saved Kathleen Crowley 0\n",
      "saved Silvano Tranquilli 0\n",
      "saved Silvano Tranquilli 1\n",
      "saved Neil Summers 0\n",
      "saved Neil Summers 1\n",
      "saved Neil Summers 2\n",
      "saved Anna Mikhalkova 0\n",
      "saved Jon Finch 0\n",
      "saved Zdzisław Kuźniar 0\n",
      "saved Philippe Léotard 0\n",
      "saved Philippe Léotard 1\n",
      "saved Bill Milner 0\n",
      "saved Andrea Marcovicci 0\n",
      "saved Vidal Peterson 0\n",
      "saved Bronisław Wrocławski 0\n",
      "saved Marián Labuda 0\n",
      "saved Marián Labuda 1\n",
      "saved Marián Labuda 2\n",
      "saved Vikram Gokhale 0\n",
      "saved Bebe Neuwirth 0\n",
      "saved Fiona Shaw 0\n",
      "saved Fiona Shaw 1\n",
      "saved Fiona Shaw 2\n",
      "saved John Newton 0\n",
      "saved Peter Schneider 0\n",
      "saved Michel Fau 0\n",
      "saved Suh Jung 0\n",
      "saved Steve Lemme 0\n",
      "saved Jacqueline Obradors 0\n",
      "saved Jacqueline Obradors 1\n",
      "saved Jacqueline Obradors 2\n",
      "saved Mary Moulds 0\n",
      "saved Barnaby Metschurat 0\n",
      "saved Mirka Papakonstantinou 0\n",
      "failed for Mirka Papakonstantinou - 0\n",
      "saved Richard Kind 0\n",
      "saved Richard Kind 1\n",
      "saved Khary Payton 0\n",
      "saved AnnaSophia Robb 0\n",
      "saved AnnaSophia Robb 1\n",
      "saved AnnaSophia Robb 2\n",
      "saved Laure Marsac 0\n",
      "saved Rainn Wilson 0\n",
      "saved Rainn Wilson 1\n",
      "saved Rainn Wilson 2\n",
      "saved Richard Bekins 0\n",
      "saved Zabryna Guevara 0\n",
      "saved Mirrah Foulkes 0\n",
      "saved Melanie Lenz 0\n",
      "saved Ronit Roy 0\n",
      "saved Martin Wallström 0\n",
      "saved Ghilherme Lobo 0\n",
      "saved Rance Howard 0\n",
      "saved Milo Gibson 0\n",
      "saved Alma Jodorowsky 0\n",
      "saved Paul Scheer 0\n",
      "saved Paul Scheer 1\n",
      "saved Ahmed Ezz 0\n",
      "saved Ahmed Ezz 1\n",
      "saved Ahmed Ezz 2\n",
      "saved Bo Burnham 0\n",
      "saved Bo Burnham 1\n",
      "saved Bo Burnham 2\n",
      "failed for Bo Burnham - 2\n",
      "failed for Bo Burnham - 2\n",
      "saved Maika Monroe 0\n",
      "saved Maika Monroe 1\n",
      "saved Maika Monroe 2\n",
      "failed for Maika Monroe - 2\n",
      "saved Patty Andrews 0\n",
      "saved Karl Michael Vogler 0\n",
      "saved Pierre Richard 0\n",
      "saved Pierre Richard 1\n",
      "saved Ann Harding 0\n",
      "saved Bob Dylan 0\n",
      "saved Hiram Keller 0\n",
      "saved Hiram Keller 1\n",
      "saved Hiram Keller 2\n",
      "saved Lautaro Delgado Tymruk 0\n",
      "failed for Lautaro Delgado Tymruk - 0\n",
      "saved Louise Sorel 0\n",
      "saved Lawrence Gray 0\n",
      "saved Duane Jones 0\n",
      "saved Ladislav Jakim 0\n",
      "saved Arkadi Trusov 0\n",
      "saved Feodor Chaliapin Jr. 0\n",
      "saved Lance Guest 0\n",
      "failed for Tony Page - 0\n",
      "saved Aleksandr Filippenko 0\n",
      "saved Shawn Elliott 0\n",
      "saved Barbara Bosson 0\n",
      "saved Barry Tubb 0\n",
      "saved George Cheung 0\n",
      "saved Spike Lee 0\n",
      "saved Spike Lee 1\n",
      "saved Spike Lee 2\n",
      "saved Michael Rooker 0\n",
      "saved Michael Rooker 1\n",
      "saved Michael Rooker 2\n",
      "saved Gretchen Palmer 0\n",
      "saved David Ackroyd 0\n",
      "saved Rob LaBelle 0\n",
      "saved Paul Mercurio 0\n",
      "saved Bolek Polívka 0\n",
      "saved Bolek Polívka 1\n",
      "saved Bolek Polívka 2\n",
      "saved Dan Marino 0\n",
      "saved Allen Covert 0\n",
      "saved Tommy Davidson 0\n",
      "saved Aleksei Buldakov 0\n",
      "saved Aleksei Buldakov 1\n",
      "saved Brawley Nolte 0\n",
      "saved Michael Caton 0\n",
      "failed for Michael Caton - 0\n",
      "saved Matthew Rhys 0\n",
      "saved Matthew Rhys 1\n",
      "saved Arttu Kapulainen 0\n",
      "saved Aleksandr Lebedev 0\n",
      "saved Ajith Kumar 0\n",
      "saved Yılmaz Erdoğan 0\n",
      "saved Stuart F. Wilson 0\n",
      "failed for Stuart F. Wilson - 0\n",
      "failed for Stuart F. Wilson - 0\n",
      "saved Rohini 0\n",
      "saved Rohini 1\n",
      "saved Jacinda Barrett 0\n",
      "saved Leonie Benesch 0\n",
      "saved Kazuki Kitamura 0\n",
      "saved Kazuki Kitamura 1\n",
      "saved Karine Vanasse 0\n",
      "saved Karine Vanasse 1\n",
      "saved Karine Vanasse 2\n",
      "saved Saber Abar 0\n",
      "saved Ranveer Singh 0\n",
      "saved Ranveer Singh 1\n",
      "saved Catherine Salée 0\n",
      "saved Lakeith Stanfield 0\n",
      "saved Lakeith Stanfield 1\n",
      "failed for Lakeith Stanfield - 1\n",
      "saved Rahul Madhav 0\n",
      "saved Aleksandra Ursulyak 0\n",
      "saved Aleksandra Ursulyak 1\n",
      "saved Aleksandra Ursulyak 2\n",
      "saved Alan Powell 0\n",
      "failed for Alan Powell - 0\n",
      "saved Mamie Eisenhower 0\n",
      "saved John Kelly 0\n",
      "saved Gena Rowlands 0\n",
      "saved Gena Rowlands 1\n",
      "saved Gena Rowlands 2\n",
      "saved Vladimir Etush 0\n",
      "saved Isa Danieli 0\n",
      "saved Cesar De Sutter 0\n",
      "saved Richard Shannon 0\n",
      "saved James Dixon 0\n",
      "failed for Aakash Dabhade - 0\n",
      "saved Nigel Terry 0\n",
      "saved Margit Carstensen 0\n",
      "saved Michael McGuire 0\n",
      "saved Edward Asner 0\n",
      "saved Lena Nyman 0\n",
      "saved Lena Nyman 1\n",
      "saved Dolores del Río 0\n",
      "saved Dolores del Río 1\n",
      "saved Julio Peña 0\n",
      "saved Axel Düberg 0\n",
      "failed for Axel Düberg - 0\n",
      "saved Gottfried John 0\n",
      "saved Hart Bochner 0\n",
      "saved Carlo Verdone 0\n",
      "saved Carlo Verdone 1\n",
      "saved Carlo Verdone 2\n",
      "saved Mick Ford 0\n",
      "failed for Chris Parker - 0\n",
      "saved Carter Wong 0\n",
      "saved Carter Wong 1\n",
      "saved David Hayman 0\n",
      "saved David Hayman 1\n",
      "saved David Hayman 2\n",
      "saved Claudia Christian 0\n",
      "saved Claudia Christian 1\n",
      "saved Claudia Christian 2\n",
      "saved Wallace Langham 0\n",
      "saved Katarzyna Figura 0\n",
      "saved Katarzyna Figura 1\n",
      "saved Katarzyna Figura 2\n",
      "saved Jeff East 0\n",
      "saved Jeff East 1\n",
      "saved 刘洵 0\n",
      "saved 刘洵 1\n",
      "saved Kate Gartside 0\n",
      "failed for Kate Gartside - 0\n",
      "saved Mohammadreza Sharifinia 0\n",
      "saved David Lascher 0\n",
      "saved Eric Michael Cole 0\n",
      "saved Lisa Kudrow 0\n",
      "saved Lisa Kudrow 1\n",
      "saved Lisa Kudrow 2\n",
      "failed for Cecilia Narova - 2\n",
      "saved Michael Badalucco 0\n",
      "saved Henry Cavill 0\n",
      "saved Henry Cavill 1\n",
      "saved Henry Cavill 2\n",
      "saved Steve Braun 0\n",
      "failed for Steve Braun - 0\n",
      "saved Delaina Mitchell 0\n",
      "saved Wayne Duvall 0\n",
      "saved Babou Ceesay 0\n",
      "saved Noah Jupe 0\n",
      "saved Noah Jupe 1\n",
      "saved Noah Jupe 2\n",
      "saved Sunkrish Bala 0\n",
      "saved Lembit Ulfsak 0\n",
      "failed for Lembit Ulfsak - 0\n",
      "saved Rick Fox 0\n",
      "failed for Rick Fox - 0\n",
      "saved Kyle Mooney 0\n",
      "saved Kyle Mooney 1\n",
      "saved Brooke Satchwell 0\n",
      "saved Byron Bowers 0\n",
      "saved Christine Ko 0\n",
      "saved Christine Ko 1\n",
      "saved Peter Jones 0\n",
      "saved Henri Letondal 0\n",
      "saved William Katt 0\n",
      "saved Bunta Sugawara 0\n",
      "saved Bunta Sugawara 1\n",
      "saved Bunta Sugawara 2\n",
      "saved Valerie Allen 0\n",
      "saved Mickey Rooney 0\n",
      "saved Aleksey Poluyan 0\n",
      "saved Eugenie Leontovich 0\n",
      "saved Sharon Lynn 0\n",
      "saved Tim Conway 0\n",
      "saved Richard Harris 0\n",
      "saved Richard Harris 1\n",
      "saved Richard Harris 2\n",
      "saved Vladlen Davydov 0\n",
      "saved Riccardo Garrone 0\n",
      "saved Lois Moran 0\n",
      "saved Anthony Chinn 0\n",
      "saved Joanne Woodward 0\n",
      "saved Warner Oland 0\n",
      "saved Warner Oland 1\n",
      "saved Lindsay Crouse 0\n",
      "saved Eddie Murphy 0\n",
      "saved Eddie Murphy 1\n",
      "saved Eddie Murphy 2\n",
      "saved Sabine Azéma 0\n",
      "saved Maia Brewton 0\n",
      "saved Colin Friels 0\n",
      "saved Christine Baranski 0\n",
      "saved Christine Baranski 1\n",
      "saved Mariangela Giordano 0\n",
      "saved Mariangela Giordano 1\n",
      "saved Mariangela Giordano 2\n",
      "saved Bill Dunn 0\n",
      "saved Michele Lamar Richards 0\n",
      "saved Édith Le Merdy 0\n",
      "saved Barbara O. Jones 0\n",
      "saved Barbara O. Jones 1\n",
      "saved Jaime de Hoyos 0\n",
      "saved Sheila Tousey 0\n",
      "saved Ryan Bollman 0\n",
      "saved Laura Drasbæk 0\n",
      "saved Elizabeth Hurley 0\n",
      "saved Beth Littleford 0\n",
      "saved Hélène de Fougerolles 0\n",
      "failed for Hélène de Fougerolles - 0\n",
      "saved Toni Servillo 0\n",
      "saved Deepika Padukone 0\n",
      "saved Deepika Padukone 1\n",
      "saved Deepika Padukone 2\n",
      "saved John Boyega 0\n",
      "saved John Boyega 1\n",
      "saved John Boyega 2\n",
      "failed for John Boyega - 2\n",
      "saved Lewis Hamilton 0\n",
      "saved Lewis Hamilton 1\n",
      "saved Lewis Hamilton 2\n",
      "saved Roman Griffin Davis 0\n",
      "saved Roman Griffin Davis 1\n",
      "saved Roman Griffin Davis 2\n",
      "failed for Roman Griffin Davis - 2\n",
      "saved Michael E. Mann 0\n",
      "saved Khaled Abol Naga 0\n",
      "saved Reiko Sato 0\n",
      "saved Donald Stuart 0\n",
      "saved Jean Willes 0\n",
      "saved Jean Willes 1\n",
      "saved Pat Carroll 0\n",
      "saved Edythe Chapman 0\n",
      "saved Christiane Kubrick 0\n",
      "saved Elena Verdugo 0\n",
      "saved Elena Verdugo 1\n",
      "saved Lee Meriwether 0\n",
      "saved Mary Vivian Pearce 0\n",
      "saved Nicole Courcel 0\n",
      "saved Nicole Courcel 1\n",
      "saved Kim Stanley 0\n",
      "saved Margaret Rutherford 0\n",
      "saved Margaret Rutherford 1\n",
      "saved Margaret Rutherford 2\n",
      "saved Jodie Whittaker 0\n",
      "saved Jodie Whittaker 1\n",
      "saved Jodie Whittaker 2\n",
      "saved Yudif Glizer 0\n",
      "saved Anny Duperey 0\n",
      "saved Anny Duperey 1\n",
      "saved Anny Duperey 2\n",
      "saved Chuck Roberson 0\n",
      "saved Luis Alberni 0\n",
      "saved Daniel Schmid 0\n",
      "saved Len Cariou 0\n",
      "failed for Len Cariou - 0\n",
      "saved Richard B. Shull 0\n",
      "saved Siobhan Finneran 0\n",
      "saved Ray Liotta 0\n",
      "saved Ray Liotta 1\n",
      "saved Ray Liotta 2\n",
      "saved Silvio Orlando 0\n",
      "saved Silvio Orlando 1\n",
      "saved Debra Eisenstadt 0\n",
      "saved David Fox 0\n",
      "saved Adam Pascal 0\n",
      "saved Daniel York 0\n",
      "saved Gabriel Garko 0\n",
      "saved Eric Johnson 0\n",
      "saved Eric Johnson 1\n",
      "saved Eric Johnson 2\n",
      "saved Philipp Baltus 0\n",
      "saved Ferran Rañé 0\n",
      "saved Matthew Goode 0\n",
      "saved Li Bingbing 0\n",
      "saved Dhani Harrison 0\n",
      "saved Noel Clarke 0\n",
      "saved Antoine Bertrand 0\n",
      "saved Élise Lhomeau 0\n",
      "saved Mohan Kapur 0\n",
      "failed for Mohan Kapur - 0\n",
      "saved Quincy Fouse 0\n",
      "failed for Quincy Fouse - 0\n",
      "saved Ellie Bamber 0\n",
      "saved Huub Smit 0\n",
      "saved Huub Smit 1\n",
      "saved Huub Smit 2\n",
      "saved Benjamin Cook 0\n",
      "saved Joseph Mawle 0\n",
      "saved Joseph Mawle 1\n",
      "saved Tim Ahern 0\n",
      "saved Tim Ahern 1\n",
      "saved Tim Ahern 2\n",
      "saved Teya Wild 0\n",
      "saved Fred Kohler 0\n",
      "saved Jean Cocteau 0\n",
      "saved Dub Taylor 0\n",
      "saved Hilton Edwards 0\n",
      "saved Amy Aaröe 0\n",
      "saved Amanda Blake 0\n",
      "saved Mary Michael 0\n",
      "saved Peter Fonda 0\n",
      "saved Paul Henreid 0\n",
      "saved Diana Van der Vlis 0\n",
      "saved Katherine Warren 0\n",
      "saved Grigori Aleksandrov 0\n",
      "saved Charlotte Greenwood 0\n",
      "saved Olga Lindo 0\n",
      "saved John Bell 0\n",
      "saved Carole Gray 0\n",
      "saved Stéphane Audran 0\n",
      "saved Stéphane Audran 1\n",
      "saved Stéphane Audran 2\n",
      "saved Jessica Walter 0\n",
      "saved Jessica Walter 1\n",
      "saved Hazel Court 0\n",
      "saved James Booth 0\n",
      "saved Danielle De Metz 0\n",
      "saved David Rappaport 0\n",
      "saved Melody Anderson 0\n",
      "saved Melody Anderson 1\n",
      "saved Melody Anderson 2\n",
      "saved Marzena Trybała 0\n",
      "saved Peter Weller 0\n",
      "saved Tracey Gold 0\n",
      "saved Stanislav Lyubshin 0\n",
      "saved Rocky Giordani 0\n",
      "saved Andrée Bernard 0\n",
      "saved Andrée Bernard 1\n",
      "saved Adivi Sesh 0\n",
      "saved Donnie Yen 0\n",
      "saved Donnie Yen 1\n",
      "saved Donnie Yen 2\n",
      "saved Joseph Siravo 0\n",
      "saved Viktor Bychkov 0\n",
      "saved Viktor Bychkov 1\n",
      "saved Ron White 0\n",
      "saved Miroslav Táborský 0\n",
      "saved Miroslav Táborský 1\n",
      "saved Jennifer Esposito 0\n",
      "saved Jennifer Esposito 1\n",
      "saved Jennifer Esposito 2\n",
      "saved Steve Hayes 0\n",
      "failed for Randy Cartwright - 0\n",
      "saved Olivier Rabourdin 0\n",
      "saved Olivier Rabourdin 1\n",
      "saved Benu Mabhena 0\n",
      "saved Anders Heinrichsen 0\n",
      "saved Karina Fernandez 0\n",
      "saved Rajkummar Rao 0\n",
      "saved Rajkummar Rao 1\n",
      "saved Rajkummar Rao 2\n",
      "saved Biswajit Chakraborty 0\n",
      "saved Daniel Webber 0\n",
      "saved Betty Gilpin 0\n",
      "saved Betty Gilpin 1\n",
      "saved Betty Gilpin 2\n",
      "saved Birgitte Federspiel 0\n",
      "saved Birgitte Federspiel 1\n",
      "saved Birgitte Federspiel 2\n",
      "saved Alfie Bass 0\n",
      "saved Jules Dassin 0\n",
      "saved Janice Logan 0\n",
      "saved Michel Serrault 0\n",
      "saved Dudley Sutton 0\n",
      "saved Ethel Barrymore 0\n",
      "saved Ethel Barrymore 1\n",
      "saved Madhabi Mukherjee 0\n",
      "saved Joe Silver 0\n",
      "saved James Gammon 0\n",
      "saved Lynne Marta 0\n",
      "saved Johnny Knoxville 0\n",
      "saved Brian Oulton 0\n",
      "saved Christina Hendricks 0\n",
      "saved Christina Hendricks 1\n",
      "saved Lissi Alandh 0\n",
      "saved Jerry Paris 0\n",
      "saved Lowell Sherman 0\n",
      "saved Ottavia Piccolo 0\n",
      "saved Ottavia Piccolo 1\n",
      "saved Fabian 0\n",
      "saved Louis C. K. 0\n",
      "saved Louis C. K. 1\n",
      "saved Louis C. K. 2\n",
      "saved James Caan 0\n",
      "saved James Caan 1\n",
      "saved James Caan 2\n",
      "saved Ruy Guerra 0\n",
      "saved Sam McDaniel 0\n",
      "saved Genevieve Tobin 0\n",
      "saved Genevieve Tobin 1\n",
      "saved Nora Swinburne 0\n",
      "saved Christopher Lloyd 0\n",
      "saved Christopher Lloyd 1\n",
      "saved Christopher Lloyd 2\n",
      "saved Michael O'Keefe 0\n",
      "saved Andrea Occhipinti 0\n",
      "saved Eric Roberts 0\n",
      "saved Eric Roberts 1\n",
      "saved Dorota Stalińska 0\n",
      "failed for Dorota Stalińska - 0\n",
      "saved Marc Gowan 0\n",
      "saved Rachel Chagall 0\n",
      "saved Brett Harrelson 0\n",
      "saved Mehmet Kurtuluş 0\n",
      "saved Mike White 0\n",
      "saved Gérard Lanvin 0\n",
      "saved Sławomira Łozińska 0\n",
      "saved Mark Gantt 0\n",
      "saved Mark Gantt 1\n",
      "saved Damon Gupton 0\n",
      "saved Sushmita Sen 0\n",
      "saved Sushmita Sen 1\n",
      "saved Shia LaBeouf 0\n",
      "saved Shia LaBeouf 1\n",
      "saved Shia LaBeouf 2\n",
      "saved Simon Pegg 0\n",
      "saved Simon Pegg 1\n",
      "saved Simon Pegg 2\n",
      "saved Rahul Dev 0\n",
      "saved Ingrid Rubio 0\n",
      "saved Ingrid Rubio 1\n",
      "saved Stipe Erceg 0\n",
      "saved Stipe Erceg 1\n",
      "saved Tania Verafield 0\n",
      "saved Jorge Lendeborg Jr. 0\n",
      "saved Pedro Almodóvar 0\n",
      "saved Pedro Almodóvar 1\n",
      "saved Pedro Almodóvar 2\n",
      "failed for Pedro Almodóvar - 2\n",
      "saved Carla Quevedo 0\n",
      "saved Florence Korokoro 0\n",
      "saved Rockline Venkatesh 0\n",
      "failed for Jeanette Branch - 0\n",
      "saved Velibor Topic 0\n",
      "saved Akash Thosar 0\n",
      "saved Ekin Koç 0\n",
      "failed for Ekin Koç - 0\n",
      "saved Douglas Dick 0\n",
      "saved Douglas Dick 1\n",
      "failed for Douglas Dick - 1\n",
      "saved Ann Wedgeworth 0\n",
      "saved Michael Ripper 0\n",
      "saved Michael Ripper 1\n",
      "saved Burgess Meredith 0\n",
      "saved Burgess Meredith 1\n",
      "saved Danneel Ackles 0\n",
      "saved Angela Scoular 0\n",
      "saved Chris Drake 0\n",
      "saved Andréa Ferréol 0\n",
      "saved Andréa Ferréol 1\n",
      "saved Wirgiliusz Gryń 0\n",
      "saved Nikolay Volkov 0\n",
      "saved Lev Borisov 0\n",
      "saved Margaret Rawlings 0\n",
      "saved Basil Sydney 0\n",
      "saved Ruslan Akhmetov 0\n",
      "saved Richard Widmark 0\n",
      "saved Andrew Faulds 0\n",
      "saved Karin Himboldt 0\n",
      "saved Karin Himboldt 1\n",
      "saved Cinzia de Ponti 0\n",
      "saved Cinzia de Ponti 1\n",
      "saved Sharon Gless 0\n",
      "failed for Sharon Gless - 0\n",
      "failed for Sharon Gless - 0\n",
      "saved Richard Council 0\n",
      "failed for Richard Council - 0\n",
      "saved Gary Riley 0\n",
      "saved Damon Redfern 0\n",
      "saved Simon McBurney 0\n",
      "saved Simon McBurney 1\n",
      "saved Simon McBurney 2\n",
      "saved Quentin Crisp 0\n",
      "saved Blake Heron 0\n",
      "failed for Kirsten Kieferle - 0\n",
      "saved Despina Bebedelli 0\n",
      "saved Tricia Vessey 0\n",
      "saved Hywel Bennett 0\n",
      "saved Hywel Bennett 1\n",
      "saved George H. W. Bush 0\n",
      "saved George H. W. Bush 1\n",
      "saved John Brandon 0\n",
      "saved Marguerite Moreau 0\n",
      "saved Aki Maeda 0\n",
      "saved Aki Maeda 1\n",
      "saved Aki Maeda 2\n",
      "saved Bindu Panicker 0\n",
      "saved Amy Sedaris 0\n",
      "saved Amy Sedaris 1\n",
      "saved Amy Sedaris 2\n",
      "saved Carly Schroeder 0\n",
      "saved Ben Whishaw 0\n",
      "saved Ben Whishaw 1\n",
      "saved Ben Whishaw 2\n",
      "saved Tom Budge 0\n",
      "saved Katsuo Nakamura 0\n",
      "saved Luca Marinelli 0\n",
      "saved Luca Marinelli 1\n",
      "saved Luca Marinelli 2\n",
      "failed for Luca Marinelli - 2\n",
      "saved Mani Haghighi 0\n",
      "saved Thomas Trabacchi 0\n",
      "failed for Thomas Trabacchi - 0\n",
      "saved Xu Jiao 0\n",
      "saved Xu Jiao 1\n",
      "failed for Xu Jiao - 1\n",
      "failed for Xu Jiao - 1\n",
      "saved Marie Dressler 0\n",
      "saved Lloyd Nolan 0\n",
      "saved Lloyd Nolan 1\n",
      "saved John Rubinstein 0\n",
      "saved Malgorzata Braunek 0\n",
      "saved Claire Bloom 0\n",
      "saved Claudia Lennear 0\n",
      "failed for Claudia Lennear - 0\n",
      "saved Antoine Balpêtré 0\n",
      "saved Ralph Byrd 0\n",
      "saved Leyland Hodgson 0\n",
      "saved John Garfield 0\n",
      "saved Esther Dale 0\n",
      "saved Lela Bliss 0\n",
      "saved Linda Gaye Scott 0\n",
      "saved Linda Gaye Scott 1\n",
      "saved Jack Soo 0\n",
      "saved Gaston Modot 0\n",
      "saved Leon Ames 0\n",
      "saved Neil Diamond 0\n",
      "saved Neil Diamond 1\n",
      "saved Neil Diamond 2\n",
      "saved Kader Khan 0\n",
      "saved Kader Khan 1\n",
      "saved Kader Khan 2\n",
      "saved Kathy Lester 0\n",
      "saved Jess Conrad 0\n",
      "saved Lisa Blount 0\n",
      "saved Lisa Blount 1\n",
      "saved Lisa Blount 2\n",
      "saved Stefan Arngrim 0\n",
      "saved Stefan Arngrim 1\n",
      "saved Icíar Bollaín 0\n",
      "saved Francisco Merino 0\n",
      "saved Carolyn McCormick 0\n",
      "saved Taimak 0\n",
      "saved Sydney Penny 0\n",
      "saved Kiefer Sutherland 0\n",
      "saved Kiefer Sutherland 1\n",
      "saved Kiefer Sutherland 2\n",
      "saved Pernilla August 0\n",
      "failed for David Mucci - 0\n",
      "saved David Lynch 0\n",
      "saved David Lynch 1\n",
      "saved David Lynch 2\n",
      "saved Lynn Whitfield 0\n",
      "saved Julian Lewis Jones 0\n",
      "failed for Tapio Liinoja - 0\n",
      "saved Uri Geller 0\n",
      "saved Meltem Cumbul 0\n",
      "saved Odette Annable 0\n",
      "saved Odette Annable 1\n",
      "saved Odette Annable 2\n",
      "saved Christian Camargo 0\n",
      "saved Eric Balfour 0\n",
      "saved Eva Röse 0\n",
      "saved Eva Röse 1\n",
      "saved Eva Röse 2\n",
      "saved Ryan Donowho 0\n",
      "saved Amber Benson 0\n",
      "failed for Amber Benson - 0\n",
      "saved Gord Downie 0\n",
      "saved Gord Downie 1\n",
      "saved Gord Downie 2\n",
      "saved Narsing Yadav 0\n",
      "saved Giorgos Symeonidis 0\n",
      "saved Giorgos Symeonidis 1\n",
      "saved Nandana Sen 0\n",
      "saved Sarah Snook 0\n",
      "saved Sarah Snook 1\n",
      "saved Sarah Snook 2\n",
      "failed for Sarah Snook - 2\n",
      "saved Raashi Khanna 0\n",
      "saved Raashi Khanna 1\n",
      "saved Raashi Khanna 2\n",
      "saved Tony Bellew 0\n",
      "saved Ross Alexander 0\n",
      "saved Rolf Becker 0\n",
      "saved Gary Burghoff 0\n",
      "saved Diane Brewster 0\n",
      "saved Reggie Nalder 0\n",
      "saved Holger Löwenadler 0\n",
      "saved Pierre Renoir 0\n",
      "failed for Pierre Renoir - 0\n",
      "saved Madeline Smith 0\n",
      "saved Madeline Smith 1\n",
      "saved Madeline Smith 2\n",
      "saved Gajala 0\n",
      "saved Carol Kane 0\n",
      "saved Carol Kane 1\n",
      "saved Carol Kane 2\n",
      "saved Bret Roberts 0\n",
      "failed for Bret Roberts - 0\n",
      "saved Barlowe Borland 0\n",
      "saved Harold Vermilyea 0\n",
      "saved Johnny Mitchell 0\n",
      "failed for Johnny Mitchell - 0\n",
      "saved Virginia Christine 0\n",
      "saved Paul Ryan 0\n",
      "failed for Paul Ryan - 0\n",
      "saved Blake Lively 0\n",
      "saved Blake Lively 1\n",
      "saved Blake Lively 2\n",
      "saved Christopher Reeve 0\n",
      "saved Jason Lively 0\n",
      "saved Yevdokiya Urusova 0\n",
      "saved Christie Brinkley 0\n",
      "saved Jack Purvis 0\n",
      "saved Sandra Ng Kwun-Yu 0\n",
      "saved Bai Ling 0\n",
      "saved Bai Ling 1\n",
      "saved K.K. Raina 0\n",
      "saved Franka Potente 0\n",
      "saved Franka Potente 1\n",
      "saved Franka Potente 2\n",
      "failed for Donald Holden - 2\n",
      "saved Philip A. Patterson 0\n",
      "saved Esha Deol 0\n",
      "saved Esha Deol 1\n",
      "saved Nahuel Pérez Biscayart 0\n",
      "saved Nahuel Pérez Biscayart 1\n",
      "saved Fernando Cayo 0\n",
      "saved Fernando Cayo 1\n",
      "saved Fernando Cayo 2\n",
      "failed for Igor Ovadis - 2\n",
      "failed for Igor Ovadis - 2\n",
      "failed for Anna Cottis - 2\n",
      "saved Esther Garrel 0\n",
      "saved Esther Garrel 1\n",
      "saved Esther Garrel 2\n",
      "saved Ben Fankhauser 0\n",
      "saved Ben Fankhauser 1\n",
      "saved Thomas Hellberg 0\n",
      "saved Fred Allen 0\n",
      "saved Spencer Charters 0\n",
      "saved John Entwistle 0\n",
      "saved Pauline Carton 0\n",
      "saved Jane Fonda 0\n",
      "saved Jane Fonda 1\n",
      "saved Jane Fonda 2\n",
      "saved Alfonso Bedoya 0\n",
      "saved Michael Gothard 0\n",
      "saved Ray Lovelock 0\n",
      "saved Ray Lovelock 1\n",
      "saved Kiel Martin 0\n",
      "saved John Welsh 0\n",
      "saved Tadeusz Łomnicki 0\n",
      "saved Tadeusz Łomnicki 1\n",
      "saved John McIntire 0\n",
      "saved Candice Bergen 0\n",
      "saved Candice Bergen 1\n",
      "saved Candice Bergen 2\n",
      "saved Lymari Nadal 0\n",
      "saved Lymari Nadal 1\n",
      "saved Lymari Nadal 2\n",
      "saved Joe Williams 0\n",
      "saved Paolo Malco 0\n",
      "saved Sunshine Parker 0\n",
      "failed for Sunshine Parker - 0\n",
      "saved Rupert Graves 0\n",
      "saved Rupert Graves 1\n",
      "saved Alan Wilder 0\n",
      "failed for Alan Wilder - 0\n",
      "saved Jordan Lund 0\n",
      "saved Véronique Le Flaguais 0\n",
      "failed for Véronique Le Flaguais - 0\n",
      "saved Seema Biswas 0\n",
      "saved Peter Scolari 0\n",
      "saved Peter Scolari 1\n",
      "saved Peter Scolari 2\n",
      "saved Lorraine Toussaint 0\n",
      "saved Marian Filali 0\n",
      "saved Vicki Lewis 0\n",
      "saved Takako Matsu 0\n",
      "failed for Takako Matsu - 0\n",
      "saved Chris Bauer 0\n",
      "saved Chris Bauer 1\n",
      "saved Chris Bauer 2\n",
      "saved Aleksey Makarov 0\n",
      "saved Carlos Echevarría 0\n",
      "saved Maryann Plunkett 0\n",
      "saved Jay Shih 0\n",
      "saved Jay Shih 1\n",
      "saved Jay Shih 2\n",
      "saved Camilla Belle 0\n",
      "saved Camilla Belle 1\n",
      "saved Dan Bilzerian 0\n",
      "saved Nick Nevern 0\n",
      "saved Nick Nevern 1\n",
      "saved Dileep Rao 0\n",
      "failed for Chirag Vohra - 0\n",
      "saved Jeff Bennett 0\n",
      "saved Christina Hecke 0\n",
      "saved Haru Kuroki 0\n",
      "saved Shota Sometani 0\n",
      "saved Vimala Pons 0\n",
      "saved Vimala Pons 1\n",
      "saved Ken Thomas 0\n",
      "saved Andreea Vasile 0\n",
      "saved Scott Johnson 0\n",
      "saved Viktor Zhdanov 0\n",
      "saved Viktor Zhdanov 1\n",
      "saved Philip Dorn 0\n",
      "saved Warren Hull 0\n",
      "saved Mario Siletti 0\n",
      "saved Paola Borboni 0\n",
      "saved Gérard Oury 0\n",
      "saved Gérard Oury 1\n",
      "saved Frank Finlay 0\n",
      "saved Simon Oakland 0\n",
      "saved Erland Josephson 0\n",
      "saved Erland Josephson 1\n",
      "failed for Erland Josephson - 1\n",
      "saved Jeff Kahn 0\n",
      "failed for Jeff Kahn - 0\n",
      "saved Dagny Lind 0\n",
      "saved James Stacy 0\n",
      "saved Guo Xiaodong 0\n",
      "saved Lyubov Dobrzhanskaya 0\n",
      "failed for Lyubov Dobrzhanskaya - 0\n",
      "saved Jean Muir 0\n",
      "saved Ben Welden 0\n",
      "saved Nino Manfredi 0\n",
      "saved Nino Manfredi 1\n",
      "saved Nino Manfredi 2\n",
      "saved Nancy Kulp 0\n",
      "failed for Nancy Kulp - 0\n",
      "saved Jon Cedar 0\n",
      "saved Juan Diego 0\n",
      "saved Sally Yeh 0\n",
      "saved Sally Yeh 1\n",
      "saved John Paragon 0\n",
      "saved Jack Gilpin 0\n",
      "saved Michael D. Roberts 0\n",
      "saved Henry Lau 0\n",
      "saved Henry Lau 1\n",
      "saved Henry Lau 2\n",
      "saved Helmar Augustus Cooper 0\n",
      "saved Ge You 0\n",
      "saved Steve Zahn 0\n",
      "saved Steve Zahn 1\n",
      "saved Steve Zahn 2\n",
      "saved Ivonne Coll 0\n",
      "saved Ivonne Coll 1\n",
      "saved Ivonne Coll 2\n",
      "failed for Ivonne Coll - 2\n",
      "saved Sun Honglei 0\n",
      "saved Sun Honglei 1\n",
      "saved Jay Chandrasekhar 0\n",
      "saved Marisa Coughlan 0\n",
      "saved Heidi Marnhout 0\n",
      "saved Hugh Bonneville 0\n",
      "saved Nathan Jones 0\n",
      "saved Nathan Jones 1\n",
      "saved Eva Duarte de Perón 0\n",
      "saved Nick Frost 0\n",
      "saved Michelle Krusiec 0\n",
      "saved Tim Reid 0\n",
      "saved Kaniha 0\n",
      "saved Kaniha 1\n",
      "saved Kaniha 2\n",
      "saved Go Ah-sung 0\n",
      "saved Neil Young 0\n",
      "failed for Neil Young - 0\n",
      "saved Andy Umberger 0\n",
      "saved Deepak Parambol 0\n",
      "saved Sam Trammell 0\n",
      "saved Sam Trammell 1\n",
      "saved Sam Trammell 2\n",
      "failed for Sam Trammell - 2\n",
      "saved Donatella Finocchiaro 0\n",
      "failed for Donatella Finocchiaro - 0\n",
      "saved Brian Caspe 0\n",
      "saved Bobby Robson 0\n",
      "failed for Susan Stryker - 0\n",
      "saved Evelyn Brent 0\n",
      "saved Virginia Leith 0\n",
      "saved Anatoli Ktorov 0\n",
      "saved Anatoli Ktorov 1\n",
      "saved Jeanne De Casalis 0\n",
      "saved Yevgeni Teterin 0\n",
      "saved Robert 'Buzz' Henry 0\n",
      "saved José Luis de Villalonga 0\n",
      "saved José Luis de Villalonga 1\n",
      "saved Allen Midgette 0\n",
      "saved René Génin 0\n",
      "saved Gordon Mitchell 0\n",
      "saved Walter Matthau 0\n",
      "saved Walter Matthau 1\n",
      "saved Walter Matthau 2\n",
      "saved Marilyn Buferd 0\n",
      "saved Marilyn Buferd 1\n",
      "saved Charles Drake 0\n",
      "saved Charles Drake 1\n",
      "saved Marilyn Eastman 0\n",
      "saved Gino Cervi 0\n",
      "saved Karen Ludwig 0\n",
      "saved Jean Seberg 0\n",
      "saved Jean Seberg 1\n",
      "saved Jean Seberg 2\n",
      "failed for Jean Seberg - 2\n",
      "saved Olof Winnerstrand 0\n",
      "saved Tadeusz Bradecki 0\n",
      "saved Lena Horne 0\n",
      "saved James Darren 0\n",
      "saved Sharon Brown 0\n",
      "saved Germán Cobos 0\n",
      "saved Sanjay Dutt 0\n",
      "saved Sanjay Dutt 1\n",
      "saved Sanjay Dutt 2\n",
      "saved Sean McCann 0\n",
      "saved Sean McCann 1\n",
      "saved Sihung Lung 0\n",
      "saved Alexis Arquette 0\n",
      "saved David Newsom 0\n",
      "saved Donald Faison 0\n",
      "saved Brigitte Bako 0\n",
      "saved Yutaka Matsushige 0\n",
      "saved Nicole DeHuff 0\n",
      "saved Gerald Ford 0\n",
      "saved Clayne Crawford 0\n",
      "saved Clayne Crawford 1\n",
      "saved Cesar Ramos 0\n",
      "saved David Ellison 0\n",
      "saved David Ellison 1\n",
      "saved David Ellison 2\n",
      "saved Mark Gatiss 0\n",
      "saved Hoze Meléndez 0\n",
      "failed for Hoze Meléndez - 0\n",
      "saved Ulrike C. Tscharre 0\n",
      "saved Victoria Hill 0\n",
      "saved Victoria Hill 1\n",
      "failed for Victoria Hill - 1\n",
      "saved Linda Powell 0\n",
      "saved Ruby Bentall 0\n",
      "saved Ruby Bentall 1\n",
      "saved Ruby Bentall 2\n",
      "saved Howard Keel 0\n",
      "saved Eva Axén 0\n",
      "saved Shobha Mohan 0\n",
      "saved Mircea Monroe 0\n",
      "saved Mircea Monroe 1\n",
      "saved Mircea Monroe 2\n",
      "saved Betty Ross Clarke 0\n",
      "saved Barbara Steele 0\n",
      "saved Barbara Steele 1\n",
      "saved Barbara Steele 2\n",
      "saved Kip Niven 0\n",
      "saved Harry Earles 0\n",
      "saved Anne Bancroft 0\n",
      "saved Anne Bancroft 1\n",
      "saved Anne Bancroft 2\n",
      "saved Darbha Appaji Ambarisha 0\n",
      "saved Ruth Buzzi 0\n",
      "saved Eddie Firestone 0\n",
      "saved Eddie Firestone 1\n",
      "saved Antony Carbone 0\n",
      "saved Caprice Toriel 0\n",
      "saved Guy Standing 0\n",
      "saved Monika Schurmann 0\n",
      "saved Monika Schurmann 1\n",
      "saved Monika Schurmann 2\n",
      "saved Norah Baring 0\n",
      "saved Robert Plant 0\n",
      "saved William Hartnell 0\n",
      "saved Fred Clark 0\n",
      "saved Viktor Kosykh 0\n",
      "saved Viktor Kosykh 1\n",
      "failed for Viktor Kosykh - 1\n",
      "saved Philippe Laudenbach 0\n",
      "saved Laura Morante 0\n",
      "saved Laura Morante 1\n",
      "saved Laura Morante 2\n",
      "saved Robert Ito 0\n",
      "saved Robert Ito 1\n",
      "saved Lori Loughlin 0\n",
      "saved Lori Loughlin 1\n",
      "failed for Mark Torgl - 1\n",
      "saved Fred Willard 0\n",
      "saved Richard Portnow 0\n",
      "saved Pyotr Mamonov 0\n",
      "saved Dan Gauthier 0\n",
      "saved Madhavi 0\n",
      "saved Fred Dalton Thompson 0\n",
      "saved Leon Lai 0\n",
      "saved Leon Lai 1\n",
      "saved Leon Lai 2\n",
      "saved Vincent Craig Dupree 0\n",
      "saved Rob Morrow 0\n",
      "saved Rob Morrow 1\n",
      "saved Rob Morrow 2\n",
      "saved François Perrot 0\n",
      "saved Sean O'Bryan 0\n",
      "saved Gerard McSorley 0\n",
      "saved Yoriko Douguchi 0\n",
      "saved Kate Bosworth 0\n",
      "saved Kate Bosworth 1\n",
      "saved Heiner Lauterbach 0\n",
      "saved Ulrich Matthes 0\n",
      "saved Alex Dimitriades 0\n",
      "failed for Alex Dimitriades - 0\n",
      "saved Rosa Salazar 0\n",
      "saved Rosa Salazar 1\n",
      "saved Rosa Salazar 2\n",
      "failed for Rosa Salazar - 2\n",
      "failed for Gylfi Zoega - 2\n",
      "saved Tannishtha Chatterjee 0\n",
      "failed for Tannishtha Chatterjee - 0\n",
      "failed for Tannishtha Chatterjee - 0\n",
      "saved Priyanka Arul Mohan 0\n",
      "saved Priyanka Arul Mohan 1\n",
      "failed for Darsheel Safary - 1\n",
      "saved John Arnatt 0\n",
      "saved Rasika Joshi 0\n",
      "saved Pavel Pavlenko 0\n",
      "saved Ian Richardson 0\n",
      "saved Binnie Barnes 0\n",
      "saved Peter Ostrum 0\n",
      "saved Amara Karan 0\n",
      "saved Amara Karan 1\n",
      "saved Jason Lewis 0\n",
      "saved Jason Lewis 1\n",
      "saved Kathleen Howard 0\n",
      "saved Robert Keith 0\n",
      "saved Robert Wall 0\n",
      "saved Macon McCalman 0\n",
      "saved Alexia Fast 0\n",
      "saved Murvyn Vye 0\n",
      "saved Kathryn Harrold 0\n",
      "saved Robert Small 0\n",
      "saved Robert Small 1\n",
      "saved Dody Goodman 0\n",
      "saved Ágata Lys 0\n",
      "saved Gary Basaraba 0\n",
      "saved Imma Colomer Marcet 0\n",
      "saved Paul Chun 0\n",
      "saved Stuart Devenie 0\n",
      "saved Stuart Devenie 1\n",
      "saved Kevin Crowley 0\n",
      "saved Campbell Scott 0\n",
      "saved Campbell Scott 1\n",
      "saved Campbell Scott 2\n",
      "saved Amy Yasbeck 0\n",
      "saved Amy Yasbeck 1\n",
      "saved Dimitris Poulikakos 0\n",
      "saved Madeline Zima 0\n",
      "saved Madeline Zima 1\n",
      "saved Vincenzo Peluso 0\n",
      "saved Leonor Benedetto 0\n",
      "saved Damian Chapa 0\n",
      "saved May Chin 0\n",
      "saved Gina McKee 0\n",
      "saved Paco Christian Prieto 0\n",
      "saved Faye Wong 0\n",
      "saved Rusty Schwimmer 0\n",
      "saved Gavin O'Connor 0\n",
      "saved Elmar Wepper 0\n",
      "failed for John Forgeham - 0\n",
      "saved Hector Elias 0\n",
      "saved Aoi Miyazaki 0\n",
      "saved Aoi Miyazaki 1\n",
      "saved Aoi Miyazaki 2\n",
      "saved Yao Di 0\n",
      "saved Reggie Watts 0\n",
      "saved George Pistereanu 0\n",
      "saved George Pistereanu 1\n",
      "saved Gökçe Bahadır 0\n",
      "saved Gökçe Bahadır 1\n",
      "saved Christopher Sommers 0\n",
      "saved Reni Pittaki 0\n",
      "failed for Reni Pittaki - 0\n",
      "failed for Reni Pittaki - 0\n",
      "saved Ted Pluviose 0\n",
      "saved Ted Pluviose 1\n",
      "saved Ted Pluviose 2\n",
      "failed for Ted Pluviose - 2\n",
      "saved Brett Cullen 0\n",
      "saved Michael Emery 0\n",
      "saved Michael Emery 1\n",
      "saved Michael Emery 2\n",
      "saved Anita Date 0\n",
      "saved Biff Elliot 0\n",
      "saved Victoria Zinny 0\n",
      "failed for Victoria Zinny - 0\n",
      "saved Lee Philips 0\n",
      "saved Emma Stone 0\n",
      "saved Emma Stone 1\n",
      "saved Emma Stone 2\n",
      "saved Leslie Banks 0\n",
      "saved Whitney Bourne 0\n",
      "saved Coleen Gray 0\n",
      "saved Howard Duff 0\n",
      "saved Sally Blane 0\n",
      "saved Barry Sullivan 0\n",
      "saved Eva Moore 0\n",
      "saved Roger C. Carmel 0\n",
      "saved George Voskovec 0\n",
      "saved James Philbrook 0\n",
      "saved Eliot Makeham 0\n",
      "saved Hazel Brooks 0\n",
      "saved Pascal Greggory 0\n",
      "saved James Laurenson 0\n",
      "saved Michael Wright 0\n",
      "saved Michael Wright 1\n",
      "saved Stephen Lee 0\n",
      "saved Mark Margolis 0\n",
      "saved Mark Margolis 1\n",
      "saved Clive Riche 0\n",
      "saved Paul Barber 0\n",
      "saved Jennifer Aniston 0\n",
      "saved Jennifer Aniston 1\n",
      "saved Jennifer Aniston 2\n",
      "saved Vladimir Bogdanov 0\n",
      "saved Alakina Mann 0\n",
      "failed for İhsan Bayraktar - 0\n",
      "saved Ata Demirer 0\n",
      "saved Ata Demirer 1\n",
      "saved Asher Angel 0\n",
      "saved Max Martin 0\n",
      "failed for Max Martin - 0\n",
      "failed for Max Martin - 0\n",
      "failed for Max Martin - 0\n",
      "saved Will Tilston 0\n",
      "saved Anatoli Karpov 0\n",
      "saved Jim Parsons 0\n",
      "saved Jim Parsons 1\n",
      "saved Jim Parsons 2\n",
      "saved Artemis 0\n",
      "failed for Artemis - 0\n",
      "failed for Artemis - 0\n",
      "failed for Artemis - 0\n",
      "failed for Jamie Smith - 0\n",
      "saved Norma Bengell 0\n",
      "saved Lea Lander 0\n",
      "saved Dorris Bowdon 0\n",
      "saved Svetlana Starikova 0\n",
      "saved Henry Kolker 0\n",
      "saved Aubrey Mather 0\n",
      "saved Mariah Carey 0\n",
      "saved Mariah Carey 1\n",
      "saved Mariah Carey 2\n",
      "saved Liam Redmond 0\n",
      "saved Vangelis Kazan 0\n",
      "saved Soumitra Chatterjee 0\n",
      "saved Soumitra Chatterjee 1\n",
      "saved Soumitra Chatterjee 2\n",
      "saved Aurore Clément 0\n",
      "saved Rae Allen 0\n",
      "saved Antonio Cifariello 0\n",
      "saved Antonio Cifariello 1\n",
      "saved Bolo Yeung 0\n",
      "saved Bolo Yeung 1\n",
      "saved Tim Daly 0\n",
      "saved Tim Daly 1\n",
      "saved Tim Daly 2\n",
      "saved Henry Winkler 0\n",
      "saved Joel Murray 0\n",
      "saved Pauline Yeung 0\n",
      "saved Russell Crowe 0\n",
      "saved Russell Crowe 1\n",
      "saved Russell Crowe 2\n",
      "saved Lotte Andersen 0\n",
      "saved Lotte Andersen 1\n",
      "saved Debbie Rochon 0\n",
      "saved Tats Lau 0\n",
      "saved Joseph D. Reitman 0\n",
      "saved Debbi Morgan 0\n",
      "saved Brian McGovern 0\n",
      "saved Chitrangada Singh 0\n",
      "saved Lucy Cohu 0\n",
      "saved Mati Diop 0\n",
      "saved Mati Diop 1\n",
      "saved Mati Diop 2\n",
      "failed for Mati Diop - 2\n",
      "saved Radu Iacoban 0\n",
      "failed for Alex Al - 0\n",
      "saved Maddalena Ischiale 0\n",
      "saved Kriti Kharbanda 0\n",
      "saved Vijay Varma 0\n",
      "saved Dani Rovira 0\n",
      "saved Luc Roeg 0\n",
      "saved Gérard Philipe 0\n",
      "saved Gérard Philipe 1\n",
      "saved Robert Baker 0\n",
      "saved Richard Wright 0\n",
      "saved Rutger Hauer 0\n",
      "saved Rutger Hauer 1\n",
      "saved Rutger Hauer 2\n",
      "failed for Rutger Hauer - 2\n",
      "saved Harry Belafonte 0\n",
      "saved Alex Nicol 0\n",
      "saved Pearl Argyle 0\n",
      "saved Stewart Petersen 0\n",
      "saved Angela Douglas 0\n",
      "saved Geraldine Fitzgerald 0\n",
      "saved Geraldine Fitzgerald 1\n",
      "saved Gösta Ekman 0\n",
      "saved Clytie Jessop 0\n",
      "saved Ilja Prachař 0\n",
      "saved Şenay Gürler 0\n",
      "saved Şenay Gürler 1\n",
      "saved William Hurt 0\n",
      "saved William Hurt 1\n",
      "saved William Hurt 2\n",
      "saved Corey Allen 0\n",
      "saved Billy West 0\n",
      "failed for Billy West - 0\n",
      "saved Michael McKean 0\n",
      "saved Michael McKean 1\n",
      "saved Vincent Lindon 0\n",
      "saved Vincent Lindon 1\n",
      "saved R.D. Call 0\n",
      "saved Jo Harvey Allen 0\n",
      "saved Damon Wayans 0\n",
      "saved Damon Wayans 1\n",
      "saved Damon Wayans 2\n",
      "saved Kevin Clash 0\n",
      "saved Alastair Duncan 0\n",
      "saved Alastair Duncan 1\n",
      "saved Sam Behrens 0\n",
      "saved Juan Manuel Bernal 0\n",
      "saved Juan Manuel Bernal 1\n",
      "saved Bruklin Harris 0\n",
      "failed for Bruklin Harris - 0\n",
      "saved Gillian Anderson 0\n",
      "saved Gillian Anderson 1\n",
      "saved Gillian Anderson 2\n",
      "saved Steven Martini 0\n",
      "saved Steve Harvey 0\n",
      "saved A.D. Miles 0\n",
      "saved Lluís Homar 0\n",
      "failed for Lluís Homar - 0\n",
      "saved Pavlos Orkopoulos 0\n",
      "saved Pavlos Orkopoulos 1\n",
      "saved Alison Becker 0\n",
      "failed for Jeanne Dandoy - 0\n",
      "saved Antonia Zegers 0\n",
      "saved Antonia Zegers 1\n",
      "saved Antonia Zegers 2\n",
      "failed for Antonia Zegers - 2\n",
      "failed for Antonia Zegers - 2\n",
      "saved Ty Olsson 0\n",
      "saved Ty Olsson 1\n",
      "saved Caleb Landry Jones 0\n",
      "saved Caleb Landry Jones 1\n",
      "saved John Debney 0\n",
      "saved Sashi Kumar 0\n",
      "failed for Sashi Kumar - 0\n",
      "saved Richard Labuda 0\n",
      "failed for Richard Labuda - 0\n",
      "saved Andreas Matti 0\n",
      "saved Yoon Kye-sang 0\n",
      "saved Yoon Kye-sang 1\n",
      "failed for Yoon Kye-sang - 1\n",
      "failed for Nadia Comăneci - 1\n",
      "saved Anjana Sukhani 0\n",
      "saved Andrée Melly 0\n",
      "saved Rudolf Hrušínský 0\n",
      "saved Rudolf Hrušínský 1\n",
      "saved Matthew Gray Gubler 0\n",
      "saved Matthew Gray Gubler 1\n",
      "saved Matthew Gray Gubler 2\n",
      "saved Liao Fan 0\n",
      "saved Liao Fan 1\n",
      "saved Liao Fan 2\n",
      "saved Bruce Seton 0\n",
      "saved Lenn Kudrjawizki 0\n",
      "saved Ethel Griffies 0\n",
      "saved Lyndon Brook 0\n",
      "saved Oscar Polk 0\n",
      "saved Kathleen Comegys 0\n",
      "saved Mario Novelli 0\n",
      "saved John Travolta 0\n",
      "saved John Travolta 1\n",
      "saved John Travolta 2\n",
      "saved Glenn Close 0\n",
      "saved Glenn Close 1\n",
      "saved Glenn Close 2\n",
      "saved Meral Orhonsay 0\n",
      "saved Mitchell Lichtenstein 0\n",
      "saved Michael Bowen 0\n",
      "saved Michael Bowen 1\n",
      "saved Elizabeth Berridge 0\n",
      "failed for Elizabeth Berridge - 0\n",
      "saved Norihei Miki 0\n",
      "saved Wesley Snipes 0\n",
      "saved Wesley Snipes 1\n",
      "saved Wesley Snipes 2\n",
      "saved Anita Bryant 0\n",
      "saved Steven Waddington 0\n",
      "saved DeVaughn Nixon 0\n",
      "saved Jesús Bonilla 0\n",
      "saved Tsuyoshi Ihara 0\n",
      "saved Tsuyoshi Ihara 1\n",
      "saved Rick Yune 0\n",
      "failed for Rick Yune - 0\n",
      "saved Chad Lindberg 0\n",
      "saved Tia Texada 0\n",
      "failed for Elaine Eca Da Silva - 0\n",
      "saved Kazushi Watanabe 0\n",
      "failed for Kazushi Watanabe - 0\n",
      "saved Ernesto 'Che' Guevara 0\n",
      "saved Desmond Dube 0\n",
      "failed for Minos Theoharis - 0\n",
      "failed for Minos Theoharis - 0\n",
      "saved Marcial Tagle 0\n",
      "saved Marcial Tagle 1\n",
      "saved Sathish Ninasam 0\n",
      "failed for Sathish Ninasam - 0\n",
      "failed for Sathish Ninasam - 0\n",
      "saved Mónica Miguel 0\n",
      "saved Marthe Bernard 0\n",
      "failed for Marthe Bernard - 0\n",
      "saved Mawra Hocane 0\n",
      "saved Mawra Hocane 1\n",
      "saved Lily Banda 0\n",
      "saved Amanda Cerny 0\n",
      "saved Amanda Cerny 1\n",
      "saved Amanda Cerny 2\n",
      "saved Laurie Bird 0\n",
      "saved Una O'Connor 0\n",
      "saved Una O'Connor 1\n",
      "saved Renée Björling 0\n",
      "saved Françoise Arnoul 0\n",
      "saved Harry Antrim 0\n",
      "saved Akiko Koyama 0\n",
      "saved Ray Chang 0\n",
      "failed for Ray Chang - 0\n",
      "saved Frank Sundström 0\n",
      "saved Diana Quick 0\n",
      "saved Timothy Bottoms 0\n",
      "saved Martie Maguire 0\n",
      "saved Karl Dane 0\n",
      "saved Anton Diffring 0\n",
      "saved Anton Diffring 1\n",
      "saved Brenda Joyce 0\n",
      "saved Joe Nunez 0\n",
      "saved Shailene Woodley 0\n",
      "saved Shailene Woodley 1\n",
      "saved Shailene Woodley 2\n",
      "saved Teresa Gimpera 0\n",
      "saved Teresa Gimpera 1\n",
      "saved Bob Hoskins 0\n",
      "saved Bob Hoskins 1\n",
      "saved Ed Harris 0\n",
      "saved Ed Harris 1\n",
      "saved Ed Harris 2\n",
      "saved Jeff Goldblum 0\n",
      "saved Jeff Goldblum 1\n",
      "saved Jeff Goldblum 2\n",
      "saved Brian McNamara 0\n",
      "saved Brian McNamara 1\n",
      "saved Philip Bosco 0\n",
      "failed for Paola Cozzo - 0\n",
      "saved Tony Peck 0\n",
      "saved Ben Savage 0\n",
      "saved Christopher Reid 0\n",
      "failed for Christopher Reid - 0\n",
      "saved Michel Charette 0\n",
      "saved Alessandro Nivola 0\n",
      "saved Colin Stinton 0\n",
      "saved Colin Stinton 1\n",
      "saved Sergey Garmash 0\n",
      "saved Sergey Garmash 1\n",
      "saved Sergey Garmash 2\n",
      "saved Polly Draper 0\n",
      "saved Helmut Bakaitis 0\n",
      "saved Mattia Sbragia 0\n",
      "saved Ryan Ward 0\n",
      "saved Christian Ulmen 0\n",
      "saved Ted Whittall 0\n",
      "saved Eric Judor 0\n",
      "saved Ken Davitian 0\n",
      "saved Kaan Urgancıoğlu 0\n",
      "saved Kaan Urgancıoğlu 1\n",
      "failed for Kaan Urgancıoğlu - 1\n",
      "saved Zhou Yun 0\n",
      "saved Zhou Yun 1\n",
      "saved Zhou Yun 2\n",
      "saved Axel Milberg 0\n",
      "saved Kelley Jakle 0\n",
      "saved Luke Sunshine 0\n",
      "saved Aretha Franklin 0\n",
      "saved Manish Dayal 0\n",
      "saved Jackie van Beek 0\n",
      "saved Karl Glusman 0\n",
      "saved Karl Glusman 1\n",
      "saved Karl Glusman 2\n",
      "saved David Farrier 0\n",
      "saved Kenny Low 0\n",
      "failed for Kenny Low - 0\n",
      "saved Pekka Strang 0\n",
      "saved Pekka Strang 1\n",
      "saved Paola Quattrini 0\n",
      "saved Harry Fowler 0\n",
      "saved Lauren Hutton 0\n",
      "saved Lauren Hutton 1\n",
      "saved Jack Klugman 0\n",
      "saved Paul Le Mat 0\n",
      "saved Paul Le Mat 1\n",
      "saved Yao Lin Chen 0\n",
      "saved Gilbert Roland 0\n",
      "saved Farley Granger 0\n",
      "saved Farley Granger 1\n",
      "saved Farley Granger 2\n",
      "saved Madeleine Ozeray 0\n",
      "saved Donna Pescow 0\n",
      "saved Sidney Poitier 0\n",
      "saved Sidney Poitier 1\n",
      "saved Sidney Poitier 2\n",
      "saved Marcia Bennett 0\n",
      "failed for Marcia Bennett - 0\n",
      "saved Vera Miles 0\n",
      "saved Vera Miles 1\n",
      "saved Tony Martin 0\n",
      "saved Martin Lamotte 0\n",
      "saved Rand Brooks 0\n",
      "saved Loyal Underwood 0\n",
      "saved Micheline Luccioni 0\n",
      "saved Robert Mandan 0\n",
      "saved Eddie Bracken 0\n",
      "saved Julien Bertheau 0\n",
      "saved Julien Bertheau 1\n",
      "saved Florence Roberts 0\n",
      "saved Jennifer Jones 0\n",
      "saved Jennifer Jones 1\n",
      "saved Natja Brunckhorst 0\n",
      "saved Natja Brunckhorst 1\n",
      "saved Sydney Pollack 0\n",
      "saved Sydney Pollack 1\n",
      "saved Tom O'Brien 0\n",
      "saved Bill Nunn 0\n",
      "saved Bill Nunn 1\n",
      "saved Garrett M. Brown 0\n",
      "saved Kristy Swanson 0\n",
      "saved Kristy Swanson 1\n",
      "saved Kristy Swanson 2\n",
      "saved Pete Hamill 0\n",
      "failed for David Booth - 0\n",
      "saved Raz Degan 0\n",
      "failed for Raz Degan - 0\n",
      "saved Line Renaud 0\n",
      "saved Line Renaud 1\n",
      "saved Jennifer Blaire 0\n",
      "saved Claudie Blakley 0\n",
      "saved Lateef Crowder 0\n",
      "saved Ken Wong 0\n",
      "saved Samantha Esteban 0\n",
      "saved Mahershala Ali 0\n",
      "saved Mahershala Ali 1\n",
      "saved Mahershala Ali 2\n",
      "saved Marisol Nichols 0\n",
      "saved Randeep Hooda 0\n",
      "saved Portia de Rossi 0\n",
      "saved Chris New 0\n",
      "saved Izabela Vidovic 0\n",
      "saved Izabela Vidovic 1\n",
      "failed for Izabela Vidovic - 1\n",
      "saved Victor Almanzar 0\n",
      "saved Jason Burkey 0\n",
      "saved Konstantin Kadochnikov 0\n",
      "saved János Görbe 0\n",
      "saved Alma Delia Fuentes 0\n",
      "saved Fernando Lamas 0\n",
      "saved Catherine Doucet 0\n",
      "saved Catherine Doucet 1\n",
      "saved T. K. Carter 0\n",
      "saved Pia Degermark 0\n",
      "saved Pia Degermark 1\n",
      "saved John Amplas 0\n",
      "saved Raymond Thiry 0\n",
      "saved Raymond Thiry 1\n",
      "saved Earl Hindman 0\n",
      "saved Angela La Vorgna 0\n",
      "saved Curd Jürgens 0\n",
      "saved Robert Morley 0\n",
      "saved Robert Morley 1\n",
      "saved André Penvern 0\n",
      "saved Inez Courtney 0\n",
      "saved Michael V. Gazzo 0\n",
      "saved Raymond Massey 0\n",
      "saved Raymond Massey 1\n",
      "saved Karl Scheydt 0\n",
      "saved Gabriel Byrne 0\n",
      "saved Gabriel Byrne 1\n",
      "saved Steve Antin 0\n",
      "saved Harold Sylvester 0\n",
      "saved Kim Darby 0\n",
      "saved Kim Darby 1\n",
      "saved Mike Hagerty 0\n",
      "saved Anne Ramsey 0\n",
      "saved Billy Idol 0\n",
      "saved Rory Cochrane 0\n",
      "saved Joy Behar 0\n",
      "saved Massimo Ghini 0\n",
      "saved Massimo Ghini 1\n",
      "saved Jared Martin 0\n",
      "saved Peter Keleghan 0\n",
      "saved Craig Kirkwood 0\n",
      "saved Riley Smith 0\n",
      "saved Amy Jackson 0\n",
      "saved Amy Jackson 1\n",
      "failed for Amy Jackson - 1\n",
      "saved Rajshri Deshpande 0\n",
      "failed for Rajshri Deshpande - 0\n",
      "saved Surveen Chawla 0\n",
      "saved Adrianne Palicki 0\n",
      "saved Adrianne Palicki 1\n",
      "saved Adrianne Palicki 2\n",
      "saved David Dimbleby 0\n",
      "saved Angela Covello 0\n",
      "saved Angela Covello 1\n",
      "saved William Powell 0\n",
      "saved William Powell 1\n",
      "saved James Wainwright 0\n",
      "saved Debra Berger 0\n",
      "saved James Naughton 0\n",
      "failed for James Naughton - 0\n",
      "saved Robert F. Simon 0\n",
      "saved Boris Plotnikov 0\n",
      "saved Marco Giallini 0\n",
      "saved Richard Whorf 0\n",
      "saved Herbert 'Cowboy' Coward 0\n",
      "saved Herbert 'Cowboy' Coward 1\n",
      "saved Kumi Mizuno 0\n",
      "failed for Vineet Kumar - 0\n",
      "saved Kaaren Verne 0\n",
      "saved Michael Paré 0\n",
      "saved Michael Paré 1\n",
      "saved George Newbern 0\n",
      "saved Colm Meaney 0\n",
      "saved Colm Meaney 1\n",
      "saved Nick Pickard 0\n",
      "saved Tinnu Anand 0\n",
      "saved Welker White 0\n",
      "saved Anne Parillaud 0\n",
      "saved Anne Parillaud 1\n",
      "saved Anne Parillaud 2\n",
      "saved Michèle Laroque 0\n",
      "saved Anil Mehta 0\n",
      "saved Kimberly Elise 0\n",
      "saved Richard Fitzpatrick 0\n",
      "saved Allison Janney 0\n",
      "saved Allison Janney 1\n",
      "saved Elizabeth Mitchell 0\n",
      "saved Elizabeth Mitchell 1\n",
      "saved Elizabeth Mitchell 2\n",
      "saved Emir Kusturica 0\n",
      "saved Emir Kusturica 1\n",
      "saved Emir Kusturica 2\n",
      "saved Colin Greenwood 0\n",
      "saved Colin Greenwood 1\n",
      "saved Colin Greenwood 2\n",
      "saved Ola Rapace 0\n",
      "saved Keiji Sato 0\n",
      "saved Indrans 0\n",
      "saved Indrans 1\n",
      "saved Indrans 2\n",
      "saved Nathaniel Brown 0\n",
      "saved Nathaniel Brown 1\n",
      "saved Hristos Passalis 0\n",
      "saved Max Greenfield 0\n",
      "saved Max Greenfield 1\n",
      "saved Max Greenfield 2\n",
      "saved Jack Reynor 0\n",
      "saved Jack Reynor 1\n",
      "saved Jack Reynor 2\n",
      "saved Ajay Ghosh 0\n",
      "saved Ajay Ghosh 1\n",
      "saved Eric Lange 0\n",
      "saved Alejandro González Iñárritu 0\n",
      "saved Alejandro González Iñárritu 1\n",
      "saved Alejandro González Iñárritu 2\n",
      "saved Anurag Kashyap 0\n",
      "saved Anurag Kashyap 1\n",
      "saved Amit Bhargav 0\n",
      "saved Amit Bhargav 1\n",
      "saved Amit Bhargav 2\n",
      "failed for Amit Bhargav - 2\n",
      "saved Andrea Martin 0\n",
      "saved Andrea Martin 1\n",
      "saved Andrea Martin 2\n",
      "failed for Andre Eglevsky - 2\n",
      "saved Terry Carter 0\n",
      "saved Michele Soavi 0\n",
      "saved Jill Eikenberry 0\n",
      "saved Marisa Fabbri 0\n",
      "saved Claude Brasseur 0\n",
      "saved Claude Brasseur 1\n",
      "saved Carole André 0\n",
      "saved William Berger 0\n",
      "saved William Berger 1\n",
      "saved Umut Kurt 0\n",
      "saved Jane Seymour 0\n",
      "saved Jane Seymour 1\n",
      "saved Jane Seymour 2\n",
      "saved Fritz Rasp 0\n",
      "failed for Fritz Rasp - 0\n",
      "saved Robert Emmett O'Connor 0\n",
      "saved Robert Emmett O'Connor 1\n",
      "saved Nancy Locke 0\n",
      "saved Hoagy Carmichael 0\n",
      "saved Jay C. Flippen 0\n",
      "saved Pascale Ogier 0\n",
      "saved Irena Pavlásková 0\n",
      "saved Irena Pavlásková 1\n",
      "saved Joshua Jackson 0\n",
      "saved Joshua Jackson 1\n",
      "saved John Cassini 0\n",
      "saved Todd Louiso 0\n",
      "saved N. Azhagamperumal 0\n",
      "saved Renan Fosforoğlu 0\n",
      "saved Michel Gondoin  0\n",
      "saved Chris Parnell 0\n",
      "saved Brenda Canela 0\n",
      "saved Mariano Venancio 0\n",
      "saved Guillaume Gouix 0\n",
      "saved Alexander Sano 0\n",
      "saved Cory Doctorow 0\n",
      "failed for Mukesh Chhabra - 0\n",
      "saved Victor Polster 0\n",
      "saved Victor Polster 1\n",
      "saved Graciela Borges 0\n",
      "saved Alain Delon 0\n",
      "saved Alain Delon 1\n",
      "saved Alain Delon 2\n",
      "saved Jacki Weaver 0\n",
      "saved Jacki Weaver 1\n",
      "failed for Jacki Weaver - 1\n",
      "saved Doris Davenport 0\n",
      "failed for Doris Davenport - 0\n",
      "saved Christophe Bourseiller 0\n",
      "saved Philip Van Zandt 0\n",
      "saved Rik Mayall 0\n",
      "saved Rik Mayall 1\n",
      "saved James Taylor 0\n",
      "saved Raymond Greenleaf 0\n",
      "saved Erno Crisa 0\n",
      "saved José María Caffarel 0\n",
      "saved Andrei Boltnev 0\n",
      "saved Meg Tilly 0\n",
      "saved Meg Tilly 1\n",
      "saved Meg Tilly 2\n",
      "saved Dira Paes 0\n",
      "saved Dira Paes 1\n",
      "saved Vladas Bagdonas 0\n",
      "failed for Vladas Bagdonas - 0\n",
      "saved Bernard Cuffling 0\n",
      "saved Stanisław Brudny 0\n",
      "saved Stanisław Brudny 1\n",
      "saved Stanisław Brudny 2\n",
      "saved Heidi Schanz 0\n",
      "saved Matt Stone 0\n",
      "saved Mariusz Czajka 0\n",
      "saved Rachael Blake 0\n",
      "saved Alejandro Trejo 0\n",
      "saved Alejandro Trejo 1\n",
      "saved Alejandro Trejo 2\n",
      "saved Leif Sylvester 0\n",
      "saved Golab Adine 0\n",
      "saved Golab Adine 1\n",
      "saved Vincent Lecuyer 0\n",
      "failed for Vincent Lecuyer - 0\n",
      "saved Molnár Piroska 0\n",
      "saved Stuart Rutherford 0\n",
      "saved Parineeti Chopra 0\n",
      "failed for Parineeti Chopra - 0\n",
      "failed for Parineeti Chopra - 0\n",
      "saved Camilla Spira 0\n",
      "saved Sergio Fantoni 0\n",
      "saved Richard Denning 0\n",
      "saved Marga López 0\n",
      "saved Lance Henriksen 0\n",
      "saved Lance Henriksen 1\n",
      "saved Lance Henriksen 2\n",
      "saved Barbara Billingsley 0\n",
      "saved Gloria Talbott 0\n",
      "saved Gloria Talbott 1\n",
      "saved Vishnu Manchu 0\n",
      "saved Joshua Harto 0\n",
      "saved Josephine Hutchinson 0\n",
      "saved Dick Miller 0\n",
      "saved Dick Miller 1\n",
      "saved Theresa Saldana 0\n",
      "saved Debralee Scott 0\n",
      "saved Debralee Scott 1\n",
      "saved Dane Cook 0\n",
      "saved Dane Cook 1\n",
      "saved Marin Kanter 0\n",
      "saved Kurt Kasznar 0\n",
      "saved Jacques Bonnaffé 0\n",
      "saved Paul Drake 0\n",
      "saved Danny de Munk 0\n",
      "saved Patrick Stewart 0\n",
      "saved Patrick Stewart 1\n",
      "saved Patrick Stewart 2\n",
      "saved Wayne Robson 0\n",
      "saved Georg Friedrich 0\n",
      "saved Georg Friedrich 1\n",
      "saved Lena Headey 0\n",
      "saved Lena Headey 1\n",
      "saved Lena Headey 2\n",
      "saved Miroslav Donutil 0\n",
      "failed for Miroslav Donutil - 0\n",
      "saved Priscilla Barnes 0\n",
      "saved Priscilla Barnes 1\n",
      "saved Priscilla Barnes 2\n",
      "saved Javed Jaffrey 0\n",
      "saved Javed Jaffrey 1\n",
      "saved Gretchen Mol 0\n",
      "saved Gretchen Mol 1\n",
      "saved Gretchen Mol 2\n",
      "saved Denden 0\n",
      "saved Denden 1\n",
      "saved Denden 2\n",
      "saved Leticia Huijara 0\n",
      "saved Raymond Bouchard 0\n",
      "saved Brian J. White 0\n",
      "saved Brian J. White 1\n",
      "saved Brian J. White 2\n",
      "saved Paweł Wilczak 0\n",
      "saved Marek Oravec 0\n",
      "saved Rudraprasad Sengupta 0\n",
      "saved Fu'ad Aït Aattou 0\n",
      "saved Sofia Kokkali 0\n",
      "failed for Sofia Kokkali - 0\n",
      "saved Patricia Dane 0\n",
      "saved Walter Burke 0\n",
      "saved Warner Anderson 0\n",
      "saved Leona Maricle 0\n",
      "saved Vitaliy Khaev 0\n",
      "saved Vitaliy Khaev 1\n",
      "saved Robert Francis 0\n",
      "saved Nana Katase 0\n",
      "saved Ronald Colman 0\n",
      "saved Paul Préboist 0\n",
      "saved Enayat Bakhshi 0\n",
      "saved Rolfe Sedan 0\n",
      "saved Ferdinand Gottschalk 0\n",
      "saved Scott Marlowe 0\n",
      "failed for Scott Marlowe - 0\n",
      "saved Beth Rogan 0\n",
      "saved Georges Géret 0\n",
      "saved Norbert Weisser 0\n",
      "saved Karin Dor 0\n",
      "saved Karin Dor 1\n",
      "saved Karin Dor 2\n",
      "saved Carol Ohmart 0\n",
      "saved Carol Ohmart 1\n",
      "saved Anthony Hopkins 0\n",
      "saved Anthony Hopkins 1\n",
      "saved Anthony Hopkins 2\n",
      "saved Willard Robertson 0\n",
      "saved David Calder 0\n",
      "saved Artur Barciś 0\n",
      "saved Artur Barciś 1\n",
      "saved Jeffrey Jones 0\n",
      "saved Eugene Levy 0\n",
      "saved Eugene Levy 1\n",
      "saved Eugene Levy 2\n",
      "saved Sab Shimono 0\n",
      "saved Mark Moses 0\n",
      "saved Frank Stallone 0\n",
      "saved Robin Harris 0\n",
      "saved Lisa Pelikan 0\n",
      "saved Saundra McClain 0\n",
      "saved Kirk Wong 0\n",
      "saved Kirk Wong 1\n",
      "failed for Kirk Wong - 1\n",
      "saved Tracey Ellis 0\n",
      "saved Heino Ferch 0\n",
      "saved Jonathan Rhys Meyers 0\n",
      "saved Enzo Cilenti 0\n",
      "saved Enzo Cilenti 1\n",
      "saved Enzo Cilenti 2\n",
      "saved Michael Countryman 0\n",
      "failed for Michael Countryman - 0\n",
      "saved Sarah Silverman 0\n",
      "saved Sarah Silverman 1\n",
      "saved Sarah Silverman 2\n",
      "saved Mahesh Babu 0\n",
      "saved Mahesh Babu 1\n",
      "saved Mariloup Wolfe 0\n",
      "saved Jakob Cedergren 0\n",
      "saved Jakob Cedergren 1\n",
      "failed for Jakob Cedergren - 1\n",
      "saved Sabumon Abdusamad 0\n",
      "saved Sabumon Abdusamad 1\n",
      "saved Sabumon Abdusamad 2\n",
      "saved Gaku Hamada 0\n",
      "failed for Gaku Hamada - 0\n",
      "saved Huang Xiaoming 0\n",
      "saved Wang Ziwen 0\n",
      "saved Massimiliano Gallo 0\n",
      "saved Massimiliano Gallo 1\n",
      "failed for Deven Bhojani - 1\n",
      "saved Fang Beatrice 0\n",
      "failed for Fang Beatrice - 0\n",
      "failed for Fang Beatrice - 0\n",
      "failed for Terry Walters - 0\n",
      "failed for Terry Walters - 0\n",
      "saved Faith Brook 0\n",
      "saved Crahan Denton 0\n",
      "saved Berton Churchill 0\n",
      "saved Fernando Casanova 0\n",
      "saved Sonja Ziemann 0\n",
      "saved Sonja Ziemann 1\n",
      "saved Sonja Ziemann 2\n",
      "saved Luciano Pigozzi 0\n",
      "saved George Furth 0\n",
      "saved George Furth 1\n",
      "saved Robert Russell 0\n",
      "saved Chubby Johnson 0\n",
      "saved Angela Clarke 0\n",
      "saved Hema Malini 0\n",
      "saved Hema Malini 1\n",
      "saved John Steiner 0\n",
      "saved Peter Wyngarde 0\n",
      "saved Dina Merrill 0\n",
      "saved Noah Beery 0\n",
      "saved Brenda Vaccaro 0\n",
      "saved Christophe Odent 0\n",
      "saved Lisa Banes 0\n",
      "saved Herbie Hancock 0\n",
      "saved Holly Hunter 0\n",
      "saved Holly Hunter 1\n",
      "saved Holly Hunter 2\n",
      "saved Bob Gunton 0\n",
      "saved Bob Gunton 1\n",
      "saved Paul McGann 0\n",
      "saved Lindsay Frost 0\n",
      "saved CCH Pounder 0\n",
      "saved James Larkin 0\n",
      "saved Hartmut Becker 0\n",
      "failed for Mary Demas - 0\n",
      "saved Jimmy Somerville 0\n",
      "saved Bernie Mac 0\n",
      "saved Bernie Mac 1\n",
      "saved Carlos Lauchu 0\n",
      "saved Sticky Fingaz 0\n",
      "saved Didier Bourdon 0\n",
      "saved Didier Bourdon 1\n",
      "saved Barnaby Kay 0\n",
      "saved Nadezhda Rumyantseva 0\n",
      "saved Nadezhda Rumyantseva 1\n",
      "saved Murray Lachlan Young 0\n",
      "saved Don Battee 0\n",
      "failed for Don Battee - 0\n",
      "saved Selton Mello 0\n",
      "saved Jessica Tuck 0\n",
      "saved Yan Qin 0\n",
      "saved Vincent Scarito 0\n",
      "saved Mehcad Brooks 0\n",
      "saved Mehcad Brooks 1\n",
      "saved Ellie Kendrick 0\n",
      "saved Johnny Hopkins 0\n",
      "saved Shweta Tripathi 0\n",
      "saved Shweta Tripathi 1\n",
      "saved Erin Gerasimovich 0\n",
      "saved Anna Camp 0\n",
      "saved Anna Camp 1\n",
      "failed for Anna Camp - 1\n",
      "failed for Anna Camp - 1\n",
      "saved Kenneth Maharaj 0\n",
      "saved Josh Caras 0\n",
      "failed for Josh Caras - 0\n",
      "saved Cole Sand 0\n",
      "saved Buddy Duress 0\n",
      "saved Buddy Duress 1\n",
      "failed for Buddy Duress - 1\n",
      "failed for Buddy Duress - 1\n",
      "failed for Buddy Duress - 1\n",
      "saved Douglas Leavitt 0\n",
      "saved Engin Akyürek 0\n",
      "saved Lisa Chiao Chiao 0\n",
      "saved Dorothy Stratten 0\n",
      "saved Nuri Bilge Ceylan 0\n",
      "saved Florence Rice 0\n",
      "saved Jörgen Lindström 0\n",
      "saved Martin Shaw 0\n",
      "saved John Wayne 0\n",
      "saved John Wayne 1\n",
      "saved John Wayne 2\n",
      "saved Dean O'Gorman 0\n",
      "saved Yukiko Kobayashi 0\n",
      "saved Angela Winkler 0\n",
      "saved Angela Winkler 1\n",
      "saved Angela Winkler 2\n",
      "saved Tim O'Kelly 0\n",
      "saved Joy Gohring 0\n",
      "saved Ben Vereen 0\n",
      "saved Sari Lennick 0\n",
      "failed for Jankidas - 0\n",
      "saved Tom Villard 0\n",
      "saved Dan Lauria 0\n",
      "saved Dan Lauria 1\n",
      "saved Dan Lauria 2\n",
      "saved Brad Sullivan 0\n",
      "saved Redd Foxx 0\n",
      "saved Lothaire Bluteau 0\n",
      "saved Valérie Lemercier 0\n",
      "saved Jamie Foxx 0\n",
      "saved Jamie Foxx 1\n",
      "saved Jamie Foxx 2\n",
      "saved P. S. Keerthana 0\n",
      "saved Nicolas Bro 0\n",
      "saved Matt Groening 0\n",
      "saved Ed Skrein 0\n",
      "saved Ed Skrein 1\n",
      "saved Kalki Koechlin 0\n",
      "saved Kalki Koechlin 1\n",
      "saved Kalki Koechlin 2\n",
      "failed for Mateo Morales - 2\n",
      "failed for Mateo Morales - 2\n",
      "failed for Mateo Morales - 2\n",
      "saved Ben Fransham 0\n",
      "failed for Ben Fransham - 0\n",
      "saved Sara Viktoria 0\n",
      "saved Sara Viktoria 1\n",
      "failed for Sara Viktoria - 1\n",
      "saved Luana Anders 0\n",
      "saved Chips Rafferty 0\n",
      "saved Osa Massen 0\n",
      "saved John Elfström 0\n",
      "saved John Elfström 1\n",
      "saved Hannah Gordon 0\n",
      "saved Charlotte Austin 0\n",
      "saved Jonathan Sagall 0\n",
      "saved Gus Dahlström 0\n",
      "saved Anthony Nicholls 0\n",
      "saved Miloš Timotijević 0\n",
      "saved Edmond O'Brien 0\n",
      "saved Edmond O'Brien 1\n",
      "saved Frank Reicher 0\n",
      "saved Mary Collinson 0\n",
      "saved Petr Čepek 0\n",
      "saved Petr Čepek 1\n",
      "saved Petr Čepek 2\n",
      "saved Béatrice Altariba 0\n",
      "saved Robert Englund 0\n",
      "saved Robert Englund 1\n",
      "saved Liz Fraser 0\n",
      "saved Jacques Becker 0\n",
      "saved Andie MacDowell 0\n",
      "saved Andie MacDowell 1\n",
      "saved Andie MacDowell 2\n",
      "failed for Craig Gilmore - 2\n",
      "saved Kevin Connolly 0\n",
      "saved María Rojo 0\n",
      "saved Makiko Esumi 0\n",
      "saved Bernard Farcy 0\n",
      "saved Marieta Orozco 0\n",
      "saved Marieta Orozco 1\n",
      "failed for Marieta Orozco - 1\n",
      "saved William Lucking 0\n",
      "saved Christiane Paul 0\n",
      "saved Christiane Paul 1\n",
      "saved Sam Seder 0\n",
      "failed for Andy Goldsworthy - 0\n",
      "saved Victor Rasuk 0\n",
      "saved Tim Meadows 0\n",
      "saved Shweta Prasad 0\n",
      "saved Anton Corbijn 0\n",
      "failed for Anton Corbijn - 0\n",
      "failed for Anton Corbijn - 0\n",
      "saved Aasha Davis 0\n",
      "saved Ashley Gerasimovich 0\n",
      "saved LeBron James 0\n",
      "saved LeBron James 1\n",
      "saved Maurane 0\n",
      "saved Maurane 1\n",
      "saved Analeigh Tipton 0\n",
      "saved Analeigh Tipton 1\n",
      "saved Analeigh Tipton 2\n",
      "saved Armie Hammer 0\n",
      "saved Armie Hammer 1\n",
      "saved Armie Hammer 2\n",
      "saved Fumi Nikaido 0\n",
      "saved Fumi Nikaido 1\n",
      "saved Fumi Nikaido 2\n",
      "saved Mike Pniewski 0\n",
      "failed for Mike Pniewski - 0\n",
      "failed for Mike Pniewski - 0\n",
      "saved Leah Harvey 0\n",
      "saved Leah Harvey 1\n",
      "saved Sam Melville 0\n",
      "saved Barbara Ruick 0\n",
      "saved Dino Emanuelli 0\n",
      "saved Kevin Van Hentenryck 0\n",
      "saved Robert Culp 0\n",
      "saved Russell Hardie 0\n",
      "saved Tala Birell 0\n",
      "saved Zeffie Tilbury 0\n",
      "saved Christopher Walken 0\n",
      "saved Christopher Walken 1\n",
      "saved Christopher Walken 2\n",
      "saved Pierre Cosso 0\n",
      "saved Walter Huston 0\n",
      "saved Walter Huston 1\n",
      "saved Gustav Opočenský 0\n",
      "saved J. Carrol Naish 0\n",
      "saved Jeremy Irons 0\n",
      "saved Jeremy Irons 1\n",
      "saved Jeremy Irons 2\n",
      "saved Macdonald Carey 0\n",
      "saved Carroll Baker 0\n",
      "saved Carroll Baker 1\n",
      "saved Carroll Baker 2\n",
      "saved Howard Smith 0\n",
      "saved James Whitmore 0\n",
      "saved James Whitmore 1\n",
      "saved James Whitmore 2\n",
      "saved John Randolph 0\n",
      "saved Merritt Butrick 0\n",
      "saved Merritt Butrick 1\n",
      "saved Antonio Gasalla 0\n",
      "saved Ben Stein 0\n",
      "saved Ben Stein 1\n",
      "saved Philip Moon 0\n",
      "saved Kate Hodge 0\n",
      "failed for Kate Hodge - 0\n",
      "saved Tim Powell 0\n",
      "saved Eddie Griffin 0\n",
      "failed for Eddie Griffin - 0\n",
      "saved Masahiro Motoki 0\n",
      "failed for Masahiro Motoki - 0\n",
      "saved Heather Matarazzo 0\n",
      "saved Heather Matarazzo 1\n",
      "saved Heather Matarazzo 2\n",
      "saved Kevin Whately 0\n",
      "saved Bjørn Moan 0\n",
      "saved Maru Valdivielso 0\n",
      "saved Julia Ford 0\n",
      "failed for Julia Ford - 0\n",
      "saved Ram Charan 0\n",
      "saved David Sakurai 0\n",
      "saved Sean Mahon 0\n",
      "saved Richard Curtis 0\n",
      "failed for Richard Curtis - 0\n",
      "saved Jaden Michael 0\n",
      "saved Jaden Michael 1\n",
      "saved Kathir 0\n",
      "saved Clarence Avant 0\n",
      "failed for Katie O’Grady - 0\n",
      "failed for Katie O’Grady - 0\n",
      "failed for Katie O’Grady - 0\n",
      "saved Charley Grapewin 0\n",
      "saved Sabu 0\n",
      "saved Sabu 1\n",
      "saved William Dix 0\n",
      "saved Juanita Brown 0\n",
      "saved Elmyr de Hory 0\n",
      "saved Marcel Dalio 0\n",
      "saved Marcel Dalio 1\n",
      "saved Yōko Kozono 0\n",
      "saved Yōko Kozono 1\n",
      "failed for Yōko Kozono - 1\n",
      "saved David Vert 0\n",
      "saved Andrew Garfield 0\n",
      "saved Andrew Garfield 1\n",
      "saved Andrew Garfield 2\n",
      "saved Ferdy Mayne 0\n",
      "saved Ferdy Mayne 1\n",
      "failed for Ferdy Mayne - 1\n",
      "saved Cas Anvar 0\n",
      "saved László Áron 0\n",
      "saved Benny Urquidez 0\n",
      "saved Eduardo Conde 0\n",
      "saved George Wyner 0\n",
      "failed for George Wyner - 0\n",
      "saved Abe Vigoda 0\n",
      "saved Abe Vigoda 1\n",
      "saved Mel Johnson Jr. 0\n",
      "saved Blackie Ko 0\n",
      "saved Caroline Goodall 0\n",
      "saved Caroline Goodall 1\n",
      "saved Mohammadali Keshavarz 0\n",
      "saved Mohammadali Keshavarz 1\n",
      "saved Scott Cohen 0\n",
      "saved Samuel West 0\n",
      "saved Meera Syal 0\n",
      "saved Müjde Ar 0\n",
      "saved Müjde Ar 1\n",
      "saved Müjde Ar 2\n",
      "failed for Müjde Ar - 2\n",
      "saved Chen Kun 0\n",
      "saved Kenji Sawada 0\n",
      "saved Kenji Sawada 1\n",
      "saved Mircea Diaconu 0\n",
      "saved Henry Ian Cusick 0\n",
      "saved Caterina Murino 0\n",
      "saved Texas Battle 0\n",
      "saved Clara Khoury 0\n",
      "saved Nicholas Blane 0\n",
      "failed for Nicholas Blane - 0\n",
      "saved Jorge Ernesto Lanata 0\n",
      "failed for Jorge Ernesto Lanata - 0\n",
      "saved Charles Melton 0\n",
      "saved Charles Melton 1\n",
      "saved Charles Melton 2\n",
      "saved Tolga Tekin 0\n",
      "saved Bobby McFerrin 0\n",
      "saved Harish Uthaman 0\n",
      "failed for Harish Uthaman - 0\n",
      "saved Chino Darín 0\n",
      "saved Chino Darín 1\n",
      "saved Chino Darín 2\n",
      "failed for Chino Darín - 2\n",
      "saved Hailey Bieber 0\n",
      "saved Indya Moore 0\n",
      "saved Indya Moore 1\n",
      "saved Catherine Scorsese 0\n",
      "saved Berry Kroeger 0\n",
      "saved Edgar Bergen 0\n",
      "saved Frank Maxwell 0\n",
      "saved Allyn Ann McLerie 0\n",
      "saved Helen Vita 0\n",
      "saved Ennio Girolami 0\n",
      "saved Ennio Girolami 1\n",
      "saved Margaret Leighton 0\n",
      "saved Pouri Baneai 0\n",
      "saved Pouri Baneai 1\n",
      "saved Pouri Baneai 2\n",
      "saved Michael Harding 0\n",
      "saved Kōji Wada 0\n",
      "saved Ted Healy 0\n",
      "saved Malcolm Atterbury 0\n",
      "saved Ann Rutherford 0\n",
      "saved Ann Rutherford 1\n",
      "saved Olga Volkova 0\n",
      "saved Norma Varden 0\n",
      "saved Norma Varden 1\n",
      "saved Norma Varden 2\n",
      "saved Peter Miles 0\n",
      "saved Michael Pate 0\n",
      "saved Roberta Wallach 0\n",
      "saved Víctor Israel 0\n",
      "saved Víctor Israel 1\n",
      "saved Corinne Calvet 0\n",
      "saved Olivia Burnette 0\n",
      "saved Christine Ng 0\n",
      "saved Ron McLarty 0\n",
      "saved Fele Martínez 0\n",
      "saved Brett Brock 0\n",
      "saved Jamie Kennedy 0\n",
      "saved Jamie Kennedy 1\n",
      "saved Jamie Kennedy 2\n",
      "saved Diego Luna 0\n",
      "saved Diego Luna 1\n",
      "saved Diego Luna 2\n",
      "saved Bryna Weiss 0\n",
      "saved Chris Owen 0\n",
      "saved Chris Owen 1\n",
      "saved Carl Bressler 0\n",
      "saved Kemal Sunal 0\n",
      "saved Kemal Sunal 1\n",
      "saved Kemal Sunal 2\n",
      "saved Jean Heywood 0\n",
      "saved Dalik Volonitz 0\n",
      "saved Chi Cao 0\n",
      "saved Kit Harington 0\n",
      "saved Kit Harington 1\n",
      "saved Kit Harington 2\n",
      "saved JoeyStarr 0\n",
      "saved JoeyStarr 1\n",
      "failed for Jean Kilbourne - 1\n",
      "saved Elise Robertson 0\n",
      "saved Frederick Schmidt 0\n",
      "saved Laurence Deschênes 0\n",
      "saved Laurence Deschênes 1\n",
      "saved Laurence Deschênes 2\n",
      "saved Lamberto Bava 0\n",
      "saved Elizabeth Threatt 0\n",
      "saved Larisa Kadochnikova 0\n",
      "saved Kam Tong 0\n",
      "saved Gabriele Ferzetti 0\n",
      "saved John Arledge 0\n",
      "saved Dorian Harewood 0\n",
      "failed for Dorian Harewood - 0\n",
      "saved Lisa Kreuzer 0\n",
      "saved Lisa Kreuzer 1\n",
      "saved Cécile Cassel 0\n",
      "saved Joan Sims 0\n",
      "saved Richard O'Callaghan 0\n",
      "saved Alekos Alexandrakis 0\n",
      "saved John Astin 0\n",
      "saved Charles Siebert 0\n",
      "saved Elspeth Dudgeon 0\n",
      "saved Reginald VelJohnson 0\n",
      "saved Reginald VelJohnson 1\n",
      "saved Brandon Smith 0\n",
      "saved Siobhan Redmond 0\n",
      "failed for Siobhan Redmond - 0\n",
      "saved Devan 0\n",
      "saved Devan 1\n",
      "saved Bjarne Henriksen 0\n",
      "saved Kuthiravattam Pappu 0\n",
      "saved Zeki Demirkubuz 0\n",
      "saved Kyoko Fukada 0\n",
      "saved Pier Giorgio Bellocchio 0\n",
      "saved Pavan Malhotra 0\n",
      "saved Nancy Lenehan 0\n",
      "failed for Nancy Lenehan - 0\n",
      "saved Ann Coulter 0\n",
      "failed for Ann Coulter - 0\n",
      "saved Aloe Blacc 0\n",
      "saved Rudolph Valentino 0\n",
      "saved Enzo Cannavale 0\n",
      "saved Enzo Cannavale 1\n",
      "saved John Bromfield 0\n",
      "saved Michael Jayston 0\n",
      "saved Douglas Walton 0\n",
      "saved Nigel Bruce 0\n",
      "saved Nigel Bruce 1\n",
      "saved Yves Barsacq 0\n",
      "saved Álvaro de Luna 0\n",
      "saved Álvaro de Luna 1\n",
      "saved Margit Carlqvist 0\n",
      "saved Julius Tannen 0\n",
      "saved Dilip Kumar 0\n",
      "saved Dilip Kumar 1\n",
      "saved Dilip Kumar 2\n",
      "saved Alan Badel 0\n",
      "saved Peggy Wood 0\n",
      "saved Robert Strauss 0\n",
      "saved Robert Strauss 1\n",
      "saved Robert Strauss 2\n",
      "saved Goga Kapoor 0\n",
      "saved Goga Kapoor 1\n",
      "saved Harry Northup 0\n",
      "saved Sarah Niles 0\n",
      "saved Sarah Niles 1\n",
      "saved Jennifer Tilly 0\n",
      "saved Jennifer Tilly 1\n",
      "saved Jennifer Tilly 2\n",
      "saved Jeremy Roberts 0\n",
      "saved Francis Guinan 0\n",
      "saved Yammie Lam 0\n",
      "saved Yammie Lam 1\n",
      "saved Yammie Lam 2\n",
      "saved Ada Choi 0\n",
      "saved Ada Choi 1\n",
      "failed for Ada Choi - 1\n",
      "saved Marton Csokas 0\n",
      "saved A Martinez 0\n",
      "saved Paz de la Huerta 0\n",
      "saved Paz de la Huerta 1\n",
      "saved Paz de la Huerta 2\n",
      "saved Nicky Jam 0\n",
      "saved Nicky Jam 1\n",
      "failed for Nicky Jam - 1\n",
      "saved Machine Gun Kelly 0\n",
      "failed for Machine Gun Kelly - 0\n",
      "saved Vinzenz Kiefer 0\n",
      "saved Ilona Massey 0\n",
      "saved Ilona Massey 1\n",
      "saved Ilona Massey 2\n",
      "saved Robin Riker 0\n",
      "saved Claude Jutra 0\n",
      "saved May McAvoy 0\n",
      "saved Charles Laughton 0\n",
      "saved Charles Laughton 1\n",
      "saved Charles Laughton 2\n",
      "saved Kim Novak 0\n",
      "saved Kim Novak 1\n",
      "saved Kim Novak 2\n",
      "saved Nathan Gamble 0\n",
      "saved Nathan Gamble 1\n",
      "saved Marki Bey 0\n",
      "saved George Murphy 0\n",
      "saved Marius Weyers 0\n",
      "saved Peter Lorre 0\n",
      "saved Peter Lorre 1\n",
      "saved Peter Lorre 2\n",
      "saved Nick Cravat 0\n",
      "saved Willie Best 0\n",
      "saved Donald Sinden 0\n",
      "saved Ian MacDonald 0\n",
      "saved Charlotte Lewis 0\n",
      "saved Charlotte Lewis 1\n",
      "saved Charlotte Lewis 2\n",
      "saved Don Ruffin 0\n",
      "saved Terry Camilleri 0\n",
      "saved Robert Carlyle 0\n",
      "saved Robert Carlyle 1\n",
      "saved Catherine Jacob 0\n",
      "saved Brian Haley 0\n",
      "saved Julian Richings 0\n",
      "saved Julian Richings 1\n",
      "saved Julian Richings 2\n",
      "saved Tom Jones 0\n",
      "saved Nicholas Bell 0\n",
      "saved Eugenie Bondurant 0\n",
      "saved Eugenie Bondurant 1\n",
      "saved Eugenie Bondurant 2\n",
      "saved Eva van der Gucht 0\n",
      "saved Tom Gallop 0\n",
      "saved Giuseppe Battiston 0\n",
      "saved Giuseppe Battiston 1\n",
      "saved Halina Reijn 0\n",
      "saved Lisa Arnold 0\n",
      "failed for Lisa Arnold - 0\n",
      "failed for Lisa Arnold - 0\n",
      "saved Alia Shawkat 0\n",
      "saved Alia Shawkat 1\n",
      "saved Alia Shawkat 2\n",
      "saved Michael Benyaer 0\n",
      "saved Ariel Schulman 0\n",
      "saved Ariel Schulman 1\n",
      "saved Roman Madyanov 0\n",
      "saved Roman Madyanov 1\n",
      "failed for Avijit Dutt - 1\n",
      "saved Elijah Rodriguez 0\n",
      "saved P Balachandran 0\n",
      "failed for P Balachandran - 0\n",
      "saved Teresa Palmer 0\n",
      "saved Teresa Palmer 1\n",
      "saved Teresa Palmer 2\n",
      "saved Renée Elise Goldsberry 0\n",
      "saved Renée Elise Goldsberry 1\n",
      "saved Renée Elise Goldsberry 2\n",
      "saved Svetlana Ageeva 0\n",
      "saved Trigger 0\n",
      "saved Trigger 1\n",
      "saved Dorothy Peterson 0\n",
      "saved Jim Youngs 0\n",
      "saved René Lefèvre 0\n",
      "saved René Lefèvre 1\n",
      "saved Radoslav Brzobohatý 0\n",
      "saved Radoslav Brzobohatý 1\n",
      "saved Johannes Heesters 0\n",
      "saved Johannes Heesters 1\n",
      "saved Natalya Fateeva 0\n",
      "saved Stefan Gierasch 0\n",
      "saved Benito Stefanelli 0\n",
      "saved Lyubov Sokolova 0\n",
      "saved Jerry Stiller 0\n",
      "saved Cesar Romero 0\n",
      "saved Mako 0\n",
      "saved Mako 1\n",
      "saved Judge Reinhold 0\n",
      "saved Judge Reinhold 1\n",
      "saved Jackie Joseph 0\n",
      "saved Kim Cattrall 0\n",
      "saved Kim Cattrall 1\n",
      "saved Randee Heller 0\n",
      "saved Bharat Bhushan 0\n",
      "saved Jon Lovitz 0\n",
      "saved John Allen Nelson 0\n",
      "saved Aden Young 0\n",
      "saved Guillaume Depardieu 0\n",
      "saved Alex Diakun 0\n",
      "saved Jason James Richter 0\n",
      "saved Àlex Casanovas 0\n",
      "saved Eric Thal 0\n",
      "saved Peter Haber 0\n",
      "saved Peter Haber 1\n",
      "failed for Peter Haber - 1\n",
      "saved Jason Carter 0\n",
      "saved Goran Visnjic 0\n",
      "saved Barry Shabaka Henley 0\n",
      "saved Barry Shabaka Henley 1\n",
      "failed for Barry Shabaka Henley - 1\n",
      "failed for Mana Taumaunu - 1\n",
      "saved Robert McNamara 0\n",
      "saved Bill Engvall 0\n",
      "saved Dean Winters 0\n",
      "saved Dean Winters 1\n",
      "failed for Dean Winters - 1\n",
      "saved Ian Lake 0\n",
      "saved Ian Lake 1\n",
      "saved Ian Lake 2\n",
      "saved Barkhad Abdi 0\n",
      "saved Barkhad Abdi 1\n",
      "saved Eddie 'Piolin' Sotelo 0\n",
      "saved Monia Chokri 0\n",
      "saved Michael B. Jordan 0\n",
      "saved Michael B. Jordan 1\n",
      "saved Michael B. Jordan 2\n",
      "saved Mailes Kanapi 0\n",
      "saved Emma Tremblay 0\n",
      "saved Wladimir Klitschko 0\n",
      "saved Rebel Wilson 0\n",
      "saved Rebel Wilson 1\n",
      "failed for Rebel Wilson - 1\n",
      "failed for Rebel Wilson - 1\n",
      "saved Chase Joliet 0\n",
      "saved Hayley Squires 0\n",
      "saved Hayley Squires 1\n",
      "saved Hayley Squires 2\n",
      "saved Paul Arthurs 0\n",
      "failed for Rona Barrett - 0\n",
      "saved Numan Acar 0\n",
      "saved Susan Wokoma 0\n",
      "saved Albert Moses 0\n",
      "saved Claude Mann 0\n",
      "saved Claude Mann 1\n",
      "saved Émile Chautard 0\n",
      "saved John Mills 0\n",
      "saved John Mills 1\n",
      "saved Enrique Rivero 0\n",
      "saved Vera Ralston 0\n",
      "saved Vera Ralston 1\n",
      "saved Patrick Adiarte 0\n",
      "saved Olga Mateshko 0\n",
      "saved Edith Barrett 0\n",
      "saved Darryl Hickman 0\n",
      "saved Darryl Hickman 1\n",
      "saved Bill Borzage 0\n",
      "saved Tom Aldredge 0\n",
      "saved Carl Reiner 0\n",
      "saved Carl Reiner 1\n",
      "saved Carl Reiner 2\n",
      "saved Noble Johnson 0\n",
      "saved Dana Wynter 0\n",
      "saved Dana Wynter 1\n",
      "saved Erik Strandmark 0\n",
      "saved Porter Hall 0\n",
      "saved Nick Nolte 0\n",
      "saved Nick Nolte 1\n",
      "saved Nick Nolte 2\n",
      "saved Harold Huber 0\n",
      "saved Fred Graham 0\n",
      "failed for Fred Graham - 0\n",
      "saved Leonard Jackson 0\n",
      "saved Sharon Stone 0\n",
      "saved Sharon Stone 1\n",
      "saved Sharon Stone 2\n",
      "saved Tomas Arana 0\n",
      "saved Eric Schweig 0\n",
      "saved Eric Schweig 1\n",
      "saved Andrew Miller 0\n",
      "saved Boyd Banks 0\n",
      "saved Paula Marshall 0\n",
      "saved Amiri Baraka 0\n",
      "saved Lee Stringer 0\n",
      "saved Marie Richardson 0\n",
      "saved Marie Richardson 1\n",
      "failed for Marie Richardson - 1\n",
      "saved Seth Rogen 0\n",
      "saved Seth Rogen 1\n",
      "saved Seth Rogen 2\n",
      "failed for Seth Rogen - 2\n",
      "saved Tristán Ulloa 0\n",
      "saved Danna Paola 0\n",
      "saved Rob Minkoff 0\n",
      "saved Ginger Baker 0\n",
      "saved Ginger Baker 1\n",
      "saved Jamala 0\n",
      "saved Vaibhav Tatwawadi 0\n",
      "saved Thorbjørn Harr 0\n",
      "saved Gong Beibi 0\n",
      "saved Juliette Gosselin 0\n",
      "saved E.J. Ballantine 0\n",
      "saved Valerie Leon 0\n",
      "saved Chester A. Bachman 0\n",
      "saved Trish Van Devere 0\n",
      "saved Allan F. Nicholls 0\n",
      "saved Huguette Faget 0\n",
      "saved Adriano Celentano 0\n",
      "saved Richard Jaeckel 0\n",
      "saved Timothy Van Patten 0\n",
      "saved Robert Clary 0\n",
      "saved Robert Clary 1\n",
      "saved Maxine Stuart 0\n",
      "saved Judith Evelyn 0\n",
      "saved Paul Ollivier 0\n",
      "saved Paul Ollivier 1\n",
      "saved Richard Garland 0\n",
      "saved Olga Mironova 0\n",
      "saved Andre Braugher 0\n",
      "saved Andre Braugher 1\n",
      "saved Andre Braugher 2\n",
      "saved Dyana Ortelli 0\n",
      "saved Natalija Nogulich 0\n",
      "saved Sergei Bodrov Jr. 0\n",
      "saved Sergei Bodrov Jr. 1\n",
      "saved Sergei Bodrov Jr. 2\n",
      "saved Alex Jennings 0\n",
      "saved Alex Jennings 1\n",
      "saved Michelle Williams 0\n",
      "saved Michelle Williams 1\n",
      "saved Michelle Williams 2\n",
      "saved Tim Wilde 0\n",
      "failed for Tim Wilde - 0\n",
      "saved Alan van Sprang 0\n",
      "saved Dan Conroy 0\n",
      "saved Alberto Ammann 0\n",
      "saved RJ Cyler 0\n",
      "saved Oleh Prymohenov 0\n",
      "saved Nerea Barros 0\n",
      "saved Nerea Barros 1\n",
      "saved Kiana Madeira 0\n",
      "saved Kiana Madeira 1\n",
      "saved Kiana Madeira 2\n",
      "failed for Kiana Madeira - 2\n",
      "saved Zdzisław Wardejn 0\n",
      "saved Zdzisław Wardejn 1\n",
      "failed for Zdzisław Wardejn - 1\n",
      "saved Dolores Hart 0\n",
      "saved Yuriy Nazarov 0\n",
      "saved Kathryn Grayson 0\n",
      "saved Tom Chadbon 0\n",
      "saved Jeff York 0\n",
      "saved Joanne Linville 0\n",
      "saved Joanne Linville 1\n",
      "saved Leonard Frey 0\n",
      "saved Dora Bryan 0\n",
      "saved Kent McCord 0\n",
      "saved Alma Kruger 0\n",
      "saved Rafaela Ottiano 0\n",
      "saved D'Arcy Corrigan 0\n",
      "saved Ray Stricklyn 0\n",
      "saved Colin Maitland 0\n",
      "saved Harry Rabinowitz 0\n",
      "saved Carole Davis 0\n",
      "saved Kevin Costner 0\n",
      "saved Kevin Costner 1\n",
      "saved Kevin Costner 2\n",
      "saved Alex van Warmerdam 0\n",
      "saved Alex van Warmerdam 1\n",
      "saved Priscilla Presley 0\n",
      "saved Dan Martin 0\n",
      "saved Kari Väänänen 0\n",
      "saved Thalaivasal Vijay 0\n",
      "saved Xiong Xin-Xin 0\n",
      "saved Adam Goldberg 0\n",
      "saved Adam Goldberg 1\n",
      "saved Kieran Mulroney 0\n",
      "saved David Novotný 0\n",
      "saved David Novotný 1\n",
      "saved David Novotný 2\n",
      "saved Alexandra Schalaudek 0\n",
      "saved J.D. Walsh 0\n",
      "saved Josele Román 0\n",
      "saved Josele Román 1\n",
      "saved Andrés Herrera 0\n",
      "failed for Andrés Herrera - 0\n",
      "failed for Andrés Herrera - 0\n",
      "failed for Andrés Herrera - 0\n",
      "saved Pegah Ferydoni 0\n",
      "saved James Keane 0\n",
      "saved Kathie Browne 0\n",
      "saved Lisa Ferraday 0\n",
      "saved Cecilia Roth 0\n",
      "saved Cecilia Roth 1\n",
      "saved Cecilia Roth 2\n",
      "saved Steven Berkoff 0\n",
      "saved Steven Berkoff 1\n",
      "saved Michelle Forbes 0\n",
      "saved Michelle Forbes 1\n",
      "saved Michelle Forbes 2\n",
      "saved Jackie Coogan 0\n",
      "saved Val Avery 0\n",
      "saved Corrado Solari 0\n",
      "saved Corrado Solari 1\n",
      "saved Noah Hathaway 0\n",
      "saved Hippolyte Girardot 0\n",
      "saved Hippolyte Girardot 1\n",
      "saved Lana Wood 0\n",
      "saved Lana Wood 1\n",
      "saved Lana Wood 2\n",
      "saved Yves Montand 0\n",
      "saved Yves Montand 1\n",
      "saved Yves Montand 2\n",
      "saved Lee Dixon 0\n",
      "saved Susan Strasberg 0\n",
      "saved Michiyo Kogure 0\n",
      "saved Marjorie Lord 0\n",
      "failed for Marjorie Lord - 0\n",
      "saved Paul Azaïs 0\n",
      "saved Mamta Mohandas 0\n",
      "saved Mamta Mohandas 1\n",
      "saved Nicollette Sheridan 0\n",
      "saved Ellen Foley 0\n",
      "saved Noah Taylor 0\n",
      "saved Noah Taylor 1\n",
      "saved Sam Vlahos 0\n",
      "saved Lumi Cavazos 0\n",
      "saved Lumi Cavazos 1\n",
      "saved Adrian Dunbar 0\n",
      "saved Sivaji Ganesan 0\n",
      "saved Sivaji Ganesan 1\n",
      "saved Thomas Haden Church 0\n",
      "saved Thomas Haden Church 1\n",
      "saved Patton Oswalt 0\n",
      "saved Patton Oswalt 1\n",
      "saved Makenzie Vega Norfolk 0\n",
      "saved Makenzie Vega Norfolk 1\n",
      "saved Makenzie Vega Norfolk 2\n",
      "failed for Makenzie Vega Norfolk - 2\n",
      "saved Perrey Reeves 0\n",
      "saved Perrey Reeves 1\n",
      "saved Perrey Reeves 2\n",
      "failed for Perrey Reeves - 2\n",
      "saved Evgeny Mironov 0\n",
      "saved Evgeny Mironov 1\n",
      "saved Gayatri Joshi 0\n",
      "saved Manolo Solo 0\n",
      "saved Iman Ali 0\n",
      "saved K. Bhagyaraj 0\n",
      "saved Marcelo Subiotto 0\n",
      "saved Tainá Müller 0\n",
      "saved Katie Couric 0\n",
      "failed for Katie Couric - 0\n",
      "failed for Katie Couric - 0\n",
      "saved Celyn Jones 0\n",
      "saved Luciano Pavarotti 0\n",
      "saved Thomas Solivérès 0\n",
      "saved Thomas Solivérès 1\n",
      "saved Thomas Solivérès 2\n",
      "saved Leigh McCloskey 0\n",
      "saved Eve Arden 0\n",
      "saved Lucy Gallardo 0\n",
      "saved Douglas Rain 0\n",
      "saved Alison Skipworth 0\n",
      "saved Peter Mygind 0\n",
      "saved Billie Bird 0\n",
      "saved Rosalie Crutchley 0\n",
      "saved Edwin August 0\n",
      "saved Ellen Barkin 0\n",
      "saved Ellen Barkin 1\n",
      "saved Ellen Barkin 2\n",
      "saved Samit Bhanja 0\n",
      "saved Sonny Tufts 0\n",
      "saved O.B. Clarence 0\n",
      "saved O.B. Clarence 1\n",
      "saved Benedict Taylor 0\n",
      "saved Armand Assante 0\n",
      "saved Armand Assante 1\n",
      "saved Armand Assante 2\n",
      "saved Gordon Oliver 0\n",
      "saved Bobby Rydell 0\n",
      "failed for Bobby Rydell - 0\n",
      "saved John Spencer 0\n",
      "saved Richard Coca 0\n",
      "saved Leni Parker 0\n",
      "saved Richard Bremmer 0\n",
      "saved Denise Van Outen 0\n",
      "failed for Denise Van Outen - 0\n",
      "saved Pawan Kalyan 0\n",
      "saved Pawan Kalyan 1\n",
      "saved Pawan Kalyan 2\n",
      "saved Roberto Sosa 0\n",
      "saved Marcel Hensema 0\n",
      "saved Simon Woods 0\n",
      "saved José Garcia 0\n",
      "saved Josh Duhamel 0\n",
      "failed for Josh Duhamel - 0\n",
      "saved Rafael Spregelburd 0\n",
      "saved Anders Holm 0\n",
      "saved Anders Holm 1\n",
      "saved Daisy Ridley 0\n",
      "saved Daisy Ridley 1\n",
      "saved Daisy Ridley 2\n",
      "failed for Daisy Ridley - 2\n",
      "saved E. Roger Mitchell 0\n",
      "saved E. Roger Mitchell 1\n",
      "saved E. Roger Mitchell 2\n",
      "failed for Claudine Vinasithamby - 2\n",
      "saved Hans Peterson 0\n",
      "saved DJ Khaled 0\n",
      "failed for DJ Khaled - 0\n",
      "saved Margo Lion 0\n",
      "saved Jerzy Dobrowolski 0\n",
      "saved Ezzatolah Entezami 0\n",
      "saved Ezzatolah Entezami 1\n",
      "saved Edmund Lowe 0\n",
      "saved Andy Nyman 0\n",
      "saved Roscoe Lee Browne 0\n",
      "saved Louis Jourdan 0\n",
      "saved Louis Jourdan 1\n",
      "saved Louis Jourdan 2\n",
      "saved Anna Bonaiuto 0\n",
      "saved Jack Mullaney 0\n",
      "saved Jack Pennick 0\n",
      "saved Johnny Carson 0\n",
      "saved Lou Castel 0\n",
      "saved Lou Castel 1\n",
      "saved Jiří Císler 0\n",
      "saved Krystyna Mikołajewska 0\n",
      "saved Warner Baxter 0\n",
      "saved Franco Caracciolo 0\n",
      "saved Sal Landi 0\n",
      "saved Ljubica Adzovic 0\n",
      "saved He Saifei 0\n",
      "failed for He Saifei - 0\n",
      "saved Queen Latifah 0\n",
      "saved Queen Latifah 1\n",
      "saved Queen Latifah 2\n",
      "saved Elisa Donovan 0\n",
      "saved Götz Otto 0\n",
      "saved Takeo Chii 0\n",
      "saved Takeo Chii 1\n",
      "saved Yusuke Iseya 0\n",
      "saved Yusuke Iseya 1\n",
      "saved Yusuke Iseya 2\n",
      "saved Natasha Henstridge 0\n",
      "saved Natasha Henstridge 1\n",
      "saved Natasha Henstridge 2\n",
      "saved Raju Kher 0\n",
      "saved İhsan Yüce 0\n",
      "saved İhsan Yüce 1\n",
      "saved Turgut Özatay 0\n",
      "saved Turgut Özatay 1\n",
      "saved Chiranjeevi 0\n",
      "saved Laura Mennell 0\n",
      "saved Kenichi Matsuyama 0\n",
      "saved Kenichi Matsuyama 1\n",
      "saved Kenichi Matsuyama 2\n",
      "saved Roger Corman 0\n",
      "saved Roger Corman 1\n",
      "saved Roger Corman 2\n",
      "failed for Valentin Teodosiu - 2\n",
      "saved Peggy Lipton 0\n",
      "saved Peggy Lipton 1\n",
      "saved Saswata Chatterjee 0\n",
      "saved Tender Huang 0\n",
      "saved Hector Kotsifakis 0\n",
      "saved Vijay Devarakonda 0\n",
      "saved Vijay Devarakonda 1\n",
      "failed for Terry Butcher - 1\n",
      "saved Tom Lawrence 0\n",
      "failed for Tom Lawrence - 0\n",
      "saved Karen Steele 0\n",
      "saved Matthew Barry 0\n",
      "saved Matthew Barry 1\n",
      "saved Matthew Barry 2\n",
      "saved Fernando Cebrián 0\n",
      "saved Marilyn Erskine 0\n",
      "saved Richard Todd 0\n",
      "saved Patrick O'Neal 0\n",
      "saved Richard Masur 0\n",
      "saved Mikijiro Hira 0\n",
      "saved Mikijiro Hira 1\n",
      "saved John Halliday 0\n",
      "saved Georgine Darcy 0\n",
      "saved Georgine Darcy 1\n",
      "saved Georgine Darcy 2\n",
      "saved Vasiliy Livanov 0\n",
      "failed for Vasiliy Livanov - 0\n",
      "saved Saundra Santiago 0\n",
      "saved Michael Biehn 0\n",
      "saved Michael Biehn 1\n",
      "saved Marianne Faithfull 0\n",
      "saved Bill Paterson 0\n",
      "saved Karen Austin 0\n",
      "saved Tom Fridley 0\n",
      "saved John Matshikiza 0\n",
      "failed for John Matshikiza - 0\n",
      "failed for John Matshikiza - 0\n",
      "saved Chang Han 0\n",
      "saved Donal McCann 0\n",
      "saved Marcantonio Del Carlo 0\n",
      "saved Stavros Xenidis 0\n",
      "saved Phil Reeves 0\n",
      "saved Brían F. O'Byrne 0\n",
      "saved Sung Kang 0\n",
      "saved Sung Kang 1\n",
      "saved Sung Kang 2\n",
      "saved Rainer Bock 0\n",
      "saved Rainer Bock 1\n",
      "saved Oriol Vila 0\n",
      "saved Oriol Vila 1\n",
      "saved Sean Bridgers 0\n",
      "saved Sean Bridgers 1\n",
      "saved Sean Bridgers 2\n",
      "saved Sherrod Brown 0\n",
      "saved Jack Albertson 0\n",
      "saved Danika La Loggia 0\n",
      "saved Jeannie Berlin 0\n",
      "saved Jeannie Berlin 1\n",
      "saved Jeannie Berlin 2\n",
      "saved Anne Whitfield 0\n",
      "saved Nathalie Baye 0\n",
      "saved Nathalie Baye 1\n",
      "saved Nathalie Baye 2\n",
      "saved Milton Parsons 0\n",
      "saved Eric Blore 0\n",
      "saved Victoria Horne 0\n",
      "saved Fabio Testi 0\n",
      "saved Fabio Testi 1\n",
      "saved Robert Agnew 0\n",
      "saved George Cole 0\n",
      "saved John Longden 0\n",
      "saved G. Pat Collins 0\n",
      "saved Francisco Rabal 0\n",
      "saved David Hess 0\n",
      "saved Debra Winger 0\n",
      "saved Debra Winger 1\n",
      "saved Debra Winger 2\n",
      "saved Cyril Delevanti 0\n",
      "saved Mitchell Lewis 0\n",
      "saved Olga Schoberová 0\n",
      "saved Luis Brandoni 0\n",
      "saved Dana Carvey 0\n",
      "saved Kenneth Branagh 0\n",
      "saved Kenneth Branagh 1\n",
      "saved Tom Sizemore 0\n",
      "failed for Tom Sizemore - 0\n",
      "saved Darío Grandinetti 0\n",
      "saved Ginette Reno 0\n",
      "saved Ginette Reno 1\n",
      "saved James Duval 0\n",
      "saved James Duval 1\n",
      "saved James Duval 2\n",
      "saved Celia Imrie 0\n",
      "saved Kellie Overbey 0\n",
      "saved Amrita Singh 0\n",
      "saved Makrand Deshpande 0\n",
      "saved Eric Savin 0\n",
      "saved Eric Savin 1\n",
      "saved Eric Savin 2\n",
      "saved Gerry Robert Byrne 0\n",
      "failed for Gerry Robert Byrne - 0\n",
      "saved Miranda July 0\n",
      "saved Miranda July 1\n",
      "saved Miranda July 2\n",
      "failed for Miranda July - 2\n",
      "saved Laurence Belcher 0\n",
      "saved André Leon Talley 0\n",
      "saved Jim Morrison 0\n",
      "saved Ville Virtanen 0\n",
      "saved Kiruna Stamell 0\n",
      "saved Katherine Hughes 0\n",
      "saved Charles Green 0\n",
      "saved Julian Dennison 0\n",
      "saved Julian Dennison 1\n",
      "saved Aniello Arena 0\n",
      "saved Peter Masterson 0\n",
      "saved Carol Cleveland 0\n",
      "saved Carol Eve Rossen 0\n",
      "saved Walter Reed 0\n",
      "saved Dorothy Comingore 0\n",
      "saved Jay Acovone 0\n",
      "saved Buddy Lester 0\n",
      "saved William Frawley 0\n",
      "saved Catherine Breillat 0\n",
      "saved Jun Hamamura 0\n",
      "saved Daniele Dublino 0\n",
      "saved Anouska Hempel 0\n",
      "failed for Anouska Hempel - 0\n",
      "saved Jacqueline Andere 0\n",
      "saved Marisa Porcel 0\n",
      "saved Mary Ellis 0\n",
      "saved Paul Michael Glaser 0\n",
      "saved Paul Michael Glaser 1\n",
      "saved Patricio Contreras 0\n",
      "saved Patricio Contreras 1\n",
      "saved Cynthia Gibb 0\n",
      "saved Cynthia Gibb 1\n",
      "saved Liza Machulska 0\n",
      "saved Rasika Dugal 0\n",
      "saved Peter McRobbie 0\n",
      "saved Peter McRobbie 1\n",
      "saved Sue Johnston 0\n",
      "saved Joey Ramone 0\n",
      "saved Peter Gerety 0\n",
      "saved Peter Gerety 1\n",
      "saved Shalom Harlow 0\n",
      "saved Jordan Ladd 0\n",
      "saved Jordan Ladd 1\n",
      "saved Anthony Anderson 0\n",
      "saved Nina Menshikova 0\n",
      "failed for Nina Menshikova - 0\n",
      "saved Aunjanue Ellis 0\n",
      "saved Aunjanue Ellis 1\n",
      "saved Aunjanue Ellis 2\n",
      "saved 姜宏波 0\n",
      "saved Alexandre Rodrigues 0\n",
      "saved Leif Edlund 0\n",
      "saved Javier Godino 0\n",
      "saved Sissy Petropoulou 0\n",
      "saved Kevin James 0\n",
      "saved Kevin James 1\n",
      "failed for Kevin James - 1\n",
      "failed for Kevin James - 1\n",
      "failed for Kevin James - 1\n",
      "saved Jodie Kidd 0\n",
      "saved Tucker Carlson 0\n",
      "saved Toby Wallace 0\n",
      "saved Miranda Hart 0\n",
      "saved William Swan 0\n",
      "saved Dan Ferrone 0\n",
      "saved Marcia Rodd 0\n",
      "saved Martin Sheen 0\n",
      "saved Martin Sheen 1\n",
      "saved Martin Sheen 2\n",
      "failed for Martin Sheen - 2\n",
      "saved Jany Holt 0\n",
      "saved William Post Jr. 0\n",
      "saved Sterling Hayden 0\n",
      "saved Anatoliy Ivanov 0\n",
      "saved Anatoliy Ivanov 1\n",
      "saved Isa Quensel 0\n",
      "saved Bharati Devi 0\n",
      "failed for Bharati Devi - 0\n",
      "saved Rolf Hoppe 0\n",
      "saved Othon Bastos 0\n",
      "saved Othon Bastos 1\n",
      "saved Aleksandr Sirin 0\n",
      "saved Sancho Gracia 0\n",
      "saved Pauline Jameson 0\n",
      "saved Christopher Villiers 0\n",
      "failed for Christopher Villiers - 0\n",
      "saved Joanna Gleason 0\n",
      "saved Joanna Gleason 1\n",
      "saved Joanna Gleason 2\n",
      "saved John Shrapnel 0\n",
      "saved Doris Hare 0\n",
      "saved Conni Marie Brazelton 0\n",
      "saved Ramya Krishnan 0\n",
      "saved Ramya Krishnan 1\n",
      "saved Ramya Krishnan 2\n",
      "saved Michael Colyar 0\n",
      "saved Carme Elias 0\n",
      "saved Yûko Daike 0\n",
      "saved Mathieu Kassovitz 0\n",
      "saved Paul Houde 0\n",
      "saved Christine Citti 0\n",
      "saved Christine Citti 1\n",
      "saved Cecilia Nilsson 0\n",
      "saved June Squibb 0\n",
      "saved June Squibb 1\n",
      "saved Taro Suwa 0\n",
      "failed for Taro Suwa - 0\n",
      "saved Pepe Ocio 0\n",
      "saved Felicity Jones 0\n",
      "saved Felicity Jones 1\n",
      "saved Felicity Jones 2\n",
      "saved Christoph Maria Herbst 0\n",
      "saved Christoph Maria Herbst 1\n",
      "failed for Harriet Leitch - 1\n",
      "failed for Harriet Leitch - 1\n",
      "saved Varun Sharma 0\n",
      "saved Joanna Jędryka 0\n",
      "saved Timothy Scott 0\n",
      "saved Basil Rathbone 0\n",
      "saved Basil Rathbone 1\n",
      "saved Basil Rathbone 2\n",
      "saved Sean Faris 0\n",
      "saved Cyril Luckham 0\n",
      "saved Yôko Tsukasa 0\n",
      "saved Josef Meinrad 0\n",
      "saved James Bradbury Jr. 0\n",
      "saved Martine Beswick 0\n",
      "saved Martine Beswick 1\n",
      "failed for Martine Beswick - 1\n",
      "saved Asa Butterfield 0\n",
      "saved Asa Butterfield 1\n",
      "saved Asa Butterfield 2\n",
      "saved Rehan Khan 0\n",
      "saved Gabriel Odenhammar 0\n",
      "saved Geng Le 0\n",
      "saved Claire Keim 0\n",
      "saved Tosca D'Aquino 0\n",
      "saved Tosca D'Aquino 1\n",
      "saved Michael Shamus Wiles 0\n",
      "saved Tyler Mane 0\n",
      "saved Claudio Rissi 0\n",
      "saved Claudio Rissi 1\n",
      "saved Ladya Cheryl 0\n",
      "saved Todd Bridges 0\n",
      "failed for Todd Bridges - 0\n",
      "failed for Todd Bridges - 0\n",
      "saved Timuçin Esen 0\n",
      "saved Reynaldo Gallegos 0\n",
      "failed for Reynaldo Gallegos - 0\n",
      "saved Afonso Pimentel 0\n",
      "saved Lindsey Buckingham 0\n",
      "saved Craig Stott 0\n",
      "failed for Craig Stott - 0\n",
      "saved Judith Ivey 0\n",
      "saved Jamie Farr 0\n",
      "saved John Abbott 0\n",
      "saved Sarah Miles 0\n",
      "saved Sarah Miles 1\n",
      "saved Louis de Funès 0\n",
      "saved Louis de Funès 1\n",
      "saved Louis de Funès 2\n",
      "saved Lino Ventura 0\n",
      "saved Luis Aceves Castañeda 0\n",
      "saved Tanya Lopert 0\n",
      "saved Tanya Lopert 1\n",
      "saved Pio Marmaï 0\n",
      "saved Marisa Paredes 0\n",
      "saved Nikolay Burlyaev 0\n",
      "saved Alexis Thorpe 0\n",
      "saved Chevy Chase 0\n",
      "saved Chevy Chase 1\n",
      "saved Chevy Chase 2\n",
      "saved Ulla Smidje 0\n",
      "saved Jack Palance 0\n",
      "saved Jack Palance 1\n",
      "saved Jack Palance 2\n",
      "saved Paul Stassino 0\n",
      "saved Michael St. Gerard 0\n",
      "failed for Michael St. Gerard - 0\n",
      "saved BD Wong 0\n",
      "saved BD Wong 1\n",
      "saved Dicky Cheung Wai-Kin 0\n",
      "saved Dicky Cheung Wai-Kin 1\n",
      "saved Karina Lombard 0\n",
      "saved Skeet Ulrich 0\n",
      "saved Elle Macpherson 0\n",
      "saved Rick Gonzalez 0\n",
      "saved Jill Flint 0\n",
      "failed for Jill Flint - 0\n",
      "saved Ursina Lardi 0\n",
      "saved Slash 0\n",
      "saved Evelyne Brochu 0\n",
      "saved Evelyne Brochu 1\n",
      "saved Evelyne Brochu 2\n",
      "saved Cut Mini Theo 0\n",
      "saved Craig Roberts 0\n",
      "saved Vikrant Massey 0\n",
      "failed for Vikrant Massey - 0\n",
      "saved Yvonne Huff 0\n",
      "saved Michelle La 0\n",
      "saved Michelle La 1\n",
      "saved Michelle La 2\n",
      "saved Huang Bo 0\n",
      "saved Barbara Nichols 0\n",
      "saved Tom Savini 0\n",
      "saved Dorothy Adams 0\n",
      "saved Georges Flamant 0\n",
      "saved Ángel Álvarez 0\n",
      "saved Oleg Basilashvili 0\n",
      "saved Roy D'Arcy 0\n",
      "saved Phoebe Cates 0\n",
      "saved Phoebe Cates 1\n",
      "saved Phoebe Cates 2\n",
      "saved John Denver 0\n",
      "saved John Denver 1\n",
      "saved John Denver 2\n",
      "saved Penny Peyser 0\n",
      "saved Renée Soutendijk 0\n",
      "saved Maria Ouspenskaya 0\n",
      "saved Brian Peck 0\n",
      "saved Helen Morse 0\n",
      "saved Helen Morse 1\n",
      "saved Michael Ontkean 0\n",
      "saved Magda Vášáryová 0\n",
      "saved Magda Vášáryová 1\n",
      "saved Suzana Alves 0\n",
      "saved Shera Danese 0\n",
      "saved Barbara Ferris 0\n",
      "saved Deborah Rennard 0\n",
      "saved Neville Phillips 0\n",
      "saved Andrew Bryniarski 0\n",
      "saved Wes Studi 0\n",
      "failed for Wes Studi - 0\n",
      "saved Tracy Middendorf 0\n",
      "saved Tracy Middendorf 1\n",
      "failed for Tracy Middendorf - 1\n",
      "failed for Justin McGuire - 1\n",
      "failed for Justin McGuire - 1\n",
      "saved Wes Ramsey 0\n",
      "failed for Wes Ramsey - 0\n",
      "saved Anita Reeves 0\n",
      "saved Ophelia Lovibond 0\n",
      "saved Ophelia Lovibond 1\n",
      "saved Ophelia Lovibond 2\n",
      "saved Okan Yalabık 0\n",
      "saved Okan Yalabık 1\n",
      "saved Okan Yalabık 2\n",
      "saved Bouli Lanners 0\n",
      "saved Toby Hargrave 0\n",
      "saved Robin Boissevain 0\n",
      "saved André Marcon 0\n",
      "saved Valeria Cotto 0\n",
      "saved Janet Montgomery 0\n",
      "saved Janet Montgomery 1\n",
      "saved Janet Montgomery 2\n",
      "saved Ave Ninchi 0\n",
      "saved Miyoshi Umeki 0\n",
      "saved Nora Gregor 0\n",
      "saved Sheldon Lewis 0\n",
      "saved Sheila Sim 0\n",
      "saved Martin Mull 0\n",
      "failed for Martin Mull - 0\n",
      "saved Richard Rober 0\n",
      "saved Eileen Heckart 0\n",
      "saved Raju Shrestha 0\n",
      "saved Willie Nelson 0\n",
      "saved Willie Nelson 1\n",
      "saved Joan Caulfield 0\n",
      "saved Joan Caulfield 1\n",
      "saved Henry Victor 0\n",
      "saved James Aubrey 0\n",
      "failed for Gene Darfler - 0\n",
      "saved Lisa Bonet 0\n",
      "saved Lisa Bonet 1\n",
      "saved Lisa Bonet 2\n",
      "saved Dakin Matthews 0\n",
      "saved Li Baotian 0\n",
      "saved Ron Haddrick 0\n",
      "saved Jean Wang 0\n",
      "saved Daniel J. Travanti 0\n",
      "saved John Michael Higgins 0\n",
      "saved John Michael Higgins 1\n",
      "saved Alex MacNicoll 0\n",
      "saved Alex MacNicoll 1\n",
      "saved Alex MacNicoll 2\n",
      "saved Yoyo Mung 0\n",
      "saved Jesper Christensen 0\n",
      "saved Bilge Zobu 0\n",
      "saved Geetha Vijayan 0\n",
      "saved Frank Hoyt Taylor 0\n",
      "saved Carlo Ljubek 0\n",
      "saved Paul Ronan 0\n",
      "saved John Arcilla 0\n",
      "saved Brittany Snow 0\n",
      "saved Brittany Snow 1\n",
      "saved Brittany Snow 2\n",
      "saved Danila Kozlovsky 0\n",
      "saved Danila Kozlovsky 1\n",
      "saved Danila Kozlovsky 2\n",
      "saved Tommaso Ragno 0\n",
      "saved Dino Lee 0\n",
      "failed for Dino Lee - 0\n",
      "saved Swanand Kirkire 0\n",
      "saved Kevin Layne 0\n",
      "saved Wylie Watson 0\n",
      "saved Agustín González 0\n",
      "saved Linda Veras 0\n",
      "saved Bellan Roos 0\n",
      "saved William Holden 0\n",
      "saved William Holden 1\n",
      "saved William Holden 2\n",
      "saved Lale Mansur 0\n",
      "saved Lelia Goldoni 0\n",
      "saved Rita Montone 0\n",
      "saved Phil Daniels 0\n",
      "saved Stephen Boyd 0\n",
      "saved David Farrar 0\n",
      "saved David Farrar 1\n",
      "saved Eric Dane 0\n",
      "saved Paul Rogers 0\n",
      "saved Eddie Foy III 0\n",
      "saved Helmut Dantine 0\n",
      "saved Ewa Da Cruz 0\n",
      "saved Clyde Cook 0\n",
      "saved Larisa Tarkovskaya 0\n",
      "saved Laura Birn 0\n",
      "saved Barbara Laage 0\n",
      "failed for Barbara Laage - 0\n",
      "saved Françoise Yip 0\n",
      "saved Bill Clinton 0\n",
      "saved Bill Clinton 1\n",
      "saved Bill Clinton 2\n",
      "saved Guillaume Nicloux 0\n",
      "saved Ali Astin 0\n",
      "saved Ali Astin 1\n",
      "failed for Ali Astin - 1\n",
      "saved Yuta Hiraoka 0\n",
      "saved MyAnna Buring 0\n",
      "saved MyAnna Buring 1\n",
      "saved MyAnna Buring 2\n",
      "saved Terry Pheto 0\n",
      "saved Antonio de la Torre 0\n",
      "saved Michael Chernus 0\n",
      "saved Sebastian Vettel 0\n",
      "saved Judah Lewis 0\n",
      "saved Judah Lewis 1\n",
      "saved Neda Jebraeili 0\n",
      "failed for Neda Jebraeili - 0\n",
      "saved Tiffany Dupont 0\n",
      "saved Kathryn Kirkpatrick 0\n",
      "saved Mouni Roy 0\n",
      "saved Mouni Roy 1\n",
      "saved Charles Tyner 0\n",
      "saved Sergiu Nicolaescu 0\n",
      "saved Sergiu Nicolaescu 1\n",
      "saved Sergiu Nicolaescu 2\n",
      "saved Daniel Olbrychski 0\n",
      "saved ​Ljubiša Samardžić 0\n",
      "saved Elisabeth Wiener 0\n",
      "saved Elisabeth Wiener 1\n",
      "saved Mal Evans 0\n",
      "saved Maxwell Caulfield 0\n",
      "saved Maxwell Caulfield 1\n",
      "saved Frances Bavier 0\n",
      "saved Kyle T. Heffner 0\n",
      "saved Bill Wyman 0\n",
      "saved Mohammed Zeeshan Ayyub 0\n",
      "saved Marina Berti 0\n",
      "saved Katia Tchenko 0\n",
      "saved Argentina Brunetti 0\n",
      "failed for Argentina Brunetti - 0\n",
      "saved Richard Allan 0\n",
      "saved Oliver Reed 0\n",
      "saved Oliver Reed 1\n",
      "saved Oliver Reed 2\n",
      "failed for Quentin Ogier - 2\n",
      "failed for Quentin Ogier - 2\n",
      "saved Morris Chestnut 0\n",
      "saved Thandie Newton 0\n",
      "saved Thandie Newton 1\n",
      "saved Thandie Newton 2\n",
      "saved Moira Kelly 0\n",
      "saved Deepak Tijori 0\n",
      "saved Guo Tao 0\n",
      "saved Guo Tao 1\n",
      "saved John Lehr 0\n",
      "saved Kayoko Kishimoto 0\n",
      "saved Liam Carney 0\n",
      "saved Archie Panjabi 0\n",
      "saved Anton Yelchin 0\n",
      "saved Anton Yelchin 1\n",
      "saved Josh Peck 0\n",
      "saved Dany Boon 0\n",
      "saved Dany Boon 1\n",
      "saved Kais Nashif 0\n",
      "saved Dilip Prabhavalkar 0\n",
      "saved Oscar Isaac 0\n",
      "saved Oscar Isaac 1\n",
      "saved Oscar Isaac 2\n",
      "saved Kent Kimball 0\n",
      "saved Ahna O'Reilly 0\n",
      "saved Jonny Weston 0\n",
      "saved Stephen Mangan 0\n",
      "saved Nasrdin Dchar 0\n",
      "saved Ansel Elgort 0\n",
      "saved Ansel Elgort 1\n",
      "saved Ansel Elgort 2\n",
      "saved Nick Cave 0\n",
      "saved Nick Cave 1\n",
      "saved Dick Gregory 0\n",
      "saved Sunny Suwanmethanon 0\n",
      "failed for Sunny Suwanmethanon - 0\n",
      "saved Jesse Lee Peterson 0\n",
      "saved Isla Blair 0\n",
      "saved Judith Barrett 0\n",
      "saved Mary Kay Place 0\n",
      "saved Thelma Todd 0\n",
      "saved Jan Ciecierski 0\n",
      "saved Frank Adonis 0\n",
      "saved Frank Adonis 1\n",
      "saved Claude Piéplu 0\n",
      "saved Claude Piéplu 1\n",
      "saved Brenda Benet 0\n",
      "saved Sam Robards 0\n",
      "saved Michel Constantin 0\n",
      "saved Hildegard Knef 0\n",
      "saved Hildegard Knef 1\n",
      "saved George Coulouris 0\n",
      "saved George Coulouris 1\n",
      "failed for George Coulouris - 1\n",
      "saved Salvatore Basile 0\n",
      "saved Milo Quesada 0\n",
      "saved Milo Quesada 1\n",
      "saved Randy Stuart 0\n",
      "saved Grace Ford 0\n",
      "saved Tenen Holtz 0\n",
      "saved Charles Durning 0\n",
      "saved Charles Durning 1\n",
      "failed for Charles Durning - 1\n",
      "saved Anupam Kher 0\n",
      "saved Anupam Kher 1\n",
      "saved Anupam Kher 2\n",
      "saved Dan Castellaneta 0\n",
      "failed for Dan Castellaneta - 0\n",
      "saved Joseph Cousins 0\n",
      "saved L. Scott Caldwell 0\n",
      "failed for L. Scott Caldwell - 0\n",
      "saved Elina Löwensohn 0\n",
      "saved Elisa Tovati 0\n",
      "saved Elisa Tovati 1\n",
      "saved Elisa Tovati 2\n",
      "saved Joe Torry 0\n",
      "saved Claudia Ferri 0\n",
      "saved Stephen Dillane 0\n",
      "saved Adam Bousdoukos 0\n",
      "saved Gillian Barge 0\n",
      "saved Caco Ciocler 0\n",
      "saved Christopher Cousins 0\n",
      "failed for Jesse Friedman - 0\n",
      "saved Adam Butcher 0\n",
      "saved Adam Butcher 1\n",
      "saved Venu Nagavalli 0\n",
      "saved Wes Chatham 0\n",
      "saved Wes Chatham 1\n",
      "saved Nani 0\n",
      "saved Nani 1\n",
      "saved Conleth Hill 0\n",
      "saved Francesca Barcenas 0\n",
      "saved Mickey Hart 0\n",
      "saved Shawn Ashmore 0\n",
      "saved Shawn Ashmore 1\n",
      "saved Shawn Ashmore 2\n",
      "saved Lauren Esposito 0\n",
      "failed for Lauren Esposito - 0\n",
      "saved Heinrich Himmler 0\n",
      "failed for Heinrich Himmler - 0\n",
      "failed for Heinrich Himmler - 0\n",
      "saved Alina Cheng 0\n",
      "failed for Alina Cheng - 0\n",
      "failed for Alina Cheng - 0\n",
      "saved Claire Bronson 0\n",
      "saved Ricky Nelson 0\n",
      "saved Michael Douglas 0\n",
      "saved Michael Douglas 1\n",
      "saved Michael Douglas 2\n",
      "failed for Michael Douglas - 2\n",
      "saved Bob Jennings 0\n",
      "saved René Enríquez 0\n",
      "saved Bruno Ganz 0\n",
      "saved Bruno Ganz 1\n",
      "saved Bruno Ganz 2\n",
      "saved Jackie 'Butch' Jenkins 0\n",
      "saved Sybil Thorndike 0\n",
      "saved Sybil Thorndike 1\n",
      "saved Percy Herbert 0\n",
      "failed for Percy Herbert - 0\n",
      "saved Dominique Frot 0\n",
      "saved Nacho Vigalondo 0\n",
      "saved Ralph Moody 0\n",
      "saved Patsy Kelly 0\n",
      "saved Patience Collier 0\n",
      "saved Patience Collier 1\n",
      "saved Ken Curtis 0\n",
      "saved Ken Curtis 1\n",
      "saved Lynn Bari 0\n",
      "saved Bruno Cremer 0\n",
      "saved Bruno Cremer 1\n",
      "saved Irene Wan 0\n",
      "saved Gary Daniels 0\n",
      "saved Peter Wight 0\n",
      "saved Peter Wight 1\n",
      "saved Courteney Cox 0\n",
      "saved Courteney Cox 1\n",
      "saved Courteney Cox 2\n",
      "saved Himani Shivpuri 0\n",
      "failed for Himani Shivpuri - 0\n",
      "saved Bruce Beatty 0\n",
      "saved Monica Bârlădeanu 0\n",
      "failed for Monica Bârlădeanu - 0\n",
      "saved Luing Andrews 0\n",
      "saved Roberto Álamo 0\n",
      "saved Kristoffer Joner 0\n",
      "saved Pedro Casablanc 0\n",
      "saved Pedro Casablanc 1\n",
      "saved T G Ravi 0\n",
      "saved Donald F. Muhich 0\n",
      "saved Donald Pleasence 0\n",
      "saved Donald Pleasence 1\n",
      "saved Jaime Sánchez 0\n",
      "saved Tommy Chong 0\n",
      "saved Tommy Chong 1\n",
      "saved Shannen Doherty 0\n",
      "saved Julian Christopher 0\n",
      "saved Mike Genovese 0\n",
      "saved Susan Penhaligon 0\n",
      "saved Madeline Kahn 0\n",
      "saved Madeline Kahn 1\n",
      "saved Jimmy Lloyd 0\n",
      "saved Shintarō Katsu 0\n",
      "saved John Ortiz 0\n",
      "saved Sumner Williams 0\n",
      "saved Michael Sacks 0\n",
      "saved Michael Sacks 1\n",
      "saved Michael Sacks 2\n",
      "saved Betty Compson 0\n",
      "saved Chi Chun Ha 0\n",
      "saved Rikiya Yasuoka 0\n",
      "saved Rikiya Yasuoka 1\n",
      "saved Amanda Plummer 0\n",
      "saved Amanda Plummer 1\n",
      "saved Kevin Tighe 0\n",
      "saved Julia McKenzie 0\n",
      "saved Michael Durrell 0\n",
      "failed for Michael Durrell - 0\n",
      "saved William Richert 0\n",
      "saved Ingrid Rogers 0\n",
      "saved Ingrid Rogers 1\n",
      "saved Mel Gorham 0\n",
      "saved Michael Milhoan 0\n",
      "saved Justin Pierce 0\n",
      "saved Esteban Powell 0\n",
      "saved Antoinette LaVecchia 0\n",
      "saved Megan Gay 0\n",
      "saved Megan Gay 1\n",
      "saved Megan Gay 2\n",
      "saved Antwon Tanner 0\n",
      "saved You 0\n",
      "saved You 1\n",
      "saved You 2\n",
      "saved Gerardo Taracena 0\n",
      "saved Gerardo Taracena 1\n",
      "saved Gerardo Taracena 2\n",
      "saved Michael Dorman 0\n",
      "saved Michael Dorman 1\n",
      "saved Michael Dorman 2\n",
      "saved Oliver Hudson 0\n",
      "saved Anneza Papadopoulou 0\n",
      "failed for Anneza Papadopoulou - 0\n",
      "saved Kumar Sanu 0\n",
      "saved Erkan Kolçak Köstendil 0\n",
      "saved Okan Avcı 0\n",
      "failed for Okan Avcı - 0\n",
      "saved Héctor Elizondo 0\n",
      "failed for Héctor Elizondo - 0\n",
      "saved Jan Molander 0\n",
      "saved Mizuho Suzuki 0\n",
      "saved Pat Hingle 0\n",
      "saved Margaret Blye 0\n",
      "saved Kyle Gallner 0\n",
      "saved Kyle Gallner 1\n",
      "saved Jacques Marin 0\n",
      "saved Gedde Watanabe 0\n",
      "saved Joan Blackman 0\n",
      "saved Donald Calthrop 0\n",
      "saved Donald Calthrop 1\n",
      "saved Christopher St. John 0\n",
      "saved Malcolm McLaren 0\n",
      "saved Jan Libíček 0\n",
      "saved Jacques Dumesnil 0\n",
      "saved Richard Barthelmess 0\n",
      "saved Marc van Warmerdam 0\n",
      "saved Margo 0\n",
      "saved James Young 0\n",
      "failed for James Young - 0\n",
      "saved Lyudmila Maksakova 0\n",
      "saved Wendy Schaal 0\n",
      "saved Wendy Schaal 1\n",
      "saved Maryam d'Abo 0\n",
      "saved Maryam d'Abo 1\n",
      "saved Maryam d'Abo 2\n",
      "saved Carmen de Lirio 0\n",
      "saved Brendan Gleeson 0\n",
      "saved Brendan Gleeson 1\n",
      "saved Brendan Gleeson 2\n",
      "saved Bruno Todeschini 0\n",
      "saved Famke Janssen 0\n",
      "saved Famke Janssen 1\n",
      "saved Famke Janssen 2\n",
      "saved Alexander Scheer 0\n",
      "saved Corinna Harfouch 0\n",
      "saved Corinna Harfouch 1\n",
      "saved Pierrette Robitaille 0\n",
      "failed for Pierrette Robitaille - 0\n",
      "saved Yana Shivkova 0\n",
      "saved Yana Shivkova 1\n",
      "saved Yana Shivkova 2\n",
      "saved Adriana Ozores 0\n",
      "saved Allison Anders 0\n",
      "failed for Allison Anders - 0\n",
      "saved Simon Delaney 0\n",
      "saved Isild Le Besco 0\n",
      "failed for Isild Le Besco - 0\n",
      "failed for Isild Le Besco - 0\n",
      "saved William Vail 0\n",
      "saved Maurice Marsac 0\n",
      "saved Margaret Sheridan 0\n",
      "saved Louis Jean Heydt 0\n",
      "saved Corinna Tsopei 0\n",
      "saved Christine Lahti 0\n",
      "saved Christine Lahti 1\n",
      "saved Rachel Ward 0\n",
      "failed for Rachel Ward - 0\n",
      "saved Roger Tréville 0\n",
      "saved Clinton Sundberg 0\n",
      "saved Jennifer O'Neill 0\n",
      "saved Molly Peters 0\n",
      "saved Molly Peters 1\n",
      "saved David Carradine 0\n",
      "saved David Carradine 1\n",
      "saved David Carradine 2\n",
      "saved Albert Maysles 0\n",
      "saved Prithviraj Sukumaran 0\n",
      "saved Prithviraj Sukumaran 1\n",
      "saved John Lodge 0\n",
      "saved Poonam Dhillon 0\n",
      "saved Sherry Jackson 0\n",
      "saved Shakti Kapoor 0\n",
      "saved Shakti Kapoor 1\n",
      "saved Shakti Kapoor 2\n",
      "saved Mark Donovan 0\n",
      "saved Anna Prucnal 0\n",
      "saved Anna Prucnal 1\n",
      "saved Harry Hamlin 0\n",
      "failed for Kate Yeung - 0\n",
      "saved Denise Bixler 0\n",
      "saved Richard Domeier 0\n",
      "failed for Richard Domeier - 0\n",
      "saved Boris McGiver 0\n",
      "saved Boris McGiver 1\n",
      "saved Boris McGiver 2\n",
      "saved Nicola Di Pinto 0\n",
      "saved Felix Wong 0\n",
      "saved Felix Wong 1\n",
      "saved Brendan Sexton III 0\n",
      "saved James Frain 0\n",
      "saved James Frain 1\n",
      "saved Jacek Braciak 0\n",
      "failed for Jacek Braciak - 0\n",
      "saved Tony Dalton 0\n",
      "failed for Tony Dalton - 0\n",
      "saved Dilyana Popova 0\n",
      "saved Brian d'Arcy James 0\n",
      "saved Mehdi Dehbi 0\n",
      "failed for Mehdi Dehbi - 0\n",
      "saved Kang Eun-jin 0\n",
      "saved Asser Yasine 0\n",
      "failed for Asser Yasine - 0\n",
      "saved Amira Casar 0\n",
      "saved Amira Casar 1\n",
      "saved E.E. Bell 0\n",
      "failed for E.E. Bell - 0\n",
      "saved Janine Perreau 0\n",
      "saved Mitch Vogel 0\n",
      "saved Anne Crawford 0\n",
      "saved Steve Vai 0\n",
      "saved Jennifer Lawrence 0\n",
      "saved Jennifer Lawrence 1\n",
      "saved Jennifer Lawrence 2\n",
      "failed for Jennifer Lawrence - 2\n",
      "saved Mamie Van Doren 0\n",
      "saved Mamie Van Doren 1\n",
      "saved Monica Vitti 0\n",
      "saved Monica Vitti 1\n",
      "saved Monica Vitti 2\n",
      "saved Pavel Shpringfeld 0\n",
      "saved Russ Bender 0\n",
      "saved Raad Rawi 0\n",
      "saved Louis Koo 0\n",
      "saved Louis Koo 1\n",
      "saved Leslie Banning 0\n",
      "failed for Virginia Carroll - 0\n",
      "failed for Virginia Carroll - 0\n",
      "saved Ken Watanabe 0\n",
      "saved Ken Watanabe 1\n",
      "saved Mikhail Gluzskiy 0\n",
      "saved Professor Toru Tanaka 0\n",
      "saved Professor Toru Tanaka 1\n",
      "saved Professor Toru Tanaka 2\n",
      "saved Annette Azcuy 0\n",
      "saved Anne Ramsay 0\n",
      "saved Anne Ramsay 1\n",
      "saved Anne Ramsay 2\n",
      "saved Catherine Hung Yan 0\n",
      "saved Nedumudi Venu 0\n",
      "saved Catherine McCormack 0\n",
      "saved Catherine McCormack 1\n",
      "saved Marc Donato 0\n",
      "saved Marc Donato 1\n",
      "saved Hilmir Snær Guðnason 0\n",
      "saved Cecilie A. Mosli 0\n",
      "saved Selma Copijn 0\n",
      "saved Vijayan 0\n",
      "saved Martin Luther King 0\n",
      "saved Julian Assange 0\n",
      "failed for Michael Borrelli - 0\n",
      "saved Shane McRae 0\n",
      "failed for Shane McRae - 0\n",
      "saved Ellen Dorrit Petersen 0\n",
      "saved Ellen Dorrit Petersen 1\n",
      "saved Ellen Dorrit Petersen 2\n",
      "saved Marisa Pavan 0\n",
      "saved Marisa Pavan 1\n",
      "saved Marisa Pavan 2\n",
      "saved Felice Orlandi 0\n",
      "saved Muriel Evans 0\n",
      "saved Muriel Evans 1\n",
      "saved Zoë Nathenson 0\n",
      "saved Marie Windsor 0\n",
      "saved Barbara Lawrence 0\n",
      "saved Rick Rossovich 0\n",
      "saved Rick Rossovich 1\n",
      "saved Carolyn Craig 0\n",
      "saved Vernon Wells 0\n",
      "saved Emma Baron 0\n",
      "saved Carmencita Johnson 0\n",
      "saved Sergey Yakovlev 0\n",
      "saved May Wynn 0\n",
      "saved May Wynn 1\n",
      "saved May Wynn 2\n",
      "saved Oliver Clark 0\n",
      "saved Paul Hörbiger 0\n",
      "saved Naser Malek Motiee 0\n",
      "saved Naser Malek Motiee 1\n",
      "saved Lea Penman 0\n",
      "saved Saskia Vester 0\n",
      "saved Kay Kendall 0\n",
      "saved Kay Kendall 1\n",
      "saved Igor Kvasha 0\n",
      "saved Paul Bates 0\n",
      "saved Philippe Uchan 0\n",
      "saved Kelly Curtis 0\n",
      "saved Kelly Curtis 1\n",
      "saved Wayne Knight 0\n",
      "saved Wayne Knight 1\n",
      "saved Wayne Knight 2\n",
      "saved Adam Sandler 0\n",
      "saved Adam Sandler 1\n",
      "saved Adam Sandler 2\n",
      "saved Alex Kingston 0\n",
      "saved Alex Kingston 1\n",
      "saved Alex Kingston 2\n",
      "saved Channon Roe 0\n",
      "saved Frédéric Diefenthal 0\n",
      "saved Dean Cain 0\n",
      "saved Dean Cain 1\n",
      "saved Jimmy Tatro 0\n",
      "saved Raul de Molina 0\n",
      "saved Micaela Ramazzotti 0\n",
      "saved Micaela Ramazzotti 1\n",
      "saved Sonnalli Seygall 0\n",
      "failed for Sonnalli Seygall - 0\n",
      "failed for Sonnalli Seygall - 0\n",
      "saved Jani Volanen 0\n",
      "saved Stepin Fetchit 0\n",
      "saved Myrna Loy 0\n",
      "saved Myrna Loy 1\n",
      "saved Myrna Loy 2\n",
      "saved Ursula Howells 0\n",
      "saved Vito Scotti 0\n",
      "saved Vasilisa Perelygina 0\n",
      "saved Vasilisa Perelygina 1\n",
      "saved Oliver Johnston 0\n",
      "failed for Oliver Johnston - 0\n",
      "saved Patrick Wymark 0\n",
      "saved Dennis Price 0\n",
      "saved Helen Hayes 0\n",
      "saved Roy Billing 0\n",
      "saved Georgia Slowe 0\n",
      "saved Henry O'Neill 0\n",
      "saved Michael Pergolani 0\n",
      "saved Jean Becker 0\n",
      "saved Janice Karman 0\n",
      "saved Alberto Lupo 0\n",
      "saved Woody Strode 0\n",
      "saved Sandy Duncan 0\n",
      "saved Clarence Felder 0\n",
      "saved Matthew Glave 0\n",
      "saved Adam LeFevre 0\n",
      "saved Marshall Manesh 0\n",
      "saved Noah Emmerich 0\n",
      "saved Naveen Andrews 0\n",
      "saved David O'Hara 0\n",
      "saved David O'Hara 1\n",
      "saved Reeve Carney 0\n",
      "saved Saurabh Shukla 0\n",
      "saved Ana Gasteyer 0\n",
      "saved Ana Gasteyer 1\n",
      "saved Ana Gasteyer 2\n",
      "failed for Max Morris - 2\n",
      "saved Mitsuki Koga 0\n",
      "saved Ruba Blal 0\n",
      "saved Ruba Blal 1\n",
      "saved Omar Sy 0\n",
      "saved Omar Sy 1\n",
      "saved Omar Sy 2\n",
      "saved Pavel Derevyanko 0\n",
      "saved Pavel Derevyanko 1\n",
      "saved Pavel Derevyanko 2\n",
      "saved Warwick Young 0\n",
      "saved Roland Møller 0\n",
      "saved Gavin Newsom 0\n",
      "saved Althea Vega 0\n",
      "saved Ashley Dyke 0\n",
      "saved Ilinca Goia 0\n",
      "failed for Ilinca Goia - 0\n",
      "saved Iaia Forte 0\n",
      "saved Iaia Forte 1\n",
      "saved Nicky Butt 0\n",
      "saved Karel Heřmánek 0\n",
      "saved Karel Heřmánek 1\n",
      "saved Karel Heřmánek 2\n",
      "saved Vinodhini Vaidyanathan 0\n",
      "saved Vinodhini Vaidyanathan 1\n",
      "failed for Vinodhini Vaidyanathan - 1\n",
      "saved Nathan Clarkson 0\n",
      "saved Ryūnosuke Tsukigata 0\n",
      "saved Joseph Pilato 0\n",
      "saved Brett Davern 0\n",
      "saved Edgar Barrier 0\n",
      "saved Bo Derek 0\n",
      "saved Bo Derek 1\n",
      "saved Bo Derek 2\n",
      "saved Mabel King 0\n",
      "saved Tomas von Brömssen 0\n",
      "saved Marc McClure 0\n",
      "saved Paul Bernard 0\n",
      "saved Grace Kelly 0\n",
      "saved Grace Kelly 1\n",
      "saved Grace Kelly 2\n",
      "saved Olivia de Havilland 0\n",
      "saved Olivia de Havilland 1\n",
      "saved Ilona Grübel 0\n",
      "saved Pamela Hensley 0\n",
      "saved Laraine Day 0\n",
      "saved Oscar Beregi Jr. 0\n",
      "saved Nello Pazzafini 0\n",
      "saved Sudesh Berry 0\n",
      "failed for Sudesh Berry - 0\n",
      "saved Daniel Pollock 0\n",
      "saved Josh Hamilton 0\n",
      "saved Josh Hamilton 1\n",
      "saved Josh Hamilton 2\n",
      "saved Ján Sedal 0\n",
      "saved Olivier Martinez 0\n",
      "saved Caio Junqueira 0\n",
      "saved Johnny Hiram Jamison 0\n",
      "saved Kollam Thulasi 0\n",
      "saved Michael Bofshever 0\n",
      "saved Telmo Churro 0\n",
      "saved Lenny Venito 0\n",
      "failed for Lenny Venito - 0\n",
      "saved Benjamin Haigh 0\n",
      "failed for Sophia Hasmik - 0\n",
      "saved Alice Dixson 0\n",
      "failed for Alice Dixson - 0\n",
      "saved Frank Gatliff 0\n",
      "saved Leonid Bykov 0\n",
      "saved Bruce Cowling 0\n",
      "saved Leslie Bradley 0\n",
      "saved Floyd Simmons 0\n",
      "saved Paul Robeson 0\n",
      "saved Paul Robeson 1\n",
      "saved Paul Robeson 2\n",
      "saved George Lynn 0\n",
      "saved Gene Evans 0\n",
      "saved Jorge Moreno 0\n",
      "saved Jorge Moreno 1\n",
      "saved Jack Watling 0\n",
      "saved Vic Tayback 0\n",
      "failed for Vic Tayback - 0\n",
      "saved Wilfred Lucas 0\n",
      "saved Susan Blakely 0\n",
      "saved Cipe Lincovsky 0\n",
      "saved George McDaniel 0\n",
      "saved Danielle Harris 0\n",
      "saved Danielle Harris 1\n",
      "saved Danielle Harris 2\n",
      "saved Mariola Fuentes 0\n",
      "saved Mark Addy 0\n",
      "saved David Della Rocco 0\n",
      "saved Hugh Hefner 0\n",
      "saved Sushant Singh 0\n",
      "saved Bruce Alexander 0\n",
      "failed for Bruce Alexander - 0\n",
      "saved Fahadh Faasil 0\n",
      "saved Fahadh Faasil 1\n",
      "failed for Fahadh Faasil - 1\n",
      "saved Ger Duany 0\n",
      "saved Clinton Loomis 0\n",
      "saved Xavier Samuel 0\n",
      "saved Suraj Venjaramoodu 0\n",
      "failed for Suraj Venjaramoodu - 0\n",
      "saved Barbara Valmorin 0\n",
      "saved Fiona Lewis 0\n",
      "saved Fiona Lewis 1\n",
      "saved Fiona Lewis 2\n",
      "saved Rosemary Clooney 0\n",
      "saved Rosemary Clooney 1\n",
      "saved Rosemary Clooney 2\n",
      "saved Inga Gill 0\n",
      "saved Elizabeth Hartman 0\n",
      "saved Elizabeth Hartman 1\n",
      "saved Elizabeth Hartman 2\n",
      "saved Marsha Hunt 0\n",
      "saved Shima Iwashita 0\n",
      "saved Shima Iwashita 1\n",
      "saved Shima Iwashita 2\n",
      "saved Nita Talbot 0\n",
      "saved Al Bain 0\n",
      "failed for Earl Rhodes - 0\n",
      "saved Evgeniy Steblov 0\n",
      "saved Susan Roman 0\n",
      "saved Lorraine Gary 0\n",
      "saved Lorraine Gary 1\n",
      "saved David Horne 0\n",
      "saved William Haines 0\n",
      "saved William Haines 1\n",
      "saved Andrzej Kopiczyński 0\n",
      "saved Andrzej Kopiczyński 1\n",
      "saved Andrzej Kopiczyński 2\n",
      "saved Jonathan Ke Quan 0\n",
      "saved Gordon MacRae 0\n",
      "saved Gerardo Mejía 0\n",
      "failed for Gerardo Mejía - 0\n",
      "saved Neelam Kothari 0\n",
      "saved Neelam Kothari 1\n",
      "saved Neelam Kothari 2\n",
      "failed for Neelam Kothari - 2\n",
      "saved Gregory Sierra 0\n",
      "saved Maynard Eziashi 0\n",
      "saved Stephen Tompkinson 0\n",
      "saved Heike Makatsch 0\n",
      "saved Meret Becker 0\n",
      "saved Jacek Borcuch 0\n",
      "saved Jacek Borcuch 1\n",
      "saved Jeff Foxworthy 0\n",
      "saved Jeff Foxworthy 1\n",
      "saved Lucy Davenport 0\n",
      "saved Moon Bloodgood 0\n",
      "saved Ahmed Mekky 0\n",
      "saved Ahmed Mekky 1\n",
      "saved Hiroyuki Ikeuchi 0\n",
      "saved Rory Keenan 0\n",
      "saved Josh Segarra 0\n",
      "saved Natasha Mashkevich 0\n",
      "saved Natasha Mashkevich 1\n",
      "saved Masood Akhtar 0\n",
      "saved Neeru Bajwa 0\n",
      "saved Jimmy Kimmel 0\n",
      "saved Jon Briddell 0\n",
      "saved Jon Briddell 1\n",
      "saved Chris Pang 0\n",
      "saved Morris Ankrum 0\n",
      "saved Dolph Sweet 0\n",
      "saved Frankie Howerd 0\n",
      "saved Felix Silla 0\n",
      "failed for Erin O'Reilly - 0\n",
      "saved Shannon Bolin 0\n",
      "saved Isao Natsuyagi 0\n",
      "saved Dom DeLuise 0\n",
      "saved Igor Savochkin 0\n",
      "saved Joe Roberts 0\n",
      "saved Eva Dahlbeck 0\n",
      "saved Paul Stewart 0\n",
      "failed for Paul Stewart - 0\n",
      "saved Sebastian Shaw 0\n",
      "saved Ron Moody 0\n",
      "saved Ron Moody 1\n",
      "saved Ron Moody 2\n",
      "saved Françoise Berd 0\n",
      "saved Laurene Landon 0\n",
      "saved Chris Conrad 0\n",
      "saved Kellie Martin 0\n",
      "saved Naveen Chandra 0\n",
      "saved Kenya Sawada 0\n",
      "failed for Kenya Sawada - 0\n",
      "saved Jared Leto 0\n",
      "saved Jared Leto 1\n",
      "saved Jared Leto 2\n",
      "saved Erykah Badu 0\n",
      "saved Herb Lovelle 0\n",
      "saved Riki Takeuchi 0\n",
      "saved Riki Takeuchi 1\n",
      "saved Timothy Webber 0\n",
      "saved Bob Babbitt 0\n",
      "saved Daniel Gillies 0\n",
      "saved Diane Kruger 0\n",
      "saved Diane Kruger 1\n",
      "saved Diane Kruger 2\n",
      "saved Ken Chang 0\n",
      "failed for Ken Chang - 0\n",
      "saved Jon Kortajarena 0\n",
      "saved Hailee Steinfeld 0\n",
      "saved Hailee Steinfeld 1\n",
      "saved Hailee Steinfeld 2\n",
      "saved Sergey Puskepalis 0\n",
      "failed for Sergey Puskepalis - 0\n",
      "saved Sandhya 0\n",
      "saved Pacharo Mzembe 0\n",
      "saved Abigail Pniowsky 0\n",
      "saved Vanessa Morgan 0\n",
      "saved Vanessa Morgan 1\n",
      "failed for Vanessa Morgan - 1\n",
      "saved Bianca Leigh 0\n",
      "saved Harold J. Stone 0\n",
      "saved Cécile Vassort 0\n",
      "saved Eszter Balint 0\n",
      "saved Eddie Constantine 0\n",
      "failed for Eddie Constantine - 0\n",
      "saved Rosetta LeNoire 0\n",
      "saved John Fraser 0\n",
      "saved John Kapelos 0\n",
      "failed for John Kapelos - 0\n",
      "saved Michael Hordern 0\n",
      "saved Michael Hordern 1\n",
      "saved Tuulikki Paananen 0\n",
      "saved Geneviève Grad 0\n",
      "saved Glória Menezes 0\n",
      "saved Joan Rivers 0\n",
      "saved Nicholas Vince 0\n",
      "saved Ben Stiller 0\n",
      "saved Ben Stiller 1\n",
      "saved Ben Stiller 2\n",
      "saved Stephanie Venditto 0\n",
      "saved Molly Parker 0\n",
      "saved Molly Parker 1\n",
      "saved Molly Parker 2\n",
      "saved Andreas Filippides 0\n",
      "saved Ray Allen 0\n",
      "failed for Ray Allen - 0\n",
      "saved Silvia Kutika 0\n",
      "saved Omid Djalili 0\n",
      "saved Julian Bond 0\n",
      "saved Paul Anderson 0\n",
      "failed for Singh Hartihan Bitto - 0\n",
      "saved Victor Ortiz 0\n",
      "saved Mathieu Demy 0\n",
      "saved Mathieu Demy 1\n",
      "saved Taylor John Smith 0\n",
      "failed for Taylor John Smith - 0\n",
      "failed for Taylor John Smith - 0\n",
      "saved Licinia Lentini 0\n",
      "saved Hikari Mitsushima 0\n",
      "saved Ali MacGraw 0\n",
      "saved Ali MacGraw 1\n",
      "saved Ali MacGraw 2\n",
      "saved Caitlin Clarke 0\n",
      "saved Bill Macy 0\n",
      "saved Tommy Cook 0\n",
      "saved Viva 0\n",
      "saved John Woo 0\n",
      "saved John Woo 1\n",
      "saved Nicholas Campbell 0\n",
      "saved Jean Rogers 0\n",
      "failed for Jean Rogers - 0\n",
      "saved Jules Munshin 0\n",
      "saved Paul Eddington 0\n",
      "saved Archana Puran Singh 0\n",
      "failed for Archana Puran Singh - 0\n",
      "saved Arvind Swamy 0\n",
      "saved Arvind Swamy 1\n",
      "saved Arvind Swamy 2\n",
      "failed for Arvind Swamy - 2\n",
      "failed for Arvind Swamy - 2\n",
      "failed for Sabeeha - 2\n",
      "saved Jimmy Yuill 0\n",
      "saved Alan Cumming 0\n",
      "saved John Enos III 0\n",
      "saved John Enos III 1\n",
      "saved Scott Thompson 0\n",
      "saved Rajat Bedi 0\n",
      "saved Michael Vartan 0\n",
      "saved Rosario Flores 0\n",
      "saved Daphné Baiwir 0\n",
      "saved Gal Gadot 0\n",
      "saved Gal Gadot 1\n",
      "saved Gal Gadot 2\n",
      "failed for Michael Berresse - 2\n",
      "saved Avinash Tiwary 0\n",
      "saved Anna Kalaitzidou 0\n",
      "failed for Anna Kalaitzidou - 0\n",
      "saved Vicki Pepperdine 0\n",
      "saved Gulshan Devaiah 0\n",
      "failed for Gulshan Devaiah - 0\n",
      "saved Noah Centineo 0\n",
      "saved Vishnu Vishal 0\n",
      "saved Vishnu Vishal 1\n",
      "saved Vishnu Vishal 2\n",
      "saved Benny Safdie 0\n",
      "saved Benny Safdie 1\n",
      "saved Benny Safdie 2\n",
      "saved Sidharth Malhotra 0\n",
      "saved Sidharth Malhotra 1\n",
      "saved Sidharth Malhotra 2\n",
      "failed for Sidharth Malhotra - 2\n",
      "failed for Sidharth Malhotra - 2\n",
      "failed for Sidharth Malhotra - 2\n",
      "saved Kamini Kaushal 0\n",
      "saved Kamini Kaushal 1\n",
      "saved Pierre Arditi 0\n",
      "saved Pat Corley 0\n",
      "saved Toni Berger 0\n",
      "saved Manuel Dondé 0\n",
      "saved Claudia Cardinale 0\n",
      "saved Claudia Cardinale 1\n",
      "saved Claudia Cardinale 2\n",
      "saved Virginia Capers 0\n",
      "saved Virginia Capers 1\n",
      "saved Jacques Legras 0\n",
      "saved Laurent Terzieff 0\n",
      "saved Elizabeth Young 0\n",
      "saved Lea Massari 0\n",
      "saved Lea Massari 1\n",
      "saved Nurgül Yeşilçay 0\n",
      "saved Paul Hébert 0\n",
      "saved Paul Hébert 1\n",
      "saved Neil Innes 0\n",
      "saved Geoffrey Horne 0\n",
      "saved May Heatherly 0\n",
      "saved Adolphe Menjou 0\n",
      "saved Frances Conroy 0\n",
      "saved Gia Carides 0\n",
      "saved Gia Carides 1\n",
      "saved Gia Carides 2\n",
      "saved Jeremy London 0\n",
      "saved Kim Rossi Stuart 0\n",
      "saved Ünal Gürel 0\n",
      "saved Brian Geraghty 0\n",
      "failed for Brian Geraghty - 0\n",
      "saved Riki Lindhome 0\n",
      "saved Riki Lindhome 1\n",
      "saved Riki Lindhome 2\n",
      "saved Samuthirakani 0\n",
      "saved Samuthirakani 1\n",
      "failed for Samuthirakani - 1\n",
      "failed for Samuthirakani - 1\n",
      "failed for Samuthirakani - 1\n",
      "failed for Larry Holmes - 1\n",
      "saved Hernán Mendoza 0\n",
      "saved Hernán Mendoza 1\n",
      "failed for Rick Garcia - 1\n",
      "saved Michael Wittenborn 0\n",
      "failed for Michael Wittenborn - 0\n",
      "saved Folco Lulli 0\n",
      "saved Folco Lulli 1\n",
      "saved John Holland 0\n",
      "saved Lara Parker 0\n",
      "saved Jonathan Walker 0\n",
      "failed for Jonathan Walker - 0\n",
      "saved Cristina Raines 0\n",
      "saved Robbie Kay 0\n",
      "saved Derrick De Marney 0\n",
      "saved Nati Ravitz 0\n",
      "saved Jimmy Hawkins 0\n",
      "saved Susanne Zenor 0\n",
      "saved Philippe Forquet 0\n",
      "saved Simon Williams 0\n",
      "saved Simon Williams 1\n",
      "saved Stefano Mingardo 0\n",
      "saved Dorottya Udvaros 0\n",
      "failed for Dorottya Udvaros - 0\n",
      "saved William Tepper 0\n",
      "saved Ida Galli 0\n",
      "saved Elisabeth Trissenaar 0\n",
      "saved Dimple Kapadia 0\n",
      "saved Dimple Kapadia 1\n",
      "saved Toshie Negishi 0\n",
      "saved Manuela Arcuri 0\n",
      "saved Manuela Arcuri 1\n",
      "saved John Carroll Lynch 0\n",
      "saved John Carroll Lynch 1\n",
      "saved Millaray Lobos 0\n",
      "saved Ferit Kaya 0\n",
      "failed for Ferit Kaya - 0\n",
      "saved Satyadeep Misra 0\n",
      "saved Satyadeep Misra 1\n",
      "failed for Satyadeep Misra - 1\n",
      "saved Aparna Nair 0\n",
      "saved Ashley Blankenship 0\n",
      "saved Tammi Øst 0\n",
      "saved Tammi Øst 1\n",
      "failed for Tammi Øst - 1\n",
      "saved Alexxis Lemire 0\n",
      "saved Alexxis Lemire 1\n",
      "saved Alexxis Lemire 2\n",
      "saved David Niven 0\n",
      "saved David Niven 1\n",
      "saved David Niven 2\n",
      "saved Bertil Norström 0\n",
      "saved Eddie Collins 0\n",
      "saved Sergei Ivanov 0\n",
      "saved Byron Barr 0\n",
      "saved Jack Nance 0\n",
      "saved David Gale 0\n",
      "saved Lidia Alfonsi 0\n",
      "saved Dorothy Fielding 0\n",
      "saved Ines Pellegrini 0\n",
      "saved Paul Stanton 0\n",
      "saved Mark Patton 0\n",
      "saved Noël Roquevert 0\n",
      "saved Noël Roquevert 1\n",
      "saved Tim Curry 0\n",
      "saved Tim Curry 1\n",
      "saved Tim Curry 2\n",
      "saved Billy Drago 0\n",
      "saved Billy Drago 1\n",
      "saved Nina Grebeshkova 0\n",
      "saved Nina Grebeshkova 1\n",
      "saved Nina Grebeshkova 2\n",
      "saved June Preisser 0\n",
      "saved Fred Koehler 0\n",
      "saved Nils Hallberg 0\n",
      "saved Gabriel Damon 0\n",
      "saved Jason Bateman 0\n",
      "saved Jason Bateman 1\n",
      "saved Jason Bateman 2\n",
      "saved Irma P. Hall 0\n",
      "saved Sergej Trifunović 0\n",
      "failed for Sergej Trifunović - 0\n",
      "saved Julianne White 0\n",
      "saved Piper Perabo 0\n",
      "saved Piper Perabo 1\n",
      "saved Piper Perabo 2\n",
      "saved Viktor Pavlov 0\n",
      "saved Gao Yuanyuan 0\n",
      "saved Keri Russell 0\n",
      "saved Keri Russell 1\n",
      "saved Keri Russell 2\n",
      "saved Laurent Gamelon 0\n",
      "saved Laurent Gamelon 1\n",
      "saved Abhirami Gopikumar 0\n",
      "saved Jonathan Brewer 0\n",
      "saved Pierce Gagnon 0\n",
      "saved Trent Reznor 0\n",
      "failed for Trent Reznor - 0\n",
      "saved Sofía Vergara 0\n",
      "saved Sofía Vergara 1\n",
      "saved Sofía Vergara 2\n",
      "saved Travis Quentin 0\n",
      "saved Travis Quentin 1\n",
      "failed for Travis Quentin - 1\n",
      "saved Gülse Birsel 0\n",
      "saved Gülse Birsel 1\n",
      "saved Gülse Birsel 2\n",
      "failed for Gülse Birsel - 2\n",
      "failed for Gülse Birsel - 2\n",
      "saved Johny Antony 0\n",
      "saved Harlan Briggs 0\n",
      "saved Jack Blum 0\n",
      "saved Murat Cemcir 0\n",
      "saved Murat Cemcir 1\n",
      "saved Warren Stevens 0\n",
      "saved Jerry Lester 0\n",
      "saved Hisashi Igawa 0\n",
      "saved Hisashi Igawa 1\n",
      "saved Edgar Buchanan 0\n",
      "saved John Heard 0\n",
      "saved John Heard 1\n",
      "saved John Heard 2\n",
      "saved Nicole Garcia 0\n",
      "saved Art Baker 0\n",
      "saved Garrett Morris 0\n",
      "saved Nina van Pallandt 0\n",
      "saved Nina van Pallandt 1\n",
      "saved Janine Reynaud 0\n",
      "saved Lon McCallister 0\n",
      "saved Guy Tréjan 0\n",
      "saved Charlene Holt 0\n",
      "saved Persis Khambatta 0\n",
      "saved Josef Altin 0\n",
      "saved Masao Imafuku 0\n",
      "failed for Masao Imafuku - 0\n",
      "saved Faviola Elenka Tapia 0\n",
      "saved David Paymer 0\n",
      "saved David Paymer 1\n",
      "saved David Paymer 2\n",
      "saved Julia Campbell 0\n",
      "saved Michael Mantell 0\n",
      "saved Bill Sage 0\n",
      "saved Sean Maguire 0\n",
      "saved Sean Maguire 1\n",
      "saved Hugh O'Conor 0\n",
      "saved Ken Leung 0\n",
      "saved Ken Leung 1\n",
      "saved Sada Thompson 0\n",
      "saved Marsha Thomason 0\n",
      "saved Jonathan Sadowski 0\n",
      "saved Narendra Prasad 0\n",
      "saved Karoline Herfurth 0\n",
      "saved Karoline Herfurth 1\n",
      "saved Karoline Herfurth 2\n",
      "saved Josh Gad 0\n",
      "saved Josh Gad 1\n",
      "saved Josh Gad 2\n",
      "saved Nikki Galrani 0\n",
      "saved Nikki Galrani 1\n",
      "saved Nikki Galrani 2\n",
      "saved Silvia Navarro 0\n",
      "saved Eileen Moore 0\n",
      "saved Kamala Lopez 0\n",
      "saved Robert Preston 0\n",
      "saved Robert Preston 1\n",
      "saved Robert Preston 2\n",
      "saved Colin Jeavons 0\n",
      "saved Treat Williams 0\n",
      "saved Pedro Gonzalez Gonzalez 0\n",
      "saved Scoot McNairy 0\n",
      "saved Ralph Forbes 0\n",
      "saved James Finlayson 0\n",
      "saved Carol Speed 0\n",
      "saved Carol Speed 1\n",
      "saved Geraldine Page 0\n",
      "saved Geraldine Page 1\n",
      "saved Geraldine Page 2\n",
      "saved Mary McCarty 0\n",
      "saved Carleton Carpenter 0\n",
      "saved Marek Kondrat 0\n",
      "saved Marek Kondrat 1\n",
      "saved Gaby Morlay 0\n",
      "saved Viktor Stanitsyn 0\n",
      "saved Yvette Mimieux 0\n",
      "saved Yvette Mimieux 1\n",
      "saved Yvette Mimieux 2\n",
      "saved Frank Cady 0\n",
      "saved Robert Stanton 0\n",
      "saved Peter Andersson 0\n",
      "saved Georgina Cates 0\n",
      "saved Mohanlal 0\n",
      "saved Mohanlal 1\n",
      "saved Mohanlal 2\n",
      "saved Ron Perkins 0\n",
      "saved Sally Hawkins 0\n",
      "saved Sally Hawkins 1\n",
      "saved Sally Hawkins 2\n",
      "saved Anant Nag 0\n",
      "saved Alex Lifeson 0\n",
      "saved Ivan Massagué 0\n",
      "saved Ivan Massagué 1\n",
      "saved Har Mar Superstar 0\n",
      "saved Stephanie Szostak 0\n",
      "saved Atom Egoyan 0\n",
      "saved Antje Traue 0\n",
      "saved Varun Dhawan 0\n",
      "saved Varun Dhawan 1\n",
      "saved Varun Dhawan 2\n",
      "saved Andrea Osvárt 0\n",
      "failed for Andrea Osvárt - 0\n",
      "failed for Andrea Osvárt - 0\n",
      "failed for Andrea Osvárt - 0\n",
      "saved Chin Ka-Lok 0\n",
      "saved Agnès Soral 0\n",
      "saved Raphaël Personnaz 0\n",
      "saved Raphaël Personnaz 1\n",
      "saved Ugo Bologna 0\n",
      "saved Richard Vernon 0\n",
      "failed for Richard Vernon - 0\n",
      "saved Darby Jones 0\n",
      "saved Barbara Parkins 0\n",
      "saved Minka Kelly 0\n",
      "saved Minka Kelly 1\n",
      "saved Minka Kelly 2\n",
      "saved James Woods 0\n",
      "saved James Woods 1\n",
      "saved James Woods 2\n",
      "failed for James Woods - 2\n",
      "saved Charlotte Stewart 0\n",
      "saved Margo Woode 0\n",
      "saved Charles Grodin 0\n",
      "saved Charles Grodin 1\n",
      "saved W.C. Fields 0\n",
      "saved John Kassir 0\n",
      "saved Mary Healey 0\n",
      "saved William Hill 0\n",
      "saved August Diehl 0\n",
      "saved Harold Pinter 0\n",
      "saved John Thomson 0\n",
      "saved Danny Huston 0\n",
      "saved Danny Huston 1\n",
      "saved Michael Bublé 0\n",
      "saved DJ Qualls 0\n",
      "saved Johannes Suhm 0\n",
      "saved Johannes Suhm 1\n",
      "saved Suraj Sharma 0\n",
      "saved Dax Shepard 0\n",
      "saved Chris Botti 0\n",
      "saved Chris Botti 1\n",
      "saved Lauren Maher 0\n",
      "saved Greta Scarano 0\n",
      "saved Greta Scarano 1\n",
      "saved Wang Yanhui 0\n",
      "saved Wang Yanhui 1\n",
      "saved Valeriia Karaman 0\n",
      "saved Valeriia Karaman 1\n",
      "saved Christine Woods 0\n",
      "saved Bulle Ogier 0\n",
      "saved Lou Frizzell 0\n",
      "saved Joe Regalbuto 0\n",
      "failed for Joe Regalbuto - 0\n",
      "saved Naďa Urbánková 0\n",
      "saved Brian Avery 0\n",
      "saved Brian Avery 1\n",
      "saved Brian Avery 2\n",
      "saved Nicola Morelli 0\n",
      "saved Robert Anderson 0\n",
      "saved William Gargan 0\n",
      "saved Freddie Jones 0\n",
      "saved Riccardo Fellini 0\n",
      "saved Dorsey Wright 0\n",
      "saved Massimo Serato 0\n",
      "saved Cristina Hoyos 0\n",
      "saved Carmen Salinas 0\n",
      "saved Dick Elliott 0\n",
      "saved Dylan Kussman 0\n",
      "failed for Dylan Kussman - 0\n",
      "saved John Savident 0\n",
      "failed for John Savident - 0\n",
      "saved Christian Bujeau 0\n",
      "saved Adrian Lester 0\n",
      "saved Yutaka Nakamura 0\n",
      "saved Jay Adams 0\n",
      "saved Swaroop Sampat 0\n",
      "saved Francesc Garrido 0\n",
      "saved Erol Günaydın 0\n",
      "saved Barbora Bobuľová 0\n",
      "saved Robert Pattinson 0\n",
      "saved Robert Pattinson 1\n",
      "saved Robert Pattinson 2\n",
      "saved Richard Dixon 0\n",
      "saved Kunaal Roy Kapur 0\n",
      "failed for Kunaal Roy Kapur - 0\n",
      "saved Jörn Donner 0\n",
      "saved Prince William 0\n",
      "saved Turgut Tunçalp 0\n",
      "saved Hugh Williams 0\n",
      "saved Sid James 0\n",
      "saved Tzahi Grad 0\n",
      "saved Candice Azzara 0\n",
      "saved Tom Bosley 0\n",
      "saved Sigourney Weaver 0\n",
      "saved Sigourney Weaver 1\n",
      "saved Sigourney Weaver 2\n",
      "saved Benicio del Toro 0\n",
      "saved Benicio del Toro 1\n",
      "saved Benicio del Toro 2\n",
      "saved Jacqueline deWit 0\n",
      "saved Jacqueline deWit 1\n",
      "saved Mo'Nique 0\n",
      "saved Shirley Anne Field 0\n",
      "saved Shirley Anne Field 1\n",
      "saved Shirley Anne Field 2\n",
      "saved Heikki Savolainen 0\n",
      "saved Heikki Savolainen 1\n",
      "saved Erna Sellmer 0\n",
      "saved Rosanna Arquette 0\n",
      "saved Rosanna Arquette 1\n",
      "saved Rosanna Arquette 2\n",
      "saved Mike Kellin 0\n",
      "saved Ray Cooke 0\n",
      "saved Honor Blackman 0\n",
      "saved Honor Blackman 1\n",
      "saved Honor Blackman 2\n",
      "saved Emerson Treacy 0\n",
      "failed for Emerson Treacy - 0\n",
      "saved Renato Carpentieri 0\n",
      "saved Renato Carpentieri 1\n",
      "saved Peggy Miley 0\n",
      "saved Kevin Bishop 0\n",
      "saved Frankie Muniz 0\n",
      "saved Leonard Earl Howze 0\n",
      "saved Sandra Borgmann 0\n"
     ]
    }
   ],
   "source": [
    "limit = 3\n",
    "actors_dir = data_path / 'actors'\n",
    "last_success = 6700\n",
    "\n",
    "for idx, row in actors_df.iterrows():\n",
    "    if idx < last_success:\n",
    "        continue\n",
    "        \n",
    "    try:\n",
    "        tmdb_id = tmdb.Find(f'nm{row[\"imdb_id\"]}').info(external_source='imdb_id')[\"person_results\"][0][\"id\"]\n",
    "        people = tmdb.People(tmdb_id)\n",
    "        urls = list(map(lambda x: x['file_path'], people.images()['profiles']))\n",
    "        for i, url in enumerate(urls[:3]):\n",
    "#             if i==limit:\n",
    "#               break\n",
    "\n",
    "    #         Path(f'{actors_dir}/{people.info()[\"name\"]}').mkdir(exist_ok=True)\n",
    "\n",
    "            response = requests.get(f'{base_url}{url}')\n",
    "            img = Image.open(BytesIO(response.content))\n",
    "    #         print(f'{actors_dir}/{row[\"actor_dir\"]}/{i}.jpg')\n",
    "            img.save(f'{actors_dir}/{row[\"actor_dir\"]}/{i}.jpg')\n",
    "            print('saved', people.info()[\"name\"], i)\n",
    "    except IndexError:\n",
    "        print(f'failed for {people.info()[\"name\"]} - {i}')\n",
    "        continue\n",
    "#     break"
   ]
  },
  {
   "cell_type": "code",
   "execution_count": null,
   "metadata": {},
   "outputs": [],
   "source": [
    "# tmdb_id = search.person(query=\"Robert Redford\")[\"results\"][0][\"id\"]\n",
    "\n",
    "idx\n",
    "# people.images()\n",
    "# urls = list(map(lambda x: x['file_path'], people.images()['profiles']))\n",
    "# response = requests.get(f\"{base_url}{urls[1]}\")\n",
    "# img = Image.open(BytesIO(response.content))\n",
    "# img\n",
    "# actors_df.iloc[idx]"
   ]
  },
  {
   "cell_type": "code",
   "execution_count": 122,
   "metadata": {},
   "outputs": [
    {
     "data": {
      "text/plain": [
       "[1, 2, 3]"
      ]
     },
     "execution_count": 122,
     "metadata": {},
     "output_type": "execute_result"
    }
   ],
   "source": [
    "Image.open(f'{actors_dir}/{row[\"actor_dir\"]}/{i}.jpg')\n",
    "[1,2,3][:5]"
   ]
  },
  {
   "cell_type": "code",
   "execution_count": null,
   "metadata": {},
   "outputs": [],
   "source": [
    "people = tmdb.People(actor_id)\n",
    "urls = list(map(lambda x: x['file_path'], people.images()['profiles']))\n",
    "\n",
    "for i, url in enumerate(urls):\n",
    "if i==limit:\n",
    "  break\n",
    "\n",
    "Path(f'{actors_dir}/{people.info()[\"name\"]}').mkdir(exist_ok=True)\n",
    "\n",
    "response = requests.get(f'{base_url}{url}')\n",
    "img = Image.open(BytesIO(response.content))\n",
    "img.save(f'{actors_dir}/{people.info()[\"name\"]}/{people.info()[\"name\"]}-{i}.jpg')"
   ]
  },
  {
   "cell_type": "markdown",
   "metadata": {
    "id": "d8tmQgvGCsse"
   },
   "source": [
    "# By Races"
   ]
  },
  {
   "cell_type": "markdown",
   "metadata": {
    "id": "aTP8gIXwCFSN"
   },
   "source": [
    "## Building The Directories"
   ]
  },
  {
   "cell_type": "code",
   "execution_count": null,
   "metadata": {
    "id": "nR4w_53EgKua"
   },
   "outputs": [],
   "source": [
    "races = {\n",
    "'black':['Chadwick Boseman','Will Smith','Morgan Freeman','Donald Glover','Forest Whitaker','Michael Ealy','Halle Berry','Angela Bassett','Viola Davis','Cicely Tyson'],\n",
    "'asian':['Awkwafina','Lana Condor','Aubrey Anderson-Emmons','Lyrica Okano','Claudia Kim','Ki Hong Lee','Manny Jacinto','Arden Cho','Ian Chen','Henry Golding'],\n",
    "'indian':['Amitabh Bachchan','Priyanka Chopra','Irrfan Khan','Akshay Kumar','Deepika Padukone','Anil Kapoor','Kamal Haasan','Vidya Balan','Kareena Kapoor','Katrina Kaif'],\n",
    "'hispanic':['Jennifer Lopez','John Leguizamo','Cheech Marin','Danny Trejo','Sofía Vergara','Penélope Cruz','George Lopez','Benjamin Bratt','Guillermo Navarro','Aubrey Plaza'],\n",
    "'white':['James Mcavoy','Chris Pratt','Chris Hemsworth','Chris Evans','Sebastian Stan','Angelina Jolie','Scarlett Johansson','Christina Hendricks','Amanda Seyfried','Natalie Portman']\n",
    "}\n",
    "\n",
    "actors = ['Chadwick Boseman','Will Smith','Morgan Freeman','Donald Glover','Forest Whitaker','Michael Ealy','Halle Berry','Angela Bassett','Viola Davis','Cicely Tyson','Awkwafina','Lana Condor','Aubrey Anderson-Emmons','Lyrica Okano','Claudia Kim','Ki Hong Lee','Manny Jacinto','Arden Cho','Ian Chen','Henry Golding','Amitabh Bachchan','Priyanka Chopra','Irrfan Khan','Akshay Kumar','Deepika Padukone','Anil Kapoor','Kamal Haasan','Vidya Balan','Kareena Kapoor','Katrina Kaif','Jennifer Lopez','John Leguizamo','Cheech Marin','Danny Trejo','Sofía Vergara','Penélope Cruz','George Lopez','Benjamin Bratt','Guillermo Navarro','Aubrey Plaza','James Mcavoy','Chris Pratt','Chris Hemsworth','Chris Evans','Sebastian Stan','Angelina Jolie','Scarlett Johansson','Christina Hendricks','Amanda Seyfried','Natalie Portman']\n",
    "actors_ids = [172069,2888,192,119589,2178,8177,4587,9780,19492,18249,1625558,1452046,1224228,1684139,1401531,1310760,1368795,144279,1397359,1807132,35780,77234,76793,35070,53975,72118,93193,35068,37233,81869,16866,5723,11159,11160,63522,955,41798,4589,3113,119592,5530,73457,74568,16828,60898,11701,1245,110014,71070,524]"
   ]
  },
  {
   "cell_type": "code",
   "execution_count": 8,
   "metadata": {
    "id": "RTsnjsAPcqsR"
   },
   "outputs": [],
   "source": [
    "import requests\n",
    "from PIL import Image\n",
    "from io import BytesIO\n",
    "import tmdbsimple as tmdb\n",
    "from pathlib import Path\n",
    "import pandas as pd\n",
    "\n",
    "Path(\"validation\").mkdir(exist_ok=True)\n",
    "Path(\"validation/actors\").mkdir(exist_ok=True)\n",
    "Path(\"validation/races\").mkdir(exist_ok=True)\n",
    "\n",
    "data_path = Path('/data/Posters/data')\n",
    "base_dir = Path('validation')\n",
    "actors_dir = base_dir / 'actors'\n",
    "races_dir = base_dir / 'races'\n",
    "\n",
    "tmdb.API_KEY = ''\n",
    "base_url = 'https://image.tmdb.org/t/p/w780'\n",
    "search = tmdb.Search()\n",
    "\n",
    "def get_ids(actors_names):\n",
    "  actors_ids = []\n",
    "\n",
    "  for actor_name in actors_names:\n",
    "    search.person(query=actor_name)\n",
    "    id = search.results[0]['id']\n",
    "    actors_ids.append(id)\n",
    "\n",
    "  return actors_ids\n",
    "\n",
    "def save_actor_images(actor_id, limit):\n",
    "  people = tmdb.People(actor_id)\n",
    "  urls = list(map(lambda x: x['file_path'], people.images()['profiles']))\n",
    "\n",
    "  for i, url in enumerate(urls):\n",
    "    if i==limit:\n",
    "      break\n",
    "\n",
    "    Path(f'{actors_dir}/{people.info()[\"name\"]}').mkdir(exist_ok=True)\n",
    "\n",
    "    response = requests.get(f'{base_url}{url}')\n",
    "    img = Image.open(BytesIO(response.content))\n",
    "    img.save(f'{actors_dir}/{people.info()[\"name\"]}/{people.info()[\"name\"]}-{i}.jpg')\n",
    "\n",
    "def save_actors_by_race(actors_names, race):\n",
    "  actors_ids = get_ids(actors_names)\n",
    "  for actor_id in actors_ids:\n",
    "    people = tmdb.People(actor_id)\n",
    "    url = people.images()['profiles'][0]['file_path']\n",
    "\n",
    "    Path(f'{races_dir}/{race}').mkdir(exist_ok=True)\n",
    "\n",
    "    response = requests.get(f'{base_url}{url}')\n",
    "    img = Image.open(BytesIO(response.content))\n",
    "    img.save(f'{races_dir}/{race}/{people.info()[\"name\"]}.jpg')\n",
    "\n",
    "# for id in actors_ids:\n",
    "#   save_actor_images(id, 3)\n",
    "\n",
    "# for race, names in races.items():\n",
    "#   save_actors_by_race(names, race)"
   ]
  },
  {
   "cell_type": "markdown",
   "metadata": {
    "id": "WGqkP6vYCVEo"
   },
   "source": [
    "## Cropping"
   ]
  },
  {
   "cell_type": "code",
   "execution_count": null,
   "metadata": {
    "id": "0WsAtQkvbEKf"
   },
   "outputs": [],
   "source": [
    "Path('cropped').mkdir(exist_ok=True)\n",
    "!cp -r validation/* cropped/"
   ]
  },
  {
   "cell_type": "code",
   "execution_count": null,
   "metadata": {
    "colab": {
     "base_uri": "https://localhost:8080/",
     "height": 117,
     "referenced_widgets": [
      "ca734496d7444857b6cc3d32e09df387",
      "6b4660b0d95c400eba2d35ff5badf4a5",
      "bc618126ce264f0ea0d5db8b5e1309a5",
      "94918a7109c0410b8c8dcfb2019d6e49",
      "aa633fca61834088b1e1a9a4bb1e888e",
      "8e8a9bc054b843f4ae1cb6a2695f26e2",
      "d6f95864d605443f845cdcdee0b8eeef",
      "04ed79101c5a4c6cbd3d9af1d8e324ce"
     ]
    },
    "id": "J42Dwov8YvbP",
    "outputId": "e578e306-5766-450d-c39d-cc48c499ec7e"
   },
   "outputs": [
    {
     "name": "stderr",
     "output_type": "stream",
     "text": [
      "/usr/local/lib/python3.6/dist-packages/ipykernel_launcher.py:10: TqdmDeprecationWarning: This function will be removed in tqdm==5.0.0\n",
      "Please use `tqdm.notebook.tqdm` instead of `tqdm.tqdm_notebook`\n",
      "  # Remove the CWD from sys.path while we load stuff.\n"
     ]
    },
    {
     "data": {
      "application/vnd.jupyter.widget-view+json": {
       "model_id": "ca734496d7444857b6cc3d32e09df387",
       "version_major": 2,
       "version_minor": 0
      },
      "text/plain": [
       "HBox(children=(FloatProgress(value=0.0, description='Images', max=173.0, style=ProgressStyle(description_width…"
      ]
     },
     "metadata": {
      "tags": []
     },
     "output_type": "display_data"
    },
    {
     "name": "stdout",
     "output_type": "stream",
     "text": [
      "\n"
     ]
    }
   ],
   "source": [
    "from mtcnn import MTCNN\n",
    "import cv2\n",
    "\n",
    "\n",
    "detector = MTCNN()\n",
    "\n",
    "from tqdm import tqdm_notebook as tqdm\n",
    "cropped_path= Path('cropped')\n",
    "\n",
    "for img in tqdm(cropped_path.rglob(\"*.jpg\"), desc=\"Images\", total=len(list(cropped_path.rglob(\"*.jpg\")))):\n",
    "  try: \n",
    "    im = Image.open(img).convert(\"RGB\") \n",
    "    for face in detector.detect_faces(np.asarray(im)):\n",
    "      box = face[\"box\"]\n",
    "      im1 = im.crop(box=(box[0], box[1], box[0]+box[2],box[1]+box[3] )) \n",
    "      im1.save(img)\n",
    "      break\n",
    "  except IsADirectoryError:\n",
    "    pass"
   ]
  },
  {
   "cell_type": "code",
   "execution_count": null,
   "metadata": {
    "id": "2chhWvlIh106"
   },
   "outputs": [],
   "source": [
    "cropped_dir = Path(f'cropped')\n",
    "cropped_actors_dir = cropped_dir / 'actors'\n",
    "cropped_races_dir = cropped_dir / 'races'\n",
    "\n",
    "df_val = pd.DataFrame({\"img\": list(cropped_races_dir.rglob(\"*.jpg\")), \"img_raw\": list(races_dir.rglob(\"*.jpg\"))})\n",
    "df_val[\"label\"] = df_val[\"img\"].apply(lambda x: x.parents[0].name)\n",
    "df_val[\"name\"] = df_val[\"img\"].apply(lambda x: x.stem)"
   ]
  },
  {
   "cell_type": "markdown",
   "metadata": {
    "id": "3t37RNUvCanb"
   },
   "source": [
    "## Our Models"
   ]
  },
  {
   "cell_type": "code",
   "execution_count": null,
   "metadata": {
    "id": "LA3W97o51JNj"
   },
   "outputs": [],
   "source": [
    "model_acc = {}"
   ]
  },
  {
   "cell_type": "code",
   "execution_count": null,
   "metadata": {
    "colab": {
     "base_uri": "https://localhost:8080/",
     "height": 183,
     "referenced_widgets": [
      "729928f966074f7b83bc9ef10fd3c99a",
      "d2ca1ff79e17476a8d919231bdbe7ed1",
      "821a557bb55d4e359813efe2558e2753",
      "ca40439db4684bd4bf053590cc8e316e",
      "e4b58d32f2de48f590340ebc7d3aab75",
      "4fe5e22c7e8a47e3a1562efdca619d06",
      "e34b5c5abcdd44e289bba468ca6095bf",
      "d0839b7858b74b9fbc3d348267551c5a"
     ]
    },
    "id": "qeAjE79fRLmp",
    "outputId": "670782d9-8e61-49d4-9228-6c82001911b3"
   },
   "outputs": [
    {
     "name": "stderr",
     "output_type": "stream",
     "text": [
      "/usr/local/lib/python3.6/dist-packages/ipykernel_launcher.py:14: TqdmDeprecationWarning: This function will be removed in tqdm==5.0.0\n",
      "Please use `tqdm.notebook.tqdm` instead of `tqdm.tqdm_notebook`\n",
      "  \n"
     ]
    },
    {
     "data": {
      "application/vnd.jupyter.widget-view+json": {
       "model_id": "729928f966074f7b83bc9ef10fd3c99a",
       "version_major": 2,
       "version_minor": 0
      },
      "text/plain": [
       "HBox(children=(FloatProgress(value=1.0, bar_style='info', max=1.0), HTML(value='')))"
      ]
     },
     "metadata": {
      "tags": []
     },
     "output_type": "display_data"
    },
    {
     "name": "stdout",
     "output_type": "stream",
     "text": [
      "\n"
     ]
    },
    {
     "data": {
      "text/plain": [
       "{'ethni_0825f1_v6': 0.52,\n",
       " 'ethni_085b_96unfrezee_V6': 0.58,\n",
       " 'ethni_085b_unfrezee_V6': 0.58,\n",
       " 'ethni_086f1': 0.54}"
      ]
     },
     "execution_count": 81,
     "metadata": {
      "tags": []
     },
     "output_type": "execute_result"
    }
   ],
   "source": [
    "models_dir = Path(root_dir)/\"models\"\n",
    "models_paths = list(models_dir.glob(\"*.pkl\"))\n",
    "\n",
    "for m_path in tqdm(models_paths[6:7]):\n",
    "  print(m_path)\n",
    "  learner = load_learner(m_path)\n",
    "  res = [learner.predict(line)[0] for line in df_val[\"img\"]]\n",
    "\n",
    "  df_val[\"Ours\"] = res\n",
    "  df_val[\"Ours\"] = df_val[\"Ours\"].replace(\"latino\",\"hispanic\")\n",
    "  df_val[\"Ours\"] = df_val[\"Ours\"].replace(\"african\",\"black\")\n",
    "  acc = sum(df_val[\"Ours\"] == df_val[\"label\"]) / len(df_val)\n",
    "  model_acc[m_path.stem] = acc\n",
    "\n",
    "model_acc"
   ]
  },
  {
   "cell_type": "code",
   "execution_count": null,
   "metadata": {
    "colab": {
     "base_uri": "https://localhost:8080/",
     "height": 320
    },
    "id": "HedbE9E-zjiP",
    "outputId": "b5f803c6-f9d1-458f-851e-f24d1247db25"
   },
   "outputs": [
    {
     "ename": "AttributeError",
     "evalue": "ignored",
     "output_type": "error",
     "traceback": [
      "\u001b[0;31m---------------------------------------------------------------------------\u001b[0m",
      "\u001b[0;31mAttributeError\u001b[0m                            Traceback (most recent call last)",
      "\u001b[0;32m<ipython-input-73-7de02a58ddf6>\u001b[0m in \u001b[0;36m<module>\u001b[0;34m()\u001b[0m\n\u001b[1;32m      1\u001b[0m \u001b[0mmodels_paths\u001b[0m\u001b[0;34m[\u001b[0m\u001b[0;36m1\u001b[0m\u001b[0;34m:\u001b[0m\u001b[0;36m2\u001b[0m\u001b[0;34m]\u001b[0m\u001b[0;34m\u001b[0m\u001b[0;34m\u001b[0m\u001b[0m\n\u001b[0;32m----> 2\u001b[0;31m \u001b[0mlearner\u001b[0m \u001b[0;34m=\u001b[0m \u001b[0mload_learner\u001b[0m\u001b[0;34m(\u001b[0m\u001b[0;34m'/content/gdrive/My Drive/models/ethni_083f_unfrezee_V9.pkl'\u001b[0m\u001b[0;34m)\u001b[0m\u001b[0;34m\u001b[0m\u001b[0;34m\u001b[0m\u001b[0m\n\u001b[0m",
      "\u001b[0;32m/usr/local/lib/python3.6/dist-packages/fastai/learner.py\u001b[0m in \u001b[0;36mload_learner\u001b[0;34m(fname, cpu, pickle_module)\u001b[0m\n\u001b[1;32m    552\u001b[0m     \u001b[0;34m\"Load a `Learner` object in `fname`, optionally putting it on the `cpu`\"\u001b[0m\u001b[0;34m\u001b[0m\u001b[0;34m\u001b[0m\u001b[0m\n\u001b[1;32m    553\u001b[0m     \u001b[0mdistrib_barrier\u001b[0m\u001b[0;34m(\u001b[0m\u001b[0;34m)\u001b[0m\u001b[0;34m\u001b[0m\u001b[0;34m\u001b[0m\u001b[0m\n\u001b[0;32m--> 554\u001b[0;31m     \u001b[0mres\u001b[0m \u001b[0;34m=\u001b[0m \u001b[0mtorch\u001b[0m\u001b[0;34m.\u001b[0m\u001b[0mload\u001b[0m\u001b[0;34m(\u001b[0m\u001b[0mfname\u001b[0m\u001b[0;34m,\u001b[0m \u001b[0mmap_location\u001b[0m\u001b[0;34m=\u001b[0m\u001b[0;34m'cpu'\u001b[0m \u001b[0;32mif\u001b[0m \u001b[0mcpu\u001b[0m \u001b[0;32melse\u001b[0m \u001b[0;32mNone\u001b[0m\u001b[0;34m,\u001b[0m \u001b[0mpickle_module\u001b[0m\u001b[0;34m=\u001b[0m\u001b[0mpickle_module\u001b[0m\u001b[0;34m)\u001b[0m\u001b[0;34m\u001b[0m\u001b[0;34m\u001b[0m\u001b[0m\n\u001b[0m\u001b[1;32m    555\u001b[0m     \u001b[0;32mif\u001b[0m \u001b[0mhasattr\u001b[0m\u001b[0;34m(\u001b[0m\u001b[0mres\u001b[0m\u001b[0;34m,\u001b[0m \u001b[0;34m'to_fp32'\u001b[0m\u001b[0;34m)\u001b[0m\u001b[0;34m:\u001b[0m \u001b[0mres\u001b[0m \u001b[0;34m=\u001b[0m \u001b[0mres\u001b[0m\u001b[0;34m.\u001b[0m\u001b[0mto_fp32\u001b[0m\u001b[0;34m(\u001b[0m\u001b[0;34m)\u001b[0m\u001b[0;34m\u001b[0m\u001b[0;34m\u001b[0m\u001b[0m\n\u001b[1;32m    556\u001b[0m     \u001b[0;32mif\u001b[0m \u001b[0mcpu\u001b[0m\u001b[0;34m:\u001b[0m \u001b[0mres\u001b[0m\u001b[0;34m.\u001b[0m\u001b[0mdls\u001b[0m\u001b[0;34m.\u001b[0m\u001b[0mcpu\u001b[0m\u001b[0;34m(\u001b[0m\u001b[0;34m)\u001b[0m\u001b[0;34m\u001b[0m\u001b[0;34m\u001b[0m\u001b[0m\n",
      "\u001b[0;32m/usr/local/lib/python3.6/dist-packages/torch/serialization.py\u001b[0m in \u001b[0;36mload\u001b[0;34m(f, map_location, pickle_module, **pickle_load_args)\u001b[0m\n\u001b[1;32m    592\u001b[0m                     \u001b[0mopened_file\u001b[0m\u001b[0;34m.\u001b[0m\u001b[0mseek\u001b[0m\u001b[0;34m(\u001b[0m\u001b[0morig_position\u001b[0m\u001b[0;34m)\u001b[0m\u001b[0;34m\u001b[0m\u001b[0;34m\u001b[0m\u001b[0m\n\u001b[1;32m    593\u001b[0m                     \u001b[0;32mreturn\u001b[0m \u001b[0mtorch\u001b[0m\u001b[0;34m.\u001b[0m\u001b[0mjit\u001b[0m\u001b[0;34m.\u001b[0m\u001b[0mload\u001b[0m\u001b[0;34m(\u001b[0m\u001b[0mopened_file\u001b[0m\u001b[0;34m)\u001b[0m\u001b[0;34m\u001b[0m\u001b[0;34m\u001b[0m\u001b[0m\n\u001b[0;32m--> 594\u001b[0;31m                 \u001b[0;32mreturn\u001b[0m \u001b[0m_load\u001b[0m\u001b[0;34m(\u001b[0m\u001b[0mopened_zipfile\u001b[0m\u001b[0;34m,\u001b[0m \u001b[0mmap_location\u001b[0m\u001b[0;34m,\u001b[0m \u001b[0mpickle_module\u001b[0m\u001b[0;34m,\u001b[0m \u001b[0;34m**\u001b[0m\u001b[0mpickle_load_args\u001b[0m\u001b[0;34m)\u001b[0m\u001b[0;34m\u001b[0m\u001b[0;34m\u001b[0m\u001b[0m\n\u001b[0m\u001b[1;32m    595\u001b[0m         \u001b[0;32mreturn\u001b[0m \u001b[0m_legacy_load\u001b[0m\u001b[0;34m(\u001b[0m\u001b[0mopened_file\u001b[0m\u001b[0;34m,\u001b[0m \u001b[0mmap_location\u001b[0m\u001b[0;34m,\u001b[0m \u001b[0mpickle_module\u001b[0m\u001b[0;34m,\u001b[0m \u001b[0;34m**\u001b[0m\u001b[0mpickle_load_args\u001b[0m\u001b[0;34m)\u001b[0m\u001b[0;34m\u001b[0m\u001b[0;34m\u001b[0m\u001b[0m\n\u001b[1;32m    596\u001b[0m \u001b[0;34m\u001b[0m\u001b[0m\n",
      "\u001b[0;32m/usr/local/lib/python3.6/dist-packages/torch/serialization.py\u001b[0m in \u001b[0;36m_load\u001b[0;34m(zip_file, map_location, pickle_module, pickle_file, **pickle_load_args)\u001b[0m\n\u001b[1;32m    851\u001b[0m     \u001b[0munpickler\u001b[0m \u001b[0;34m=\u001b[0m \u001b[0mpickle_module\u001b[0m\u001b[0;34m.\u001b[0m\u001b[0mUnpickler\u001b[0m\u001b[0;34m(\u001b[0m\u001b[0mdata_file\u001b[0m\u001b[0;34m,\u001b[0m \u001b[0;34m**\u001b[0m\u001b[0mpickle_load_args\u001b[0m\u001b[0;34m)\u001b[0m\u001b[0;34m\u001b[0m\u001b[0;34m\u001b[0m\u001b[0m\n\u001b[1;32m    852\u001b[0m     \u001b[0munpickler\u001b[0m\u001b[0;34m.\u001b[0m\u001b[0mpersistent_load\u001b[0m \u001b[0;34m=\u001b[0m \u001b[0mpersistent_load\u001b[0m\u001b[0;34m\u001b[0m\u001b[0;34m\u001b[0m\u001b[0m\n\u001b[0;32m--> 853\u001b[0;31m     \u001b[0mresult\u001b[0m \u001b[0;34m=\u001b[0m \u001b[0munpickler\u001b[0m\u001b[0;34m.\u001b[0m\u001b[0mload\u001b[0m\u001b[0;34m(\u001b[0m\u001b[0;34m)\u001b[0m\u001b[0;34m\u001b[0m\u001b[0;34m\u001b[0m\u001b[0m\n\u001b[0m\u001b[1;32m    854\u001b[0m \u001b[0;34m\u001b[0m\u001b[0m\n\u001b[1;32m    855\u001b[0m     \u001b[0mtorch\u001b[0m\u001b[0;34m.\u001b[0m\u001b[0m_utils\u001b[0m\u001b[0;34m.\u001b[0m\u001b[0m_validate_loaded_sparse_tensors\u001b[0m\u001b[0;34m(\u001b[0m\u001b[0;34m)\u001b[0m\u001b[0;34m\u001b[0m\u001b[0;34m\u001b[0m\u001b[0m\n",
      "\u001b[0;31mAttributeError\u001b[0m: Can't get attribute 'AlbumentationsTransform' on <module '__main__'>"
     ]
    }
   ],
   "source": [
    "models_paths[1:2]\n",
    "models_paths[2:3]\n",
    "learner = load_learner()"
   ]
  },
  {
   "cell_type": "markdown",
   "metadata": {
    "id": "Gwr2rnBJ2xo-"
   },
   "source": [
    "## Fair Face Model"
   ]
  },
  {
   "cell_type": "code",
   "execution_count": null,
   "metadata": {
    "colab": {
     "base_uri": "https://localhost:8080/"
    },
    "id": "o5_pXk0j6Qp9",
    "outputId": "a6c9402b-492f-4ec6-a6a2-656386dfade0"
   },
   "outputs": [
    {
     "name": "stdout",
     "output_type": "stream",
     "text": [
      "Mounted at /content/gdrive\n"
     ]
    }
   ],
   "source": [
    "from google.colab import drive\n",
    "drive.mount('/content/gdrive', force_remount=True)\n",
    "root_dir = \"/content/gdrive/My Drive/\"\n",
    "base_dir = Path('dataset/')"
   ]
  },
  {
   "cell_type": "code",
   "execution_count": null,
   "metadata": {
    "colab": {
     "base_uri": "https://localhost:8080/"
    },
    "id": "YRhw4xTo2yOx",
    "outputId": "42b6b859-c25b-43a2-a78e-53f8b3c2f9f6"
   },
   "outputs": [
    {
     "name": "stdout",
     "output_type": "stream",
     "text": [
      "Cloning into 'FairFace'...\n",
      "remote: Enumerating objects: 202, done.\u001b[K\n",
      "remote: Total 202 (delta 0), reused 0 (delta 0), pack-reused 202\u001b[K\n",
      "Receiving objects: 100% (202/202), 14.23 MiB | 38.84 MiB/s, done.\n",
      "Resolving deltas: 100% (102/102), done.\n"
     ]
    }
   ],
   "source": [
    "!git clone https://github.com/dchen236/FairFace.git"
   ]
  },
  {
   "cell_type": "code",
   "execution_count": null,
   "metadata": {
    "id": "IiAWRGzELLMy"
   },
   "outputs": [],
   "source": [
    "!cp /content/gdrive/My\\ Drive/Ethnicity/Fair/fair_face_models.zip FairFace/fair_face_models.zip"
   ]
  },
  {
   "cell_type": "code",
   "execution_count": null,
   "metadata": {
    "id": "PfpN3MC06lNf"
   },
   "outputs": [],
   "source": []
  },
  {
   "cell_type": "code",
   "execution_count": null,
   "metadata": {
    "colab": {
     "base_uri": "https://localhost:8080/"
    },
    "id": "sP3sELzFFysb",
    "outputId": "5d5bf476-fcf2-4fe2-8323-335a91c0cb9b"
   },
   "outputs": [
    {
     "name": "stdout",
     "output_type": "stream",
     "text": [
      "Archive:  FairFace/fair_face_models.zip\n",
      "   creating: FairFace/fair_face_models/\n",
      "  inflating: FairFace/fair_face_models/fairface_alldata_4race_20191111.pt  \n",
      "  inflating: FairFace/fair_face_models/res34_fair_align_multi_7_20190809.pt  \n"
     ]
    }
   ],
   "source": [
    "!unzip FairFace/fair_face_models.zip -d FairFace"
   ]
  },
  {
   "cell_type": "code",
   "execution_count": null,
   "metadata": {
    "id": "K0zbyAXHGNT8"
   },
   "outputs": [],
   "source": [
    "!mv FairFace/fair_face_models/res34_fair_align_multi_7_20190809.pt FairFace/fair_face_models/fairface_alldata_20191111.pt"
   ]
  },
  {
   "cell_type": "code",
   "execution_count": null,
   "metadata": {
    "id": "s2RZTQuwPynj"
   },
   "outputs": [],
   "source": [
    "df_val[\"img_path\"] = df_val[\"img_raw\"].apply(lambda x: str(x.absolute()))\n",
    "df_val[[\"img_path\"]].to_csv(\"FairFace/val.csv\",index=False)\n",
    "# df_val[\"img_face_path\"] = df_val[\"img\"].apply(lambda x: str(x.absolute()))"
   ]
  },
  {
   "cell_type": "code",
   "execution_count": null,
   "metadata": {
    "colab": {
     "base_uri": "https://localhost:8080/"
    },
    "id": "e6x72P9a8OTP",
    "outputId": "a07a7502-ec32-4106-886b-da934f86864d"
   },
   "outputs": [
    {
     "name": "stdout",
     "output_type": "stream",
     "text": [
      "/content/FairFace\n"
     ]
    }
   ],
   "source": [
    "%cd FairFace"
   ]
  },
  {
   "cell_type": "code",
   "execution_count": null,
   "metadata": {
    "colab": {
     "base_uri": "https://localhost:8080/"
    },
    "id": "WTkIoXOf3TuM",
    "outputId": "a394c098-f9bc-41c6-d9cf-b9e58df8ac35"
   },
   "outputs": [
    {
     "name": "stdout",
     "output_type": "stream",
     "text": [
      "using CUDA?: True\n",
      "---0/50---\n",
      "detected faces are saved at  detected_faces\n",
      "Predicting... 0/55\n",
      "saved results at  test_outputs.csv\n"
     ]
    }
   ],
   "source": [
    "!python predict.py --csv \"val.csv\""
   ]
  },
  {
   "cell_type": "code",
   "execution_count": null,
   "metadata": {
    "colab": {
     "base_uri": "https://localhost:8080/"
    },
    "id": "6_cxkLMz8nJt",
    "outputId": "242f07bd-894f-4e17-f573-1cdbc98fe7b0"
   },
   "outputs": [
    {
     "name": "stdout",
     "output_type": "stream",
     "text": [
      "/content\n"
     ]
    }
   ],
   "source": [
    "%cd .."
   ]
  },
  {
   "cell_type": "code",
   "execution_count": null,
   "metadata": {
    "id": "BZwodropcZEM"
   },
   "outputs": [],
   "source": [
    "df_fair = pd.read_csv(\"FairFace/test_outputs.csv\")\n",
    "df_fair[\"name\"] =  df_fair[\"face_name_align\"].apply(lambda x: x.split(\"/\")[-1].split(\"_face\")[0]) "
   ]
  },
  {
   "cell_type": "code",
   "execution_count": null,
   "metadata": {
    "colab": {
     "base_uri": "https://localhost:8080/"
    },
    "id": "hSOH1rOwdmco",
    "outputId": "c2705448-a7c2-4079-b401-3cb65b0630da"
   },
   "outputs": [
    {
     "data": {
      "text/plain": [
       "0.9"
      ]
     },
     "execution_count": 47,
     "metadata": {
      "tags": []
     },
     "output_type": "execute_result"
    }
   ],
   "source": [
    "df_val[\"label\"] = df_val[\"label\"].replace(\"asian\",\"Asian\")\n",
    "df_val[\"label\"] = df_val[\"label\"].replace(\"black\",\"Black\")\n",
    "df_val[\"label\"] = df_val[\"label\"].replace(\"white\",\"White\")\n",
    "df_val[\"label\"] = df_val[\"label\"].replace(\"hispanic\",\"White\")\n",
    "df_val[\"label\"] = df_val[\"label\"].replace(\"indian\",\"Indian\")\n",
    "\n",
    "df_merged = df_fair.merge(df_val)[[\"race\",\"race4\",\"label\"]]\n",
    "\n",
    "sum(df_merged[\"race4\"] == df_merged[\"label\"]) / len(df_val)"
   ]
  },
  {
   "cell_type": "markdown",
   "metadata": {
    "id": "b-XrZ9g-DBpl"
   },
   "source": [
    "# By Actors"
   ]
  },
  {
   "cell_type": "markdown",
   "metadata": {
    "id": "El9jNTsODJir"
   },
   "source": [
    "## Fair Face Model"
   ]
  },
  {
   "cell_type": "code",
   "execution_count": null,
   "metadata": {
    "colab": {
     "base_uri": "https://localhost:8080/"
    },
    "id": "-mTyhrskJQ6U",
    "outputId": "ef799cdd-430c-4de1-eeac-d36cd5ee6b5d"
   },
   "outputs": [
    {
     "data": {
      "text/plain": [
       "[Path('validation/actors/Chadwick Boseman'),\n",
       " Path('validation/actors/Will Smith'),\n",
       " Path('validation/actors/Morgan Freeman'),\n",
       " Path('validation/actors/Donald Glover'),\n",
       " Path('validation/actors/Forest Whitaker'),\n",
       " Path('validation/actors/Michael Ealy'),\n",
       " Path('validation/actors/Halle Berry'),\n",
       " Path('validation/actors/Angela Bassett'),\n",
       " Path('validation/actors/Viola Davis'),\n",
       " Path('validation/actors/Cicely Tyson'),\n",
       " Path('validation/actors/Awkwafina'),\n",
       " Path('validation/actors/Lana Condor'),\n",
       " Path('validation/actors/Aubrey Anderson-Emmons'),\n",
       " Path('validation/actors/Lyrica Okano'),\n",
       " Path('validation/actors/Claudia Kim'),\n",
       " Path('validation/actors/Ki Hong Lee'),\n",
       " Path('validation/actors/Manny Jacinto'),\n",
       " Path('validation/actors/Arden Cho'),\n",
       " Path('validation/actors/Ian Chen'),\n",
       " Path('validation/actors/Henry Golding'),\n",
       " Path('validation/actors/Amitabh Bachchan'),\n",
       " Path('validation/actors/Priyanka Chopra'),\n",
       " Path('validation/actors/Irrfan Khan'),\n",
       " Path('validation/actors/Akshay Kumar'),\n",
       " Path('validation/actors/Deepika Padukone'),\n",
       " Path('validation/actors/Anil Kapoor'),\n",
       " Path('validation/actors/Kamal Haasan'),\n",
       " Path('validation/actors/Vidya Balan'),\n",
       " Path('validation/actors/Kareena Kapoor'),\n",
       " Path('validation/actors/Katrina Kaif'),\n",
       " Path('validation/actors/Jennifer Lopez'),\n",
       " Path('validation/actors/John Leguizamo'),\n",
       " Path('validation/actors/Cheech Marin'),\n",
       " Path('validation/actors/Danny Trejo'),\n",
       " Path('validation/actors/Sofía Vergara'),\n",
       " Path('validation/actors/Penélope Cruz'),\n",
       " Path('validation/actors/George Lopez'),\n",
       " Path('validation/actors/Benjamin Bratt'),\n",
       " Path('validation/actors/Guillermo Navarro'),\n",
       " Path('validation/actors/Aubrey Plaza'),\n",
       " Path('validation/actors/James Mcavoy'),\n",
       " Path('validation/actors/Chris Pratt'),\n",
       " Path('validation/actors/Chris Hemsworth'),\n",
       " Path('validation/actors/Chris Evans'),\n",
       " Path('validation/actors/Sebastian Stan'),\n",
       " Path('validation/actors/Angelina Jolie'),\n",
       " Path('validation/actors/Scarlett Johansson'),\n",
       " Path('validation/actors/Christina Hendricks'),\n",
       " Path('validation/actors/Amanda Seyfried'),\n",
       " Path('validation/actors/Natalie Portman')]"
      ]
     },
     "execution_count": 48,
     "metadata": {
      "tags": []
     },
     "output_type": "execute_result"
    }
   ],
   "source": [
    "actors_dir\n",
    "[actors_dir / a for a in actors]"
   ]
  },
  {
   "cell_type": "code",
   "execution_count": null,
   "metadata": {
    "colab": {
     "base_uri": "https://localhost:8080/",
     "height": 419
    },
    "id": "M9gS3ExoDH7-",
    "outputId": "b9571785-8f0a-42c2-81d6-73e70e81ad6d"
   },
   "outputs": [
    {
     "data": {
      "text/html": [
       "<div>\n",
       "<style scoped>\n",
       "    .dataframe tbody tr th:only-of-type {\n",
       "        vertical-align: middle;\n",
       "    }\n",
       "\n",
       "    .dataframe tbody tr th {\n",
       "        vertical-align: top;\n",
       "    }\n",
       "\n",
       "    .dataframe thead th {\n",
       "        text-align: right;\n",
       "    }\n",
       "</style>\n",
       "<table border=\"1\" class=\"dataframe\">\n",
       "  <thead>\n",
       "    <tr style=\"text-align: right;\">\n",
       "      <th></th>\n",
       "      <th>img_path</th>\n",
       "      <th>name</th>\n",
       "      <th>label</th>\n",
       "    </tr>\n",
       "  </thead>\n",
       "  <tbody>\n",
       "    <tr>\n",
       "      <th>0</th>\n",
       "      <td>/content/validation/actors/Katrina Kaif/Katrina Kaif-1.jpg</td>\n",
       "      <td>Katrina Kaif</td>\n",
       "      <td>Indian</td>\n",
       "    </tr>\n",
       "    <tr>\n",
       "      <th>1</th>\n",
       "      <td>/content/validation/actors/Katrina Kaif/Katrina Kaif-0.jpg</td>\n",
       "      <td>Katrina Kaif</td>\n",
       "      <td>Indian</td>\n",
       "    </tr>\n",
       "    <tr>\n",
       "      <th>2</th>\n",
       "      <td>/content/validation/actors/Katrina Kaif/Katrina Kaif-2.jpg</td>\n",
       "      <td>Katrina Kaif</td>\n",
       "      <td>Indian</td>\n",
       "    </tr>\n",
       "    <tr>\n",
       "      <th>3</th>\n",
       "      <td>/content/validation/actors/Chris Hemsworth/Chris Hemsworth-1.jpg</td>\n",
       "      <td>Chris Hemsworth</td>\n",
       "      <td>White</td>\n",
       "    </tr>\n",
       "    <tr>\n",
       "      <th>4</th>\n",
       "      <td>/content/validation/actors/Chris Hemsworth/Chris Hemsworth-2.jpg</td>\n",
       "      <td>Chris Hemsworth</td>\n",
       "      <td>White</td>\n",
       "    </tr>\n",
       "    <tr>\n",
       "      <th>...</th>\n",
       "      <td>...</td>\n",
       "      <td>...</td>\n",
       "      <td>...</td>\n",
       "    </tr>\n",
       "    <tr>\n",
       "      <th>118</th>\n",
       "      <td>/content/validation/actors/Henry Golding/Henry Golding-0.jpg</td>\n",
       "      <td>Henry Golding</td>\n",
       "      <td>Asian</td>\n",
       "    </tr>\n",
       "    <tr>\n",
       "      <th>119</th>\n",
       "      <td>/content/validation/actors/Henry Golding/Henry Golding-2.jpg</td>\n",
       "      <td>Henry Golding</td>\n",
       "      <td>Asian</td>\n",
       "    </tr>\n",
       "    <tr>\n",
       "      <th>120</th>\n",
       "      <td>/content/validation/actors/Henry Golding/Henry Golding-1.jpg</td>\n",
       "      <td>Henry Golding</td>\n",
       "      <td>Asian</td>\n",
       "    </tr>\n",
       "    <tr>\n",
       "      <th>121</th>\n",
       "      <td>/content/validation/actors/George Lopez/George Lopez-0.jpg</td>\n",
       "      <td>George Lopez</td>\n",
       "      <td>White</td>\n",
       "    </tr>\n",
       "    <tr>\n",
       "      <th>122</th>\n",
       "      <td>/content/validation/actors/George Lopez/George Lopez-1.jpg</td>\n",
       "      <td>George Lopez</td>\n",
       "      <td>White</td>\n",
       "    </tr>\n",
       "  </tbody>\n",
       "</table>\n",
       "<p>123 rows × 3 columns</p>\n",
       "</div>"
      ],
      "text/plain": [
       "                                                             img_path  ...   label\n",
       "0          /content/validation/actors/Katrina Kaif/Katrina Kaif-1.jpg  ...  Indian\n",
       "1          /content/validation/actors/Katrina Kaif/Katrina Kaif-0.jpg  ...  Indian\n",
       "2          /content/validation/actors/Katrina Kaif/Katrina Kaif-2.jpg  ...  Indian\n",
       "3    /content/validation/actors/Chris Hemsworth/Chris Hemsworth-1.jpg  ...   White\n",
       "4    /content/validation/actors/Chris Hemsworth/Chris Hemsworth-2.jpg  ...   White\n",
       "..                                                                ...  ...     ...\n",
       "118      /content/validation/actors/Henry Golding/Henry Golding-0.jpg  ...   Asian\n",
       "119      /content/validation/actors/Henry Golding/Henry Golding-2.jpg  ...   Asian\n",
       "120      /content/validation/actors/Henry Golding/Henry Golding-1.jpg  ...   Asian\n",
       "121        /content/validation/actors/George Lopez/George Lopez-0.jpg  ...   White\n",
       "122        /content/validation/actors/George Lopez/George Lopez-1.jpg  ...   White\n",
       "\n",
       "[123 rows x 3 columns]"
      ]
     },
     "execution_count": 49,
     "metadata": {
      "tags": []
     },
     "output_type": "execute_result"
    }
   ],
   "source": [
    "df_actors = pd.DataFrame({\"img_path\": list(actors_dir.rglob(\"*.jpg\"))})\n",
    "df_actors[\"img_path\"] = df_actors[\"img_path\"].apply(lambda x: str(x.absolute()))\n",
    "df_actors[\"name\"] = df_actors[\"img_path\"].apply(lambda p: p.partition(\"actors/\")[2].partition(\"/\")[0])\n",
    "for i, row in df_val.iterrows():\n",
    "  df_actors.loc[df_actors[\"name\"] == row[\"name\"],\"label\"] = row[\"label\"]\n",
    "\n",
    "df_actors"
   ]
  },
  {
   "cell_type": "code",
   "execution_count": null,
   "metadata": {
    "id": "7fCGl5wEO2c9"
   },
   "outputs": [],
   "source": [
    "df_actors[[\"img_path\"]].to_csv(\"FairFace/actors_val.csv\",index=False)"
   ]
  },
  {
   "cell_type": "code",
   "execution_count": null,
   "metadata": {
    "colab": {
     "base_uri": "https://localhost:8080/"
    },
    "id": "_-szQbYeQow8",
    "outputId": "a2005d8e-aad4-454b-8e9e-f0f8239c94c3"
   },
   "outputs": [
    {
     "name": "stdout",
     "output_type": "stream",
     "text": [
      "/content/FairFace\n",
      "using CUDA?: True\n",
      "---0/123---\n",
      "detected faces are saved at  detected_faces\n",
      "Predicting... 0/124\n",
      "saved results at  test_outputs.csv\n",
      "/content\n"
     ]
    }
   ],
   "source": [
    "!rm -rf FairFace/detected_faces/\n",
    "%cd FairFace\n",
    "!python predict.py --csv \"actors_val.csv\"\n",
    "%cd .."
   ]
  },
  {
   "cell_type": "code",
   "execution_count": null,
   "metadata": {
    "id": "xJYDnrMLRG6p"
   },
   "outputs": [],
   "source": [
    "df_fair_actors = pd.read_csv(\"FairFace/test_outputs.csv\")\n",
    "df_fair_actors[\"name\"] =  df_fair_actors[\"face_name_align\"].apply(lambda x: x.split(\"/\")[-1].split(\"_face\")[0].split(\"-\")[0]) \n",
    "# df_fair_actors[df_fair_actors[\"name\"] == 'John Leguizamo']\n",
    "group= df_fair_actors[df_fair_actors[\"name\"] == 'John Leguizamo']\n",
    "# def grouping(g):\n",
    "  \n",
    "#   return g.value_counts(\"race4\")\n",
    "# # df_fair_actors.groupby(\"name\").apply(grouping)\n",
    "# grouping(group).argmax()"
   ]
  },
  {
   "cell_type": "code",
   "execution_count": null,
   "metadata": {
    "id": "MiT27VoX8K3l"
   },
   "outputs": [],
   "source": [
    "def make_array(text):\n",
    "    return np.fromstring(text,sep=' ')\n",
    "\n"
   ]
  },
  {
   "cell_type": "code",
   "execution_count": null,
   "metadata": {
    "colab": {
     "base_uri": "https://localhost:8080/"
    },
    "id": "GuPrrEPv8Z7N",
    "outputId": "62ffc1d8-e7df-4e1c-a343-37d509db0ae6"
   },
   "outputs": [
    {
     "name": "stderr",
     "output_type": "stream",
     "text": [
      "/usr/local/lib/python3.6/dist-packages/ipykernel_launcher.py:1: DeprecationWarning: string or file could not be read to its end due to unmatched data; this will raise a ValueError in the future.\n",
      "  \"\"\"Entry point for launching an IPython kernel.\n"
     ]
    },
    {
     "data": {
      "text/plain": [
       "array([], dtype=float64)"
      ]
     },
     "execution_count": 97,
     "metadata": {
      "tags": []
     },
     "output_type": "execute_result"
    }
   ],
   "source": [
    " np.fromstring(df_fair_actors[\"race_scores_fair\"][0], sep=\" \")"
   ]
  },
  {
   "cell_type": "code",
   "execution_count": null,
   "metadata": {
    "id": "R89g8Gsx7UnI"
   },
   "outputs": [],
   "source": [
    "df_fair_actors[\"race_scores_fair\"] = df_fair_actors[\"race_scores_fair\"].str.strip(\"[\")\n",
    "df_fair_actors[\"race_scores_fair\"] = df_fair_actors[\"race_scores_fair\"].str.strip(\"]\")\n",
    "df_fair_actors[\"race_scores_fair\"] = df_fair_actors[\"race_scores_fair\"].str.replace(\"\\n\", \"\")\n",
    "df_fair_actors[\"race_scores_fair\"] = df_fair_actors[\"race_scores_fair\"].apply(make_array)"
   ]
  },
  {
   "cell_type": "code",
   "execution_count": null,
   "metadata": {
    "colab": {
     "base_uri": "https://localhost:8080/",
     "height": 35
    },
    "id": "bV4pOAJ-_Ea2",
    "outputId": "73433f4a-7d90-48d3-aed8-06fb3e85b840"
   },
   "outputs": [
    {
     "data": {
      "application/vnd.google.colaboratory.intrinsic+json": {
       "type": "string"
      },
      "text/plain": [
       "'[1.2332422e-04 9.9935174e-01 5.5991706e-05 4.6895538e-04]'"
      ]
     },
     "execution_count": 100,
     "metadata": {
      "tags": []
     },
     "output_type": "execute_result"
    }
   ],
   "source": [
    "df_fair_actors[\"race_scores_fair_4\"][0]"
   ]
  },
  {
   "cell_type": "code",
   "execution_count": null,
   "metadata": {
    "colab": {
     "base_uri": "https://localhost:8080/"
    },
    "id": "Gsui6pJR_Kjz",
    "outputId": "a9387719-d906-4c2e-8614-1c0890f7e65b"
   },
   "outputs": [
    {
     "data": {
      "text/plain": [
       "0      [0.00012332422, 0.99935174, 5.5991706e-05, 0.00046895538]\n",
       "1         [0.99296612, 3.7447382e-05, 0.001092559, 0.0059038997]\n",
       "2        [0.0052239671, 5.8794071e-06, 0.99259251, 0.0021776273]\n",
       "3          [0.40811849, 0.00050312985, 0.0018550161, 0.58952332]\n",
       "4               [0.84233147, 0.08022348, 0.00153142, 0.07591364]\n",
       "                                 ...                            \n",
       "119     [0.99745798, 1.1741641e-05, 1.7528706e-05, 0.0025127043]\n",
       "120        [0.80446827, 0.0033674056, 0.00041935447, 0.19174498]\n",
       "121      [0.00028028144, 0.99258035, 0.0036407569, 0.0034986387]\n",
       "122             [0.98209435, 0.00121475, 0.01133319, 0.00535764]\n",
       "123    [0.99883103, 3.0531228e-05, 0.00025408514, 0.00088434666]\n",
       "Name: race_scores_fair_4, Length: 124, dtype: object"
      ]
     },
     "execution_count": 105,
     "metadata": {
      "tags": []
     },
     "output_type": "execute_result"
    }
   ],
   "source": [
    "df_fair_actors[\"race_scores_fair_4\"].apply(make_array)"
   ]
  },
  {
   "cell_type": "code",
   "execution_count": null,
   "metadata": {
    "id": "eyK2tb6w9b6h"
   },
   "outputs": [],
   "source": [
    "df_fair_actors[\"race_scores_fair_4\"] = df_fair_actors[\"race_scores_fair_4\"].str.strip(\"[\")\n",
    "df_fair_actors[\"race_scores_fair_4\"] = df_fair_actors[\"race_scores_fair_4\"].str.strip(\"]\")\n",
    "df_fair_actors[\"race_scores_fair_4\"] = df_fair_actors[\"race_scores_fair_4\"].str.replace(\"\\n\", \"\")\n",
    "df_fair_actors[\"race_scores_fair_4\"] = df_fair_actors[\"race_scores_fair_4\"].apply(make_array)"
   ]
  },
  {
   "cell_type": "code",
   "execution_count": null,
   "metadata": {
    "id": "HYKtwJfX7Ads"
   },
   "outputs": [],
   "source": [
    "res = []\n",
    "for n, line in df_fair_actors.groupby(\"name\"):\n",
    "  res.append((n, races[np.stack(line[\"race_scores_fair_4\"].values).mean(axis=0).argmax()]))\n",
    "  "
   ]
  },
  {
   "cell_type": "code",
   "execution_count": null,
   "metadata": {
    "colab": {
     "base_uri": "https://localhost:8080/",
     "height": 589
    },
    "id": "QnOjBAYYBZMt",
    "outputId": "a9b99b2b-aab9-4356-f121-37e2223f3229"
   },
   "outputs": [
    {
     "data": {
      "text/html": [
       "<div>\n",
       "<style scoped>\n",
       "    .dataframe tbody tr th:only-of-type {\n",
       "        vertical-align: middle;\n",
       "    }\n",
       "\n",
       "    .dataframe tbody tr th {\n",
       "        vertical-align: top;\n",
       "    }\n",
       "\n",
       "    .dataframe thead th {\n",
       "        text-align: right;\n",
       "    }\n",
       "</style>\n",
       "<table border=\"1\" class=\"dataframe\">\n",
       "  <thead>\n",
       "    <tr style=\"text-align: right;\">\n",
       "      <th></th>\n",
       "      <th>face_name_align</th>\n",
       "      <th>race</th>\n",
       "      <th>race4</th>\n",
       "      <th>gender</th>\n",
       "      <th>age</th>\n",
       "      <th>race_scores_fair</th>\n",
       "      <th>race_scores_fair_4</th>\n",
       "      <th>gender_scores_fair</th>\n",
       "      <th>age_scores_fair</th>\n",
       "      <th>name</th>\n",
       "    </tr>\n",
       "  </thead>\n",
       "  <tbody>\n",
       "    <tr>\n",
       "      <th>0</th>\n",
       "      <td>detected_faces/Viola Davis-1_face0.jpg</td>\n",
       "      <td>Black</td>\n",
       "      <td>Black</td>\n",
       "      <td>Female</td>\n",
       "      <td>30-39</td>\n",
       "      <td>[1.5005918e-05, 0.99840003, 0.0006869362, 2.85928e-05, 0.00035486693, 0.00051262492, 1.8353982e-06]</td>\n",
       "      <td>[0.00012332422, 0.99935174, 5.5991706e-05, 0.00046895538]</td>\n",
       "      <td>[3.9583317e-04 9.9960417e-01]</td>\n",
       "      <td>[1.1529766e-07 6.5544809e-06 3.2189407e-03 2.2442445e-01 6.2065440e-01\\n 1.4239049e-01 9.1252709e-03 1.7564757e-04 4.0849932e-06]</td>\n",
       "      <td>Viola Davis</td>\n",
       "    </tr>\n",
       "    <tr>\n",
       "      <th>1</th>\n",
       "      <td>detected_faces/Angelina Jolie-1_face0.jpg</td>\n",
       "      <td>White</td>\n",
       "      <td>White</td>\n",
       "      <td>Female</td>\n",
       "      <td>30-39</td>\n",
       "      <td>[0.94232213, 3.5342923e-06, 0.0067687379, 4.2068594e-05, 3.1999098e-05, 0.00022261257, 0.050608966]</td>\n",
       "      <td>[0.99296612, 3.7447382e-05, 0.001092559, 0.0059038997]</td>\n",
       "      <td>[8.1347770e-07 9.9999917e-01]</td>\n",
       "      <td>[9.5151993e-09 1.5337221e-06 1.2331266e-03 2.3999824e-01 6.1994410e-01\\n 1.3492398e-01 3.8483606e-03 5.0011033e-05 6.2733187e-07]</td>\n",
       "      <td>Angelina Jolie</td>\n",
       "    </tr>\n",
       "    <tr>\n",
       "      <th>2</th>\n",
       "      <td>detected_faces/Claudia Kim-0_face0.jpg</td>\n",
       "      <td>East Asian</td>\n",
       "      <td>Asian</td>\n",
       "      <td>Female</td>\n",
       "      <td>20-29</td>\n",
       "      <td>[0.0041960389, 3.305265e-06, 0.0056678024, 0.76874357, 0.22050139, 0.00075009512, 0.00013788353]</td>\n",
       "      <td>[0.0052239671, 5.8794071e-06, 0.99259251, 0.0021776273]</td>\n",
       "      <td>[1.5864788e-06 9.9999845e-01]</td>\n",
       "      <td>[2.6334037e-09 1.8922587e-05 6.6879764e-02 8.7879109e-01 5.4132152e-02\\n 1.7775259e-04 3.0603212e-07 6.2321988e-09 4.6670379e-11]</td>\n",
       "      <td>Claudia Kim</td>\n",
       "    </tr>\n",
       "    <tr>\n",
       "      <th>3</th>\n",
       "      <td>detected_faces/Katrina Kaif-2_face0.jpg</td>\n",
       "      <td>Middle Eastern</td>\n",
       "      <td>Indian</td>\n",
       "      <td>Female</td>\n",
       "      <td>20-29</td>\n",
       "      <td>[0.013114717, 1.994434e-05, 0.024308346, 0.00012815814, 6.078044e-05, 0.13689351, 0.82547456]</td>\n",
       "      <td>[0.40811849, 0.00050312985, 0.0018550161, 0.58952332]</td>\n",
       "      <td>[1.946678e-05 9.999805e-01]</td>\n",
       "      <td>[4.9788702e-09 4.4012482e-05 5.2275483e-02 9.0891123e-01 3.8470667e-02\\n 2.9762252e-04 1.0330988e-06 1.3739409e-08 2.1042143e-10]</td>\n",
       "      <td>Katrina Kaif</td>\n",
       "    </tr>\n",
       "    <tr>\n",
       "      <th>4</th>\n",
       "      <td>detected_faces/Jennifer Lopez-1_face0.jpg</td>\n",
       "      <td>Latino_Hispanic</td>\n",
       "      <td>White</td>\n",
       "      <td>Female</td>\n",
       "      <td>20-29</td>\n",
       "      <td>[0.3261635, 0.0080899969, 0.48276311, 0.00047674504, 0.00067009189, 0.017187383, 0.16464913]</td>\n",
       "      <td>[0.84233147, 0.08022348, 0.00153142, 0.07591364]</td>\n",
       "      <td>[9.2069672e-07 9.9999905e-01]</td>\n",
       "      <td>[2.9853867e-10 5.7983875e-06 4.4957239e-02 8.2373488e-01 1.3085344e-01\\n 4.4833828e-04 3.2250745e-07 1.9224908e-09 1.9832086e-11]</td>\n",
       "      <td>Jennifer Lopez</td>\n",
       "    </tr>\n",
       "    <tr>\n",
       "      <th>...</th>\n",
       "      <td>...</td>\n",
       "      <td>...</td>\n",
       "      <td>...</td>\n",
       "      <td>...</td>\n",
       "      <td>...</td>\n",
       "      <td>...</td>\n",
       "      <td>...</td>\n",
       "      <td>...</td>\n",
       "      <td>...</td>\n",
       "      <td>...</td>\n",
       "    </tr>\n",
       "    <tr>\n",
       "      <th>119</th>\n",
       "      <td>detected_faces/Natalie Portman-2_face0.jpg</td>\n",
       "      <td>White</td>\n",
       "      <td>White</td>\n",
       "      <td>Female</td>\n",
       "      <td>20-29</td>\n",
       "      <td>[0.99448234, 9.4419539e-07, 0.0028932542, 1.3004833e-06, 2.2752386e-06, 7.404849e-05, 0.0025458036]</td>\n",
       "      <td>[0.99745798, 1.1741641e-05, 1.7528706e-05, 0.0025127043]</td>\n",
       "      <td>[3.2716875e-06 9.9999666e-01]</td>\n",
       "      <td>[1.7046419e-09 1.0830123e-05 2.7543588e-02 7.9106748e-01 1.8010315e-01\\n 1.2731085e-03 1.7942209e-06 9.6572883e-09 1.9230553e-10]</td>\n",
       "      <td>Natalie Portman</td>\n",
       "    </tr>\n",
       "    <tr>\n",
       "      <th>120</th>\n",
       "      <td>detected_faces/Kamal Haasan-2_face0.jpg</td>\n",
       "      <td>Middle Eastern</td>\n",
       "      <td>White</td>\n",
       "      <td>Male</td>\n",
       "      <td>30-39</td>\n",
       "      <td>[0.17668062, 0.0014569843, 0.036903709, 0.0001834705, 0.0003449845, 0.02403173, 0.76039845]</td>\n",
       "      <td>[0.80446827, 0.0033674056, 0.00041935447, 0.19174498]</td>\n",
       "      <td>[0.9978204 0.0021797]</td>\n",
       "      <td>[4.1017915e-06 2.7387670e-05 3.1400399e-04 3.2411549e-02 5.6658798e-01\\n 3.8641918e-01 1.4067625e-02 1.6265486e-04 5.4752104e-06]</td>\n",
       "      <td>Kamal Haasan</td>\n",
       "    </tr>\n",
       "    <tr>\n",
       "      <th>121</th>\n",
       "      <td>detected_faces/Cicely Tyson-0_face0.jpg</td>\n",
       "      <td>Black</td>\n",
       "      <td>Black</td>\n",
       "      <td>Female</td>\n",
       "      <td>40-49</td>\n",
       "      <td>[0.00014839679, 0.98936987, 0.006893991, 0.00014455509, 0.00043224343, 0.002922701, 8.8181361e-05]</td>\n",
       "      <td>[0.00028028144, 0.99258035, 0.0036407569, 0.0034986387]</td>\n",
       "      <td>[1.9818723e-04 9.9980181e-01]</td>\n",
       "      <td>[7.1278043e-07 8.1300177e-06 1.3012382e-04 3.6881329e-03 1.2306122e-01\\n 5.2300119e-01 2.9875571e-01 4.9627963e-02 1.7268320e-03]</td>\n",
       "      <td>Cicely Tyson</td>\n",
       "    </tr>\n",
       "    <tr>\n",
       "      <th>122</th>\n",
       "      <td>detected_faces/Sofía Vergara-0_face0.jpg</td>\n",
       "      <td>White</td>\n",
       "      <td>White</td>\n",
       "      <td>Female</td>\n",
       "      <td>20-29</td>\n",
       "      <td>[0.88876021, 0.00036526992, 0.10301862, 0.0021632402, 0.0021217964, 0.00076174428, 0.0028090223]</td>\n",
       "      <td>[0.98209435, 0.00121475, 0.01133319, 0.00535764]</td>\n",
       "      <td>[1.4732128e-06 9.9999851e-01]</td>\n",
       "      <td>[9.6354995e-09 2.5665344e-05 4.2832222e-02 7.7841109e-01 1.7711672e-01\\n 1.6095194e-03 4.7371950e-06 3.0058416e-08 3.4526493e-10]</td>\n",
       "      <td>Sofía Vergara</td>\n",
       "    </tr>\n",
       "    <tr>\n",
       "      <th>123</th>\n",
       "      <td>detected_faces/James McAvoy-1_face0.jpg</td>\n",
       "      <td>White</td>\n",
       "      <td>White</td>\n",
       "      <td>Male</td>\n",
       "      <td>30-39</td>\n",
       "      <td>[0.99865061, 2.9988126e-07, 0.00049368868, 4.3834489e-06, 1.0312691e-05, 1.4796423e-05, 0.00082589255]</td>\n",
       "      <td>[0.99883103, 3.0531228e-05, 0.00025408514, 0.00088434666]</td>\n",
       "      <td>[9.9995798e-01 4.2036947e-05]</td>\n",
       "      <td>[3.3018399e-08 3.6049579e-07 3.4059823e-04 1.3994530e-01 5.7068813e-01\\n 2.8139299e-01 7.5297668e-03 9.9738900e-05 3.0452577e-06]</td>\n",
       "      <td>James McAvoy</td>\n",
       "    </tr>\n",
       "  </tbody>\n",
       "</table>\n",
       "<p>124 rows × 10 columns</p>\n",
       "</div>"
      ],
      "text/plain": [
       "                                face_name_align  ...             name\n",
       "0        detected_faces/Viola Davis-1_face0.jpg  ...      Viola Davis\n",
       "1     detected_faces/Angelina Jolie-1_face0.jpg  ...   Angelina Jolie\n",
       "2        detected_faces/Claudia Kim-0_face0.jpg  ...      Claudia Kim\n",
       "3       detected_faces/Katrina Kaif-2_face0.jpg  ...     Katrina Kaif\n",
       "4     detected_faces/Jennifer Lopez-1_face0.jpg  ...   Jennifer Lopez\n",
       "..                                          ...  ...              ...\n",
       "119  detected_faces/Natalie Portman-2_face0.jpg  ...  Natalie Portman\n",
       "120     detected_faces/Kamal Haasan-2_face0.jpg  ...     Kamal Haasan\n",
       "121     detected_faces/Cicely Tyson-0_face0.jpg  ...     Cicely Tyson\n",
       "122    detected_faces/Sofía Vergara-0_face0.jpg  ...    Sofía Vergara\n",
       "123     detected_faces/James McAvoy-1_face0.jpg  ...     James McAvoy\n",
       "\n",
       "[124 rows x 10 columns]"
      ]
     },
     "execution_count": 132,
     "metadata": {
      "tags": []
     },
     "output_type": "execute_result"
    }
   ],
   "source": [
    "df_fair_actors"
   ]
  },
  {
   "cell_type": "code",
   "execution_count": null,
   "metadata": {
    "id": "O212Pea7ARnW"
   },
   "outputs": [],
   "source": [
    "name_race = df_actors[[\"name\",\"label\"]].drop_duplicates()"
   ]
  },
  {
   "cell_type": "code",
   "execution_count": null,
   "metadata": {
    "id": "CqpMGvSuAfe1"
   },
   "outputs": [],
   "source": [
    "name_race = name_race.merge(df_fair_actors, on=\"name\")"
   ]
  },
  {
   "cell_type": "code",
   "execution_count": null,
   "metadata": {
    "colab": {
     "base_uri": "https://localhost:8080/"
    },
    "id": "U__2tB_QA6VL",
    "outputId": "d69e8376-332d-492d-bcfa-4025bb306875"
   },
   "outputs": [
    {
     "data": {
      "text/plain": [
       "104"
      ]
     },
     "execution_count": 137,
     "metadata": {
      "tags": []
     },
     "output_type": "execute_result"
    }
   ],
   "source": [
    "sum(name_race[\"race4\"]==name_race[\"label\"])"
   ]
  },
  {
   "cell_type": "code",
   "execution_count": null,
   "metadata": {
    "colab": {
     "base_uri": "https://localhost:8080/"
    },
    "id": "9flqvmWfBnsW",
    "outputId": "da9ad87f-ee57-4284-88e7-78815f7704b8"
   },
   "outputs": [
    {
     "data": {
      "text/plain": [
       "0.8455284552845529"
      ]
     },
     "execution_count": 139,
     "metadata": {
      "tags": []
     },
     "output_type": "execute_result"
    }
   ],
   "source": [
    "104/len(name_race)"
   ]
  },
  {
   "cell_type": "code",
   "execution_count": null,
   "metadata": {
    "colab": {
     "base_uri": "https://localhost:8080/"
    },
    "id": "mpo4E1YcBCdt",
    "outputId": "8aa79a30-7a0d-481d-e14c-2dbe7842594f"
   },
   "outputs": [
    {
     "data": {
      "text/plain": [
       "0.8979591836734694"
      ]
     },
     "execution_count": 131,
     "metadata": {
      "tags": []
     },
     "output_type": "execute_result"
    }
   ],
   "source": [
    "44/49"
   ]
  },
  {
   "cell_type": "code",
   "execution_count": null,
   "metadata": {
    "id": "nQieymc7BR2D"
   },
   "outputs": [],
   "source": [
    "name_race = df_actors[[\"name\",\"label\"]].drop_duplicates()"
   ]
  },
  {
   "cell_type": "code",
   "execution_count": null,
   "metadata": {
    "id": "chX25F3QBR2R"
   },
   "outputs": [],
   "source": [
    "pred_avg = pd.DataFrame(res, columns=[\"Actor\",\"Pred_Label\"])"
   ]
  },
  {
   "cell_type": "code",
   "execution_count": null,
   "metadata": {
    "id": "Ogscix-0BR2R"
   },
   "outputs": [],
   "source": [
    "name_race = name_race.merge(pred_avg, left_on=\"name\", right_on=\"Actor\")"
   ]
  },
  {
   "cell_type": "code",
   "execution_count": null,
   "metadata": {
    "colab": {
     "base_uri": "https://localhost:8080/"
    },
    "id": "U2By0NmKBR2S",
    "outputId": "8d372869-89e8-403b-ae9b-55ad2d649d93"
   },
   "outputs": [
    {
     "data": {
      "text/plain": [
       "44"
      ]
     },
     "execution_count": 128,
     "metadata": {
      "tags": []
     },
     "output_type": "execute_result"
    }
   ],
   "source": [
    "sum(name_race[\"label\"]==name_race[\"Pred_Label\"])"
   ]
  },
  {
   "cell_type": "code",
   "execution_count": null,
   "metadata": {
    "id": "0r-FjcZl_1L_"
   },
   "outputs": [],
   "source": [
    "races = [\"White\" ,\"Black\", \"Asian\" ,\"Indian\"]"
   ]
  },
  {
   "cell_type": "code",
   "execution_count": null,
   "metadata": {
    "colab": {
     "base_uri": "https://localhost:8080/",
     "height": 193
    },
    "id": "yr0qOA5H_h5n",
    "outputId": "9ebb780d-226e-4fd0-80b1-69ab3347139a"
   },
   "outputs": [
    {
     "data": {
      "text/html": [
       "<div>\n",
       "<style scoped>\n",
       "    .dataframe tbody tr th:only-of-type {\n",
       "        vertical-align: middle;\n",
       "    }\n",
       "\n",
       "    .dataframe tbody tr th {\n",
       "        vertical-align: top;\n",
       "    }\n",
       "\n",
       "    .dataframe thead th {\n",
       "        text-align: right;\n",
       "    }\n",
       "</style>\n",
       "<table border=\"1\" class=\"dataframe\">\n",
       "  <thead>\n",
       "    <tr style=\"text-align: right;\">\n",
       "      <th></th>\n",
       "      <th>face_name_align</th>\n",
       "      <th>race</th>\n",
       "      <th>race4</th>\n",
       "      <th>gender</th>\n",
       "      <th>age</th>\n",
       "      <th>race_scores_fair</th>\n",
       "      <th>race_scores_fair_4</th>\n",
       "      <th>gender_scores_fair</th>\n",
       "      <th>age_scores_fair</th>\n",
       "      <th>name</th>\n",
       "    </tr>\n",
       "  </thead>\n",
       "  <tbody>\n",
       "    <tr>\n",
       "      <th>18</th>\n",
       "      <td>detected_faces/Akshay Kumar-0_face0.jpg</td>\n",
       "      <td>Middle Eastern</td>\n",
       "      <td>White</td>\n",
       "      <td>Male</td>\n",
       "      <td>40-49</td>\n",
       "      <td>[0.29083887, 0.00068838813, 0.16762526, 0.00022458847, 0.00090689614, 0.10402437, 0.43569162]</td>\n",
       "      <td>[0.60454249, 0.00050376414, 0.0018093099, 0.3931444]</td>\n",
       "      <td>[9.9963516e-01 3.6483916e-04]</td>\n",
       "      <td>[3.3712990e-06 1.5460555e-05 3.7065023e-04 1.7930385e-02 4.4393662e-01\\n 5.1113671e-01 2.6472047e-02 1.3235197e-04 2.4199885e-06]</td>\n",
       "      <td>Akshay Kumar</td>\n",
       "    </tr>\n",
       "    <tr>\n",
       "      <th>25</th>\n",
       "      <td>detected_faces/Akshay Kumar-2_face0.jpg</td>\n",
       "      <td>White</td>\n",
       "      <td>White</td>\n",
       "      <td>Male</td>\n",
       "      <td>40-49</td>\n",
       "      <td>[0.27569026, 0.0011593, 0.26068318, 0.00036179, 0.00145879, 0.19555828, 0.26508847]</td>\n",
       "      <td>[0.5320408, 0.00078573, 0.00286712, 0.46430635]</td>\n",
       "      <td>[9.996647e-01 3.352756e-04]</td>\n",
       "      <td>[3.9371857e-06 2.1215970e-05 4.5332735e-04 2.0754470e-02 4.5979285e-01\\n 4.9296132e-01 2.5888428e-02 1.2239178e-04 2.0850041e-06]</td>\n",
       "      <td>Akshay Kumar</td>\n",
       "    </tr>\n",
       "    <tr>\n",
       "      <th>87</th>\n",
       "      <td>detected_faces/Akshay Kumar-1_face0.jpg</td>\n",
       "      <td>Middle Eastern</td>\n",
       "      <td>White</td>\n",
       "      <td>Male</td>\n",
       "      <td>40-49</td>\n",
       "      <td>[0.16456974, 0.00070177554, 0.15480457, 0.00020752005, 0.0010028782, 0.14877318, 0.52994037]</td>\n",
       "      <td>[0.52213955, 0.00066477, 0.00245686, 0.47473887]</td>\n",
       "      <td>[9.995116e-01 4.884003e-04]</td>\n",
       "      <td>[5.2415917e-06 3.1099938e-05 5.8093108e-04 2.2633120e-02 4.5965272e-01\\n 4.9116763e-01 2.5788864e-02 1.3755726e-04 2.8600330e-06]</td>\n",
       "      <td>Akshay Kumar</td>\n",
       "    </tr>\n",
       "  </tbody>\n",
       "</table>\n",
       "</div>"
      ],
      "text/plain": [
       "                            face_name_align  ...          name\n",
       "18  detected_faces/Akshay Kumar-0_face0.jpg  ...  Akshay Kumar\n",
       "25  detected_faces/Akshay Kumar-2_face0.jpg  ...  Akshay Kumar\n",
       "87  detected_faces/Akshay Kumar-1_face0.jpg  ...  Akshay Kumar\n",
       "\n",
       "[3 rows x 10 columns]"
      ]
     },
     "execution_count": 112,
     "metadata": {
      "tags": []
     },
     "output_type": "execute_result"
    }
   ],
   "source": [
    "line"
   ]
  },
  {
   "cell_type": "markdown",
   "metadata": {
    "id": "516-EZz0C1iR"
   },
   "source": [
    "# old..."
   ]
  },
  {
   "cell_type": "markdown",
   "metadata": {
    "id": "iA9YLDdE2xoY"
   },
   "source": [
    "## Getting the data"
   ]
  },
  {
   "cell_type": "code",
   "execution_count": null,
   "metadata": {
    "colab": {
     "base_uri": "https://localhost:8080/"
    },
    "id": "P4yWceVcydBm",
    "outputId": "d5fd7626-4444-4c9e-b336-d578a310c49d"
   },
   "outputs": [
    {
     "name": "stdout",
     "output_type": "stream",
     "text": [
      "Mounted at /content/gdrive\n"
     ]
    }
   ],
   "source": [
    "from google.colab import drive\n",
    "drive.mount('/content/gdrive', force_remount=True)\n",
    "root_dir = \"/content/gdrive/My Drive/\"\n",
    "base_dir = Path('dataset/')"
   ]
  },
  {
   "cell_type": "code",
   "execution_count": null,
   "metadata": {
    "id": "fTC6XZ-0y3lq"
   },
   "outputs": [],
   "source": [
    "gdrive_path = \"/content/gdrive/My\\ Drive/\"\n",
    "base_dir = Path('validation/')\n",
    "path_img = base_dir/ \"images\"\n",
    "val_face_path= base_dir/ \"Val\"\n",
    "val_raw_path= base_dir/ \"Val_Raw\"\n",
    "# fair_path = Path(root_dir)/\"Ethnicity/Fair\"\n",
    "models_path = Path(root_dir)/\"models/\""
   ]
  },
  {
   "cell_type": "code",
   "execution_count": null,
   "metadata": {
    "colab": {
     "base_uri": "https://localhost:8080/"
    },
    "id": "LgsXmF1kDRvy",
    "outputId": "7ac5f39c-dd20-40d0-bf56-55090955c5d5"
   },
   "outputs": [
    {
     "name": "stdout",
     "output_type": "stream",
     "text": [
      "Archive:  /content/gdrive/My Drive/Ethnicity/Fair/fair_face_models.zip\n",
      "   creating: fair_face_models/\n",
      "  inflating: fair_face_models/fairface_alldata_4race_20191111.pt  \n",
      "  inflating: fair_face_models/res34_fair_align_multi_7_20190809.pt  \n"
     ]
    }
   ],
   "source": [
    "!unzip /content/gdrive/My\\ Drive/Ethnicity/Fair/fair_face_models.zip"
   ]
  },
  {
   "cell_type": "code",
   "execution_count": null,
   "metadata": {
    "colab": {
     "base_uri": "https://localhost:8080/"
    },
    "id": "cr3lhyetDUev",
    "outputId": "97e12802-100d-4736-9f8f-a8dee77a6e6a"
   },
   "outputs": [
    {
     "name": "stdout",
     "output_type": "stream",
     "text": [
      "Cloning into 'FairFace'...\n",
      "remote: Enumerating objects: 202, done.\u001b[K\n",
      "remote: Total 202 (delta 0), reused 0 (delta 0), pack-reused 202\u001b[K\n",
      "Receiving objects: 100% (202/202), 14.23 MiB | 35.19 MiB/s, done.\n",
      "Resolving deltas: 100% (102/102), done.\n"
     ]
    }
   ],
   "source": [
    "!git clone https://github.com/dchen236/FairFace.git"
   ]
  },
  {
   "cell_type": "code",
   "execution_count": null,
   "metadata": {
    "id": "OjTcoyJVDst1"
   },
   "outputs": [],
   "source": [
    "Path('FairFace').mkdir(exist_ok=True)\n",
    "!cp /content/gdrive/My\\ Drive/models/Ethnicity/Fair/fair_face_models.zip FairFace/fair_face_models.zip"
   ]
  },
  {
   "cell_type": "code",
   "execution_count": null,
   "metadata": {
    "id": "sbSLlZumYXtF"
   },
   "outputs": [],
   "source": [
    "!mkdir dataset\n",
    "!cp -r /content/gdrive/My\\ Drive/Ethnicity/Val {str(base_dir)+\"/Val\"}\n",
    "!cp -r /content/gdrive/My\\ Drive/Ethnicity/Val {str(base_dir)+\"/Val_Raw\"}\n"
   ]
  },
  {
   "cell_type": "code",
   "execution_count": null,
   "metadata": {
    "colab": {
     "base_uri": "https://localhost:8080/"
    },
    "id": "XP2RUZCxHgxW",
    "outputId": "69d85eba-ab09-477d-d656-ad4ff7315678"
   },
   "outputs": [
    {
     "name": "stdout",
     "output_type": "stream",
     "text": [
      "Collecting mtcnn\n",
      "\u001b[?25l  Downloading https://files.pythonhosted.org/packages/67/43/abee91792797c609c1bf30f1112117f7a87a713ebaa6ec5201d5555a73ef/mtcnn-0.1.0-py3-none-any.whl (2.3MB)\n",
      "\u001b[K     |████████████████████████████████| 2.3MB 8.4MB/s \n",
      "\u001b[?25hRequirement already satisfied: opencv-python>=4.1.0 in /usr/local/lib/python3.6/dist-packages (from mtcnn) (4.1.2.30)\n",
      "Requirement already satisfied: keras>=2.0.0 in /usr/local/lib/python3.6/dist-packages (from mtcnn) (2.4.3)\n",
      "Requirement already satisfied: numpy>=1.11.3 in /usr/local/lib/python3.6/dist-packages (from opencv-python>=4.1.0->mtcnn) (1.19.4)\n",
      "Requirement already satisfied: scipy>=0.14 in /usr/local/lib/python3.6/dist-packages (from keras>=2.0.0->mtcnn) (1.4.1)\n",
      "Requirement already satisfied: h5py in /usr/local/lib/python3.6/dist-packages (from keras>=2.0.0->mtcnn) (2.10.0)\n",
      "Requirement already satisfied: pyyaml in /usr/local/lib/python3.6/dist-packages (from keras>=2.0.0->mtcnn) (3.13)\n",
      "Requirement already satisfied: six in /usr/local/lib/python3.6/dist-packages (from h5py->keras>=2.0.0->mtcnn) (1.15.0)\n",
      "Installing collected packages: mtcnn\n",
      "Successfully installed mtcnn-0.1.0\n"
     ]
    }
   ],
   "source": [
    "!pip install mtcnn "
   ]
  },
  {
   "cell_type": "code",
   "execution_count": null,
   "metadata": {
    "id": "RMs2NwG_HSvo"
   },
   "outputs": [],
   "source": [
    "from mtcnn import MTCNN\n",
    "import cv2\n",
    "\n",
    "\n",
    "detector = MTCNN()\n"
   ]
  },
  {
   "cell_type": "code",
   "execution_count": null,
   "metadata": {
    "colab": {
     "base_uri": "https://localhost:8080/",
     "height": 117,
     "referenced_widgets": [
      "a36dc6e745b445c29022f76e35ff1047",
      "00ff015800344d2c822fb9067de7a2c7",
      "2b123df4ccec499abc0ed57ce0fbcf7d",
      "6f847f889b3343fb9efe8e3783c6c759",
      "9564dd73973d4494a7e077b997bad018",
      "86fd2f0f278d4f338cf655c3e8b677b6",
      "98b8b0d6f5c34154ab0827767a1590e7",
      "e4f8816990cf4bb5af4aefc83a717929"
     ]
    },
    "id": "E1Cj8ALcfX76",
    "outputId": "a3899c0e-35c7-44b0-be78-1010374b1942"
   },
   "outputs": [
    {
     "name": "stderr",
     "output_type": "stream",
     "text": [
      "/usr/local/lib/python3.6/dist-packages/ipykernel_launcher.py:4: TqdmDeprecationWarning: This function will be removed in tqdm==5.0.0\n",
      "Please use `tqdm.notebook.tqdm` instead of `tqdm.tqdm_notebook`\n",
      "  after removing the cwd from sys.path.\n"
     ]
    },
    {
     "data": {
      "application/vnd.jupyter.widget-view+json": {
       "model_id": "a36dc6e745b445c29022f76e35ff1047",
       "version_major": 2,
       "version_minor": 0
      },
      "text/plain": [
       "HBox(children=(FloatProgress(value=1.0, bar_style='info', description='Images', max=1.0, style=ProgressStyle(d…"
      ]
     },
     "metadata": {
      "tags": []
     },
     "output_type": "display_data"
    },
    {
     "name": "stdout",
     "output_type": "stream",
     "text": [
      "\n"
     ]
    }
   ],
   "source": [
    "from tqdm import tqdm_notebook as tqdm\n",
    "val_path= base_dir/ \"Val\"\n",
    "\n",
    "for img in tqdm(val_path.rglob(\"*\"), desc=\"Images\"):\n",
    "  try: \n",
    "    im = Image.open(img) \n",
    "    for face in detector.detect_faces(np.asarray(im)):\n",
    "      box = face[\"box\"]\n",
    "      im1 = im.crop(box=(box[0], box[1], box[0]+box[2],box[1]+box[3] )) \n",
    "      im1.save(img)\n",
    "      break\n",
    "  except IsADirectoryError:\n",
    "    pass"
   ]
  },
  {
   "cell_type": "code",
   "execution_count": null,
   "metadata": {
    "id": "nz1qtYQj1ytH"
   },
   "outputs": [],
   "source": [
    "from PIL import ImageOps\n",
    "import albumentations as A\n",
    "\n",
    "class AlbumentationsTransform(DisplayedTransform):\n",
    "    split_idx,order=0,2\n",
    "    def __init__(self, train_aug): store_attr()\n",
    "    \n",
    "    def encodes(self, img: PILImage):\n",
    "      if random.random() > 0.5:\n",
    "        return ImageOps.grayscale(img).convert(\"RGB\")\n",
    "      else:\n",
    "        return img\n",
    "        # aug_img = self.train_aug(image=np.array(img))['image']\n",
    "        # return PILImage.create(aug_img)\n",
    "gray = AlbumentationsTransform(A.ToGray(p=0.5))"
   ]
  },
  {
   "cell_type": "markdown",
   "metadata": {
    "id": "P8NOI569TA3m"
   },
   "source": [
    "## Classification"
   ]
  },
  {
   "cell_type": "code",
   "execution_count": null,
   "metadata": {
    "id": "Gx-qHkLAXJLx"
   },
   "outputs": [],
   "source": [
    "list(base_dir.rglob(\"*.jpg\"))"
   ]
  },
  {
   "cell_type": "code",
   "execution_count": null,
   "metadata": {
    "id": "jOqsL4ZFgmBH"
   },
   "outputs": [],
   "source": [
    "df_val = pd.DataFrame({\"img\": list(base_dir.rglob(\"*.jpg\")), \"img_raw\": list(base_dir.rglob(\"*.jpg\"))})\n",
    "df_val[\"label\"] = df_val[\"img\"].apply(lambda x: x.parents[0].name)"
   ]
  },
  {
   "cell_type": "code",
   "execution_count": null,
   "metadata": {
    "id": "PAP5qik4XTwK"
   },
   "outputs": [],
   "source": [
    "df_val"
   ]
  },
  {
   "cell_type": "code",
   "execution_count": null,
   "metadata": {
    "id": "zQoEwNE2IaDu"
   },
   "outputs": [],
   "source": [
    "df_val[\"name\"] = df_val[\"img\"].apply(lambda x: x.stem)"
   ]
  },
  {
   "cell_type": "code",
   "execution_count": null,
   "metadata": {
    "id": "E501FWN7OWIg"
   },
   "outputs": [],
   "source": [
    "df_val[\"name\"] =  df_val[\"name\"].apply(lambda x: x.split(\".\")[0]) "
   ]
  },
  {
   "cell_type": "code",
   "execution_count": null,
   "metadata": {
    "id": "mZUuKqk7KMxr"
   },
   "outputs": [],
   "source": [
    "# df_val[\"label\"] = df_val[\"label\"].replace(\"asian\",\"Asian\")\n",
    "df_val[\"label\"] = df_val[\"label\"].replace(\"latino\",\"Latino_Hispanic\")\n",
    "df_val[\"label\"] = df_val[\"label\"].replace(\"white\",\"White\")\n",
    "df_val[\"label\"] = df_val[\"label\"].replace(\"african\",\"Black\")\n",
    "df_val[\"label\"] = df_val[\"label\"].replace(\"asian\",\"East Asian\")\n",
    "df_val[\"label\"] = df_val[\"label\"].replace(\"indian\",\"Indian\")"
   ]
  },
  {
   "cell_type": "code",
   "execution_count": null,
   "metadata": {
    "id": "rgCP1X8fPu1P"
   },
   "outputs": [],
   "source": [
    "df_val[\"label2\"]  = df_val[\"label\"] \n",
    "df_val[\"label2\"] = df_val[\"label2\"].replace(\"East Asian\",\"Asian\")\n",
    "df_val[\"label2\"] = df_val[\"label2\"].replace(\"Latino_Hispanic\",\"White\")"
   ]
  },
  {
   "cell_type": "markdown",
   "metadata": {
    "id": "cB2c5k4CRvmc"
   },
   "source": [
    "## Dima"
   ]
  },
  {
   "cell_type": "code",
   "execution_count": null,
   "metadata": {
    "id": "Iug1eHFLSSCH"
   },
   "outputs": [],
   "source": [
    "models = ['ethni_0825f1_v6','ethni_083f_unfrezee_V9','ethni_0858f_unfrezee_V9','ethni_085b_96unfrezee_V6','ethni_085b_unfrezee_V6','ethni_086f1']\n",
    "learner = load_learner(models_path/\"ethni_0858f_unfrezee_V9.pkl\")"
   ]
  },
  {
   "cell_type": "code",
   "execution_count": null,
   "metadata": {
    "id": "jPmdpoVoLdqg"
   },
   "outputs": [],
   "source": [
    "# learn.export(Path(root_dir)/\"Ethnicity/LWF/ethni_new_v9_08.pkl\")\n",
    "# learn.export(Path(root_dir)/\"Ethnicity/LWF/ethni_new_v8_082.pkl\")\n",
    "learner = load_learner(models_path/\"ethni_0858f_unfrezee_V9.pkl\")"
   ]
  },
  {
   "cell_type": "code",
   "execution_count": null,
   "metadata": {
    "colab": {
     "base_uri": "https://localhost:8080/",
     "height": 17
    },
    "id": "KjA58-PAPYIy",
    "outputId": "244caa4c-baaa-45d2-8826-bace589269af"
   },
   "outputs": [
    {
     "data": {
      "text/html": [],
      "text/plain": [
       "<IPython.core.display.HTML object>"
      ]
     },
     "metadata": {
      "tags": []
     },
     "output_type": "display_data"
    },
    {
     "data": {
      "text/html": [],
      "text/plain": [
       "<IPython.core.display.HTML object>"
      ]
     },
     "metadata": {
      "tags": []
     },
     "output_type": "display_data"
    },
    {
     "data": {
      "text/html": [],
      "text/plain": [
       "<IPython.core.display.HTML object>"
      ]
     },
     "metadata": {
      "tags": []
     },
     "output_type": "display_data"
    },
    {
     "data": {
      "text/html": [],
      "text/plain": [
       "<IPython.core.display.HTML object>"
      ]
     },
     "metadata": {
      "tags": []
     },
     "output_type": "display_data"
    },
    {
     "data": {
      "text/html": [],
      "text/plain": [
       "<IPython.core.display.HTML object>"
      ]
     },
     "metadata": {
      "tags": []
     },
     "output_type": "display_data"
    },
    {
     "data": {
      "text/html": [],
      "text/plain": [
       "<IPython.core.display.HTML object>"
      ]
     },
     "metadata": {
      "tags": []
     },
     "output_type": "display_data"
    },
    {
     "data": {
      "text/html": [],
      "text/plain": [
       "<IPython.core.display.HTML object>"
      ]
     },
     "metadata": {
      "tags": []
     },
     "output_type": "display_data"
    },
    {
     "data": {
      "text/html": [],
      "text/plain": [
       "<IPython.core.display.HTML object>"
      ]
     },
     "metadata": {
      "tags": []
     },
     "output_type": "display_data"
    },
    {
     "data": {
      "text/html": [],
      "text/plain": [
       "<IPython.core.display.HTML object>"
      ]
     },
     "metadata": {
      "tags": []
     },
     "output_type": "display_data"
    },
    {
     "data": {
      "text/html": [],
      "text/plain": [
       "<IPython.core.display.HTML object>"
      ]
     },
     "metadata": {
      "tags": []
     },
     "output_type": "display_data"
    },
    {
     "data": {
      "text/html": [],
      "text/plain": [
       "<IPython.core.display.HTML object>"
      ]
     },
     "metadata": {
      "tags": []
     },
     "output_type": "display_data"
    },
    {
     "data": {
      "text/html": [],
      "text/plain": [
       "<IPython.core.display.HTML object>"
      ]
     },
     "metadata": {
      "tags": []
     },
     "output_type": "display_data"
    },
    {
     "data": {
      "text/html": [],
      "text/plain": [
       "<IPython.core.display.HTML object>"
      ]
     },
     "metadata": {
      "tags": []
     },
     "output_type": "display_data"
    },
    {
     "data": {
      "text/html": [],
      "text/plain": [
       "<IPython.core.display.HTML object>"
      ]
     },
     "metadata": {
      "tags": []
     },
     "output_type": "display_data"
    },
    {
     "data": {
      "text/html": [],
      "text/plain": [
       "<IPython.core.display.HTML object>"
      ]
     },
     "metadata": {
      "tags": []
     },
     "output_type": "display_data"
    },
    {
     "data": {
      "text/html": [],
      "text/plain": [
       "<IPython.core.display.HTML object>"
      ]
     },
     "metadata": {
      "tags": []
     },
     "output_type": "display_data"
    },
    {
     "data": {
      "text/html": [],
      "text/plain": [
       "<IPython.core.display.HTML object>"
      ]
     },
     "metadata": {
      "tags": []
     },
     "output_type": "display_data"
    },
    {
     "data": {
      "text/html": [],
      "text/plain": [
       "<IPython.core.display.HTML object>"
      ]
     },
     "metadata": {
      "tags": []
     },
     "output_type": "display_data"
    },
    {
     "data": {
      "text/html": [],
      "text/plain": [
       "<IPython.core.display.HTML object>"
      ]
     },
     "metadata": {
      "tags": []
     },
     "output_type": "display_data"
    },
    {
     "data": {
      "text/html": [],
      "text/plain": [
       "<IPython.core.display.HTML object>"
      ]
     },
     "metadata": {
      "tags": []
     },
     "output_type": "display_data"
    },
    {
     "data": {
      "text/html": [],
      "text/plain": [
       "<IPython.core.display.HTML object>"
      ]
     },
     "metadata": {
      "tags": []
     },
     "output_type": "display_data"
    },
    {
     "data": {
      "text/html": [],
      "text/plain": [
       "<IPython.core.display.HTML object>"
      ]
     },
     "metadata": {
      "tags": []
     },
     "output_type": "display_data"
    },
    {
     "data": {
      "text/html": [],
      "text/plain": [
       "<IPython.core.display.HTML object>"
      ]
     },
     "metadata": {
      "tags": []
     },
     "output_type": "display_data"
    },
    {
     "data": {
      "text/html": [],
      "text/plain": [
       "<IPython.core.display.HTML object>"
      ]
     },
     "metadata": {
      "tags": []
     },
     "output_type": "display_data"
    },
    {
     "data": {
      "text/html": [],
      "text/plain": [
       "<IPython.core.display.HTML object>"
      ]
     },
     "metadata": {
      "tags": []
     },
     "output_type": "display_data"
    },
    {
     "data": {
      "text/html": [],
      "text/plain": [
       "<IPython.core.display.HTML object>"
      ]
     },
     "metadata": {
      "tags": []
     },
     "output_type": "display_data"
    },
    {
     "data": {
      "text/html": [],
      "text/plain": [
       "<IPython.core.display.HTML object>"
      ]
     },
     "metadata": {
      "tags": []
     },
     "output_type": "display_data"
    },
    {
     "data": {
      "text/html": [],
      "text/plain": [
       "<IPython.core.display.HTML object>"
      ]
     },
     "metadata": {
      "tags": []
     },
     "output_type": "display_data"
    },
    {
     "data": {
      "text/html": [],
      "text/plain": [
       "<IPython.core.display.HTML object>"
      ]
     },
     "metadata": {
      "tags": []
     },
     "output_type": "display_data"
    },
    {
     "data": {
      "text/html": [],
      "text/plain": [
       "<IPython.core.display.HTML object>"
      ]
     },
     "metadata": {
      "tags": []
     },
     "output_type": "display_data"
    },
    {
     "data": {
      "text/html": [],
      "text/plain": [
       "<IPython.core.display.HTML object>"
      ]
     },
     "metadata": {
      "tags": []
     },
     "output_type": "display_data"
    },
    {
     "data": {
      "text/html": [],
      "text/plain": [
       "<IPython.core.display.HTML object>"
      ]
     },
     "metadata": {
      "tags": []
     },
     "output_type": "display_data"
    },
    {
     "data": {
      "text/html": [],
      "text/plain": [
       "<IPython.core.display.HTML object>"
      ]
     },
     "metadata": {
      "tags": []
     },
     "output_type": "display_data"
    },
    {
     "data": {
      "text/html": [],
      "text/plain": [
       "<IPython.core.display.HTML object>"
      ]
     },
     "metadata": {
      "tags": []
     },
     "output_type": "display_data"
    },
    {
     "data": {
      "text/html": [],
      "text/plain": [
       "<IPython.core.display.HTML object>"
      ]
     },
     "metadata": {
      "tags": []
     },
     "output_type": "display_data"
    },
    {
     "data": {
      "text/html": [],
      "text/plain": [
       "<IPython.core.display.HTML object>"
      ]
     },
     "metadata": {
      "tags": []
     },
     "output_type": "display_data"
    },
    {
     "data": {
      "text/html": [],
      "text/plain": [
       "<IPython.core.display.HTML object>"
      ]
     },
     "metadata": {
      "tags": []
     },
     "output_type": "display_data"
    },
    {
     "data": {
      "text/html": [],
      "text/plain": [
       "<IPython.core.display.HTML object>"
      ]
     },
     "metadata": {
      "tags": []
     },
     "output_type": "display_data"
    },
    {
     "data": {
      "text/html": [],
      "text/plain": [
       "<IPython.core.display.HTML object>"
      ]
     },
     "metadata": {
      "tags": []
     },
     "output_type": "display_data"
    },
    {
     "data": {
      "text/html": [],
      "text/plain": [
       "<IPython.core.display.HTML object>"
      ]
     },
     "metadata": {
      "tags": []
     },
     "output_type": "display_data"
    },
    {
     "data": {
      "text/html": [],
      "text/plain": [
       "<IPython.core.display.HTML object>"
      ]
     },
     "metadata": {
      "tags": []
     },
     "output_type": "display_data"
    },
    {
     "data": {
      "text/html": [],
      "text/plain": [
       "<IPython.core.display.HTML object>"
      ]
     },
     "metadata": {
      "tags": []
     },
     "output_type": "display_data"
    },
    {
     "data": {
      "text/html": [],
      "text/plain": [
       "<IPython.core.display.HTML object>"
      ]
     },
     "metadata": {
      "tags": []
     },
     "output_type": "display_data"
    },
    {
     "data": {
      "text/html": [],
      "text/plain": [
       "<IPython.core.display.HTML object>"
      ]
     },
     "metadata": {
      "tags": []
     },
     "output_type": "display_data"
    },
    {
     "data": {
      "text/html": [],
      "text/plain": [
       "<IPython.core.display.HTML object>"
      ]
     },
     "metadata": {
      "tags": []
     },
     "output_type": "display_data"
    },
    {
     "data": {
      "text/html": [],
      "text/plain": [
       "<IPython.core.display.HTML object>"
      ]
     },
     "metadata": {
      "tags": []
     },
     "output_type": "display_data"
    },
    {
     "data": {
      "text/html": [],
      "text/plain": [
       "<IPython.core.display.HTML object>"
      ]
     },
     "metadata": {
      "tags": []
     },
     "output_type": "display_data"
    },
    {
     "data": {
      "text/html": [],
      "text/plain": [
       "<IPython.core.display.HTML object>"
      ]
     },
     "metadata": {
      "tags": []
     },
     "output_type": "display_data"
    },
    {
     "data": {
      "text/html": [],
      "text/plain": [
       "<IPython.core.display.HTML object>"
      ]
     },
     "metadata": {
      "tags": []
     },
     "output_type": "display_data"
    },
    {
     "data": {
      "text/html": [],
      "text/plain": [
       "<IPython.core.display.HTML object>"
      ]
     },
     "metadata": {
      "tags": []
     },
     "output_type": "display_data"
    }
   ],
   "source": [
    "res = [learner.predict(line)[0] for line in df_val[\"img_face_path\"]]"
   ]
  },
  {
   "cell_type": "code",
   "execution_count": null,
   "metadata": {
    "id": "LCHhDwAshOHZ"
   },
   "outputs": [],
   "source": [
    "# [learner.predict(line)[2][:4] for line in df_val[\"img_face_path\"]]"
   ]
  },
  {
   "cell_type": "code",
   "execution_count": null,
   "metadata": {
    "id": "BhKEv4uFPbjJ"
   },
   "outputs": [],
   "source": [
    "df_val[\"Ours\"] = res\n",
    "df_val[\"Ours\"] = df_val[\"Ours\"].replace(\"asian\",\"Asian\")\n",
    "df_val[\"Ours\"] = df_val[\"Ours\"].replace(\"latino\",\"White\")\n",
    "df_val[\"Ours\"] = df_val[\"Ours\"].replace(\"hispanic\",\"White\")\n",
    "df_val[\"Ours\"] = df_val[\"Ours\"].replace(\"black\",\"Black\")\n",
    "df_val[\"Ours\"] = df_val[\"Ours\"].replace(\"white\",\"White\")\n",
    "df_val[\"Ours\"] = df_val[\"Ours\"].replace(\"african\",\"Black\")\n",
    "df_val[\"Ours\"] = df_val[\"Ours\"].replace(\"asian\",\"Asian\")\n",
    "df_val[\"Ours\"] = df_val[\"Ours\"].replace(\"indian\",\"Indian\")"
   ]
  },
  {
   "cell_type": "code",
   "execution_count": null,
   "metadata": {
    "colab": {
     "base_uri": "https://localhost:8080/"
    },
    "id": "JA0AlsYeW57Q",
    "outputId": "1830d0e5-a0e2-433e-f33d-0988743d6545"
   },
   "outputs": [
    {
     "data": {
      "text/plain": [
       "0.86"
      ]
     },
     "execution_count": 32,
     "metadata": {
      "tags": []
     },
     "output_type": "execute_result"
    }
   ],
   "source": [
    "sum(df_val[\"Ours\"] == df_val[\"label2\"]) / len(df_val)"
   ]
  },
  {
   "cell_type": "code",
   "execution_count": null,
   "metadata": {
    "colab": {
     "base_uri": "https://localhost:8080/"
    },
    "id": "D_hv6klALoeT",
    "outputId": "3996170e-1b89-4d2b-9681-65bc8660961b"
   },
   "outputs": [
    {
     "data": {
      "text/plain": [
       "0.8"
      ]
     },
     "execution_count": 87,
     "metadata": {
      "tags": []
     },
     "output_type": "execute_result"
    }
   ],
   "source": [
    "sum(df2[\"race4\"] == df2[\"label2\"]) / len(df_val)"
   ]
  },
  {
   "cell_type": "code",
   "execution_count": null,
   "metadata": {
    "colab": {
     "base_uri": "https://localhost:8080/"
    },
    "id": "tkZ2uBu4QlFw",
    "outputId": "27d10b98-b2bc-47bd-f885-d7e160afd526"
   },
   "outputs": [
    {
     "data": {
      "text/plain": [
       "0.7"
      ]
     },
     "execution_count": 97,
     "metadata": {
      "tags": []
     },
     "output_type": "execute_result"
    }
   ],
   "source": [
    "sum(df2[\"race\"] == df2[\"label\"]) / len(df_val)"
   ]
  },
  {
   "cell_type": "code",
   "execution_count": null,
   "metadata": {
    "colab": {
     "base_uri": "https://localhost:8080/",
     "height": 443
    },
    "id": "SfTLOwB63m2n",
    "outputId": "f0dd2cd2-2929-4122-84d3-f3a1b9baaba3"
   },
   "outputs": [
    {
     "ename": "AssertionError",
     "evalue": "ignored",
     "output_type": "error",
     "traceback": [
      "\u001b[0;31m---------------------------------------------------------------------------\u001b[0m",
      "\u001b[0;31mAssertionError\u001b[0m                            Traceback (most recent call last)",
      "\u001b[0;32m<ipython-input-38-1d213d4bb610>\u001b[0m in \u001b[0;36m<module>\u001b[0;34m()\u001b[0m\n\u001b[0;32m----> 1\u001b[0;31m \u001b[0mlearner\u001b[0m\u001b[0;34m.\u001b[0m\u001b[0mpredict\u001b[0m\u001b[0;34m(\u001b[0m\u001b[0mlist\u001b[0m\u001b[0;34m(\u001b[0m\u001b[0mdf_val\u001b[0m\u001b[0;34m[\u001b[0m\u001b[0;34m\"img_face_path\"\u001b[0m\u001b[0;34m]\u001b[0m\u001b[0;34m)\u001b[0m\u001b[0;34m)\u001b[0m\u001b[0;34m\u001b[0m\u001b[0;34m\u001b[0m\u001b[0m\n\u001b[0m",
      "\u001b[0;32m/usr/local/lib/python3.6/dist-packages/fastai/learner.py\u001b[0m in \u001b[0;36mpredict\u001b[0;34m(self, item, rm_type_tfms, with_input)\u001b[0m\n\u001b[1;32m    248\u001b[0m \u001b[0;34m\u001b[0m\u001b[0m\n\u001b[1;32m    249\u001b[0m     \u001b[0;32mdef\u001b[0m \u001b[0mpredict\u001b[0m\u001b[0;34m(\u001b[0m\u001b[0mself\u001b[0m\u001b[0;34m,\u001b[0m \u001b[0mitem\u001b[0m\u001b[0;34m,\u001b[0m \u001b[0mrm_type_tfms\u001b[0m\u001b[0;34m=\u001b[0m\u001b[0;32mNone\u001b[0m\u001b[0;34m,\u001b[0m \u001b[0mwith_input\u001b[0m\u001b[0;34m=\u001b[0m\u001b[0;32mFalse\u001b[0m\u001b[0;34m)\u001b[0m\u001b[0;34m:\u001b[0m\u001b[0;34m\u001b[0m\u001b[0;34m\u001b[0m\u001b[0m\n\u001b[0;32m--> 250\u001b[0;31m         \u001b[0mdl\u001b[0m \u001b[0;34m=\u001b[0m \u001b[0mself\u001b[0m\u001b[0;34m.\u001b[0m\u001b[0mdls\u001b[0m\u001b[0;34m.\u001b[0m\u001b[0mtest_dl\u001b[0m\u001b[0;34m(\u001b[0m\u001b[0;34m[\u001b[0m\u001b[0mitem\u001b[0m\u001b[0;34m]\u001b[0m\u001b[0;34m,\u001b[0m \u001b[0mrm_type_tfms\u001b[0m\u001b[0;34m=\u001b[0m\u001b[0mrm_type_tfms\u001b[0m\u001b[0;34m,\u001b[0m \u001b[0mnum_workers\u001b[0m\u001b[0;34m=\u001b[0m\u001b[0;36m0\u001b[0m\u001b[0;34m)\u001b[0m\u001b[0;34m\u001b[0m\u001b[0;34m\u001b[0m\u001b[0m\n\u001b[0m\u001b[1;32m    251\u001b[0m         \u001b[0minp\u001b[0m\u001b[0;34m,\u001b[0m\u001b[0mpreds\u001b[0m\u001b[0;34m,\u001b[0m\u001b[0m_\u001b[0m\u001b[0;34m,\u001b[0m\u001b[0mdec_preds\u001b[0m \u001b[0;34m=\u001b[0m \u001b[0mself\u001b[0m\u001b[0;34m.\u001b[0m\u001b[0mget_preds\u001b[0m\u001b[0;34m(\u001b[0m\u001b[0mdl\u001b[0m\u001b[0;34m=\u001b[0m\u001b[0mdl\u001b[0m\u001b[0;34m,\u001b[0m \u001b[0mwith_input\u001b[0m\u001b[0;34m=\u001b[0m\u001b[0;32mTrue\u001b[0m\u001b[0;34m,\u001b[0m \u001b[0mwith_decoded\u001b[0m\u001b[0;34m=\u001b[0m\u001b[0;32mTrue\u001b[0m\u001b[0;34m)\u001b[0m\u001b[0;34m\u001b[0m\u001b[0;34m\u001b[0m\u001b[0m\n\u001b[1;32m    252\u001b[0m         \u001b[0mi\u001b[0m \u001b[0;34m=\u001b[0m \u001b[0mgetattr\u001b[0m\u001b[0;34m(\u001b[0m\u001b[0mself\u001b[0m\u001b[0;34m.\u001b[0m\u001b[0mdls\u001b[0m\u001b[0;34m,\u001b[0m \u001b[0;34m'n_inp'\u001b[0m\u001b[0;34m,\u001b[0m \u001b[0;34m-\u001b[0m\u001b[0;36m1\u001b[0m\u001b[0;34m)\u001b[0m\u001b[0;34m\u001b[0m\u001b[0;34m\u001b[0m\u001b[0m\n",
      "\u001b[0;32m/usr/local/lib/python3.6/dist-packages/fastai/data/core.py\u001b[0m in \u001b[0;36mtest_dl\u001b[0;34m(self, test_items, rm_type_tfms, with_labels, **kwargs)\u001b[0m\n\u001b[1;32m    380\u001b[0m     \u001b[0;34m\"Create a test dataloader from `test_items` using validation transforms of `dls`\"\u001b[0m\u001b[0;34m\u001b[0m\u001b[0;34m\u001b[0m\u001b[0m\n\u001b[1;32m    381\u001b[0m     test_ds = test_set(self.valid_ds, test_items, rm_tfms=rm_type_tfms, with_labels=with_labels\n\u001b[0;32m--> 382\u001b[0;31m                       ) if isinstance(self.valid_ds, (Datasets, TfmdLists)) else test_items\n\u001b[0m\u001b[1;32m    383\u001b[0m     \u001b[0;32mreturn\u001b[0m \u001b[0mself\u001b[0m\u001b[0;34m.\u001b[0m\u001b[0mvalid\u001b[0m\u001b[0;34m.\u001b[0m\u001b[0mnew\u001b[0m\u001b[0;34m(\u001b[0m\u001b[0mtest_ds\u001b[0m\u001b[0;34m,\u001b[0m \u001b[0;34m**\u001b[0m\u001b[0mkwargs\u001b[0m\u001b[0;34m)\u001b[0m\u001b[0;34m\u001b[0m\u001b[0;34m\u001b[0m\u001b[0m\n",
      "\u001b[0;32m/usr/local/lib/python3.6/dist-packages/fastai/data/core.py\u001b[0m in \u001b[0;36mtest_set\u001b[0;34m(dsets, test_items, rm_tfms, with_labels)\u001b[0m\n\u001b[1;32m    363\u001b[0m         \u001b[0mtls\u001b[0m \u001b[0;34m=\u001b[0m \u001b[0mdsets\u001b[0m\u001b[0;34m.\u001b[0m\u001b[0mtls\u001b[0m \u001b[0;32mif\u001b[0m \u001b[0mwith_labels\u001b[0m \u001b[0;32melse\u001b[0m \u001b[0mdsets\u001b[0m\u001b[0;34m.\u001b[0m\u001b[0mtls\u001b[0m\u001b[0;34m[\u001b[0m\u001b[0;34m:\u001b[0m\u001b[0mdsets\u001b[0m\u001b[0;34m.\u001b[0m\u001b[0mn_inp\u001b[0m\u001b[0;34m]\u001b[0m\u001b[0;34m\u001b[0m\u001b[0;34m\u001b[0m\u001b[0m\n\u001b[1;32m    364\u001b[0m         \u001b[0mtest_tls\u001b[0m \u001b[0;34m=\u001b[0m \u001b[0;34m[\u001b[0m\u001b[0mtl\u001b[0m\u001b[0;34m.\u001b[0m\u001b[0m_new\u001b[0m\u001b[0;34m(\u001b[0m\u001b[0mtest_items\u001b[0m\u001b[0;34m,\u001b[0m \u001b[0msplit_idx\u001b[0m\u001b[0;34m=\u001b[0m\u001b[0;36m1\u001b[0m\u001b[0;34m)\u001b[0m \u001b[0;32mfor\u001b[0m \u001b[0mtl\u001b[0m \u001b[0;32min\u001b[0m \u001b[0mtls\u001b[0m\u001b[0;34m]\u001b[0m\u001b[0;34m\u001b[0m\u001b[0;34m\u001b[0m\u001b[0m\n\u001b[0;32m--> 365\u001b[0;31m         \u001b[0;32mif\u001b[0m \u001b[0mrm_tfms\u001b[0m \u001b[0;32mis\u001b[0m \u001b[0;32mNone\u001b[0m\u001b[0;34m:\u001b[0m \u001b[0mrm_tfms\u001b[0m \u001b[0;34m=\u001b[0m \u001b[0;34m[\u001b[0m\u001b[0mtl\u001b[0m\u001b[0;34m.\u001b[0m\u001b[0minfer_idx\u001b[0m\u001b[0;34m(\u001b[0m\u001b[0mget_first\u001b[0m\u001b[0;34m(\u001b[0m\u001b[0mtest_items\u001b[0m\u001b[0;34m)\u001b[0m\u001b[0;34m)\u001b[0m \u001b[0;32mfor\u001b[0m \u001b[0mtl\u001b[0m \u001b[0;32min\u001b[0m \u001b[0mtest_tls\u001b[0m\u001b[0;34m]\u001b[0m\u001b[0;34m\u001b[0m\u001b[0;34m\u001b[0m\u001b[0m\n\u001b[0m\u001b[1;32m    366\u001b[0m         \u001b[0;32melse\u001b[0m\u001b[0;34m:\u001b[0m               \u001b[0mrm_tfms\u001b[0m \u001b[0;34m=\u001b[0m \u001b[0mtuplify\u001b[0m\u001b[0;34m(\u001b[0m\u001b[0mrm_tfms\u001b[0m\u001b[0;34m,\u001b[0m \u001b[0mmatch\u001b[0m\u001b[0;34m=\u001b[0m\u001b[0mtest_tls\u001b[0m\u001b[0;34m)\u001b[0m\u001b[0;34m\u001b[0m\u001b[0;34m\u001b[0m\u001b[0m\n\u001b[1;32m    367\u001b[0m         \u001b[0;32mfor\u001b[0m \u001b[0mi\u001b[0m\u001b[0;34m,\u001b[0m\u001b[0mj\u001b[0m \u001b[0;32min\u001b[0m \u001b[0menumerate\u001b[0m\u001b[0;34m(\u001b[0m\u001b[0mrm_tfms\u001b[0m\u001b[0;34m)\u001b[0m\u001b[0;34m:\u001b[0m \u001b[0mtest_tls\u001b[0m\u001b[0;34m[\u001b[0m\u001b[0mi\u001b[0m\u001b[0;34m]\u001b[0m\u001b[0;34m.\u001b[0m\u001b[0mtfms\u001b[0m\u001b[0;34m.\u001b[0m\u001b[0mfs\u001b[0m \u001b[0;34m=\u001b[0m \u001b[0mtest_tls\u001b[0m\u001b[0;34m[\u001b[0m\u001b[0mi\u001b[0m\u001b[0;34m]\u001b[0m\u001b[0;34m.\u001b[0m\u001b[0mtfms\u001b[0m\u001b[0;34m.\u001b[0m\u001b[0mfs\u001b[0m\u001b[0;34m[\u001b[0m\u001b[0mj\u001b[0m\u001b[0;34m:\u001b[0m\u001b[0;34m]\u001b[0m\u001b[0;34m\u001b[0m\u001b[0;34m\u001b[0m\u001b[0m\n",
      "\u001b[0;32m/usr/local/lib/python3.6/dist-packages/fastai/data/core.py\u001b[0m in \u001b[0;36m<listcomp>\u001b[0;34m(.0)\u001b[0m\n\u001b[1;32m    363\u001b[0m         \u001b[0mtls\u001b[0m \u001b[0;34m=\u001b[0m \u001b[0mdsets\u001b[0m\u001b[0;34m.\u001b[0m\u001b[0mtls\u001b[0m \u001b[0;32mif\u001b[0m \u001b[0mwith_labels\u001b[0m \u001b[0;32melse\u001b[0m \u001b[0mdsets\u001b[0m\u001b[0;34m.\u001b[0m\u001b[0mtls\u001b[0m\u001b[0;34m[\u001b[0m\u001b[0;34m:\u001b[0m\u001b[0mdsets\u001b[0m\u001b[0;34m.\u001b[0m\u001b[0mn_inp\u001b[0m\u001b[0;34m]\u001b[0m\u001b[0;34m\u001b[0m\u001b[0;34m\u001b[0m\u001b[0m\n\u001b[1;32m    364\u001b[0m         \u001b[0mtest_tls\u001b[0m \u001b[0;34m=\u001b[0m \u001b[0;34m[\u001b[0m\u001b[0mtl\u001b[0m\u001b[0;34m.\u001b[0m\u001b[0m_new\u001b[0m\u001b[0;34m(\u001b[0m\u001b[0mtest_items\u001b[0m\u001b[0;34m,\u001b[0m \u001b[0msplit_idx\u001b[0m\u001b[0;34m=\u001b[0m\u001b[0;36m1\u001b[0m\u001b[0;34m)\u001b[0m \u001b[0;32mfor\u001b[0m \u001b[0mtl\u001b[0m \u001b[0;32min\u001b[0m \u001b[0mtls\u001b[0m\u001b[0;34m]\u001b[0m\u001b[0;34m\u001b[0m\u001b[0;34m\u001b[0m\u001b[0m\n\u001b[0;32m--> 365\u001b[0;31m         \u001b[0;32mif\u001b[0m \u001b[0mrm_tfms\u001b[0m \u001b[0;32mis\u001b[0m \u001b[0;32mNone\u001b[0m\u001b[0;34m:\u001b[0m \u001b[0mrm_tfms\u001b[0m \u001b[0;34m=\u001b[0m \u001b[0;34m[\u001b[0m\u001b[0mtl\u001b[0m\u001b[0;34m.\u001b[0m\u001b[0minfer_idx\u001b[0m\u001b[0;34m(\u001b[0m\u001b[0mget_first\u001b[0m\u001b[0;34m(\u001b[0m\u001b[0mtest_items\u001b[0m\u001b[0;34m)\u001b[0m\u001b[0;34m)\u001b[0m \u001b[0;32mfor\u001b[0m \u001b[0mtl\u001b[0m \u001b[0;32min\u001b[0m \u001b[0mtest_tls\u001b[0m\u001b[0;34m]\u001b[0m\u001b[0;34m\u001b[0m\u001b[0;34m\u001b[0m\u001b[0m\n\u001b[0m\u001b[1;32m    366\u001b[0m         \u001b[0;32melse\u001b[0m\u001b[0;34m:\u001b[0m               \u001b[0mrm_tfms\u001b[0m \u001b[0;34m=\u001b[0m \u001b[0mtuplify\u001b[0m\u001b[0;34m(\u001b[0m\u001b[0mrm_tfms\u001b[0m\u001b[0;34m,\u001b[0m \u001b[0mmatch\u001b[0m\u001b[0;34m=\u001b[0m\u001b[0mtest_tls\u001b[0m\u001b[0;34m)\u001b[0m\u001b[0;34m\u001b[0m\u001b[0;34m\u001b[0m\u001b[0m\n\u001b[1;32m    367\u001b[0m         \u001b[0;32mfor\u001b[0m \u001b[0mi\u001b[0m\u001b[0;34m,\u001b[0m\u001b[0mj\u001b[0m \u001b[0;32min\u001b[0m \u001b[0menumerate\u001b[0m\u001b[0;34m(\u001b[0m\u001b[0mrm_tfms\u001b[0m\u001b[0;34m)\u001b[0m\u001b[0;34m:\u001b[0m \u001b[0mtest_tls\u001b[0m\u001b[0;34m[\u001b[0m\u001b[0mi\u001b[0m\u001b[0;34m]\u001b[0m\u001b[0;34m.\u001b[0m\u001b[0mtfms\u001b[0m\u001b[0;34m.\u001b[0m\u001b[0mfs\u001b[0m \u001b[0;34m=\u001b[0m \u001b[0mtest_tls\u001b[0m\u001b[0;34m[\u001b[0m\u001b[0mi\u001b[0m\u001b[0;34m]\u001b[0m\u001b[0;34m.\u001b[0m\u001b[0mtfms\u001b[0m\u001b[0;34m.\u001b[0m\u001b[0mfs\u001b[0m\u001b[0;34m[\u001b[0m\u001b[0mj\u001b[0m\u001b[0;34m:\u001b[0m\u001b[0;34m]\u001b[0m\u001b[0;34m\u001b[0m\u001b[0;34m\u001b[0m\u001b[0m\n",
      "\u001b[0;32m/usr/local/lib/python3.6/dist-packages/fastai/data/core.py\u001b[0m in \u001b[0;36minfer_idx\u001b[0;34m(self, x)\u001b[0m\n\u001b[1;32m    269\u001b[0m         \u001b[0mtypes\u001b[0m \u001b[0;34m=\u001b[0m \u001b[0mL\u001b[0m\u001b[0;34m(\u001b[0m\u001b[0mt\u001b[0m \u001b[0;32mif\u001b[0m \u001b[0mis_listy\u001b[0m\u001b[0;34m(\u001b[0m\u001b[0mt\u001b[0m\u001b[0;34m)\u001b[0m \u001b[0;32melse\u001b[0m \u001b[0;34m[\u001b[0m\u001b[0mt\u001b[0m\u001b[0;34m]\u001b[0m \u001b[0;32mfor\u001b[0m \u001b[0mt\u001b[0m \u001b[0;32min\u001b[0m \u001b[0mself\u001b[0m\u001b[0;34m.\u001b[0m\u001b[0mtypes\u001b[0m\u001b[0;34m)\u001b[0m\u001b[0;34m.\u001b[0m\u001b[0mconcat\u001b[0m\u001b[0;34m(\u001b[0m\u001b[0;34m)\u001b[0m\u001b[0;34m.\u001b[0m\u001b[0munique\u001b[0m\u001b[0;34m(\u001b[0m\u001b[0;34m)\u001b[0m\u001b[0;34m\u001b[0m\u001b[0;34m\u001b[0m\u001b[0m\n\u001b[1;32m    270\u001b[0m         \u001b[0mpretty_types\u001b[0m \u001b[0;34m=\u001b[0m \u001b[0;34m'\\n'\u001b[0m\u001b[0;34m.\u001b[0m\u001b[0mjoin\u001b[0m\u001b[0;34m(\u001b[0m\u001b[0;34m[\u001b[0m\u001b[0;34mf'  - {t}'\u001b[0m \u001b[0;32mfor\u001b[0m \u001b[0mt\u001b[0m \u001b[0;32min\u001b[0m \u001b[0mtypes\u001b[0m\u001b[0;34m]\u001b[0m\u001b[0;34m)\u001b[0m\u001b[0;34m\u001b[0m\u001b[0;34m\u001b[0m\u001b[0m\n\u001b[0;32m--> 271\u001b[0;31m         \u001b[0;32massert\u001b[0m \u001b[0midx\u001b[0m \u001b[0;34m<\u001b[0m \u001b[0mlen\u001b[0m\u001b[0;34m(\u001b[0m\u001b[0mself\u001b[0m\u001b[0;34m.\u001b[0m\u001b[0mtypes\u001b[0m\u001b[0;34m)\u001b[0m\u001b[0;34m,\u001b[0m \u001b[0;34mf\"Expected an input of type in \\n{pretty_types}\\n but got {type(x)}\"\u001b[0m\u001b[0;34m\u001b[0m\u001b[0;34m\u001b[0m\u001b[0m\n\u001b[0m\u001b[1;32m    272\u001b[0m         \u001b[0;32mreturn\u001b[0m \u001b[0midx\u001b[0m\u001b[0;34m\u001b[0m\u001b[0;34m\u001b[0m\u001b[0m\n\u001b[1;32m    273\u001b[0m \u001b[0;34m\u001b[0m\u001b[0m\n",
      "\u001b[0;31mAssertionError\u001b[0m: Expected an input of type in \n  - <class 'pathlib.PosixPath'>\n  - <class 'pathlib.Path'>\n  - <class 'str'>\n  - <class 'torch.Tensor'>\n  - <class 'numpy.ndarray'>\n  - <class 'bytes'>\n  - <class 'fastai.vision.core.PILImage'>\n but got <class 'list'>"
     ]
    }
   ],
   "source": [
    "learner.predict(list(df_val[\"img_face_path\"]))"
   ]
  },
  {
   "cell_type": "code",
   "execution_count": null,
   "metadata": {
    "colab": {
     "base_uri": "https://localhost:8080/",
     "height": 117,
     "referenced_widgets": [
      "ee5484ee8ade4632af4cd8100556f18b",
      "67e77e28f7e0470294ca35f9e738a5ce",
      "1d39263f87bc47409181d492981a8e3f",
      "ab0c0f2526a44501b5e72a19b82c4022",
      "ecb24134e08a4b91860a825c4389d43c",
      "8e092e3f134a4b639db89183d9ffa22b",
      "3ed32593509b4a23bb2b639834b38f32",
      "3c059194a67f4d37be98dfd22121edaf"
     ]
    },
    "id": "j_UZwj3ZOy_x",
    "outputId": "af734452-18fa-4c82-e393-12f0123f8573"
   },
   "outputs": [
    {
     "name": "stderr",
     "output_type": "stream",
     "text": [
      "/usr/local/lib/python3.6/dist-packages/ipykernel_launcher.py:2: TqdmDeprecationWarning: This function will be removed in tqdm==5.0.0\n",
      "Please use `tqdm.notebook.tqdm` instead of `tqdm.tqdm_notebook`\n",
      "  \n"
     ]
    },
    {
     "data": {
      "application/vnd.jupyter.widget-view+json": {
       "model_id": "ee5484ee8ade4632af4cd8100556f18b",
       "version_major": 2,
       "version_minor": 0
      },
      "text/plain": [
       "HBox(children=(FloatProgress(value=0.0, max=27.0), HTML(value='')))"
      ]
     },
     "metadata": {
      "tags": []
     },
     "output_type": "display_data"
    },
    {
     "data": {
      "text/html": [],
      "text/plain": [
       "<IPython.core.display.HTML object>"
      ]
     },
     "metadata": {
      "tags": []
     },
     "output_type": "display_data"
    },
    {
     "data": {
      "text/html": [],
      "text/plain": [
       "<IPython.core.display.HTML object>"
      ]
     },
     "metadata": {
      "tags": []
     },
     "output_type": "display_data"
    },
    {
     "data": {
      "text/html": [],
      "text/plain": [
       "<IPython.core.display.HTML object>"
      ]
     },
     "metadata": {
      "tags": []
     },
     "output_type": "display_data"
    },
    {
     "data": {
      "text/html": [],
      "text/plain": [
       "<IPython.core.display.HTML object>"
      ]
     },
     "metadata": {
      "tags": []
     },
     "output_type": "display_data"
    },
    {
     "data": {
      "text/html": [],
      "text/plain": [
       "<IPython.core.display.HTML object>"
      ]
     },
     "metadata": {
      "tags": []
     },
     "output_type": "display_data"
    },
    {
     "data": {
      "text/html": [],
      "text/plain": [
       "<IPython.core.display.HTML object>"
      ]
     },
     "metadata": {
      "tags": []
     },
     "output_type": "display_data"
    },
    {
     "data": {
      "text/html": [],
      "text/plain": [
       "<IPython.core.display.HTML object>"
      ]
     },
     "metadata": {
      "tags": []
     },
     "output_type": "display_data"
    },
    {
     "data": {
      "text/html": [],
      "text/plain": [
       "<IPython.core.display.HTML object>"
      ]
     },
     "metadata": {
      "tags": []
     },
     "output_type": "display_data"
    },
    {
     "data": {
      "text/html": [],
      "text/plain": [
       "<IPython.core.display.HTML object>"
      ]
     },
     "metadata": {
      "tags": []
     },
     "output_type": "display_data"
    },
    {
     "data": {
      "text/html": [],
      "text/plain": [
       "<IPython.core.display.HTML object>"
      ]
     },
     "metadata": {
      "tags": []
     },
     "output_type": "display_data"
    },
    {
     "data": {
      "text/html": [],
      "text/plain": [
       "<IPython.core.display.HTML object>"
      ]
     },
     "metadata": {
      "tags": []
     },
     "output_type": "display_data"
    },
    {
     "data": {
      "text/html": [],
      "text/plain": [
       "<IPython.core.display.HTML object>"
      ]
     },
     "metadata": {
      "tags": []
     },
     "output_type": "display_data"
    },
    {
     "data": {
      "text/html": [],
      "text/plain": [
       "<IPython.core.display.HTML object>"
      ]
     },
     "metadata": {
      "tags": []
     },
     "output_type": "display_data"
    },
    {
     "data": {
      "text/html": [],
      "text/plain": [
       "<IPython.core.display.HTML object>"
      ]
     },
     "metadata": {
      "tags": []
     },
     "output_type": "display_data"
    },
    {
     "data": {
      "text/html": [],
      "text/plain": [
       "<IPython.core.display.HTML object>"
      ]
     },
     "metadata": {
      "tags": []
     },
     "output_type": "display_data"
    },
    {
     "data": {
      "text/html": [],
      "text/plain": [
       "<IPython.core.display.HTML object>"
      ]
     },
     "metadata": {
      "tags": []
     },
     "output_type": "display_data"
    },
    {
     "data": {
      "text/html": [],
      "text/plain": [
       "<IPython.core.display.HTML object>"
      ]
     },
     "metadata": {
      "tags": []
     },
     "output_type": "display_data"
    },
    {
     "data": {
      "text/html": [],
      "text/plain": [
       "<IPython.core.display.HTML object>"
      ]
     },
     "metadata": {
      "tags": []
     },
     "output_type": "display_data"
    },
    {
     "data": {
      "text/html": [],
      "text/plain": [
       "<IPython.core.display.HTML object>"
      ]
     },
     "metadata": {
      "tags": []
     },
     "output_type": "display_data"
    },
    {
     "data": {
      "text/html": [],
      "text/plain": [
       "<IPython.core.display.HTML object>"
      ]
     },
     "metadata": {
      "tags": []
     },
     "output_type": "display_data"
    },
    {
     "data": {
      "text/html": [],
      "text/plain": [
       "<IPython.core.display.HTML object>"
      ]
     },
     "metadata": {
      "tags": []
     },
     "output_type": "display_data"
    },
    {
     "data": {
      "text/html": [],
      "text/plain": [
       "<IPython.core.display.HTML object>"
      ]
     },
     "metadata": {
      "tags": []
     },
     "output_type": "display_data"
    },
    {
     "data": {
      "text/html": [],
      "text/plain": [
       "<IPython.core.display.HTML object>"
      ]
     },
     "metadata": {
      "tags": []
     },
     "output_type": "display_data"
    },
    {
     "data": {
      "text/html": [],
      "text/plain": [
       "<IPython.core.display.HTML object>"
      ]
     },
     "metadata": {
      "tags": []
     },
     "output_type": "display_data"
    },
    {
     "data": {
      "text/html": [],
      "text/plain": [
       "<IPython.core.display.HTML object>"
      ]
     },
     "metadata": {
      "tags": []
     },
     "output_type": "display_data"
    },
    {
     "data": {
      "text/html": [],
      "text/plain": [
       "<IPython.core.display.HTML object>"
      ]
     },
     "metadata": {
      "tags": []
     },
     "output_type": "display_data"
    },
    {
     "data": {
      "text/html": [],
      "text/plain": [
       "<IPython.core.display.HTML object>"
      ]
     },
     "metadata": {
      "tags": []
     },
     "output_type": "display_data"
    },
    {
     "data": {
      "text/html": [],
      "text/plain": [
       "<IPython.core.display.HTML object>"
      ]
     },
     "metadata": {
      "tags": []
     },
     "output_type": "display_data"
    },
    {
     "data": {
      "text/html": [],
      "text/plain": [
       "<IPython.core.display.HTML object>"
      ]
     },
     "metadata": {
      "tags": []
     },
     "output_type": "display_data"
    },
    {
     "data": {
      "text/html": [],
      "text/plain": [
       "<IPython.core.display.HTML object>"
      ]
     },
     "metadata": {
      "tags": []
     },
     "output_type": "display_data"
    },
    {
     "data": {
      "text/html": [],
      "text/plain": [
       "<IPython.core.display.HTML object>"
      ]
     },
     "metadata": {
      "tags": []
     },
     "output_type": "display_data"
    },
    {
     "data": {
      "text/html": [],
      "text/plain": [
       "<IPython.core.display.HTML object>"
      ]
     },
     "metadata": {
      "tags": []
     },
     "output_type": "display_data"
    },
    {
     "data": {
      "text/html": [],
      "text/plain": [
       "<IPython.core.display.HTML object>"
      ]
     },
     "metadata": {
      "tags": []
     },
     "output_type": "display_data"
    },
    {
     "data": {
      "text/html": [],
      "text/plain": [
       "<IPython.core.display.HTML object>"
      ]
     },
     "metadata": {
      "tags": []
     },
     "output_type": "display_data"
    },
    {
     "data": {
      "text/html": [],
      "text/plain": [
       "<IPython.core.display.HTML object>"
      ]
     },
     "metadata": {
      "tags": []
     },
     "output_type": "display_data"
    },
    {
     "data": {
      "text/html": [],
      "text/plain": [
       "<IPython.core.display.HTML object>"
      ]
     },
     "metadata": {
      "tags": []
     },
     "output_type": "display_data"
    },
    {
     "data": {
      "text/html": [],
      "text/plain": [
       "<IPython.core.display.HTML object>"
      ]
     },
     "metadata": {
      "tags": []
     },
     "output_type": "display_data"
    },
    {
     "data": {
      "text/html": [],
      "text/plain": [
       "<IPython.core.display.HTML object>"
      ]
     },
     "metadata": {
      "tags": []
     },
     "output_type": "display_data"
    },
    {
     "data": {
      "text/html": [],
      "text/plain": [
       "<IPython.core.display.HTML object>"
      ]
     },
     "metadata": {
      "tags": []
     },
     "output_type": "display_data"
    },
    {
     "data": {
      "text/html": [],
      "text/plain": [
       "<IPython.core.display.HTML object>"
      ]
     },
     "metadata": {
      "tags": []
     },
     "output_type": "display_data"
    },
    {
     "data": {
      "text/html": [],
      "text/plain": [
       "<IPython.core.display.HTML object>"
      ]
     },
     "metadata": {
      "tags": []
     },
     "output_type": "display_data"
    },
    {
     "data": {
      "text/html": [],
      "text/plain": [
       "<IPython.core.display.HTML object>"
      ]
     },
     "metadata": {
      "tags": []
     },
     "output_type": "display_data"
    },
    {
     "data": {
      "text/html": [],
      "text/plain": [
       "<IPython.core.display.HTML object>"
      ]
     },
     "metadata": {
      "tags": []
     },
     "output_type": "display_data"
    },
    {
     "data": {
      "text/html": [],
      "text/plain": [
       "<IPython.core.display.HTML object>"
      ]
     },
     "metadata": {
      "tags": []
     },
     "output_type": "display_data"
    },
    {
     "data": {
      "text/html": [],
      "text/plain": [
       "<IPython.core.display.HTML object>"
      ]
     },
     "metadata": {
      "tags": []
     },
     "output_type": "display_data"
    },
    {
     "data": {
      "text/html": [],
      "text/plain": [
       "<IPython.core.display.HTML object>"
      ]
     },
     "metadata": {
      "tags": []
     },
     "output_type": "display_data"
    },
    {
     "data": {
      "text/html": [],
      "text/plain": [
       "<IPython.core.display.HTML object>"
      ]
     },
     "metadata": {
      "tags": []
     },
     "output_type": "display_data"
    },
    {
     "data": {
      "text/html": [],
      "text/plain": [
       "<IPython.core.display.HTML object>"
      ]
     },
     "metadata": {
      "tags": []
     },
     "output_type": "display_data"
    },
    {
     "data": {
      "text/html": [],
      "text/plain": [
       "<IPython.core.display.HTML object>"
      ]
     },
     "metadata": {
      "tags": []
     },
     "output_type": "display_data"
    },
    {
     "data": {
      "text/html": [],
      "text/plain": [
       "<IPython.core.display.HTML object>"
      ]
     },
     "metadata": {
      "tags": []
     },
     "output_type": "display_data"
    },
    {
     "data": {
      "text/html": [],
      "text/plain": [
       "<IPython.core.display.HTML object>"
      ]
     },
     "metadata": {
      "tags": []
     },
     "output_type": "display_data"
    },
    {
     "data": {
      "text/html": [],
      "text/plain": [
       "<IPython.core.display.HTML object>"
      ]
     },
     "metadata": {
      "tags": []
     },
     "output_type": "display_data"
    },
    {
     "data": {
      "text/html": [],
      "text/plain": [
       "<IPython.core.display.HTML object>"
      ]
     },
     "metadata": {
      "tags": []
     },
     "output_type": "display_data"
    },
    {
     "data": {
      "text/html": [],
      "text/plain": [
       "<IPython.core.display.HTML object>"
      ]
     },
     "metadata": {
      "tags": []
     },
     "output_type": "display_data"
    },
    {
     "data": {
      "text/html": [],
      "text/plain": [
       "<IPython.core.display.HTML object>"
      ]
     },
     "metadata": {
      "tags": []
     },
     "output_type": "display_data"
    },
    {
     "data": {
      "text/html": [],
      "text/plain": [
       "<IPython.core.display.HTML object>"
      ]
     },
     "metadata": {
      "tags": []
     },
     "output_type": "display_data"
    },
    {
     "data": {
      "text/html": [],
      "text/plain": [
       "<IPython.core.display.HTML object>"
      ]
     },
     "metadata": {
      "tags": []
     },
     "output_type": "display_data"
    },
    {
     "data": {
      "text/html": [],
      "text/plain": [
       "<IPython.core.display.HTML object>"
      ]
     },
     "metadata": {
      "tags": []
     },
     "output_type": "display_data"
    },
    {
     "data": {
      "text/html": [],
      "text/plain": [
       "<IPython.core.display.HTML object>"
      ]
     },
     "metadata": {
      "tags": []
     },
     "output_type": "display_data"
    },
    {
     "data": {
      "text/html": [],
      "text/plain": [
       "<IPython.core.display.HTML object>"
      ]
     },
     "metadata": {
      "tags": []
     },
     "output_type": "display_data"
    },
    {
     "data": {
      "text/html": [],
      "text/plain": [
       "<IPython.core.display.HTML object>"
      ]
     },
     "metadata": {
      "tags": []
     },
     "output_type": "display_data"
    },
    {
     "data": {
      "text/html": [],
      "text/plain": [
       "<IPython.core.display.HTML object>"
      ]
     },
     "metadata": {
      "tags": []
     },
     "output_type": "display_data"
    },
    {
     "data": {
      "text/html": [],
      "text/plain": [
       "<IPython.core.display.HTML object>"
      ]
     },
     "metadata": {
      "tags": []
     },
     "output_type": "display_data"
    },
    {
     "data": {
      "text/html": [],
      "text/plain": [
       "<IPython.core.display.HTML object>"
      ]
     },
     "metadata": {
      "tags": []
     },
     "output_type": "display_data"
    },
    {
     "data": {
      "text/html": [],
      "text/plain": [
       "<IPython.core.display.HTML object>"
      ]
     },
     "metadata": {
      "tags": []
     },
     "output_type": "display_data"
    },
    {
     "data": {
      "text/html": [],
      "text/plain": [
       "<IPython.core.display.HTML object>"
      ]
     },
     "metadata": {
      "tags": []
     },
     "output_type": "display_data"
    },
    {
     "data": {
      "text/html": [],
      "text/plain": [
       "<IPython.core.display.HTML object>"
      ]
     },
     "metadata": {
      "tags": []
     },
     "output_type": "display_data"
    },
    {
     "data": {
      "text/html": [],
      "text/plain": [
       "<IPython.core.display.HTML object>"
      ]
     },
     "metadata": {
      "tags": []
     },
     "output_type": "display_data"
    },
    {
     "data": {
      "text/html": [],
      "text/plain": [
       "<IPython.core.display.HTML object>"
      ]
     },
     "metadata": {
      "tags": []
     },
     "output_type": "display_data"
    },
    {
     "data": {
      "text/html": [],
      "text/plain": [
       "<IPython.core.display.HTML object>"
      ]
     },
     "metadata": {
      "tags": []
     },
     "output_type": "display_data"
    },
    {
     "data": {
      "text/html": [],
      "text/plain": [
       "<IPython.core.display.HTML object>"
      ]
     },
     "metadata": {
      "tags": []
     },
     "output_type": "display_data"
    },
    {
     "data": {
      "text/html": [],
      "text/plain": [
       "<IPython.core.display.HTML object>"
      ]
     },
     "metadata": {
      "tags": []
     },
     "output_type": "display_data"
    },
    {
     "data": {
      "text/html": [],
      "text/plain": [
       "<IPython.core.display.HTML object>"
      ]
     },
     "metadata": {
      "tags": []
     },
     "output_type": "display_data"
    },
    {
     "data": {
      "text/html": [],
      "text/plain": [
       "<IPython.core.display.HTML object>"
      ]
     },
     "metadata": {
      "tags": []
     },
     "output_type": "display_data"
    },
    {
     "data": {
      "text/html": [],
      "text/plain": [
       "<IPython.core.display.HTML object>"
      ]
     },
     "metadata": {
      "tags": []
     },
     "output_type": "display_data"
    },
    {
     "data": {
      "text/html": [],
      "text/plain": [
       "<IPython.core.display.HTML object>"
      ]
     },
     "metadata": {
      "tags": []
     },
     "output_type": "display_data"
    },
    {
     "data": {
      "text/html": [],
      "text/plain": [
       "<IPython.core.display.HTML object>"
      ]
     },
     "metadata": {
      "tags": []
     },
     "output_type": "display_data"
    },
    {
     "data": {
      "text/html": [],
      "text/plain": [
       "<IPython.core.display.HTML object>"
      ]
     },
     "metadata": {
      "tags": []
     },
     "output_type": "display_data"
    },
    {
     "data": {
      "text/html": [],
      "text/plain": [
       "<IPython.core.display.HTML object>"
      ]
     },
     "metadata": {
      "tags": []
     },
     "output_type": "display_data"
    },
    {
     "data": {
      "text/html": [],
      "text/plain": [
       "<IPython.core.display.HTML object>"
      ]
     },
     "metadata": {
      "tags": []
     },
     "output_type": "display_data"
    },
    {
     "data": {
      "text/html": [],
      "text/plain": [
       "<IPython.core.display.HTML object>"
      ]
     },
     "metadata": {
      "tags": []
     },
     "output_type": "display_data"
    },
    {
     "data": {
      "text/html": [],
      "text/plain": [
       "<IPython.core.display.HTML object>"
      ]
     },
     "metadata": {
      "tags": []
     },
     "output_type": "display_data"
    },
    {
     "data": {
      "text/html": [],
      "text/plain": [
       "<IPython.core.display.HTML object>"
      ]
     },
     "metadata": {
      "tags": []
     },
     "output_type": "display_data"
    },
    {
     "data": {
      "text/html": [],
      "text/plain": [
       "<IPython.core.display.HTML object>"
      ]
     },
     "metadata": {
      "tags": []
     },
     "output_type": "display_data"
    },
    {
     "data": {
      "text/html": [],
      "text/plain": [
       "<IPython.core.display.HTML object>"
      ]
     },
     "metadata": {
      "tags": []
     },
     "output_type": "display_data"
    },
    {
     "data": {
      "text/html": [],
      "text/plain": [
       "<IPython.core.display.HTML object>"
      ]
     },
     "metadata": {
      "tags": []
     },
     "output_type": "display_data"
    },
    {
     "data": {
      "text/html": [],
      "text/plain": [
       "<IPython.core.display.HTML object>"
      ]
     },
     "metadata": {
      "tags": []
     },
     "output_type": "display_data"
    },
    {
     "data": {
      "text/html": [],
      "text/plain": [
       "<IPython.core.display.HTML object>"
      ]
     },
     "metadata": {
      "tags": []
     },
     "output_type": "display_data"
    },
    {
     "data": {
      "text/html": [],
      "text/plain": [
       "<IPython.core.display.HTML object>"
      ]
     },
     "metadata": {
      "tags": []
     },
     "output_type": "display_data"
    },
    {
     "data": {
      "text/html": [],
      "text/plain": [
       "<IPython.core.display.HTML object>"
      ]
     },
     "metadata": {
      "tags": []
     },
     "output_type": "display_data"
    },
    {
     "data": {
      "text/html": [],
      "text/plain": [
       "<IPython.core.display.HTML object>"
      ]
     },
     "metadata": {
      "tags": []
     },
     "output_type": "display_data"
    },
    {
     "data": {
      "text/html": [],
      "text/plain": [
       "<IPython.core.display.HTML object>"
      ]
     },
     "metadata": {
      "tags": []
     },
     "output_type": "display_data"
    },
    {
     "data": {
      "text/html": [],
      "text/plain": [
       "<IPython.core.display.HTML object>"
      ]
     },
     "metadata": {
      "tags": []
     },
     "output_type": "display_data"
    },
    {
     "data": {
      "text/html": [],
      "text/plain": [
       "<IPython.core.display.HTML object>"
      ]
     },
     "metadata": {
      "tags": []
     },
     "output_type": "display_data"
    },
    {
     "data": {
      "text/html": [],
      "text/plain": [
       "<IPython.core.display.HTML object>"
      ]
     },
     "metadata": {
      "tags": []
     },
     "output_type": "display_data"
    },
    {
     "data": {
      "text/html": [],
      "text/plain": [
       "<IPython.core.display.HTML object>"
      ]
     },
     "metadata": {
      "tags": []
     },
     "output_type": "display_data"
    },
    {
     "data": {
      "text/html": [],
      "text/plain": [
       "<IPython.core.display.HTML object>"
      ]
     },
     "metadata": {
      "tags": []
     },
     "output_type": "display_data"
    },
    {
     "data": {
      "text/html": [],
      "text/plain": [
       "<IPython.core.display.HTML object>"
      ]
     },
     "metadata": {
      "tags": []
     },
     "output_type": "display_data"
    },
    {
     "data": {
      "text/html": [],
      "text/plain": [
       "<IPython.core.display.HTML object>"
      ]
     },
     "metadata": {
      "tags": []
     },
     "output_type": "display_data"
    },
    {
     "data": {
      "text/html": [],
      "text/plain": [
       "<IPython.core.display.HTML object>"
      ]
     },
     "metadata": {
      "tags": []
     },
     "output_type": "display_data"
    },
    {
     "data": {
      "text/html": [],
      "text/plain": [
       "<IPython.core.display.HTML object>"
      ]
     },
     "metadata": {
      "tags": []
     },
     "output_type": "display_data"
    },
    {
     "data": {
      "text/html": [],
      "text/plain": [
       "<IPython.core.display.HTML object>"
      ]
     },
     "metadata": {
      "tags": []
     },
     "output_type": "display_data"
    },
    {
     "data": {
      "text/html": [],
      "text/plain": [
       "<IPython.core.display.HTML object>"
      ]
     },
     "metadata": {
      "tags": []
     },
     "output_type": "display_data"
    },
    {
     "data": {
      "text/html": [],
      "text/plain": [
       "<IPython.core.display.HTML object>"
      ]
     },
     "metadata": {
      "tags": []
     },
     "output_type": "display_data"
    },
    {
     "data": {
      "text/html": [],
      "text/plain": [
       "<IPython.core.display.HTML object>"
      ]
     },
     "metadata": {
      "tags": []
     },
     "output_type": "display_data"
    },
    {
     "data": {
      "text/html": [],
      "text/plain": [
       "<IPython.core.display.HTML object>"
      ]
     },
     "metadata": {
      "tags": []
     },
     "output_type": "display_data"
    },
    {
     "data": {
      "text/html": [],
      "text/plain": [
       "<IPython.core.display.HTML object>"
      ]
     },
     "metadata": {
      "tags": []
     },
     "output_type": "display_data"
    },
    {
     "data": {
      "text/html": [],
      "text/plain": [
       "<IPython.core.display.HTML object>"
      ]
     },
     "metadata": {
      "tags": []
     },
     "output_type": "display_data"
    },
    {
     "data": {
      "text/html": [],
      "text/plain": [
       "<IPython.core.display.HTML object>"
      ]
     },
     "metadata": {
      "tags": []
     },
     "output_type": "display_data"
    },
    {
     "data": {
      "text/html": [],
      "text/plain": [
       "<IPython.core.display.HTML object>"
      ]
     },
     "metadata": {
      "tags": []
     },
     "output_type": "display_data"
    },
    {
     "data": {
      "text/html": [],
      "text/plain": [
       "<IPython.core.display.HTML object>"
      ]
     },
     "metadata": {
      "tags": []
     },
     "output_type": "display_data"
    },
    {
     "data": {
      "text/html": [],
      "text/plain": [
       "<IPython.core.display.HTML object>"
      ]
     },
     "metadata": {
      "tags": []
     },
     "output_type": "display_data"
    },
    {
     "data": {
      "text/html": [],
      "text/plain": [
       "<IPython.core.display.HTML object>"
      ]
     },
     "metadata": {
      "tags": []
     },
     "output_type": "display_data"
    },
    {
     "data": {
      "text/html": [],
      "text/plain": [
       "<IPython.core.display.HTML object>"
      ]
     },
     "metadata": {
      "tags": []
     },
     "output_type": "display_data"
    },
    {
     "data": {
      "text/html": [],
      "text/plain": [
       "<IPython.core.display.HTML object>"
      ]
     },
     "metadata": {
      "tags": []
     },
     "output_type": "display_data"
    },
    {
     "data": {
      "text/html": [],
      "text/plain": [
       "<IPython.core.display.HTML object>"
      ]
     },
     "metadata": {
      "tags": []
     },
     "output_type": "display_data"
    },
    {
     "data": {
      "text/html": [],
      "text/plain": [
       "<IPython.core.display.HTML object>"
      ]
     },
     "metadata": {
      "tags": []
     },
     "output_type": "display_data"
    },
    {
     "data": {
      "text/html": [],
      "text/plain": [
       "<IPython.core.display.HTML object>"
      ]
     },
     "metadata": {
      "tags": []
     },
     "output_type": "display_data"
    },
    {
     "data": {
      "text/html": [],
      "text/plain": [
       "<IPython.core.display.HTML object>"
      ]
     },
     "metadata": {
      "tags": []
     },
     "output_type": "display_data"
    },
    {
     "data": {
      "text/html": [],
      "text/plain": [
       "<IPython.core.display.HTML object>"
      ]
     },
     "metadata": {
      "tags": []
     },
     "output_type": "display_data"
    },
    {
     "data": {
      "text/html": [],
      "text/plain": [
       "<IPython.core.display.HTML object>"
      ]
     },
     "metadata": {
      "tags": []
     },
     "output_type": "display_data"
    },
    {
     "data": {
      "text/html": [],
      "text/plain": [
       "<IPython.core.display.HTML object>"
      ]
     },
     "metadata": {
      "tags": []
     },
     "output_type": "display_data"
    },
    {
     "data": {
      "text/html": [],
      "text/plain": [
       "<IPython.core.display.HTML object>"
      ]
     },
     "metadata": {
      "tags": []
     },
     "output_type": "display_data"
    },
    {
     "data": {
      "text/html": [],
      "text/plain": [
       "<IPython.core.display.HTML object>"
      ]
     },
     "metadata": {
      "tags": []
     },
     "output_type": "display_data"
    },
    {
     "data": {
      "text/html": [],
      "text/plain": [
       "<IPython.core.display.HTML object>"
      ]
     },
     "metadata": {
      "tags": []
     },
     "output_type": "display_data"
    },
    {
     "data": {
      "text/html": [],
      "text/plain": [
       "<IPython.core.display.HTML object>"
      ]
     },
     "metadata": {
      "tags": []
     },
     "output_type": "display_data"
    },
    {
     "data": {
      "text/html": [],
      "text/plain": [
       "<IPython.core.display.HTML object>"
      ]
     },
     "metadata": {
      "tags": []
     },
     "output_type": "display_data"
    },
    {
     "data": {
      "text/html": [],
      "text/plain": [
       "<IPython.core.display.HTML object>"
      ]
     },
     "metadata": {
      "tags": []
     },
     "output_type": "display_data"
    },
    {
     "data": {
      "text/html": [],
      "text/plain": [
       "<IPython.core.display.HTML object>"
      ]
     },
     "metadata": {
      "tags": []
     },
     "output_type": "display_data"
    },
    {
     "data": {
      "text/html": [],
      "text/plain": [
       "<IPython.core.display.HTML object>"
      ]
     },
     "metadata": {
      "tags": []
     },
     "output_type": "display_data"
    },
    {
     "data": {
      "text/html": [],
      "text/plain": [
       "<IPython.core.display.HTML object>"
      ]
     },
     "metadata": {
      "tags": []
     },
     "output_type": "display_data"
    },
    {
     "data": {
      "text/html": [],
      "text/plain": [
       "<IPython.core.display.HTML object>"
      ]
     },
     "metadata": {
      "tags": []
     },
     "output_type": "display_data"
    },
    {
     "data": {
      "text/html": [],
      "text/plain": [
       "<IPython.core.display.HTML object>"
      ]
     },
     "metadata": {
      "tags": []
     },
     "output_type": "display_data"
    },
    {
     "data": {
      "text/html": [],
      "text/plain": [
       "<IPython.core.display.HTML object>"
      ]
     },
     "metadata": {
      "tags": []
     },
     "output_type": "display_data"
    },
    {
     "data": {
      "text/html": [],
      "text/plain": [
       "<IPython.core.display.HTML object>"
      ]
     },
     "metadata": {
      "tags": []
     },
     "output_type": "display_data"
    },
    {
     "data": {
      "text/html": [],
      "text/plain": [
       "<IPython.core.display.HTML object>"
      ]
     },
     "metadata": {
      "tags": []
     },
     "output_type": "display_data"
    },
    {
     "data": {
      "text/html": [],
      "text/plain": [
       "<IPython.core.display.HTML object>"
      ]
     },
     "metadata": {
      "tags": []
     },
     "output_type": "display_data"
    },
    {
     "data": {
      "text/html": [],
      "text/plain": [
       "<IPython.core.display.HTML object>"
      ]
     },
     "metadata": {
      "tags": []
     },
     "output_type": "display_data"
    },
    {
     "data": {
      "text/html": [],
      "text/plain": [
       "<IPython.core.display.HTML object>"
      ]
     },
     "metadata": {
      "tags": []
     },
     "output_type": "display_data"
    },
    {
     "data": {
      "text/html": [],
      "text/plain": [
       "<IPython.core.display.HTML object>"
      ]
     },
     "metadata": {
      "tags": []
     },
     "output_type": "display_data"
    },
    {
     "data": {
      "text/html": [],
      "text/plain": [
       "<IPython.core.display.HTML object>"
      ]
     },
     "metadata": {
      "tags": []
     },
     "output_type": "display_data"
    },
    {
     "data": {
      "text/html": [],
      "text/plain": [
       "<IPython.core.display.HTML object>"
      ]
     },
     "metadata": {
      "tags": []
     },
     "output_type": "display_data"
    },
    {
     "data": {
      "text/html": [],
      "text/plain": [
       "<IPython.core.display.HTML object>"
      ]
     },
     "metadata": {
      "tags": []
     },
     "output_type": "display_data"
    },
    {
     "data": {
      "text/html": [],
      "text/plain": [
       "<IPython.core.display.HTML object>"
      ]
     },
     "metadata": {
      "tags": []
     },
     "output_type": "display_data"
    },
    {
     "data": {
      "text/html": [],
      "text/plain": [
       "<IPython.core.display.HTML object>"
      ]
     },
     "metadata": {
      "tags": []
     },
     "output_type": "display_data"
    },
    {
     "data": {
      "text/html": [],
      "text/plain": [
       "<IPython.core.display.HTML object>"
      ]
     },
     "metadata": {
      "tags": []
     },
     "output_type": "display_data"
    },
    {
     "data": {
      "text/html": [],
      "text/plain": [
       "<IPython.core.display.HTML object>"
      ]
     },
     "metadata": {
      "tags": []
     },
     "output_type": "display_data"
    },
    {
     "data": {
      "text/html": [],
      "text/plain": [
       "<IPython.core.display.HTML object>"
      ]
     },
     "metadata": {
      "tags": []
     },
     "output_type": "display_data"
    },
    {
     "data": {
      "text/html": [],
      "text/plain": [
       "<IPython.core.display.HTML object>"
      ]
     },
     "metadata": {
      "tags": []
     },
     "output_type": "display_data"
    },
    {
     "data": {
      "text/html": [],
      "text/plain": [
       "<IPython.core.display.HTML object>"
      ]
     },
     "metadata": {
      "tags": []
     },
     "output_type": "display_data"
    },
    {
     "data": {
      "text/html": [],
      "text/plain": [
       "<IPython.core.display.HTML object>"
      ]
     },
     "metadata": {
      "tags": []
     },
     "output_type": "display_data"
    },
    {
     "data": {
      "text/html": [],
      "text/plain": [
       "<IPython.core.display.HTML object>"
      ]
     },
     "metadata": {
      "tags": []
     },
     "output_type": "display_data"
    },
    {
     "data": {
      "text/html": [],
      "text/plain": [
       "<IPython.core.display.HTML object>"
      ]
     },
     "metadata": {
      "tags": []
     },
     "output_type": "display_data"
    },
    {
     "data": {
      "text/html": [],
      "text/plain": [
       "<IPython.core.display.HTML object>"
      ]
     },
     "metadata": {
      "tags": []
     },
     "output_type": "display_data"
    },
    {
     "data": {
      "text/html": [],
      "text/plain": [
       "<IPython.core.display.HTML object>"
      ]
     },
     "metadata": {
      "tags": []
     },
     "output_type": "display_data"
    },
    {
     "data": {
      "text/html": [],
      "text/plain": [
       "<IPython.core.display.HTML object>"
      ]
     },
     "metadata": {
      "tags": []
     },
     "output_type": "display_data"
    },
    {
     "data": {
      "text/html": [],
      "text/plain": [
       "<IPython.core.display.HTML object>"
      ]
     },
     "metadata": {
      "tags": []
     },
     "output_type": "display_data"
    },
    {
     "data": {
      "text/html": [],
      "text/plain": [
       "<IPython.core.display.HTML object>"
      ]
     },
     "metadata": {
      "tags": []
     },
     "output_type": "display_data"
    },
    {
     "data": {
      "text/html": [],
      "text/plain": [
       "<IPython.core.display.HTML object>"
      ]
     },
     "metadata": {
      "tags": []
     },
     "output_type": "display_data"
    },
    {
     "data": {
      "text/html": [],
      "text/plain": [
       "<IPython.core.display.HTML object>"
      ]
     },
     "metadata": {
      "tags": []
     },
     "output_type": "display_data"
    },
    {
     "data": {
      "text/html": [],
      "text/plain": [
       "<IPython.core.display.HTML object>"
      ]
     },
     "metadata": {
      "tags": []
     },
     "output_type": "display_data"
    },
    {
     "data": {
      "text/html": [],
      "text/plain": [
       "<IPython.core.display.HTML object>"
      ]
     },
     "metadata": {
      "tags": []
     },
     "output_type": "display_data"
    },
    {
     "data": {
      "text/html": [],
      "text/plain": [
       "<IPython.core.display.HTML object>"
      ]
     },
     "metadata": {
      "tags": []
     },
     "output_type": "display_data"
    },
    {
     "data": {
      "text/html": [],
      "text/plain": [
       "<IPython.core.display.HTML object>"
      ]
     },
     "metadata": {
      "tags": []
     },
     "output_type": "display_data"
    },
    {
     "data": {
      "text/html": [],
      "text/plain": [
       "<IPython.core.display.HTML object>"
      ]
     },
     "metadata": {
      "tags": []
     },
     "output_type": "display_data"
    },
    {
     "data": {
      "text/html": [],
      "text/plain": [
       "<IPython.core.display.HTML object>"
      ]
     },
     "metadata": {
      "tags": []
     },
     "output_type": "display_data"
    },
    {
     "data": {
      "text/html": [],
      "text/plain": [
       "<IPython.core.display.HTML object>"
      ]
     },
     "metadata": {
      "tags": []
     },
     "output_type": "display_data"
    },
    {
     "data": {
      "text/html": [],
      "text/plain": [
       "<IPython.core.display.HTML object>"
      ]
     },
     "metadata": {
      "tags": []
     },
     "output_type": "display_data"
    },
    {
     "data": {
      "text/html": [],
      "text/plain": [
       "<IPython.core.display.HTML object>"
      ]
     },
     "metadata": {
      "tags": []
     },
     "output_type": "display_data"
    },
    {
     "data": {
      "text/html": [],
      "text/plain": [
       "<IPython.core.display.HTML object>"
      ]
     },
     "metadata": {
      "tags": []
     },
     "output_type": "display_data"
    },
    {
     "data": {
      "text/html": [],
      "text/plain": [
       "<IPython.core.display.HTML object>"
      ]
     },
     "metadata": {
      "tags": []
     },
     "output_type": "display_data"
    },
    {
     "data": {
      "text/html": [],
      "text/plain": [
       "<IPython.core.display.HTML object>"
      ]
     },
     "metadata": {
      "tags": []
     },
     "output_type": "display_data"
    },
    {
     "data": {
      "text/html": [],
      "text/plain": [
       "<IPython.core.display.HTML object>"
      ]
     },
     "metadata": {
      "tags": []
     },
     "output_type": "display_data"
    },
    {
     "data": {
      "text/html": [],
      "text/plain": [
       "<IPython.core.display.HTML object>"
      ]
     },
     "metadata": {
      "tags": []
     },
     "output_type": "display_data"
    },
    {
     "data": {
      "text/html": [],
      "text/plain": [
       "<IPython.core.display.HTML object>"
      ]
     },
     "metadata": {
      "tags": []
     },
     "output_type": "display_data"
    },
    {
     "data": {
      "text/html": [],
      "text/plain": [
       "<IPython.core.display.HTML object>"
      ]
     },
     "metadata": {
      "tags": []
     },
     "output_type": "display_data"
    },
    {
     "data": {
      "text/html": [],
      "text/plain": [
       "<IPython.core.display.HTML object>"
      ]
     },
     "metadata": {
      "tags": []
     },
     "output_type": "display_data"
    },
    {
     "data": {
      "text/html": [],
      "text/plain": [
       "<IPython.core.display.HTML object>"
      ]
     },
     "metadata": {
      "tags": []
     },
     "output_type": "display_data"
    },
    {
     "data": {
      "text/html": [],
      "text/plain": [
       "<IPython.core.display.HTML object>"
      ]
     },
     "metadata": {
      "tags": []
     },
     "output_type": "display_data"
    },
    {
     "data": {
      "text/html": [],
      "text/plain": [
       "<IPython.core.display.HTML object>"
      ]
     },
     "metadata": {
      "tags": []
     },
     "output_type": "display_data"
    },
    {
     "data": {
      "text/html": [],
      "text/plain": [
       "<IPython.core.display.HTML object>"
      ]
     },
     "metadata": {
      "tags": []
     },
     "output_type": "display_data"
    },
    {
     "data": {
      "text/html": [],
      "text/plain": [
       "<IPython.core.display.HTML object>"
      ]
     },
     "metadata": {
      "tags": []
     },
     "output_type": "display_data"
    },
    {
     "data": {
      "text/html": [],
      "text/plain": [
       "<IPython.core.display.HTML object>"
      ]
     },
     "metadata": {
      "tags": []
     },
     "output_type": "display_data"
    },
    {
     "data": {
      "text/html": [],
      "text/plain": [
       "<IPython.core.display.HTML object>"
      ]
     },
     "metadata": {
      "tags": []
     },
     "output_type": "display_data"
    },
    {
     "data": {
      "text/html": [],
      "text/plain": [
       "<IPython.core.display.HTML object>"
      ]
     },
     "metadata": {
      "tags": []
     },
     "output_type": "display_data"
    },
    {
     "data": {
      "text/html": [],
      "text/plain": [
       "<IPython.core.display.HTML object>"
      ]
     },
     "metadata": {
      "tags": []
     },
     "output_type": "display_data"
    },
    {
     "data": {
      "text/html": [],
      "text/plain": [
       "<IPython.core.display.HTML object>"
      ]
     },
     "metadata": {
      "tags": []
     },
     "output_type": "display_data"
    },
    {
     "data": {
      "text/html": [],
      "text/plain": [
       "<IPython.core.display.HTML object>"
      ]
     },
     "metadata": {
      "tags": []
     },
     "output_type": "display_data"
    },
    {
     "data": {
      "text/html": [],
      "text/plain": [
       "<IPython.core.display.HTML object>"
      ]
     },
     "metadata": {
      "tags": []
     },
     "output_type": "display_data"
    },
    {
     "data": {
      "text/html": [],
      "text/plain": [
       "<IPython.core.display.HTML object>"
      ]
     },
     "metadata": {
      "tags": []
     },
     "output_type": "display_data"
    },
    {
     "data": {
      "text/html": [],
      "text/plain": [
       "<IPython.core.display.HTML object>"
      ]
     },
     "metadata": {
      "tags": []
     },
     "output_type": "display_data"
    },
    {
     "data": {
      "text/html": [],
      "text/plain": [
       "<IPython.core.display.HTML object>"
      ]
     },
     "metadata": {
      "tags": []
     },
     "output_type": "display_data"
    },
    {
     "data": {
      "text/html": [],
      "text/plain": [
       "<IPython.core.display.HTML object>"
      ]
     },
     "metadata": {
      "tags": []
     },
     "output_type": "display_data"
    },
    {
     "data": {
      "text/html": [],
      "text/plain": [
       "<IPython.core.display.HTML object>"
      ]
     },
     "metadata": {
      "tags": []
     },
     "output_type": "display_data"
    },
    {
     "data": {
      "text/html": [],
      "text/plain": [
       "<IPython.core.display.HTML object>"
      ]
     },
     "metadata": {
      "tags": []
     },
     "output_type": "display_data"
    },
    {
     "data": {
      "text/html": [],
      "text/plain": [
       "<IPython.core.display.HTML object>"
      ]
     },
     "metadata": {
      "tags": []
     },
     "output_type": "display_data"
    },
    {
     "data": {
      "text/html": [],
      "text/plain": [
       "<IPython.core.display.HTML object>"
      ]
     },
     "metadata": {
      "tags": []
     },
     "output_type": "display_data"
    },
    {
     "data": {
      "text/html": [],
      "text/plain": [
       "<IPython.core.display.HTML object>"
      ]
     },
     "metadata": {
      "tags": []
     },
     "output_type": "display_data"
    },
    {
     "data": {
      "text/html": [],
      "text/plain": [
       "<IPython.core.display.HTML object>"
      ]
     },
     "metadata": {
      "tags": []
     },
     "output_type": "display_data"
    },
    {
     "data": {
      "text/html": [],
      "text/plain": [
       "<IPython.core.display.HTML object>"
      ]
     },
     "metadata": {
      "tags": []
     },
     "output_type": "display_data"
    },
    {
     "data": {
      "text/html": [],
      "text/plain": [
       "<IPython.core.display.HTML object>"
      ]
     },
     "metadata": {
      "tags": []
     },
     "output_type": "display_data"
    },
    {
     "data": {
      "text/html": [],
      "text/plain": [
       "<IPython.core.display.HTML object>"
      ]
     },
     "metadata": {
      "tags": []
     },
     "output_type": "display_data"
    },
    {
     "data": {
      "text/html": [],
      "text/plain": [
       "<IPython.core.display.HTML object>"
      ]
     },
     "metadata": {
      "tags": []
     },
     "output_type": "display_data"
    },
    {
     "data": {
      "text/html": [],
      "text/plain": [
       "<IPython.core.display.HTML object>"
      ]
     },
     "metadata": {
      "tags": []
     },
     "output_type": "display_data"
    },
    {
     "data": {
      "text/html": [],
      "text/plain": [
       "<IPython.core.display.HTML object>"
      ]
     },
     "metadata": {
      "tags": []
     },
     "output_type": "display_data"
    },
    {
     "data": {
      "text/html": [],
      "text/plain": [
       "<IPython.core.display.HTML object>"
      ]
     },
     "metadata": {
      "tags": []
     },
     "output_type": "display_data"
    },
    {
     "data": {
      "text/html": [],
      "text/plain": [
       "<IPython.core.display.HTML object>"
      ]
     },
     "metadata": {
      "tags": []
     },
     "output_type": "display_data"
    },
    {
     "data": {
      "text/html": [],
      "text/plain": [
       "<IPython.core.display.HTML object>"
      ]
     },
     "metadata": {
      "tags": []
     },
     "output_type": "display_data"
    },
    {
     "data": {
      "text/html": [],
      "text/plain": [
       "<IPython.core.display.HTML object>"
      ]
     },
     "metadata": {
      "tags": []
     },
     "output_type": "display_data"
    },
    {
     "data": {
      "text/html": [],
      "text/plain": [
       "<IPython.core.display.HTML object>"
      ]
     },
     "metadata": {
      "tags": []
     },
     "output_type": "display_data"
    },
    {
     "data": {
      "text/html": [],
      "text/plain": [
       "<IPython.core.display.HTML object>"
      ]
     },
     "metadata": {
      "tags": []
     },
     "output_type": "display_data"
    },
    {
     "data": {
      "text/html": [],
      "text/plain": [
       "<IPython.core.display.HTML object>"
      ]
     },
     "metadata": {
      "tags": []
     },
     "output_type": "display_data"
    },
    {
     "data": {
      "text/html": [],
      "text/plain": [
       "<IPython.core.display.HTML object>"
      ]
     },
     "metadata": {
      "tags": []
     },
     "output_type": "display_data"
    },
    {
     "data": {
      "text/html": [],
      "text/plain": [
       "<IPython.core.display.HTML object>"
      ]
     },
     "metadata": {
      "tags": []
     },
     "output_type": "display_data"
    },
    {
     "data": {
      "text/html": [],
      "text/plain": [
       "<IPython.core.display.HTML object>"
      ]
     },
     "metadata": {
      "tags": []
     },
     "output_type": "display_data"
    },
    {
     "data": {
      "text/html": [],
      "text/plain": [
       "<IPython.core.display.HTML object>"
      ]
     },
     "metadata": {
      "tags": []
     },
     "output_type": "display_data"
    },
    {
     "data": {
      "text/html": [],
      "text/plain": [
       "<IPython.core.display.HTML object>"
      ]
     },
     "metadata": {
      "tags": []
     },
     "output_type": "display_data"
    },
    {
     "data": {
      "text/html": [],
      "text/plain": [
       "<IPython.core.display.HTML object>"
      ]
     },
     "metadata": {
      "tags": []
     },
     "output_type": "display_data"
    },
    {
     "data": {
      "text/html": [],
      "text/plain": [
       "<IPython.core.display.HTML object>"
      ]
     },
     "metadata": {
      "tags": []
     },
     "output_type": "display_data"
    },
    {
     "data": {
      "text/html": [],
      "text/plain": [
       "<IPython.core.display.HTML object>"
      ]
     },
     "metadata": {
      "tags": []
     },
     "output_type": "display_data"
    },
    {
     "data": {
      "text/html": [],
      "text/plain": [
       "<IPython.core.display.HTML object>"
      ]
     },
     "metadata": {
      "tags": []
     },
     "output_type": "display_data"
    },
    {
     "data": {
      "text/html": [],
      "text/plain": [
       "<IPython.core.display.HTML object>"
      ]
     },
     "metadata": {
      "tags": []
     },
     "output_type": "display_data"
    },
    {
     "data": {
      "text/html": [],
      "text/plain": [
       "<IPython.core.display.HTML object>"
      ]
     },
     "metadata": {
      "tags": []
     },
     "output_type": "display_data"
    },
    {
     "data": {
      "text/html": [],
      "text/plain": [
       "<IPython.core.display.HTML object>"
      ]
     },
     "metadata": {
      "tags": []
     },
     "output_type": "display_data"
    },
    {
     "data": {
      "text/html": [],
      "text/plain": [
       "<IPython.core.display.HTML object>"
      ]
     },
     "metadata": {
      "tags": []
     },
     "output_type": "display_data"
    },
    {
     "data": {
      "text/html": [],
      "text/plain": [
       "<IPython.core.display.HTML object>"
      ]
     },
     "metadata": {
      "tags": []
     },
     "output_type": "display_data"
    },
    {
     "data": {
      "text/html": [],
      "text/plain": [
       "<IPython.core.display.HTML object>"
      ]
     },
     "metadata": {
      "tags": []
     },
     "output_type": "display_data"
    },
    {
     "data": {
      "text/html": [],
      "text/plain": [
       "<IPython.core.display.HTML object>"
      ]
     },
     "metadata": {
      "tags": []
     },
     "output_type": "display_data"
    },
    {
     "data": {
      "text/html": [],
      "text/plain": [
       "<IPython.core.display.HTML object>"
      ]
     },
     "metadata": {
      "tags": []
     },
     "output_type": "display_data"
    },
    {
     "data": {
      "text/html": [],
      "text/plain": [
       "<IPython.core.display.HTML object>"
      ]
     },
     "metadata": {
      "tags": []
     },
     "output_type": "display_data"
    },
    {
     "data": {
      "text/html": [],
      "text/plain": [
       "<IPython.core.display.HTML object>"
      ]
     },
     "metadata": {
      "tags": []
     },
     "output_type": "display_data"
    },
    {
     "data": {
      "text/html": [],
      "text/plain": [
       "<IPython.core.display.HTML object>"
      ]
     },
     "metadata": {
      "tags": []
     },
     "output_type": "display_data"
    },
    {
     "data": {
      "text/html": [],
      "text/plain": [
       "<IPython.core.display.HTML object>"
      ]
     },
     "metadata": {
      "tags": []
     },
     "output_type": "display_data"
    },
    {
     "data": {
      "text/html": [],
      "text/plain": [
       "<IPython.core.display.HTML object>"
      ]
     },
     "metadata": {
      "tags": []
     },
     "output_type": "display_data"
    },
    {
     "data": {
      "text/html": [],
      "text/plain": [
       "<IPython.core.display.HTML object>"
      ]
     },
     "metadata": {
      "tags": []
     },
     "output_type": "display_data"
    },
    {
     "data": {
      "text/html": [],
      "text/plain": [
       "<IPython.core.display.HTML object>"
      ]
     },
     "metadata": {
      "tags": []
     },
     "output_type": "display_data"
    },
    {
     "data": {
      "text/html": [],
      "text/plain": [
       "<IPython.core.display.HTML object>"
      ]
     },
     "metadata": {
      "tags": []
     },
     "output_type": "display_data"
    },
    {
     "data": {
      "text/html": [],
      "text/plain": [
       "<IPython.core.display.HTML object>"
      ]
     },
     "metadata": {
      "tags": []
     },
     "output_type": "display_data"
    },
    {
     "data": {
      "text/html": [],
      "text/plain": [
       "<IPython.core.display.HTML object>"
      ]
     },
     "metadata": {
      "tags": []
     },
     "output_type": "display_data"
    },
    {
     "data": {
      "text/html": [],
      "text/plain": [
       "<IPython.core.display.HTML object>"
      ]
     },
     "metadata": {
      "tags": []
     },
     "output_type": "display_data"
    },
    {
     "data": {
      "text/html": [],
      "text/plain": [
       "<IPython.core.display.HTML object>"
      ]
     },
     "metadata": {
      "tags": []
     },
     "output_type": "display_data"
    },
    {
     "data": {
      "text/html": [],
      "text/plain": [
       "<IPython.core.display.HTML object>"
      ]
     },
     "metadata": {
      "tags": []
     },
     "output_type": "display_data"
    },
    {
     "data": {
      "text/html": [],
      "text/plain": [
       "<IPython.core.display.HTML object>"
      ]
     },
     "metadata": {
      "tags": []
     },
     "output_type": "display_data"
    },
    {
     "data": {
      "text/html": [],
      "text/plain": [
       "<IPython.core.display.HTML object>"
      ]
     },
     "metadata": {
      "tags": []
     },
     "output_type": "display_data"
    },
    {
     "data": {
      "text/html": [],
      "text/plain": [
       "<IPython.core.display.HTML object>"
      ]
     },
     "metadata": {
      "tags": []
     },
     "output_type": "display_data"
    },
    {
     "data": {
      "text/html": [],
      "text/plain": [
       "<IPython.core.display.HTML object>"
      ]
     },
     "metadata": {
      "tags": []
     },
     "output_type": "display_data"
    },
    {
     "data": {
      "text/html": [],
      "text/plain": [
       "<IPython.core.display.HTML object>"
      ]
     },
     "metadata": {
      "tags": []
     },
     "output_type": "display_data"
    },
    {
     "data": {
      "text/html": [],
      "text/plain": [
       "<IPython.core.display.HTML object>"
      ]
     },
     "metadata": {
      "tags": []
     },
     "output_type": "display_data"
    },
    {
     "data": {
      "text/html": [],
      "text/plain": [
       "<IPython.core.display.HTML object>"
      ]
     },
     "metadata": {
      "tags": []
     },
     "output_type": "display_data"
    },
    {
     "data": {
      "text/html": [],
      "text/plain": [
       "<IPython.core.display.HTML object>"
      ]
     },
     "metadata": {
      "tags": []
     },
     "output_type": "display_data"
    },
    {
     "data": {
      "text/html": [],
      "text/plain": [
       "<IPython.core.display.HTML object>"
      ]
     },
     "metadata": {
      "tags": []
     },
     "output_type": "display_data"
    },
    {
     "data": {
      "text/html": [],
      "text/plain": [
       "<IPython.core.display.HTML object>"
      ]
     },
     "metadata": {
      "tags": []
     },
     "output_type": "display_data"
    },
    {
     "data": {
      "text/html": [],
      "text/plain": [
       "<IPython.core.display.HTML object>"
      ]
     },
     "metadata": {
      "tags": []
     },
     "output_type": "display_data"
    },
    {
     "data": {
      "text/html": [],
      "text/plain": [
       "<IPython.core.display.HTML object>"
      ]
     },
     "metadata": {
      "tags": []
     },
     "output_type": "display_data"
    },
    {
     "data": {
      "text/html": [],
      "text/plain": [
       "<IPython.core.display.HTML object>"
      ]
     },
     "metadata": {
      "tags": []
     },
     "output_type": "display_data"
    },
    {
     "data": {
      "text/html": [],
      "text/plain": [
       "<IPython.core.display.HTML object>"
      ]
     },
     "metadata": {
      "tags": []
     },
     "output_type": "display_data"
    },
    {
     "data": {
      "text/html": [],
      "text/plain": [
       "<IPython.core.display.HTML object>"
      ]
     },
     "metadata": {
      "tags": []
     },
     "output_type": "display_data"
    },
    {
     "data": {
      "text/html": [],
      "text/plain": [
       "<IPython.core.display.HTML object>"
      ]
     },
     "metadata": {
      "tags": []
     },
     "output_type": "display_data"
    },
    {
     "data": {
      "text/html": [],
      "text/plain": [
       "<IPython.core.display.HTML object>"
      ]
     },
     "metadata": {
      "tags": []
     },
     "output_type": "display_data"
    },
    {
     "data": {
      "text/html": [],
      "text/plain": [
       "<IPython.core.display.HTML object>"
      ]
     },
     "metadata": {
      "tags": []
     },
     "output_type": "display_data"
    },
    {
     "data": {
      "text/html": [],
      "text/plain": [
       "<IPython.core.display.HTML object>"
      ]
     },
     "metadata": {
      "tags": []
     },
     "output_type": "display_data"
    },
    {
     "data": {
      "text/html": [],
      "text/plain": [
       "<IPython.core.display.HTML object>"
      ]
     },
     "metadata": {
      "tags": []
     },
     "output_type": "display_data"
    },
    {
     "data": {
      "text/html": [],
      "text/plain": [
       "<IPython.core.display.HTML object>"
      ]
     },
     "metadata": {
      "tags": []
     },
     "output_type": "display_data"
    },
    {
     "data": {
      "text/html": [],
      "text/plain": [
       "<IPython.core.display.HTML object>"
      ]
     },
     "metadata": {
      "tags": []
     },
     "output_type": "display_data"
    },
    {
     "data": {
      "text/html": [],
      "text/plain": [
       "<IPython.core.display.HTML object>"
      ]
     },
     "metadata": {
      "tags": []
     },
     "output_type": "display_data"
    },
    {
     "data": {
      "text/html": [],
      "text/plain": [
       "<IPython.core.display.HTML object>"
      ]
     },
     "metadata": {
      "tags": []
     },
     "output_type": "display_data"
    },
    {
     "data": {
      "text/html": [],
      "text/plain": [
       "<IPython.core.display.HTML object>"
      ]
     },
     "metadata": {
      "tags": []
     },
     "output_type": "display_data"
    },
    {
     "data": {
      "text/html": [],
      "text/plain": [
       "<IPython.core.display.HTML object>"
      ]
     },
     "metadata": {
      "tags": []
     },
     "output_type": "display_data"
    },
    {
     "data": {
      "text/html": [],
      "text/plain": [
       "<IPython.core.display.HTML object>"
      ]
     },
     "metadata": {
      "tags": []
     },
     "output_type": "display_data"
    },
    {
     "data": {
      "text/html": [],
      "text/plain": [
       "<IPython.core.display.HTML object>"
      ]
     },
     "metadata": {
      "tags": []
     },
     "output_type": "display_data"
    },
    {
     "data": {
      "text/html": [],
      "text/plain": [
       "<IPython.core.display.HTML object>"
      ]
     },
     "metadata": {
      "tags": []
     },
     "output_type": "display_data"
    },
    {
     "data": {
      "text/html": [],
      "text/plain": [
       "<IPython.core.display.HTML object>"
      ]
     },
     "metadata": {
      "tags": []
     },
     "output_type": "display_data"
    },
    {
     "data": {
      "text/html": [],
      "text/plain": [
       "<IPython.core.display.HTML object>"
      ]
     },
     "metadata": {
      "tags": []
     },
     "output_type": "display_data"
    },
    {
     "data": {
      "text/html": [],
      "text/plain": [
       "<IPython.core.display.HTML object>"
      ]
     },
     "metadata": {
      "tags": []
     },
     "output_type": "display_data"
    },
    {
     "data": {
      "text/html": [],
      "text/plain": [
       "<IPython.core.display.HTML object>"
      ]
     },
     "metadata": {
      "tags": []
     },
     "output_type": "display_data"
    },
    {
     "data": {
      "text/html": [],
      "text/plain": [
       "<IPython.core.display.HTML object>"
      ]
     },
     "metadata": {
      "tags": []
     },
     "output_type": "display_data"
    },
    {
     "data": {
      "text/html": [],
      "text/plain": [
       "<IPython.core.display.HTML object>"
      ]
     },
     "metadata": {
      "tags": []
     },
     "output_type": "display_data"
    },
    {
     "data": {
      "text/html": [],
      "text/plain": [
       "<IPython.core.display.HTML object>"
      ]
     },
     "metadata": {
      "tags": []
     },
     "output_type": "display_data"
    },
    {
     "data": {
      "text/html": [],
      "text/plain": [
       "<IPython.core.display.HTML object>"
      ]
     },
     "metadata": {
      "tags": []
     },
     "output_type": "display_data"
    },
    {
     "data": {
      "text/html": [],
      "text/plain": [
       "<IPython.core.display.HTML object>"
      ]
     },
     "metadata": {
      "tags": []
     },
     "output_type": "display_data"
    },
    {
     "data": {
      "text/html": [],
      "text/plain": [
       "<IPython.core.display.HTML object>"
      ]
     },
     "metadata": {
      "tags": []
     },
     "output_type": "display_data"
    },
    {
     "data": {
      "text/html": [],
      "text/plain": [
       "<IPython.core.display.HTML object>"
      ]
     },
     "metadata": {
      "tags": []
     },
     "output_type": "display_data"
    },
    {
     "data": {
      "text/html": [],
      "text/plain": [
       "<IPython.core.display.HTML object>"
      ]
     },
     "metadata": {
      "tags": []
     },
     "output_type": "display_data"
    },
    {
     "data": {
      "text/html": [],
      "text/plain": [
       "<IPython.core.display.HTML object>"
      ]
     },
     "metadata": {
      "tags": []
     },
     "output_type": "display_data"
    },
    {
     "data": {
      "text/html": [],
      "text/plain": [
       "<IPython.core.display.HTML object>"
      ]
     },
     "metadata": {
      "tags": []
     },
     "output_type": "display_data"
    },
    {
     "data": {
      "text/html": [],
      "text/plain": [
       "<IPython.core.display.HTML object>"
      ]
     },
     "metadata": {
      "tags": []
     },
     "output_type": "display_data"
    },
    {
     "data": {
      "text/html": [],
      "text/plain": [
       "<IPython.core.display.HTML object>"
      ]
     },
     "metadata": {
      "tags": []
     },
     "output_type": "display_data"
    },
    {
     "data": {
      "text/html": [],
      "text/plain": [
       "<IPython.core.display.HTML object>"
      ]
     },
     "metadata": {
      "tags": []
     },
     "output_type": "display_data"
    },
    {
     "data": {
      "text/html": [],
      "text/plain": [
       "<IPython.core.display.HTML object>"
      ]
     },
     "metadata": {
      "tags": []
     },
     "output_type": "display_data"
    },
    {
     "data": {
      "text/html": [],
      "text/plain": [
       "<IPython.core.display.HTML object>"
      ]
     },
     "metadata": {
      "tags": []
     },
     "output_type": "display_data"
    },
    {
     "data": {
      "text/html": [],
      "text/plain": [
       "<IPython.core.display.HTML object>"
      ]
     },
     "metadata": {
      "tags": []
     },
     "output_type": "display_data"
    },
    {
     "data": {
      "text/html": [],
      "text/plain": [
       "<IPython.core.display.HTML object>"
      ]
     },
     "metadata": {
      "tags": []
     },
     "output_type": "display_data"
    },
    {
     "data": {
      "text/html": [],
      "text/plain": [
       "<IPython.core.display.HTML object>"
      ]
     },
     "metadata": {
      "tags": []
     },
     "output_type": "display_data"
    },
    {
     "data": {
      "text/html": [],
      "text/plain": [
       "<IPython.core.display.HTML object>"
      ]
     },
     "metadata": {
      "tags": []
     },
     "output_type": "display_data"
    },
    {
     "data": {
      "text/html": [],
      "text/plain": [
       "<IPython.core.display.HTML object>"
      ]
     },
     "metadata": {
      "tags": []
     },
     "output_type": "display_data"
    },
    {
     "data": {
      "text/html": [],
      "text/plain": [
       "<IPython.core.display.HTML object>"
      ]
     },
     "metadata": {
      "tags": []
     },
     "output_type": "display_data"
    },
    {
     "data": {
      "text/html": [],
      "text/plain": [
       "<IPython.core.display.HTML object>"
      ]
     },
     "metadata": {
      "tags": []
     },
     "output_type": "display_data"
    },
    {
     "data": {
      "text/html": [],
      "text/plain": [
       "<IPython.core.display.HTML object>"
      ]
     },
     "metadata": {
      "tags": []
     },
     "output_type": "display_data"
    },
    {
     "data": {
      "text/html": [],
      "text/plain": [
       "<IPython.core.display.HTML object>"
      ]
     },
     "metadata": {
      "tags": []
     },
     "output_type": "display_data"
    },
    {
     "data": {
      "text/html": [],
      "text/plain": [
       "<IPython.core.display.HTML object>"
      ]
     },
     "metadata": {
      "tags": []
     },
     "output_type": "display_data"
    },
    {
     "data": {
      "text/html": [],
      "text/plain": [
       "<IPython.core.display.HTML object>"
      ]
     },
     "metadata": {
      "tags": []
     },
     "output_type": "display_data"
    },
    {
     "data": {
      "text/html": [],
      "text/plain": [
       "<IPython.core.display.HTML object>"
      ]
     },
     "metadata": {
      "tags": []
     },
     "output_type": "display_data"
    },
    {
     "data": {
      "text/html": [],
      "text/plain": [
       "<IPython.core.display.HTML object>"
      ]
     },
     "metadata": {
      "tags": []
     },
     "output_type": "display_data"
    },
    {
     "data": {
      "text/html": [],
      "text/plain": [
       "<IPython.core.display.HTML object>"
      ]
     },
     "metadata": {
      "tags": []
     },
     "output_type": "display_data"
    },
    {
     "data": {
      "text/html": [],
      "text/plain": [
       "<IPython.core.display.HTML object>"
      ]
     },
     "metadata": {
      "tags": []
     },
     "output_type": "display_data"
    },
    {
     "data": {
      "text/html": [],
      "text/plain": [
       "<IPython.core.display.HTML object>"
      ]
     },
     "metadata": {
      "tags": []
     },
     "output_type": "display_data"
    },
    {
     "data": {
      "text/html": [],
      "text/plain": [
       "<IPython.core.display.HTML object>"
      ]
     },
     "metadata": {
      "tags": []
     },
     "output_type": "display_data"
    },
    {
     "data": {
      "text/html": [],
      "text/plain": [
       "<IPython.core.display.HTML object>"
      ]
     },
     "metadata": {
      "tags": []
     },
     "output_type": "display_data"
    },
    {
     "data": {
      "text/html": [],
      "text/plain": [
       "<IPython.core.display.HTML object>"
      ]
     },
     "metadata": {
      "tags": []
     },
     "output_type": "display_data"
    },
    {
     "data": {
      "text/html": [],
      "text/plain": [
       "<IPython.core.display.HTML object>"
      ]
     },
     "metadata": {
      "tags": []
     },
     "output_type": "display_data"
    },
    {
     "data": {
      "text/html": [],
      "text/plain": [
       "<IPython.core.display.HTML object>"
      ]
     },
     "metadata": {
      "tags": []
     },
     "output_type": "display_data"
    },
    {
     "data": {
      "text/html": [],
      "text/plain": [
       "<IPython.core.display.HTML object>"
      ]
     },
     "metadata": {
      "tags": []
     },
     "output_type": "display_data"
    },
    {
     "data": {
      "text/html": [],
      "text/plain": [
       "<IPython.core.display.HTML object>"
      ]
     },
     "metadata": {
      "tags": []
     },
     "output_type": "display_data"
    },
    {
     "data": {
      "text/html": [],
      "text/plain": [
       "<IPython.core.display.HTML object>"
      ]
     },
     "metadata": {
      "tags": []
     },
     "output_type": "display_data"
    },
    {
     "data": {
      "text/html": [],
      "text/plain": [
       "<IPython.core.display.HTML object>"
      ]
     },
     "metadata": {
      "tags": []
     },
     "output_type": "display_data"
    },
    {
     "data": {
      "text/html": [],
      "text/plain": [
       "<IPython.core.display.HTML object>"
      ]
     },
     "metadata": {
      "tags": []
     },
     "output_type": "display_data"
    },
    {
     "data": {
      "text/html": [],
      "text/plain": [
       "<IPython.core.display.HTML object>"
      ]
     },
     "metadata": {
      "tags": []
     },
     "output_type": "display_data"
    },
    {
     "data": {
      "text/html": [],
      "text/plain": [
       "<IPython.core.display.HTML object>"
      ]
     },
     "metadata": {
      "tags": []
     },
     "output_type": "display_data"
    },
    {
     "data": {
      "text/html": [],
      "text/plain": [
       "<IPython.core.display.HTML object>"
      ]
     },
     "metadata": {
      "tags": []
     },
     "output_type": "display_data"
    },
    {
     "data": {
      "text/html": [],
      "text/plain": [
       "<IPython.core.display.HTML object>"
      ]
     },
     "metadata": {
      "tags": []
     },
     "output_type": "display_data"
    },
    {
     "data": {
      "text/html": [],
      "text/plain": [
       "<IPython.core.display.HTML object>"
      ]
     },
     "metadata": {
      "tags": []
     },
     "output_type": "display_data"
    },
    {
     "data": {
      "text/html": [],
      "text/plain": [
       "<IPython.core.display.HTML object>"
      ]
     },
     "metadata": {
      "tags": []
     },
     "output_type": "display_data"
    },
    {
     "data": {
      "text/html": [],
      "text/plain": [
       "<IPython.core.display.HTML object>"
      ]
     },
     "metadata": {
      "tags": []
     },
     "output_type": "display_data"
    },
    {
     "data": {
      "text/html": [],
      "text/plain": [
       "<IPython.core.display.HTML object>"
      ]
     },
     "metadata": {
      "tags": []
     },
     "output_type": "display_data"
    },
    {
     "data": {
      "text/html": [],
      "text/plain": [
       "<IPython.core.display.HTML object>"
      ]
     },
     "metadata": {
      "tags": []
     },
     "output_type": "display_data"
    },
    {
     "data": {
      "text/html": [],
      "text/plain": [
       "<IPython.core.display.HTML object>"
      ]
     },
     "metadata": {
      "tags": []
     },
     "output_type": "display_data"
    },
    {
     "data": {
      "text/html": [],
      "text/plain": [
       "<IPython.core.display.HTML object>"
      ]
     },
     "metadata": {
      "tags": []
     },
     "output_type": "display_data"
    },
    {
     "data": {
      "text/html": [],
      "text/plain": [
       "<IPython.core.display.HTML object>"
      ]
     },
     "metadata": {
      "tags": []
     },
     "output_type": "display_data"
    },
    {
     "data": {
      "text/html": [],
      "text/plain": [
       "<IPython.core.display.HTML object>"
      ]
     },
     "metadata": {
      "tags": []
     },
     "output_type": "display_data"
    },
    {
     "data": {
      "text/html": [],
      "text/plain": [
       "<IPython.core.display.HTML object>"
      ]
     },
     "metadata": {
      "tags": []
     },
     "output_type": "display_data"
    },
    {
     "data": {
      "text/html": [],
      "text/plain": [
       "<IPython.core.display.HTML object>"
      ]
     },
     "metadata": {
      "tags": []
     },
     "output_type": "display_data"
    },
    {
     "data": {
      "text/html": [],
      "text/plain": [
       "<IPython.core.display.HTML object>"
      ]
     },
     "metadata": {
      "tags": []
     },
     "output_type": "display_data"
    },
    {
     "data": {
      "text/html": [],
      "text/plain": [
       "<IPython.core.display.HTML object>"
      ]
     },
     "metadata": {
      "tags": []
     },
     "output_type": "display_data"
    },
    {
     "data": {
      "text/html": [],
      "text/plain": [
       "<IPython.core.display.HTML object>"
      ]
     },
     "metadata": {
      "tags": []
     },
     "output_type": "display_data"
    },
    {
     "data": {
      "text/html": [],
      "text/plain": [
       "<IPython.core.display.HTML object>"
      ]
     },
     "metadata": {
      "tags": []
     },
     "output_type": "display_data"
    },
    {
     "data": {
      "text/html": [],
      "text/plain": [
       "<IPython.core.display.HTML object>"
      ]
     },
     "metadata": {
      "tags": []
     },
     "output_type": "display_data"
    },
    {
     "data": {
      "text/html": [],
      "text/plain": [
       "<IPython.core.display.HTML object>"
      ]
     },
     "metadata": {
      "tags": []
     },
     "output_type": "display_data"
    },
    {
     "data": {
      "text/html": [],
      "text/plain": [
       "<IPython.core.display.HTML object>"
      ]
     },
     "metadata": {
      "tags": []
     },
     "output_type": "display_data"
    },
    {
     "data": {
      "text/html": [],
      "text/plain": [
       "<IPython.core.display.HTML object>"
      ]
     },
     "metadata": {
      "tags": []
     },
     "output_type": "display_data"
    },
    {
     "data": {
      "text/html": [],
      "text/plain": [
       "<IPython.core.display.HTML object>"
      ]
     },
     "metadata": {
      "tags": []
     },
     "output_type": "display_data"
    },
    {
     "data": {
      "text/html": [],
      "text/plain": [
       "<IPython.core.display.HTML object>"
      ]
     },
     "metadata": {
      "tags": []
     },
     "output_type": "display_data"
    },
    {
     "data": {
      "text/html": [],
      "text/plain": [
       "<IPython.core.display.HTML object>"
      ]
     },
     "metadata": {
      "tags": []
     },
     "output_type": "display_data"
    },
    {
     "data": {
      "text/html": [],
      "text/plain": [
       "<IPython.core.display.HTML object>"
      ]
     },
     "metadata": {
      "tags": []
     },
     "output_type": "display_data"
    },
    {
     "data": {
      "text/html": [],
      "text/plain": [
       "<IPython.core.display.HTML object>"
      ]
     },
     "metadata": {
      "tags": []
     },
     "output_type": "display_data"
    },
    {
     "data": {
      "text/html": [],
      "text/plain": [
       "<IPython.core.display.HTML object>"
      ]
     },
     "metadata": {
      "tags": []
     },
     "output_type": "display_data"
    },
    {
     "data": {
      "text/html": [],
      "text/plain": [
       "<IPython.core.display.HTML object>"
      ]
     },
     "metadata": {
      "tags": []
     },
     "output_type": "display_data"
    },
    {
     "data": {
      "text/html": [],
      "text/plain": [
       "<IPython.core.display.HTML object>"
      ]
     },
     "metadata": {
      "tags": []
     },
     "output_type": "display_data"
    },
    {
     "data": {
      "text/html": [],
      "text/plain": [
       "<IPython.core.display.HTML object>"
      ]
     },
     "metadata": {
      "tags": []
     },
     "output_type": "display_data"
    },
    {
     "data": {
      "text/html": [],
      "text/plain": [
       "<IPython.core.display.HTML object>"
      ]
     },
     "metadata": {
      "tags": []
     },
     "output_type": "display_data"
    },
    {
     "data": {
      "text/html": [],
      "text/plain": [
       "<IPython.core.display.HTML object>"
      ]
     },
     "metadata": {
      "tags": []
     },
     "output_type": "display_data"
    },
    {
     "data": {
      "text/html": [],
      "text/plain": [
       "<IPython.core.display.HTML object>"
      ]
     },
     "metadata": {
      "tags": []
     },
     "output_type": "display_data"
    },
    {
     "data": {
      "text/html": [],
      "text/plain": [
       "<IPython.core.display.HTML object>"
      ]
     },
     "metadata": {
      "tags": []
     },
     "output_type": "display_data"
    },
    {
     "data": {
      "text/html": [],
      "text/plain": [
       "<IPython.core.display.HTML object>"
      ]
     },
     "metadata": {
      "tags": []
     },
     "output_type": "display_data"
    },
    {
     "data": {
      "text/html": [],
      "text/plain": [
       "<IPython.core.display.HTML object>"
      ]
     },
     "metadata": {
      "tags": []
     },
     "output_type": "display_data"
    },
    {
     "data": {
      "text/html": [],
      "text/plain": [
       "<IPython.core.display.HTML object>"
      ]
     },
     "metadata": {
      "tags": []
     },
     "output_type": "display_data"
    },
    {
     "data": {
      "text/html": [],
      "text/plain": [
       "<IPython.core.display.HTML object>"
      ]
     },
     "metadata": {
      "tags": []
     },
     "output_type": "display_data"
    },
    {
     "data": {
      "text/html": [],
      "text/plain": [
       "<IPython.core.display.HTML object>"
      ]
     },
     "metadata": {
      "tags": []
     },
     "output_type": "display_data"
    },
    {
     "data": {
      "text/html": [],
      "text/plain": [
       "<IPython.core.display.HTML object>"
      ]
     },
     "metadata": {
      "tags": []
     },
     "output_type": "display_data"
    },
    {
     "data": {
      "text/html": [],
      "text/plain": [
       "<IPython.core.display.HTML object>"
      ]
     },
     "metadata": {
      "tags": []
     },
     "output_type": "display_data"
    },
    {
     "data": {
      "text/html": [],
      "text/plain": [
       "<IPython.core.display.HTML object>"
      ]
     },
     "metadata": {
      "tags": []
     },
     "output_type": "display_data"
    },
    {
     "data": {
      "text/html": [],
      "text/plain": [
       "<IPython.core.display.HTML object>"
      ]
     },
     "metadata": {
      "tags": []
     },
     "output_type": "display_data"
    },
    {
     "data": {
      "text/html": [],
      "text/plain": [
       "<IPython.core.display.HTML object>"
      ]
     },
     "metadata": {
      "tags": []
     },
     "output_type": "display_data"
    },
    {
     "data": {
      "text/html": [],
      "text/plain": [
       "<IPython.core.display.HTML object>"
      ]
     },
     "metadata": {
      "tags": []
     },
     "output_type": "display_data"
    },
    {
     "data": {
      "text/html": [],
      "text/plain": [
       "<IPython.core.display.HTML object>"
      ]
     },
     "metadata": {
      "tags": []
     },
     "output_type": "display_data"
    },
    {
     "data": {
      "text/html": [],
      "text/plain": [
       "<IPython.core.display.HTML object>"
      ]
     },
     "metadata": {
      "tags": []
     },
     "output_type": "display_data"
    },
    {
     "data": {
      "text/html": [],
      "text/plain": [
       "<IPython.core.display.HTML object>"
      ]
     },
     "metadata": {
      "tags": []
     },
     "output_type": "display_data"
    },
    {
     "data": {
      "text/html": [],
      "text/plain": [
       "<IPython.core.display.HTML object>"
      ]
     },
     "metadata": {
      "tags": []
     },
     "output_type": "display_data"
    },
    {
     "data": {
      "text/html": [],
      "text/plain": [
       "<IPython.core.display.HTML object>"
      ]
     },
     "metadata": {
      "tags": []
     },
     "output_type": "display_data"
    },
    {
     "data": {
      "text/html": [],
      "text/plain": [
       "<IPython.core.display.HTML object>"
      ]
     },
     "metadata": {
      "tags": []
     },
     "output_type": "display_data"
    },
    {
     "data": {
      "text/html": [],
      "text/plain": [
       "<IPython.core.display.HTML object>"
      ]
     },
     "metadata": {
      "tags": []
     },
     "output_type": "display_data"
    },
    {
     "data": {
      "text/html": [],
      "text/plain": [
       "<IPython.core.display.HTML object>"
      ]
     },
     "metadata": {
      "tags": []
     },
     "output_type": "display_data"
    },
    {
     "data": {
      "text/html": [],
      "text/plain": [
       "<IPython.core.display.HTML object>"
      ]
     },
     "metadata": {
      "tags": []
     },
     "output_type": "display_data"
    },
    {
     "data": {
      "text/html": [],
      "text/plain": [
       "<IPython.core.display.HTML object>"
      ]
     },
     "metadata": {
      "tags": []
     },
     "output_type": "display_data"
    },
    {
     "data": {
      "text/html": [],
      "text/plain": [
       "<IPython.core.display.HTML object>"
      ]
     },
     "metadata": {
      "tags": []
     },
     "output_type": "display_data"
    },
    {
     "data": {
      "text/html": [],
      "text/plain": [
       "<IPython.core.display.HTML object>"
      ]
     },
     "metadata": {
      "tags": []
     },
     "output_type": "display_data"
    },
    {
     "data": {
      "text/html": [],
      "text/plain": [
       "<IPython.core.display.HTML object>"
      ]
     },
     "metadata": {
      "tags": []
     },
     "output_type": "display_data"
    },
    {
     "data": {
      "text/html": [],
      "text/plain": [
       "<IPython.core.display.HTML object>"
      ]
     },
     "metadata": {
      "tags": []
     },
     "output_type": "display_data"
    },
    {
     "data": {
      "text/html": [],
      "text/plain": [
       "<IPython.core.display.HTML object>"
      ]
     },
     "metadata": {
      "tags": []
     },
     "output_type": "display_data"
    },
    {
     "data": {
      "text/html": [],
      "text/plain": [
       "<IPython.core.display.HTML object>"
      ]
     },
     "metadata": {
      "tags": []
     },
     "output_type": "display_data"
    },
    {
     "data": {
      "text/html": [],
      "text/plain": [
       "<IPython.core.display.HTML object>"
      ]
     },
     "metadata": {
      "tags": []
     },
     "output_type": "display_data"
    },
    {
     "data": {
      "text/html": [],
      "text/plain": [
       "<IPython.core.display.HTML object>"
      ]
     },
     "metadata": {
      "tags": []
     },
     "output_type": "display_data"
    },
    {
     "data": {
      "text/html": [],
      "text/plain": [
       "<IPython.core.display.HTML object>"
      ]
     },
     "metadata": {
      "tags": []
     },
     "output_type": "display_data"
    },
    {
     "data": {
      "text/html": [],
      "text/plain": [
       "<IPython.core.display.HTML object>"
      ]
     },
     "metadata": {
      "tags": []
     },
     "output_type": "display_data"
    },
    {
     "data": {
      "text/html": [],
      "text/plain": [
       "<IPython.core.display.HTML object>"
      ]
     },
     "metadata": {
      "tags": []
     },
     "output_type": "display_data"
    },
    {
     "data": {
      "text/html": [],
      "text/plain": [
       "<IPython.core.display.HTML object>"
      ]
     },
     "metadata": {
      "tags": []
     },
     "output_type": "display_data"
    },
    {
     "data": {
      "text/html": [],
      "text/plain": [
       "<IPython.core.display.HTML object>"
      ]
     },
     "metadata": {
      "tags": []
     },
     "output_type": "display_data"
    },
    {
     "data": {
      "text/html": [],
      "text/plain": [
       "<IPython.core.display.HTML object>"
      ]
     },
     "metadata": {
      "tags": []
     },
     "output_type": "display_data"
    },
    {
     "data": {
      "text/html": [],
      "text/plain": [
       "<IPython.core.display.HTML object>"
      ]
     },
     "metadata": {
      "tags": []
     },
     "output_type": "display_data"
    },
    {
     "data": {
      "text/html": [],
      "text/plain": [
       "<IPython.core.display.HTML object>"
      ]
     },
     "metadata": {
      "tags": []
     },
     "output_type": "display_data"
    },
    {
     "data": {
      "text/html": [],
      "text/plain": [
       "<IPython.core.display.HTML object>"
      ]
     },
     "metadata": {
      "tags": []
     },
     "output_type": "display_data"
    },
    {
     "data": {
      "text/html": [],
      "text/plain": [
       "<IPython.core.display.HTML object>"
      ]
     },
     "metadata": {
      "tags": []
     },
     "output_type": "display_data"
    },
    {
     "data": {
      "text/html": [],
      "text/plain": [
       "<IPython.core.display.HTML object>"
      ]
     },
     "metadata": {
      "tags": []
     },
     "output_type": "display_data"
    },
    {
     "data": {
      "text/html": [],
      "text/plain": [
       "<IPython.core.display.HTML object>"
      ]
     },
     "metadata": {
      "tags": []
     },
     "output_type": "display_data"
    },
    {
     "data": {
      "text/html": [],
      "text/plain": [
       "<IPython.core.display.HTML object>"
      ]
     },
     "metadata": {
      "tags": []
     },
     "output_type": "display_data"
    },
    {
     "data": {
      "text/html": [],
      "text/plain": [
       "<IPython.core.display.HTML object>"
      ]
     },
     "metadata": {
      "tags": []
     },
     "output_type": "display_data"
    },
    {
     "data": {
      "text/html": [],
      "text/plain": [
       "<IPython.core.display.HTML object>"
      ]
     },
     "metadata": {
      "tags": []
     },
     "output_type": "display_data"
    },
    {
     "data": {
      "text/html": [],
      "text/plain": [
       "<IPython.core.display.HTML object>"
      ]
     },
     "metadata": {
      "tags": []
     },
     "output_type": "display_data"
    },
    {
     "data": {
      "text/html": [],
      "text/plain": [
       "<IPython.core.display.HTML object>"
      ]
     },
     "metadata": {
      "tags": []
     },
     "output_type": "display_data"
    },
    {
     "data": {
      "text/html": [],
      "text/plain": [
       "<IPython.core.display.HTML object>"
      ]
     },
     "metadata": {
      "tags": []
     },
     "output_type": "display_data"
    },
    {
     "data": {
      "text/html": [],
      "text/plain": [
       "<IPython.core.display.HTML object>"
      ]
     },
     "metadata": {
      "tags": []
     },
     "output_type": "display_data"
    },
    {
     "data": {
      "text/html": [],
      "text/plain": [
       "<IPython.core.display.HTML object>"
      ]
     },
     "metadata": {
      "tags": []
     },
     "output_type": "display_data"
    },
    {
     "data": {
      "text/html": [],
      "text/plain": [
       "<IPython.core.display.HTML object>"
      ]
     },
     "metadata": {
      "tags": []
     },
     "output_type": "display_data"
    },
    {
     "data": {
      "text/html": [],
      "text/plain": [
       "<IPython.core.display.HTML object>"
      ]
     },
     "metadata": {
      "tags": []
     },
     "output_type": "display_data"
    },
    {
     "data": {
      "text/html": [],
      "text/plain": [
       "<IPython.core.display.HTML object>"
      ]
     },
     "metadata": {
      "tags": []
     },
     "output_type": "display_data"
    },
    {
     "data": {
      "text/html": [],
      "text/plain": [
       "<IPython.core.display.HTML object>"
      ]
     },
     "metadata": {
      "tags": []
     },
     "output_type": "display_data"
    },
    {
     "data": {
      "text/html": [],
      "text/plain": [
       "<IPython.core.display.HTML object>"
      ]
     },
     "metadata": {
      "tags": []
     },
     "output_type": "display_data"
    },
    {
     "data": {
      "text/html": [],
      "text/plain": [
       "<IPython.core.display.HTML object>"
      ]
     },
     "metadata": {
      "tags": []
     },
     "output_type": "display_data"
    },
    {
     "data": {
      "text/html": [],
      "text/plain": [
       "<IPython.core.display.HTML object>"
      ]
     },
     "metadata": {
      "tags": []
     },
     "output_type": "display_data"
    },
    {
     "data": {
      "text/html": [],
      "text/plain": [
       "<IPython.core.display.HTML object>"
      ]
     },
     "metadata": {
      "tags": []
     },
     "output_type": "display_data"
    },
    {
     "data": {
      "text/html": [],
      "text/plain": [
       "<IPython.core.display.HTML object>"
      ]
     },
     "metadata": {
      "tags": []
     },
     "output_type": "display_data"
    },
    {
     "data": {
      "text/html": [],
      "text/plain": [
       "<IPython.core.display.HTML object>"
      ]
     },
     "metadata": {
      "tags": []
     },
     "output_type": "display_data"
    },
    {
     "data": {
      "text/html": [],
      "text/plain": [
       "<IPython.core.display.HTML object>"
      ]
     },
     "metadata": {
      "tags": []
     },
     "output_type": "display_data"
    },
    {
     "data": {
      "text/html": [],
      "text/plain": [
       "<IPython.core.display.HTML object>"
      ]
     },
     "metadata": {
      "tags": []
     },
     "output_type": "display_data"
    },
    {
     "data": {
      "text/html": [],
      "text/plain": [
       "<IPython.core.display.HTML object>"
      ]
     },
     "metadata": {
      "tags": []
     },
     "output_type": "display_data"
    },
    {
     "data": {
      "text/html": [],
      "text/plain": [
       "<IPython.core.display.HTML object>"
      ]
     },
     "metadata": {
      "tags": []
     },
     "output_type": "display_data"
    },
    {
     "data": {
      "text/html": [],
      "text/plain": [
       "<IPython.core.display.HTML object>"
      ]
     },
     "metadata": {
      "tags": []
     },
     "output_type": "display_data"
    },
    {
     "data": {
      "text/html": [],
      "text/plain": [
       "<IPython.core.display.HTML object>"
      ]
     },
     "metadata": {
      "tags": []
     },
     "output_type": "display_data"
    },
    {
     "data": {
      "text/html": [],
      "text/plain": [
       "<IPython.core.display.HTML object>"
      ]
     },
     "metadata": {
      "tags": []
     },
     "output_type": "display_data"
    },
    {
     "data": {
      "text/html": [],
      "text/plain": [
       "<IPython.core.display.HTML object>"
      ]
     },
     "metadata": {
      "tags": []
     },
     "output_type": "display_data"
    },
    {
     "data": {
      "text/html": [],
      "text/plain": [
       "<IPython.core.display.HTML object>"
      ]
     },
     "metadata": {
      "tags": []
     },
     "output_type": "display_data"
    },
    {
     "data": {
      "text/html": [],
      "text/plain": [
       "<IPython.core.display.HTML object>"
      ]
     },
     "metadata": {
      "tags": []
     },
     "output_type": "display_data"
    },
    {
     "data": {
      "text/html": [],
      "text/plain": [
       "<IPython.core.display.HTML object>"
      ]
     },
     "metadata": {
      "tags": []
     },
     "output_type": "display_data"
    },
    {
     "data": {
      "text/html": [],
      "text/plain": [
       "<IPython.core.display.HTML object>"
      ]
     },
     "metadata": {
      "tags": []
     },
     "output_type": "display_data"
    },
    {
     "data": {
      "text/html": [],
      "text/plain": [
       "<IPython.core.display.HTML object>"
      ]
     },
     "metadata": {
      "tags": []
     },
     "output_type": "display_data"
    },
    {
     "data": {
      "text/html": [],
      "text/plain": [
       "<IPython.core.display.HTML object>"
      ]
     },
     "metadata": {
      "tags": []
     },
     "output_type": "display_data"
    },
    {
     "data": {
      "text/html": [],
      "text/plain": [
       "<IPython.core.display.HTML object>"
      ]
     },
     "metadata": {
      "tags": []
     },
     "output_type": "display_data"
    },
    {
     "data": {
      "text/html": [],
      "text/plain": [
       "<IPython.core.display.HTML object>"
      ]
     },
     "metadata": {
      "tags": []
     },
     "output_type": "display_data"
    },
    {
     "data": {
      "text/html": [],
      "text/plain": [
       "<IPython.core.display.HTML object>"
      ]
     },
     "metadata": {
      "tags": []
     },
     "output_type": "display_data"
    },
    {
     "data": {
      "text/html": [],
      "text/plain": [
       "<IPython.core.display.HTML object>"
      ]
     },
     "metadata": {
      "tags": []
     },
     "output_type": "display_data"
    },
    {
     "data": {
      "text/html": [],
      "text/plain": [
       "<IPython.core.display.HTML object>"
      ]
     },
     "metadata": {
      "tags": []
     },
     "output_type": "display_data"
    },
    {
     "data": {
      "text/html": [],
      "text/plain": [
       "<IPython.core.display.HTML object>"
      ]
     },
     "metadata": {
      "tags": []
     },
     "output_type": "display_data"
    },
    {
     "data": {
      "text/html": [],
      "text/plain": [
       "<IPython.core.display.HTML object>"
      ]
     },
     "metadata": {
      "tags": []
     },
     "output_type": "display_data"
    },
    {
     "data": {
      "text/html": [],
      "text/plain": [
       "<IPython.core.display.HTML object>"
      ]
     },
     "metadata": {
      "tags": []
     },
     "output_type": "display_data"
    },
    {
     "data": {
      "text/html": [],
      "text/plain": [
       "<IPython.core.display.HTML object>"
      ]
     },
     "metadata": {
      "tags": []
     },
     "output_type": "display_data"
    },
    {
     "data": {
      "text/html": [],
      "text/plain": [
       "<IPython.core.display.HTML object>"
      ]
     },
     "metadata": {
      "tags": []
     },
     "output_type": "display_data"
    },
    {
     "data": {
      "text/html": [],
      "text/plain": [
       "<IPython.core.display.HTML object>"
      ]
     },
     "metadata": {
      "tags": []
     },
     "output_type": "display_data"
    },
    {
     "data": {
      "text/html": [],
      "text/plain": [
       "<IPython.core.display.HTML object>"
      ]
     },
     "metadata": {
      "tags": []
     },
     "output_type": "display_data"
    },
    {
     "data": {
      "text/html": [],
      "text/plain": [
       "<IPython.core.display.HTML object>"
      ]
     },
     "metadata": {
      "tags": []
     },
     "output_type": "display_data"
    },
    {
     "data": {
      "text/html": [],
      "text/plain": [
       "<IPython.core.display.HTML object>"
      ]
     },
     "metadata": {
      "tags": []
     },
     "output_type": "display_data"
    },
    {
     "data": {
      "text/html": [],
      "text/plain": [
       "<IPython.core.display.HTML object>"
      ]
     },
     "metadata": {
      "tags": []
     },
     "output_type": "display_data"
    },
    {
     "data": {
      "text/html": [],
      "text/plain": [
       "<IPython.core.display.HTML object>"
      ]
     },
     "metadata": {
      "tags": []
     },
     "output_type": "display_data"
    },
    {
     "data": {
      "text/html": [],
      "text/plain": [
       "<IPython.core.display.HTML object>"
      ]
     },
     "metadata": {
      "tags": []
     },
     "output_type": "display_data"
    },
    {
     "data": {
      "text/html": [],
      "text/plain": [
       "<IPython.core.display.HTML object>"
      ]
     },
     "metadata": {
      "tags": []
     },
     "output_type": "display_data"
    },
    {
     "data": {
      "text/html": [],
      "text/plain": [
       "<IPython.core.display.HTML object>"
      ]
     },
     "metadata": {
      "tags": []
     },
     "output_type": "display_data"
    },
    {
     "data": {
      "text/html": [],
      "text/plain": [
       "<IPython.core.display.HTML object>"
      ]
     },
     "metadata": {
      "tags": []
     },
     "output_type": "display_data"
    },
    {
     "data": {
      "text/html": [],
      "text/plain": [
       "<IPython.core.display.HTML object>"
      ]
     },
     "metadata": {
      "tags": []
     },
     "output_type": "display_data"
    },
    {
     "data": {
      "text/html": [],
      "text/plain": [
       "<IPython.core.display.HTML object>"
      ]
     },
     "metadata": {
      "tags": []
     },
     "output_type": "display_data"
    },
    {
     "data": {
      "text/html": [],
      "text/plain": [
       "<IPython.core.display.HTML object>"
      ]
     },
     "metadata": {
      "tags": []
     },
     "output_type": "display_data"
    },
    {
     "data": {
      "text/html": [],
      "text/plain": [
       "<IPython.core.display.HTML object>"
      ]
     },
     "metadata": {
      "tags": []
     },
     "output_type": "display_data"
    },
    {
     "data": {
      "text/html": [],
      "text/plain": [
       "<IPython.core.display.HTML object>"
      ]
     },
     "metadata": {
      "tags": []
     },
     "output_type": "display_data"
    },
    {
     "data": {
      "text/html": [],
      "text/plain": [
       "<IPython.core.display.HTML object>"
      ]
     },
     "metadata": {
      "tags": []
     },
     "output_type": "display_data"
    },
    {
     "data": {
      "text/html": [],
      "text/plain": [
       "<IPython.core.display.HTML object>"
      ]
     },
     "metadata": {
      "tags": []
     },
     "output_type": "display_data"
    },
    {
     "data": {
      "text/html": [],
      "text/plain": [
       "<IPython.core.display.HTML object>"
      ]
     },
     "metadata": {
      "tags": []
     },
     "output_type": "display_data"
    },
    {
     "data": {
      "text/html": [],
      "text/plain": [
       "<IPython.core.display.HTML object>"
      ]
     },
     "metadata": {
      "tags": []
     },
     "output_type": "display_data"
    },
    {
     "data": {
      "text/html": [],
      "text/plain": [
       "<IPython.core.display.HTML object>"
      ]
     },
     "metadata": {
      "tags": []
     },
     "output_type": "display_data"
    },
    {
     "data": {
      "text/html": [],
      "text/plain": [
       "<IPython.core.display.HTML object>"
      ]
     },
     "metadata": {
      "tags": []
     },
     "output_type": "display_data"
    },
    {
     "data": {
      "text/html": [],
      "text/plain": [
       "<IPython.core.display.HTML object>"
      ]
     },
     "metadata": {
      "tags": []
     },
     "output_type": "display_data"
    },
    {
     "data": {
      "text/html": [],
      "text/plain": [
       "<IPython.core.display.HTML object>"
      ]
     },
     "metadata": {
      "tags": []
     },
     "output_type": "display_data"
    },
    {
     "data": {
      "text/html": [],
      "text/plain": [
       "<IPython.core.display.HTML object>"
      ]
     },
     "metadata": {
      "tags": []
     },
     "output_type": "display_data"
    },
    {
     "data": {
      "text/html": [],
      "text/plain": [
       "<IPython.core.display.HTML object>"
      ]
     },
     "metadata": {
      "tags": []
     },
     "output_type": "display_data"
    },
    {
     "data": {
      "text/html": [],
      "text/plain": [
       "<IPython.core.display.HTML object>"
      ]
     },
     "metadata": {
      "tags": []
     },
     "output_type": "display_data"
    },
    {
     "data": {
      "text/html": [],
      "text/plain": [
       "<IPython.core.display.HTML object>"
      ]
     },
     "metadata": {
      "tags": []
     },
     "output_type": "display_data"
    },
    {
     "data": {
      "text/html": [],
      "text/plain": [
       "<IPython.core.display.HTML object>"
      ]
     },
     "metadata": {
      "tags": []
     },
     "output_type": "display_data"
    },
    {
     "data": {
      "text/html": [],
      "text/plain": [
       "<IPython.core.display.HTML object>"
      ]
     },
     "metadata": {
      "tags": []
     },
     "output_type": "display_data"
    },
    {
     "data": {
      "text/html": [],
      "text/plain": [
       "<IPython.core.display.HTML object>"
      ]
     },
     "metadata": {
      "tags": []
     },
     "output_type": "display_data"
    },
    {
     "data": {
      "text/html": [],
      "text/plain": [
       "<IPython.core.display.HTML object>"
      ]
     },
     "metadata": {
      "tags": []
     },
     "output_type": "display_data"
    },
    {
     "data": {
      "text/html": [],
      "text/plain": [
       "<IPython.core.display.HTML object>"
      ]
     },
     "metadata": {
      "tags": []
     },
     "output_type": "display_data"
    },
    {
     "data": {
      "text/html": [],
      "text/plain": [
       "<IPython.core.display.HTML object>"
      ]
     },
     "metadata": {
      "tags": []
     },
     "output_type": "display_data"
    },
    {
     "data": {
      "text/html": [],
      "text/plain": [
       "<IPython.core.display.HTML object>"
      ]
     },
     "metadata": {
      "tags": []
     },
     "output_type": "display_data"
    },
    {
     "data": {
      "text/html": [],
      "text/plain": [
       "<IPython.core.display.HTML object>"
      ]
     },
     "metadata": {
      "tags": []
     },
     "output_type": "display_data"
    },
    {
     "data": {
      "text/html": [],
      "text/plain": [
       "<IPython.core.display.HTML object>"
      ]
     },
     "metadata": {
      "tags": []
     },
     "output_type": "display_data"
    },
    {
     "data": {
      "text/html": [],
      "text/plain": [
       "<IPython.core.display.HTML object>"
      ]
     },
     "metadata": {
      "tags": []
     },
     "output_type": "display_data"
    },
    {
     "data": {
      "text/html": [],
      "text/plain": [
       "<IPython.core.display.HTML object>"
      ]
     },
     "metadata": {
      "tags": []
     },
     "output_type": "display_data"
    },
    {
     "data": {
      "text/html": [],
      "text/plain": [
       "<IPython.core.display.HTML object>"
      ]
     },
     "metadata": {
      "tags": []
     },
     "output_type": "display_data"
    },
    {
     "data": {
      "text/html": [],
      "text/plain": [
       "<IPython.core.display.HTML object>"
      ]
     },
     "metadata": {
      "tags": []
     },
     "output_type": "display_data"
    },
    {
     "data": {
      "text/html": [],
      "text/plain": [
       "<IPython.core.display.HTML object>"
      ]
     },
     "metadata": {
      "tags": []
     },
     "output_type": "display_data"
    },
    {
     "data": {
      "text/html": [],
      "text/plain": [
       "<IPython.core.display.HTML object>"
      ]
     },
     "metadata": {
      "tags": []
     },
     "output_type": "display_data"
    },
    {
     "data": {
      "text/html": [],
      "text/plain": [
       "<IPython.core.display.HTML object>"
      ]
     },
     "metadata": {
      "tags": []
     },
     "output_type": "display_data"
    },
    {
     "data": {
      "text/html": [],
      "text/plain": [
       "<IPython.core.display.HTML object>"
      ]
     },
     "metadata": {
      "tags": []
     },
     "output_type": "display_data"
    },
    {
     "data": {
      "text/html": [],
      "text/plain": [
       "<IPython.core.display.HTML object>"
      ]
     },
     "metadata": {
      "tags": []
     },
     "output_type": "display_data"
    },
    {
     "data": {
      "text/html": [],
      "text/plain": [
       "<IPython.core.display.HTML object>"
      ]
     },
     "metadata": {
      "tags": []
     },
     "output_type": "display_data"
    },
    {
     "data": {
      "text/html": [],
      "text/plain": [
       "<IPython.core.display.HTML object>"
      ]
     },
     "metadata": {
      "tags": []
     },
     "output_type": "display_data"
    },
    {
     "data": {
      "text/html": [],
      "text/plain": [
       "<IPython.core.display.HTML object>"
      ]
     },
     "metadata": {
      "tags": []
     },
     "output_type": "display_data"
    },
    {
     "data": {
      "text/html": [],
      "text/plain": [
       "<IPython.core.display.HTML object>"
      ]
     },
     "metadata": {
      "tags": []
     },
     "output_type": "display_data"
    },
    {
     "data": {
      "text/html": [],
      "text/plain": [
       "<IPython.core.display.HTML object>"
      ]
     },
     "metadata": {
      "tags": []
     },
     "output_type": "display_data"
    },
    {
     "data": {
      "text/html": [],
      "text/plain": [
       "<IPython.core.display.HTML object>"
      ]
     },
     "metadata": {
      "tags": []
     },
     "output_type": "display_data"
    },
    {
     "data": {
      "text/html": [],
      "text/plain": [
       "<IPython.core.display.HTML object>"
      ]
     },
     "metadata": {
      "tags": []
     },
     "output_type": "display_data"
    },
    {
     "data": {
      "text/html": [],
      "text/plain": [
       "<IPython.core.display.HTML object>"
      ]
     },
     "metadata": {
      "tags": []
     },
     "output_type": "display_data"
    },
    {
     "data": {
      "text/html": [],
      "text/plain": [
       "<IPython.core.display.HTML object>"
      ]
     },
     "metadata": {
      "tags": []
     },
     "output_type": "display_data"
    },
    {
     "data": {
      "text/html": [],
      "text/plain": [
       "<IPython.core.display.HTML object>"
      ]
     },
     "metadata": {
      "tags": []
     },
     "output_type": "display_data"
    },
    {
     "data": {
      "text/html": [],
      "text/plain": [
       "<IPython.core.display.HTML object>"
      ]
     },
     "metadata": {
      "tags": []
     },
     "output_type": "display_data"
    },
    {
     "data": {
      "text/html": [],
      "text/plain": [
       "<IPython.core.display.HTML object>"
      ]
     },
     "metadata": {
      "tags": []
     },
     "output_type": "display_data"
    },
    {
     "data": {
      "text/html": [],
      "text/plain": [
       "<IPython.core.display.HTML object>"
      ]
     },
     "metadata": {
      "tags": []
     },
     "output_type": "display_data"
    },
    {
     "data": {
      "text/html": [],
      "text/plain": [
       "<IPython.core.display.HTML object>"
      ]
     },
     "metadata": {
      "tags": []
     },
     "output_type": "display_data"
    },
    {
     "data": {
      "text/html": [],
      "text/plain": [
       "<IPython.core.display.HTML object>"
      ]
     },
     "metadata": {
      "tags": []
     },
     "output_type": "display_data"
    },
    {
     "data": {
      "text/html": [],
      "text/plain": [
       "<IPython.core.display.HTML object>"
      ]
     },
     "metadata": {
      "tags": []
     },
     "output_type": "display_data"
    },
    {
     "data": {
      "text/html": [],
      "text/plain": [
       "<IPython.core.display.HTML object>"
      ]
     },
     "metadata": {
      "tags": []
     },
     "output_type": "display_data"
    },
    {
     "data": {
      "text/html": [],
      "text/plain": [
       "<IPython.core.display.HTML object>"
      ]
     },
     "metadata": {
      "tags": []
     },
     "output_type": "display_data"
    },
    {
     "data": {
      "text/html": [],
      "text/plain": [
       "<IPython.core.display.HTML object>"
      ]
     },
     "metadata": {
      "tags": []
     },
     "output_type": "display_data"
    },
    {
     "data": {
      "text/html": [],
      "text/plain": [
       "<IPython.core.display.HTML object>"
      ]
     },
     "metadata": {
      "tags": []
     },
     "output_type": "display_data"
    },
    {
     "data": {
      "text/html": [],
      "text/plain": [
       "<IPython.core.display.HTML object>"
      ]
     },
     "metadata": {
      "tags": []
     },
     "output_type": "display_data"
    },
    {
     "data": {
      "text/html": [],
      "text/plain": [
       "<IPython.core.display.HTML object>"
      ]
     },
     "metadata": {
      "tags": []
     },
     "output_type": "display_data"
    },
    {
     "data": {
      "text/html": [],
      "text/plain": [
       "<IPython.core.display.HTML object>"
      ]
     },
     "metadata": {
      "tags": []
     },
     "output_type": "display_data"
    },
    {
     "data": {
      "text/html": [],
      "text/plain": [
       "<IPython.core.display.HTML object>"
      ]
     },
     "metadata": {
      "tags": []
     },
     "output_type": "display_data"
    },
    {
     "data": {
      "text/html": [],
      "text/plain": [
       "<IPython.core.display.HTML object>"
      ]
     },
     "metadata": {
      "tags": []
     },
     "output_type": "display_data"
    },
    {
     "data": {
      "text/html": [],
      "text/plain": [
       "<IPython.core.display.HTML object>"
      ]
     },
     "metadata": {
      "tags": []
     },
     "output_type": "display_data"
    },
    {
     "data": {
      "text/html": [],
      "text/plain": [
       "<IPython.core.display.HTML object>"
      ]
     },
     "metadata": {
      "tags": []
     },
     "output_type": "display_data"
    },
    {
     "data": {
      "text/html": [],
      "text/plain": [
       "<IPython.core.display.HTML object>"
      ]
     },
     "metadata": {
      "tags": []
     },
     "output_type": "display_data"
    },
    {
     "data": {
      "text/html": [],
      "text/plain": [
       "<IPython.core.display.HTML object>"
      ]
     },
     "metadata": {
      "tags": []
     },
     "output_type": "display_data"
    },
    {
     "data": {
      "text/html": [],
      "text/plain": [
       "<IPython.core.display.HTML object>"
      ]
     },
     "metadata": {
      "tags": []
     },
     "output_type": "display_data"
    },
    {
     "data": {
      "text/html": [],
      "text/plain": [
       "<IPython.core.display.HTML object>"
      ]
     },
     "metadata": {
      "tags": []
     },
     "output_type": "display_data"
    },
    {
     "data": {
      "text/html": [],
      "text/plain": [
       "<IPython.core.display.HTML object>"
      ]
     },
     "metadata": {
      "tags": []
     },
     "output_type": "display_data"
    },
    {
     "data": {
      "text/html": [],
      "text/plain": [
       "<IPython.core.display.HTML object>"
      ]
     },
     "metadata": {
      "tags": []
     },
     "output_type": "display_data"
    },
    {
     "data": {
      "text/html": [],
      "text/plain": [
       "<IPython.core.display.HTML object>"
      ]
     },
     "metadata": {
      "tags": []
     },
     "output_type": "display_data"
    },
    {
     "data": {
      "text/html": [],
      "text/plain": [
       "<IPython.core.display.HTML object>"
      ]
     },
     "metadata": {
      "tags": []
     },
     "output_type": "display_data"
    },
    {
     "data": {
      "text/html": [],
      "text/plain": [
       "<IPython.core.display.HTML object>"
      ]
     },
     "metadata": {
      "tags": []
     },
     "output_type": "display_data"
    },
    {
     "data": {
      "text/html": [],
      "text/plain": [
       "<IPython.core.display.HTML object>"
      ]
     },
     "metadata": {
      "tags": []
     },
     "output_type": "display_data"
    },
    {
     "data": {
      "text/html": [],
      "text/plain": [
       "<IPython.core.display.HTML object>"
      ]
     },
     "metadata": {
      "tags": []
     },
     "output_type": "display_data"
    },
    {
     "data": {
      "text/html": [],
      "text/plain": [
       "<IPython.core.display.HTML object>"
      ]
     },
     "metadata": {
      "tags": []
     },
     "output_type": "display_data"
    },
    {
     "data": {
      "text/html": [],
      "text/plain": [
       "<IPython.core.display.HTML object>"
      ]
     },
     "metadata": {
      "tags": []
     },
     "output_type": "display_data"
    },
    {
     "data": {
      "text/html": [],
      "text/plain": [
       "<IPython.core.display.HTML object>"
      ]
     },
     "metadata": {
      "tags": []
     },
     "output_type": "display_data"
    },
    {
     "data": {
      "text/html": [],
      "text/plain": [
       "<IPython.core.display.HTML object>"
      ]
     },
     "metadata": {
      "tags": []
     },
     "output_type": "display_data"
    },
    {
     "data": {
      "text/html": [],
      "text/plain": [
       "<IPython.core.display.HTML object>"
      ]
     },
     "metadata": {
      "tags": []
     },
     "output_type": "display_data"
    },
    {
     "data": {
      "text/html": [],
      "text/plain": [
       "<IPython.core.display.HTML object>"
      ]
     },
     "metadata": {
      "tags": []
     },
     "output_type": "display_data"
    },
    {
     "data": {
      "text/html": [],
      "text/plain": [
       "<IPython.core.display.HTML object>"
      ]
     },
     "metadata": {
      "tags": []
     },
     "output_type": "display_data"
    },
    {
     "data": {
      "text/html": [],
      "text/plain": [
       "<IPython.core.display.HTML object>"
      ]
     },
     "metadata": {
      "tags": []
     },
     "output_type": "display_data"
    },
    {
     "data": {
      "text/html": [],
      "text/plain": [
       "<IPython.core.display.HTML object>"
      ]
     },
     "metadata": {
      "tags": []
     },
     "output_type": "display_data"
    },
    {
     "data": {
      "text/html": [],
      "text/plain": [
       "<IPython.core.display.HTML object>"
      ]
     },
     "metadata": {
      "tags": []
     },
     "output_type": "display_data"
    },
    {
     "data": {
      "text/html": [],
      "text/plain": [
       "<IPython.core.display.HTML object>"
      ]
     },
     "metadata": {
      "tags": []
     },
     "output_type": "display_data"
    },
    {
     "data": {
      "text/html": [],
      "text/plain": [
       "<IPython.core.display.HTML object>"
      ]
     },
     "metadata": {
      "tags": []
     },
     "output_type": "display_data"
    },
    {
     "data": {
      "text/html": [],
      "text/plain": [
       "<IPython.core.display.HTML object>"
      ]
     },
     "metadata": {
      "tags": []
     },
     "output_type": "display_data"
    },
    {
     "data": {
      "text/html": [],
      "text/plain": [
       "<IPython.core.display.HTML object>"
      ]
     },
     "metadata": {
      "tags": []
     },
     "output_type": "display_data"
    },
    {
     "data": {
      "text/html": [],
      "text/plain": [
       "<IPython.core.display.HTML object>"
      ]
     },
     "metadata": {
      "tags": []
     },
     "output_type": "display_data"
    },
    {
     "data": {
      "text/html": [],
      "text/plain": [
       "<IPython.core.display.HTML object>"
      ]
     },
     "metadata": {
      "tags": []
     },
     "output_type": "display_data"
    },
    {
     "data": {
      "text/html": [],
      "text/plain": [
       "<IPython.core.display.HTML object>"
      ]
     },
     "metadata": {
      "tags": []
     },
     "output_type": "display_data"
    },
    {
     "data": {
      "text/html": [],
      "text/plain": [
       "<IPython.core.display.HTML object>"
      ]
     },
     "metadata": {
      "tags": []
     },
     "output_type": "display_data"
    },
    {
     "data": {
      "text/html": [],
      "text/plain": [
       "<IPython.core.display.HTML object>"
      ]
     },
     "metadata": {
      "tags": []
     },
     "output_type": "display_data"
    },
    {
     "data": {
      "text/html": [],
      "text/plain": [
       "<IPython.core.display.HTML object>"
      ]
     },
     "metadata": {
      "tags": []
     },
     "output_type": "display_data"
    },
    {
     "data": {
      "text/html": [],
      "text/plain": [
       "<IPython.core.display.HTML object>"
      ]
     },
     "metadata": {
      "tags": []
     },
     "output_type": "display_data"
    },
    {
     "data": {
      "text/html": [],
      "text/plain": [
       "<IPython.core.display.HTML object>"
      ]
     },
     "metadata": {
      "tags": []
     },
     "output_type": "display_data"
    },
    {
     "data": {
      "text/html": [],
      "text/plain": [
       "<IPython.core.display.HTML object>"
      ]
     },
     "metadata": {
      "tags": []
     },
     "output_type": "display_data"
    },
    {
     "data": {
      "text/html": [],
      "text/plain": [
       "<IPython.core.display.HTML object>"
      ]
     },
     "metadata": {
      "tags": []
     },
     "output_type": "display_data"
    },
    {
     "data": {
      "text/html": [],
      "text/plain": [
       "<IPython.core.display.HTML object>"
      ]
     },
     "metadata": {
      "tags": []
     },
     "output_type": "display_data"
    },
    {
     "data": {
      "text/html": [],
      "text/plain": [
       "<IPython.core.display.HTML object>"
      ]
     },
     "metadata": {
      "tags": []
     },
     "output_type": "display_data"
    },
    {
     "data": {
      "text/html": [],
      "text/plain": [
       "<IPython.core.display.HTML object>"
      ]
     },
     "metadata": {
      "tags": []
     },
     "output_type": "display_data"
    },
    {
     "data": {
      "text/html": [],
      "text/plain": [
       "<IPython.core.display.HTML object>"
      ]
     },
     "metadata": {
      "tags": []
     },
     "output_type": "display_data"
    },
    {
     "data": {
      "text/html": [],
      "text/plain": [
       "<IPython.core.display.HTML object>"
      ]
     },
     "metadata": {
      "tags": []
     },
     "output_type": "display_data"
    },
    {
     "data": {
      "text/html": [],
      "text/plain": [
       "<IPython.core.display.HTML object>"
      ]
     },
     "metadata": {
      "tags": []
     },
     "output_type": "display_data"
    },
    {
     "data": {
      "text/html": [],
      "text/plain": [
       "<IPython.core.display.HTML object>"
      ]
     },
     "metadata": {
      "tags": []
     },
     "output_type": "display_data"
    },
    {
     "data": {
      "text/html": [],
      "text/plain": [
       "<IPython.core.display.HTML object>"
      ]
     },
     "metadata": {
      "tags": []
     },
     "output_type": "display_data"
    },
    {
     "data": {
      "text/html": [],
      "text/plain": [
       "<IPython.core.display.HTML object>"
      ]
     },
     "metadata": {
      "tags": []
     },
     "output_type": "display_data"
    },
    {
     "data": {
      "text/html": [],
      "text/plain": [
       "<IPython.core.display.HTML object>"
      ]
     },
     "metadata": {
      "tags": []
     },
     "output_type": "display_data"
    },
    {
     "data": {
      "text/html": [],
      "text/plain": [
       "<IPython.core.display.HTML object>"
      ]
     },
     "metadata": {
      "tags": []
     },
     "output_type": "display_data"
    },
    {
     "data": {
      "text/html": [],
      "text/plain": [
       "<IPython.core.display.HTML object>"
      ]
     },
     "metadata": {
      "tags": []
     },
     "output_type": "display_data"
    },
    {
     "data": {
      "text/html": [],
      "text/plain": [
       "<IPython.core.display.HTML object>"
      ]
     },
     "metadata": {
      "tags": []
     },
     "output_type": "display_data"
    },
    {
     "data": {
      "text/html": [],
      "text/plain": [
       "<IPython.core.display.HTML object>"
      ]
     },
     "metadata": {
      "tags": []
     },
     "output_type": "display_data"
    },
    {
     "data": {
      "text/html": [],
      "text/plain": [
       "<IPython.core.display.HTML object>"
      ]
     },
     "metadata": {
      "tags": []
     },
     "output_type": "display_data"
    },
    {
     "data": {
      "text/html": [],
      "text/plain": [
       "<IPython.core.display.HTML object>"
      ]
     },
     "metadata": {
      "tags": []
     },
     "output_type": "display_data"
    },
    {
     "data": {
      "text/html": [],
      "text/plain": [
       "<IPython.core.display.HTML object>"
      ]
     },
     "metadata": {
      "tags": []
     },
     "output_type": "display_data"
    },
    {
     "data": {
      "text/html": [],
      "text/plain": [
       "<IPython.core.display.HTML object>"
      ]
     },
     "metadata": {
      "tags": []
     },
     "output_type": "display_data"
    },
    {
     "data": {
      "text/html": [],
      "text/plain": [
       "<IPython.core.display.HTML object>"
      ]
     },
     "metadata": {
      "tags": []
     },
     "output_type": "display_data"
    },
    {
     "data": {
      "text/html": [],
      "text/plain": [
       "<IPython.core.display.HTML object>"
      ]
     },
     "metadata": {
      "tags": []
     },
     "output_type": "display_data"
    },
    {
     "data": {
      "text/html": [],
      "text/plain": [
       "<IPython.core.display.HTML object>"
      ]
     },
     "metadata": {
      "tags": []
     },
     "output_type": "display_data"
    },
    {
     "data": {
      "text/html": [],
      "text/plain": [
       "<IPython.core.display.HTML object>"
      ]
     },
     "metadata": {
      "tags": []
     },
     "output_type": "display_data"
    },
    {
     "data": {
      "text/html": [],
      "text/plain": [
       "<IPython.core.display.HTML object>"
      ]
     },
     "metadata": {
      "tags": []
     },
     "output_type": "display_data"
    },
    {
     "data": {
      "text/html": [],
      "text/plain": [
       "<IPython.core.display.HTML object>"
      ]
     },
     "metadata": {
      "tags": []
     },
     "output_type": "display_data"
    },
    {
     "data": {
      "text/html": [],
      "text/plain": [
       "<IPython.core.display.HTML object>"
      ]
     },
     "metadata": {
      "tags": []
     },
     "output_type": "display_data"
    },
    {
     "data": {
      "text/html": [],
      "text/plain": [
       "<IPython.core.display.HTML object>"
      ]
     },
     "metadata": {
      "tags": []
     },
     "output_type": "display_data"
    },
    {
     "data": {
      "text/html": [],
      "text/plain": [
       "<IPython.core.display.HTML object>"
      ]
     },
     "metadata": {
      "tags": []
     },
     "output_type": "display_data"
    },
    {
     "data": {
      "text/html": [],
      "text/plain": [
       "<IPython.core.display.HTML object>"
      ]
     },
     "metadata": {
      "tags": []
     },
     "output_type": "display_data"
    },
    {
     "data": {
      "text/html": [],
      "text/plain": [
       "<IPython.core.display.HTML object>"
      ]
     },
     "metadata": {
      "tags": []
     },
     "output_type": "display_data"
    },
    {
     "data": {
      "text/html": [],
      "text/plain": [
       "<IPython.core.display.HTML object>"
      ]
     },
     "metadata": {
      "tags": []
     },
     "output_type": "display_data"
    },
    {
     "data": {
      "text/html": [],
      "text/plain": [
       "<IPython.core.display.HTML object>"
      ]
     },
     "metadata": {
      "tags": []
     },
     "output_type": "display_data"
    },
    {
     "data": {
      "text/html": [],
      "text/plain": [
       "<IPython.core.display.HTML object>"
      ]
     },
     "metadata": {
      "tags": []
     },
     "output_type": "display_data"
    },
    {
     "data": {
      "text/html": [],
      "text/plain": [
       "<IPython.core.display.HTML object>"
      ]
     },
     "metadata": {
      "tags": []
     },
     "output_type": "display_data"
    },
    {
     "data": {
      "text/html": [],
      "text/plain": [
       "<IPython.core.display.HTML object>"
      ]
     },
     "metadata": {
      "tags": []
     },
     "output_type": "display_data"
    },
    {
     "data": {
      "text/html": [],
      "text/plain": [
       "<IPython.core.display.HTML object>"
      ]
     },
     "metadata": {
      "tags": []
     },
     "output_type": "display_data"
    },
    {
     "data": {
      "text/html": [],
      "text/plain": [
       "<IPython.core.display.HTML object>"
      ]
     },
     "metadata": {
      "tags": []
     },
     "output_type": "display_data"
    },
    {
     "data": {
      "text/html": [],
      "text/plain": [
       "<IPython.core.display.HTML object>"
      ]
     },
     "metadata": {
      "tags": []
     },
     "output_type": "display_data"
    },
    {
     "data": {
      "text/html": [],
      "text/plain": [
       "<IPython.core.display.HTML object>"
      ]
     },
     "metadata": {
      "tags": []
     },
     "output_type": "display_data"
    },
    {
     "data": {
      "text/html": [],
      "text/plain": [
       "<IPython.core.display.HTML object>"
      ]
     },
     "metadata": {
      "tags": []
     },
     "output_type": "display_data"
    },
    {
     "data": {
      "text/html": [],
      "text/plain": [
       "<IPython.core.display.HTML object>"
      ]
     },
     "metadata": {
      "tags": []
     },
     "output_type": "display_data"
    },
    {
     "data": {
      "text/html": [],
      "text/plain": [
       "<IPython.core.display.HTML object>"
      ]
     },
     "metadata": {
      "tags": []
     },
     "output_type": "display_data"
    },
    {
     "data": {
      "text/html": [],
      "text/plain": [
       "<IPython.core.display.HTML object>"
      ]
     },
     "metadata": {
      "tags": []
     },
     "output_type": "display_data"
    },
    {
     "data": {
      "text/html": [],
      "text/plain": [
       "<IPython.core.display.HTML object>"
      ]
     },
     "metadata": {
      "tags": []
     },
     "output_type": "display_data"
    },
    {
     "data": {
      "text/html": [],
      "text/plain": [
       "<IPython.core.display.HTML object>"
      ]
     },
     "metadata": {
      "tags": []
     },
     "output_type": "display_data"
    },
    {
     "data": {
      "text/html": [],
      "text/plain": [
       "<IPython.core.display.HTML object>"
      ]
     },
     "metadata": {
      "tags": []
     },
     "output_type": "display_data"
    },
    {
     "data": {
      "text/html": [],
      "text/plain": [
       "<IPython.core.display.HTML object>"
      ]
     },
     "metadata": {
      "tags": []
     },
     "output_type": "display_data"
    },
    {
     "data": {
      "text/html": [],
      "text/plain": [
       "<IPython.core.display.HTML object>"
      ]
     },
     "metadata": {
      "tags": []
     },
     "output_type": "display_data"
    },
    {
     "data": {
      "text/html": [],
      "text/plain": [
       "<IPython.core.display.HTML object>"
      ]
     },
     "metadata": {
      "tags": []
     },
     "output_type": "display_data"
    },
    {
     "data": {
      "text/html": [],
      "text/plain": [
       "<IPython.core.display.HTML object>"
      ]
     },
     "metadata": {
      "tags": []
     },
     "output_type": "display_data"
    },
    {
     "data": {
      "text/html": [],
      "text/plain": [
       "<IPython.core.display.HTML object>"
      ]
     },
     "metadata": {
      "tags": []
     },
     "output_type": "display_data"
    },
    {
     "data": {
      "text/html": [],
      "text/plain": [
       "<IPython.core.display.HTML object>"
      ]
     },
     "metadata": {
      "tags": []
     },
     "output_type": "display_data"
    },
    {
     "data": {
      "text/html": [],
      "text/plain": [
       "<IPython.core.display.HTML object>"
      ]
     },
     "metadata": {
      "tags": []
     },
     "output_type": "display_data"
    },
    {
     "data": {
      "text/html": [],
      "text/plain": [
       "<IPython.core.display.HTML object>"
      ]
     },
     "metadata": {
      "tags": []
     },
     "output_type": "display_data"
    },
    {
     "data": {
      "text/html": [],
      "text/plain": [
       "<IPython.core.display.HTML object>"
      ]
     },
     "metadata": {
      "tags": []
     },
     "output_type": "display_data"
    },
    {
     "data": {
      "text/html": [],
      "text/plain": [
       "<IPython.core.display.HTML object>"
      ]
     },
     "metadata": {
      "tags": []
     },
     "output_type": "display_data"
    },
    {
     "data": {
      "text/html": [],
      "text/plain": [
       "<IPython.core.display.HTML object>"
      ]
     },
     "metadata": {
      "tags": []
     },
     "output_type": "display_data"
    },
    {
     "data": {
      "text/html": [],
      "text/plain": [
       "<IPython.core.display.HTML object>"
      ]
     },
     "metadata": {
      "tags": []
     },
     "output_type": "display_data"
    },
    {
     "data": {
      "text/html": [],
      "text/plain": [
       "<IPython.core.display.HTML object>"
      ]
     },
     "metadata": {
      "tags": []
     },
     "output_type": "display_data"
    },
    {
     "data": {
      "text/html": [],
      "text/plain": [
       "<IPython.core.display.HTML object>"
      ]
     },
     "metadata": {
      "tags": []
     },
     "output_type": "display_data"
    },
    {
     "data": {
      "text/html": [],
      "text/plain": [
       "<IPython.core.display.HTML object>"
      ]
     },
     "metadata": {
      "tags": []
     },
     "output_type": "display_data"
    },
    {
     "data": {
      "text/html": [],
      "text/plain": [
       "<IPython.core.display.HTML object>"
      ]
     },
     "metadata": {
      "tags": []
     },
     "output_type": "display_data"
    },
    {
     "data": {
      "text/html": [],
      "text/plain": [
       "<IPython.core.display.HTML object>"
      ]
     },
     "metadata": {
      "tags": []
     },
     "output_type": "display_data"
    },
    {
     "data": {
      "text/html": [],
      "text/plain": [
       "<IPython.core.display.HTML object>"
      ]
     },
     "metadata": {
      "tags": []
     },
     "output_type": "display_data"
    },
    {
     "data": {
      "text/html": [],
      "text/plain": [
       "<IPython.core.display.HTML object>"
      ]
     },
     "metadata": {
      "tags": []
     },
     "output_type": "display_data"
    },
    {
     "data": {
      "text/html": [],
      "text/plain": [
       "<IPython.core.display.HTML object>"
      ]
     },
     "metadata": {
      "tags": []
     },
     "output_type": "display_data"
    },
    {
     "data": {
      "text/html": [],
      "text/plain": [
       "<IPython.core.display.HTML object>"
      ]
     },
     "metadata": {
      "tags": []
     },
     "output_type": "display_data"
    },
    {
     "data": {
      "text/html": [],
      "text/plain": [
       "<IPython.core.display.HTML object>"
      ]
     },
     "metadata": {
      "tags": []
     },
     "output_type": "display_data"
    },
    {
     "data": {
      "text/html": [],
      "text/plain": [
       "<IPython.core.display.HTML object>"
      ]
     },
     "metadata": {
      "tags": []
     },
     "output_type": "display_data"
    },
    {
     "data": {
      "text/html": [],
      "text/plain": [
       "<IPython.core.display.HTML object>"
      ]
     },
     "metadata": {
      "tags": []
     },
     "output_type": "display_data"
    },
    {
     "data": {
      "text/html": [],
      "text/plain": [
       "<IPython.core.display.HTML object>"
      ]
     },
     "metadata": {
      "tags": []
     },
     "output_type": "display_data"
    },
    {
     "data": {
      "text/html": [],
      "text/plain": [
       "<IPython.core.display.HTML object>"
      ]
     },
     "metadata": {
      "tags": []
     },
     "output_type": "display_data"
    },
    {
     "data": {
      "text/html": [],
      "text/plain": [
       "<IPython.core.display.HTML object>"
      ]
     },
     "metadata": {
      "tags": []
     },
     "output_type": "display_data"
    },
    {
     "data": {
      "text/html": [],
      "text/plain": [
       "<IPython.core.display.HTML object>"
      ]
     },
     "metadata": {
      "tags": []
     },
     "output_type": "display_data"
    },
    {
     "data": {
      "text/html": [],
      "text/plain": [
       "<IPython.core.display.HTML object>"
      ]
     },
     "metadata": {
      "tags": []
     },
     "output_type": "display_data"
    },
    {
     "data": {
      "text/html": [],
      "text/plain": [
       "<IPython.core.display.HTML object>"
      ]
     },
     "metadata": {
      "tags": []
     },
     "output_type": "display_data"
    },
    {
     "data": {
      "text/html": [],
      "text/plain": [
       "<IPython.core.display.HTML object>"
      ]
     },
     "metadata": {
      "tags": []
     },
     "output_type": "display_data"
    },
    {
     "data": {
      "text/html": [],
      "text/plain": [
       "<IPython.core.display.HTML object>"
      ]
     },
     "metadata": {
      "tags": []
     },
     "output_type": "display_data"
    },
    {
     "data": {
      "text/html": [],
      "text/plain": [
       "<IPython.core.display.HTML object>"
      ]
     },
     "metadata": {
      "tags": []
     },
     "output_type": "display_data"
    },
    {
     "data": {
      "text/html": [],
      "text/plain": [
       "<IPython.core.display.HTML object>"
      ]
     },
     "metadata": {
      "tags": []
     },
     "output_type": "display_data"
    },
    {
     "data": {
      "text/html": [],
      "text/plain": [
       "<IPython.core.display.HTML object>"
      ]
     },
     "metadata": {
      "tags": []
     },
     "output_type": "display_data"
    },
    {
     "data": {
      "text/html": [],
      "text/plain": [
       "<IPython.core.display.HTML object>"
      ]
     },
     "metadata": {
      "tags": []
     },
     "output_type": "display_data"
    },
    {
     "data": {
      "text/html": [],
      "text/plain": [
       "<IPython.core.display.HTML object>"
      ]
     },
     "metadata": {
      "tags": []
     },
     "output_type": "display_data"
    },
    {
     "data": {
      "text/html": [],
      "text/plain": [
       "<IPython.core.display.HTML object>"
      ]
     },
     "metadata": {
      "tags": []
     },
     "output_type": "display_data"
    },
    {
     "data": {
      "text/html": [],
      "text/plain": [
       "<IPython.core.display.HTML object>"
      ]
     },
     "metadata": {
      "tags": []
     },
     "output_type": "display_data"
    },
    {
     "data": {
      "text/html": [],
      "text/plain": [
       "<IPython.core.display.HTML object>"
      ]
     },
     "metadata": {
      "tags": []
     },
     "output_type": "display_data"
    },
    {
     "data": {
      "text/html": [],
      "text/plain": [
       "<IPython.core.display.HTML object>"
      ]
     },
     "metadata": {
      "tags": []
     },
     "output_type": "display_data"
    },
    {
     "data": {
      "text/html": [],
      "text/plain": [
       "<IPython.core.display.HTML object>"
      ]
     },
     "metadata": {
      "tags": []
     },
     "output_type": "display_data"
    },
    {
     "data": {
      "text/html": [],
      "text/plain": [
       "<IPython.core.display.HTML object>"
      ]
     },
     "metadata": {
      "tags": []
     },
     "output_type": "display_data"
    },
    {
     "data": {
      "text/html": [],
      "text/plain": [
       "<IPython.core.display.HTML object>"
      ]
     },
     "metadata": {
      "tags": []
     },
     "output_type": "display_data"
    },
    {
     "data": {
      "text/html": [],
      "text/plain": [
       "<IPython.core.display.HTML object>"
      ]
     },
     "metadata": {
      "tags": []
     },
     "output_type": "display_data"
    },
    {
     "data": {
      "text/html": [],
      "text/plain": [
       "<IPython.core.display.HTML object>"
      ]
     },
     "metadata": {
      "tags": []
     },
     "output_type": "display_data"
    },
    {
     "data": {
      "text/html": [],
      "text/plain": [
       "<IPython.core.display.HTML object>"
      ]
     },
     "metadata": {
      "tags": []
     },
     "output_type": "display_data"
    },
    {
     "data": {
      "text/html": [],
      "text/plain": [
       "<IPython.core.display.HTML object>"
      ]
     },
     "metadata": {
      "tags": []
     },
     "output_type": "display_data"
    },
    {
     "data": {
      "text/html": [],
      "text/plain": [
       "<IPython.core.display.HTML object>"
      ]
     },
     "metadata": {
      "tags": []
     },
     "output_type": "display_data"
    },
    {
     "data": {
      "text/html": [],
      "text/plain": [
       "<IPython.core.display.HTML object>"
      ]
     },
     "metadata": {
      "tags": []
     },
     "output_type": "display_data"
    },
    {
     "data": {
      "text/html": [],
      "text/plain": [
       "<IPython.core.display.HTML object>"
      ]
     },
     "metadata": {
      "tags": []
     },
     "output_type": "display_data"
    },
    {
     "data": {
      "text/html": [],
      "text/plain": [
       "<IPython.core.display.HTML object>"
      ]
     },
     "metadata": {
      "tags": []
     },
     "output_type": "display_data"
    },
    {
     "data": {
      "text/html": [],
      "text/plain": [
       "<IPython.core.display.HTML object>"
      ]
     },
     "metadata": {
      "tags": []
     },
     "output_type": "display_data"
    },
    {
     "data": {
      "text/html": [],
      "text/plain": [
       "<IPython.core.display.HTML object>"
      ]
     },
     "metadata": {
      "tags": []
     },
     "output_type": "display_data"
    },
    {
     "data": {
      "text/html": [],
      "text/plain": [
       "<IPython.core.display.HTML object>"
      ]
     },
     "metadata": {
      "tags": []
     },
     "output_type": "display_data"
    },
    {
     "data": {
      "text/html": [],
      "text/plain": [
       "<IPython.core.display.HTML object>"
      ]
     },
     "metadata": {
      "tags": []
     },
     "output_type": "display_data"
    },
    {
     "data": {
      "text/html": [],
      "text/plain": [
       "<IPython.core.display.HTML object>"
      ]
     },
     "metadata": {
      "tags": []
     },
     "output_type": "display_data"
    },
    {
     "data": {
      "text/html": [],
      "text/plain": [
       "<IPython.core.display.HTML object>"
      ]
     },
     "metadata": {
      "tags": []
     },
     "output_type": "display_data"
    },
    {
     "data": {
      "text/html": [],
      "text/plain": [
       "<IPython.core.display.HTML object>"
      ]
     },
     "metadata": {
      "tags": []
     },
     "output_type": "display_data"
    },
    {
     "data": {
      "text/html": [],
      "text/plain": [
       "<IPython.core.display.HTML object>"
      ]
     },
     "metadata": {
      "tags": []
     },
     "output_type": "display_data"
    },
    {
     "data": {
      "text/html": [],
      "text/plain": [
       "<IPython.core.display.HTML object>"
      ]
     },
     "metadata": {
      "tags": []
     },
     "output_type": "display_data"
    },
    {
     "data": {
      "text/html": [],
      "text/plain": [
       "<IPython.core.display.HTML object>"
      ]
     },
     "metadata": {
      "tags": []
     },
     "output_type": "display_data"
    },
    {
     "data": {
      "text/html": [],
      "text/plain": [
       "<IPython.core.display.HTML object>"
      ]
     },
     "metadata": {
      "tags": []
     },
     "output_type": "display_data"
    },
    {
     "data": {
      "text/html": [],
      "text/plain": [
       "<IPython.core.display.HTML object>"
      ]
     },
     "metadata": {
      "tags": []
     },
     "output_type": "display_data"
    },
    {
     "data": {
      "text/html": [],
      "text/plain": [
       "<IPython.core.display.HTML object>"
      ]
     },
     "metadata": {
      "tags": []
     },
     "output_type": "display_data"
    },
    {
     "data": {
      "text/html": [],
      "text/plain": [
       "<IPython.core.display.HTML object>"
      ]
     },
     "metadata": {
      "tags": []
     },
     "output_type": "display_data"
    },
    {
     "data": {
      "text/html": [],
      "text/plain": [
       "<IPython.core.display.HTML object>"
      ]
     },
     "metadata": {
      "tags": []
     },
     "output_type": "display_data"
    },
    {
     "data": {
      "text/html": [],
      "text/plain": [
       "<IPython.core.display.HTML object>"
      ]
     },
     "metadata": {
      "tags": []
     },
     "output_type": "display_data"
    },
    {
     "data": {
      "text/html": [],
      "text/plain": [
       "<IPython.core.display.HTML object>"
      ]
     },
     "metadata": {
      "tags": []
     },
     "output_type": "display_data"
    },
    {
     "data": {
      "text/html": [],
      "text/plain": [
       "<IPython.core.display.HTML object>"
      ]
     },
     "metadata": {
      "tags": []
     },
     "output_type": "display_data"
    },
    {
     "data": {
      "text/html": [],
      "text/plain": [
       "<IPython.core.display.HTML object>"
      ]
     },
     "metadata": {
      "tags": []
     },
     "output_type": "display_data"
    },
    {
     "data": {
      "text/html": [],
      "text/plain": [
       "<IPython.core.display.HTML object>"
      ]
     },
     "metadata": {
      "tags": []
     },
     "output_type": "display_data"
    },
    {
     "data": {
      "text/html": [],
      "text/plain": [
       "<IPython.core.display.HTML object>"
      ]
     },
     "metadata": {
      "tags": []
     },
     "output_type": "display_data"
    },
    {
     "data": {
      "text/html": [],
      "text/plain": [
       "<IPython.core.display.HTML object>"
      ]
     },
     "metadata": {
      "tags": []
     },
     "output_type": "display_data"
    },
    {
     "data": {
      "text/html": [],
      "text/plain": [
       "<IPython.core.display.HTML object>"
      ]
     },
     "metadata": {
      "tags": []
     },
     "output_type": "display_data"
    },
    {
     "data": {
      "text/html": [],
      "text/plain": [
       "<IPython.core.display.HTML object>"
      ]
     },
     "metadata": {
      "tags": []
     },
     "output_type": "display_data"
    },
    {
     "data": {
      "text/html": [],
      "text/plain": [
       "<IPython.core.display.HTML object>"
      ]
     },
     "metadata": {
      "tags": []
     },
     "output_type": "display_data"
    },
    {
     "data": {
      "text/html": [],
      "text/plain": [
       "<IPython.core.display.HTML object>"
      ]
     },
     "metadata": {
      "tags": []
     },
     "output_type": "display_data"
    },
    {
     "data": {
      "text/html": [],
      "text/plain": [
       "<IPython.core.display.HTML object>"
      ]
     },
     "metadata": {
      "tags": []
     },
     "output_type": "display_data"
    },
    {
     "data": {
      "text/html": [],
      "text/plain": [
       "<IPython.core.display.HTML object>"
      ]
     },
     "metadata": {
      "tags": []
     },
     "output_type": "display_data"
    },
    {
     "data": {
      "text/html": [],
      "text/plain": [
       "<IPython.core.display.HTML object>"
      ]
     },
     "metadata": {
      "tags": []
     },
     "output_type": "display_data"
    },
    {
     "data": {
      "text/html": [],
      "text/plain": [
       "<IPython.core.display.HTML object>"
      ]
     },
     "metadata": {
      "tags": []
     },
     "output_type": "display_data"
    },
    {
     "data": {
      "text/html": [],
      "text/plain": [
       "<IPython.core.display.HTML object>"
      ]
     },
     "metadata": {
      "tags": []
     },
     "output_type": "display_data"
    },
    {
     "data": {
      "text/html": [],
      "text/plain": [
       "<IPython.core.display.HTML object>"
      ]
     },
     "metadata": {
      "tags": []
     },
     "output_type": "display_data"
    },
    {
     "data": {
      "text/html": [],
      "text/plain": [
       "<IPython.core.display.HTML object>"
      ]
     },
     "metadata": {
      "tags": []
     },
     "output_type": "display_data"
    },
    {
     "data": {
      "text/html": [],
      "text/plain": [
       "<IPython.core.display.HTML object>"
      ]
     },
     "metadata": {
      "tags": []
     },
     "output_type": "display_data"
    },
    {
     "data": {
      "text/html": [],
      "text/plain": [
       "<IPython.core.display.HTML object>"
      ]
     },
     "metadata": {
      "tags": []
     },
     "output_type": "display_data"
    },
    {
     "data": {
      "text/html": [],
      "text/plain": [
       "<IPython.core.display.HTML object>"
      ]
     },
     "metadata": {
      "tags": []
     },
     "output_type": "display_data"
    },
    {
     "data": {
      "text/html": [],
      "text/plain": [
       "<IPython.core.display.HTML object>"
      ]
     },
     "metadata": {
      "tags": []
     },
     "output_type": "display_data"
    },
    {
     "data": {
      "text/html": [],
      "text/plain": [
       "<IPython.core.display.HTML object>"
      ]
     },
     "metadata": {
      "tags": []
     },
     "output_type": "display_data"
    },
    {
     "data": {
      "text/html": [],
      "text/plain": [
       "<IPython.core.display.HTML object>"
      ]
     },
     "metadata": {
      "tags": []
     },
     "output_type": "display_data"
    },
    {
     "data": {
      "text/html": [],
      "text/plain": [
       "<IPython.core.display.HTML object>"
      ]
     },
     "metadata": {
      "tags": []
     },
     "output_type": "display_data"
    },
    {
     "data": {
      "text/html": [],
      "text/plain": [
       "<IPython.core.display.HTML object>"
      ]
     },
     "metadata": {
      "tags": []
     },
     "output_type": "display_data"
    },
    {
     "data": {
      "text/html": [],
      "text/plain": [
       "<IPython.core.display.HTML object>"
      ]
     },
     "metadata": {
      "tags": []
     },
     "output_type": "display_data"
    },
    {
     "data": {
      "text/html": [],
      "text/plain": [
       "<IPython.core.display.HTML object>"
      ]
     },
     "metadata": {
      "tags": []
     },
     "output_type": "display_data"
    },
    {
     "data": {
      "text/html": [],
      "text/plain": [
       "<IPython.core.display.HTML object>"
      ]
     },
     "metadata": {
      "tags": []
     },
     "output_type": "display_data"
    },
    {
     "data": {
      "text/html": [],
      "text/plain": [
       "<IPython.core.display.HTML object>"
      ]
     },
     "metadata": {
      "tags": []
     },
     "output_type": "display_data"
    },
    {
     "data": {
      "text/html": [],
      "text/plain": [
       "<IPython.core.display.HTML object>"
      ]
     },
     "metadata": {
      "tags": []
     },
     "output_type": "display_data"
    },
    {
     "data": {
      "text/html": [],
      "text/plain": [
       "<IPython.core.display.HTML object>"
      ]
     },
     "metadata": {
      "tags": []
     },
     "output_type": "display_data"
    },
    {
     "data": {
      "text/html": [],
      "text/plain": [
       "<IPython.core.display.HTML object>"
      ]
     },
     "metadata": {
      "tags": []
     },
     "output_type": "display_data"
    },
    {
     "data": {
      "text/html": [],
      "text/plain": [
       "<IPython.core.display.HTML object>"
      ]
     },
     "metadata": {
      "tags": []
     },
     "output_type": "display_data"
    },
    {
     "data": {
      "text/html": [],
      "text/plain": [
       "<IPython.core.display.HTML object>"
      ]
     },
     "metadata": {
      "tags": []
     },
     "output_type": "display_data"
    },
    {
     "data": {
      "text/html": [],
      "text/plain": [
       "<IPython.core.display.HTML object>"
      ]
     },
     "metadata": {
      "tags": []
     },
     "output_type": "display_data"
    },
    {
     "data": {
      "text/html": [],
      "text/plain": [
       "<IPython.core.display.HTML object>"
      ]
     },
     "metadata": {
      "tags": []
     },
     "output_type": "display_data"
    },
    {
     "data": {
      "text/html": [],
      "text/plain": [
       "<IPython.core.display.HTML object>"
      ]
     },
     "metadata": {
      "tags": []
     },
     "output_type": "display_data"
    },
    {
     "data": {
      "text/html": [],
      "text/plain": [
       "<IPython.core.display.HTML object>"
      ]
     },
     "metadata": {
      "tags": []
     },
     "output_type": "display_data"
    },
    {
     "data": {
      "text/html": [],
      "text/plain": [
       "<IPython.core.display.HTML object>"
      ]
     },
     "metadata": {
      "tags": []
     },
     "output_type": "display_data"
    },
    {
     "data": {
      "text/html": [],
      "text/plain": [
       "<IPython.core.display.HTML object>"
      ]
     },
     "metadata": {
      "tags": []
     },
     "output_type": "display_data"
    },
    {
     "data": {
      "text/html": [],
      "text/plain": [
       "<IPython.core.display.HTML object>"
      ]
     },
     "metadata": {
      "tags": []
     },
     "output_type": "display_data"
    },
    {
     "data": {
      "text/html": [],
      "text/plain": [
       "<IPython.core.display.HTML object>"
      ]
     },
     "metadata": {
      "tags": []
     },
     "output_type": "display_data"
    },
    {
     "data": {
      "text/html": [],
      "text/plain": [
       "<IPython.core.display.HTML object>"
      ]
     },
     "metadata": {
      "tags": []
     },
     "output_type": "display_data"
    },
    {
     "data": {
      "text/html": [],
      "text/plain": [
       "<IPython.core.display.HTML object>"
      ]
     },
     "metadata": {
      "tags": []
     },
     "output_type": "display_data"
    },
    {
     "data": {
      "text/html": [],
      "text/plain": [
       "<IPython.core.display.HTML object>"
      ]
     },
     "metadata": {
      "tags": []
     },
     "output_type": "display_data"
    },
    {
     "data": {
      "text/html": [],
      "text/plain": [
       "<IPython.core.display.HTML object>"
      ]
     },
     "metadata": {
      "tags": []
     },
     "output_type": "display_data"
    },
    {
     "data": {
      "text/html": [],
      "text/plain": [
       "<IPython.core.display.HTML object>"
      ]
     },
     "metadata": {
      "tags": []
     },
     "output_type": "display_data"
    },
    {
     "data": {
      "text/html": [],
      "text/plain": [
       "<IPython.core.display.HTML object>"
      ]
     },
     "metadata": {
      "tags": []
     },
     "output_type": "display_data"
    },
    {
     "data": {
      "text/html": [],
      "text/plain": [
       "<IPython.core.display.HTML object>"
      ]
     },
     "metadata": {
      "tags": []
     },
     "output_type": "display_data"
    },
    {
     "data": {
      "text/html": [],
      "text/plain": [
       "<IPython.core.display.HTML object>"
      ]
     },
     "metadata": {
      "tags": []
     },
     "output_type": "display_data"
    },
    {
     "data": {
      "text/html": [],
      "text/plain": [
       "<IPython.core.display.HTML object>"
      ]
     },
     "metadata": {
      "tags": []
     },
     "output_type": "display_data"
    },
    {
     "data": {
      "text/html": [],
      "text/plain": [
       "<IPython.core.display.HTML object>"
      ]
     },
     "metadata": {
      "tags": []
     },
     "output_type": "display_data"
    },
    {
     "data": {
      "text/html": [],
      "text/plain": [
       "<IPython.core.display.HTML object>"
      ]
     },
     "metadata": {
      "tags": []
     },
     "output_type": "display_data"
    },
    {
     "data": {
      "text/html": [],
      "text/plain": [
       "<IPython.core.display.HTML object>"
      ]
     },
     "metadata": {
      "tags": []
     },
     "output_type": "display_data"
    },
    {
     "data": {
      "text/html": [],
      "text/plain": [
       "<IPython.core.display.HTML object>"
      ]
     },
     "metadata": {
      "tags": []
     },
     "output_type": "display_data"
    },
    {
     "data": {
      "text/html": [],
      "text/plain": [
       "<IPython.core.display.HTML object>"
      ]
     },
     "metadata": {
      "tags": []
     },
     "output_type": "display_data"
    },
    {
     "data": {
      "text/html": [],
      "text/plain": [
       "<IPython.core.display.HTML object>"
      ]
     },
     "metadata": {
      "tags": []
     },
     "output_type": "display_data"
    },
    {
     "data": {
      "text/html": [],
      "text/plain": [
       "<IPython.core.display.HTML object>"
      ]
     },
     "metadata": {
      "tags": []
     },
     "output_type": "display_data"
    },
    {
     "data": {
      "text/html": [],
      "text/plain": [
       "<IPython.core.display.HTML object>"
      ]
     },
     "metadata": {
      "tags": []
     },
     "output_type": "display_data"
    },
    {
     "data": {
      "text/html": [],
      "text/plain": [
       "<IPython.core.display.HTML object>"
      ]
     },
     "metadata": {
      "tags": []
     },
     "output_type": "display_data"
    },
    {
     "data": {
      "text/html": [],
      "text/plain": [
       "<IPython.core.display.HTML object>"
      ]
     },
     "metadata": {
      "tags": []
     },
     "output_type": "display_data"
    },
    {
     "data": {
      "text/html": [],
      "text/plain": [
       "<IPython.core.display.HTML object>"
      ]
     },
     "metadata": {
      "tags": []
     },
     "output_type": "display_data"
    },
    {
     "data": {
      "text/html": [],
      "text/plain": [
       "<IPython.core.display.HTML object>"
      ]
     },
     "metadata": {
      "tags": []
     },
     "output_type": "display_data"
    },
    {
     "data": {
      "text/html": [],
      "text/plain": [
       "<IPython.core.display.HTML object>"
      ]
     },
     "metadata": {
      "tags": []
     },
     "output_type": "display_data"
    },
    {
     "data": {
      "text/html": [],
      "text/plain": [
       "<IPython.core.display.HTML object>"
      ]
     },
     "metadata": {
      "tags": []
     },
     "output_type": "display_data"
    },
    {
     "data": {
      "text/html": [],
      "text/plain": [
       "<IPython.core.display.HTML object>"
      ]
     },
     "metadata": {
      "tags": []
     },
     "output_type": "display_data"
    },
    {
     "data": {
      "text/html": [],
      "text/plain": [
       "<IPython.core.display.HTML object>"
      ]
     },
     "metadata": {
      "tags": []
     },
     "output_type": "display_data"
    },
    {
     "data": {
      "text/html": [],
      "text/plain": [
       "<IPython.core.display.HTML object>"
      ]
     },
     "metadata": {
      "tags": []
     },
     "output_type": "display_data"
    },
    {
     "data": {
      "text/html": [],
      "text/plain": [
       "<IPython.core.display.HTML object>"
      ]
     },
     "metadata": {
      "tags": []
     },
     "output_type": "display_data"
    },
    {
     "data": {
      "text/html": [],
      "text/plain": [
       "<IPython.core.display.HTML object>"
      ]
     },
     "metadata": {
      "tags": []
     },
     "output_type": "display_data"
    },
    {
     "data": {
      "text/html": [],
      "text/plain": [
       "<IPython.core.display.HTML object>"
      ]
     },
     "metadata": {
      "tags": []
     },
     "output_type": "display_data"
    },
    {
     "data": {
      "text/html": [],
      "text/plain": [
       "<IPython.core.display.HTML object>"
      ]
     },
     "metadata": {
      "tags": []
     },
     "output_type": "display_data"
    },
    {
     "data": {
      "text/html": [],
      "text/plain": [
       "<IPython.core.display.HTML object>"
      ]
     },
     "metadata": {
      "tags": []
     },
     "output_type": "display_data"
    },
    {
     "data": {
      "text/html": [],
      "text/plain": [
       "<IPython.core.display.HTML object>"
      ]
     },
     "metadata": {
      "tags": []
     },
     "output_type": "display_data"
    },
    {
     "data": {
      "text/html": [],
      "text/plain": [
       "<IPython.core.display.HTML object>"
      ]
     },
     "metadata": {
      "tags": []
     },
     "output_type": "display_data"
    },
    {
     "data": {
      "text/html": [],
      "text/plain": [
       "<IPython.core.display.HTML object>"
      ]
     },
     "metadata": {
      "tags": []
     },
     "output_type": "display_data"
    },
    {
     "data": {
      "text/html": [],
      "text/plain": [
       "<IPython.core.display.HTML object>"
      ]
     },
     "metadata": {
      "tags": []
     },
     "output_type": "display_data"
    },
    {
     "data": {
      "text/html": [],
      "text/plain": [
       "<IPython.core.display.HTML object>"
      ]
     },
     "metadata": {
      "tags": []
     },
     "output_type": "display_data"
    },
    {
     "data": {
      "text/html": [],
      "text/plain": [
       "<IPython.core.display.HTML object>"
      ]
     },
     "metadata": {
      "tags": []
     },
     "output_type": "display_data"
    },
    {
     "data": {
      "text/html": [],
      "text/plain": [
       "<IPython.core.display.HTML object>"
      ]
     },
     "metadata": {
      "tags": []
     },
     "output_type": "display_data"
    },
    {
     "data": {
      "text/html": [],
      "text/plain": [
       "<IPython.core.display.HTML object>"
      ]
     },
     "metadata": {
      "tags": []
     },
     "output_type": "display_data"
    },
    {
     "data": {
      "text/html": [],
      "text/plain": [
       "<IPython.core.display.HTML object>"
      ]
     },
     "metadata": {
      "tags": []
     },
     "output_type": "display_data"
    },
    {
     "data": {
      "text/html": [],
      "text/plain": [
       "<IPython.core.display.HTML object>"
      ]
     },
     "metadata": {
      "tags": []
     },
     "output_type": "display_data"
    },
    {
     "data": {
      "text/html": [],
      "text/plain": [
       "<IPython.core.display.HTML object>"
      ]
     },
     "metadata": {
      "tags": []
     },
     "output_type": "display_data"
    },
    {
     "data": {
      "text/html": [],
      "text/plain": [
       "<IPython.core.display.HTML object>"
      ]
     },
     "metadata": {
      "tags": []
     },
     "output_type": "display_data"
    },
    {
     "data": {
      "text/html": [],
      "text/plain": [
       "<IPython.core.display.HTML object>"
      ]
     },
     "metadata": {
      "tags": []
     },
     "output_type": "display_data"
    },
    {
     "data": {
      "text/html": [],
      "text/plain": [
       "<IPython.core.display.HTML object>"
      ]
     },
     "metadata": {
      "tags": []
     },
     "output_type": "display_data"
    },
    {
     "data": {
      "text/html": [],
      "text/plain": [
       "<IPython.core.display.HTML object>"
      ]
     },
     "metadata": {
      "tags": []
     },
     "output_type": "display_data"
    },
    {
     "data": {
      "text/html": [],
      "text/plain": [
       "<IPython.core.display.HTML object>"
      ]
     },
     "metadata": {
      "tags": []
     },
     "output_type": "display_data"
    },
    {
     "data": {
      "text/html": [],
      "text/plain": [
       "<IPython.core.display.HTML object>"
      ]
     },
     "metadata": {
      "tags": []
     },
     "output_type": "display_data"
    },
    {
     "data": {
      "text/html": [],
      "text/plain": [
       "<IPython.core.display.HTML object>"
      ]
     },
     "metadata": {
      "tags": []
     },
     "output_type": "display_data"
    },
    {
     "data": {
      "text/html": [],
      "text/plain": [
       "<IPython.core.display.HTML object>"
      ]
     },
     "metadata": {
      "tags": []
     },
     "output_type": "display_data"
    },
    {
     "data": {
      "text/html": [],
      "text/plain": [
       "<IPython.core.display.HTML object>"
      ]
     },
     "metadata": {
      "tags": []
     },
     "output_type": "display_data"
    },
    {
     "data": {
      "text/html": [],
      "text/plain": [
       "<IPython.core.display.HTML object>"
      ]
     },
     "metadata": {
      "tags": []
     },
     "output_type": "display_data"
    },
    {
     "data": {
      "text/html": [],
      "text/plain": [
       "<IPython.core.display.HTML object>"
      ]
     },
     "metadata": {
      "tags": []
     },
     "output_type": "display_data"
    },
    {
     "data": {
      "text/html": [],
      "text/plain": [
       "<IPython.core.display.HTML object>"
      ]
     },
     "metadata": {
      "tags": []
     },
     "output_type": "display_data"
    },
    {
     "data": {
      "text/html": [],
      "text/plain": [
       "<IPython.core.display.HTML object>"
      ]
     },
     "metadata": {
      "tags": []
     },
     "output_type": "display_data"
    },
    {
     "data": {
      "text/html": [],
      "text/plain": [
       "<IPython.core.display.HTML object>"
      ]
     },
     "metadata": {
      "tags": []
     },
     "output_type": "display_data"
    },
    {
     "data": {
      "text/html": [],
      "text/plain": [
       "<IPython.core.display.HTML object>"
      ]
     },
     "metadata": {
      "tags": []
     },
     "output_type": "display_data"
    },
    {
     "data": {
      "text/html": [],
      "text/plain": [
       "<IPython.core.display.HTML object>"
      ]
     },
     "metadata": {
      "tags": []
     },
     "output_type": "display_data"
    },
    {
     "data": {
      "text/html": [],
      "text/plain": [
       "<IPython.core.display.HTML object>"
      ]
     },
     "metadata": {
      "tags": []
     },
     "output_type": "display_data"
    },
    {
     "data": {
      "text/html": [],
      "text/plain": [
       "<IPython.core.display.HTML object>"
      ]
     },
     "metadata": {
      "tags": []
     },
     "output_type": "display_data"
    },
    {
     "data": {
      "text/html": [],
      "text/plain": [
       "<IPython.core.display.HTML object>"
      ]
     },
     "metadata": {
      "tags": []
     },
     "output_type": "display_data"
    },
    {
     "data": {
      "text/html": [],
      "text/plain": [
       "<IPython.core.display.HTML object>"
      ]
     },
     "metadata": {
      "tags": []
     },
     "output_type": "display_data"
    },
    {
     "data": {
      "text/html": [],
      "text/plain": [
       "<IPython.core.display.HTML object>"
      ]
     },
     "metadata": {
      "tags": []
     },
     "output_type": "display_data"
    },
    {
     "data": {
      "text/html": [],
      "text/plain": [
       "<IPython.core.display.HTML object>"
      ]
     },
     "metadata": {
      "tags": []
     },
     "output_type": "display_data"
    },
    {
     "data": {
      "text/html": [],
      "text/plain": [
       "<IPython.core.display.HTML object>"
      ]
     },
     "metadata": {
      "tags": []
     },
     "output_type": "display_data"
    },
    {
     "data": {
      "text/html": [],
      "text/plain": [
       "<IPython.core.display.HTML object>"
      ]
     },
     "metadata": {
      "tags": []
     },
     "output_type": "display_data"
    },
    {
     "data": {
      "text/html": [],
      "text/plain": [
       "<IPython.core.display.HTML object>"
      ]
     },
     "metadata": {
      "tags": []
     },
     "output_type": "display_data"
    },
    {
     "data": {
      "text/html": [],
      "text/plain": [
       "<IPython.core.display.HTML object>"
      ]
     },
     "metadata": {
      "tags": []
     },
     "output_type": "display_data"
    },
    {
     "data": {
      "text/html": [],
      "text/plain": [
       "<IPython.core.display.HTML object>"
      ]
     },
     "metadata": {
      "tags": []
     },
     "output_type": "display_data"
    },
    {
     "data": {
      "text/html": [],
      "text/plain": [
       "<IPython.core.display.HTML object>"
      ]
     },
     "metadata": {
      "tags": []
     },
     "output_type": "display_data"
    },
    {
     "data": {
      "text/html": [],
      "text/plain": [
       "<IPython.core.display.HTML object>"
      ]
     },
     "metadata": {
      "tags": []
     },
     "output_type": "display_data"
    },
    {
     "data": {
      "text/html": [],
      "text/plain": [
       "<IPython.core.display.HTML object>"
      ]
     },
     "metadata": {
      "tags": []
     },
     "output_type": "display_data"
    },
    {
     "data": {
      "text/html": [],
      "text/plain": [
       "<IPython.core.display.HTML object>"
      ]
     },
     "metadata": {
      "tags": []
     },
     "output_type": "display_data"
    },
    {
     "data": {
      "text/html": [],
      "text/plain": [
       "<IPython.core.display.HTML object>"
      ]
     },
     "metadata": {
      "tags": []
     },
     "output_type": "display_data"
    },
    {
     "data": {
      "text/html": [],
      "text/plain": [
       "<IPython.core.display.HTML object>"
      ]
     },
     "metadata": {
      "tags": []
     },
     "output_type": "display_data"
    },
    {
     "data": {
      "text/html": [],
      "text/plain": [
       "<IPython.core.display.HTML object>"
      ]
     },
     "metadata": {
      "tags": []
     },
     "output_type": "display_data"
    },
    {
     "data": {
      "text/html": [],
      "text/plain": [
       "<IPython.core.display.HTML object>"
      ]
     },
     "metadata": {
      "tags": []
     },
     "output_type": "display_data"
    },
    {
     "data": {
      "text/html": [],
      "text/plain": [
       "<IPython.core.display.HTML object>"
      ]
     },
     "metadata": {
      "tags": []
     },
     "output_type": "display_data"
    },
    {
     "data": {
      "text/html": [],
      "text/plain": [
       "<IPython.core.display.HTML object>"
      ]
     },
     "metadata": {
      "tags": []
     },
     "output_type": "display_data"
    },
    {
     "data": {
      "text/html": [],
      "text/plain": [
       "<IPython.core.display.HTML object>"
      ]
     },
     "metadata": {
      "tags": []
     },
     "output_type": "display_data"
    },
    {
     "data": {
      "text/html": [],
      "text/plain": [
       "<IPython.core.display.HTML object>"
      ]
     },
     "metadata": {
      "tags": []
     },
     "output_type": "display_data"
    },
    {
     "data": {
      "text/html": [],
      "text/plain": [
       "<IPython.core.display.HTML object>"
      ]
     },
     "metadata": {
      "tags": []
     },
     "output_type": "display_data"
    },
    {
     "data": {
      "text/html": [],
      "text/plain": [
       "<IPython.core.display.HTML object>"
      ]
     },
     "metadata": {
      "tags": []
     },
     "output_type": "display_data"
    },
    {
     "data": {
      "text/html": [],
      "text/plain": [
       "<IPython.core.display.HTML object>"
      ]
     },
     "metadata": {
      "tags": []
     },
     "output_type": "display_data"
    },
    {
     "data": {
      "text/html": [],
      "text/plain": [
       "<IPython.core.display.HTML object>"
      ]
     },
     "metadata": {
      "tags": []
     },
     "output_type": "display_data"
    },
    {
     "data": {
      "text/html": [],
      "text/plain": [
       "<IPython.core.display.HTML object>"
      ]
     },
     "metadata": {
      "tags": []
     },
     "output_type": "display_data"
    },
    {
     "data": {
      "text/html": [],
      "text/plain": [
       "<IPython.core.display.HTML object>"
      ]
     },
     "metadata": {
      "tags": []
     },
     "output_type": "display_data"
    },
    {
     "data": {
      "text/html": [],
      "text/plain": [
       "<IPython.core.display.HTML object>"
      ]
     },
     "metadata": {
      "tags": []
     },
     "output_type": "display_data"
    },
    {
     "data": {
      "text/html": [],
      "text/plain": [
       "<IPython.core.display.HTML object>"
      ]
     },
     "metadata": {
      "tags": []
     },
     "output_type": "display_data"
    },
    {
     "data": {
      "text/html": [],
      "text/plain": [
       "<IPython.core.display.HTML object>"
      ]
     },
     "metadata": {
      "tags": []
     },
     "output_type": "display_data"
    },
    {
     "data": {
      "text/html": [],
      "text/plain": [
       "<IPython.core.display.HTML object>"
      ]
     },
     "metadata": {
      "tags": []
     },
     "output_type": "display_data"
    },
    {
     "data": {
      "text/html": [],
      "text/plain": [
       "<IPython.core.display.HTML object>"
      ]
     },
     "metadata": {
      "tags": []
     },
     "output_type": "display_data"
    },
    {
     "data": {
      "text/html": [],
      "text/plain": [
       "<IPython.core.display.HTML object>"
      ]
     },
     "metadata": {
      "tags": []
     },
     "output_type": "display_data"
    },
    {
     "data": {
      "text/html": [],
      "text/plain": [
       "<IPython.core.display.HTML object>"
      ]
     },
     "metadata": {
      "tags": []
     },
     "output_type": "display_data"
    },
    {
     "data": {
      "text/html": [],
      "text/plain": [
       "<IPython.core.display.HTML object>"
      ]
     },
     "metadata": {
      "tags": []
     },
     "output_type": "display_data"
    },
    {
     "data": {
      "text/html": [],
      "text/plain": [
       "<IPython.core.display.HTML object>"
      ]
     },
     "metadata": {
      "tags": []
     },
     "output_type": "display_data"
    },
    {
     "data": {
      "text/html": [],
      "text/plain": [
       "<IPython.core.display.HTML object>"
      ]
     },
     "metadata": {
      "tags": []
     },
     "output_type": "display_data"
    },
    {
     "data": {
      "text/html": [],
      "text/plain": [
       "<IPython.core.display.HTML object>"
      ]
     },
     "metadata": {
      "tags": []
     },
     "output_type": "display_data"
    },
    {
     "data": {
      "text/html": [],
      "text/plain": [
       "<IPython.core.display.HTML object>"
      ]
     },
     "metadata": {
      "tags": []
     },
     "output_type": "display_data"
    },
    {
     "data": {
      "text/html": [],
      "text/plain": [
       "<IPython.core.display.HTML object>"
      ]
     },
     "metadata": {
      "tags": []
     },
     "output_type": "display_data"
    },
    {
     "data": {
      "text/html": [],
      "text/plain": [
       "<IPython.core.display.HTML object>"
      ]
     },
     "metadata": {
      "tags": []
     },
     "output_type": "display_data"
    },
    {
     "data": {
      "text/html": [],
      "text/plain": [
       "<IPython.core.display.HTML object>"
      ]
     },
     "metadata": {
      "tags": []
     },
     "output_type": "display_data"
    },
    {
     "data": {
      "text/html": [],
      "text/plain": [
       "<IPython.core.display.HTML object>"
      ]
     },
     "metadata": {
      "tags": []
     },
     "output_type": "display_data"
    },
    {
     "data": {
      "text/html": [],
      "text/plain": [
       "<IPython.core.display.HTML object>"
      ]
     },
     "metadata": {
      "tags": []
     },
     "output_type": "display_data"
    },
    {
     "data": {
      "text/html": [],
      "text/plain": [
       "<IPython.core.display.HTML object>"
      ]
     },
     "metadata": {
      "tags": []
     },
     "output_type": "display_data"
    },
    {
     "data": {
      "text/html": [],
      "text/plain": [
       "<IPython.core.display.HTML object>"
      ]
     },
     "metadata": {
      "tags": []
     },
     "output_type": "display_data"
    },
    {
     "data": {
      "text/html": [],
      "text/plain": [
       "<IPython.core.display.HTML object>"
      ]
     },
     "metadata": {
      "tags": []
     },
     "output_type": "display_data"
    },
    {
     "data": {
      "text/html": [],
      "text/plain": [
       "<IPython.core.display.HTML object>"
      ]
     },
     "metadata": {
      "tags": []
     },
     "output_type": "display_data"
    },
    {
     "data": {
      "text/html": [],
      "text/plain": [
       "<IPython.core.display.HTML object>"
      ]
     },
     "metadata": {
      "tags": []
     },
     "output_type": "display_data"
    },
    {
     "data": {
      "text/html": [],
      "text/plain": [
       "<IPython.core.display.HTML object>"
      ]
     },
     "metadata": {
      "tags": []
     },
     "output_type": "display_data"
    },
    {
     "data": {
      "text/html": [],
      "text/plain": [
       "<IPython.core.display.HTML object>"
      ]
     },
     "metadata": {
      "tags": []
     },
     "output_type": "display_data"
    },
    {
     "data": {
      "text/html": [],
      "text/plain": [
       "<IPython.core.display.HTML object>"
      ]
     },
     "metadata": {
      "tags": []
     },
     "output_type": "display_data"
    },
    {
     "data": {
      "text/html": [],
      "text/plain": [
       "<IPython.core.display.HTML object>"
      ]
     },
     "metadata": {
      "tags": []
     },
     "output_type": "display_data"
    },
    {
     "data": {
      "text/html": [],
      "text/plain": [
       "<IPython.core.display.HTML object>"
      ]
     },
     "metadata": {
      "tags": []
     },
     "output_type": "display_data"
    },
    {
     "data": {
      "text/html": [],
      "text/plain": [
       "<IPython.core.display.HTML object>"
      ]
     },
     "metadata": {
      "tags": []
     },
     "output_type": "display_data"
    },
    {
     "data": {
      "text/html": [],
      "text/plain": [
       "<IPython.core.display.HTML object>"
      ]
     },
     "metadata": {
      "tags": []
     },
     "output_type": "display_data"
    },
    {
     "data": {
      "text/html": [],
      "text/plain": [
       "<IPython.core.display.HTML object>"
      ]
     },
     "metadata": {
      "tags": []
     },
     "output_type": "display_data"
    },
    {
     "data": {
      "text/html": [],
      "text/plain": [
       "<IPython.core.display.HTML object>"
      ]
     },
     "metadata": {
      "tags": []
     },
     "output_type": "display_data"
    },
    {
     "data": {
      "text/html": [],
      "text/plain": [
       "<IPython.core.display.HTML object>"
      ]
     },
     "metadata": {
      "tags": []
     },
     "output_type": "display_data"
    },
    {
     "data": {
      "text/html": [],
      "text/plain": [
       "<IPython.core.display.HTML object>"
      ]
     },
     "metadata": {
      "tags": []
     },
     "output_type": "display_data"
    },
    {
     "data": {
      "text/html": [],
      "text/plain": [
       "<IPython.core.display.HTML object>"
      ]
     },
     "metadata": {
      "tags": []
     },
     "output_type": "display_data"
    },
    {
     "data": {
      "text/html": [],
      "text/plain": [
       "<IPython.core.display.HTML object>"
      ]
     },
     "metadata": {
      "tags": []
     },
     "output_type": "display_data"
    },
    {
     "data": {
      "text/html": [],
      "text/plain": [
       "<IPython.core.display.HTML object>"
      ]
     },
     "metadata": {
      "tags": []
     },
     "output_type": "display_data"
    },
    {
     "data": {
      "text/html": [],
      "text/plain": [
       "<IPython.core.display.HTML object>"
      ]
     },
     "metadata": {
      "tags": []
     },
     "output_type": "display_data"
    },
    {
     "data": {
      "text/html": [],
      "text/plain": [
       "<IPython.core.display.HTML object>"
      ]
     },
     "metadata": {
      "tags": []
     },
     "output_type": "display_data"
    },
    {
     "data": {
      "text/html": [],
      "text/plain": [
       "<IPython.core.display.HTML object>"
      ]
     },
     "metadata": {
      "tags": []
     },
     "output_type": "display_data"
    },
    {
     "data": {
      "text/html": [],
      "text/plain": [
       "<IPython.core.display.HTML object>"
      ]
     },
     "metadata": {
      "tags": []
     },
     "output_type": "display_data"
    },
    {
     "data": {
      "text/html": [],
      "text/plain": [
       "<IPython.core.display.HTML object>"
      ]
     },
     "metadata": {
      "tags": []
     },
     "output_type": "display_data"
    },
    {
     "data": {
      "text/html": [],
      "text/plain": [
       "<IPython.core.display.HTML object>"
      ]
     },
     "metadata": {
      "tags": []
     },
     "output_type": "display_data"
    },
    {
     "data": {
      "text/html": [],
      "text/plain": [
       "<IPython.core.display.HTML object>"
      ]
     },
     "metadata": {
      "tags": []
     },
     "output_type": "display_data"
    },
    {
     "data": {
      "text/html": [],
      "text/plain": [
       "<IPython.core.display.HTML object>"
      ]
     },
     "metadata": {
      "tags": []
     },
     "output_type": "display_data"
    },
    {
     "data": {
      "text/html": [],
      "text/plain": [
       "<IPython.core.display.HTML object>"
      ]
     },
     "metadata": {
      "tags": []
     },
     "output_type": "display_data"
    },
    {
     "data": {
      "text/html": [],
      "text/plain": [
       "<IPython.core.display.HTML object>"
      ]
     },
     "metadata": {
      "tags": []
     },
     "output_type": "display_data"
    },
    {
     "data": {
      "text/html": [],
      "text/plain": [
       "<IPython.core.display.HTML object>"
      ]
     },
     "metadata": {
      "tags": []
     },
     "output_type": "display_data"
    },
    {
     "data": {
      "text/html": [],
      "text/plain": [
       "<IPython.core.display.HTML object>"
      ]
     },
     "metadata": {
      "tags": []
     },
     "output_type": "display_data"
    },
    {
     "data": {
      "text/html": [],
      "text/plain": [
       "<IPython.core.display.HTML object>"
      ]
     },
     "metadata": {
      "tags": []
     },
     "output_type": "display_data"
    },
    {
     "data": {
      "text/html": [],
      "text/plain": [
       "<IPython.core.display.HTML object>"
      ]
     },
     "metadata": {
      "tags": []
     },
     "output_type": "display_data"
    },
    {
     "data": {
      "text/html": [],
      "text/plain": [
       "<IPython.core.display.HTML object>"
      ]
     },
     "metadata": {
      "tags": []
     },
     "output_type": "display_data"
    },
    {
     "data": {
      "text/html": [],
      "text/plain": [
       "<IPython.core.display.HTML object>"
      ]
     },
     "metadata": {
      "tags": []
     },
     "output_type": "display_data"
    },
    {
     "data": {
      "text/html": [],
      "text/plain": [
       "<IPython.core.display.HTML object>"
      ]
     },
     "metadata": {
      "tags": []
     },
     "output_type": "display_data"
    },
    {
     "data": {
      "text/html": [],
      "text/plain": [
       "<IPython.core.display.HTML object>"
      ]
     },
     "metadata": {
      "tags": []
     },
     "output_type": "display_data"
    },
    {
     "data": {
      "text/html": [],
      "text/plain": [
       "<IPython.core.display.HTML object>"
      ]
     },
     "metadata": {
      "tags": []
     },
     "output_type": "display_data"
    },
    {
     "data": {
      "text/html": [],
      "text/plain": [
       "<IPython.core.display.HTML object>"
      ]
     },
     "metadata": {
      "tags": []
     },
     "output_type": "display_data"
    },
    {
     "data": {
      "text/html": [],
      "text/plain": [
       "<IPython.core.display.HTML object>"
      ]
     },
     "metadata": {
      "tags": []
     },
     "output_type": "display_data"
    },
    {
     "data": {
      "text/html": [],
      "text/plain": [
       "<IPython.core.display.HTML object>"
      ]
     },
     "metadata": {
      "tags": []
     },
     "output_type": "display_data"
    },
    {
     "data": {
      "text/html": [],
      "text/plain": [
       "<IPython.core.display.HTML object>"
      ]
     },
     "metadata": {
      "tags": []
     },
     "output_type": "display_data"
    },
    {
     "data": {
      "text/html": [],
      "text/plain": [
       "<IPython.core.display.HTML object>"
      ]
     },
     "metadata": {
      "tags": []
     },
     "output_type": "display_data"
    },
    {
     "data": {
      "text/html": [],
      "text/plain": [
       "<IPython.core.display.HTML object>"
      ]
     },
     "metadata": {
      "tags": []
     },
     "output_type": "display_data"
    },
    {
     "data": {
      "text/html": [],
      "text/plain": [
       "<IPython.core.display.HTML object>"
      ]
     },
     "metadata": {
      "tags": []
     },
     "output_type": "display_data"
    },
    {
     "data": {
      "text/html": [],
      "text/plain": [
       "<IPython.core.display.HTML object>"
      ]
     },
     "metadata": {
      "tags": []
     },
     "output_type": "display_data"
    },
    {
     "data": {
      "text/html": [],
      "text/plain": [
       "<IPython.core.display.HTML object>"
      ]
     },
     "metadata": {
      "tags": []
     },
     "output_type": "display_data"
    },
    {
     "data": {
      "text/html": [],
      "text/plain": [
       "<IPython.core.display.HTML object>"
      ]
     },
     "metadata": {
      "tags": []
     },
     "output_type": "display_data"
    },
    {
     "data": {
      "text/html": [],
      "text/plain": [
       "<IPython.core.display.HTML object>"
      ]
     },
     "metadata": {
      "tags": []
     },
     "output_type": "display_data"
    },
    {
     "data": {
      "text/html": [],
      "text/plain": [
       "<IPython.core.display.HTML object>"
      ]
     },
     "metadata": {
      "tags": []
     },
     "output_type": "display_data"
    },
    {
     "data": {
      "text/html": [],
      "text/plain": [
       "<IPython.core.display.HTML object>"
      ]
     },
     "metadata": {
      "tags": []
     },
     "output_type": "display_data"
    },
    {
     "data": {
      "text/html": [],
      "text/plain": [
       "<IPython.core.display.HTML object>"
      ]
     },
     "metadata": {
      "tags": []
     },
     "output_type": "display_data"
    },
    {
     "data": {
      "text/html": [],
      "text/plain": [
       "<IPython.core.display.HTML object>"
      ]
     },
     "metadata": {
      "tags": []
     },
     "output_type": "display_data"
    },
    {
     "data": {
      "text/html": [],
      "text/plain": [
       "<IPython.core.display.HTML object>"
      ]
     },
     "metadata": {
      "tags": []
     },
     "output_type": "display_data"
    },
    {
     "data": {
      "text/html": [],
      "text/plain": [
       "<IPython.core.display.HTML object>"
      ]
     },
     "metadata": {
      "tags": []
     },
     "output_type": "display_data"
    },
    {
     "data": {
      "text/html": [],
      "text/plain": [
       "<IPython.core.display.HTML object>"
      ]
     },
     "metadata": {
      "tags": []
     },
     "output_type": "display_data"
    },
    {
     "data": {
      "text/html": [],
      "text/plain": [
       "<IPython.core.display.HTML object>"
      ]
     },
     "metadata": {
      "tags": []
     },
     "output_type": "display_data"
    },
    {
     "data": {
      "text/html": [],
      "text/plain": [
       "<IPython.core.display.HTML object>"
      ]
     },
     "metadata": {
      "tags": []
     },
     "output_type": "display_data"
    },
    {
     "data": {
      "text/html": [],
      "text/plain": [
       "<IPython.core.display.HTML object>"
      ]
     },
     "metadata": {
      "tags": []
     },
     "output_type": "display_data"
    },
    {
     "data": {
      "text/html": [],
      "text/plain": [
       "<IPython.core.display.HTML object>"
      ]
     },
     "metadata": {
      "tags": []
     },
     "output_type": "display_data"
    },
    {
     "data": {
      "text/html": [],
      "text/plain": [
       "<IPython.core.display.HTML object>"
      ]
     },
     "metadata": {
      "tags": []
     },
     "output_type": "display_data"
    },
    {
     "data": {
      "text/html": [],
      "text/plain": [
       "<IPython.core.display.HTML object>"
      ]
     },
     "metadata": {
      "tags": []
     },
     "output_type": "display_data"
    },
    {
     "data": {
      "text/html": [],
      "text/plain": [
       "<IPython.core.display.HTML object>"
      ]
     },
     "metadata": {
      "tags": []
     },
     "output_type": "display_data"
    },
    {
     "data": {
      "text/html": [],
      "text/plain": [
       "<IPython.core.display.HTML object>"
      ]
     },
     "metadata": {
      "tags": []
     },
     "output_type": "display_data"
    },
    {
     "data": {
      "text/html": [],
      "text/plain": [
       "<IPython.core.display.HTML object>"
      ]
     },
     "metadata": {
      "tags": []
     },
     "output_type": "display_data"
    },
    {
     "data": {
      "text/html": [],
      "text/plain": [
       "<IPython.core.display.HTML object>"
      ]
     },
     "metadata": {
      "tags": []
     },
     "output_type": "display_data"
    },
    {
     "data": {
      "text/html": [],
      "text/plain": [
       "<IPython.core.display.HTML object>"
      ]
     },
     "metadata": {
      "tags": []
     },
     "output_type": "display_data"
    },
    {
     "data": {
      "text/html": [],
      "text/plain": [
       "<IPython.core.display.HTML object>"
      ]
     },
     "metadata": {
      "tags": []
     },
     "output_type": "display_data"
    },
    {
     "data": {
      "text/html": [],
      "text/plain": [
       "<IPython.core.display.HTML object>"
      ]
     },
     "metadata": {
      "tags": []
     },
     "output_type": "display_data"
    },
    {
     "data": {
      "text/html": [],
      "text/plain": [
       "<IPython.core.display.HTML object>"
      ]
     },
     "metadata": {
      "tags": []
     },
     "output_type": "display_data"
    },
    {
     "data": {
      "text/html": [],
      "text/plain": [
       "<IPython.core.display.HTML object>"
      ]
     },
     "metadata": {
      "tags": []
     },
     "output_type": "display_data"
    },
    {
     "data": {
      "text/html": [],
      "text/plain": [
       "<IPython.core.display.HTML object>"
      ]
     },
     "metadata": {
      "tags": []
     },
     "output_type": "display_data"
    },
    {
     "data": {
      "text/html": [],
      "text/plain": [
       "<IPython.core.display.HTML object>"
      ]
     },
     "metadata": {
      "tags": []
     },
     "output_type": "display_data"
    },
    {
     "data": {
      "text/html": [],
      "text/plain": [
       "<IPython.core.display.HTML object>"
      ]
     },
     "metadata": {
      "tags": []
     },
     "output_type": "display_data"
    },
    {
     "data": {
      "text/html": [],
      "text/plain": [
       "<IPython.core.display.HTML object>"
      ]
     },
     "metadata": {
      "tags": []
     },
     "output_type": "display_data"
    },
    {
     "data": {
      "text/html": [],
      "text/plain": [
       "<IPython.core.display.HTML object>"
      ]
     },
     "metadata": {
      "tags": []
     },
     "output_type": "display_data"
    },
    {
     "data": {
      "text/html": [],
      "text/plain": [
       "<IPython.core.display.HTML object>"
      ]
     },
     "metadata": {
      "tags": []
     },
     "output_type": "display_data"
    },
    {
     "data": {
      "text/html": [],
      "text/plain": [
       "<IPython.core.display.HTML object>"
      ]
     },
     "metadata": {
      "tags": []
     },
     "output_type": "display_data"
    },
    {
     "data": {
      "text/html": [],
      "text/plain": [
       "<IPython.core.display.HTML object>"
      ]
     },
     "metadata": {
      "tags": []
     },
     "output_type": "display_data"
    },
    {
     "data": {
      "text/html": [],
      "text/plain": [
       "<IPython.core.display.HTML object>"
      ]
     },
     "metadata": {
      "tags": []
     },
     "output_type": "display_data"
    },
    {
     "data": {
      "text/html": [],
      "text/plain": [
       "<IPython.core.display.HTML object>"
      ]
     },
     "metadata": {
      "tags": []
     },
     "output_type": "display_data"
    },
    {
     "data": {
      "text/html": [],
      "text/plain": [
       "<IPython.core.display.HTML object>"
      ]
     },
     "metadata": {
      "tags": []
     },
     "output_type": "display_data"
    },
    {
     "data": {
      "text/html": [],
      "text/plain": [
       "<IPython.core.display.HTML object>"
      ]
     },
     "metadata": {
      "tags": []
     },
     "output_type": "display_data"
    },
    {
     "data": {
      "text/html": [],
      "text/plain": [
       "<IPython.core.display.HTML object>"
      ]
     },
     "metadata": {
      "tags": []
     },
     "output_type": "display_data"
    },
    {
     "data": {
      "text/html": [],
      "text/plain": [
       "<IPython.core.display.HTML object>"
      ]
     },
     "metadata": {
      "tags": []
     },
     "output_type": "display_data"
    },
    {
     "data": {
      "text/html": [],
      "text/plain": [
       "<IPython.core.display.HTML object>"
      ]
     },
     "metadata": {
      "tags": []
     },
     "output_type": "display_data"
    },
    {
     "data": {
      "text/html": [],
      "text/plain": [
       "<IPython.core.display.HTML object>"
      ]
     },
     "metadata": {
      "tags": []
     },
     "output_type": "display_data"
    },
    {
     "data": {
      "text/html": [],
      "text/plain": [
       "<IPython.core.display.HTML object>"
      ]
     },
     "metadata": {
      "tags": []
     },
     "output_type": "display_data"
    },
    {
     "data": {
      "text/html": [],
      "text/plain": [
       "<IPython.core.display.HTML object>"
      ]
     },
     "metadata": {
      "tags": []
     },
     "output_type": "display_data"
    },
    {
     "data": {
      "text/html": [],
      "text/plain": [
       "<IPython.core.display.HTML object>"
      ]
     },
     "metadata": {
      "tags": []
     },
     "output_type": "display_data"
    },
    {
     "data": {
      "text/html": [],
      "text/plain": [
       "<IPython.core.display.HTML object>"
      ]
     },
     "metadata": {
      "tags": []
     },
     "output_type": "display_data"
    },
    {
     "data": {
      "text/html": [],
      "text/plain": [
       "<IPython.core.display.HTML object>"
      ]
     },
     "metadata": {
      "tags": []
     },
     "output_type": "display_data"
    },
    {
     "data": {
      "text/html": [],
      "text/plain": [
       "<IPython.core.display.HTML object>"
      ]
     },
     "metadata": {
      "tags": []
     },
     "output_type": "display_data"
    },
    {
     "data": {
      "text/html": [],
      "text/plain": [
       "<IPython.core.display.HTML object>"
      ]
     },
     "metadata": {
      "tags": []
     },
     "output_type": "display_data"
    },
    {
     "data": {
      "text/html": [],
      "text/plain": [
       "<IPython.core.display.HTML object>"
      ]
     },
     "metadata": {
      "tags": []
     },
     "output_type": "display_data"
    },
    {
     "data": {
      "text/html": [],
      "text/plain": [
       "<IPython.core.display.HTML object>"
      ]
     },
     "metadata": {
      "tags": []
     },
     "output_type": "display_data"
    },
    {
     "data": {
      "text/html": [],
      "text/plain": [
       "<IPython.core.display.HTML object>"
      ]
     },
     "metadata": {
      "tags": []
     },
     "output_type": "display_data"
    },
    {
     "data": {
      "text/html": [],
      "text/plain": [
       "<IPython.core.display.HTML object>"
      ]
     },
     "metadata": {
      "tags": []
     },
     "output_type": "display_data"
    },
    {
     "data": {
      "text/html": [],
      "text/plain": [
       "<IPython.core.display.HTML object>"
      ]
     },
     "metadata": {
      "tags": []
     },
     "output_type": "display_data"
    },
    {
     "data": {
      "text/html": [],
      "text/plain": [
       "<IPython.core.display.HTML object>"
      ]
     },
     "metadata": {
      "tags": []
     },
     "output_type": "display_data"
    },
    {
     "data": {
      "text/html": [],
      "text/plain": [
       "<IPython.core.display.HTML object>"
      ]
     },
     "metadata": {
      "tags": []
     },
     "output_type": "display_data"
    },
    {
     "data": {
      "text/html": [],
      "text/plain": [
       "<IPython.core.display.HTML object>"
      ]
     },
     "metadata": {
      "tags": []
     },
     "output_type": "display_data"
    },
    {
     "data": {
      "text/html": [],
      "text/plain": [
       "<IPython.core.display.HTML object>"
      ]
     },
     "metadata": {
      "tags": []
     },
     "output_type": "display_data"
    },
    {
     "data": {
      "text/html": [],
      "text/plain": [
       "<IPython.core.display.HTML object>"
      ]
     },
     "metadata": {
      "tags": []
     },
     "output_type": "display_data"
    },
    {
     "data": {
      "text/html": [],
      "text/plain": [
       "<IPython.core.display.HTML object>"
      ]
     },
     "metadata": {
      "tags": []
     },
     "output_type": "display_data"
    },
    {
     "data": {
      "text/html": [],
      "text/plain": [
       "<IPython.core.display.HTML object>"
      ]
     },
     "metadata": {
      "tags": []
     },
     "output_type": "display_data"
    },
    {
     "data": {
      "text/html": [],
      "text/plain": [
       "<IPython.core.display.HTML object>"
      ]
     },
     "metadata": {
      "tags": []
     },
     "output_type": "display_data"
    },
    {
     "data": {
      "text/html": [],
      "text/plain": [
       "<IPython.core.display.HTML object>"
      ]
     },
     "metadata": {
      "tags": []
     },
     "output_type": "display_data"
    },
    {
     "data": {
      "text/html": [],
      "text/plain": [
       "<IPython.core.display.HTML object>"
      ]
     },
     "metadata": {
      "tags": []
     },
     "output_type": "display_data"
    },
    {
     "data": {
      "text/html": [],
      "text/plain": [
       "<IPython.core.display.HTML object>"
      ]
     },
     "metadata": {
      "tags": []
     },
     "output_type": "display_data"
    },
    {
     "data": {
      "text/html": [],
      "text/plain": [
       "<IPython.core.display.HTML object>"
      ]
     },
     "metadata": {
      "tags": []
     },
     "output_type": "display_data"
    },
    {
     "data": {
      "text/html": [],
      "text/plain": [
       "<IPython.core.display.HTML object>"
      ]
     },
     "metadata": {
      "tags": []
     },
     "output_type": "display_data"
    },
    {
     "data": {
      "text/html": [],
      "text/plain": [
       "<IPython.core.display.HTML object>"
      ]
     },
     "metadata": {
      "tags": []
     },
     "output_type": "display_data"
    },
    {
     "data": {
      "text/html": [],
      "text/plain": [
       "<IPython.core.display.HTML object>"
      ]
     },
     "metadata": {
      "tags": []
     },
     "output_type": "display_data"
    },
    {
     "data": {
      "text/html": [],
      "text/plain": [
       "<IPython.core.display.HTML object>"
      ]
     },
     "metadata": {
      "tags": []
     },
     "output_type": "display_data"
    },
    {
     "data": {
      "text/html": [],
      "text/plain": [
       "<IPython.core.display.HTML object>"
      ]
     },
     "metadata": {
      "tags": []
     },
     "output_type": "display_data"
    },
    {
     "data": {
      "text/html": [],
      "text/plain": [
       "<IPython.core.display.HTML object>"
      ]
     },
     "metadata": {
      "tags": []
     },
     "output_type": "display_data"
    },
    {
     "data": {
      "text/html": [],
      "text/plain": [
       "<IPython.core.display.HTML object>"
      ]
     },
     "metadata": {
      "tags": []
     },
     "output_type": "display_data"
    },
    {
     "data": {
      "text/html": [],
      "text/plain": [
       "<IPython.core.display.HTML object>"
      ]
     },
     "metadata": {
      "tags": []
     },
     "output_type": "display_data"
    },
    {
     "data": {
      "text/html": [],
      "text/plain": [
       "<IPython.core.display.HTML object>"
      ]
     },
     "metadata": {
      "tags": []
     },
     "output_type": "display_data"
    },
    {
     "data": {
      "text/html": [],
      "text/plain": [
       "<IPython.core.display.HTML object>"
      ]
     },
     "metadata": {
      "tags": []
     },
     "output_type": "display_data"
    },
    {
     "data": {
      "text/html": [],
      "text/plain": [
       "<IPython.core.display.HTML object>"
      ]
     },
     "metadata": {
      "tags": []
     },
     "output_type": "display_data"
    },
    {
     "data": {
      "text/html": [],
      "text/plain": [
       "<IPython.core.display.HTML object>"
      ]
     },
     "metadata": {
      "tags": []
     },
     "output_type": "display_data"
    },
    {
     "data": {
      "text/html": [],
      "text/plain": [
       "<IPython.core.display.HTML object>"
      ]
     },
     "metadata": {
      "tags": []
     },
     "output_type": "display_data"
    },
    {
     "data": {
      "text/html": [],
      "text/plain": [
       "<IPython.core.display.HTML object>"
      ]
     },
     "metadata": {
      "tags": []
     },
     "output_type": "display_data"
    },
    {
     "data": {
      "text/html": [],
      "text/plain": [
       "<IPython.core.display.HTML object>"
      ]
     },
     "metadata": {
      "tags": []
     },
     "output_type": "display_data"
    },
    {
     "data": {
      "text/html": [],
      "text/plain": [
       "<IPython.core.display.HTML object>"
      ]
     },
     "metadata": {
      "tags": []
     },
     "output_type": "display_data"
    },
    {
     "data": {
      "text/html": [],
      "text/plain": [
       "<IPython.core.display.HTML object>"
      ]
     },
     "metadata": {
      "tags": []
     },
     "output_type": "display_data"
    },
    {
     "data": {
      "text/html": [],
      "text/plain": [
       "<IPython.core.display.HTML object>"
      ]
     },
     "metadata": {
      "tags": []
     },
     "output_type": "display_data"
    },
    {
     "data": {
      "text/html": [],
      "text/plain": [
       "<IPython.core.display.HTML object>"
      ]
     },
     "metadata": {
      "tags": []
     },
     "output_type": "display_data"
    },
    {
     "data": {
      "text/html": [],
      "text/plain": [
       "<IPython.core.display.HTML object>"
      ]
     },
     "metadata": {
      "tags": []
     },
     "output_type": "display_data"
    },
    {
     "data": {
      "text/html": [],
      "text/plain": [
       "<IPython.core.display.HTML object>"
      ]
     },
     "metadata": {
      "tags": []
     },
     "output_type": "display_data"
    },
    {
     "data": {
      "text/html": [],
      "text/plain": [
       "<IPython.core.display.HTML object>"
      ]
     },
     "metadata": {
      "tags": []
     },
     "output_type": "display_data"
    },
    {
     "data": {
      "text/html": [],
      "text/plain": [
       "<IPython.core.display.HTML object>"
      ]
     },
     "metadata": {
      "tags": []
     },
     "output_type": "display_data"
    },
    {
     "data": {
      "text/html": [],
      "text/plain": [
       "<IPython.core.display.HTML object>"
      ]
     },
     "metadata": {
      "tags": []
     },
     "output_type": "display_data"
    },
    {
     "data": {
      "text/html": [],
      "text/plain": [
       "<IPython.core.display.HTML object>"
      ]
     },
     "metadata": {
      "tags": []
     },
     "output_type": "display_data"
    },
    {
     "data": {
      "text/html": [],
      "text/plain": [
       "<IPython.core.display.HTML object>"
      ]
     },
     "metadata": {
      "tags": []
     },
     "output_type": "display_data"
    },
    {
     "data": {
      "text/html": [],
      "text/plain": [
       "<IPython.core.display.HTML object>"
      ]
     },
     "metadata": {
      "tags": []
     },
     "output_type": "display_data"
    },
    {
     "data": {
      "text/html": [],
      "text/plain": [
       "<IPython.core.display.HTML object>"
      ]
     },
     "metadata": {
      "tags": []
     },
     "output_type": "display_data"
    },
    {
     "data": {
      "text/html": [],
      "text/plain": [
       "<IPython.core.display.HTML object>"
      ]
     },
     "metadata": {
      "tags": []
     },
     "output_type": "display_data"
    },
    {
     "data": {
      "text/html": [],
      "text/plain": [
       "<IPython.core.display.HTML object>"
      ]
     },
     "metadata": {
      "tags": []
     },
     "output_type": "display_data"
    },
    {
     "data": {
      "text/html": [],
      "text/plain": [
       "<IPython.core.display.HTML object>"
      ]
     },
     "metadata": {
      "tags": []
     },
     "output_type": "display_data"
    },
    {
     "data": {
      "text/html": [],
      "text/plain": [
       "<IPython.core.display.HTML object>"
      ]
     },
     "metadata": {
      "tags": []
     },
     "output_type": "display_data"
    },
    {
     "data": {
      "text/html": [],
      "text/plain": [
       "<IPython.core.display.HTML object>"
      ]
     },
     "metadata": {
      "tags": []
     },
     "output_type": "display_data"
    },
    {
     "data": {
      "text/html": [],
      "text/plain": [
       "<IPython.core.display.HTML object>"
      ]
     },
     "metadata": {
      "tags": []
     },
     "output_type": "display_data"
    },
    {
     "data": {
      "text/html": [],
      "text/plain": [
       "<IPython.core.display.HTML object>"
      ]
     },
     "metadata": {
      "tags": []
     },
     "output_type": "display_data"
    },
    {
     "data": {
      "text/html": [],
      "text/plain": [
       "<IPython.core.display.HTML object>"
      ]
     },
     "metadata": {
      "tags": []
     },
     "output_type": "display_data"
    },
    {
     "data": {
      "text/html": [],
      "text/plain": [
       "<IPython.core.display.HTML object>"
      ]
     },
     "metadata": {
      "tags": []
     },
     "output_type": "display_data"
    },
    {
     "data": {
      "text/html": [],
      "text/plain": [
       "<IPython.core.display.HTML object>"
      ]
     },
     "metadata": {
      "tags": []
     },
     "output_type": "display_data"
    },
    {
     "data": {
      "text/html": [],
      "text/plain": [
       "<IPython.core.display.HTML object>"
      ]
     },
     "metadata": {
      "tags": []
     },
     "output_type": "display_data"
    },
    {
     "data": {
      "text/html": [],
      "text/plain": [
       "<IPython.core.display.HTML object>"
      ]
     },
     "metadata": {
      "tags": []
     },
     "output_type": "display_data"
    },
    {
     "data": {
      "text/html": [],
      "text/plain": [
       "<IPython.core.display.HTML object>"
      ]
     },
     "metadata": {
      "tags": []
     },
     "output_type": "display_data"
    },
    {
     "data": {
      "text/html": [],
      "text/plain": [
       "<IPython.core.display.HTML object>"
      ]
     },
     "metadata": {
      "tags": []
     },
     "output_type": "display_data"
    },
    {
     "data": {
      "text/html": [],
      "text/plain": [
       "<IPython.core.display.HTML object>"
      ]
     },
     "metadata": {
      "tags": []
     },
     "output_type": "display_data"
    },
    {
     "data": {
      "text/html": [],
      "text/plain": [
       "<IPython.core.display.HTML object>"
      ]
     },
     "metadata": {
      "tags": []
     },
     "output_type": "display_data"
    },
    {
     "data": {
      "text/html": [],
      "text/plain": [
       "<IPython.core.display.HTML object>"
      ]
     },
     "metadata": {
      "tags": []
     },
     "output_type": "display_data"
    },
    {
     "data": {
      "text/html": [],
      "text/plain": [
       "<IPython.core.display.HTML object>"
      ]
     },
     "metadata": {
      "tags": []
     },
     "output_type": "display_data"
    },
    {
     "data": {
      "text/html": [],
      "text/plain": [
       "<IPython.core.display.HTML object>"
      ]
     },
     "metadata": {
      "tags": []
     },
     "output_type": "display_data"
    },
    {
     "data": {
      "text/html": [],
      "text/plain": [
       "<IPython.core.display.HTML object>"
      ]
     },
     "metadata": {
      "tags": []
     },
     "output_type": "display_data"
    },
    {
     "data": {
      "text/html": [],
      "text/plain": [
       "<IPython.core.display.HTML object>"
      ]
     },
     "metadata": {
      "tags": []
     },
     "output_type": "display_data"
    },
    {
     "data": {
      "text/html": [],
      "text/plain": [
       "<IPython.core.display.HTML object>"
      ]
     },
     "metadata": {
      "tags": []
     },
     "output_type": "display_data"
    },
    {
     "data": {
      "text/html": [],
      "text/plain": [
       "<IPython.core.display.HTML object>"
      ]
     },
     "metadata": {
      "tags": []
     },
     "output_type": "display_data"
    },
    {
     "data": {
      "text/html": [],
      "text/plain": [
       "<IPython.core.display.HTML object>"
      ]
     },
     "metadata": {
      "tags": []
     },
     "output_type": "display_data"
    },
    {
     "data": {
      "text/html": [],
      "text/plain": [
       "<IPython.core.display.HTML object>"
      ]
     },
     "metadata": {
      "tags": []
     },
     "output_type": "display_data"
    },
    {
     "data": {
      "text/html": [],
      "text/plain": [
       "<IPython.core.display.HTML object>"
      ]
     },
     "metadata": {
      "tags": []
     },
     "output_type": "display_data"
    },
    {
     "data": {
      "text/html": [],
      "text/plain": [
       "<IPython.core.display.HTML object>"
      ]
     },
     "metadata": {
      "tags": []
     },
     "output_type": "display_data"
    },
    {
     "data": {
      "text/html": [],
      "text/plain": [
       "<IPython.core.display.HTML object>"
      ]
     },
     "metadata": {
      "tags": []
     },
     "output_type": "display_data"
    },
    {
     "data": {
      "text/html": [],
      "text/plain": [
       "<IPython.core.display.HTML object>"
      ]
     },
     "metadata": {
      "tags": []
     },
     "output_type": "display_data"
    },
    {
     "data": {
      "text/html": [],
      "text/plain": [
       "<IPython.core.display.HTML object>"
      ]
     },
     "metadata": {
      "tags": []
     },
     "output_type": "display_data"
    },
    {
     "data": {
      "text/html": [],
      "text/plain": [
       "<IPython.core.display.HTML object>"
      ]
     },
     "metadata": {
      "tags": []
     },
     "output_type": "display_data"
    },
    {
     "data": {
      "text/html": [],
      "text/plain": [
       "<IPython.core.display.HTML object>"
      ]
     },
     "metadata": {
      "tags": []
     },
     "output_type": "display_data"
    },
    {
     "data": {
      "text/html": [],
      "text/plain": [
       "<IPython.core.display.HTML object>"
      ]
     },
     "metadata": {
      "tags": []
     },
     "output_type": "display_data"
    },
    {
     "data": {
      "text/html": [],
      "text/plain": [
       "<IPython.core.display.HTML object>"
      ]
     },
     "metadata": {
      "tags": []
     },
     "output_type": "display_data"
    },
    {
     "data": {
      "text/html": [],
      "text/plain": [
       "<IPython.core.display.HTML object>"
      ]
     },
     "metadata": {
      "tags": []
     },
     "output_type": "display_data"
    },
    {
     "data": {
      "text/html": [],
      "text/plain": [
       "<IPython.core.display.HTML object>"
      ]
     },
     "metadata": {
      "tags": []
     },
     "output_type": "display_data"
    },
    {
     "data": {
      "text/html": [],
      "text/plain": [
       "<IPython.core.display.HTML object>"
      ]
     },
     "metadata": {
      "tags": []
     },
     "output_type": "display_data"
    },
    {
     "data": {
      "text/html": [],
      "text/plain": [
       "<IPython.core.display.HTML object>"
      ]
     },
     "metadata": {
      "tags": []
     },
     "output_type": "display_data"
    },
    {
     "data": {
      "text/html": [],
      "text/plain": [
       "<IPython.core.display.HTML object>"
      ]
     },
     "metadata": {
      "tags": []
     },
     "output_type": "display_data"
    },
    {
     "data": {
      "text/html": [],
      "text/plain": [
       "<IPython.core.display.HTML object>"
      ]
     },
     "metadata": {
      "tags": []
     },
     "output_type": "display_data"
    },
    {
     "data": {
      "text/html": [],
      "text/plain": [
       "<IPython.core.display.HTML object>"
      ]
     },
     "metadata": {
      "tags": []
     },
     "output_type": "display_data"
    },
    {
     "data": {
      "text/html": [],
      "text/plain": [
       "<IPython.core.display.HTML object>"
      ]
     },
     "metadata": {
      "tags": []
     },
     "output_type": "display_data"
    },
    {
     "data": {
      "text/html": [],
      "text/plain": [
       "<IPython.core.display.HTML object>"
      ]
     },
     "metadata": {
      "tags": []
     },
     "output_type": "display_data"
    },
    {
     "data": {
      "text/html": [],
      "text/plain": [
       "<IPython.core.display.HTML object>"
      ]
     },
     "metadata": {
      "tags": []
     },
     "output_type": "display_data"
    },
    {
     "data": {
      "text/html": [],
      "text/plain": [
       "<IPython.core.display.HTML object>"
      ]
     },
     "metadata": {
      "tags": []
     },
     "output_type": "display_data"
    },
    {
     "data": {
      "text/html": [],
      "text/plain": [
       "<IPython.core.display.HTML object>"
      ]
     },
     "metadata": {
      "tags": []
     },
     "output_type": "display_data"
    },
    {
     "data": {
      "text/html": [],
      "text/plain": [
       "<IPython.core.display.HTML object>"
      ]
     },
     "metadata": {
      "tags": []
     },
     "output_type": "display_data"
    },
    {
     "data": {
      "text/html": [],
      "text/plain": [
       "<IPython.core.display.HTML object>"
      ]
     },
     "metadata": {
      "tags": []
     },
     "output_type": "display_data"
    },
    {
     "data": {
      "text/html": [],
      "text/plain": [
       "<IPython.core.display.HTML object>"
      ]
     },
     "metadata": {
      "tags": []
     },
     "output_type": "display_data"
    },
    {
     "data": {
      "text/html": [],
      "text/plain": [
       "<IPython.core.display.HTML object>"
      ]
     },
     "metadata": {
      "tags": []
     },
     "output_type": "display_data"
    },
    {
     "data": {
      "text/html": [],
      "text/plain": [
       "<IPython.core.display.HTML object>"
      ]
     },
     "metadata": {
      "tags": []
     },
     "output_type": "display_data"
    },
    {
     "data": {
      "text/html": [],
      "text/plain": [
       "<IPython.core.display.HTML object>"
      ]
     },
     "metadata": {
      "tags": []
     },
     "output_type": "display_data"
    },
    {
     "data": {
      "text/html": [],
      "text/plain": [
       "<IPython.core.display.HTML object>"
      ]
     },
     "metadata": {
      "tags": []
     },
     "output_type": "display_data"
    },
    {
     "data": {
      "text/html": [],
      "text/plain": [
       "<IPython.core.display.HTML object>"
      ]
     },
     "metadata": {
      "tags": []
     },
     "output_type": "display_data"
    },
    {
     "data": {
      "text/html": [],
      "text/plain": [
       "<IPython.core.display.HTML object>"
      ]
     },
     "metadata": {
      "tags": []
     },
     "output_type": "display_data"
    },
    {
     "data": {
      "text/html": [],
      "text/plain": [
       "<IPython.core.display.HTML object>"
      ]
     },
     "metadata": {
      "tags": []
     },
     "output_type": "display_data"
    },
    {
     "data": {
      "text/html": [],
      "text/plain": [
       "<IPython.core.display.HTML object>"
      ]
     },
     "metadata": {
      "tags": []
     },
     "output_type": "display_data"
    },
    {
     "data": {
      "text/html": [],
      "text/plain": [
       "<IPython.core.display.HTML object>"
      ]
     },
     "metadata": {
      "tags": []
     },
     "output_type": "display_data"
    },
    {
     "data": {
      "text/html": [],
      "text/plain": [
       "<IPython.core.display.HTML object>"
      ]
     },
     "metadata": {
      "tags": []
     },
     "output_type": "display_data"
    },
    {
     "data": {
      "text/html": [],
      "text/plain": [
       "<IPython.core.display.HTML object>"
      ]
     },
     "metadata": {
      "tags": []
     },
     "output_type": "display_data"
    },
    {
     "data": {
      "text/html": [],
      "text/plain": [
       "<IPython.core.display.HTML object>"
      ]
     },
     "metadata": {
      "tags": []
     },
     "output_type": "display_data"
    },
    {
     "data": {
      "text/html": [],
      "text/plain": [
       "<IPython.core.display.HTML object>"
      ]
     },
     "metadata": {
      "tags": []
     },
     "output_type": "display_data"
    },
    {
     "data": {
      "text/html": [],
      "text/plain": [
       "<IPython.core.display.HTML object>"
      ]
     },
     "metadata": {
      "tags": []
     },
     "output_type": "display_data"
    },
    {
     "data": {
      "text/html": [],
      "text/plain": [
       "<IPython.core.display.HTML object>"
      ]
     },
     "metadata": {
      "tags": []
     },
     "output_type": "display_data"
    },
    {
     "data": {
      "text/html": [],
      "text/plain": [
       "<IPython.core.display.HTML object>"
      ]
     },
     "metadata": {
      "tags": []
     },
     "output_type": "display_data"
    },
    {
     "data": {
      "text/html": [],
      "text/plain": [
       "<IPython.core.display.HTML object>"
      ]
     },
     "metadata": {
      "tags": []
     },
     "output_type": "display_data"
    },
    {
     "data": {
      "text/html": [],
      "text/plain": [
       "<IPython.core.display.HTML object>"
      ]
     },
     "metadata": {
      "tags": []
     },
     "output_type": "display_data"
    },
    {
     "data": {
      "text/html": [],
      "text/plain": [
       "<IPython.core.display.HTML object>"
      ]
     },
     "metadata": {
      "tags": []
     },
     "output_type": "display_data"
    },
    {
     "data": {
      "text/html": [],
      "text/plain": [
       "<IPython.core.display.HTML object>"
      ]
     },
     "metadata": {
      "tags": []
     },
     "output_type": "display_data"
    },
    {
     "data": {
      "text/html": [],
      "text/plain": [
       "<IPython.core.display.HTML object>"
      ]
     },
     "metadata": {
      "tags": []
     },
     "output_type": "display_data"
    },
    {
     "data": {
      "text/html": [],
      "text/plain": [
       "<IPython.core.display.HTML object>"
      ]
     },
     "metadata": {
      "tags": []
     },
     "output_type": "display_data"
    },
    {
     "data": {
      "text/html": [],
      "text/plain": [
       "<IPython.core.display.HTML object>"
      ]
     },
     "metadata": {
      "tags": []
     },
     "output_type": "display_data"
    },
    {
     "data": {
      "text/html": [],
      "text/plain": [
       "<IPython.core.display.HTML object>"
      ]
     },
     "metadata": {
      "tags": []
     },
     "output_type": "display_data"
    },
    {
     "data": {
      "text/html": [],
      "text/plain": [
       "<IPython.core.display.HTML object>"
      ]
     },
     "metadata": {
      "tags": []
     },
     "output_type": "display_data"
    },
    {
     "data": {
      "text/html": [],
      "text/plain": [
       "<IPython.core.display.HTML object>"
      ]
     },
     "metadata": {
      "tags": []
     },
     "output_type": "display_data"
    },
    {
     "data": {
      "text/html": [],
      "text/plain": [
       "<IPython.core.display.HTML object>"
      ]
     },
     "metadata": {
      "tags": []
     },
     "output_type": "display_data"
    },
    {
     "data": {
      "text/html": [],
      "text/plain": [
       "<IPython.core.display.HTML object>"
      ]
     },
     "metadata": {
      "tags": []
     },
     "output_type": "display_data"
    },
    {
     "data": {
      "text/html": [],
      "text/plain": [
       "<IPython.core.display.HTML object>"
      ]
     },
     "metadata": {
      "tags": []
     },
     "output_type": "display_data"
    },
    {
     "data": {
      "text/html": [],
      "text/plain": [
       "<IPython.core.display.HTML object>"
      ]
     },
     "metadata": {
      "tags": []
     },
     "output_type": "display_data"
    },
    {
     "data": {
      "text/html": [],
      "text/plain": [
       "<IPython.core.display.HTML object>"
      ]
     },
     "metadata": {
      "tags": []
     },
     "output_type": "display_data"
    },
    {
     "data": {
      "text/html": [],
      "text/plain": [
       "<IPython.core.display.HTML object>"
      ]
     },
     "metadata": {
      "tags": []
     },
     "output_type": "display_data"
    },
    {
     "data": {
      "text/html": [],
      "text/plain": [
       "<IPython.core.display.HTML object>"
      ]
     },
     "metadata": {
      "tags": []
     },
     "output_type": "display_data"
    },
    {
     "data": {
      "text/html": [],
      "text/plain": [
       "<IPython.core.display.HTML object>"
      ]
     },
     "metadata": {
      "tags": []
     },
     "output_type": "display_data"
    },
    {
     "data": {
      "text/html": [],
      "text/plain": [
       "<IPython.core.display.HTML object>"
      ]
     },
     "metadata": {
      "tags": []
     },
     "output_type": "display_data"
    },
    {
     "data": {
      "text/html": [],
      "text/plain": [
       "<IPython.core.display.HTML object>"
      ]
     },
     "metadata": {
      "tags": []
     },
     "output_type": "display_data"
    },
    {
     "data": {
      "text/html": [],
      "text/plain": [
       "<IPython.core.display.HTML object>"
      ]
     },
     "metadata": {
      "tags": []
     },
     "output_type": "display_data"
    },
    {
     "data": {
      "text/html": [],
      "text/plain": [
       "<IPython.core.display.HTML object>"
      ]
     },
     "metadata": {
      "tags": []
     },
     "output_type": "display_data"
    },
    {
     "data": {
      "text/html": [],
      "text/plain": [
       "<IPython.core.display.HTML object>"
      ]
     },
     "metadata": {
      "tags": []
     },
     "output_type": "display_data"
    },
    {
     "data": {
      "text/html": [],
      "text/plain": [
       "<IPython.core.display.HTML object>"
      ]
     },
     "metadata": {
      "tags": []
     },
     "output_type": "display_data"
    },
    {
     "data": {
      "text/html": [],
      "text/plain": [
       "<IPython.core.display.HTML object>"
      ]
     },
     "metadata": {
      "tags": []
     },
     "output_type": "display_data"
    },
    {
     "data": {
      "text/html": [],
      "text/plain": [
       "<IPython.core.display.HTML object>"
      ]
     },
     "metadata": {
      "tags": []
     },
     "output_type": "display_data"
    },
    {
     "data": {
      "text/html": [],
      "text/plain": [
       "<IPython.core.display.HTML object>"
      ]
     },
     "metadata": {
      "tags": []
     },
     "output_type": "display_data"
    },
    {
     "data": {
      "text/html": [],
      "text/plain": [
       "<IPython.core.display.HTML object>"
      ]
     },
     "metadata": {
      "tags": []
     },
     "output_type": "display_data"
    },
    {
     "data": {
      "text/html": [],
      "text/plain": [
       "<IPython.core.display.HTML object>"
      ]
     },
     "metadata": {
      "tags": []
     },
     "output_type": "display_data"
    },
    {
     "data": {
      "text/html": [],
      "text/plain": [
       "<IPython.core.display.HTML object>"
      ]
     },
     "metadata": {
      "tags": []
     },
     "output_type": "display_data"
    },
    {
     "data": {
      "text/html": [],
      "text/plain": [
       "<IPython.core.display.HTML object>"
      ]
     },
     "metadata": {
      "tags": []
     },
     "output_type": "display_data"
    },
    {
     "data": {
      "text/html": [],
      "text/plain": [
       "<IPython.core.display.HTML object>"
      ]
     },
     "metadata": {
      "tags": []
     },
     "output_type": "display_data"
    },
    {
     "data": {
      "text/html": [],
      "text/plain": [
       "<IPython.core.display.HTML object>"
      ]
     },
     "metadata": {
      "tags": []
     },
     "output_type": "display_data"
    },
    {
     "data": {
      "text/html": [],
      "text/plain": [
       "<IPython.core.display.HTML object>"
      ]
     },
     "metadata": {
      "tags": []
     },
     "output_type": "display_data"
    },
    {
     "data": {
      "text/html": [],
      "text/plain": [
       "<IPython.core.display.HTML object>"
      ]
     },
     "metadata": {
      "tags": []
     },
     "output_type": "display_data"
    },
    {
     "data": {
      "text/html": [],
      "text/plain": [
       "<IPython.core.display.HTML object>"
      ]
     },
     "metadata": {
      "tags": []
     },
     "output_type": "display_data"
    },
    {
     "data": {
      "text/html": [],
      "text/plain": [
       "<IPython.core.display.HTML object>"
      ]
     },
     "metadata": {
      "tags": []
     },
     "output_type": "display_data"
    },
    {
     "data": {
      "text/html": [],
      "text/plain": [
       "<IPython.core.display.HTML object>"
      ]
     },
     "metadata": {
      "tags": []
     },
     "output_type": "display_data"
    },
    {
     "data": {
      "text/html": [],
      "text/plain": [
       "<IPython.core.display.HTML object>"
      ]
     },
     "metadata": {
      "tags": []
     },
     "output_type": "display_data"
    },
    {
     "data": {
      "text/html": [],
      "text/plain": [
       "<IPython.core.display.HTML object>"
      ]
     },
     "metadata": {
      "tags": []
     },
     "output_type": "display_data"
    },
    {
     "data": {
      "text/html": [],
      "text/plain": [
       "<IPython.core.display.HTML object>"
      ]
     },
     "metadata": {
      "tags": []
     },
     "output_type": "display_data"
    },
    {
     "data": {
      "text/html": [],
      "text/plain": [
       "<IPython.core.display.HTML object>"
      ]
     },
     "metadata": {
      "tags": []
     },
     "output_type": "display_data"
    },
    {
     "data": {
      "text/html": [],
      "text/plain": [
       "<IPython.core.display.HTML object>"
      ]
     },
     "metadata": {
      "tags": []
     },
     "output_type": "display_data"
    },
    {
     "data": {
      "text/html": [],
      "text/plain": [
       "<IPython.core.display.HTML object>"
      ]
     },
     "metadata": {
      "tags": []
     },
     "output_type": "display_data"
    },
    {
     "data": {
      "text/html": [],
      "text/plain": [
       "<IPython.core.display.HTML object>"
      ]
     },
     "metadata": {
      "tags": []
     },
     "output_type": "display_data"
    },
    {
     "data": {
      "text/html": [],
      "text/plain": [
       "<IPython.core.display.HTML object>"
      ]
     },
     "metadata": {
      "tags": []
     },
     "output_type": "display_data"
    },
    {
     "data": {
      "text/html": [],
      "text/plain": [
       "<IPython.core.display.HTML object>"
      ]
     },
     "metadata": {
      "tags": []
     },
     "output_type": "display_data"
    },
    {
     "data": {
      "text/html": [],
      "text/plain": [
       "<IPython.core.display.HTML object>"
      ]
     },
     "metadata": {
      "tags": []
     },
     "output_type": "display_data"
    },
    {
     "data": {
      "text/html": [],
      "text/plain": [
       "<IPython.core.display.HTML object>"
      ]
     },
     "metadata": {
      "tags": []
     },
     "output_type": "display_data"
    },
    {
     "data": {
      "text/html": [],
      "text/plain": [
       "<IPython.core.display.HTML object>"
      ]
     },
     "metadata": {
      "tags": []
     },
     "output_type": "display_data"
    },
    {
     "data": {
      "text/html": [],
      "text/plain": [
       "<IPython.core.display.HTML object>"
      ]
     },
     "metadata": {
      "tags": []
     },
     "output_type": "display_data"
    },
    {
     "data": {
      "text/html": [],
      "text/plain": [
       "<IPython.core.display.HTML object>"
      ]
     },
     "metadata": {
      "tags": []
     },
     "output_type": "display_data"
    },
    {
     "data": {
      "text/html": [],
      "text/plain": [
       "<IPython.core.display.HTML object>"
      ]
     },
     "metadata": {
      "tags": []
     },
     "output_type": "display_data"
    },
    {
     "data": {
      "text/html": [],
      "text/plain": [
       "<IPython.core.display.HTML object>"
      ]
     },
     "metadata": {
      "tags": []
     },
     "output_type": "display_data"
    },
    {
     "data": {
      "text/html": [],
      "text/plain": [
       "<IPython.core.display.HTML object>"
      ]
     },
     "metadata": {
      "tags": []
     },
     "output_type": "display_data"
    },
    {
     "data": {
      "text/html": [],
      "text/plain": [
       "<IPython.core.display.HTML object>"
      ]
     },
     "metadata": {
      "tags": []
     },
     "output_type": "display_data"
    },
    {
     "data": {
      "text/html": [],
      "text/plain": [
       "<IPython.core.display.HTML object>"
      ]
     },
     "metadata": {
      "tags": []
     },
     "output_type": "display_data"
    },
    {
     "data": {
      "text/html": [],
      "text/plain": [
       "<IPython.core.display.HTML object>"
      ]
     },
     "metadata": {
      "tags": []
     },
     "output_type": "display_data"
    },
    {
     "data": {
      "text/html": [],
      "text/plain": [
       "<IPython.core.display.HTML object>"
      ]
     },
     "metadata": {
      "tags": []
     },
     "output_type": "display_data"
    },
    {
     "data": {
      "text/html": [],
      "text/plain": [
       "<IPython.core.display.HTML object>"
      ]
     },
     "metadata": {
      "tags": []
     },
     "output_type": "display_data"
    },
    {
     "data": {
      "text/html": [],
      "text/plain": [
       "<IPython.core.display.HTML object>"
      ]
     },
     "metadata": {
      "tags": []
     },
     "output_type": "display_data"
    },
    {
     "data": {
      "text/html": [],
      "text/plain": [
       "<IPython.core.display.HTML object>"
      ]
     },
     "metadata": {
      "tags": []
     },
     "output_type": "display_data"
    },
    {
     "data": {
      "text/html": [],
      "text/plain": [
       "<IPython.core.display.HTML object>"
      ]
     },
     "metadata": {
      "tags": []
     },
     "output_type": "display_data"
    },
    {
     "data": {
      "text/html": [],
      "text/plain": [
       "<IPython.core.display.HTML object>"
      ]
     },
     "metadata": {
      "tags": []
     },
     "output_type": "display_data"
    },
    {
     "data": {
      "text/html": [],
      "text/plain": [
       "<IPython.core.display.HTML object>"
      ]
     },
     "metadata": {
      "tags": []
     },
     "output_type": "display_data"
    },
    {
     "data": {
      "text/html": [],
      "text/plain": [
       "<IPython.core.display.HTML object>"
      ]
     },
     "metadata": {
      "tags": []
     },
     "output_type": "display_data"
    },
    {
     "data": {
      "text/html": [],
      "text/plain": [
       "<IPython.core.display.HTML object>"
      ]
     },
     "metadata": {
      "tags": []
     },
     "output_type": "display_data"
    },
    {
     "data": {
      "text/html": [],
      "text/plain": [
       "<IPython.core.display.HTML object>"
      ]
     },
     "metadata": {
      "tags": []
     },
     "output_type": "display_data"
    },
    {
     "data": {
      "text/html": [],
      "text/plain": [
       "<IPython.core.display.HTML object>"
      ]
     },
     "metadata": {
      "tags": []
     },
     "output_type": "display_data"
    },
    {
     "data": {
      "text/html": [],
      "text/plain": [
       "<IPython.core.display.HTML object>"
      ]
     },
     "metadata": {
      "tags": []
     },
     "output_type": "display_data"
    },
    {
     "data": {
      "text/html": [],
      "text/plain": [
       "<IPython.core.display.HTML object>"
      ]
     },
     "metadata": {
      "tags": []
     },
     "output_type": "display_data"
    },
    {
     "data": {
      "text/html": [],
      "text/plain": [
       "<IPython.core.display.HTML object>"
      ]
     },
     "metadata": {
      "tags": []
     },
     "output_type": "display_data"
    },
    {
     "data": {
      "text/html": [],
      "text/plain": [
       "<IPython.core.display.HTML object>"
      ]
     },
     "metadata": {
      "tags": []
     },
     "output_type": "display_data"
    },
    {
     "data": {
      "text/html": [],
      "text/plain": [
       "<IPython.core.display.HTML object>"
      ]
     },
     "metadata": {
      "tags": []
     },
     "output_type": "display_data"
    },
    {
     "data": {
      "text/html": [],
      "text/plain": [
       "<IPython.core.display.HTML object>"
      ]
     },
     "metadata": {
      "tags": []
     },
     "output_type": "display_data"
    },
    {
     "data": {
      "text/html": [],
      "text/plain": [
       "<IPython.core.display.HTML object>"
      ]
     },
     "metadata": {
      "tags": []
     },
     "output_type": "display_data"
    },
    {
     "data": {
      "text/html": [],
      "text/plain": [
       "<IPython.core.display.HTML object>"
      ]
     },
     "metadata": {
      "tags": []
     },
     "output_type": "display_data"
    },
    {
     "data": {
      "text/html": [],
      "text/plain": [
       "<IPython.core.display.HTML object>"
      ]
     },
     "metadata": {
      "tags": []
     },
     "output_type": "display_data"
    },
    {
     "data": {
      "text/html": [],
      "text/plain": [
       "<IPython.core.display.HTML object>"
      ]
     },
     "metadata": {
      "tags": []
     },
     "output_type": "display_data"
    },
    {
     "data": {
      "text/html": [],
      "text/plain": [
       "<IPython.core.display.HTML object>"
      ]
     },
     "metadata": {
      "tags": []
     },
     "output_type": "display_data"
    },
    {
     "data": {
      "text/html": [],
      "text/plain": [
       "<IPython.core.display.HTML object>"
      ]
     },
     "metadata": {
      "tags": []
     },
     "output_type": "display_data"
    },
    {
     "data": {
      "text/html": [],
      "text/plain": [
       "<IPython.core.display.HTML object>"
      ]
     },
     "metadata": {
      "tags": []
     },
     "output_type": "display_data"
    },
    {
     "data": {
      "text/html": [],
      "text/plain": [
       "<IPython.core.display.HTML object>"
      ]
     },
     "metadata": {
      "tags": []
     },
     "output_type": "display_data"
    },
    {
     "data": {
      "text/html": [],
      "text/plain": [
       "<IPython.core.display.HTML object>"
      ]
     },
     "metadata": {
      "tags": []
     },
     "output_type": "display_data"
    },
    {
     "data": {
      "text/html": [],
      "text/plain": [
       "<IPython.core.display.HTML object>"
      ]
     },
     "metadata": {
      "tags": []
     },
     "output_type": "display_data"
    },
    {
     "data": {
      "text/html": [],
      "text/plain": [
       "<IPython.core.display.HTML object>"
      ]
     },
     "metadata": {
      "tags": []
     },
     "output_type": "display_data"
    },
    {
     "data": {
      "text/html": [],
      "text/plain": [
       "<IPython.core.display.HTML object>"
      ]
     },
     "metadata": {
      "tags": []
     },
     "output_type": "display_data"
    },
    {
     "data": {
      "text/html": [],
      "text/plain": [
       "<IPython.core.display.HTML object>"
      ]
     },
     "metadata": {
      "tags": []
     },
     "output_type": "display_data"
    },
    {
     "data": {
      "text/html": [],
      "text/plain": [
       "<IPython.core.display.HTML object>"
      ]
     },
     "metadata": {
      "tags": []
     },
     "output_type": "display_data"
    },
    {
     "data": {
      "text/html": [],
      "text/plain": [
       "<IPython.core.display.HTML object>"
      ]
     },
     "metadata": {
      "tags": []
     },
     "output_type": "display_data"
    },
    {
     "data": {
      "text/html": [],
      "text/plain": [
       "<IPython.core.display.HTML object>"
      ]
     },
     "metadata": {
      "tags": []
     },
     "output_type": "display_data"
    },
    {
     "data": {
      "text/html": [],
      "text/plain": [
       "<IPython.core.display.HTML object>"
      ]
     },
     "metadata": {
      "tags": []
     },
     "output_type": "display_data"
    },
    {
     "data": {
      "text/html": [],
      "text/plain": [
       "<IPython.core.display.HTML object>"
      ]
     },
     "metadata": {
      "tags": []
     },
     "output_type": "display_data"
    },
    {
     "data": {
      "text/html": [],
      "text/plain": [
       "<IPython.core.display.HTML object>"
      ]
     },
     "metadata": {
      "tags": []
     },
     "output_type": "display_data"
    },
    {
     "data": {
      "text/html": [],
      "text/plain": [
       "<IPython.core.display.HTML object>"
      ]
     },
     "metadata": {
      "tags": []
     },
     "output_type": "display_data"
    },
    {
     "data": {
      "text/html": [],
      "text/plain": [
       "<IPython.core.display.HTML object>"
      ]
     },
     "metadata": {
      "tags": []
     },
     "output_type": "display_data"
    },
    {
     "data": {
      "text/html": [],
      "text/plain": [
       "<IPython.core.display.HTML object>"
      ]
     },
     "metadata": {
      "tags": []
     },
     "output_type": "display_data"
    },
    {
     "data": {
      "text/html": [],
      "text/plain": [
       "<IPython.core.display.HTML object>"
      ]
     },
     "metadata": {
      "tags": []
     },
     "output_type": "display_data"
    },
    {
     "data": {
      "text/html": [],
      "text/plain": [
       "<IPython.core.display.HTML object>"
      ]
     },
     "metadata": {
      "tags": []
     },
     "output_type": "display_data"
    },
    {
     "data": {
      "text/html": [],
      "text/plain": [
       "<IPython.core.display.HTML object>"
      ]
     },
     "metadata": {
      "tags": []
     },
     "output_type": "display_data"
    },
    {
     "data": {
      "text/html": [],
      "text/plain": [
       "<IPython.core.display.HTML object>"
      ]
     },
     "metadata": {
      "tags": []
     },
     "output_type": "display_data"
    },
    {
     "data": {
      "text/html": [],
      "text/plain": [
       "<IPython.core.display.HTML object>"
      ]
     },
     "metadata": {
      "tags": []
     },
     "output_type": "display_data"
    },
    {
     "data": {
      "text/html": [],
      "text/plain": [
       "<IPython.core.display.HTML object>"
      ]
     },
     "metadata": {
      "tags": []
     },
     "output_type": "display_data"
    },
    {
     "data": {
      "text/html": [],
      "text/plain": [
       "<IPython.core.display.HTML object>"
      ]
     },
     "metadata": {
      "tags": []
     },
     "output_type": "display_data"
    },
    {
     "data": {
      "text/html": [],
      "text/plain": [
       "<IPython.core.display.HTML object>"
      ]
     },
     "metadata": {
      "tags": []
     },
     "output_type": "display_data"
    },
    {
     "data": {
      "text/html": [],
      "text/plain": [
       "<IPython.core.display.HTML object>"
      ]
     },
     "metadata": {
      "tags": []
     },
     "output_type": "display_data"
    },
    {
     "data": {
      "text/html": [],
      "text/plain": [
       "<IPython.core.display.HTML object>"
      ]
     },
     "metadata": {
      "tags": []
     },
     "output_type": "display_data"
    },
    {
     "data": {
      "text/html": [],
      "text/plain": [
       "<IPython.core.display.HTML object>"
      ]
     },
     "metadata": {
      "tags": []
     },
     "output_type": "display_data"
    },
    {
     "data": {
      "text/html": [],
      "text/plain": [
       "<IPython.core.display.HTML object>"
      ]
     },
     "metadata": {
      "tags": []
     },
     "output_type": "display_data"
    },
    {
     "data": {
      "text/html": [],
      "text/plain": [
       "<IPython.core.display.HTML object>"
      ]
     },
     "metadata": {
      "tags": []
     },
     "output_type": "display_data"
    },
    {
     "data": {
      "text/html": [],
      "text/plain": [
       "<IPython.core.display.HTML object>"
      ]
     },
     "metadata": {
      "tags": []
     },
     "output_type": "display_data"
    },
    {
     "data": {
      "text/html": [],
      "text/plain": [
       "<IPython.core.display.HTML object>"
      ]
     },
     "metadata": {
      "tags": []
     },
     "output_type": "display_data"
    },
    {
     "data": {
      "text/html": [],
      "text/plain": [
       "<IPython.core.display.HTML object>"
      ]
     },
     "metadata": {
      "tags": []
     },
     "output_type": "display_data"
    },
    {
     "data": {
      "text/html": [],
      "text/plain": [
       "<IPython.core.display.HTML object>"
      ]
     },
     "metadata": {
      "tags": []
     },
     "output_type": "display_data"
    },
    {
     "data": {
      "text/html": [],
      "text/plain": [
       "<IPython.core.display.HTML object>"
      ]
     },
     "metadata": {
      "tags": []
     },
     "output_type": "display_data"
    },
    {
     "data": {
      "text/html": [],
      "text/plain": [
       "<IPython.core.display.HTML object>"
      ]
     },
     "metadata": {
      "tags": []
     },
     "output_type": "display_data"
    },
    {
     "data": {
      "text/html": [],
      "text/plain": [
       "<IPython.core.display.HTML object>"
      ]
     },
     "metadata": {
      "tags": []
     },
     "output_type": "display_data"
    },
    {
     "data": {
      "text/html": [],
      "text/plain": [
       "<IPython.core.display.HTML object>"
      ]
     },
     "metadata": {
      "tags": []
     },
     "output_type": "display_data"
    },
    {
     "data": {
      "text/html": [],
      "text/plain": [
       "<IPython.core.display.HTML object>"
      ]
     },
     "metadata": {
      "tags": []
     },
     "output_type": "display_data"
    },
    {
     "data": {
      "text/html": [],
      "text/plain": [
       "<IPython.core.display.HTML object>"
      ]
     },
     "metadata": {
      "tags": []
     },
     "output_type": "display_data"
    },
    {
     "data": {
      "text/html": [],
      "text/plain": [
       "<IPython.core.display.HTML object>"
      ]
     },
     "metadata": {
      "tags": []
     },
     "output_type": "display_data"
    },
    {
     "data": {
      "text/html": [],
      "text/plain": [
       "<IPython.core.display.HTML object>"
      ]
     },
     "metadata": {
      "tags": []
     },
     "output_type": "display_data"
    },
    {
     "data": {
      "text/html": [],
      "text/plain": [
       "<IPython.core.display.HTML object>"
      ]
     },
     "metadata": {
      "tags": []
     },
     "output_type": "display_data"
    },
    {
     "data": {
      "text/html": [],
      "text/plain": [
       "<IPython.core.display.HTML object>"
      ]
     },
     "metadata": {
      "tags": []
     },
     "output_type": "display_data"
    },
    {
     "data": {
      "text/html": [],
      "text/plain": [
       "<IPython.core.display.HTML object>"
      ]
     },
     "metadata": {
      "tags": []
     },
     "output_type": "display_data"
    },
    {
     "data": {
      "text/html": [],
      "text/plain": [
       "<IPython.core.display.HTML object>"
      ]
     },
     "metadata": {
      "tags": []
     },
     "output_type": "display_data"
    },
    {
     "data": {
      "text/html": [],
      "text/plain": [
       "<IPython.core.display.HTML object>"
      ]
     },
     "metadata": {
      "tags": []
     },
     "output_type": "display_data"
    },
    {
     "data": {
      "text/html": [],
      "text/plain": [
       "<IPython.core.display.HTML object>"
      ]
     },
     "metadata": {
      "tags": []
     },
     "output_type": "display_data"
    },
    {
     "data": {
      "text/html": [],
      "text/plain": [
       "<IPython.core.display.HTML object>"
      ]
     },
     "metadata": {
      "tags": []
     },
     "output_type": "display_data"
    },
    {
     "data": {
      "text/html": [],
      "text/plain": [
       "<IPython.core.display.HTML object>"
      ]
     },
     "metadata": {
      "tags": []
     },
     "output_type": "display_data"
    },
    {
     "data": {
      "text/html": [],
      "text/plain": [
       "<IPython.core.display.HTML object>"
      ]
     },
     "metadata": {
      "tags": []
     },
     "output_type": "display_data"
    },
    {
     "data": {
      "text/html": [],
      "text/plain": [
       "<IPython.core.display.HTML object>"
      ]
     },
     "metadata": {
      "tags": []
     },
     "output_type": "display_data"
    },
    {
     "data": {
      "text/html": [],
      "text/plain": [
       "<IPython.core.display.HTML object>"
      ]
     },
     "metadata": {
      "tags": []
     },
     "output_type": "display_data"
    },
    {
     "data": {
      "text/html": [],
      "text/plain": [
       "<IPython.core.display.HTML object>"
      ]
     },
     "metadata": {
      "tags": []
     },
     "output_type": "display_data"
    },
    {
     "data": {
      "text/html": [],
      "text/plain": [
       "<IPython.core.display.HTML object>"
      ]
     },
     "metadata": {
      "tags": []
     },
     "output_type": "display_data"
    },
    {
     "data": {
      "text/html": [],
      "text/plain": [
       "<IPython.core.display.HTML object>"
      ]
     },
     "metadata": {
      "tags": []
     },
     "output_type": "display_data"
    },
    {
     "data": {
      "text/html": [],
      "text/plain": [
       "<IPython.core.display.HTML object>"
      ]
     },
     "metadata": {
      "tags": []
     },
     "output_type": "display_data"
    },
    {
     "data": {
      "text/html": [],
      "text/plain": [
       "<IPython.core.display.HTML object>"
      ]
     },
     "metadata": {
      "tags": []
     },
     "output_type": "display_data"
    },
    {
     "data": {
      "text/html": [],
      "text/plain": [
       "<IPython.core.display.HTML object>"
      ]
     },
     "metadata": {
      "tags": []
     },
     "output_type": "display_data"
    },
    {
     "data": {
      "text/html": [],
      "text/plain": [
       "<IPython.core.display.HTML object>"
      ]
     },
     "metadata": {
      "tags": []
     },
     "output_type": "display_data"
    },
    {
     "data": {
      "text/html": [],
      "text/plain": [
       "<IPython.core.display.HTML object>"
      ]
     },
     "metadata": {
      "tags": []
     },
     "output_type": "display_data"
    },
    {
     "data": {
      "text/html": [],
      "text/plain": [
       "<IPython.core.display.HTML object>"
      ]
     },
     "metadata": {
      "tags": []
     },
     "output_type": "display_data"
    },
    {
     "data": {
      "text/html": [],
      "text/plain": [
       "<IPython.core.display.HTML object>"
      ]
     },
     "metadata": {
      "tags": []
     },
     "output_type": "display_data"
    },
    {
     "data": {
      "text/html": [],
      "text/plain": [
       "<IPython.core.display.HTML object>"
      ]
     },
     "metadata": {
      "tags": []
     },
     "output_type": "display_data"
    },
    {
     "data": {
      "text/html": [],
      "text/plain": [
       "<IPython.core.display.HTML object>"
      ]
     },
     "metadata": {
      "tags": []
     },
     "output_type": "display_data"
    },
    {
     "data": {
      "text/html": [],
      "text/plain": [
       "<IPython.core.display.HTML object>"
      ]
     },
     "metadata": {
      "tags": []
     },
     "output_type": "display_data"
    },
    {
     "data": {
      "text/html": [],
      "text/plain": [
       "<IPython.core.display.HTML object>"
      ]
     },
     "metadata": {
      "tags": []
     },
     "output_type": "display_data"
    },
    {
     "data": {
      "text/html": [],
      "text/plain": [
       "<IPython.core.display.HTML object>"
      ]
     },
     "metadata": {
      "tags": []
     },
     "output_type": "display_data"
    },
    {
     "data": {
      "text/html": [],
      "text/plain": [
       "<IPython.core.display.HTML object>"
      ]
     },
     "metadata": {
      "tags": []
     },
     "output_type": "display_data"
    },
    {
     "data": {
      "text/html": [],
      "text/plain": [
       "<IPython.core.display.HTML object>"
      ]
     },
     "metadata": {
      "tags": []
     },
     "output_type": "display_data"
    },
    {
     "data": {
      "text/html": [],
      "text/plain": [
       "<IPython.core.display.HTML object>"
      ]
     },
     "metadata": {
      "tags": []
     },
     "output_type": "display_data"
    },
    {
     "data": {
      "text/html": [],
      "text/plain": [
       "<IPython.core.display.HTML object>"
      ]
     },
     "metadata": {
      "tags": []
     },
     "output_type": "display_data"
    },
    {
     "data": {
      "text/html": [],
      "text/plain": [
       "<IPython.core.display.HTML object>"
      ]
     },
     "metadata": {
      "tags": []
     },
     "output_type": "display_data"
    },
    {
     "data": {
      "text/html": [],
      "text/plain": [
       "<IPython.core.display.HTML object>"
      ]
     },
     "metadata": {
      "tags": []
     },
     "output_type": "display_data"
    },
    {
     "data": {
      "text/html": [],
      "text/plain": [
       "<IPython.core.display.HTML object>"
      ]
     },
     "metadata": {
      "tags": []
     },
     "output_type": "display_data"
    },
    {
     "data": {
      "text/html": [],
      "text/plain": [
       "<IPython.core.display.HTML object>"
      ]
     },
     "metadata": {
      "tags": []
     },
     "output_type": "display_data"
    },
    {
     "data": {
      "text/html": [],
      "text/plain": [
       "<IPython.core.display.HTML object>"
      ]
     },
     "metadata": {
      "tags": []
     },
     "output_type": "display_data"
    },
    {
     "data": {
      "text/html": [],
      "text/plain": [
       "<IPython.core.display.HTML object>"
      ]
     },
     "metadata": {
      "tags": []
     },
     "output_type": "display_data"
    },
    {
     "data": {
      "text/html": [],
      "text/plain": [
       "<IPython.core.display.HTML object>"
      ]
     },
     "metadata": {
      "tags": []
     },
     "output_type": "display_data"
    },
    {
     "data": {
      "text/html": [],
      "text/plain": [
       "<IPython.core.display.HTML object>"
      ]
     },
     "metadata": {
      "tags": []
     },
     "output_type": "display_data"
    },
    {
     "data": {
      "text/html": [],
      "text/plain": [
       "<IPython.core.display.HTML object>"
      ]
     },
     "metadata": {
      "tags": []
     },
     "output_type": "display_data"
    },
    {
     "data": {
      "text/html": [],
      "text/plain": [
       "<IPython.core.display.HTML object>"
      ]
     },
     "metadata": {
      "tags": []
     },
     "output_type": "display_data"
    },
    {
     "data": {
      "text/html": [],
      "text/plain": [
       "<IPython.core.display.HTML object>"
      ]
     },
     "metadata": {
      "tags": []
     },
     "output_type": "display_data"
    },
    {
     "data": {
      "text/html": [],
      "text/plain": [
       "<IPython.core.display.HTML object>"
      ]
     },
     "metadata": {
      "tags": []
     },
     "output_type": "display_data"
    },
    {
     "data": {
      "text/html": [],
      "text/plain": [
       "<IPython.core.display.HTML object>"
      ]
     },
     "metadata": {
      "tags": []
     },
     "output_type": "display_data"
    },
    {
     "data": {
      "text/html": [],
      "text/plain": [
       "<IPython.core.display.HTML object>"
      ]
     },
     "metadata": {
      "tags": []
     },
     "output_type": "display_data"
    },
    {
     "data": {
      "text/html": [],
      "text/plain": [
       "<IPython.core.display.HTML object>"
      ]
     },
     "metadata": {
      "tags": []
     },
     "output_type": "display_data"
    },
    {
     "data": {
      "text/html": [],
      "text/plain": [
       "<IPython.core.display.HTML object>"
      ]
     },
     "metadata": {
      "tags": []
     },
     "output_type": "display_data"
    },
    {
     "data": {
      "text/html": [],
      "text/plain": [
       "<IPython.core.display.HTML object>"
      ]
     },
     "metadata": {
      "tags": []
     },
     "output_type": "display_data"
    },
    {
     "data": {
      "text/html": [],
      "text/plain": [
       "<IPython.core.display.HTML object>"
      ]
     },
     "metadata": {
      "tags": []
     },
     "output_type": "display_data"
    },
    {
     "data": {
      "text/html": [],
      "text/plain": [
       "<IPython.core.display.HTML object>"
      ]
     },
     "metadata": {
      "tags": []
     },
     "output_type": "display_data"
    },
    {
     "data": {
      "text/html": [],
      "text/plain": [
       "<IPython.core.display.HTML object>"
      ]
     },
     "metadata": {
      "tags": []
     },
     "output_type": "display_data"
    },
    {
     "data": {
      "text/html": [],
      "text/plain": [
       "<IPython.core.display.HTML object>"
      ]
     },
     "metadata": {
      "tags": []
     },
     "output_type": "display_data"
    },
    {
     "data": {
      "text/html": [],
      "text/plain": [
       "<IPython.core.display.HTML object>"
      ]
     },
     "metadata": {
      "tags": []
     },
     "output_type": "display_data"
    },
    {
     "data": {
      "text/html": [],
      "text/plain": [
       "<IPython.core.display.HTML object>"
      ]
     },
     "metadata": {
      "tags": []
     },
     "output_type": "display_data"
    },
    {
     "data": {
      "text/html": [],
      "text/plain": [
       "<IPython.core.display.HTML object>"
      ]
     },
     "metadata": {
      "tags": []
     },
     "output_type": "display_data"
    },
    {
     "data": {
      "text/html": [],
      "text/plain": [
       "<IPython.core.display.HTML object>"
      ]
     },
     "metadata": {
      "tags": []
     },
     "output_type": "display_data"
    },
    {
     "data": {
      "text/html": [],
      "text/plain": [
       "<IPython.core.display.HTML object>"
      ]
     },
     "metadata": {
      "tags": []
     },
     "output_type": "display_data"
    },
    {
     "data": {
      "text/html": [],
      "text/plain": [
       "<IPython.core.display.HTML object>"
      ]
     },
     "metadata": {
      "tags": []
     },
     "output_type": "display_data"
    },
    {
     "data": {
      "text/html": [],
      "text/plain": [
       "<IPython.core.display.HTML object>"
      ]
     },
     "metadata": {
      "tags": []
     },
     "output_type": "display_data"
    },
    {
     "data": {
      "text/html": [],
      "text/plain": [
       "<IPython.core.display.HTML object>"
      ]
     },
     "metadata": {
      "tags": []
     },
     "output_type": "display_data"
    },
    {
     "data": {
      "text/html": [],
      "text/plain": [
       "<IPython.core.display.HTML object>"
      ]
     },
     "metadata": {
      "tags": []
     },
     "output_type": "display_data"
    },
    {
     "data": {
      "text/html": [],
      "text/plain": [
       "<IPython.core.display.HTML object>"
      ]
     },
     "metadata": {
      "tags": []
     },
     "output_type": "display_data"
    },
    {
     "data": {
      "text/html": [],
      "text/plain": [
       "<IPython.core.display.HTML object>"
      ]
     },
     "metadata": {
      "tags": []
     },
     "output_type": "display_data"
    },
    {
     "data": {
      "text/html": [],
      "text/plain": [
       "<IPython.core.display.HTML object>"
      ]
     },
     "metadata": {
      "tags": []
     },
     "output_type": "display_data"
    },
    {
     "data": {
      "text/html": [],
      "text/plain": [
       "<IPython.core.display.HTML object>"
      ]
     },
     "metadata": {
      "tags": []
     },
     "output_type": "display_data"
    },
    {
     "data": {
      "text/html": [],
      "text/plain": [
       "<IPython.core.display.HTML object>"
      ]
     },
     "metadata": {
      "tags": []
     },
     "output_type": "display_data"
    },
    {
     "data": {
      "text/html": [],
      "text/plain": [
       "<IPython.core.display.HTML object>"
      ]
     },
     "metadata": {
      "tags": []
     },
     "output_type": "display_data"
    },
    {
     "data": {
      "text/html": [],
      "text/plain": [
       "<IPython.core.display.HTML object>"
      ]
     },
     "metadata": {
      "tags": []
     },
     "output_type": "display_data"
    },
    {
     "data": {
      "text/html": [],
      "text/plain": [
       "<IPython.core.display.HTML object>"
      ]
     },
     "metadata": {
      "tags": []
     },
     "output_type": "display_data"
    },
    {
     "data": {
      "text/html": [],
      "text/plain": [
       "<IPython.core.display.HTML object>"
      ]
     },
     "metadata": {
      "tags": []
     },
     "output_type": "display_data"
    },
    {
     "data": {
      "text/html": [],
      "text/plain": [
       "<IPython.core.display.HTML object>"
      ]
     },
     "metadata": {
      "tags": []
     },
     "output_type": "display_data"
    },
    {
     "data": {
      "text/html": [],
      "text/plain": [
       "<IPython.core.display.HTML object>"
      ]
     },
     "metadata": {
      "tags": []
     },
     "output_type": "display_data"
    },
    {
     "data": {
      "text/html": [],
      "text/plain": [
       "<IPython.core.display.HTML object>"
      ]
     },
     "metadata": {
      "tags": []
     },
     "output_type": "display_data"
    },
    {
     "data": {
      "text/html": [],
      "text/plain": [
       "<IPython.core.display.HTML object>"
      ]
     },
     "metadata": {
      "tags": []
     },
     "output_type": "display_data"
    },
    {
     "data": {
      "text/html": [],
      "text/plain": [
       "<IPython.core.display.HTML object>"
      ]
     },
     "metadata": {
      "tags": []
     },
     "output_type": "display_data"
    },
    {
     "data": {
      "text/html": [],
      "text/plain": [
       "<IPython.core.display.HTML object>"
      ]
     },
     "metadata": {
      "tags": []
     },
     "output_type": "display_data"
    },
    {
     "data": {
      "text/html": [],
      "text/plain": [
       "<IPython.core.display.HTML object>"
      ]
     },
     "metadata": {
      "tags": []
     },
     "output_type": "display_data"
    },
    {
     "data": {
      "text/html": [],
      "text/plain": [
       "<IPython.core.display.HTML object>"
      ]
     },
     "metadata": {
      "tags": []
     },
     "output_type": "display_data"
    },
    {
     "data": {
      "text/html": [],
      "text/plain": [
       "<IPython.core.display.HTML object>"
      ]
     },
     "metadata": {
      "tags": []
     },
     "output_type": "display_data"
    },
    {
     "data": {
      "text/html": [],
      "text/plain": [
       "<IPython.core.display.HTML object>"
      ]
     },
     "metadata": {
      "tags": []
     },
     "output_type": "display_data"
    },
    {
     "data": {
      "text/html": [],
      "text/plain": [
       "<IPython.core.display.HTML object>"
      ]
     },
     "metadata": {
      "tags": []
     },
     "output_type": "display_data"
    },
    {
     "data": {
      "text/html": [],
      "text/plain": [
       "<IPython.core.display.HTML object>"
      ]
     },
     "metadata": {
      "tags": []
     },
     "output_type": "display_data"
    },
    {
     "data": {
      "text/html": [],
      "text/plain": [
       "<IPython.core.display.HTML object>"
      ]
     },
     "metadata": {
      "tags": []
     },
     "output_type": "display_data"
    },
    {
     "data": {
      "text/html": [],
      "text/plain": [
       "<IPython.core.display.HTML object>"
      ]
     },
     "metadata": {
      "tags": []
     },
     "output_type": "display_data"
    },
    {
     "data": {
      "text/html": [],
      "text/plain": [
       "<IPython.core.display.HTML object>"
      ]
     },
     "metadata": {
      "tags": []
     },
     "output_type": "display_data"
    },
    {
     "data": {
      "text/html": [],
      "text/plain": [
       "<IPython.core.display.HTML object>"
      ]
     },
     "metadata": {
      "tags": []
     },
     "output_type": "display_data"
    },
    {
     "data": {
      "text/html": [],
      "text/plain": [
       "<IPython.core.display.HTML object>"
      ]
     },
     "metadata": {
      "tags": []
     },
     "output_type": "display_data"
    },
    {
     "data": {
      "text/html": [],
      "text/plain": [
       "<IPython.core.display.HTML object>"
      ]
     },
     "metadata": {
      "tags": []
     },
     "output_type": "display_data"
    },
    {
     "data": {
      "text/html": [],
      "text/plain": [
       "<IPython.core.display.HTML object>"
      ]
     },
     "metadata": {
      "tags": []
     },
     "output_type": "display_data"
    },
    {
     "data": {
      "text/html": [],
      "text/plain": [
       "<IPython.core.display.HTML object>"
      ]
     },
     "metadata": {
      "tags": []
     },
     "output_type": "display_data"
    },
    {
     "data": {
      "text/html": [],
      "text/plain": [
       "<IPython.core.display.HTML object>"
      ]
     },
     "metadata": {
      "tags": []
     },
     "output_type": "display_data"
    },
    {
     "data": {
      "text/html": [],
      "text/plain": [
       "<IPython.core.display.HTML object>"
      ]
     },
     "metadata": {
      "tags": []
     },
     "output_type": "display_data"
    },
    {
     "data": {
      "text/html": [],
      "text/plain": [
       "<IPython.core.display.HTML object>"
      ]
     },
     "metadata": {
      "tags": []
     },
     "output_type": "display_data"
    },
    {
     "data": {
      "text/html": [],
      "text/plain": [
       "<IPython.core.display.HTML object>"
      ]
     },
     "metadata": {
      "tags": []
     },
     "output_type": "display_data"
    },
    {
     "data": {
      "text/html": [],
      "text/plain": [
       "<IPython.core.display.HTML object>"
      ]
     },
     "metadata": {
      "tags": []
     },
     "output_type": "display_data"
    },
    {
     "data": {
      "text/html": [],
      "text/plain": [
       "<IPython.core.display.HTML object>"
      ]
     },
     "metadata": {
      "tags": []
     },
     "output_type": "display_data"
    },
    {
     "data": {
      "text/html": [],
      "text/plain": [
       "<IPython.core.display.HTML object>"
      ]
     },
     "metadata": {
      "tags": []
     },
     "output_type": "display_data"
    },
    {
     "data": {
      "text/html": [],
      "text/plain": [
       "<IPython.core.display.HTML object>"
      ]
     },
     "metadata": {
      "tags": []
     },
     "output_type": "display_data"
    },
    {
     "data": {
      "text/html": [],
      "text/plain": [
       "<IPython.core.display.HTML object>"
      ]
     },
     "metadata": {
      "tags": []
     },
     "output_type": "display_data"
    },
    {
     "data": {
      "text/html": [],
      "text/plain": [
       "<IPython.core.display.HTML object>"
      ]
     },
     "metadata": {
      "tags": []
     },
     "output_type": "display_data"
    },
    {
     "data": {
      "text/html": [],
      "text/plain": [
       "<IPython.core.display.HTML object>"
      ]
     },
     "metadata": {
      "tags": []
     },
     "output_type": "display_data"
    },
    {
     "data": {
      "text/html": [],
      "text/plain": [
       "<IPython.core.display.HTML object>"
      ]
     },
     "metadata": {
      "tags": []
     },
     "output_type": "display_data"
    },
    {
     "data": {
      "text/html": [],
      "text/plain": [
       "<IPython.core.display.HTML object>"
      ]
     },
     "metadata": {
      "tags": []
     },
     "output_type": "display_data"
    },
    {
     "data": {
      "text/html": [],
      "text/plain": [
       "<IPython.core.display.HTML object>"
      ]
     },
     "metadata": {
      "tags": []
     },
     "output_type": "display_data"
    },
    {
     "data": {
      "text/html": [],
      "text/plain": [
       "<IPython.core.display.HTML object>"
      ]
     },
     "metadata": {
      "tags": []
     },
     "output_type": "display_data"
    },
    {
     "data": {
      "text/html": [],
      "text/plain": [
       "<IPython.core.display.HTML object>"
      ]
     },
     "metadata": {
      "tags": []
     },
     "output_type": "display_data"
    },
    {
     "data": {
      "text/html": [],
      "text/plain": [
       "<IPython.core.display.HTML object>"
      ]
     },
     "metadata": {
      "tags": []
     },
     "output_type": "display_data"
    },
    {
     "data": {
      "text/html": [],
      "text/plain": [
       "<IPython.core.display.HTML object>"
      ]
     },
     "metadata": {
      "tags": []
     },
     "output_type": "display_data"
    },
    {
     "data": {
      "text/html": [],
      "text/plain": [
       "<IPython.core.display.HTML object>"
      ]
     },
     "metadata": {
      "tags": []
     },
     "output_type": "display_data"
    },
    {
     "data": {
      "text/html": [],
      "text/plain": [
       "<IPython.core.display.HTML object>"
      ]
     },
     "metadata": {
      "tags": []
     },
     "output_type": "display_data"
    },
    {
     "data": {
      "text/html": [],
      "text/plain": [
       "<IPython.core.display.HTML object>"
      ]
     },
     "metadata": {
      "tags": []
     },
     "output_type": "display_data"
    },
    {
     "data": {
      "text/html": [],
      "text/plain": [
       "<IPython.core.display.HTML object>"
      ]
     },
     "metadata": {
      "tags": []
     },
     "output_type": "display_data"
    },
    {
     "data": {
      "text/html": [],
      "text/plain": [
       "<IPython.core.display.HTML object>"
      ]
     },
     "metadata": {
      "tags": []
     },
     "output_type": "display_data"
    },
    {
     "data": {
      "text/html": [],
      "text/plain": [
       "<IPython.core.display.HTML object>"
      ]
     },
     "metadata": {
      "tags": []
     },
     "output_type": "display_data"
    },
    {
     "data": {
      "text/html": [],
      "text/plain": [
       "<IPython.core.display.HTML object>"
      ]
     },
     "metadata": {
      "tags": []
     },
     "output_type": "display_data"
    },
    {
     "data": {
      "text/html": [],
      "text/plain": [
       "<IPython.core.display.HTML object>"
      ]
     },
     "metadata": {
      "tags": []
     },
     "output_type": "display_data"
    },
    {
     "data": {
      "text/html": [],
      "text/plain": [
       "<IPython.core.display.HTML object>"
      ]
     },
     "metadata": {
      "tags": []
     },
     "output_type": "display_data"
    },
    {
     "data": {
      "text/html": [],
      "text/plain": [
       "<IPython.core.display.HTML object>"
      ]
     },
     "metadata": {
      "tags": []
     },
     "output_type": "display_data"
    },
    {
     "data": {
      "text/html": [],
      "text/plain": [
       "<IPython.core.display.HTML object>"
      ]
     },
     "metadata": {
      "tags": []
     },
     "output_type": "display_data"
    },
    {
     "data": {
      "text/html": [],
      "text/plain": [
       "<IPython.core.display.HTML object>"
      ]
     },
     "metadata": {
      "tags": []
     },
     "output_type": "display_data"
    },
    {
     "data": {
      "text/html": [],
      "text/plain": [
       "<IPython.core.display.HTML object>"
      ]
     },
     "metadata": {
      "tags": []
     },
     "output_type": "display_data"
    },
    {
     "data": {
      "text/html": [],
      "text/plain": [
       "<IPython.core.display.HTML object>"
      ]
     },
     "metadata": {
      "tags": []
     },
     "output_type": "display_data"
    },
    {
     "data": {
      "text/html": [],
      "text/plain": [
       "<IPython.core.display.HTML object>"
      ]
     },
     "metadata": {
      "tags": []
     },
     "output_type": "display_data"
    },
    {
     "data": {
      "text/html": [],
      "text/plain": [
       "<IPython.core.display.HTML object>"
      ]
     },
     "metadata": {
      "tags": []
     },
     "output_type": "display_data"
    },
    {
     "data": {
      "text/html": [],
      "text/plain": [
       "<IPython.core.display.HTML object>"
      ]
     },
     "metadata": {
      "tags": []
     },
     "output_type": "display_data"
    },
    {
     "data": {
      "text/html": [],
      "text/plain": [
       "<IPython.core.display.HTML object>"
      ]
     },
     "metadata": {
      "tags": []
     },
     "output_type": "display_data"
    },
    {
     "data": {
      "text/html": [],
      "text/plain": [
       "<IPython.core.display.HTML object>"
      ]
     },
     "metadata": {
      "tags": []
     },
     "output_type": "display_data"
    },
    {
     "data": {
      "text/html": [],
      "text/plain": [
       "<IPython.core.display.HTML object>"
      ]
     },
     "metadata": {
      "tags": []
     },
     "output_type": "display_data"
    },
    {
     "data": {
      "text/html": [],
      "text/plain": [
       "<IPython.core.display.HTML object>"
      ]
     },
     "metadata": {
      "tags": []
     },
     "output_type": "display_data"
    },
    {
     "data": {
      "text/html": [],
      "text/plain": [
       "<IPython.core.display.HTML object>"
      ]
     },
     "metadata": {
      "tags": []
     },
     "output_type": "display_data"
    },
    {
     "data": {
      "text/html": [],
      "text/plain": [
       "<IPython.core.display.HTML object>"
      ]
     },
     "metadata": {
      "tags": []
     },
     "output_type": "display_data"
    },
    {
     "data": {
      "text/html": [],
      "text/plain": [
       "<IPython.core.display.HTML object>"
      ]
     },
     "metadata": {
      "tags": []
     },
     "output_type": "display_data"
    },
    {
     "data": {
      "text/html": [],
      "text/plain": [
       "<IPython.core.display.HTML object>"
      ]
     },
     "metadata": {
      "tags": []
     },
     "output_type": "display_data"
    },
    {
     "data": {
      "text/html": [],
      "text/plain": [
       "<IPython.core.display.HTML object>"
      ]
     },
     "metadata": {
      "tags": []
     },
     "output_type": "display_data"
    },
    {
     "data": {
      "text/html": [],
      "text/plain": [
       "<IPython.core.display.HTML object>"
      ]
     },
     "metadata": {
      "tags": []
     },
     "output_type": "display_data"
    },
    {
     "data": {
      "text/html": [],
      "text/plain": [
       "<IPython.core.display.HTML object>"
      ]
     },
     "metadata": {
      "tags": []
     },
     "output_type": "display_data"
    },
    {
     "data": {
      "text/html": [],
      "text/plain": [
       "<IPython.core.display.HTML object>"
      ]
     },
     "metadata": {
      "tags": []
     },
     "output_type": "display_data"
    },
    {
     "data": {
      "text/html": [],
      "text/plain": [
       "<IPython.core.display.HTML object>"
      ]
     },
     "metadata": {
      "tags": []
     },
     "output_type": "display_data"
    },
    {
     "data": {
      "text/html": [],
      "text/plain": [
       "<IPython.core.display.HTML object>"
      ]
     },
     "metadata": {
      "tags": []
     },
     "output_type": "display_data"
    },
    {
     "data": {
      "text/html": [],
      "text/plain": [
       "<IPython.core.display.HTML object>"
      ]
     },
     "metadata": {
      "tags": []
     },
     "output_type": "display_data"
    },
    {
     "data": {
      "text/html": [],
      "text/plain": [
       "<IPython.core.display.HTML object>"
      ]
     },
     "metadata": {
      "tags": []
     },
     "output_type": "display_data"
    },
    {
     "data": {
      "text/html": [],
      "text/plain": [
       "<IPython.core.display.HTML object>"
      ]
     },
     "metadata": {
      "tags": []
     },
     "output_type": "display_data"
    },
    {
     "data": {
      "text/html": [],
      "text/plain": [
       "<IPython.core.display.HTML object>"
      ]
     },
     "metadata": {
      "tags": []
     },
     "output_type": "display_data"
    },
    {
     "data": {
      "text/html": [],
      "text/plain": [
       "<IPython.core.display.HTML object>"
      ]
     },
     "metadata": {
      "tags": []
     },
     "output_type": "display_data"
    },
    {
     "data": {
      "text/html": [],
      "text/plain": [
       "<IPython.core.display.HTML object>"
      ]
     },
     "metadata": {
      "tags": []
     },
     "output_type": "display_data"
    },
    {
     "data": {
      "text/html": [],
      "text/plain": [
       "<IPython.core.display.HTML object>"
      ]
     },
     "metadata": {
      "tags": []
     },
     "output_type": "display_data"
    },
    {
     "data": {
      "text/html": [],
      "text/plain": [
       "<IPython.core.display.HTML object>"
      ]
     },
     "metadata": {
      "tags": []
     },
     "output_type": "display_data"
    },
    {
     "data": {
      "text/html": [],
      "text/plain": [
       "<IPython.core.display.HTML object>"
      ]
     },
     "metadata": {
      "tags": []
     },
     "output_type": "display_data"
    },
    {
     "data": {
      "text/html": [],
      "text/plain": [
       "<IPython.core.display.HTML object>"
      ]
     },
     "metadata": {
      "tags": []
     },
     "output_type": "display_data"
    },
    {
     "data": {
      "text/html": [],
      "text/plain": [
       "<IPython.core.display.HTML object>"
      ]
     },
     "metadata": {
      "tags": []
     },
     "output_type": "display_data"
    },
    {
     "data": {
      "text/html": [],
      "text/plain": [
       "<IPython.core.display.HTML object>"
      ]
     },
     "metadata": {
      "tags": []
     },
     "output_type": "display_data"
    },
    {
     "data": {
      "text/html": [],
      "text/plain": [
       "<IPython.core.display.HTML object>"
      ]
     },
     "metadata": {
      "tags": []
     },
     "output_type": "display_data"
    },
    {
     "data": {
      "text/html": [],
      "text/plain": [
       "<IPython.core.display.HTML object>"
      ]
     },
     "metadata": {
      "tags": []
     },
     "output_type": "display_data"
    },
    {
     "data": {
      "text/html": [],
      "text/plain": [
       "<IPython.core.display.HTML object>"
      ]
     },
     "metadata": {
      "tags": []
     },
     "output_type": "display_data"
    },
    {
     "data": {
      "text/html": [],
      "text/plain": [
       "<IPython.core.display.HTML object>"
      ]
     },
     "metadata": {
      "tags": []
     },
     "output_type": "display_data"
    },
    {
     "data": {
      "text/html": [],
      "text/plain": [
       "<IPython.core.display.HTML object>"
      ]
     },
     "metadata": {
      "tags": []
     },
     "output_type": "display_data"
    },
    {
     "data": {
      "text/html": [],
      "text/plain": [
       "<IPython.core.display.HTML object>"
      ]
     },
     "metadata": {
      "tags": []
     },
     "output_type": "display_data"
    },
    {
     "data": {
      "text/html": [],
      "text/plain": [
       "<IPython.core.display.HTML object>"
      ]
     },
     "metadata": {
      "tags": []
     },
     "output_type": "display_data"
    },
    {
     "data": {
      "text/html": [],
      "text/plain": [
       "<IPython.core.display.HTML object>"
      ]
     },
     "metadata": {
      "tags": []
     },
     "output_type": "display_data"
    },
    {
     "data": {
      "text/html": [],
      "text/plain": [
       "<IPython.core.display.HTML object>"
      ]
     },
     "metadata": {
      "tags": []
     },
     "output_type": "display_data"
    },
    {
     "data": {
      "text/html": [],
      "text/plain": [
       "<IPython.core.display.HTML object>"
      ]
     },
     "metadata": {
      "tags": []
     },
     "output_type": "display_data"
    },
    {
     "data": {
      "text/html": [],
      "text/plain": [
       "<IPython.core.display.HTML object>"
      ]
     },
     "metadata": {
      "tags": []
     },
     "output_type": "display_data"
    },
    {
     "data": {
      "text/html": [],
      "text/plain": [
       "<IPython.core.display.HTML object>"
      ]
     },
     "metadata": {
      "tags": []
     },
     "output_type": "display_data"
    },
    {
     "data": {
      "text/html": [],
      "text/plain": [
       "<IPython.core.display.HTML object>"
      ]
     },
     "metadata": {
      "tags": []
     },
     "output_type": "display_data"
    },
    {
     "data": {
      "text/html": [],
      "text/plain": [
       "<IPython.core.display.HTML object>"
      ]
     },
     "metadata": {
      "tags": []
     },
     "output_type": "display_data"
    },
    {
     "data": {
      "text/html": [],
      "text/plain": [
       "<IPython.core.display.HTML object>"
      ]
     },
     "metadata": {
      "tags": []
     },
     "output_type": "display_data"
    },
    {
     "data": {
      "text/html": [],
      "text/plain": [
       "<IPython.core.display.HTML object>"
      ]
     },
     "metadata": {
      "tags": []
     },
     "output_type": "display_data"
    },
    {
     "data": {
      "text/html": [],
      "text/plain": [
       "<IPython.core.display.HTML object>"
      ]
     },
     "metadata": {
      "tags": []
     },
     "output_type": "display_data"
    },
    {
     "data": {
      "text/html": [],
      "text/plain": [
       "<IPython.core.display.HTML object>"
      ]
     },
     "metadata": {
      "tags": []
     },
     "output_type": "display_data"
    },
    {
     "data": {
      "text/html": [],
      "text/plain": [
       "<IPython.core.display.HTML object>"
      ]
     },
     "metadata": {
      "tags": []
     },
     "output_type": "display_data"
    },
    {
     "data": {
      "text/html": [],
      "text/plain": [
       "<IPython.core.display.HTML object>"
      ]
     },
     "metadata": {
      "tags": []
     },
     "output_type": "display_data"
    },
    {
     "data": {
      "text/html": [],
      "text/plain": [
       "<IPython.core.display.HTML object>"
      ]
     },
     "metadata": {
      "tags": []
     },
     "output_type": "display_data"
    },
    {
     "data": {
      "text/html": [],
      "text/plain": [
       "<IPython.core.display.HTML object>"
      ]
     },
     "metadata": {
      "tags": []
     },
     "output_type": "display_data"
    },
    {
     "data": {
      "text/html": [],
      "text/plain": [
       "<IPython.core.display.HTML object>"
      ]
     },
     "metadata": {
      "tags": []
     },
     "output_type": "display_data"
    },
    {
     "data": {
      "text/html": [],
      "text/plain": [
       "<IPython.core.display.HTML object>"
      ]
     },
     "metadata": {
      "tags": []
     },
     "output_type": "display_data"
    },
    {
     "data": {
      "text/html": [],
      "text/plain": [
       "<IPython.core.display.HTML object>"
      ]
     },
     "metadata": {
      "tags": []
     },
     "output_type": "display_data"
    },
    {
     "data": {
      "text/html": [],
      "text/plain": [
       "<IPython.core.display.HTML object>"
      ]
     },
     "metadata": {
      "tags": []
     },
     "output_type": "display_data"
    },
    {
     "data": {
      "text/html": [],
      "text/plain": [
       "<IPython.core.display.HTML object>"
      ]
     },
     "metadata": {
      "tags": []
     },
     "output_type": "display_data"
    },
    {
     "data": {
      "text/html": [],
      "text/plain": [
       "<IPython.core.display.HTML object>"
      ]
     },
     "metadata": {
      "tags": []
     },
     "output_type": "display_data"
    },
    {
     "data": {
      "text/html": [],
      "text/plain": [
       "<IPython.core.display.HTML object>"
      ]
     },
     "metadata": {
      "tags": []
     },
     "output_type": "display_data"
    },
    {
     "data": {
      "text/html": [],
      "text/plain": [
       "<IPython.core.display.HTML object>"
      ]
     },
     "metadata": {
      "tags": []
     },
     "output_type": "display_data"
    },
    {
     "data": {
      "text/html": [],
      "text/plain": [
       "<IPython.core.display.HTML object>"
      ]
     },
     "metadata": {
      "tags": []
     },
     "output_type": "display_data"
    },
    {
     "data": {
      "text/html": [],
      "text/plain": [
       "<IPython.core.display.HTML object>"
      ]
     },
     "metadata": {
      "tags": []
     },
     "output_type": "display_data"
    },
    {
     "data": {
      "text/html": [],
      "text/plain": [
       "<IPython.core.display.HTML object>"
      ]
     },
     "metadata": {
      "tags": []
     },
     "output_type": "display_data"
    },
    {
     "data": {
      "text/html": [],
      "text/plain": [
       "<IPython.core.display.HTML object>"
      ]
     },
     "metadata": {
      "tags": []
     },
     "output_type": "display_data"
    },
    {
     "data": {
      "text/html": [],
      "text/plain": [
       "<IPython.core.display.HTML object>"
      ]
     },
     "metadata": {
      "tags": []
     },
     "output_type": "display_data"
    },
    {
     "data": {
      "text/html": [],
      "text/plain": [
       "<IPython.core.display.HTML object>"
      ]
     },
     "metadata": {
      "tags": []
     },
     "output_type": "display_data"
    },
    {
     "data": {
      "text/html": [],
      "text/plain": [
       "<IPython.core.display.HTML object>"
      ]
     },
     "metadata": {
      "tags": []
     },
     "output_type": "display_data"
    },
    {
     "data": {
      "text/html": [],
      "text/plain": [
       "<IPython.core.display.HTML object>"
      ]
     },
     "metadata": {
      "tags": []
     },
     "output_type": "display_data"
    },
    {
     "data": {
      "text/html": [],
      "text/plain": [
       "<IPython.core.display.HTML object>"
      ]
     },
     "metadata": {
      "tags": []
     },
     "output_type": "display_data"
    },
    {
     "data": {
      "text/html": [],
      "text/plain": [
       "<IPython.core.display.HTML object>"
      ]
     },
     "metadata": {
      "tags": []
     },
     "output_type": "display_data"
    },
    {
     "data": {
      "text/html": [],
      "text/plain": [
       "<IPython.core.display.HTML object>"
      ]
     },
     "metadata": {
      "tags": []
     },
     "output_type": "display_data"
    },
    {
     "data": {
      "text/html": [],
      "text/plain": [
       "<IPython.core.display.HTML object>"
      ]
     },
     "metadata": {
      "tags": []
     },
     "output_type": "display_data"
    },
    {
     "data": {
      "text/html": [],
      "text/plain": [
       "<IPython.core.display.HTML object>"
      ]
     },
     "metadata": {
      "tags": []
     },
     "output_type": "display_data"
    },
    {
     "data": {
      "text/html": [],
      "text/plain": [
       "<IPython.core.display.HTML object>"
      ]
     },
     "metadata": {
      "tags": []
     },
     "output_type": "display_data"
    },
    {
     "data": {
      "text/html": [],
      "text/plain": [
       "<IPython.core.display.HTML object>"
      ]
     },
     "metadata": {
      "tags": []
     },
     "output_type": "display_data"
    },
    {
     "data": {
      "text/html": [],
      "text/plain": [
       "<IPython.core.display.HTML object>"
      ]
     },
     "metadata": {
      "tags": []
     },
     "output_type": "display_data"
    },
    {
     "data": {
      "text/html": [],
      "text/plain": [
       "<IPython.core.display.HTML object>"
      ]
     },
     "metadata": {
      "tags": []
     },
     "output_type": "display_data"
    },
    {
     "data": {
      "text/html": [],
      "text/plain": [
       "<IPython.core.display.HTML object>"
      ]
     },
     "metadata": {
      "tags": []
     },
     "output_type": "display_data"
    },
    {
     "data": {
      "text/html": [],
      "text/plain": [
       "<IPython.core.display.HTML object>"
      ]
     },
     "metadata": {
      "tags": []
     },
     "output_type": "display_data"
    },
    {
     "data": {
      "text/html": [],
      "text/plain": [
       "<IPython.core.display.HTML object>"
      ]
     },
     "metadata": {
      "tags": []
     },
     "output_type": "display_data"
    },
    {
     "data": {
      "text/html": [],
      "text/plain": [
       "<IPython.core.display.HTML object>"
      ]
     },
     "metadata": {
      "tags": []
     },
     "output_type": "display_data"
    },
    {
     "data": {
      "text/html": [],
      "text/plain": [
       "<IPython.core.display.HTML object>"
      ]
     },
     "metadata": {
      "tags": []
     },
     "output_type": "display_data"
    },
    {
     "data": {
      "text/html": [],
      "text/plain": [
       "<IPython.core.display.HTML object>"
      ]
     },
     "metadata": {
      "tags": []
     },
     "output_type": "display_data"
    },
    {
     "data": {
      "text/html": [],
      "text/plain": [
       "<IPython.core.display.HTML object>"
      ]
     },
     "metadata": {
      "tags": []
     },
     "output_type": "display_data"
    },
    {
     "data": {
      "text/html": [],
      "text/plain": [
       "<IPython.core.display.HTML object>"
      ]
     },
     "metadata": {
      "tags": []
     },
     "output_type": "display_data"
    },
    {
     "data": {
      "text/html": [],
      "text/plain": [
       "<IPython.core.display.HTML object>"
      ]
     },
     "metadata": {
      "tags": []
     },
     "output_type": "display_data"
    },
    {
     "data": {
      "text/html": [],
      "text/plain": [
       "<IPython.core.display.HTML object>"
      ]
     },
     "metadata": {
      "tags": []
     },
     "output_type": "display_data"
    },
    {
     "data": {
      "text/html": [],
      "text/plain": [
       "<IPython.core.display.HTML object>"
      ]
     },
     "metadata": {
      "tags": []
     },
     "output_type": "display_data"
    },
    {
     "data": {
      "text/html": [],
      "text/plain": [
       "<IPython.core.display.HTML object>"
      ]
     },
     "metadata": {
      "tags": []
     },
     "output_type": "display_data"
    },
    {
     "data": {
      "text/html": [],
      "text/plain": [
       "<IPython.core.display.HTML object>"
      ]
     },
     "metadata": {
      "tags": []
     },
     "output_type": "display_data"
    },
    {
     "data": {
      "text/html": [],
      "text/plain": [
       "<IPython.core.display.HTML object>"
      ]
     },
     "metadata": {
      "tags": []
     },
     "output_type": "display_data"
    },
    {
     "data": {
      "text/html": [],
      "text/plain": [
       "<IPython.core.display.HTML object>"
      ]
     },
     "metadata": {
      "tags": []
     },
     "output_type": "display_data"
    },
    {
     "data": {
      "text/html": [],
      "text/plain": [
       "<IPython.core.display.HTML object>"
      ]
     },
     "metadata": {
      "tags": []
     },
     "output_type": "display_data"
    },
    {
     "data": {
      "text/html": [],
      "text/plain": [
       "<IPython.core.display.HTML object>"
      ]
     },
     "metadata": {
      "tags": []
     },
     "output_type": "display_data"
    },
    {
     "data": {
      "text/html": [],
      "text/plain": [
       "<IPython.core.display.HTML object>"
      ]
     },
     "metadata": {
      "tags": []
     },
     "output_type": "display_data"
    },
    {
     "data": {
      "text/html": [],
      "text/plain": [
       "<IPython.core.display.HTML object>"
      ]
     },
     "metadata": {
      "tags": []
     },
     "output_type": "display_data"
    },
    {
     "data": {
      "text/html": [],
      "text/plain": [
       "<IPython.core.display.HTML object>"
      ]
     },
     "metadata": {
      "tags": []
     },
     "output_type": "display_data"
    },
    {
     "data": {
      "text/html": [],
      "text/plain": [
       "<IPython.core.display.HTML object>"
      ]
     },
     "metadata": {
      "tags": []
     },
     "output_type": "display_data"
    },
    {
     "data": {
      "text/html": [],
      "text/plain": [
       "<IPython.core.display.HTML object>"
      ]
     },
     "metadata": {
      "tags": []
     },
     "output_type": "display_data"
    },
    {
     "data": {
      "text/html": [],
      "text/plain": [
       "<IPython.core.display.HTML object>"
      ]
     },
     "metadata": {
      "tags": []
     },
     "output_type": "display_data"
    },
    {
     "data": {
      "text/html": [],
      "text/plain": [
       "<IPython.core.display.HTML object>"
      ]
     },
     "metadata": {
      "tags": []
     },
     "output_type": "display_data"
    },
    {
     "data": {
      "text/html": [],
      "text/plain": [
       "<IPython.core.display.HTML object>"
      ]
     },
     "metadata": {
      "tags": []
     },
     "output_type": "display_data"
    },
    {
     "data": {
      "text/html": [],
      "text/plain": [
       "<IPython.core.display.HTML object>"
      ]
     },
     "metadata": {
      "tags": []
     },
     "output_type": "display_data"
    },
    {
     "name": "stdout",
     "output_type": "stream",
     "text": [
      "\n"
     ]
    }
   ],
   "source": [
    "model_acc = {}\n",
    "for m_path in tqdm(list(models_path.glob(\"*.pkl\"))):\n",
    "  learner = load_learner(m_path)\n",
    "  res = [learner.predict(line)[0] for line in df_val[\"img_face_path\"]]\n",
    "\n",
    "  df_val[\"Ours\"] = res\n",
    "  df_val[\"Ours\"] = df_val[\"Ours\"].replace(\"asian\",\"Asian\")\n",
    "  df_val[\"Ours\"] = df_val[\"Ours\"].replace(\"latino\",\"White\")\n",
    "  df_val[\"Ours\"] = df_val[\"Ours\"].replace(\"hispanic\",\"White\")\n",
    "  df_val[\"Ours\"] = df_val[\"Ours\"].replace(\"black\",\"Black\")\n",
    "  df_val[\"Ours\"] = df_val[\"Ours\"].replace(\"white\",\"White\")\n",
    "  df_val[\"Ours\"] = df_val[\"Ours\"].replace(\"african\",\"Black\")\n",
    "  df_val[\"Ours\"] = df_val[\"Ours\"].replace(\"asian\",\"Asian\")\n",
    "  df_val[\"Ours\"] = df_val[\"Ours\"].replace(\"indian\",\"Indian\")\n",
    "\n",
    "  acc = sum(df_val[\"Ours\"] == df_val[\"label2\"]) / len(df_val)\n",
    "  model_acc[m_path.stem] = acc\n"
   ]
  },
  {
   "cell_type": "code",
   "execution_count": null,
   "metadata": {
    "colab": {
     "base_uri": "https://localhost:8080/"
    },
    "id": "Qqbgq5u93eI4",
    "outputId": "1942c352-dd53-402b-8d44-bcd999dcba4e"
   },
   "outputs": [
    {
     "data": {
      "text/plain": [
       "{'ethni_081f1_v7': 0.7,\n",
       " 'ethni_0825f1_v6': 0.86,\n",
       " 'ethni_083f_unfrezee_V9': 0.84,\n",
       " 'ethni_0857f1_v5': 0.82,\n",
       " 'ethni_0858f_unfrezee_V9': 0.86,\n",
       " 'ethni_085b_96unfrezee': 0.78,\n",
       " 'ethni_085b_96unfrezee_V6': 0.84,\n",
       " 'ethni_085b_unfrezee': 0.68,\n",
       " 'ethni_085b_unfrezee_V6': 0.84,\n",
       " 'ethni_086f1': 0.84,\n",
       " 'ethni_088': 0.48,\n",
       " 'ethni_088f1': 0.76,\n",
       " 'ethni_089': 0.22,\n",
       " 'ethni_08f1_v7': 0.7,\n",
       " 'ethni_09': 0.48,\n",
       " 'ethni_090': 0.48,\n",
       " 'ethni_091': 0.48,\n",
       " 'ethni_09136': 0.5,\n",
       " 'ethni_09167': 0.56,\n",
       " 'ethni_092': 0.6,\n",
       " 'ethni_09217': 0.56,\n",
       " 'ethni_0929b': 0.68,\n",
       " 'ethni_092b': 0.78,\n",
       " 'ethni_0933': 0.72,\n",
       " 'ethni_new_v8_0.82': 0.8,\n",
       " 'ethni_new_v8_082': 0.8,\n",
       " 'ethni_new_v9_08': 0.78}"
      ]
     },
     "execution_count": 42,
     "metadata": {
      "tags": []
     },
     "output_type": "execute_result"
    }
   ],
   "source": [
    "morgan_1"
   ]
  },
  {
   "cell_type": "code",
   "execution_count": null,
   "metadata": {
    "colab": {
     "base_uri": "https://localhost:8080/"
    },
    "id": "dSEdl-zy6luN",
    "outputId": "3fd566c0-5252-43d3-d234-0bce7bc7c50e"
   },
   "outputs": [
    {
     "name": "stdout",
     "output_type": "stream",
     "text": [
      "/content\n"
     ]
    }
   ],
   "source": [
    "%cd ../"
   ]
  },
  {
   "cell_type": "code",
   "execution_count": null,
   "metadata": {
    "id": "My2kIeKv9Sen"
   },
   "outputs": [],
   "source": [
    "learner = load_learner(models_path/\"ethni_0825f1_v6.pkl\")"
   ]
  },
  {
   "cell_type": "code",
   "execution_count": null,
   "metadata": {
    "colab": {
     "base_uri": "https://localhost:8080/",
     "height": 1000
    },
    "id": "cso3CBmL5uuz",
    "outputId": "2d146fea-ea86-4af8-f43b-ac4f2d105864"
   },
   "outputs": [
    {
     "data": {
      "text/html": [],
      "text/plain": [
       "<IPython.core.display.HTML object>"
      ]
     },
     "metadata": {
      "tags": []
     },
     "output_type": "display_data"
    },
    {
     "data": {
      "text/plain": [
       "('african',\n",
       " tensor(0),\n",
       " tensor([9.9850e-01, 8.2509e-04, 3.7196e-04, 2.7198e-04, 3.4039e-05, 1.8740e-12,\n",
       "         3.1152e-13, 4.8893e-13, 2.8926e-13, 3.3053e-13, 1.6542e-13, 2.6309e-13,\n",
       "         5.9405e-13, 9.8431e-13, 1.8255e-13, 9.5037e-14, 8.8576e-13, 5.0107e-13,\n",
       "         7.0514e-13, 2.7360e-13, 2.5486e-13, 1.4654e-13, 3.9549e-13, 1.4269e-13,\n",
       "         3.1694e-13, 3.5812e-13, 1.1516e-13, 5.8486e-13, 3.8600e-13, 2.4901e-13,\n",
       "         4.0515e-13, 3.2959e-13, 1.0037e-12, 1.7726e-13, 2.2781e-13, 2.6645e-13,\n",
       "         8.0428e-14, 2.5057e-13, 2.6693e-13, 3.3582e-13, 1.1622e-13, 2.6980e-13,\n",
       "         1.2830e-13, 2.8470e-13, 1.7586e-13, 4.9225e-13, 7.9886e-14, 1.2558e-13,\n",
       "         3.5640e-13, 4.1257e-13, 1.0833e-13, 1.5090e-13, 5.5702e-13, 1.8019e-13,\n",
       "         1.3560e-13, 1.3065e-13, 3.2682e-13, 1.4807e-13, 1.0914e-12, 2.2884e-13,\n",
       "         2.4873e-13, 2.1076e-13, 4.9228e-13, 4.3229e-13, 7.1763e-14, 8.9648e-14,\n",
       "         3.9819e-13, 4.5198e-13, 7.7863e-13, 5.3997e-13, 3.4032e-13, 4.1117e-13,\n",
       "         2.6863e-13, 7.2799e-13, 7.3307e-13, 2.1149e-13, 5.5439e-13, 1.9571e-13,\n",
       "         2.2457e-13, 6.2858e-13, 4.2940e-13, 1.3283e-13, 3.4532e-13, 4.4489e-13,\n",
       "         2.0974e-13, 3.3040e-13, 2.2094e-13, 2.9117e-13, 1.3374e-13, 1.0138e-12,\n",
       "         1.8718e-13, 1.2378e-13, 2.9824e-13, 1.2492e-13, 7.3260e-13, 3.0317e-13,\n",
       "         3.6092e-13, 3.3565e-13, 5.3854e-13, 2.6663e-13, 1.6080e-13, 1.7413e-13,\n",
       "         6.7448e-14, 2.0477e-13, 3.5161e-13, 7.1435e-13, 2.3325e-13, 2.3944e-13,\n",
       "         6.2506e-14, 2.0244e-13, 7.0169e-14, 2.3812e-13, 6.3622e-13, 2.1915e-13,\n",
       "         7.1644e-13, 6.9690e-13, 6.4072e-13, 1.7521e-13, 1.9890e-13, 4.5809e-14,\n",
       "         3.4019e-13, 3.2696e-13, 5.7343e-13, 3.6492e-13, 3.8887e-13, 1.8598e-13,\n",
       "         9.9818e-13, 1.4987e-13, 2.0398e-13, 2.4939e-13, 3.8536e-13, 2.9910e-13,\n",
       "         1.2919e-13, 2.8070e-13, 2.5042e-13, 1.0196e-12, 3.0715e-13, 1.0209e-13,\n",
       "         2.9802e-13, 3.3789e-13, 1.4806e-13, 2.8360e-13, 2.0897e-13, 2.1295e-13,\n",
       "         1.9787e-13, 3.4538e-13, 1.9610e-13, 1.9733e-13, 1.6332e-13, 1.8766e-13,\n",
       "         1.0380e-13, 2.0309e-13, 2.2655e-13, 1.9358e-13, 3.3401e-13, 1.9930e-13,\n",
       "         2.3533e-13, 4.3225e-13, 1.1052e-13, 7.0779e-13, 1.7162e-13, 3.2412e-13,\n",
       "         7.8255e-14, 9.0733e-13, 2.0907e-13, 1.1257e-13, 5.0238e-13, 4.9011e-13,\n",
       "         4.7821e-13, 1.3432e-13, 8.9490e-13, 2.5648e-13, 1.7437e-13, 2.6529e-13,\n",
       "         6.4471e-13, 2.7174e-13, 9.9636e-13, 9.6529e-13, 2.4806e-13, 4.8085e-13,\n",
       "         1.1613e-12, 1.6394e-13, 5.2561e-13, 1.8860e-13, 2.3584e-13, 3.5815e-13,\n",
       "         8.8103e-13, 6.7433e-13, 3.0018e-13, 4.8223e-13, 4.1401e-13, 3.2918e-13,\n",
       "         1.6501e-13, 1.3415e-13, 3.2290e-13, 4.7381e-13, 1.4430e-13, 1.5328e-13,\n",
       "         2.2492e-13, 6.8229e-13, 2.5196e-13, 1.0678e-13, 1.8114e-13, 2.5647e-13,\n",
       "         1.3721e-13, 1.4050e-13, 1.7201e-13, 4.4629e-13, 2.5966e-13, 1.1739e-13,\n",
       "         6.3529e-13, 1.3268e-12, 1.1075e-12, 5.0452e-13, 4.0747e-13, 1.8205e-13,\n",
       "         4.4090e-13, 2.0625e-13, 2.6811e-13, 3.6528e-13, 1.5063e-13, 1.9551e-13,\n",
       "         2.4887e-13, 1.4136e-13, 3.2236e-13, 4.7977e-13, 1.4564e-13, 1.4669e-13,\n",
       "         1.1876e-12, 1.9046e-13, 2.7891e-13, 8.8699e-13, 5.3787e-13, 3.4985e-13,\n",
       "         1.2331e-13, 5.2608e-13, 1.4111e-13, 1.6628e-13, 2.4081e-13, 1.5017e-13,\n",
       "         2.1028e-13, 9.7692e-14, 2.0827e-13, 1.0907e-13, 4.7822e-13, 2.7099e-13,\n",
       "         2.6483e-13, 3.3202e-13, 2.1909e-13, 3.4330e-13, 6.4288e-14, 6.6387e-13,\n",
       "         2.6653e-13, 1.5497e-12, 7.8780e-13, 3.1010e-13, 3.5705e-13, 3.5353e-13,\n",
       "         2.9643e-13, 5.3550e-13, 1.9243e-12, 1.6640e-13, 3.1852e-13, 1.2166e-13,\n",
       "         1.4207e-13, 1.8110e-13, 2.7160e-13, 7.3036e-13, 2.0655e-13, 5.7428e-13,\n",
       "         3.4527e-13, 9.9555e-14, 1.5290e-13, 4.4188e-13, 9.2416e-14, 3.0455e-13,\n",
       "         4.8755e-13, 4.1587e-13, 2.5011e-13, 5.3337e-13, 3.1966e-13, 2.3705e-13,\n",
       "         2.5955e-13, 2.0598e-13, 2.7670e-13, 2.5673e-13, 8.8966e-13, 4.3453e-13,\n",
       "         2.2304e-13, 6.4070e-13, 4.1008e-13, 3.1622e-13, 5.3374e-13, 2.3512e-13,\n",
       "         2.4740e-13, 3.3428e-13, 1.1041e-13, 3.9607e-13, 5.3763e-13, 3.3713e-13,\n",
       "         3.8093e-13, 1.3002e-13, 1.0041e-13, 3.1407e-13, 8.9431e-13, 1.8836e-13,\n",
       "         6.4781e-13, 8.4675e-13, 5.9289e-13, 2.6350e-13, 5.0461e-13, 2.0095e-13,\n",
       "         1.8311e-12, 2.8210e-13, 1.9950e-13, 2.5136e-13, 1.4171e-13, 4.8715e-13,\n",
       "         9.8060e-13, 7.5793e-14, 2.1219e-13, 1.8360e-13, 8.5261e-13, 4.6938e-13,\n",
       "         3.6178e-13, 5.7967e-13, 1.9371e-13, 1.5771e-12, 6.6229e-13, 7.2820e-13,\n",
       "         7.3223e-13, 1.8003e-13, 1.6306e-13, 2.2780e-13, 5.0203e-13, 1.5474e-13,\n",
       "         2.3301e-13, 2.1250e-13, 3.5624e-13, 2.8781e-13, 1.1328e-13, 5.9643e-13,\n",
       "         7.5376e-14, 3.6284e-13, 3.4771e-13, 2.7938e-13, 3.3406e-13, 3.8615e-13,\n",
       "         2.3769e-13, 8.8618e-13, 1.6969e-12, 1.5347e-13, 2.5528e-13, 1.0754e-12,\n",
       "         2.7773e-13, 4.4059e-13, 1.6995e-13, 3.4849e-13, 1.9686e-13, 1.3924e-13,\n",
       "         3.5783e-13, 2.0082e-13, 2.3233e-13, 2.3985e-13, 3.7112e-13, 7.3533e-14,\n",
       "         2.8901e-13, 9.8480e-14, 2.2836e-13, 1.8962e-13, 7.3868e-13, 5.1281e-13,\n",
       "         5.5464e-13, 3.9849e-13, 4.0942e-13, 1.5686e-13, 1.5192e-13, 5.7325e-13,\n",
       "         1.0578e-13, 3.8574e-13, 1.9180e-13, 2.8204e-13, 3.7163e-13, 2.4223e-13,\n",
       "         5.9277e-13, 2.0704e-13, 6.6510e-13, 2.0641e-13, 1.4136e-13, 2.7582e-13,\n",
       "         1.4215e-13, 3.6643e-13, 4.7704e-13, 2.1577e-13, 5.7997e-13, 2.3838e-13,\n",
       "         4.5015e-13, 5.7433e-13, 1.5123e-13, 1.3128e-13, 1.4511e-13, 3.5583e-13,\n",
       "         1.5163e-13, 2.9270e-13, 1.7515e-13, 5.5626e-13, 3.5181e-13, 3.7407e-13,\n",
       "         6.5833e-13, 2.5305e-13, 5.4867e-13, 4.4681e-14, 2.3150e-13, 3.2117e-13,\n",
       "         8.6235e-13, 5.1330e-13, 9.8396e-14, 2.7461e-13, 1.4449e-12, 1.7351e-13,\n",
       "         5.0274e-13, 3.6346e-13, 2.2140e-13, 5.1829e-13, 1.0909e-13, 1.5317e-13,\n",
       "         1.3038e-13, 1.8686e-13, 1.1124e-13, 1.5896e-13, 3.7908e-13, 3.0710e-13,\n",
       "         1.4704e-13, 1.5534e-13, 2.4717e-13, 5.0609e-13, 5.4434e-13, 1.2327e-13,\n",
       "         2.2949e-13, 2.6159e-13, 4.1974e-13, 2.2361e-13, 3.8354e-13, 3.7655e-13,\n",
       "         1.8965e-13, 1.3933e-13, 7.1918e-13, 7.4330e-13, 1.7770e-13, 1.3544e-13,\n",
       "         1.8690e-13, 3.2940e-13, 7.0604e-14, 1.2743e-13, 9.3647e-13, 5.5402e-13,\n",
       "         2.9795e-13, 4.3042e-13, 2.8647e-13, 2.6146e-13, 2.9331e-13, 5.9120e-13,\n",
       "         1.9849e-13, 7.9381e-14, 1.5660e-13, 1.3711e-13, 1.1194e-12, 6.8180e-13,\n",
       "         6.0261e-13, 4.2879e-13, 3.6591e-13, 1.3904e-13, 3.2010e-13, 2.1122e-13,\n",
       "         6.1783e-13, 3.2664e-13, 1.6835e-13, 2.4565e-13, 1.6728e-13, 3.2535e-13,\n",
       "         2.1571e-13, 2.5665e-13, 2.7183e-13, 2.7019e-13, 4.4145e-13, 1.0140e-12,\n",
       "         1.5785e-13, 1.5074e-13, 1.7866e-13, 1.7428e-13, 2.2150e-13, 2.1195e-13,\n",
       "         1.2217e-12, 2.5200e-13, 3.1503e-13, 2.0575e-13, 2.7921e-13, 2.7433e-13,\n",
       "         5.0103e-13, 1.8883e-13, 4.6471e-13, 6.5383e-13, 1.6140e-13, 1.4929e-13,\n",
       "         1.4118e-13, 3.2487e-13, 4.2425e-13, 1.1754e-13, 1.5339e-13, 1.6036e-13,\n",
       "         4.5640e-13, 2.3873e-13, 1.1272e-12, 3.1740e-13, 3.2974e-13, 2.6799e-13,\n",
       "         2.8670e-13, 1.4693e-13, 1.7139e-13, 3.4300e-13, 4.6525e-13, 1.3410e-12,\n",
       "         4.6939e-13, 3.5445e-13, 3.6649e-13, 3.0744e-13, 3.5131e-13, 2.8717e-13,\n",
       "         2.9865e-13, 2.2938e-13, 5.0475e-13, 5.7560e-13, 2.3938e-13, 2.4655e-13,\n",
       "         9.8904e-14, 3.5912e-13, 4.5236e-13, 1.5703e-13, 5.6104e-13, 4.7511e-13,\n",
       "         1.0348e-12, 3.4814e-13, 3.5887e-13, 4.4125e-13, 2.2792e-13, 1.0196e-12,\n",
       "         1.2698e-13, 6.1247e-13, 2.9155e-13, 4.1583e-13, 3.4787e-13, 1.2668e-13,\n",
       "         6.7416e-13, 1.7051e-13, 6.1089e-13, 7.1524e-13, 2.5185e-13, 7.9979e-13,\n",
       "         1.3886e-13, 2.6739e-13, 2.6809e-13, 7.8357e-14, 9.5573e-14, 2.2973e-13,\n",
       "         2.1513e-13, 9.0744e-14, 3.0265e-13, 4.4565e-13, 2.7779e-13, 4.9844e-13,\n",
       "         3.8203e-13, 8.0899e-13, 5.2217e-13, 3.1986e-13, 2.6443e-13, 2.3150e-13,\n",
       "         8.2258e-13, 1.1160e-13, 4.7907e-13, 3.5503e-13, 2.0871e-13, 1.8548e-13,\n",
       "         4.6274e-13, 1.5068e-13, 2.1077e-13, 6.1335e-13, 2.1823e-13, 6.3871e-13,\n",
       "         1.9800e-13, 3.5810e-13, 1.1835e-13, 3.7994e-13, 3.3541e-13, 4.0047e-13,\n",
       "         4.9780e-14, 2.4466e-13, 6.9965e-13, 3.3845e-13, 2.2498e-13, 9.1168e-14,\n",
       "         1.7498e-13, 6.4089e-13, 2.6283e-13, 1.3266e-13, 2.5562e-13, 8.8382e-13,\n",
       "         2.8692e-13, 1.7331e-13, 4.4503e-13, 2.6872e-13, 5.3854e-13, 1.6067e-13,\n",
       "         5.5556e-13, 2.8145e-13, 3.1936e-13, 4.7341e-13, 1.0723e-13, 2.6175e-13,\n",
       "         3.3993e-13, 1.6501e-13, 1.0005e-13, 5.1440e-13, 4.5385e-13, 3.5041e-13,\n",
       "         7.5135e-13, 3.6950e-13, 1.4529e-13, 1.3741e-12, 3.9989e-13, 7.4943e-13,\n",
       "         3.5886e-13, 3.8396e-13, 2.2652e-13, 5.0832e-13, 1.6215e-13, 1.6750e-13,\n",
       "         5.1836e-13, 2.6379e-13, 2.2467e-13, 2.2964e-13, 1.8455e-13, 2.4714e-13,\n",
       "         2.1053e-13, 1.4444e-13, 3.3389e-13, 4.7879e-13, 2.0775e-13, 5.7232e-13,\n",
       "         3.4523e-13, 2.0365e-13, 5.7030e-13, 1.0083e-13, 2.9565e-13, 9.5828e-14,\n",
       "         1.5264e-13, 5.9942e-13, 1.1668e-13, 5.3379e-13, 3.9413e-13, 4.1647e-13,\n",
       "         8.2776e-13, 2.3079e-13, 1.0168e-12, 2.4352e-13, 1.9326e-13, 1.9647e-13,\n",
       "         1.3581e-13, 8.2712e-13, 2.3350e-13, 8.0225e-13, 4.6737e-13, 2.4084e-13,\n",
       "         1.7509e-13, 3.9000e-13, 3.3304e-13, 1.3490e-13, 5.2074e-13, 2.6343e-13,\n",
       "         4.0755e-13, 4.5013e-13, 6.7895e-13, 5.6803e-13, 2.2617e-13, 4.9624e-13,\n",
       "         1.0499e-12, 6.9942e-13, 5.8538e-13, 2.2970e-13, 3.7561e-13, 3.7961e-13,\n",
       "         2.1754e-13, 1.8984e-13, 4.1232e-13, 3.4896e-13, 1.5708e-13, 3.0252e-13,\n",
       "         3.0537e-13, 1.6589e-13, 1.8634e-13, 2.6840e-13, 3.7508e-13, 3.4806e-13,\n",
       "         7.0295e-13, 2.5112e-13, 1.2907e-13, 1.3682e-12, 1.3537e-13, 5.7027e-13,\n",
       "         4.4327e-13, 1.3733e-12, 2.4908e-13, 1.7563e-13, 2.2149e-13, 3.1756e-13,\n",
       "         9.7420e-13, 7.6779e-14, 6.4655e-13, 1.8617e-13, 2.7117e-13, 8.5761e-14,\n",
       "         1.6173e-13, 7.1995e-13, 3.3204e-13, 3.9547e-13, 3.5997e-12, 1.2753e-13,\n",
       "         2.0812e-13, 1.1760e-13, 3.4153e-13, 7.7109e-13, 4.3746e-13, 9.7943e-14,\n",
       "         1.1460e-13, 3.8820e-13, 2.3147e-13, 3.2024e-13, 1.0210e-13, 3.2861e-13,\n",
       "         1.8799e-13, 2.4928e-13, 3.7284e-13, 2.6568e-13, 4.1983e-13, 1.0557e-12,\n",
       "         2.3887e-13, 6.5106e-13, 2.7409e-13, 1.5836e-13, 5.2713e-13, 3.6833e-13,\n",
       "         1.1204e-12, 1.6991e-13, 3.2620e-13, 2.2204e-13, 3.8188e-13, 6.9862e-14,\n",
       "         6.2215e-13, 2.0332e-13, 2.8918e-13, 2.9618e-13, 2.4763e-13, 6.1063e-13,\n",
       "         4.5090e-13, 1.6689e-13, 1.3417e-13, 3.6327e-13, 2.7547e-13, 3.3101e-12,\n",
       "         3.3552e-13, 1.5244e-13, 2.3945e-13, 3.0771e-13, 2.1107e-13, 2.5755e-13,\n",
       "         1.4711e-13, 2.4004e-13, 2.6069e-13, 1.6379e-13, 2.2678e-13, 2.5539e-13,\n",
       "         4.0395e-13, 1.2683e-13, 7.8909e-13, 1.6576e-13, 1.9283e-13, 3.2839e-13,\n",
       "         6.8344e-13, 2.5423e-13, 3.0636e-13, 3.1051e-13, 3.9541e-13, 2.6559e-13,\n",
       "         1.5270e-13, 2.3100e-13, 3.1357e-13, 1.8300e-13, 6.7512e-13, 5.1426e-13,\n",
       "         3.2382e-13, 2.7515e-13, 4.1850e-13, 8.5755e-14, 1.7534e-13, 5.2624e-13,\n",
       "         6.3666e-13, 2.8708e-13, 1.9496e-13, 4.8185e-13, 3.7103e-13, 1.1268e-12,\n",
       "         3.5910e-13, 2.0002e-12, 5.4252e-13, 2.2833e-13, 1.1243e-13, 1.5593e-13,\n",
       "         6.7926e-13, 3.4532e-13, 6.5484e-13, 8.1273e-13, 1.0531e-13, 2.4583e-13,\n",
       "         9.2659e-14, 1.5673e-13, 1.4921e-13, 1.2797e-13, 1.9374e-13, 1.5309e-13,\n",
       "         2.1604e-13, 1.6480e-13, 7.3965e-14, 1.6287e-13, 3.7504e-13, 2.3653e-13,\n",
       "         1.1952e-12, 3.8037e-13, 5.0000e-13, 1.2238e-13, 2.8366e-13, 3.4860e-13,\n",
       "         4.0769e-13, 2.5806e-13, 2.5147e-13, 1.1301e-13, 1.3438e-13, 5.7781e-13,\n",
       "         6.5414e-14, 1.6383e-13, 1.6524e-13, 3.8009e-13, 1.2614e-13, 1.8463e-13,\n",
       "         4.7127e-13, 7.5399e-13, 3.0846e-13, 2.0498e-13, 1.8614e-13, 1.2452e-13,\n",
       "         9.9123e-14, 1.5790e-13, 2.5808e-13, 2.3009e-13, 1.9726e-13, 7.3789e-14,\n",
       "         4.2518e-13, 6.3524e-13, 1.4370e-13, 3.3308e-13, 1.8917e-13, 1.0484e-13,\n",
       "         1.5117e-13, 3.7695e-13, 1.4893e-13, 1.2784e-13, 3.9722e-13, 2.0051e-13,\n",
       "         1.0279e-13, 8.3096e-14, 1.5936e-13, 2.3479e-13, 2.9234e-13, 2.8269e-13,\n",
       "         6.5264e-14, 2.4965e-13, 2.5342e-13, 6.6774e-13, 3.3813e-13, 2.2642e-13,\n",
       "         1.8048e-13, 2.2240e-13, 5.5178e-13, 3.5524e-13, 1.4944e-13, 5.3636e-13,\n",
       "         3.0281e-13, 1.8993e-13, 9.7786e-13, 2.2155e-12, 2.6121e-13, 2.8352e-13,\n",
       "         8.4585e-13, 4.1324e-13, 6.4172e-14, 1.2443e-12, 1.4984e-13, 1.0526e-12,\n",
       "         2.7796e-13, 4.4048e-13, 8.1285e-13, 1.0015e-13, 8.7732e-13, 2.9603e-13,\n",
       "         1.5649e-12, 2.5979e-13, 3.3466e-13, 1.0121e-13, 2.4721e-13, 1.8066e-13,\n",
       "         2.1339e-13, 3.0249e-13, 3.4674e-13, 5.2198e-13, 1.5188e-13, 2.4732e-13,\n",
       "         3.7022e-13, 1.8191e-13, 4.4508e-13, 4.4657e-13, 6.8728e-13, 3.0709e-13,\n",
       "         7.1936e-14, 1.6907e-13, 4.1011e-13, 2.5736e-13, 1.1531e-13, 6.7827e-13,\n",
       "         3.2461e-12, 2.0014e-13, 2.4195e-13, 2.9317e-13, 1.3847e-13, 3.6864e-13,\n",
       "         1.0916e-13, 5.2799e-13, 3.4739e-13, 2.8800e-13, 7.4167e-13, 3.5917e-13,\n",
       "         3.6630e-13, 6.8723e-13, 4.0634e-13, 1.9787e-13, 5.4295e-13, 2.4458e-13,\n",
       "         1.9301e-13, 3.7444e-13, 3.3298e-13, 2.0788e-13, 5.3738e-13, 4.9527e-13,\n",
       "         1.0774e-13, 9.9807e-14, 1.5664e-13, 1.5874e-13, 7.5617e-13, 3.6472e-13,\n",
       "         1.3332e-13, 5.8640e-13, 1.9904e-13, 1.2648e-13, 1.3644e-13, 1.0970e-13,\n",
       "         2.4350e-13, 1.0399e-13, 2.6533e-13, 1.0802e-13, 2.1297e-13, 1.2764e-13,\n",
       "         1.7463e-13, 3.6722e-13, 4.1759e-13, 1.3941e-13, 9.2862e-13, 3.1711e-13,\n",
       "         1.6634e-13, 1.1290e-13, 4.3054e-13, 3.0655e-13, 2.1832e-13, 1.6510e-12,\n",
       "         3.0439e-13, 2.1990e-13, 5.0841e-13, 6.0660e-13, 9.3454e-13, 5.1798e-13,\n",
       "         3.2859e-13, 2.2884e-13, 6.2665e-13, 3.6811e-13]))"
      ]
     },
     "execution_count": 75,
     "metadata": {
      "tags": []
     },
     "output_type": "execute_result"
    }
   ],
   "source": [
    "learner.predict(\"/content/dataset/Val/african/f4a0db679815478861fb54637ba1ba07e9-23-morgan-freeman.2x.h473.w710.jpg\")"
   ]
  },
  {
   "cell_type": "code",
   "execution_count": null,
   "metadata": {
    "colab": {
     "base_uri": "https://localhost:8080/"
    },
    "id": "6oCNPWVw6NYu",
    "outputId": "f9b83e92-3ff2-4636-c065-3ac80cea6a44"
   },
   "outputs": [
    {
     "name": "stdout",
     "output_type": "stream",
     "text": [
      "--2020-12-24 08:51:57--  https://i.guim.co.uk/img/media/8eec87781f44af5b562ae66c4545f95c97afca4f/0_91_3700_2220/master/3700.jpg?width=1200&height=1200&quality=85&auto=format&fit=crop&s=a5374611a91163312dcf3c24401aeb9c\n",
      "Resolving i.guim.co.uk (i.guim.co.uk)... 151.101.1.111, 151.101.65.111, 151.101.129.111, ...\n",
      "Connecting to i.guim.co.uk (i.guim.co.uk)|151.101.1.111|:443... connected.\n",
      "HTTP request sent, awaiting response... 200 OK\n",
      "Length: 183409 (179K) [image/jpeg]\n",
      "Saving to: ‘3700.jpg?width=1200&height=1200&quality=85&auto=format&fit=crop&s=a5374611a91163312dcf3c24401aeb9c’\n",
      "\n",
      "3700.jpg?width=1200 100%[===================>] 179.11K  --.-KB/s    in 0.02s   \n",
      "\n",
      "2020-12-24 08:51:57 (10.9 MB/s) - ‘3700.jpg?width=1200&height=1200&quality=85&auto=format&fit=crop&s=a5374611a91163312dcf3c24401aeb9c’ saved [183409/183409]\n",
      "\n"
     ]
    }
   ],
   "source": [
    "!wget 'https://i.guim.co.uk/img/media/8eec87781f44af5b562ae66c4545f95c97afca4f/0_91_3700_2220/master/3700.jpg?width=1200&height=1200&quality=85&auto=format&fit=crop&s=a5374611a91163312dcf3c24401aeb9c'\n",
    "# !wget https://i.pinimg.com/originals/b2/cb/e6/b2cbe60c73e15a9097e7a8d82e717861.jpg \n",
    "\n"
   ]
  },
  {
   "cell_type": "code",
   "execution_count": null,
   "metadata": {
    "colab": {
     "base_uri": "https://localhost:8080/"
    },
    "id": "60nMc6uy7eFq",
    "outputId": "1bf18e34-e6e6-45d7-b937-94a679ca89f0"
   },
   "outputs": [
    {
     "name": "stdout",
     "output_type": "stream",
     "text": [
      " b2cbe60c73e15a9097e7a8d82e717861.jpg\n",
      " b2cbe60c73e15a9097e7a8d82e717861.jpg.1\n",
      " dataset\n",
      " FairFace\n",
      " fair_face_models\n",
      " gdrive\n",
      "'images?q=tbn:ANd9GcRtcoH8G8Zdi3-q2LZmQvys0XFDFw3e4dQjXw'\n",
      "'images?q=tbn:ANd9GcRtcoH8G8Zdi3-q2LZmQvys0XFDFw3e4dQjXw.1'\n",
      "'images?q=tbn:ANd9GcRtcoH8G8Zdi3-q2LZmQvys0XFDFw3e4dQjXw.2'\n",
      "'images?q=tbn:ANd9GcRtcoH8G8Zdi3-q2LZmQvys0XFDFw3e4dQjXw&usqp=CAU'\n",
      " morgan2.jpg\n",
      " morgan.jpg\n",
      " sample_data\n"
     ]
    }
   ],
   "source": [
    "!ls "
   ]
  },
  {
   "cell_type": "code",
   "execution_count": null,
   "metadata": {
    "colab": {
     "base_uri": "https://localhost:8080/",
     "height": 117,
     "referenced_widgets": [
      "5c034f41ba0d4d8ca1eca01eab10a7d3",
      "80c9e67b372748cdb10e3cfe734c6821",
      "63a296d7487f496da712d37561d27d63",
      "cbd89996e5eb449cbb3608091ed814f6",
      "a8de7fcf109142fd94e948ec105bbcf6",
      "9580795c81304858b090dfdb34edfd64",
      "13d575496b54415f987bd4b5105c2dfb",
      "4fd855d876f2450789b932980ba30584"
     ]
    },
    "id": "IbAWPSaW6QP-",
    "outputId": "9789f6bc-68aa-44be-ebec-eb9e13406fc3"
   },
   "outputs": [
    {
     "name": "stderr",
     "output_type": "stream",
     "text": [
      "/usr/local/lib/python3.6/dist-packages/ipykernel_launcher.py:4: TqdmDeprecationWarning: This function will be removed in tqdm==5.0.0\n",
      "Please use `tqdm.notebook.tqdm` instead of `tqdm.tqdm_notebook`\n",
      "  after removing the cwd from sys.path.\n"
     ]
    },
    {
     "data": {
      "application/vnd.jupyter.widget-view+json": {
       "model_id": "5c034f41ba0d4d8ca1eca01eab10a7d3",
       "version_major": 2,
       "version_minor": 0
      },
      "text/plain": [
       "HBox(children=(FloatProgress(value=0.0, description='Images', max=2.0, style=ProgressStyle(description_width='…"
      ]
     },
     "metadata": {
      "tags": []
     },
     "output_type": "display_data"
    },
    {
     "name": "stdout",
     "output_type": "stream",
     "text": [
      "\n"
     ]
    }
   ],
   "source": [
    "from tqdm import tqdm_notebook as tqdm\n",
    "val_path= base_dir/ \"Val\"\n",
    "\n",
    "for img in tqdm([\"morgan.jpg\",\"morgan2.jpg\"], desc=\"Images\"):\n",
    "  try: \n",
    "    im = Image.open(img) \n",
    "    for face in detector.detect_faces(np.asarray(im)):\n",
    "      box = face[\"box\"]\n",
    "      im1 = im.crop(box=(box[0], box[1], box[0]+box[2],box[1]+box[3] )) \n",
    "      im1.save(img)\n",
    "      break\n",
    "  except IsADirectoryError:\n",
    "    pass"
   ]
  },
  {
   "cell_type": "code",
   "execution_count": null,
   "metadata": {
    "colab": {
     "base_uri": "https://localhost:8080/",
     "height": 1000
    },
    "id": "5-IL-zEb7bQs",
    "outputId": "7242ccfe-5576-4049-df2a-5f506c8944a0"
   },
   "outputs": [
    {
     "data": {
      "text/html": [],
      "text/plain": [
       "<IPython.core.display.HTML object>"
      ]
     },
     "metadata": {
      "tags": []
     },
     "output_type": "display_data"
    },
    {
     "data": {
      "text/plain": [
       "('african',\n",
       " tensor(0),\n",
       " tensor([9.9853e-01, 9.7169e-05, 7.1462e-04, 6.3777e-04, 1.9409e-05, 1.9322e-14,\n",
       "         3.5104e-15, 5.6150e-15, 2.5385e-15, 2.8951e-15, 1.2112e-15, 2.2072e-15,\n",
       "         6.2210e-15, 9.1783e-15, 1.2846e-15, 7.6048e-16, 6.4754e-15, 3.6239e-15,\n",
       "         6.5987e-15, 2.6921e-15, 2.0084e-15, 9.5080e-16, 3.6611e-15, 8.2125e-16,\n",
       "         3.1807e-15, 2.9849e-15, 9.1208e-16, 3.2640e-15, 3.4122e-15, 1.7819e-15,\n",
       "         1.6253e-15, 3.7522e-15, 7.5584e-15, 1.5105e-15, 1.1293e-15, 1.7729e-15,\n",
       "         5.2754e-16, 1.2442e-15, 2.7804e-15, 3.5950e-15, 7.3698e-16, 1.8355e-15,\n",
       "         9.7314e-16, 3.5064e-15, 2.0876e-15, 3.4206e-15, 5.6981e-16, 1.2684e-15,\n",
       "         6.0015e-15, 3.9095e-15, 6.9620e-16, 8.6990e-16, 3.5836e-15, 1.7039e-15,\n",
       "         9.8014e-16, 1.0943e-15, 2.7142e-15, 1.3442e-15, 6.0373e-15, 1.8581e-15,\n",
       "         1.8738e-15, 2.7037e-15, 5.7294e-15, 1.8127e-15, 5.8977e-16, 8.8063e-16,\n",
       "         1.4311e-15, 3.4380e-15, 7.0476e-15, 3.1159e-15, 2.9258e-15, 3.1568e-15,\n",
       "         1.6123e-15, 5.4059e-15, 7.9631e-15, 1.6069e-15, 7.9832e-15, 1.9407e-15,\n",
       "         1.5332e-15, 6.0028e-15, 2.1190e-15, 1.5333e-15, 3.4240e-15, 3.5108e-15,\n",
       "         1.9466e-15, 2.7218e-15, 3.1402e-15, 2.9249e-15, 1.1282e-15, 1.0397e-14,\n",
       "         1.5509e-15, 1.1847e-15, 1.4592e-15, 8.9065e-16, 6.7248e-15, 2.9139e-15,\n",
       "         1.1378e-15, 3.5128e-15, 2.5807e-15, 4.8892e-15, 9.5587e-16, 1.5803e-15,\n",
       "         3.6973e-16, 1.3100e-15, 3.5044e-15, 7.6210e-15, 2.7948e-15, 1.6705e-15,\n",
       "         7.2941e-16, 2.6770e-15, 7.1972e-16, 2.9257e-15, 6.2392e-15, 2.1722e-15,\n",
       "         5.8469e-15, 5.3225e-15, 4.3662e-15, 2.1279e-15, 1.5022e-15, 4.0780e-16,\n",
       "         3.4346e-15, 3.4728e-15, 4.6767e-15, 2.4798e-15, 4.8175e-15, 1.4146e-15,\n",
       "         4.4897e-15, 1.2863e-15, 1.7811e-15, 1.2140e-15, 3.4248e-15, 2.5892e-15,\n",
       "         1.3291e-15, 2.2244e-15, 1.3878e-15, 8.2355e-15, 2.5561e-15, 7.9008e-16,\n",
       "         1.8656e-15, 3.6439e-15, 7.5631e-16, 3.9596e-15, 1.5321e-15, 1.3837e-15,\n",
       "         1.7417e-15, 3.9460e-15, 1.6857e-15, 1.9210e-15, 1.6684e-15, 1.2415e-15,\n",
       "         1.1872e-15, 1.9093e-15, 2.1148e-15, 2.2691e-15, 1.6448e-15, 2.1541e-15,\n",
       "         1.6156e-15, 3.0561e-15, 1.0433e-15, 4.3090e-15, 1.7910e-15, 1.2920e-15,\n",
       "         7.2761e-16, 6.0629e-15, 1.4200e-15, 6.1994e-16, 3.7532e-15, 4.3983e-15,\n",
       "         3.1811e-15, 1.2177e-15, 9.8625e-15, 3.4781e-15, 1.3562e-15, 2.0892e-15,\n",
       "         6.2031e-15, 2.7558e-15, 1.0718e-14, 8.6667e-15, 1.8937e-15, 3.8791e-15,\n",
       "         7.6577e-15, 1.9040e-15, 3.8560e-15, 2.1478e-15, 1.4382e-15, 2.8240e-15,\n",
       "         9.0456e-15, 8.0324e-15, 2.2096e-15, 4.4461e-15, 3.5125e-15, 3.6217e-15,\n",
       "         1.2340e-15, 9.8377e-16, 2.4838e-15, 1.8718e-15, 8.7222e-16, 9.7237e-16,\n",
       "         1.3397e-15, 3.7934e-15, 2.4598e-15, 8.3285e-16, 1.8089e-15, 2.4953e-15,\n",
       "         6.7785e-16, 1.2392e-15, 1.6603e-15, 2.9154e-15, 2.1079e-15, 1.7547e-15,\n",
       "         8.8702e-15, 1.2063e-14, 8.3344e-15, 2.3998e-15, 2.8272e-15, 9.9991e-16,\n",
       "         2.7391e-15, 1.9696e-15, 1.4476e-15, 2.2820e-15, 1.3319e-15, 1.4460e-15,\n",
       "         2.4053e-15, 9.0159e-16, 2.0144e-15, 3.4402e-15, 8.4778e-16, 1.7570e-15,\n",
       "         8.5194e-15, 2.5318e-15, 4.1018e-15, 4.8218e-15, 3.1353e-15, 3.1184e-15,\n",
       "         1.2816e-15, 3.3367e-15, 1.2863e-15, 1.4101e-15, 2.3232e-15, 2.0261e-15,\n",
       "         3.0501e-15, 7.9069e-16, 1.8401e-15, 9.6242e-16, 9.7076e-15, 2.3684e-15,\n",
       "         1.0452e-15, 4.5347e-15, 1.2849e-15, 2.5331e-15, 5.6327e-16, 6.1726e-15,\n",
       "         4.0602e-15, 2.1522e-14, 3.9182e-15, 2.5236e-15, 2.8227e-15, 2.5719e-15,\n",
       "         3.1799e-15, 2.9935e-15, 1.9362e-14, 1.5045e-15, 1.7993e-15, 1.5712e-15,\n",
       "         1.0181e-15, 2.2636e-15, 1.9469e-15, 6.4797e-15, 2.0803e-15, 8.3344e-15,\n",
       "         4.2579e-15, 1.1620e-15, 1.5375e-15, 3.7908e-15, 9.2777e-16, 1.9282e-15,\n",
       "         3.0854e-15, 2.7931e-15, 1.6782e-15, 4.8119e-15, 1.3219e-15, 1.4933e-15,\n",
       "         3.9388e-15, 1.5524e-15, 1.9951e-15, 2.5802e-15, 8.3144e-15, 2.7664e-15,\n",
       "         1.7670e-15, 8.6644e-15, 2.0412e-15, 2.8995e-15, 4.9521e-15, 1.8895e-15,\n",
       "         1.9619e-15, 2.4353e-15, 6.1270e-16, 3.2075e-15, 9.0824e-15, 2.8067e-15,\n",
       "         1.8461e-15, 1.0813e-15, 6.7064e-16, 1.6608e-15, 4.5100e-15, 1.0840e-15,\n",
       "         4.2123e-15, 3.0735e-15, 3.4428e-15, 1.2282e-15, 3.5228e-15, 1.4876e-15,\n",
       "         1.0321e-14, 2.8099e-15, 2.0125e-15, 2.0837e-15, 9.9536e-16, 4.0345e-15,\n",
       "         1.2470e-14, 8.0604e-16, 2.3351e-15, 1.6522e-15, 4.6772e-15, 4.5769e-15,\n",
       "         2.5945e-15, 3.2752e-15, 1.6547e-15, 1.6807e-14, 4.3495e-15, 2.7932e-15,\n",
       "         6.5469e-15, 1.8756e-15, 1.9220e-15, 1.3175e-15, 6.5910e-15, 1.3445e-15,\n",
       "         1.5545e-15, 1.8030e-15, 5.4622e-15, 3.4892e-15, 5.7863e-16, 4.6558e-15,\n",
       "         6.0825e-16, 4.4939e-15, 2.4318e-15, 3.1053e-15, 3.5007e-15, 3.3567e-15,\n",
       "         1.7567e-15, 8.2369e-15, 1.7468e-14, 1.1546e-15, 1.7908e-15, 9.3344e-15,\n",
       "         3.1959e-15, 5.0203e-15, 1.5953e-15, 2.1271e-15, 1.3274e-15, 9.0474e-16,\n",
       "         4.7272e-15, 1.7377e-15, 1.7827e-15, 1.4187e-15, 3.0323e-15, 5.5313e-16,\n",
       "         1.8562e-15, 1.1602e-15, 2.0997e-15, 3.2037e-15, 6.5268e-15, 4.0261e-15,\n",
       "         3.7967e-15, 3.3261e-15, 3.0595e-15, 1.7202e-15, 1.3897e-15, 7.3741e-15,\n",
       "         1.2436e-15, 4.1282e-15, 2.2115e-15, 1.8397e-15, 3.2078e-15, 2.2096e-15,\n",
       "         6.5036e-15, 2.6112e-15, 4.3573e-15, 2.1794e-15, 1.0004e-15, 2.9644e-15,\n",
       "         1.5157e-15, 3.7396e-15, 3.9297e-15, 1.4023e-15, 5.0967e-15, 2.6812e-15,\n",
       "         5.1106e-15, 5.4148e-15, 9.6815e-16, 1.3446e-15, 8.0323e-16, 4.3806e-15,\n",
       "         1.1095e-15, 4.1102e-15, 1.1846e-15, 4.1580e-15, 3.1532e-15, 3.7839e-15,\n",
       "         5.2951e-15, 1.7552e-15, 6.3935e-15, 5.2948e-16, 3.4379e-15, 3.4090e-15,\n",
       "         5.4133e-15, 3.6378e-15, 9.3588e-16, 1.9662e-15, 1.0886e-14, 1.1926e-15,\n",
       "         3.6220e-15, 1.8037e-15, 2.1011e-15, 2.6860e-15, 8.1939e-16, 1.4020e-15,\n",
       "         1.5130e-15, 1.0047e-15, 9.4074e-16, 1.5367e-15, 3.1784e-15, 1.8185e-15,\n",
       "         9.0813e-16, 1.2122e-15, 2.7444e-15, 4.4586e-15, 5.0555e-15, 1.8933e-15,\n",
       "         2.0175e-15, 3.7613e-15, 2.6616e-15, 1.9865e-15, 2.6140e-15, 3.3587e-15,\n",
       "         1.0819e-15, 2.2309e-15, 6.6821e-15, 3.8461e-15, 1.0431e-15, 1.7384e-15,\n",
       "         1.0048e-15, 4.1265e-15, 9.1210e-16, 5.8772e-16, 5.5357e-15, 3.9337e-15,\n",
       "         2.9193e-15, 7.2687e-15, 1.5342e-15, 2.6300e-15, 2.3740e-15, 4.5780e-15,\n",
       "         1.6084e-15, 7.5938e-16, 1.3956e-15, 1.7371e-15, 1.2911e-14, 4.0046e-15,\n",
       "         5.7834e-15, 4.1619e-15, 3.9862e-15, 1.2965e-15, 1.5262e-15, 2.2749e-15,\n",
       "         4.2458e-15, 3.1750e-15, 1.4355e-15, 1.7423e-15, 1.4906e-15, 3.6393e-15,\n",
       "         1.3107e-15, 2.4106e-15, 2.5601e-15, 2.5674e-15, 4.5663e-15, 7.7395e-15,\n",
       "         9.8546e-16, 1.2200e-15, 1.0279e-15, 1.3785e-15, 2.2334e-15, 1.6464e-15,\n",
       "         1.1956e-14, 1.8060e-15, 4.0568e-15, 1.9355e-15, 1.6795e-15, 1.4471e-15,\n",
       "         6.3080e-15, 2.8690e-15, 3.2666e-15, 3.6313e-15, 1.5320e-15, 8.5574e-16,\n",
       "         8.5004e-16, 2.2256e-15, 3.0289e-15, 1.5630e-15, 9.1944e-16, 1.1299e-15,\n",
       "         2.6321e-15, 1.5884e-15, 8.2331e-15, 2.4244e-15, 3.1514e-15, 2.7390e-15,\n",
       "         2.9192e-15, 1.6880e-15, 1.3358e-15, 2.2939e-15, 2.8495e-15, 1.5363e-14,\n",
       "         3.1551e-15, 2.8532e-15, 2.3266e-15, 1.8107e-15, 1.8834e-15, 2.5147e-15,\n",
       "         2.5478e-15, 1.4173e-15, 3.5627e-15, 3.6669e-15, 1.3616e-15, 1.9657e-15,\n",
       "         8.2610e-16, 3.6464e-15, 3.4247e-15, 1.4654e-15, 3.1399e-15, 6.0508e-15,\n",
       "         6.4013e-15, 2.5222e-15, 2.2271e-15, 2.8000e-15, 3.4217e-15, 5.2387e-15,\n",
       "         7.6665e-16, 6.4459e-15, 1.8305e-15, 3.9810e-15, 2.0040e-15, 9.1788e-16,\n",
       "         3.3493e-15, 1.2873e-15, 4.7784e-15, 2.9125e-15, 2.6580e-15, 5.4418e-15,\n",
       "         7.2512e-16, 3.1809e-15, 1.8681e-15, 1.0447e-15, 7.8502e-16, 2.5000e-15,\n",
       "         2.4599e-15, 3.8865e-16, 3.4463e-15, 4.2662e-15, 2.6642e-15, 4.8001e-15,\n",
       "         3.1415e-15, 1.1914e-14, 4.1079e-15, 4.4397e-15, 2.8632e-15, 2.7747e-15,\n",
       "         1.0169e-14, 1.4217e-15, 2.7772e-15, 3.7112e-15, 1.2841e-15, 2.2334e-15,\n",
       "         3.6781e-15, 1.1090e-15, 3.5753e-15, 3.6570e-15, 2.8035e-15, 5.3162e-15,\n",
       "         1.4759e-15, 3.7466e-15, 1.6695e-15, 3.2952e-15, 2.8634e-15, 2.9488e-15,\n",
       "         2.5801e-16, 1.3123e-15, 4.2279e-15, 2.8000e-15, 1.6921e-15, 6.8528e-16,\n",
       "         1.6000e-15, 4.4519e-15, 3.2408e-15, 1.1768e-15, 1.2902e-15, 5.0553e-15,\n",
       "         3.8908e-15, 2.1500e-15, 3.0943e-15, 2.6101e-15, 2.6480e-15, 2.3430e-15,\n",
       "         4.4168e-15, 4.0123e-15, 2.4474e-15, 3.3706e-15, 8.9342e-16, 2.5314e-15,\n",
       "         2.7032e-15, 1.0565e-15, 7.8098e-16, 4.0809e-15, 5.4731e-15, 2.1753e-15,\n",
       "         9.4613e-15, 2.4127e-15, 1.7827e-15, 8.8558e-15, 2.6746e-15, 6.7755e-15,\n",
       "         2.6830e-15, 3.7486e-15, 2.2798e-15, 4.4004e-15, 1.7203e-15, 2.7268e-15,\n",
       "         3.2620e-15, 1.6847e-15, 2.5785e-15, 2.3516e-15, 1.3976e-15, 2.2435e-15,\n",
       "         1.9327e-15, 9.5140e-16, 2.5324e-15, 2.7225e-15, 2.1782e-15, 3.0033e-15,\n",
       "         4.3857e-15, 1.6750e-15, 4.1081e-15, 7.2387e-16, 2.3506e-15, 1.5046e-15,\n",
       "         2.4297e-15, 4.0788e-15, 1.7922e-15, 5.0211e-15, 2.3511e-15, 4.0263e-15,\n",
       "         7.9103e-15, 1.6473e-15, 7.3724e-15, 2.0841e-15, 1.9013e-15, 2.9072e-15,\n",
       "         1.0139e-15, 7.0815e-15, 2.3730e-15, 9.1156e-15, 3.7978e-15, 2.3395e-15,\n",
       "         1.9779e-15, 2.5428e-15, 3.1672e-15, 1.0590e-15, 4.8086e-15, 2.3609e-15,\n",
       "         5.1542e-15, 2.6905e-15, 3.9132e-15, 3.0766e-15, 1.0414e-15, 5.9647e-15,\n",
       "         4.4754e-15, 7.2457e-15, 5.4319e-15, 1.2657e-15, 6.5654e-15, 3.0725e-15,\n",
       "         1.6012e-15, 7.8053e-16, 5.5320e-15, 2.8651e-15, 1.6217e-15, 1.8905e-15,\n",
       "         2.3091e-15, 1.2669e-15, 2.0886e-15, 2.1144e-15, 2.2567e-15, 2.2498e-15,\n",
       "         7.0167e-15, 1.7172e-15, 9.6210e-16, 1.6331e-14, 1.8792e-15, 4.0685e-15,\n",
       "         3.0435e-15, 1.4480e-14, 3.4347e-15, 2.7828e-15, 1.8953e-15, 3.3338e-15,\n",
       "         1.7088e-14, 7.0885e-16, 4.1392e-15, 1.5792e-15, 2.3528e-15, 5.9405e-16,\n",
       "         1.2434e-15, 4.0924e-15, 3.6161e-15, 6.4950e-15, 4.5589e-14, 1.1150e-15,\n",
       "         2.2833e-15, 1.0774e-15, 3.7536e-15, 4.4991e-15, 2.1688e-15, 1.0502e-15,\n",
       "         1.2706e-15, 3.0128e-15, 1.4912e-15, 1.6339e-15, 9.8871e-16, 5.7504e-15,\n",
       "         1.2310e-15, 2.8305e-15, 2.0792e-15, 2.8865e-15, 6.2874e-15, 8.7408e-15,\n",
       "         1.6244e-15, 5.6519e-15, 2.2328e-15, 1.2786e-15, 3.0652e-15, 3.0209e-15,\n",
       "         8.8303e-15, 1.5010e-15, 2.2840e-15, 2.4818e-15, 2.2812e-15, 8.2123e-16,\n",
       "         4.2500e-15, 2.3179e-15, 4.4531e-15, 2.3581e-15, 2.1156e-15, 3.4520e-15,\n",
       "         4.4943e-15, 1.9838e-15, 1.4828e-15, 2.5897e-15, 3.1929e-15, 2.8401e-14,\n",
       "         2.5131e-15, 1.1306e-15, 1.4627e-15, 3.0644e-15, 1.4511e-15, 1.7845e-15,\n",
       "         2.7238e-15, 1.6282e-15, 3.1096e-15, 1.7814e-15, 2.3793e-15, 1.8303e-15,\n",
       "         3.7477e-15, 9.9362e-16, 1.3354e-14, 1.2850e-15, 2.0523e-15, 6.9159e-15,\n",
       "         6.6120e-15, 3.0265e-15, 1.6709e-15, 3.2328e-15, 2.2927e-15, 1.1654e-15,\n",
       "         1.5431e-15, 2.6398e-15, 1.5580e-15, 1.4015e-15, 5.2277e-15, 5.2507e-15,\n",
       "         3.1127e-15, 2.1641e-15, 2.4141e-15, 5.8287e-16, 1.9481e-15, 4.4717e-15,\n",
       "         8.5109e-15, 2.3057e-15, 1.2772e-15, 2.6689e-15, 2.7939e-15, 8.0745e-15,\n",
       "         4.0638e-15, 2.2685e-14, 4.0259e-15, 1.5616e-15, 4.7119e-16, 1.5859e-15,\n",
       "         7.6748e-15, 2.6631e-15, 7.4391e-15, 6.0736e-15, 8.7968e-16, 1.8829e-15,\n",
       "         6.9541e-16, 1.3735e-15, 1.5028e-15, 1.6889e-15, 1.4671e-15, 1.4776e-15,\n",
       "         2.6779e-15, 1.3377e-15, 8.5507e-16, 1.7778e-15, 5.9087e-15, 1.7556e-15,\n",
       "         1.1329e-14, 4.7667e-15, 3.6303e-15, 8.6295e-16, 3.4150e-15, 5.3756e-15,\n",
       "         4.5401e-15, 2.0277e-15, 2.1836e-15, 9.2753e-16, 1.2752e-15, 5.0105e-15,\n",
       "         4.4552e-16, 1.7538e-15, 1.8944e-15, 3.3057e-15, 1.4571e-15, 1.8334e-15,\n",
       "         5.9673e-15, 4.6140e-15, 3.0881e-15, 7.4113e-16, 1.4604e-15, 1.3559e-15,\n",
       "         1.0029e-15, 1.2945e-15, 1.9881e-15, 2.8147e-15, 2.2719e-15, 4.1730e-16,\n",
       "         4.1888e-15, 6.0932e-15, 1.5903e-15, 2.5507e-15, 1.6351e-15, 8.4406e-16,\n",
       "         2.0709e-15, 4.4390e-15, 1.2109e-15, 8.5018e-16, 2.7840e-15, 1.7134e-15,\n",
       "         1.2311e-15, 1.3067e-15, 1.6649e-15, 1.8711e-15, 1.8259e-15, 2.8698e-15,\n",
       "         5.4138e-16, 2.2602e-15, 1.6854e-15, 4.6128e-15, 2.3424e-15, 1.5126e-15,\n",
       "         1.9514e-15, 1.9670e-15, 8.2723e-15, 3.1847e-15, 1.1876e-15, 8.1052e-15,\n",
       "         3.4719e-15, 2.3495e-15, 7.9839e-15, 2.0828e-14, 1.4671e-15, 1.7377e-15,\n",
       "         8.2649e-15, 1.8262e-15, 4.9194e-16, 8.9658e-15, 1.0859e-15, 6.9670e-15,\n",
       "         3.6312e-15, 2.5172e-15, 6.9736e-15, 1.4233e-15, 5.9995e-15, 3.2991e-15,\n",
       "         1.6284e-14, 1.2494e-15, 3.2952e-15, 1.2005e-15, 1.8564e-15, 2.5424e-15,\n",
       "         1.8853e-15, 1.7433e-15, 2.7557e-15, 6.2561e-15, 8.4266e-16, 1.8193e-15,\n",
       "         2.4787e-15, 2.6975e-15, 4.8208e-15, 4.1147e-15, 5.6104e-15, 2.4533e-15,\n",
       "         7.3116e-16, 1.3360e-15, 5.4545e-15, 2.2996e-15, 9.5572e-16, 6.5769e-15,\n",
       "         3.6189e-14, 1.4722e-15, 2.3440e-15, 1.9912e-15, 1.6340e-15, 2.6437e-15,\n",
       "         4.5917e-16, 5.3817e-15, 2.0076e-15, 2.3043e-15, 9.9132e-15, 4.1287e-15,\n",
       "         3.3193e-15, 6.0669e-15, 4.7736e-15, 1.2512e-15, 3.8676e-15, 1.6843e-15,\n",
       "         8.9268e-16, 4.6346e-15, 2.5363e-15, 2.0794e-15, 4.5096e-15, 3.2098e-15,\n",
       "         1.3181e-15, 6.9402e-16, 1.3328e-15, 1.0203e-15, 6.2208e-15, 2.7926e-15,\n",
       "         1.1536e-15, 6.3383e-15, 1.6200e-15, 1.2432e-15, 1.4332e-15, 8.8130e-16,\n",
       "         2.0433e-15, 8.2134e-16, 3.3793e-15, 1.2335e-15, 2.1032e-15, 1.3497e-15,\n",
       "         1.2870e-15, 3.8603e-15, 4.0944e-15, 1.0154e-15, 6.7365e-15, 2.6600e-15,\n",
       "         1.6161e-15, 7.7241e-16, 2.1712e-15, 1.4402e-15, 2.4284e-15, 8.1208e-15,\n",
       "         1.9444e-15, 2.5082e-15, 3.3244e-15, 2.5878e-15, 1.0590e-14, 3.0624e-15,\n",
       "         4.4090e-15, 1.8332e-15, 4.9669e-15, 4.2869e-15]))"
      ]
     },
     "execution_count": 76,
     "metadata": {
      "tags": []
     },
     "output_type": "execute_result"
    }
   ],
   "source": [
    "learner.predict(\"morgan.jpg\")"
   ]
  },
  {
   "cell_type": "code",
   "execution_count": null,
   "metadata": {
    "colab": {
     "base_uri": "https://localhost:8080/",
     "height": 1000
    },
    "id": "NT8cy0QT8-O7",
    "outputId": "12c757fd-2d31-4375-8ca2-6a2b67d862bd"
   },
   "outputs": [
    {
     "data": {
      "text/html": [],
      "text/plain": [
       "<IPython.core.display.HTML object>"
      ]
     },
     "metadata": {
      "tags": []
     },
     "output_type": "display_data"
    },
    {
     "data": {
      "text/plain": [
       "('african',\n",
       " tensor(0),\n",
       " tensor([9.1793e-01, 4.1993e-02, 3.0006e-02, 1.0055e-02, 1.5306e-05, 1.9797e-12,\n",
       "         1.7891e-13, 3.5560e-13, 1.7843e-13, 3.5238e-13, 1.4412e-13, 1.4453e-13,\n",
       "         3.3555e-13, 2.1323e-13, 1.0637e-13, 3.7138e-14, 4.4031e-13, 2.9381e-13,\n",
       "         3.5027e-13, 1.2256e-13, 1.1081e-13, 8.0765e-14, 2.4937e-13, 8.2678e-14,\n",
       "         2.5243e-13, 1.6389e-13, 6.3038e-14, 1.8487e-13, 1.8283e-13, 1.0925e-13,\n",
       "         1.6511e-13, 1.1658e-13, 8.7044e-13, 1.4471e-13, 1.0599e-13, 8.6533e-14,\n",
       "         4.0329e-14, 1.4891e-13, 1.9634e-13, 1.4495e-13, 7.1498e-14, 9.6939e-14,\n",
       "         7.1949e-14, 1.2311e-13, 6.2809e-14, 3.5629e-13, 3.3355e-14, 2.9967e-14,\n",
       "         1.4594e-13, 2.2418e-13, 2.8150e-14, 4.4543e-14, 2.3584e-13, 9.4348e-14,\n",
       "         6.0800e-14, 5.9429e-14, 2.1784e-13, 6.9961e-14, 4.5763e-13, 1.2207e-13,\n",
       "         8.0530e-14, 1.0478e-13, 3.6870e-13, 2.2658e-13, 1.7224e-14, 3.7424e-14,\n",
       "         2.7469e-13, 1.6001e-13, 3.3134e-13, 1.9677e-13, 2.5533e-13, 2.0372e-13,\n",
       "         2.8140e-13, 3.4606e-13, 4.1869e-13, 7.8773e-14, 3.4478e-13, 9.3915e-14,\n",
       "         1.0420e-13, 4.3024e-13, 4.8782e-13, 6.2639e-14, 2.5555e-13, 9.0809e-14,\n",
       "         1.0910e-13, 1.8368e-13, 2.2893e-13, 1.0416e-13, 1.0782e-13, 3.4942e-13,\n",
       "         7.7016e-14, 7.2988e-14, 2.0415e-13, 4.7392e-14, 4.5512e-13, 1.7216e-13,\n",
       "         1.5228e-13, 7.3943e-14, 2.1218e-13, 8.8778e-14, 5.3450e-14, 8.9090e-14,\n",
       "         1.5256e-14, 9.9187e-14, 3.3504e-13, 5.8337e-13, 1.5279e-13, 8.4924e-14,\n",
       "         2.7910e-14, 1.1935e-13, 2.5584e-14, 1.5437e-13, 3.3064e-13, 1.4546e-13,\n",
       "         5.3525e-13, 5.6694e-13, 3.4671e-13, 6.4754e-14, 1.3274e-13, 3.4320e-14,\n",
       "         1.8752e-13, 4.7850e-13, 3.1055e-13, 2.6564e-13, 2.9316e-13, 1.1612e-13,\n",
       "         6.6876e-13, 1.0780e-13, 1.3681e-13, 2.1338e-13, 2.0426e-13, 1.4943e-13,\n",
       "         4.9628e-14, 1.5725e-13, 8.7088e-14, 4.1511e-13, 2.2094e-13, 6.1137e-14,\n",
       "         1.4122e-13, 2.3087e-13, 8.1677e-14, 1.5541e-13, 9.4277e-14, 1.6196e-13,\n",
       "         1.7461e-13, 1.5797e-13, 7.8706e-14, 6.4492e-14, 7.1551e-14, 7.6881e-14,\n",
       "         4.9043e-14, 1.0925e-13, 2.0945e-13, 1.3721e-13, 1.2640e-13, 1.1979e-13,\n",
       "         6.5810e-14, 2.4690e-13, 1.2583e-13, 5.6317e-13, 5.5805e-14, 1.2239e-13,\n",
       "         2.4001e-14, 2.6553e-13, 1.1935e-13, 4.9723e-14, 3.7695e-13, 3.9182e-13,\n",
       "         3.7390e-13, 5.0317e-14, 4.4272e-13, 1.9522e-13, 6.7396e-14, 2.0689e-13,\n",
       "         5.1112e-13, 2.2870e-13, 4.3798e-13, 8.1157e-13, 6.5122e-14, 3.0482e-13,\n",
       "         5.2548e-13, 6.9053e-14, 3.4486e-13, 1.4653e-13, 1.1928e-13, 1.3433e-13,\n",
       "         4.7833e-13, 2.9101e-13, 1.1340e-13, 3.5254e-13, 2.7274e-13, 2.2899e-13,\n",
       "         6.4216e-14, 1.1573e-13, 1.9724e-13, 2.5046e-13, 4.6915e-14, 8.6872e-14,\n",
       "         1.2147e-13, 5.1395e-13, 1.0761e-13, 5.1257e-14, 1.0886e-13, 1.5852e-13,\n",
       "         5.2431e-14, 9.8253e-14, 8.8147e-14, 4.1666e-13, 7.1057e-14, 9.7771e-14,\n",
       "         6.5560e-13, 7.4757e-13, 6.2995e-13, 2.6229e-13, 1.7490e-13, 9.1188e-14,\n",
       "         3.6563e-13, 8.9211e-14, 1.0942e-13, 1.7853e-13, 9.4506e-14, 5.7769e-14,\n",
       "         1.5857e-13, 5.8487e-14, 6.0013e-14, 2.8651e-13, 6.5803e-14, 9.3514e-14,\n",
       "         8.5679e-13, 9.6935e-14, 1.0406e-13, 7.0921e-13, 2.6090e-13, 1.5151e-13,\n",
       "         7.7247e-14, 2.3044e-13, 7.4483e-14, 8.7130e-14, 6.6262e-14, 6.2664e-14,\n",
       "         1.4226e-13, 4.9932e-14, 1.0616e-13, 3.1225e-14, 3.1921e-13, 1.1278e-13,\n",
       "         1.6065e-13, 2.5179e-13, 8.4765e-14, 1.9834e-13, 2.8546e-14, 3.7258e-13,\n",
       "         9.2306e-14, 1.6835e-12, 4.6439e-13, 1.8224e-13, 1.5247e-13, 1.5575e-13,\n",
       "         2.1584e-13, 4.6729e-13, 1.1404e-12, 5.5671e-14, 2.5896e-13, 8.1562e-14,\n",
       "         5.2238e-14, 6.7766e-14, 8.8004e-14, 3.1906e-13, 9.5128e-14, 5.9526e-13,\n",
       "         1.9176e-13, 3.8061e-14, 7.2324e-14, 2.1163e-13, 3.3050e-14, 1.3516e-13,\n",
       "         2.5469e-13, 2.3155e-13, 6.6940e-14, 2.9819e-13, 1.8866e-13, 1.9929e-13,\n",
       "         1.3614e-13, 1.0669e-13, 1.3963e-13, 1.3376e-13, 5.2715e-13, 3.3995e-13,\n",
       "         1.3664e-13, 5.1212e-13, 2.2649e-13, 1.8464e-13, 2.6262e-13, 1.2712e-13,\n",
       "         1.3811e-13, 1.9570e-13, 2.9404e-14, 2.4808e-13, 1.4697e-13, 2.8953e-13,\n",
       "         1.3110e-13, 4.1101e-14, 6.1666e-14, 2.4464e-13, 3.5822e-13, 1.3581e-13,\n",
       "         2.8142e-13, 4.7190e-13, 4.3059e-13, 1.9094e-13, 4.0015e-13, 7.4745e-14,\n",
       "         1.2067e-12, 2.3276e-13, 1.1842e-13, 1.2721e-13, 6.9807e-14, 3.5217e-13,\n",
       "         9.8378e-13, 4.2822e-14, 8.0658e-14, 7.9810e-14, 2.4427e-13, 2.9267e-13,\n",
       "         2.1676e-13, 2.4824e-13, 1.0899e-13, 1.2117e-12, 5.6021e-13, 2.6820e-13,\n",
       "         6.5259e-13, 1.3393e-13, 5.6427e-14, 7.0575e-14, 2.7016e-13, 7.9827e-14,\n",
       "         1.1053e-13, 8.9910e-14, 2.0091e-13, 1.3851e-13, 7.6448e-14, 4.9826e-13,\n",
       "         5.1572e-14, 1.3114e-13, 1.6370e-13, 8.5482e-14, 1.3896e-13, 1.5375e-13,\n",
       "         1.2203e-13, 6.2599e-13, 1.1977e-12, 5.6019e-14, 1.6753e-13, 5.4452e-13,\n",
       "         1.3513e-13, 2.2241e-13, 1.0107e-13, 2.1012e-13, 8.6841e-14, 6.1468e-14,\n",
       "         1.8883e-13, 4.8028e-14, 1.9951e-13, 1.3038e-13, 4.1196e-13, 1.9346e-14,\n",
       "         1.0374e-13, 5.2027e-14, 1.3448e-13, 1.5064e-13, 3.5082e-13, 1.7967e-13,\n",
       "         3.8281e-13, 1.9391e-13, 2.4326e-13, 6.7938e-14, 7.2396e-14, 3.3048e-13,\n",
       "         4.9379e-14, 4.3536e-13, 8.7538e-14, 1.4219e-13, 1.3843e-13, 1.3541e-13,\n",
       "         5.0987e-13, 5.5369e-14, 8.8969e-13, 8.0256e-14, 7.9349e-14, 2.0412e-13,\n",
       "         5.3741e-14, 1.4741e-13, 2.6063e-13, 1.6780e-13, 4.3121e-13, 1.2295e-13,\n",
       "         2.5022e-13, 2.6224e-13, 5.6289e-14, 6.1650e-14, 9.7562e-14, 3.7344e-13,\n",
       "         8.1449e-14, 1.0439e-13, 1.3405e-13, 5.2434e-13, 1.5157e-13, 1.5643e-13,\n",
       "         2.6476e-13, 1.3794e-13, 3.3190e-13, 1.4536e-14, 9.5719e-14, 2.3661e-13,\n",
       "         4.2207e-13, 2.4433e-13, 9.5978e-14, 1.2563e-13, 7.3057e-13, 5.2925e-14,\n",
       "         2.3858e-13, 2.0218e-13, 6.7363e-14, 5.2016e-13, 4.7398e-14, 1.3978e-13,\n",
       "         1.2777e-13, 1.1245e-13, 3.9834e-14, 6.3775e-14, 1.5183e-13, 1.8625e-13,\n",
       "         5.1336e-14, 7.7115e-14, 1.5891e-13, 2.6863e-13, 2.9909e-13, 6.1937e-14,\n",
       "         1.3219e-13, 1.4396e-13, 2.2338e-13, 1.3719e-13, 3.1271e-13, 2.4121e-13,\n",
       "         1.1660e-13, 1.2390e-13, 4.8189e-13, 4.1439e-13, 1.5769e-13, 8.6230e-14,\n",
       "         1.0151e-13, 1.5408e-13, 4.8122e-14, 7.0717e-14, 3.1741e-13, 3.5431e-13,\n",
       "         1.5297e-13, 1.9199e-13, 1.2579e-13, 9.3838e-14, 1.6947e-13, 2.3188e-13,\n",
       "         1.1993e-13, 3.9740e-14, 5.5743e-14, 1.2961e-13, 9.1889e-13, 3.2063e-13,\n",
       "         5.2212e-13, 4.1375e-13, 8.0402e-14, 5.2849e-14, 1.7034e-13, 1.9641e-13,\n",
       "         3.3754e-13, 2.5016e-13, 7.2365e-14, 1.0830e-13, 8.2498e-14, 1.6199e-13,\n",
       "         7.7028e-14, 6.9930e-14, 1.6202e-13, 1.2796e-13, 3.5833e-13, 6.8059e-13,\n",
       "         5.3864e-14, 9.2361e-14, 1.1874e-13, 1.1195e-13, 9.8002e-14, 1.0017e-13,\n",
       "         7.0805e-13, 1.6810e-13, 1.8960e-13, 1.2491e-13, 2.2638e-13, 1.2546e-13,\n",
       "         3.9956e-13, 1.1041e-13, 3.8237e-13, 2.8321e-13, 7.9891e-14, 1.0881e-13,\n",
       "         2.6255e-14, 1.5701e-13, 1.8433e-13, 5.2143e-14, 8.5006e-14, 9.7086e-14,\n",
       "         3.3336e-13, 1.4651e-13, 5.5589e-13, 2.3967e-13, 1.1949e-13, 1.6110e-13,\n",
       "         1.2486e-13, 7.9099e-14, 1.1427e-13, 2.8546e-13, 1.5973e-13, 9.6632e-13,\n",
       "         1.9333e-13, 1.6422e-13, 1.5825e-13, 2.7014e-13, 1.5846e-13, 3.0721e-13,\n",
       "         1.3082e-13, 7.7647e-14, 3.4907e-13, 2.4403e-13, 1.6505e-13, 1.2820e-13,\n",
       "         6.4914e-14, 2.2103e-13, 1.9712e-13, 9.0851e-14, 2.8637e-13, 1.5445e-13,\n",
       "         5.1078e-13, 1.4617e-13, 1.0729e-13, 3.1848e-13, 1.2689e-13, 6.4484e-13,\n",
       "         1.0713e-13, 2.2628e-13, 1.4901e-13, 2.0796e-13, 5.5994e-13, 6.0431e-14,\n",
       "         5.0598e-13, 5.9816e-14, 2.4611e-13, 2.5282e-13, 3.1168e-13, 5.3036e-13,\n",
       "         7.3246e-14, 1.1310e-13, 7.7127e-14, 3.1281e-14, 5.2900e-14, 1.3145e-13,\n",
       "         8.8381e-14, 5.6684e-14, 2.7572e-13, 5.1185e-13, 1.7348e-13, 2.4033e-13,\n",
       "         2.4597e-13, 5.5876e-13, 3.8407e-13, 2.2551e-13, 2.5106e-13, 1.2940e-13,\n",
       "         4.4080e-13, 1.1193e-13, 1.7125e-13, 3.2815e-13, 1.4378e-13, 8.5105e-14,\n",
       "         3.9023e-13, 1.4297e-13, 8.7000e-14, 4.3806e-13, 9.8609e-14, 4.2435e-13,\n",
       "         1.0914e-13, 2.0206e-13, 1.0663e-13, 2.4978e-13, 1.4389e-13, 2.7731e-13,\n",
       "         1.7970e-14, 1.5706e-13, 3.5113e-13, 3.6339e-13, 1.6365e-13, 3.6610e-14,\n",
       "         7.9208e-14, 3.6299e-13, 1.2554e-13, 7.1372e-14, 1.3802e-13, 4.5622e-13,\n",
       "         1.4631e-13, 5.2694e-14, 3.3920e-13, 1.7091e-13, 2.9750e-13, 6.5470e-14,\n",
       "         3.3604e-13, 1.2595e-13, 1.2530e-13, 2.3950e-13, 3.0117e-14, 1.0415e-13,\n",
       "         2.8879e-13, 5.6884e-14, 3.1753e-14, 2.4044e-13, 3.7229e-13, 2.8424e-13,\n",
       "         5.1500e-13, 1.6554e-13, 6.7940e-14, 6.8828e-13, 4.8327e-13, 4.1440e-13,\n",
       "         1.5082e-13, 1.7336e-13, 1.6686e-13, 2.4563e-13, 9.0818e-14, 1.3787e-13,\n",
       "         1.2034e-13, 1.5270e-13, 5.7351e-14, 1.0900e-13, 1.3648e-13, 2.1111e-13,\n",
       "         5.6085e-14, 8.4115e-14, 1.5399e-13, 2.9361e-13, 1.3377e-13, 5.2220e-13,\n",
       "         1.5642e-13, 8.6444e-14, 4.0541e-13, 6.0411e-14, 1.0286e-13, 6.4244e-14,\n",
       "         1.3293e-13, 1.3761e-13, 3.6784e-14, 2.0983e-13, 2.2258e-13, 1.5595e-13,\n",
       "         5.3475e-13, 1.0147e-13, 5.9641e-13, 1.5196e-13, 1.0846e-13, 1.2215e-13,\n",
       "         8.5455e-14, 4.1383e-13, 1.4761e-13, 6.8556e-13, 2.7240e-13, 1.9565e-13,\n",
       "         6.9742e-14, 1.8390e-13, 1.4463e-13, 7.0018e-14, 2.1867e-13, 1.2552e-13,\n",
       "         3.7942e-13, 2.5402e-13, 2.9802e-13, 1.9617e-13, 1.1319e-13, 5.8147e-13,\n",
       "         5.7791e-13, 3.7524e-13, 3.8893e-13, 2.9938e-13, 1.5670e-13, 3.1322e-13,\n",
       "         1.3883e-13, 1.1548e-13, 2.8106e-13, 2.8162e-13, 7.6103e-14, 1.9999e-13,\n",
       "         1.1503e-13, 6.2933e-14, 1.0001e-13, 1.9281e-13, 1.9480e-13, 3.7150e-13,\n",
       "         5.8124e-13, 1.6080e-13, 6.5265e-14, 1.1404e-12, 1.1172e-13, 3.4276e-13,\n",
       "         2.0711e-13, 6.5172e-13, 1.2956e-13, 9.3745e-14, 9.9282e-14, 3.3369e-13,\n",
       "         1.1071e-12, 4.2694e-14, 4.9070e-13, 1.1217e-13, 1.1641e-13, 5.2792e-14,\n",
       "         8.7375e-14, 3.2370e-13, 2.2951e-13, 1.0037e-13, 3.1747e-12, 6.7190e-14,\n",
       "         1.1535e-13, 9.6763e-14, 3.5770e-13, 5.5729e-13, 1.8912e-13, 2.6793e-14,\n",
       "         9.4782e-14, 1.2085e-13, 1.5009e-13, 2.0882e-13, 8.5383e-14, 1.1422e-13,\n",
       "         2.2523e-13, 1.5725e-13, 2.1837e-13, 1.3518e-13, 2.0882e-13, 5.8507e-13,\n",
       "         1.5829e-13, 7.9610e-13, 1.0966e-13, 7.8854e-14, 2.4589e-13, 2.7825e-13,\n",
       "         1.0564e-12, 1.0346e-13, 2.9455e-13, 1.3167e-13, 2.6844e-13, 2.4866e-14,\n",
       "         3.2336e-13, 1.1087e-13, 1.1706e-13, 1.2750e-13, 1.5879e-13, 4.6190e-13,\n",
       "         3.6455e-13, 1.0336e-13, 1.1012e-13, 1.7108e-13, 1.2304e-13, 3.2619e-12,\n",
       "         2.1325e-13, 7.4032e-14, 1.1722e-13, 3.2511e-13, 1.4002e-13, 3.2307e-13,\n",
       "         5.9015e-14, 1.5216e-13, 2.2437e-13, 8.3213e-14, 1.6070e-13, 1.6811e-13,\n",
       "         2.1607e-13, 7.2445e-14, 4.6802e-13, 6.3912e-14, 8.8936e-14, 2.2430e-13,\n",
       "         2.9619e-13, 1.7922e-13, 1.7079e-13, 2.1139e-13, 1.9443e-13, 2.1420e-13,\n",
       "         6.5369e-14, 5.9567e-14, 4.5542e-13, 1.7965e-13, 5.2741e-13, 3.8932e-13,\n",
       "         1.7362e-13, 1.3318e-13, 1.8708e-13, 5.2025e-14, 8.1030e-14, 3.5997e-13,\n",
       "         7.8428e-13, 1.5924e-13, 7.6616e-14, 2.9245e-13, 2.0666e-13, 4.0673e-13,\n",
       "         3.7227e-13, 1.8105e-12, 3.5628e-13, 1.3864e-13, 5.3698e-14, 1.0194e-13,\n",
       "         7.2411e-13, 1.1298e-13, 2.8322e-13, 4.9498e-13, 5.1149e-14, 1.5644e-13,\n",
       "         3.3705e-14, 6.6198e-14, 1.2230e-13, 8.9873e-14, 9.5540e-14, 8.0351e-14,\n",
       "         1.4392e-13, 7.0577e-14, 3.8246e-14, 6.3428e-14, 3.8497e-13, 1.3604e-13,\n",
       "         6.4082e-13, 2.9097e-13, 2.8817e-13, 5.5355e-14, 1.3716e-13, 1.9640e-13,\n",
       "         2.7091e-13, 1.8081e-13, 2.3262e-13, 9.6546e-14, 5.4244e-14, 3.0360e-13,\n",
       "         3.2805e-14, 1.0800e-13, 9.4523e-14, 2.1733e-13, 7.3699e-14, 7.1602e-14,\n",
       "         5.3711e-13, 4.0195e-13, 1.6670e-13, 1.3920e-13, 1.1585e-13, 7.2923e-14,\n",
       "         4.7083e-14, 1.4151e-13, 1.9636e-13, 1.0003e-13, 7.9337e-14, 3.9619e-14,\n",
       "         2.0259e-13, 2.2060e-13, 9.1175e-14, 2.1011e-13, 1.1809e-13, 4.3690e-14,\n",
       "         7.5082e-14, 2.0196e-13, 3.0541e-14, 4.3267e-14, 2.9210e-13, 7.1634e-14,\n",
       "         5.2572e-14, 2.6774e-14, 8.0195e-14, 6.2070e-14, 2.5751e-13, 2.1706e-13,\n",
       "         2.3908e-14, 1.5717e-13, 1.1929e-13, 3.0015e-13, 2.1517e-13, 1.1796e-13,\n",
       "         1.2349e-13, 9.7355e-14, 3.6810e-13, 1.1522e-13, 1.4079e-13, 2.9210e-13,\n",
       "         2.0802e-13, 1.3334e-13, 6.3173e-13, 1.9040e-12, 1.3915e-13, 2.0022e-13,\n",
       "         4.0520e-13, 3.5008e-13, 5.1543e-14, 3.7114e-13, 5.5520e-14, 4.3673e-13,\n",
       "         1.1108e-13, 2.2302e-13, 7.3404e-13, 9.4655e-14, 5.4874e-13, 2.1176e-13,\n",
       "         6.9541e-13, 1.0067e-13, 2.0110e-13, 4.2403e-14, 1.6535e-13, 6.5990e-14,\n",
       "         7.7984e-14, 1.3103e-13, 1.8583e-13, 3.8487e-13, 4.3417e-14, 9.6463e-14,\n",
       "         1.8995e-13, 6.2469e-14, 3.2097e-13, 1.7394e-13, 4.8730e-13, 1.2620e-13,\n",
       "         4.1113e-14, 8.1806e-14, 2.0707e-13, 1.7157e-13, 6.4699e-14, 2.4558e-13,\n",
       "         3.4840e-12, 1.3819e-13, 9.0757e-14, 1.2615e-13, 9.4844e-14, 2.3064e-13,\n",
       "         1.1268e-13, 3.1053e-13, 1.7140e-13, 1.6072e-13, 6.5270e-13, 1.7403e-13,\n",
       "         1.7641e-13, 4.4099e-13, 2.3116e-13, 1.6900e-13, 1.9322e-13, 1.2584e-13,\n",
       "         1.2657e-13, 4.2282e-13, 1.2636e-13, 1.4693e-13, 3.0248e-13, 3.1709e-13,\n",
       "         4.7758e-14, 3.8678e-14, 8.4874e-14, 1.0994e-13, 4.6487e-13, 3.2921e-13,\n",
       "         6.7994e-14, 1.9518e-13, 6.3247e-14, 9.9237e-14, 8.6285e-14, 5.1038e-14,\n",
       "         6.6859e-14, 7.3425e-14, 1.6810e-13, 7.4299e-14, 1.1346e-13, 5.6868e-14,\n",
       "         8.9761e-14, 1.8512e-13, 2.5870e-13, 9.9385e-14, 4.1452e-13, 1.2973e-13,\n",
       "         5.6434e-14, 3.9445e-14, 3.0256e-13, 1.3501e-13, 1.4264e-13, 9.9889e-13,\n",
       "         1.0425e-13, 6.2843e-14, 2.5864e-13, 3.8236e-13, 6.9123e-13, 3.1391e-13,\n",
       "         1.4860e-13, 1.5424e-13, 2.6874e-13, 2.8233e-13]))"
      ]
     },
     "execution_count": 77,
     "metadata": {
      "tags": []
     },
     "output_type": "execute_result"
    }
   ],
   "source": [
    "learner.predict(\"morgan2.jpg\")"
   ]
  },
  {
   "cell_type": "code",
   "execution_count": null,
   "metadata": {
    "id": "yqBn5GFN8_Jz"
   },
   "outputs": [],
   "source": []
  }
 ],
 "metadata": {
  "accelerator": "GPU",
  "colab": {
   "collapsed_sections": [],
   "name": "Validation.ipynb",
   "provenance": [],
   "toc_visible": true
  },
  "kernelspec": {
   "display_name": "Python 3",
   "language": "python",
   "name": "python3"
  },
  "language_info": {
   "codemirror_mode": {
    "name": "ipython",
    "version": 3
   },
   "file_extension": ".py",
   "mimetype": "text/x-python",
   "name": "python",
   "nbconvert_exporter": "python",
   "pygments_lexer": "ipython3",
   "version": "3.7.9"
  },
  "widgets": {
   "application/vnd.jupyter.widget-state+json": {
    "00ff015800344d2c822fb9067de7a2c7": {
     "model_module": "@jupyter-widgets/base",
     "model_name": "LayoutModel",
     "state": {
      "_model_module": "@jupyter-widgets/base",
      "_model_module_version": "1.2.0",
      "_model_name": "LayoutModel",
      "_view_count": null,
      "_view_module": "@jupyter-widgets/base",
      "_view_module_version": "1.2.0",
      "_view_name": "LayoutView",
      "align_content": null,
      "align_items": null,
      "align_self": null,
      "border": null,
      "bottom": null,
      "display": null,
      "flex": null,
      "flex_flow": null,
      "grid_area": null,
      "grid_auto_columns": null,
      "grid_auto_flow": null,
      "grid_auto_rows": null,
      "grid_column": null,
      "grid_gap": null,
      "grid_row": null,
      "grid_template_areas": null,
      "grid_template_columns": null,
      "grid_template_rows": null,
      "height": null,
      "justify_content": null,
      "justify_items": null,
      "left": null,
      "margin": null,
      "max_height": null,
      "max_width": null,
      "min_height": null,
      "min_width": null,
      "object_fit": null,
      "object_position": null,
      "order": null,
      "overflow": null,
      "overflow_x": null,
      "overflow_y": null,
      "padding": null,
      "right": null,
      "top": null,
      "visibility": null,
      "width": null
     }
    },
    "04ed79101c5a4c6cbd3d9af1d8e324ce": {
     "model_module": "@jupyter-widgets/base",
     "model_name": "LayoutModel",
     "state": {
      "_model_module": "@jupyter-widgets/base",
      "_model_module_version": "1.2.0",
      "_model_name": "LayoutModel",
      "_view_count": null,
      "_view_module": "@jupyter-widgets/base",
      "_view_module_version": "1.2.0",
      "_view_name": "LayoutView",
      "align_content": null,
      "align_items": null,
      "align_self": null,
      "border": null,
      "bottom": null,
      "display": null,
      "flex": null,
      "flex_flow": null,
      "grid_area": null,
      "grid_auto_columns": null,
      "grid_auto_flow": null,
      "grid_auto_rows": null,
      "grid_column": null,
      "grid_gap": null,
      "grid_row": null,
      "grid_template_areas": null,
      "grid_template_columns": null,
      "grid_template_rows": null,
      "height": null,
      "justify_content": null,
      "justify_items": null,
      "left": null,
      "margin": null,
      "max_height": null,
      "max_width": null,
      "min_height": null,
      "min_width": null,
      "object_fit": null,
      "object_position": null,
      "order": null,
      "overflow": null,
      "overflow_x": null,
      "overflow_y": null,
      "padding": null,
      "right": null,
      "top": null,
      "visibility": null,
      "width": null
     }
    },
    "13d575496b54415f987bd4b5105c2dfb": {
     "model_module": "@jupyter-widgets/controls",
     "model_name": "DescriptionStyleModel",
     "state": {
      "_model_module": "@jupyter-widgets/controls",
      "_model_module_version": "1.5.0",
      "_model_name": "DescriptionStyleModel",
      "_view_count": null,
      "_view_module": "@jupyter-widgets/base",
      "_view_module_version": "1.2.0",
      "_view_name": "StyleView",
      "description_width": ""
     }
    },
    "1d39263f87bc47409181d492981a8e3f": {
     "model_module": "@jupyter-widgets/controls",
     "model_name": "FloatProgressModel",
     "state": {
      "_dom_classes": [],
      "_model_module": "@jupyter-widgets/controls",
      "_model_module_version": "1.5.0",
      "_model_name": "FloatProgressModel",
      "_view_count": null,
      "_view_module": "@jupyter-widgets/controls",
      "_view_module_version": "1.5.0",
      "_view_name": "ProgressView",
      "bar_style": "success",
      "description": "100%",
      "description_tooltip": null,
      "layout": "IPY_MODEL_8e092e3f134a4b639db89183d9ffa22b",
      "max": 27,
      "min": 0,
      "orientation": "horizontal",
      "style": "IPY_MODEL_ecb24134e08a4b91860a825c4389d43c",
      "value": 27
     }
    },
    "2b123df4ccec499abc0ed57ce0fbcf7d": {
     "model_module": "@jupyter-widgets/controls",
     "model_name": "FloatProgressModel",
     "state": {
      "_dom_classes": [],
      "_model_module": "@jupyter-widgets/controls",
      "_model_module_version": "1.5.0",
      "_model_name": "FloatProgressModel",
      "_view_count": null,
      "_view_module": "@jupyter-widgets/controls",
      "_view_module_version": "1.5.0",
      "_view_name": "ProgressView",
      "bar_style": "success",
      "description": "Images: ",
      "description_tooltip": null,
      "layout": "IPY_MODEL_86fd2f0f278d4f338cf655c3e8b677b6",
      "max": 1,
      "min": 0,
      "orientation": "horizontal",
      "style": "IPY_MODEL_9564dd73973d4494a7e077b997bad018",
      "value": 1
     }
    },
    "3c059194a67f4d37be98dfd22121edaf": {
     "model_module": "@jupyter-widgets/base",
     "model_name": "LayoutModel",
     "state": {
      "_model_module": "@jupyter-widgets/base",
      "_model_module_version": "1.2.0",
      "_model_name": "LayoutModel",
      "_view_count": null,
      "_view_module": "@jupyter-widgets/base",
      "_view_module_version": "1.2.0",
      "_view_name": "LayoutView",
      "align_content": null,
      "align_items": null,
      "align_self": null,
      "border": null,
      "bottom": null,
      "display": null,
      "flex": null,
      "flex_flow": null,
      "grid_area": null,
      "grid_auto_columns": null,
      "grid_auto_flow": null,
      "grid_auto_rows": null,
      "grid_column": null,
      "grid_gap": null,
      "grid_row": null,
      "grid_template_areas": null,
      "grid_template_columns": null,
      "grid_template_rows": null,
      "height": null,
      "justify_content": null,
      "justify_items": null,
      "left": null,
      "margin": null,
      "max_height": null,
      "max_width": null,
      "min_height": null,
      "min_width": null,
      "object_fit": null,
      "object_position": null,
      "order": null,
      "overflow": null,
      "overflow_x": null,
      "overflow_y": null,
      "padding": null,
      "right": null,
      "top": null,
      "visibility": null,
      "width": null
     }
    },
    "3ed32593509b4a23bb2b639834b38f32": {
     "model_module": "@jupyter-widgets/controls",
     "model_name": "DescriptionStyleModel",
     "state": {
      "_model_module": "@jupyter-widgets/controls",
      "_model_module_version": "1.5.0",
      "_model_name": "DescriptionStyleModel",
      "_view_count": null,
      "_view_module": "@jupyter-widgets/base",
      "_view_module_version": "1.2.0",
      "_view_name": "StyleView",
      "description_width": ""
     }
    },
    "4fd855d876f2450789b932980ba30584": {
     "model_module": "@jupyter-widgets/base",
     "model_name": "LayoutModel",
     "state": {
      "_model_module": "@jupyter-widgets/base",
      "_model_module_version": "1.2.0",
      "_model_name": "LayoutModel",
      "_view_count": null,
      "_view_module": "@jupyter-widgets/base",
      "_view_module_version": "1.2.0",
      "_view_name": "LayoutView",
      "align_content": null,
      "align_items": null,
      "align_self": null,
      "border": null,
      "bottom": null,
      "display": null,
      "flex": null,
      "flex_flow": null,
      "grid_area": null,
      "grid_auto_columns": null,
      "grid_auto_flow": null,
      "grid_auto_rows": null,
      "grid_column": null,
      "grid_gap": null,
      "grid_row": null,
      "grid_template_areas": null,
      "grid_template_columns": null,
      "grid_template_rows": null,
      "height": null,
      "justify_content": null,
      "justify_items": null,
      "left": null,
      "margin": null,
      "max_height": null,
      "max_width": null,
      "min_height": null,
      "min_width": null,
      "object_fit": null,
      "object_position": null,
      "order": null,
      "overflow": null,
      "overflow_x": null,
      "overflow_y": null,
      "padding": null,
      "right": null,
      "top": null,
      "visibility": null,
      "width": null
     }
    },
    "4fe5e22c7e8a47e3a1562efdca619d06": {
     "model_module": "@jupyter-widgets/base",
     "model_name": "LayoutModel",
     "state": {
      "_model_module": "@jupyter-widgets/base",
      "_model_module_version": "1.2.0",
      "_model_name": "LayoutModel",
      "_view_count": null,
      "_view_module": "@jupyter-widgets/base",
      "_view_module_version": "1.2.0",
      "_view_name": "LayoutView",
      "align_content": null,
      "align_items": null,
      "align_self": null,
      "border": null,
      "bottom": null,
      "display": null,
      "flex": null,
      "flex_flow": null,
      "grid_area": null,
      "grid_auto_columns": null,
      "grid_auto_flow": null,
      "grid_auto_rows": null,
      "grid_column": null,
      "grid_gap": null,
      "grid_row": null,
      "grid_template_areas": null,
      "grid_template_columns": null,
      "grid_template_rows": null,
      "height": null,
      "justify_content": null,
      "justify_items": null,
      "left": null,
      "margin": null,
      "max_height": null,
      "max_width": null,
      "min_height": null,
      "min_width": null,
      "object_fit": null,
      "object_position": null,
      "order": null,
      "overflow": null,
      "overflow_x": null,
      "overflow_y": null,
      "padding": null,
      "right": null,
      "top": null,
      "visibility": null,
      "width": null
     }
    },
    "5c034f41ba0d4d8ca1eca01eab10a7d3": {
     "model_module": "@jupyter-widgets/controls",
     "model_name": "HBoxModel",
     "state": {
      "_dom_classes": [],
      "_model_module": "@jupyter-widgets/controls",
      "_model_module_version": "1.5.0",
      "_model_name": "HBoxModel",
      "_view_count": null,
      "_view_module": "@jupyter-widgets/controls",
      "_view_module_version": "1.5.0",
      "_view_name": "HBoxView",
      "box_style": "",
      "children": [
       "IPY_MODEL_63a296d7487f496da712d37561d27d63",
       "IPY_MODEL_cbd89996e5eb449cbb3608091ed814f6"
      ],
      "layout": "IPY_MODEL_80c9e67b372748cdb10e3cfe734c6821"
     }
    },
    "63a296d7487f496da712d37561d27d63": {
     "model_module": "@jupyter-widgets/controls",
     "model_name": "FloatProgressModel",
     "state": {
      "_dom_classes": [],
      "_model_module": "@jupyter-widgets/controls",
      "_model_module_version": "1.5.0",
      "_model_name": "FloatProgressModel",
      "_view_count": null,
      "_view_module": "@jupyter-widgets/controls",
      "_view_module_version": "1.5.0",
      "_view_name": "ProgressView",
      "bar_style": "success",
      "description": "Images: 100%",
      "description_tooltip": null,
      "layout": "IPY_MODEL_9580795c81304858b090dfdb34edfd64",
      "max": 2,
      "min": 0,
      "orientation": "horizontal",
      "style": "IPY_MODEL_a8de7fcf109142fd94e948ec105bbcf6",
      "value": 2
     }
    },
    "67e77e28f7e0470294ca35f9e738a5ce": {
     "model_module": "@jupyter-widgets/base",
     "model_name": "LayoutModel",
     "state": {
      "_model_module": "@jupyter-widgets/base",
      "_model_module_version": "1.2.0",
      "_model_name": "LayoutModel",
      "_view_count": null,
      "_view_module": "@jupyter-widgets/base",
      "_view_module_version": "1.2.0",
      "_view_name": "LayoutView",
      "align_content": null,
      "align_items": null,
      "align_self": null,
      "border": null,
      "bottom": null,
      "display": null,
      "flex": null,
      "flex_flow": null,
      "grid_area": null,
      "grid_auto_columns": null,
      "grid_auto_flow": null,
      "grid_auto_rows": null,
      "grid_column": null,
      "grid_gap": null,
      "grid_row": null,
      "grid_template_areas": null,
      "grid_template_columns": null,
      "grid_template_rows": null,
      "height": null,
      "justify_content": null,
      "justify_items": null,
      "left": null,
      "margin": null,
      "max_height": null,
      "max_width": null,
      "min_height": null,
      "min_width": null,
      "object_fit": null,
      "object_position": null,
      "order": null,
      "overflow": null,
      "overflow_x": null,
      "overflow_y": null,
      "padding": null,
      "right": null,
      "top": null,
      "visibility": null,
      "width": null
     }
    },
    "6b4660b0d95c400eba2d35ff5badf4a5": {
     "model_module": "@jupyter-widgets/base",
     "model_name": "LayoutModel",
     "state": {
      "_model_module": "@jupyter-widgets/base",
      "_model_module_version": "1.2.0",
      "_model_name": "LayoutModel",
      "_view_count": null,
      "_view_module": "@jupyter-widgets/base",
      "_view_module_version": "1.2.0",
      "_view_name": "LayoutView",
      "align_content": null,
      "align_items": null,
      "align_self": null,
      "border": null,
      "bottom": null,
      "display": null,
      "flex": null,
      "flex_flow": null,
      "grid_area": null,
      "grid_auto_columns": null,
      "grid_auto_flow": null,
      "grid_auto_rows": null,
      "grid_column": null,
      "grid_gap": null,
      "grid_row": null,
      "grid_template_areas": null,
      "grid_template_columns": null,
      "grid_template_rows": null,
      "height": null,
      "justify_content": null,
      "justify_items": null,
      "left": null,
      "margin": null,
      "max_height": null,
      "max_width": null,
      "min_height": null,
      "min_width": null,
      "object_fit": null,
      "object_position": null,
      "order": null,
      "overflow": null,
      "overflow_x": null,
      "overflow_y": null,
      "padding": null,
      "right": null,
      "top": null,
      "visibility": null,
      "width": null
     }
    },
    "6f847f889b3343fb9efe8e3783c6c759": {
     "model_module": "@jupyter-widgets/controls",
     "model_name": "HTMLModel",
     "state": {
      "_dom_classes": [],
      "_model_module": "@jupyter-widgets/controls",
      "_model_module_version": "1.5.0",
      "_model_name": "HTMLModel",
      "_view_count": null,
      "_view_module": "@jupyter-widgets/controls",
      "_view_module_version": "1.5.0",
      "_view_name": "HTMLView",
      "description": "",
      "description_tooltip": null,
      "layout": "IPY_MODEL_e4f8816990cf4bb5af4aefc83a717929",
      "placeholder": "​",
      "style": "IPY_MODEL_98b8b0d6f5c34154ab0827767a1590e7",
      "value": " 55/? [05:44&lt;00:00,  6.26s/it]"
     }
    },
    "729928f966074f7b83bc9ef10fd3c99a": {
     "model_module": "@jupyter-widgets/controls",
     "model_name": "HBoxModel",
     "state": {
      "_dom_classes": [],
      "_model_module": "@jupyter-widgets/controls",
      "_model_module_version": "1.5.0",
      "_model_name": "HBoxModel",
      "_view_count": null,
      "_view_module": "@jupyter-widgets/controls",
      "_view_module_version": "1.5.0",
      "_view_name": "HBoxView",
      "box_style": "",
      "children": [
       "IPY_MODEL_821a557bb55d4e359813efe2558e2753",
       "IPY_MODEL_ca40439db4684bd4bf053590cc8e316e"
      ],
      "layout": "IPY_MODEL_d2ca1ff79e17476a8d919231bdbe7ed1"
     }
    },
    "80c9e67b372748cdb10e3cfe734c6821": {
     "model_module": "@jupyter-widgets/base",
     "model_name": "LayoutModel",
     "state": {
      "_model_module": "@jupyter-widgets/base",
      "_model_module_version": "1.2.0",
      "_model_name": "LayoutModel",
      "_view_count": null,
      "_view_module": "@jupyter-widgets/base",
      "_view_module_version": "1.2.0",
      "_view_name": "LayoutView",
      "align_content": null,
      "align_items": null,
      "align_self": null,
      "border": null,
      "bottom": null,
      "display": null,
      "flex": null,
      "flex_flow": null,
      "grid_area": null,
      "grid_auto_columns": null,
      "grid_auto_flow": null,
      "grid_auto_rows": null,
      "grid_column": null,
      "grid_gap": null,
      "grid_row": null,
      "grid_template_areas": null,
      "grid_template_columns": null,
      "grid_template_rows": null,
      "height": null,
      "justify_content": null,
      "justify_items": null,
      "left": null,
      "margin": null,
      "max_height": null,
      "max_width": null,
      "min_height": null,
      "min_width": null,
      "object_fit": null,
      "object_position": null,
      "order": null,
      "overflow": null,
      "overflow_x": null,
      "overflow_y": null,
      "padding": null,
      "right": null,
      "top": null,
      "visibility": null,
      "width": null
     }
    },
    "821a557bb55d4e359813efe2558e2753": {
     "model_module": "@jupyter-widgets/controls",
     "model_name": "FloatProgressModel",
     "state": {
      "_dom_classes": [],
      "_model_module": "@jupyter-widgets/controls",
      "_model_module_version": "1.5.0",
      "_model_name": "FloatProgressModel",
      "_view_count": null,
      "_view_module": "@jupyter-widgets/controls",
      "_view_module_version": "1.5.0",
      "_view_name": "ProgressView",
      "bar_style": "success",
      "description": "",
      "description_tooltip": null,
      "layout": "IPY_MODEL_4fe5e22c7e8a47e3a1562efdca619d06",
      "max": 1,
      "min": 0,
      "orientation": "horizontal",
      "style": "IPY_MODEL_e4b58d32f2de48f590340ebc7d3aab75",
      "value": 0
     }
    },
    "86fd2f0f278d4f338cf655c3e8b677b6": {
     "model_module": "@jupyter-widgets/base",
     "model_name": "LayoutModel",
     "state": {
      "_model_module": "@jupyter-widgets/base",
      "_model_module_version": "1.2.0",
      "_model_name": "LayoutModel",
      "_view_count": null,
      "_view_module": "@jupyter-widgets/base",
      "_view_module_version": "1.2.0",
      "_view_name": "LayoutView",
      "align_content": null,
      "align_items": null,
      "align_self": null,
      "border": null,
      "bottom": null,
      "display": null,
      "flex": null,
      "flex_flow": null,
      "grid_area": null,
      "grid_auto_columns": null,
      "grid_auto_flow": null,
      "grid_auto_rows": null,
      "grid_column": null,
      "grid_gap": null,
      "grid_row": null,
      "grid_template_areas": null,
      "grid_template_columns": null,
      "grid_template_rows": null,
      "height": null,
      "justify_content": null,
      "justify_items": null,
      "left": null,
      "margin": null,
      "max_height": null,
      "max_width": null,
      "min_height": null,
      "min_width": null,
      "object_fit": null,
      "object_position": null,
      "order": null,
      "overflow": null,
      "overflow_x": null,
      "overflow_y": null,
      "padding": null,
      "right": null,
      "top": null,
      "visibility": null,
      "width": null
     }
    },
    "8e092e3f134a4b639db89183d9ffa22b": {
     "model_module": "@jupyter-widgets/base",
     "model_name": "LayoutModel",
     "state": {
      "_model_module": "@jupyter-widgets/base",
      "_model_module_version": "1.2.0",
      "_model_name": "LayoutModel",
      "_view_count": null,
      "_view_module": "@jupyter-widgets/base",
      "_view_module_version": "1.2.0",
      "_view_name": "LayoutView",
      "align_content": null,
      "align_items": null,
      "align_self": null,
      "border": null,
      "bottom": null,
      "display": null,
      "flex": null,
      "flex_flow": null,
      "grid_area": null,
      "grid_auto_columns": null,
      "grid_auto_flow": null,
      "grid_auto_rows": null,
      "grid_column": null,
      "grid_gap": null,
      "grid_row": null,
      "grid_template_areas": null,
      "grid_template_columns": null,
      "grid_template_rows": null,
      "height": null,
      "justify_content": null,
      "justify_items": null,
      "left": null,
      "margin": null,
      "max_height": null,
      "max_width": null,
      "min_height": null,
      "min_width": null,
      "object_fit": null,
      "object_position": null,
      "order": null,
      "overflow": null,
      "overflow_x": null,
      "overflow_y": null,
      "padding": null,
      "right": null,
      "top": null,
      "visibility": null,
      "width": null
     }
    },
    "8e8a9bc054b843f4ae1cb6a2695f26e2": {
     "model_module": "@jupyter-widgets/base",
     "model_name": "LayoutModel",
     "state": {
      "_model_module": "@jupyter-widgets/base",
      "_model_module_version": "1.2.0",
      "_model_name": "LayoutModel",
      "_view_count": null,
      "_view_module": "@jupyter-widgets/base",
      "_view_module_version": "1.2.0",
      "_view_name": "LayoutView",
      "align_content": null,
      "align_items": null,
      "align_self": null,
      "border": null,
      "bottom": null,
      "display": null,
      "flex": null,
      "flex_flow": null,
      "grid_area": null,
      "grid_auto_columns": null,
      "grid_auto_flow": null,
      "grid_auto_rows": null,
      "grid_column": null,
      "grid_gap": null,
      "grid_row": null,
      "grid_template_areas": null,
      "grid_template_columns": null,
      "grid_template_rows": null,
      "height": null,
      "justify_content": null,
      "justify_items": null,
      "left": null,
      "margin": null,
      "max_height": null,
      "max_width": null,
      "min_height": null,
      "min_width": null,
      "object_fit": null,
      "object_position": null,
      "order": null,
      "overflow": null,
      "overflow_x": null,
      "overflow_y": null,
      "padding": null,
      "right": null,
      "top": null,
      "visibility": null,
      "width": null
     }
    },
    "94918a7109c0410b8c8dcfb2019d6e49": {
     "model_module": "@jupyter-widgets/controls",
     "model_name": "HTMLModel",
     "state": {
      "_dom_classes": [],
      "_model_module": "@jupyter-widgets/controls",
      "_model_module_version": "1.5.0",
      "_model_name": "HTMLModel",
      "_view_count": null,
      "_view_module": "@jupyter-widgets/controls",
      "_view_module_version": "1.5.0",
      "_view_name": "HTMLView",
      "description": "",
      "description_tooltip": null,
      "layout": "IPY_MODEL_04ed79101c5a4c6cbd3d9af1d8e324ce",
      "placeholder": "​",
      "style": "IPY_MODEL_d6f95864d605443f845cdcdee0b8eeef",
      "value": " 173/173 [33:00&lt;00:00, 11.45s/it]"
     }
    },
    "9564dd73973d4494a7e077b997bad018": {
     "model_module": "@jupyter-widgets/controls",
     "model_name": "ProgressStyleModel",
     "state": {
      "_model_module": "@jupyter-widgets/controls",
      "_model_module_version": "1.5.0",
      "_model_name": "ProgressStyleModel",
      "_view_count": null,
      "_view_module": "@jupyter-widgets/base",
      "_view_module_version": "1.2.0",
      "_view_name": "StyleView",
      "bar_color": null,
      "description_width": "initial"
     }
    },
    "9580795c81304858b090dfdb34edfd64": {
     "model_module": "@jupyter-widgets/base",
     "model_name": "LayoutModel",
     "state": {
      "_model_module": "@jupyter-widgets/base",
      "_model_module_version": "1.2.0",
      "_model_name": "LayoutModel",
      "_view_count": null,
      "_view_module": "@jupyter-widgets/base",
      "_view_module_version": "1.2.0",
      "_view_name": "LayoutView",
      "align_content": null,
      "align_items": null,
      "align_self": null,
      "border": null,
      "bottom": null,
      "display": null,
      "flex": null,
      "flex_flow": null,
      "grid_area": null,
      "grid_auto_columns": null,
      "grid_auto_flow": null,
      "grid_auto_rows": null,
      "grid_column": null,
      "grid_gap": null,
      "grid_row": null,
      "grid_template_areas": null,
      "grid_template_columns": null,
      "grid_template_rows": null,
      "height": null,
      "justify_content": null,
      "justify_items": null,
      "left": null,
      "margin": null,
      "max_height": null,
      "max_width": null,
      "min_height": null,
      "min_width": null,
      "object_fit": null,
      "object_position": null,
      "order": null,
      "overflow": null,
      "overflow_x": null,
      "overflow_y": null,
      "padding": null,
      "right": null,
      "top": null,
      "visibility": null,
      "width": null
     }
    },
    "98b8b0d6f5c34154ab0827767a1590e7": {
     "model_module": "@jupyter-widgets/controls",
     "model_name": "DescriptionStyleModel",
     "state": {
      "_model_module": "@jupyter-widgets/controls",
      "_model_module_version": "1.5.0",
      "_model_name": "DescriptionStyleModel",
      "_view_count": null,
      "_view_module": "@jupyter-widgets/base",
      "_view_module_version": "1.2.0",
      "_view_name": "StyleView",
      "description_width": ""
     }
    },
    "a36dc6e745b445c29022f76e35ff1047": {
     "model_module": "@jupyter-widgets/controls",
     "model_name": "HBoxModel",
     "state": {
      "_dom_classes": [],
      "_model_module": "@jupyter-widgets/controls",
      "_model_module_version": "1.5.0",
      "_model_name": "HBoxModel",
      "_view_count": null,
      "_view_module": "@jupyter-widgets/controls",
      "_view_module_version": "1.5.0",
      "_view_name": "HBoxView",
      "box_style": "",
      "children": [
       "IPY_MODEL_2b123df4ccec499abc0ed57ce0fbcf7d",
       "IPY_MODEL_6f847f889b3343fb9efe8e3783c6c759"
      ],
      "layout": "IPY_MODEL_00ff015800344d2c822fb9067de7a2c7"
     }
    },
    "a8de7fcf109142fd94e948ec105bbcf6": {
     "model_module": "@jupyter-widgets/controls",
     "model_name": "ProgressStyleModel",
     "state": {
      "_model_module": "@jupyter-widgets/controls",
      "_model_module_version": "1.5.0",
      "_model_name": "ProgressStyleModel",
      "_view_count": null,
      "_view_module": "@jupyter-widgets/base",
      "_view_module_version": "1.2.0",
      "_view_name": "StyleView",
      "bar_color": null,
      "description_width": "initial"
     }
    },
    "aa633fca61834088b1e1a9a4bb1e888e": {
     "model_module": "@jupyter-widgets/controls",
     "model_name": "ProgressStyleModel",
     "state": {
      "_model_module": "@jupyter-widgets/controls",
      "_model_module_version": "1.5.0",
      "_model_name": "ProgressStyleModel",
      "_view_count": null,
      "_view_module": "@jupyter-widgets/base",
      "_view_module_version": "1.2.0",
      "_view_name": "StyleView",
      "bar_color": null,
      "description_width": "initial"
     }
    },
    "ab0c0f2526a44501b5e72a19b82c4022": {
     "model_module": "@jupyter-widgets/controls",
     "model_name": "HTMLModel",
     "state": {
      "_dom_classes": [],
      "_model_module": "@jupyter-widgets/controls",
      "_model_module_version": "1.5.0",
      "_model_name": "HTMLModel",
      "_view_count": null,
      "_view_module": "@jupyter-widgets/controls",
      "_view_module_version": "1.5.0",
      "_view_name": "HTMLView",
      "description": "",
      "description_tooltip": null,
      "layout": "IPY_MODEL_3c059194a67f4d37be98dfd22121edaf",
      "placeholder": "​",
      "style": "IPY_MODEL_3ed32593509b4a23bb2b639834b38f32",
      "value": " 27/27 [04:06&lt;00:00,  9.14s/it]"
     }
    },
    "bc618126ce264f0ea0d5db8b5e1309a5": {
     "model_module": "@jupyter-widgets/controls",
     "model_name": "FloatProgressModel",
     "state": {
      "_dom_classes": [],
      "_model_module": "@jupyter-widgets/controls",
      "_model_module_version": "1.5.0",
      "_model_name": "FloatProgressModel",
      "_view_count": null,
      "_view_module": "@jupyter-widgets/controls",
      "_view_module_version": "1.5.0",
      "_view_name": "ProgressView",
      "bar_style": "success",
      "description": "Images: 100%",
      "description_tooltip": null,
      "layout": "IPY_MODEL_8e8a9bc054b843f4ae1cb6a2695f26e2",
      "max": 173,
      "min": 0,
      "orientation": "horizontal",
      "style": "IPY_MODEL_aa633fca61834088b1e1a9a4bb1e888e",
      "value": 173
     }
    },
    "ca40439db4684bd4bf053590cc8e316e": {
     "model_module": "@jupyter-widgets/controls",
     "model_name": "HTMLModel",
     "state": {
      "_dom_classes": [],
      "_model_module": "@jupyter-widgets/controls",
      "_model_module_version": "1.5.0",
      "_model_name": "HTMLModel",
      "_view_count": null,
      "_view_module": "@jupyter-widgets/controls",
      "_view_module_version": "1.5.0",
      "_view_name": "HTMLView",
      "description": "",
      "description_tooltip": null,
      "layout": "IPY_MODEL_d0839b7858b74b9fbc3d348267551c5a",
      "placeholder": "​",
      "style": "IPY_MODEL_e34b5c5abcdd44e289bba468ca6095bf",
      "value": " 0/0 [06:12&lt;?, ?it/s]"
     }
    },
    "ca734496d7444857b6cc3d32e09df387": {
     "model_module": "@jupyter-widgets/controls",
     "model_name": "HBoxModel",
     "state": {
      "_dom_classes": [],
      "_model_module": "@jupyter-widgets/controls",
      "_model_module_version": "1.5.0",
      "_model_name": "HBoxModel",
      "_view_count": null,
      "_view_module": "@jupyter-widgets/controls",
      "_view_module_version": "1.5.0",
      "_view_name": "HBoxView",
      "box_style": "",
      "children": [
       "IPY_MODEL_bc618126ce264f0ea0d5db8b5e1309a5",
       "IPY_MODEL_94918a7109c0410b8c8dcfb2019d6e49"
      ],
      "layout": "IPY_MODEL_6b4660b0d95c400eba2d35ff5badf4a5"
     }
    },
    "cbd89996e5eb449cbb3608091ed814f6": {
     "model_module": "@jupyter-widgets/controls",
     "model_name": "HTMLModel",
     "state": {
      "_dom_classes": [],
      "_model_module": "@jupyter-widgets/controls",
      "_model_module_version": "1.5.0",
      "_model_name": "HTMLModel",
      "_view_count": null,
      "_view_module": "@jupyter-widgets/controls",
      "_view_module_version": "1.5.0",
      "_view_name": "HTMLView",
      "description": "",
      "description_tooltip": null,
      "layout": "IPY_MODEL_4fd855d876f2450789b932980ba30584",
      "placeholder": "​",
      "style": "IPY_MODEL_13d575496b54415f987bd4b5105c2dfb",
      "value": " 2/2 [00:01&lt;00:00,  1.05it/s]"
     }
    },
    "d0839b7858b74b9fbc3d348267551c5a": {
     "model_module": "@jupyter-widgets/base",
     "model_name": "LayoutModel",
     "state": {
      "_model_module": "@jupyter-widgets/base",
      "_model_module_version": "1.2.0",
      "_model_name": "LayoutModel",
      "_view_count": null,
      "_view_module": "@jupyter-widgets/base",
      "_view_module_version": "1.2.0",
      "_view_name": "LayoutView",
      "align_content": null,
      "align_items": null,
      "align_self": null,
      "border": null,
      "bottom": null,
      "display": null,
      "flex": null,
      "flex_flow": null,
      "grid_area": null,
      "grid_auto_columns": null,
      "grid_auto_flow": null,
      "grid_auto_rows": null,
      "grid_column": null,
      "grid_gap": null,
      "grid_row": null,
      "grid_template_areas": null,
      "grid_template_columns": null,
      "grid_template_rows": null,
      "height": null,
      "justify_content": null,
      "justify_items": null,
      "left": null,
      "margin": null,
      "max_height": null,
      "max_width": null,
      "min_height": null,
      "min_width": null,
      "object_fit": null,
      "object_position": null,
      "order": null,
      "overflow": null,
      "overflow_x": null,
      "overflow_y": null,
      "padding": null,
      "right": null,
      "top": null,
      "visibility": null,
      "width": null
     }
    },
    "d2ca1ff79e17476a8d919231bdbe7ed1": {
     "model_module": "@jupyter-widgets/base",
     "model_name": "LayoutModel",
     "state": {
      "_model_module": "@jupyter-widgets/base",
      "_model_module_version": "1.2.0",
      "_model_name": "LayoutModel",
      "_view_count": null,
      "_view_module": "@jupyter-widgets/base",
      "_view_module_version": "1.2.0",
      "_view_name": "LayoutView",
      "align_content": null,
      "align_items": null,
      "align_self": null,
      "border": null,
      "bottom": null,
      "display": null,
      "flex": null,
      "flex_flow": null,
      "grid_area": null,
      "grid_auto_columns": null,
      "grid_auto_flow": null,
      "grid_auto_rows": null,
      "grid_column": null,
      "grid_gap": null,
      "grid_row": null,
      "grid_template_areas": null,
      "grid_template_columns": null,
      "grid_template_rows": null,
      "height": null,
      "justify_content": null,
      "justify_items": null,
      "left": null,
      "margin": null,
      "max_height": null,
      "max_width": null,
      "min_height": null,
      "min_width": null,
      "object_fit": null,
      "object_position": null,
      "order": null,
      "overflow": null,
      "overflow_x": null,
      "overflow_y": null,
      "padding": null,
      "right": null,
      "top": null,
      "visibility": null,
      "width": null
     }
    },
    "d6f95864d605443f845cdcdee0b8eeef": {
     "model_module": "@jupyter-widgets/controls",
     "model_name": "DescriptionStyleModel",
     "state": {
      "_model_module": "@jupyter-widgets/controls",
      "_model_module_version": "1.5.0",
      "_model_name": "DescriptionStyleModel",
      "_view_count": null,
      "_view_module": "@jupyter-widgets/base",
      "_view_module_version": "1.2.0",
      "_view_name": "StyleView",
      "description_width": ""
     }
    },
    "e34b5c5abcdd44e289bba468ca6095bf": {
     "model_module": "@jupyter-widgets/controls",
     "model_name": "DescriptionStyleModel",
     "state": {
      "_model_module": "@jupyter-widgets/controls",
      "_model_module_version": "1.5.0",
      "_model_name": "DescriptionStyleModel",
      "_view_count": null,
      "_view_module": "@jupyter-widgets/base",
      "_view_module_version": "1.2.0",
      "_view_name": "StyleView",
      "description_width": ""
     }
    },
    "e4b58d32f2de48f590340ebc7d3aab75": {
     "model_module": "@jupyter-widgets/controls",
     "model_name": "ProgressStyleModel",
     "state": {
      "_model_module": "@jupyter-widgets/controls",
      "_model_module_version": "1.5.0",
      "_model_name": "ProgressStyleModel",
      "_view_count": null,
      "_view_module": "@jupyter-widgets/base",
      "_view_module_version": "1.2.0",
      "_view_name": "StyleView",
      "bar_color": null,
      "description_width": "initial"
     }
    },
    "e4f8816990cf4bb5af4aefc83a717929": {
     "model_module": "@jupyter-widgets/base",
     "model_name": "LayoutModel",
     "state": {
      "_model_module": "@jupyter-widgets/base",
      "_model_module_version": "1.2.0",
      "_model_name": "LayoutModel",
      "_view_count": null,
      "_view_module": "@jupyter-widgets/base",
      "_view_module_version": "1.2.0",
      "_view_name": "LayoutView",
      "align_content": null,
      "align_items": null,
      "align_self": null,
      "border": null,
      "bottom": null,
      "display": null,
      "flex": null,
      "flex_flow": null,
      "grid_area": null,
      "grid_auto_columns": null,
      "grid_auto_flow": null,
      "grid_auto_rows": null,
      "grid_column": null,
      "grid_gap": null,
      "grid_row": null,
      "grid_template_areas": null,
      "grid_template_columns": null,
      "grid_template_rows": null,
      "height": null,
      "justify_content": null,
      "justify_items": null,
      "left": null,
      "margin": null,
      "max_height": null,
      "max_width": null,
      "min_height": null,
      "min_width": null,
      "object_fit": null,
      "object_position": null,
      "order": null,
      "overflow": null,
      "overflow_x": null,
      "overflow_y": null,
      "padding": null,
      "right": null,
      "top": null,
      "visibility": null,
      "width": null
     }
    },
    "ecb24134e08a4b91860a825c4389d43c": {
     "model_module": "@jupyter-widgets/controls",
     "model_name": "ProgressStyleModel",
     "state": {
      "_model_module": "@jupyter-widgets/controls",
      "_model_module_version": "1.5.0",
      "_model_name": "ProgressStyleModel",
      "_view_count": null,
      "_view_module": "@jupyter-widgets/base",
      "_view_module_version": "1.2.0",
      "_view_name": "StyleView",
      "bar_color": null,
      "description_width": "initial"
     }
    },
    "ee5484ee8ade4632af4cd8100556f18b": {
     "model_module": "@jupyter-widgets/controls",
     "model_name": "HBoxModel",
     "state": {
      "_dom_classes": [],
      "_model_module": "@jupyter-widgets/controls",
      "_model_module_version": "1.5.0",
      "_model_name": "HBoxModel",
      "_view_count": null,
      "_view_module": "@jupyter-widgets/controls",
      "_view_module_version": "1.5.0",
      "_view_name": "HBoxView",
      "box_style": "",
      "children": [
       "IPY_MODEL_1d39263f87bc47409181d492981a8e3f",
       "IPY_MODEL_ab0c0f2526a44501b5e72a19b82c4022"
      ],
      "layout": "IPY_MODEL_67e77e28f7e0470294ca35f9e738a5ce"
     }
    }
   }
  }
 },
 "nbformat": 4,
 "nbformat_minor": 4
}
