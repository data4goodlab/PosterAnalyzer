{
 "cells": [
  {
   "cell_type": "markdown",
   "metadata": {
    "id": "OTawP50f2xoI"
   },
   "source": [
    "## Face Valiation\n"
   ]
  },
  {
   "cell_type": "code",
   "execution_count": 137,
   "metadata": {
    "id": "y0PQ9DTi2xoK"
   },
   "outputs": [],
   "source": [
    "%reload_ext autoreload\n",
    "%autoreload 2\n",
    "%matplotlib inline"
   ]
  },
  {
   "cell_type": "code",
   "execution_count": 138,
   "metadata": {
    "colab": {
     "base_uri": "https://localhost:8080/"
    },
    "collapsed": true,
    "id": "Kg9ezzIzaE7o",
    "jupyter": {
     "outputs_hidden": true
    },
    "outputId": "e4191ef7-8c14-4801-e071-ce012a14d74d"
   },
   "outputs": [
    {
     "name": "stdout",
     "output_type": "stream",
     "text": [
      "Requirement already satisfied: tmdbsimple in /home/morlevy/anaconda3/envs/poster_analyser/lib/python3.7/site-packages (2.7.0)\n",
      "Requirement already satisfied: requests in /home/morlevy/anaconda3/envs/poster_analyser/lib/python3.7/site-packages (from tmdbsimple) (2.25.0)\n",
      "Requirement already satisfied: urllib3<1.27,>=1.21.1 in /home/morlevy/anaconda3/envs/poster_analyser/lib/python3.7/site-packages (from requests->tmdbsimple) (1.26.2)\n",
      "Requirement already satisfied: idna<3,>=2.5 in /home/morlevy/anaconda3/envs/poster_analyser/lib/python3.7/site-packages (from requests->tmdbsimple) (2.10)\n",
      "Requirement already satisfied: chardet<4,>=3.0.2 in /home/morlevy/anaconda3/envs/poster_analyser/lib/python3.7/site-packages (from requests->tmdbsimple) (3.0.4)\n",
      "Requirement already satisfied: certifi>=2017.4.17 in /home/morlevy/anaconda3/envs/poster_analyser/lib/python3.7/site-packages (from requests->tmdbsimple) (2020.12.5)\n",
      "Requirement already satisfied: mtcnn in /home/morlevy/anaconda3/envs/poster_analyser/lib/python3.7/site-packages (0.1.0)\n",
      "Requirement already satisfied: opencv-python>=4.1.0 in /home/morlevy/anaconda3/envs/poster_analyser/lib/python3.7/site-packages (from mtcnn) (4.1.2.30)\n",
      "Requirement already satisfied: keras>=2.0.0 in /home/morlevy/anaconda3/envs/poster_analyser/lib/python3.7/site-packages (from mtcnn) (2.4.3)\n",
      "Requirement already satisfied: scipy>=0.14 in /home/morlevy/anaconda3/envs/poster_analyser/lib/python3.7/site-packages (from keras>=2.0.0->mtcnn) (1.5.4)\n",
      "Requirement already satisfied: pyyaml in /home/morlevy/anaconda3/envs/poster_analyser/lib/python3.7/site-packages (from keras>=2.0.0->mtcnn) (5.3.1)\n",
      "Requirement already satisfied: h5py in /home/morlevy/anaconda3/envs/poster_analyser/lib/python3.7/site-packages (from keras>=2.0.0->mtcnn) (3.1.0)\n",
      "Requirement already satisfied: numpy>=1.9.1 in /home/morlevy/anaconda3/envs/poster_analyser/lib/python3.7/site-packages (from keras>=2.0.0->mtcnn) (1.17.4)\n",
      "Requirement already satisfied: numpy>=1.9.1 in /home/morlevy/anaconda3/envs/poster_analyser/lib/python3.7/site-packages (from keras>=2.0.0->mtcnn) (1.17.4)\n",
      "Requirement already satisfied: cached-property in /home/morlevy/anaconda3/envs/poster_analyser/lib/python3.7/site-packages (from h5py->keras>=2.0.0->mtcnn) (1.5.2)\n",
      "Requirement already satisfied: numpy>=1.9.1 in /home/morlevy/anaconda3/envs/poster_analyser/lib/python3.7/site-packages (from keras>=2.0.0->mtcnn) (1.17.4)\n",
      "Requirement already satisfied: numpy>=1.9.1 in /home/morlevy/anaconda3/envs/poster_analyser/lib/python3.7/site-packages (from keras>=2.0.0->mtcnn) (1.17.4)\n",
      "Requirement already satisfied: fastai in /home/morlevy/anaconda3/envs/poster_analyser/lib/python3.7/site-packages (2.1.10)\n",
      "Requirement already satisfied: pyyaml in /home/morlevy/anaconda3/envs/poster_analyser/lib/python3.7/site-packages (from fastai) (5.3.1)\n",
      "Requirement already satisfied: pillow>6.0.0 in /home/morlevy/anaconda3/envs/poster_analyser/lib/python3.7/site-packages (from fastai) (8.0.1)\n",
      "Requirement already satisfied: fastcore>=1.3.8 in /home/morlevy/anaconda3/envs/poster_analyser/lib/python3.7/site-packages (from fastai) (1.3.12)\n",
      "Requirement already satisfied: packaging in /home/morlevy/anaconda3/envs/poster_analyser/lib/python3.7/site-packages (from fastai) (20.7)\n",
      "Requirement already satisfied: pandas in /home/morlevy/anaconda3/envs/poster_analyser/lib/python3.7/site-packages (from fastai) (0.25.3)\n",
      "Requirement already satisfied: matplotlib in /home/morlevy/anaconda3/envs/poster_analyser/lib/python3.7/site-packages (from fastai) (3.3.3)\n",
      "Requirement already satisfied: requests in /home/morlevy/anaconda3/envs/poster_analyser/lib/python3.7/site-packages (from fastai) (2.25.0)\n",
      "Requirement already satisfied: torch>=1.7.0 in /home/morlevy/anaconda3/envs/poster_analyser/lib/python3.7/site-packages (from fastai) (1.7.1)\n",
      "Requirement already satisfied: spacy in /home/morlevy/anaconda3/envs/poster_analyser/lib/python3.7/site-packages (from fastai) (2.3.5)\n",
      "Requirement already satisfied: scikit-learn in /home/morlevy/anaconda3/envs/poster_analyser/lib/python3.7/site-packages (from fastai) (0.23.2)\n",
      "Requirement already satisfied: pip in /home/morlevy/anaconda3/envs/poster_analyser/lib/python3.7/site-packages (from fastai) (20.3.1)\n",
      "Requirement already satisfied: torchvision>=0.8 in /home/morlevy/anaconda3/envs/poster_analyser/lib/python3.7/site-packages (from fastai) (0.8.2)\n",
      "Requirement already satisfied: fastprogress>=0.2.4 in /home/morlevy/anaconda3/envs/poster_analyser/lib/python3.7/site-packages (from fastai) (1.0.0)\n",
      "Requirement already satisfied: scipy in /home/morlevy/anaconda3/envs/poster_analyser/lib/python3.7/site-packages (from fastai) (1.5.4)\n",
      "Requirement already satisfied: packaging in /home/morlevy/anaconda3/envs/poster_analyser/lib/python3.7/site-packages (from fastai) (20.7)\n",
      "Requirement already satisfied: pip in /home/morlevy/anaconda3/envs/poster_analyser/lib/python3.7/site-packages (from fastai) (20.3.1)\n",
      "Requirement already satisfied: numpy in /home/morlevy/anaconda3/envs/poster_analyser/lib/python3.7/site-packages (from fastprogress>=0.2.4->fastai) (1.17.4)\n",
      "Requirement already satisfied: pillow>6.0.0 in /home/morlevy/anaconda3/envs/poster_analyser/lib/python3.7/site-packages (from fastai) (8.0.1)\n",
      "Requirement already satisfied: cycler>=0.10 in /home/morlevy/anaconda3/envs/poster_analyser/lib/python3.7/site-packages (from matplotlib->fastai) (0.10.0)\n",
      "Requirement already satisfied: pyparsing!=2.0.4,!=2.1.2,!=2.1.6,>=2.0.3 in /home/morlevy/anaconda3/envs/poster_analyser/lib/python3.7/site-packages (from matplotlib->fastai) (2.4.7)\n",
      "Requirement already satisfied: python-dateutil>=2.1 in /home/morlevy/anaconda3/envs/poster_analyser/lib/python3.7/site-packages (from matplotlib->fastai) (2.8.1)\n",
      "Requirement already satisfied: kiwisolver>=1.0.1 in /home/morlevy/anaconda3/envs/poster_analyser/lib/python3.7/site-packages (from matplotlib->fastai) (1.3.1)\n",
      "Requirement already satisfied: numpy in /home/morlevy/anaconda3/envs/poster_analyser/lib/python3.7/site-packages (from fastprogress>=0.2.4->fastai) (1.17.4)\n",
      "Requirement already satisfied: six in /home/morlevy/anaconda3/envs/poster_analyser/lib/python3.7/site-packages (from cycler>=0.10->matplotlib->fastai) (1.15.0)\n",
      "Requirement already satisfied: pyparsing!=2.0.4,!=2.1.2,!=2.1.6,>=2.0.3 in /home/morlevy/anaconda3/envs/poster_analyser/lib/python3.7/site-packages (from matplotlib->fastai) (2.4.7)\n",
      "Requirement already satisfied: python-dateutil>=2.1 in /home/morlevy/anaconda3/envs/poster_analyser/lib/python3.7/site-packages (from matplotlib->fastai) (2.8.1)\n",
      "Requirement already satisfied: numpy in /home/morlevy/anaconda3/envs/poster_analyser/lib/python3.7/site-packages (from fastprogress>=0.2.4->fastai) (1.17.4)\n",
      "Requirement already satisfied: pytz>=2017.2 in /home/morlevy/anaconda3/envs/poster_analyser/lib/python3.7/site-packages (from pandas->fastai) (2020.4)\n",
      "Requirement already satisfied: six in /home/morlevy/anaconda3/envs/poster_analyser/lib/python3.7/site-packages (from cycler>=0.10->matplotlib->fastai) (1.15.0)\n",
      "Requirement already satisfied: chardet<4,>=3.0.2 in /home/morlevy/anaconda3/envs/poster_analyser/lib/python3.7/site-packages (from requests->fastai) (3.0.4)\n",
      "Requirement already satisfied: certifi>=2017.4.17 in /home/morlevy/anaconda3/envs/poster_analyser/lib/python3.7/site-packages (from requests->fastai) (2020.12.5)\n",
      "Requirement already satisfied: idna<3,>=2.5 in /home/morlevy/anaconda3/envs/poster_analyser/lib/python3.7/site-packages (from requests->fastai) (2.10)\n",
      "Requirement already satisfied: urllib3<1.27,>=1.21.1 in /home/morlevy/anaconda3/envs/poster_analyser/lib/python3.7/site-packages (from requests->fastai) (1.26.2)\n",
      "Requirement already satisfied: joblib>=0.11 in /home/morlevy/anaconda3/envs/poster_analyser/lib/python3.7/site-packages (from scikit-learn->fastai) (1.0.0)\n",
      "Requirement already satisfied: threadpoolctl>=2.0.0 in /home/morlevy/anaconda3/envs/poster_analyser/lib/python3.7/site-packages (from scikit-learn->fastai) (2.1.0)\n",
      "Requirement already satisfied: numpy in /home/morlevy/anaconda3/envs/poster_analyser/lib/python3.7/site-packages (from fastprogress>=0.2.4->fastai) (1.17.4)\n",
      "Requirement already satisfied: scipy in /home/morlevy/anaconda3/envs/poster_analyser/lib/python3.7/site-packages (from fastai) (1.5.4)\n",
      "Requirement already satisfied: numpy in /home/morlevy/anaconda3/envs/poster_analyser/lib/python3.7/site-packages (from fastprogress>=0.2.4->fastai) (1.17.4)\n",
      "Requirement already satisfied: tqdm<5.0.0,>=4.38.0 in /home/morlevy/anaconda3/envs/poster_analyser/lib/python3.7/site-packages (from spacy->fastai) (4.54.1)\n",
      "Requirement already satisfied: preshed<3.1.0,>=3.0.2 in /home/morlevy/anaconda3/envs/poster_analyser/lib/python3.7/site-packages (from spacy->fastai) (3.0.5)\n",
      "Requirement already satisfied: murmurhash<1.1.0,>=0.28.0 in /home/morlevy/anaconda3/envs/poster_analyser/lib/python3.7/site-packages (from spacy->fastai) (1.0.5)\n",
      "Requirement already satisfied: setuptools in /home/morlevy/anaconda3/envs/poster_analyser/lib/python3.7/site-packages (from spacy->fastai) (51.0.0.post20201207)\n",
      "Requirement already satisfied: blis<0.8.0,>=0.4.0 in /home/morlevy/anaconda3/envs/poster_analyser/lib/python3.7/site-packages (from spacy->fastai) (0.7.4)\n",
      "Requirement already satisfied: catalogue<1.1.0,>=0.0.7 in /home/morlevy/anaconda3/envs/poster_analyser/lib/python3.7/site-packages (from spacy->fastai) (1.0.0)\n",
      "Requirement already satisfied: plac<1.2.0,>=0.9.6 in /home/morlevy/anaconda3/envs/poster_analyser/lib/python3.7/site-packages (from spacy->fastai) (1.1.3)\n",
      "Requirement already satisfied: cymem<2.1.0,>=2.0.2 in /home/morlevy/anaconda3/envs/poster_analyser/lib/python3.7/site-packages (from spacy->fastai) (2.0.5)\n",
      "Requirement already satisfied: requests in /home/morlevy/anaconda3/envs/poster_analyser/lib/python3.7/site-packages (from fastai) (2.25.0)\n",
      "Requirement already satisfied: wasabi<1.1.0,>=0.4.0 in /home/morlevy/anaconda3/envs/poster_analyser/lib/python3.7/site-packages (from spacy->fastai) (0.8.0)\n",
      "Requirement already satisfied: srsly<1.1.0,>=1.0.2 in /home/morlevy/anaconda3/envs/poster_analyser/lib/python3.7/site-packages (from spacy->fastai) (1.0.5)\n",
      "Requirement already satisfied: thinc<7.5.0,>=7.4.1 in /home/morlevy/anaconda3/envs/poster_analyser/lib/python3.7/site-packages (from spacy->fastai) (7.4.5)\n",
      "Requirement already satisfied: numpy in /home/morlevy/anaconda3/envs/poster_analyser/lib/python3.7/site-packages (from fastprogress>=0.2.4->fastai) (1.17.4)\n",
      "Requirement already satisfied: numpy in /home/morlevy/anaconda3/envs/poster_analyser/lib/python3.7/site-packages (from fastprogress>=0.2.4->fastai) (1.17.4)\n",
      "Requirement already satisfied: importlib-metadata>=0.20 in /home/morlevy/anaconda3/envs/poster_analyser/lib/python3.7/site-packages (from catalogue<1.1.0,>=0.0.7->spacy->fastai) (3.1.1)\n",
      "Requirement already satisfied: zipp>=0.5 in /home/morlevy/anaconda3/envs/poster_analyser/lib/python3.7/site-packages (from importlib-metadata>=0.20->catalogue<1.1.0,>=0.0.7->spacy->fastai) (3.4.0)\n",
      "Requirement already satisfied: murmurhash<1.1.0,>=0.28.0 in /home/morlevy/anaconda3/envs/poster_analyser/lib/python3.7/site-packages (from spacy->fastai) (1.0.5)\n",
      "Requirement already satisfied: cymem<2.1.0,>=2.0.2 in /home/morlevy/anaconda3/envs/poster_analyser/lib/python3.7/site-packages (from spacy->fastai) (2.0.5)\n",
      "Requirement already satisfied: tqdm<5.0.0,>=4.38.0 in /home/morlevy/anaconda3/envs/poster_analyser/lib/python3.7/site-packages (from spacy->fastai) (4.54.1)\n",
      "Requirement already satisfied: srsly<1.1.0,>=1.0.2 in /home/morlevy/anaconda3/envs/poster_analyser/lib/python3.7/site-packages (from spacy->fastai) (1.0.5)\n",
      "Requirement already satisfied: wasabi<1.1.0,>=0.4.0 in /home/morlevy/anaconda3/envs/poster_analyser/lib/python3.7/site-packages (from spacy->fastai) (0.8.0)\n",
      "Requirement already satisfied: plac<1.2.0,>=0.9.6 in /home/morlevy/anaconda3/envs/poster_analyser/lib/python3.7/site-packages (from spacy->fastai) (1.1.3)\n",
      "Requirement already satisfied: murmurhash<1.1.0,>=0.28.0 in /home/morlevy/anaconda3/envs/poster_analyser/lib/python3.7/site-packages (from spacy->fastai) (1.0.5)\n",
      "Requirement already satisfied: blis<0.8.0,>=0.4.0 in /home/morlevy/anaconda3/envs/poster_analyser/lib/python3.7/site-packages (from spacy->fastai) (0.7.4)\n",
      "Requirement already satisfied: preshed<3.1.0,>=3.0.2 in /home/morlevy/anaconda3/envs/poster_analyser/lib/python3.7/site-packages (from spacy->fastai) (3.0.5)\n",
      "Requirement already satisfied: catalogue<1.1.0,>=0.0.7 in /home/morlevy/anaconda3/envs/poster_analyser/lib/python3.7/site-packages (from spacy->fastai) (1.0.0)\n",
      "Requirement already satisfied: cymem<2.1.0,>=2.0.2 in /home/morlevy/anaconda3/envs/poster_analyser/lib/python3.7/site-packages (from spacy->fastai) (2.0.5)\n",
      "Requirement already satisfied: numpy in /home/morlevy/anaconda3/envs/poster_analyser/lib/python3.7/site-packages (from fastprogress>=0.2.4->fastai) (1.17.4)\n",
      "Requirement already satisfied: numpy in /home/morlevy/anaconda3/envs/poster_analyser/lib/python3.7/site-packages (from fastprogress>=0.2.4->fastai) (1.17.4)\n",
      "Requirement already satisfied: typing-extensions in /home/morlevy/anaconda3/envs/poster_analyser/lib/python3.7/site-packages (from torch>=1.7.0->fastai) (3.7.4.3)\n",
      "Requirement already satisfied: numpy in /home/morlevy/anaconda3/envs/poster_analyser/lib/python3.7/site-packages (from fastprogress>=0.2.4->fastai) (1.17.4)\n",
      "Requirement already satisfied: torch>=1.7.0 in /home/morlevy/anaconda3/envs/poster_analyser/lib/python3.7/site-packages (from fastai) (1.7.1)\n",
      "Requirement already satisfied: pillow>6.0.0 in /home/morlevy/anaconda3/envs/poster_analyser/lib/python3.7/site-packages (from fastai) (8.0.1)\n"
     ]
    }
   ],
   "source": [
    "! pip install tmdbsimple\n",
    "! pip install mtcnn \n",
    "!pip install --upgrade fastai\n",
    "from fastai.vision.all import *"
   ]
  },
  {
   "cell_type": "code",
   "execution_count": 152,
   "metadata": {},
   "outputs": [
    {
     "data": {
      "text/plain": [
       "file_path                                                                                                                                                                                                                                                                                                                                                                                                                                                                                                                                                                                          data/actors/Matt O'Leary-0641610/0.jpg\n",
       "Name                                                                                                                                                                                                                                                                                                                                                                                                                                                                                                                                                                                                                         Matt O'Leary\n",
       "imdb_id                                                                                                                                                                                                                                                                                                                                                                                                                                                                                                                                                                                                                           0641610\n",
       "faces                                                                                                                                                                                                                                                                                                                                                                                                                                                                                                                                                                                                            [(382, 1027, 1235, 390)]\n",
       "face_encodings    [[-0.14051440358161926, -0.03507411852478981, 0.004307668190449476, -0.057922497391700745, -0.1372857689857483, -0.018999386578798294, -0.06982143968343735, -0.040202680975198746, 0.1494378000497818, -0.05029822885990143, 0.1859482079744339, 0.03989642858505249, -0.2576342225074768, -0.034314412623643875, 0.02638774737715721, 0.10848788172006607, -0.1647992581129074, -0.06193661317229271, -0.012667745351791382, -0.10107319056987762, 0.05056280270218849, 0.08142411708831787, 0.039948783814907074, 0.11201070249080658, -0.12116330116987228, -0.24510671198368073, -0.09224596619606018, -0.15342...\n",
       "new_file_path                                                                                                                                                                                                                                                                                                                                                                                                                                                                                                                                                                                                  Matt O'Leary-0641610/0.jpg\n",
       "actor_dir                                                                                                                                                                                                                                                                                                                                                                                                                                                                                                                                                                                                            Matt O'Leary-0641610\n",
       "Name: 12624, dtype: object"
      ]
     },
     "execution_count": 152,
     "metadata": {},
     "output_type": "execute_result"
    }
   ],
   "source": [
    "with Path(data_path / \"actor_face_encodings.pkl\").open(\"rb\") as f:\n",
    "    actors_df = pickle.load(f)\n",
    "\n",
    "actors_df[\"actor_dir\"] = actors_df[\"new_file_path\"].str.partition(\"/\")[0]\n",
    "# for i in actors_df[\"new_file_path\"].str.strip(\"/0.jpg\"):\n",
    "#     print(i)\n",
    "#     break\n",
    "actors_df.iloc[12624]\n",
    "# actors_df[actors_df[\"Name\"] == \"Sandra Borgmann\"]\n",
    "# len(actors_df)"
   ]
  },
  {
   "cell_type": "code",
   "execution_count": 154,
   "metadata": {},
   "outputs": [
    {
     "name": "stdout",
     "output_type": "stream",
     "text": [
      "0.jpg  1.jpg  actor.pkl  wikidata.pkl\n"
     ]
    }
   ],
   "source": [
    "! ls /data/Posters/data/actors/Matt\\ O\\'Leary-0641610"
   ]
  },
  {
   "cell_type": "code",
   "execution_count": null,
   "metadata": {
    "scrolled": true
   },
   "outputs": [
    {
     "name": "stdout",
     "output_type": "stream",
     "text": [
      "saved Lyudmila Zaytseva 0\n",
      "failed for Lyudmila Zaytseva - 0\n",
      "saved Brendan Mackey 0\n",
      "saved Kumiko Aso 0\n",
      "saved Kumiko Aso 1\n",
      "saved Kumiko Aso 2\n",
      "saved Marie Lohr 0\n",
      "saved Germain Houde 0\n",
      "saved Robin Bailey 0\n",
      "saved Robin Bailey 1\n",
      "saved Robert Arkins 0\n",
      "failed for Robert Arkins - 0\n",
      "saved Shaan Shahid 0\n",
      "saved Lionel Stander 0\n",
      "saved Sudheesh 0\n",
      "saved Ambrosine Phillpotts 0\n",
      "saved Roscoe Ates 0\n",
      "saved Huntz Hall 0\n",
      "saved Geno Segers 0\n",
      "saved Aadhi Pinisetty 0\n",
      "saved Nagendra Babu 0\n",
      "saved Nicholas X. Parsons 0\n",
      "saved René Dary 0\n",
      "saved René Dary 1\n",
      "saved Paul Barrett 0\n",
      "saved Rosalind Russell 0\n",
      "saved Rosalind Russell 1\n",
      "saved Rosalind Russell 2\n",
      "saved Toby Regbo 0\n",
      "saved Erika Toda 0\n",
      "saved Erika Toda 1\n",
      "saved Saniyya Sidney 0\n",
      "saved Saniyya Sidney 1\n",
      "saved Saniyya Sidney 2\n",
      "saved Jimi Hendrix 0\n",
      "saved Jimi Hendrix 1\n",
      "saved Bill Skarsgård 0\n",
      "saved Bill Skarsgård 1\n",
      "saved Maurice Bénichou 0\n",
      "saved Steve Cochran 0\n",
      "saved Steve Cochran 1\n",
      "saved Chico Marx 0\n",
      "saved Aleksei Loktev 0\n",
      "saved Ariadna Cabrol 0\n",
      "saved Doro Merande 0\n",
      "failed for Doro Merande - 0\n",
      "saved Surjith 0\n",
      "saved Heidi Brühl 0\n",
      "saved Kylie Minogue 0\n",
      "failed for Kylie Minogue - 0\n",
      "saved Kayo Matsuo 0\n",
      "failed for George Memmoli - 0\n",
      "saved Tracey Cherelle Jones 0\n",
      "saved Stéphane Rousseau 0\n",
      "saved Leif Erickson 0\n",
      "saved Leif Erickson 1\n",
      "saved Joanna Shimkus 0\n",
      "saved Joanna Shimkus 1\n",
      "saved Charlotte de Turckheim 0\n",
      "saved Bonar Colleano 0\n",
      "saved Nína Dögg Filippusdóttir 0\n",
      "saved Pip Carter 0\n",
      "saved Robert Hays 0\n",
      "saved Robert Hays 1\n",
      "saved Robert Hays 2\n",
      "saved Elliott Gould 0\n",
      "saved Elliott Gould 1\n",
      "saved Elliott Gould 2\n",
      "saved Bess Motta 0\n",
      "saved John Amos 0\n",
      "saved John Amos 1\n",
      "saved Bindu 0\n",
      "saved Bindu 1\n",
      "saved Christine Noonan 0\n",
      "failed for Christine Noonan - 0\n",
      "saved Gretchen Corbett 0\n",
      "failed for Gretchen Corbett - 0\n",
      "saved Zoe Saldana 0\n",
      "saved Zoe Saldana 1\n",
      "saved Zoe Saldana 2\n",
      "saved Milton Selzer 0\n",
      "saved Raj Babbar 0\n",
      "failed for Krishna Kumar - 0\n",
      "saved Robin Thomas 0\n",
      "saved Robin Thomas 1\n",
      "saved Robin Thomas 2\n",
      "saved Guillaume Canet 0\n",
      "saved Guillaume Canet 1\n",
      "saved Guillaume Canet 2\n",
      "saved Maddie Corman 0\n",
      "failed for Maddie Corman - 0\n",
      "saved Katherine Parkinson 0\n",
      "saved Katherine Parkinson 1\n",
      "saved Katherine Parkinson 2\n",
      "saved Joachim Król 0\n",
      "saved Kelly LeBrock 0\n",
      "saved Kelly LeBrock 1\n",
      "saved Kelly LeBrock 2\n",
      "saved Brandon Call 0\n",
      "saved Brandon Call 1\n",
      "failed for Brandon Call - 1\n",
      "saved Claudia Celedón 0\n",
      "saved Greg Germann 0\n",
      "saved Lucas Jade Zumann 0\n",
      "saved Tim Kalkhof 0\n",
      "failed for Antonio Aquitania - 0\n",
      "failed for Antonio Aquitania - 0\n",
      "saved Sally Jane Bruce 0\n",
      "saved Jason Watkins 0\n",
      "saved Jiiva 0\n",
      "saved Jiiva 1\n",
      "saved Jiiva 2\n",
      "saved Al Ernest Garcia 0\n",
      "saved Clifton Webb 0\n",
      "saved Kate McNeil 0\n",
      "saved Charles Kimbrough 0\n",
      "saved Jake T. Austin 0\n",
      "saved Jake T. Austin 1\n",
      "saved Jake T. Austin 2\n",
      "saved Radim Fiala 0\n",
      "saved Philip Jackson 0\n",
      "saved Rona Anderson 0\n",
      "failed for Rona Anderson - 0\n",
      "failed for Rona Anderson - 0\n",
      "saved Paresh Ganatra 0\n",
      "saved Maxine Audley 0\n",
      "saved Dale Midkiff 0\n",
      "saved Dale Midkiff 1\n",
      "saved Jane Sibbett 0\n",
      "saved Jean Piat 0\n",
      "saved Christina Carlwind 0\n",
      "saved Marisa Mell 0\n",
      "saved Marisa Mell 1\n",
      "saved Guillermo Ríos 0\n",
      "saved Guillermo Ríos 1\n",
      "saved María Luisa Robledo 0\n",
      "saved Steve Railsback 0\n",
      "saved Brenda Bakke 0\n",
      "saved Robert McWade 0\n",
      "saved Josef Somr 0\n",
      "saved Josef Somr 1\n",
      "saved Josef Somr 2\n",
      "saved Dennis Franz 0\n",
      "saved Alexander D'Arcy 0\n",
      "saved Carole Landis 0\n",
      "saved Carole Landis 1\n",
      "saved Carole Landis 2\n",
      "saved Hope Davis 0\n",
      "saved Hope Davis 1\n",
      "saved Cuba Gooding Jr. 0\n",
      "saved Cuba Gooding Jr. 1\n",
      "failed for Cuba Gooding Jr. - 1\n",
      "saved André Maranne 0\n",
      "saved Bahtiyar Engin 0\n",
      "saved Bahtiyar Engin 1\n",
      "saved Gloria Jean 0\n",
      "saved Richy Müller 0\n",
      "saved Taylor Negron 0\n",
      "saved Kei Fujiwara 0\n",
      "saved João Cabral 0\n",
      "saved Richard S. Castellano 0\n",
      "saved Michel Côté 0\n",
      "saved Michel Côté 1\n",
      "saved Tim Potter 0\n",
      "saved Tibo Vandenborre 0\n",
      "saved Anil Chatterjee 0\n",
      "saved Ellen Greene 0\n",
      "saved Ellen Greene 1\n",
      "saved Bengt Ekerot 0\n",
      "saved Jack Huston 0\n",
      "saved Jorge Sanz 0\n",
      "saved Graham Stark 0\n",
      "saved Idara Victor 0\n",
      "saved Sam Jones 0\n",
      "saved Brian Henson 0\n",
      "saved Janis Joplin 0\n",
      "saved Féodor Atkine 0\n",
      "saved Guy Thomajan 0\n",
      "saved Marjorie Reynolds 0\n",
      "saved Emma Louise Webb 0\n",
      "failed for Emma Louise Webb - 0\n",
      "failed for Emma Louise Webb - 0\n",
      "saved Brays Efe 0\n",
      "saved Ameer 0\n",
      "failed for Ameer - 0\n",
      "saved Alvy Moore 0\n",
      "saved J.J. Abrams 0\n",
      "saved J.J. Abrams 1\n",
      "saved J.J. Abrams 2\n",
      "saved Brian Bedford 0\n",
      "saved Barbara Read 0\n",
      "saved Ed Koch 0\n",
      "saved Sean Bury 0\n",
      "saved Heather Juergensen 0\n",
      "failed for Heather Juergensen - 0\n",
      "saved Terry Moore 0\n",
      "saved Hannah Pilkes 0\n",
      "saved Nilay Erdönmez 0\n",
      "saved George A. Romero 0\n",
      "saved George A. Romero 1\n",
      "failed for George A. Romero - 1\n",
      "saved Sally Forrest 0\n",
      "saved Anthony Edwards 0\n",
      "saved Paula Irvine 0\n",
      "saved Paula Irvine 1\n",
      "saved Paula Irvine 2\n",
      "saved Teodor Corban 0\n",
      "saved Emilio Fernández 0\n",
      "saved Nona Gaye 0\n",
      "saved Lars Mikkelsen 0\n",
      "saved Heather McComb 0\n",
      "saved Rosemarie DeWitt 0\n",
      "saved Rosemarie DeWitt 1\n",
      "saved Rosemarie DeWitt 2\n",
      "saved Christopher Guest 0\n",
      "saved Christopher Guest 1\n",
      "saved Mary Forbes 0\n",
      "saved Byron Foulger 0\n",
      "saved Jere Burns 0\n",
      "saved Steven Mackintosh 0\n",
      "saved Don Terry 0\n",
      "saved Douglas Scott 0\n",
      "saved Albert Bassermann 0\n",
      "saved Brent Briscoe 0\n",
      "failed for Brent Briscoe - 0\n",
      "saved Iran Daftari 0\n",
      "saved Lynn Chen 0\n",
      "saved Corey Yuen 0\n",
      "saved Corey Yuen 1\n",
      "saved Corey Yuen 2\n",
      "saved Jason London 0\n",
      "saved Amanda de Cadenet 0\n",
      "saved Jake Davies 0\n",
      "saved Aleksey Kortnev 0\n",
      "saved George Shapiro 0\n",
      "saved Susanna Foster 0\n",
      "saved William Henry 0\n",
      "saved A$AP Rocky 0\n",
      "saved Alfred Cheung Kin-Ting 0\n",
      "saved Alfred Cheung Kin-Ting 1\n",
      "saved Sudeep 0\n",
      "saved Duncan Macrae 0\n",
      "saved Gorô Ibuki 0\n",
      "saved Elliot Page 0\n",
      "saved Elliot Page 1\n",
      "saved Elliot Page 2\n",
      "saved Demian Slade 0\n",
      "saved Molly Ringwald 0\n",
      "saved Molly Ringwald 1\n",
      "saved Tony Sirico 0\n",
      "saved Gabriel Iglesias 0\n",
      "saved Gabriel Iglesias 1\n",
      "saved Craig Hill 0\n",
      "saved George Hilton 0\n",
      "saved George Hilton 1\n",
      "saved Konstantinos Tzoumas 0\n",
      "saved Patrick Bruel 0\n",
      "saved Patrick Bruel 1\n",
      "saved Patrick Bruel 2\n",
      "saved Stefan Godin 0\n",
      "saved Cathy Lee Crosby 0\n",
      "saved Tanaaz Currim Irani 0\n",
      "saved Ameesha Patel 0\n",
      "saved Bing Russell 0\n",
      "saved Sundeep Kishan 0\n",
      "saved Sundeep Kishan 1\n",
      "saved Sundeep Kishan 2\n",
      "failed for Sundeep Kishan - 2\n",
      "saved Majdouline Idrissi 0\n",
      "saved Majdouline Idrissi 1\n",
      "failed for Majdouline Idrissi - 1\n",
      "saved Vicky Krieps 0\n",
      "saved Camille Salameh 0\n",
      "saved KiKi Layne 0\n",
      "saved Cecil B. DeMille 0\n",
      "saved Cecil B. DeMille 1\n",
      "saved Cecil B. DeMille 2\n",
      "saved Lucinda Jenney 0\n",
      "saved Ewan McGregor 0\n",
      "saved Ewan McGregor 1\n",
      "saved Ewan McGregor 2\n",
      "saved Edward Woods 0\n",
      "saved Tracy Wright 0\n",
      "failed for Tracy Wright - 0\n",
      "failed for Tracy Wright - 0\n",
      "saved Robert Taylor 0\n",
      "saved Robert Taylor 1\n",
      "saved Robert Taylor 2\n",
      "saved Peppino De Filippo 0\n",
      "saved Peppino De Filippo 1\n",
      "saved James MacArthur 0\n",
      "saved Dolly Wells 0\n",
      "saved Ed Lauter 0\n",
      "saved Ed Lauter 1\n",
      "saved Larry Keating 0\n",
      "saved Matthew Kevin Anderson 0\n",
      "saved Anita Morris 0\n",
      "saved Cecil Kellaway 0\n",
      "saved Cecil Kellaway 1\n",
      "saved Daniel Wu 0\n",
      "saved Daniel Wu 1\n",
      "saved Teresa Iżewska 0\n",
      "saved Teresa Iżewska 1\n",
      "saved Teresa Iżewska 2\n",
      "saved Rosie O'Donnell 0\n",
      "saved Rosie O'Donnell 1\n",
      "saved Rosie O'Donnell 2\n",
      "saved Aditya Roy Kapoor 0\n",
      "saved Aditya Roy Kapoor 1\n",
      "saved Felix Aylmer 0\n",
      "saved Cathleen Nesbitt 0\n",
      "saved Eileen Davidson 0\n",
      "saved Roger Ward 0\n",
      "saved Camille De Pazzis 0\n",
      "saved Camille De Pazzis 1\n",
      "saved Camille De Pazzis 2\n",
      "saved Jayaraj Warrier 0\n",
      "saved Mikael Tornving 0\n",
      "saved Majel Barrett 0\n",
      "saved Jeff Wolfe 0\n",
      "saved Jeff Wolfe 1\n",
      "failed for Michiko Godai - 1\n",
      "saved Jess Barker 0\n",
      "saved Katherine Langford 0\n",
      "saved Katherine Langford 1\n",
      "saved Katherine Langford 2\n",
      "saved Patti Smith 0\n",
      "saved Patti Smith 1\n",
      "saved Patti Smith 2\n",
      "failed for Patti Smith - 2\n",
      "saved Vijilesh Karayad 0\n",
      "saved Audrey Christie 0\n",
      "saved John Gavin 0\n",
      "saved John Gavin 1\n",
      "saved Marina Orsini 0\n",
      "saved Gilbert Gottfried 0\n",
      "saved Ulrich Mühe 0\n",
      "saved Ulrich Mühe 1\n",
      "saved Jacek Koman 0\n",
      "saved Rachel Handshaw 0\n",
      "saved Adriana Ugarte 0\n",
      "saved Julie Dawn Cole 0\n",
      "saved Roxana Zal 0\n",
      "saved František Němec 0\n",
      "saved Khaled Saleh 0\n",
      "saved Jiří Schmitzer 0\n",
      "saved Jiří Schmitzer 1\n",
      "saved George Harris 0\n",
      "saved Anne Suzuki 0\n",
      "saved Anne Suzuki 1\n",
      "saved Anne Suzuki 2\n",
      "saved John War Eagle 0\n",
      "saved David Manners 0\n",
      "saved Richard Cramer 0\n",
      "saved Mario Revolori 0\n",
      "saved Viktoriya Miroshnichenko 0\n",
      "saved Uwe Ochsenknecht 0\n",
      "saved Uwe Ochsenknecht 1\n",
      "saved Devika Bhise 0\n",
      "saved Judah Friedlander 0\n",
      "saved Alexandra Vandernoot 0\n",
      "saved Alexandra Vandernoot 1\n",
      "saved Sara Arjun 0\n",
      "saved Robert Lewis 0\n",
      "saved Lachlan Nieboer 0\n",
      "saved Vin Diesel 0\n",
      "saved Vin Diesel 1\n",
      "saved Vin Diesel 2\n",
      "saved Margaret Avery 0\n",
      "saved Sean Young 0\n",
      "saved Sean Young 1\n",
      "saved Sean Young 2\n",
      "failed for Sean Young - 2\n",
      "saved Marvin J. McIntyre 0\n",
      "saved Amber Heard 0\n",
      "saved Amber Heard 1\n",
      "saved Amber Heard 2\n",
      "failed for Anthony DeCurtis - 2\n",
      "failed for Anthony DeCurtis - 2\n",
      "failed for Anthony DeCurtis - 2\n",
      "saved Zhou Yiwei 0\n",
      "saved Kelly McGillis 0\n",
      "saved Kelly McGillis 1\n",
      "saved Kelly McGillis 2\n",
      "saved Jüri Järvet 0\n",
      "failed for Bob Minor - 0\n",
      "failed for Nicolas Amer - 0\n",
      "saved James Madio 0\n",
      "saved Mae Whitman 0\n",
      "saved Mae Whitman 1\n",
      "saved Mae Whitman 2\n",
      "saved Miriama McDowell 0\n",
      "saved Timothy Brown 0\n",
      "saved Richard Carle 0\n",
      "failed for Richard Carle - 0\n",
      "saved Martín Garralaga 0\n",
      "failed for Martín Garralaga - 0\n",
      "saved Jason Behr 0\n",
      "saved Rolf Peter Kahl 0\n",
      "saved James Parks 0\n",
      "saved Wacław Kowalski 0\n",
      "saved Justina Machado 0\n",
      "saved Ann Firbank 0\n",
      "saved Jessica Alba 0\n",
      "saved Jessica Alba 1\n",
      "saved Jessica Alba 2\n",
      "saved Rhys Ifans 0\n",
      "saved Anthony Ray 0\n",
      "failed for Anthony Ray - 0\n",
      "saved Eddie Borden 0\n",
      "saved Glenn Anders 0\n",
      "saved Liu Ye 0\n",
      "saved Liu Ye 1\n",
      "saved Liu Ye 2\n",
      "saved Tommi Korpela 0\n",
      "saved Neil Nitin Mukesh 0\n",
      "saved Toshirō Mifune 0\n",
      "saved Toshirō Mifune 1\n",
      "saved Toshirō Mifune 2\n",
      "saved Rakul Preet Singh 0\n",
      "saved Rakul Preet Singh 1\n",
      "saved Rakul Preet Singh 2\n",
      "saved Tony Luke 0\n",
      "failed for Tony Luke - 0\n",
      "saved Vikram 0\n",
      "saved Parker Sawyers 0\n",
      "saved Faune Chambers 0\n",
      "saved Faune Chambers 1\n",
      "failed for Faune Chambers - 1\n",
      "failed for Mwako Cumbuka - 1\n",
      "saved J. Pat O'Malley 0\n",
      "failed for J. Pat O'Malley - 0\n",
      "failed for J. Pat O'Malley - 0\n",
      "saved Kim Greist 0\n",
      "saved Jason Kristofer 0\n",
      "saved William Bryant 0\n",
      "saved Benjamin Helstad 0\n",
      "saved Med Flory 0\n",
      "saved Diego Cremonesi 0\n",
      "saved Earl Cave 0\n",
      "failed for Earl Cave - 0\n",
      "saved Dennis Hopper 0\n",
      "saved Dennis Hopper 1\n",
      "saved Austin Stowell 0\n",
      "saved Chloe Salaman 0\n",
      "saved Fenella Fielding 0\n",
      "saved Fenella Fielding 1\n",
      "saved Severn Darden 0\n",
      "saved Robin Wright 0\n",
      "saved Robin Wright 1\n",
      "saved Robin Wright 2\n",
      "saved Lucie Laurier 0\n",
      "saved Lucie Laurier 1\n",
      "failed for Lucie Laurier - 1\n",
      "saved Michael Shannon 0\n",
      "saved Michael Shannon 1\n",
      "saved Michael Shannon 2\n",
      "saved Vickie Lester 0\n",
      "saved Larry Nunn 0\n",
      "saved Alexander Voulgaris 0\n",
      "saved Liza Tarbuck 0\n",
      "failed for Liza Tarbuck - 0\n",
      "failed for Liza Tarbuck - 0\n",
      "saved Anushka Shetty 0\n",
      "saved Anushka Shetty 1\n",
      "saved Adriana Roel 0\n",
      "saved Pooja Batra 0\n",
      "saved Donatas Banionis 0\n",
      "saved Navni Parihar 0\n",
      "saved Nicole Beharie 0\n",
      "saved Darrell Zwerling 0\n",
      "saved Victor Arnold 0\n",
      "saved Abel Gance 0\n",
      "saved Frank Sinatra 0\n",
      "saved Frank Sinatra 1\n",
      "saved Frank Sinatra 2\n",
      "saved Tatyana Bestayeva 0\n",
      "saved Parviz Fanizadeh 0\n",
      "saved Lu Feng 0\n",
      "failed for Lu Feng - 0\n",
      "saved Thomasin McKenzie 0\n",
      "saved Thomasin McKenzie 1\n",
      "saved Thomasin McKenzie 2\n",
      "saved Louis Zorich 0\n",
      "saved Larry Parks 0\n",
      "saved Kali Bannerjee 0\n",
      "failed for Kali Bannerjee - 0\n",
      "saved Donald O'Brien 0\n",
      "saved Cathy Tyson 0\n",
      "failed for Waad Mohammed - 0\n",
      "saved Bruce McGuire 0\n",
      "saved Frances Hyland 0\n",
      "saved Frances Hyland 1\n",
      "saved Tim Allen 0\n",
      "saved Tim Allen 1\n",
      "saved Tim Allen 2\n",
      "saved Kalabhavan Mani 0\n",
      "saved Nicolas Duvauchelle 0\n",
      "saved Nicolas Duvauchelle 1\n",
      "saved Justin Alexander Korovkin 0\n",
      "saved Justin Alexander Korovkin 1\n",
      "saved Justin Alexander Korovkin 2\n",
      "failed for Justin Alexander Korovkin - 2\n",
      "saved Andrea Jeremiah 0\n",
      "saved Mona Washbourne 0\n",
      "saved Donald Woods 0\n",
      "saved Emil Jannings 0\n",
      "saved Joanne Baron 0\n",
      "saved Joanne Baron 1\n",
      "saved Joanne Baron 2\n",
      "saved Nigel Lindsay 0\n",
      "saved Marius Florea Vizante 0\n",
      "saved Franklyn Seales 0\n",
      "saved Fritz Weaver 0\n",
      "saved Terry Farrell 0\n",
      "saved Virginie Ledoyen 0\n",
      "saved Virginie Ledoyen 1\n",
      "saved Virginie Ledoyen 2\n",
      "failed for Virginie Ledoyen - 2\n",
      "saved Sylvia Miles 0\n",
      "saved Sylvia Miles 1\n",
      "saved Camille Keaton 0\n",
      "saved Ovidi Montllor 0\n",
      "saved Kevin Rice 0\n",
      "failed for Felipe Pazos - 0\n",
      "saved Aleksander Bednarz 0\n",
      "saved Ian Bohen 0\n",
      "saved Georgiy Kulikov 0\n",
      "saved Georgiy Kulikov 1\n",
      "saved Roshan Mathew 0\n",
      "saved Erik Palladino 0\n",
      "failed for Erik Palladino - 0\n",
      "saved Siegfried Terpoorten 0\n",
      "saved Janet Blair 0\n",
      "saved Dell Henderson 0\n",
      "saved Daphne Anderson 0\n",
      "failed for Daphne Anderson - 0\n",
      "saved Diane Keaton 0\n",
      "saved Diane Keaton 1\n",
      "saved Diane Keaton 2\n",
      "saved Werner Daehn 0\n",
      "saved Sharyn Moffett 0\n",
      "saved Edmund Chen 0\n",
      "saved Renato Baldini 0\n",
      "saved Sandahl Bergman 0\n",
      "saved Cle Shaheed Sloan 0\n",
      "saved Jennifer Garner 0\n",
      "saved Jennifer Garner 1\n",
      "saved Jennifer Garner 2\n",
      "saved Birger Malmsten 0\n",
      "saved Tony Shalhoub 0\n",
      "saved Tony Shalhoub 1\n",
      "saved Tony Shalhoub 2\n",
      "saved John Putch 0\n",
      "saved Pat Ryan 0\n",
      "failed for Pat Ryan - 0\n",
      "saved Parviz Parastouei 0\n",
      "saved Keiko Tsushima 0\n",
      "saved Constance Ford 0\n",
      "saved Jeffrey Walker 0\n",
      "saved Bert Remsen 0\n",
      "saved Guy Boyd 0\n",
      "saved Lila Kedrova 0\n",
      "saved Ben Lam 0\n",
      "saved Bill Irwin 0\n",
      "saved Bill Irwin 1\n",
      "failed for Bill Irwin - 1\n",
      "saved Jofre Soares 0\n",
      "saved Kevin Hernandez 0\n",
      "failed for Kevin Hernandez - 0\n",
      "saved Elayne Taylor 0\n",
      "saved Kelly Macdonald 0\n",
      "saved Kelly Macdonald 1\n",
      "saved Kelly Macdonald 2\n",
      "saved Juanita Moore 0\n",
      "saved Patrick Mille 0\n",
      "saved Vanessa Ray 0\n",
      "saved Belén Cuesta 0\n",
      "saved Belén Cuesta 1\n",
      "saved Belén Cuesta 2\n",
      "saved Ana Wagener 0\n",
      "saved Marian Glinka 0\n",
      "failed for Marian Glinka - 0\n",
      "saved Magnus Roosmann 0\n",
      "saved Jaden Smith 0\n",
      "saved M G Soman 0\n",
      "saved Richard Foronjy 0\n",
      "saved Anna Paquin 0\n",
      "saved Anna Paquin 1\n",
      "saved Anna Paquin 2\n",
      "saved Christiane Amanpour 0\n",
      "saved Yann Yann Yeo 0\n",
      "saved Joel McCrea 0\n",
      "saved Joel McCrea 1\n",
      "saved Joel McCrea 2\n",
      "failed for Joel McCrea - 2\n",
      "saved Peter Outerbridge 0\n",
      "saved Peter Outerbridge 1\n",
      "saved Peter Outerbridge 2\n",
      "saved Louise Platt 0\n",
      "saved Frank Rich 0\n",
      "failed for Frank Rich - 0\n",
      "saved Louis Hayward 0\n",
      "saved Hope Lange 0\n",
      "saved Steven Hill 0\n",
      "saved Miloslav Holub 0\n",
      "saved Adrian Titieni 0\n",
      "saved Brasse Brännström 0\n",
      "saved Brasse Brännström 1\n",
      "saved Brasse Brännström 2\n",
      "saved Gary Sinise 0\n",
      "saved Talitha Bateman 0\n",
      "saved Talitha Bateman 1\n",
      "saved Talitha Bateman 2\n",
      "saved Stephen McNally 0\n",
      "failed for Stephen McNally - 0\n",
      "saved Jean Rouverol 0\n",
      "saved Maggie Q 0\n",
      "saved Claudio Spadaro 0\n",
      "saved Eva Longoria 0\n",
      "saved Eva Longoria 1\n",
      "saved Eva Longoria 2\n",
      "saved Josh O'Connor 0\n",
      "saved Josh O'Connor 1\n",
      "saved Josh O'Connor 2\n",
      "failed for Josh O'Connor - 2\n",
      "saved Claude Chabrol 0\n",
      "saved Claude Chabrol 1\n",
      "saved Claude Chabrol 2\n",
      "saved Dennis Dugan 0\n",
      "saved Julie Cobb 0\n",
      "saved Julie Cobb 1\n",
      "saved Julie Cobb 2\n",
      "saved Harold Gould 0\n",
      "failed for Harold Gould - 0\n",
      "saved Til Schweiger 0\n",
      "saved Til Schweiger 1\n",
      "saved Jason Cope 0\n",
      "saved Yasmine Bleeth 0\n",
      "saved Yasmine Bleeth 1\n",
      "saved Erich Anderson 0\n",
      "saved Skipp Sudduth 0\n",
      "saved Tony Rosato 0\n",
      "saved James Ransone 0\n",
      "saved James Ransone 1\n",
      "saved James Ransone 2\n",
      "saved Glen Hansard 0\n",
      "saved Glen Hansard 1\n",
      "saved Glen Hansard 2\n",
      "saved André Mattos 0\n",
      "saved André Mattos 1\n",
      "saved Jake Weber 0\n",
      "saved Richard Crenna 0\n",
      "saved Richard Crenna 1\n",
      "saved Richard Crenna 2\n",
      "saved Rob Riggle 0\n",
      "saved Rob Riggle 1\n",
      "saved Tamara Mello 0\n",
      "saved Renée Houston 0\n",
      "saved Sylva Koscina 0\n",
      "saved Sylva Koscina 1\n",
      "saved Sylva Koscina 2\n",
      "saved Flavio Parenti 0\n",
      "saved Peter Hammond 0\n",
      "saved Tom Conway 0\n",
      "saved Sumalatha 0\n",
      "saved Sumalatha 1\n",
      "saved Cherry Jones 0\n",
      "saved Cherry Jones 1\n",
      "saved Rebecca Breeds 0\n",
      "saved Rebecca Breeds 1\n",
      "saved Michael Culkin 0\n",
      "failed for Michael Culkin - 0\n",
      "saved Angela Goethals 0\n",
      "saved Paweł Małaszyński 0\n",
      "failed for Paweł Małaszyński - 0\n",
      "saved Valentin Zubkov 0\n",
      "saved Antonio Pica 0\n",
      "saved Antonio Pica 1\n",
      "saved Adnan Siddiqui 0\n",
      "saved Naresh 0\n",
      "saved Philip Bourneuf 0\n",
      "saved Akihiko Hirata 0\n",
      "saved Akihiko Hirata 1\n",
      "saved Akihiko Hirata 2\n",
      "saved Diedrich Bader 0\n",
      "failed for Diedrich Bader - 0\n",
      "saved Zeki Alasya 0\n",
      "saved Eugene Roche 0\n",
      "failed for Eugene Roche - 0\n",
      "saved David Schofield 0\n",
      "saved Mackenzie Munro 0\n",
      "saved Brian Benben 0\n",
      "failed for Brian Benben - 0\n",
      "saved Sonia Agarwal 0\n",
      "saved Sonia Agarwal 1\n",
      "saved Sonia Agarwal 2\n",
      "saved Roeland Fernhout 0\n",
      "saved Howard Morris 0\n",
      "saved Alejandro Goic 0\n",
      "saved Manuel Gil 0\n",
      "saved Jeremy Strong 0\n",
      "saved Jeremy Strong 1\n",
      "saved Evi Marandi 0\n",
      "saved Jamie Harrold 0\n",
      "saved Urs Rechn 0\n",
      "saved Cassen 0\n",
      "failed for Cassen - 0\n",
      "saved Jenny Tamburi 0\n",
      "saved Hemant Pandey 0\n",
      "saved Robert Hoffmann 0\n",
      "saved James Arness 0\n",
      "saved Chris Thomas King 0\n",
      "saved Mario Scaccia 0\n",
      "saved John Ridgely 0\n",
      "saved Ahn So-hee 0\n",
      "saved Anjali Patil 0\n",
      "saved Anjali Patil 1\n",
      "saved Anjali Patil 2\n",
      "failed for Anjali Patil - 2\n",
      "saved Wunmi Mosaku 0\n",
      "saved Wunmi Mosaku 1\n",
      "saved Wunmi Mosaku 2\n",
      "failed for Joanna Sienkiewicz - 2\n",
      "saved Andreas Wilson 0\n",
      "saved Elaine Cassidy 0\n",
      "saved Jeff Conaway 0\n",
      "saved Ian Holm 0\n",
      "saved Ian Holm 1\n",
      "saved Ian Holm 2\n",
      "saved Wally Dalton 0\n",
      "failed for Jessie Ferguson - 0\n",
      "saved Katie Rich 0\n",
      "saved Richard Webb 0\n",
      "saved Stefano Accorsi 0\n",
      "saved Stefano Accorsi 1\n",
      "saved Stefano Accorsi 2\n",
      "saved Julio Perillán 0\n",
      "saved Ryan Reynolds 0\n",
      "saved Ryan Reynolds 1\n",
      "saved Ryan Reynolds 2\n",
      "saved Raisa Ryazanova 0\n",
      "saved Raisa Ryazanova 1\n",
      "saved Lucía Pollán 0\n",
      "saved Fred Melamed 0\n",
      "saved Gratien Gélinas 0\n",
      "saved David Bracks 0\n",
      "saved Stuart Wells 0\n",
      "saved David Krumholtz 0\n",
      "saved David Krumholtz 1\n",
      "saved David Krumholtz 2\n",
      "saved Marc Lawrence 0\n",
      "saved Price Carson 0\n",
      "saved Price Carson 1\n",
      "saved Price Carson 2\n",
      "failed for Price Carson - 2\n",
      "saved Jennifer Jostyn 0\n",
      "saved Manuel Zarzo 0\n",
      "failed for Manuel Zarzo - 0\n",
      "saved Robert Colbert 0\n",
      "saved Robert Colbert 1\n",
      "saved Robert Colbert 2\n",
      "saved Nabil Shaban 0\n",
      "saved Johannes Buzalski 0\n",
      "saved William Russell 0\n",
      "saved William Russell 1\n",
      "failed for William Russell - 1\n",
      "failed for William Russell - 1\n",
      "failed for William Russell - 1\n",
      "failed for William Russell - 1\n",
      "saved Roger McGuinn 0\n",
      "saved LaRita Shelby 0\n",
      "saved Ian Charleson 0\n",
      "saved Ian Charleson 1\n",
      "saved Andrzej Grabowski 0\n",
      "saved Lucy Beaumont 0\n",
      "saved Predrag Bjelac 0\n",
      "saved Brigid Bazlen 0\n",
      "saved Patricia Reyes Spíndola 0\n",
      "saved Patricia Reyes Spíndola 1\n",
      "saved Christopher Martin 0\n",
      "failed for Christopher Martin - 0\n",
      "saved Adam Trese 0\n",
      "saved Stacy Peralta 0\n",
      "saved Taiji Tonoyama 0\n",
      "saved Taiji Tonoyama 1\n",
      "saved Tony Liu 0\n",
      "saved Tony Liu 1\n",
      "saved Keith Allen 0\n",
      "saved William Kircher 0\n",
      "saved Ava DuVernay 0\n",
      "saved Frank Overton 0\n",
      "saved Chic Johnson 0\n",
      "saved Hayden Szeto 0\n",
      "saved Hayden Szeto 1\n",
      "saved John Lund 0\n",
      "saved Pete Davidson 0\n",
      "saved Pete Davidson 1\n",
      "saved Pat Boone 0\n",
      "saved Darren Drozdov 0\n",
      "saved Roy Edward Disney 0\n",
      "saved Dolly Haas 0\n",
      "saved Yareli Arizmendi 0\n",
      "saved Yareli Arizmendi 1\n",
      "saved Yareli Arizmendi 2\n",
      "saved Pau Durà 0\n",
      "saved Jacinte Blankenship 0\n",
      "failed for Jacinte Blankenship - 0\n",
      "saved Debby Porter 0\n",
      "saved Taliesin Jaffe 0\n",
      "saved Jean Peters 0\n",
      "saved Jean Peters 1\n",
      "saved Jean Peters 2\n",
      "failed for Alexander Dominguez - 2\n",
      "saved Itziar Aizpuru 0\n",
      "saved Guillermo Battaglia 0\n",
      "saved Mary Badham 0\n",
      "saved Lars Väringer 0\n",
      "saved Ingela Olsson 0\n",
      "saved Lauren Bacall 0\n",
      "saved Lauren Bacall 1\n",
      "saved Lauren Bacall 2\n",
      "saved Bryan Callen 0\n",
      "saved Satish Shah 0\n",
      "saved Horst Janson 0\n",
      "saved Horst Janson 1\n",
      "saved Richard H. Cutting 0\n",
      "saved Patricia Breslin 0\n",
      "failed for Patricia Breslin - 0\n",
      "saved Jack Antonoff 0\n",
      "saved Molly McClure 0\n",
      "saved Molly McClure 1\n",
      "saved Richard DeDomenico 0\n",
      "saved Cristina Brondo 0\n",
      "saved Uma Das Gupta 0\n",
      "saved James Cosmo 0\n",
      "saved Kiichi Nakai 0\n",
      "saved Danielle Proulx 0\n",
      "saved Danielle Proulx 1\n",
      "saved Kathleen Freeman 0\n",
      "saved Herbert Knaup 0\n",
      "failed for Herbert Knaup - 0\n",
      "saved Tiberio Murgia 0\n",
      "failed for Tiberio Murgia - 0\n",
      "saved Virginie Efira 0\n",
      "saved Virginie Efira 1\n",
      "saved Nive Nielsen 0\n",
      "saved Shirley Patterson 0\n",
      "saved David Johansen 0\n",
      "saved Pat Thomson 0\n",
      "saved Karan Soni 0\n",
      "saved Karan Soni 1\n",
      "saved Isabelle Corey 0\n",
      "saved Riya Sen 0\n",
      "saved Selma Egrei 0\n",
      "saved Jean Marais 0\n",
      "failed for Jean Marais - 0\n",
      "saved María de Nati 0\n",
      "saved María de Nati 1\n",
      "saved Robert Osterloh 0\n",
      "failed for Robert Osterloh - 0\n",
      "saved Dhanush 0\n",
      "saved Jamileh Sheikhi 0\n",
      "saved Paul Rudd 0\n",
      "saved Paul Rudd 1\n",
      "saved Paul Rudd 2\n",
      "saved Sandra Dee 0\n",
      "saved Heio von Stetten 0\n",
      "saved Frederick Coffin 0\n",
      "saved Michael Tolan 0\n",
      "saved Robert Walker Jr. 0\n",
      "saved David Hoflin 0\n",
      "saved Michalis Reppas 0\n",
      "saved Jan Shepard 0\n",
      "saved Laura Verlinden 0\n",
      "saved Yoshino Kimura 0\n",
      "saved Mads Sjøgård Pettersen 0\n",
      "saved Ryan O'Neal 0\n",
      "saved Ryan O'Neal 1\n",
      "saved Julie Peasgood 0\n",
      "saved Stephan Kampwirth 0\n",
      "saved Stephan Kampwirth 1\n",
      "saved Helen Vinson 0\n",
      "saved Matthew Lillard 0\n",
      "saved Matthew Lillard 1\n",
      "saved Matthew Lillard 2\n",
      "saved Ronald Zehrfeld 0\n",
      "saved Ronald Zehrfeld 1\n",
      "saved John Lone 0\n",
      "saved Robert Trebor 0\n",
      "saved Dorothée Berryman 0\n",
      "saved Jesse Lee Soffer 0\n",
      "saved Jesse Lee Soffer 1\n",
      "saved Alex D. Linz 0\n",
      "failed for Alex D. Linz - 0\n",
      "saved Michel Boujenah 0\n",
      "saved Michel Boujenah 1\n",
      "saved Michel Boujenah 2\n",
      "saved Leonard L. Thomas 0\n",
      "saved Karlheinz Böhm 0\n",
      "saved Derek Deadman 0\n",
      "saved Patti LuPone 0\n",
      "saved Patti LuPone 1\n",
      "saved Patti LuPone 2\n",
      "saved John Turturro 0\n",
      "saved John Turturro 1\n",
      "saved John Turturro 2\n",
      "saved Josef Bierbichler 0\n",
      "saved Josef Bierbichler 1\n",
      "saved Josef Bierbichler 2\n",
      "failed for Piotr Głowacki - 2\n",
      "saved Farhad Aslani 0\n",
      "failed for Farhad Aslani - 0\n",
      "saved Leonardo Villar 0\n",
      "saved Lakshmi 0\n",
      "failed for Lakshmi - 0\n",
      "saved Pina Bausch 0\n",
      "failed for Pina Bausch - 0\n",
      "saved Joe Keaton 0\n",
      "saved Dennis Wilson 0\n",
      "saved Bootsy Collins 0\n",
      "saved Rajan P Dev 0\n",
      "saved Miki Manojlović 0\n",
      "failed for Miki Manojlović - 0\n",
      "saved James Earl Jones 0\n",
      "saved James Earl Jones 1\n",
      "saved James Earl Jones 2\n",
      "saved Dan John Miller 0\n",
      "saved Vladimir Zeldin 0\n",
      "saved Phoebe Robinson 0\n",
      "saved Clive Revill 0\n",
      "saved Barbara Rudnik 0\n",
      "saved Walter Santesso 0\n",
      "saved Estee Chandler 0\n",
      "saved Michael Warren 0\n",
      "saved Jennifer Tung 0\n",
      "saved George MacQuarrie 0\n",
      "failed for George MacQuarrie - 0\n",
      "failed for Marta Larralde - 0\n",
      "saved Éric Caravaca 0\n",
      "saved Glen Vernon 0\n",
      "saved Elise Neal 0\n",
      "saved Zhang Tielin 0\n",
      "saved Delroy Lindo 0\n",
      "saved Delroy Lindo 1\n",
      "saved Alice Sapritch 0\n",
      "saved Alice Sapritch 1\n",
      "saved Dean Denton 0\n",
      "saved Bryan Brown 0\n",
      "saved Bryan Brown 1\n",
      "saved Eric Barclay 0\n",
      "saved Clare Higgins 0\n",
      "saved Clare Higgins 1\n",
      "saved Clare Higgins 2\n",
      "saved Liam O'Brien 0\n",
      "saved Andrew Divoff 0\n",
      "saved Andrew Divoff 1\n",
      "saved Setsuko Hara 0\n",
      "saved Setsuko Hara 1\n",
      "saved Setsuko Hara 2\n",
      "saved Riccardo Scamarcio 0\n",
      "saved Riccardo Scamarcio 1\n",
      "saved Riccardo Scamarcio 2\n",
      "saved Sally Struthers 0\n",
      "saved Folke Hjort 0\n",
      "saved Juanin Clay 0\n",
      "saved Frank Marth 0\n",
      "saved Wolfe Morris 0\n",
      "saved Catherine Lachens 0\n",
      "saved Jerry Hausner 0\n",
      "saved Mary Wickes 0\n",
      "saved Veronica Lario 0\n",
      "failed for Veronica Lario - 0\n",
      "saved Arte Johnson 0\n",
      "failed for Wayne Barrett - 0\n",
      "failed for Wayne Barrett - 0\n",
      "saved George Wang 0\n",
      "saved George Wang 1\n",
      "saved George Wang 2\n",
      "saved Núria Gago 0\n",
      "saved Spartak Mishulin 0\n",
      "failed for Spartak Mishulin - 0\n",
      "saved Camila Sodi 0\n",
      "saved Mayumi Ogawa 0\n",
      "saved Nikolai Gubenko 0\n",
      "saved Blair Underwood 0\n",
      "saved Vinnie Jones 0\n",
      "saved Vinnie Jones 1\n",
      "saved Richard Bohringer 0\n",
      "saved Richard Bohringer 1\n",
      "saved Madan Puri 0\n",
      "failed for Madan Puri - 0\n",
      "saved Nuno Leal Maia 0\n",
      "saved Nuno Leal Maia 1\n",
      "saved Helen Slater 0\n",
      "saved David McCallum 0\n",
      "saved David McCallum 1\n",
      "saved Beth Grant 0\n",
      "saved Beth Grant 1\n",
      "saved Beth Grant 2\n",
      "saved Ana Alicia 0\n",
      "saved Jonathan Aris 0\n",
      "saved Jonathan Aris 1\n",
      "saved Jonathan Aris 2\n",
      "saved Eirini Inglesi 0\n",
      "saved Mary McDonnell 0\n",
      "saved Mary McDonnell 1\n",
      "saved Mary McDonnell 2\n",
      "saved David Verdaguer 0\n",
      "saved Venida Evans 0\n",
      "saved Rosanna DeSoto 0\n",
      "saved Jaden Piner 0\n",
      "saved Nao Ōmori 0\n",
      "saved Jack Black 0\n",
      "saved Jack Black 1\n",
      "saved Luke Kirby 0\n",
      "saved Luke Kirby 1\n",
      "saved Luke Kirby 2\n",
      "saved Helga Liné 0\n",
      "saved Helga Liné 1\n",
      "saved Helga Liné 2\n",
      "saved Rudolph Anders 0\n",
      "saved Charlie Plummer 0\n",
      "saved Charlie Plummer 1\n",
      "saved Charlie Plummer 2\n",
      "saved Maria Perschy 0\n",
      "saved Maria Perschy 1\n",
      "saved Maria Perschy 2\n",
      "saved Fernanda Machado 0\n",
      "saved Edward Connelly 0\n",
      "saved W.G. Fay 0\n",
      "saved Andrew Wilde 0\n",
      "saved Daragh O'Malley 0\n",
      "failed for Daragh O'Malley - 0\n",
      "saved Clemens Schick 0\n",
      "saved Clemens Schick 1\n",
      "saved Clemens Schick 2\n",
      "saved Nacho López 0\n",
      "saved Ray Manzarek 0\n",
      "saved Ray Manzarek 1\n",
      "saved Bernie Casey 0\n",
      "saved Bernie Casey 1\n",
      "saved David Hewlett 0\n",
      "saved Andrey Krasko 0\n",
      "saved Donald Trump 0\n",
      "saved Donald Trump 1\n",
      "saved Donald Trump 2\n",
      "saved Juliocesar Chavez 0\n",
      "saved Dana Ivey 0\n",
      "saved Dana Ivey 1\n",
      "saved Helen Westley 0\n",
      "failed for Helen Westley - 0\n",
      "saved Helen Martin 0\n",
      "failed for Helen Martin - 0\n",
      "saved Marina Neyolova 0\n",
      "failed for Marina Neyolova - 0\n",
      "saved Hallie Kate Eisenberg 0\n",
      "saved Roy Thinnes 0\n",
      "saved Roy Thinnes 1\n",
      "saved Mark Damon 0\n",
      "saved Eric Weinstein 0\n",
      "saved Paola Tedesco 0\n",
      "saved Paola Tedesco 1\n",
      "saved Paola Tedesco 2\n",
      "saved Steven Ford 0\n",
      "saved Roger Frost 0\n",
      "saved Lori Martin 0\n",
      "saved Cliff Curtis 0\n",
      "saved Cliff Curtis 1\n",
      "saved Cliff Curtis 2\n",
      "saved Camilla Horn 0\n",
      "saved Oliver Smith 0\n",
      "failed for Oliver Smith - 0\n",
      "saved Michelle Johnson 0\n",
      "saved Jonathan Pryce 0\n",
      "saved Jonathan Pryce 1\n",
      "saved Jonathan Pryce 2\n",
      "saved Lilli Palmer 0\n",
      "saved Vsevolod Larionov 0\n",
      "saved Gracia Olayo 0\n",
      "saved Sajid Hasan 0\n",
      "saved Orso Maria Guerrini 0\n",
      "saved Michael Potts 0\n",
      "saved Kenan İmirzalıoğlu 0\n",
      "saved Andrew Lauer 0\n",
      "failed for Andrew Lauer - 0\n",
      "saved Ronaldo 0\n",
      "saved Ronaldo 1\n",
      "saved Chunky Pandey 0\n",
      "saved Chunky Pandey 1\n",
      "saved Poul Reichhardt 0\n",
      "saved Poul Reichhardt 1\n",
      "saved Poul Reichhardt 2\n",
      "saved Javier Lombardo 0\n",
      "failed for Javier Lombardo - 0\n",
      "saved Matt Clark 0\n",
      "saved Joshua J. Williams 0\n",
      "saved Gina Hernandez 0\n",
      "saved Pooja Devariya 0\n",
      "saved Donald Houston 0\n",
      "saved Max Baer 0\n",
      "saved Charles Rogers 0\n",
      "saved Marjorie Main 0\n",
      "saved Joe Manganiello 0\n",
      "saved Joe Manganiello 1\n",
      "saved Ken Lerner 0\n",
      "saved Yola d'Avril 0\n",
      "saved Bruce Glover 0\n",
      "failed for Bruce Glover - 0\n",
      "saved Ray Collins 0\n",
      "saved Ray Collins 1\n",
      "saved Sarah Paulson 0\n",
      "saved Sarah Paulson 1\n",
      "saved Sarah Paulson 2\n",
      "saved Dolores Moran 0\n",
      "saved Dolores Moran 1\n",
      "saved Arthur Shields 0\n",
      "saved Ikhbayar Amgaabazar 0\n",
      "saved Tom McCarthy 0\n",
      "saved Kay Johnson 0\n",
      "saved El Brendel 0\n",
      "saved Jobyna Ralston 0\n",
      "saved Jobyna Ralston 1\n",
      "saved Jobyna Ralston 2\n",
      "saved Dolores Fonzi 0\n",
      "failed for Mumtaz Sorcar - 0\n",
      "saved Robert Bice 0\n",
      "saved Björn Gustafson 0\n",
      "saved Björn Gustafson 1\n",
      "saved Björn Gustafson 2\n",
      "saved Faye Grant 0\n",
      "saved Faye Grant 1\n",
      "saved Faye Grant 2\n",
      "saved Xia Yu 0\n",
      "saved Sean Hayes 0\n",
      "saved Sean Hayes 1\n",
      "saved Shreyas Talpade 0\n",
      "saved Jeannine Taylor 0\n",
      "saved Edward Pawley 0\n",
      "saved Michael Rapaport 0\n",
      "saved Michael Rapaport 1\n",
      "saved Boris Karloff 0\n",
      "saved Boris Karloff 1\n",
      "saved Boris Karloff 2\n",
      "saved Cristina Marcos 0\n",
      "saved Cristina Marcos 1\n",
      "saved Cristina Marcos 2\n",
      "failed for Cristina Marcos - 2\n",
      "saved Thomas Chabrol 0\n",
      "saved Mark Bennington 0\n",
      "saved Mario Casas 0\n",
      "saved Mario Casas 1\n",
      "saved Mario Casas 2\n",
      "saved Jimmy Barnatán 0\n",
      "saved Minoru Chiaki 0\n",
      "saved Minoru Chiaki 1\n",
      "saved Minoru Chiaki 2\n",
      "saved Franco Fabrizi 0\n",
      "saved Franco Fabrizi 1\n",
      "saved Om Puri 0\n",
      "saved Om Puri 1\n",
      "saved Philippe Leroy 0\n",
      "saved Junio Valverde 0\n",
      "failed for Junio Valverde - 0\n",
      "saved JD Cullum 0\n",
      "saved Dave Franco 0\n",
      "saved Dave Franco 1\n",
      "saved Dave Franco 2\n",
      "saved Seth Gilliam 0\n",
      "saved Jérémie Elkaïm 0\n",
      "saved Simone Spoladore 0\n",
      "saved Simone Spoladore 1\n",
      "saved Simone Spoladore 2\n",
      "saved Géraldine Pailhas 0\n",
      "saved Farida Jalal 0\n",
      "saved Rosemary DeCamp 0\n",
      "saved Vic Diaz 0\n",
      "saved Vic Diaz 1\n",
      "saved Vic Diaz 2\n",
      "saved Neeraj Madhav 0\n",
      "failed for Neeraj Madhav - 0\n",
      "saved Bryan Cranston 0\n",
      "saved Bryan Cranston 1\n",
      "saved Bryan Cranston 2\n",
      "saved Klara Rumyanova 0\n",
      "saved Andrew Tiernan 0\n",
      "failed for Andrew Tiernan - 0\n",
      "saved David Neilson 0\n",
      "failed for David Neilson - 0\n",
      "saved Mariano Azaña 0\n",
      "saved Cynthia Abma 0\n",
      "failed for Cynthia Abma - 0\n",
      "saved Pyotr Zaychenko 0\n",
      "saved Pyotr Zaychenko 1\n",
      "saved Liraz Charhi 0\n",
      "saved Valentine Dyall 0\n",
      "saved David Hayter 0\n",
      "saved David Hayter 1\n",
      "saved Boris Livanov 0\n",
      "saved Ramón Barea 0\n",
      "failed for Ramón Barea - 0\n",
      "saved Abhay Deol 0\n",
      "saved Jacques Bergerac 0\n",
      "saved Kim Richards 0\n",
      "saved Ken Gampu 0\n",
      "saved Alexander Martin 0\n",
      "failed for Alexander Martin - 0\n",
      "saved Kaspar Capparoni 0\n",
      "saved Iwona Bielska 0\n",
      "failed for Iwona Bielska - 0\n",
      "saved Iben Hjejle 0\n",
      "saved Ann Zacharias 0\n",
      "saved Kajol 0\n",
      "saved Kajol 1\n",
      "saved Kajol 2\n",
      "saved Dane Clark 0\n",
      "saved Inga Swenson 0\n",
      "saved Ele Bardha 0\n",
      "saved Takeshi Kaneshiro 0\n",
      "saved Anisha Ambrose 0\n",
      "saved Anisha Ambrose 1\n",
      "saved Martin Speer 0\n",
      "saved Phyllis Logan 0\n",
      "saved Sally Gray 0\n",
      "saved Lisette Verea 0\n",
      "saved Georg Funkquist 0\n",
      "saved Shauna Rappold 0\n",
      "saved Jean Martin 0\n",
      "saved Jean Martin 1\n",
      "failed for Jean Martin - 1\n",
      "saved Kubbra Sait 0\n",
      "saved Maricel Álvarez 0\n",
      "saved Donald Wolfit 0\n",
      "saved James Neill 0\n",
      "saved Steve James 0\n",
      "saved Stella Stevens 0\n",
      "saved Stella Stevens 1\n",
      "saved Stella Stevens 2\n",
      "saved Gary Swanson 0\n",
      "failed for Meda Andreea Victor - 0\n",
      "saved Merab Ninidze 0\n",
      "saved Ned Glass 0\n",
      "saved Eric Brown 0\n",
      "saved Nate Mooney 0\n",
      "saved Izabella Scorupco 0\n",
      "saved Izabella Scorupco 1\n",
      "saved Izabella Scorupco 2\n",
      "saved Raymond Hatton 0\n",
      "saved Raymond Hatton 1\n",
      "saved Race Gentry 0\n",
      "saved Rade Šerbedžija 0\n",
      "saved Jesse James 0\n",
      "saved Jesse James 1\n",
      "saved Lola Lane 0\n",
      "saved Susan Traylor 0\n",
      "saved Joan Collins 0\n",
      "saved Joan Collins 1\n",
      "saved Joan Collins 2\n",
      "saved Fiona Walker 0\n",
      "saved Shivaji Guruvayoor 0\n",
      "saved Aldo Maccione 0\n",
      "saved Troy Ogletree 0\n",
      "saved Edward Ashley 0\n",
      "saved Simon Armstrong 0\n",
      "saved Jagapati Babu 0\n",
      "saved Jagapati Babu 1\n",
      "saved Jagapati Babu 2\n",
      "failed for Jagapati Babu - 2\n",
      "saved Omar Muñoz 0\n",
      "saved Hayley Atwell 0\n",
      "saved Hayley Atwell 1\n",
      "saved Hayley Atwell 2\n",
      "saved Javier Rey 0\n",
      "saved Agnes Bruckner 0\n",
      "saved Agnes Bruckner 1\n",
      "saved Agnes Bruckner 2\n",
      "saved Txema Blasco 0\n",
      "saved Txema Blasco 1\n",
      "failed for Txema Blasco - 1\n",
      "saved Momoko Kôchi 0\n",
      "saved Garth Hudson 0\n",
      "saved Alfred Sauchelli Jr. 0\n",
      "saved Rika Dialina 0\n",
      "saved Bull Montana 0\n",
      "saved Taraji P. Henson 0\n",
      "saved Samuli Edelmann 0\n",
      "saved Tchéky Karyo 0\n",
      "saved Tchéky Karyo 1\n",
      "saved Tchéky Karyo 2\n",
      "saved Assumpta Serna 0\n",
      "saved Assumpta Serna 1\n",
      "saved Sara Forestier 0\n",
      "saved Sara Forestier 1\n",
      "saved Tyler Hilton 0\n",
      "saved Mick Foley 0\n",
      "saved Mick Foley 1\n",
      "saved Mick Foley 2\n",
      "saved Ann Petrén 0\n",
      "saved Ann Petrén 1\n",
      "saved Pimchanok Leuwisetpaiboon 0\n",
      "saved Pimchanok Leuwisetpaiboon 1\n",
      "saved Rita Durão 0\n",
      "saved John David Carson 0\n",
      "saved Michael A. Goorjian 0\n",
      "saved Nora Zehetner 0\n",
      "saved Camille Coduri 0\n",
      "saved Mirosław Zbrojewicz 0\n",
      "saved John P. Finnegan 0\n",
      "saved Stig Henrik Hoff 0\n",
      "saved Gene Coogan 0\n",
      "saved Romain Duris 0\n",
      "saved Romain Duris 1\n",
      "saved Romain Duris 2\n",
      "saved Howland Chamberlain 0\n",
      "saved Sean Chapman 0\n",
      "saved Sean Chapman 1\n",
      "saved Cherie Chung 0\n",
      "saved Tiku Talsania 0\n",
      "saved Sidney Toler 0\n",
      "saved David Yip 0\n",
      "saved Romane Bohringer 0\n",
      "saved Dan Frazer 0\n",
      "saved Ewan Hooper 0\n",
      "saved Ewan Hooper 1\n",
      "failed for Vlade Divac - 1\n",
      "saved Ray Burdis 0\n",
      "saved Shaun Parkes 0\n",
      "saved Zara Turner 0\n",
      "saved Julie Christie 0\n",
      "saved Julie Christie 1\n",
      "saved Julie Christie 2\n",
      "saved Robert Shayne 0\n",
      "saved Peter O'Toole 0\n",
      "saved Peter O'Toole 1\n",
      "saved Peter O'Toole 2\n",
      "saved Kirill Pirogov 0\n",
      "saved Matt Doran 0\n",
      "saved Rade Marković 0\n",
      "saved Marian Kociniak 0\n",
      "saved David Silva 0\n",
      "failed for David Silva - 0\n",
      "failed for David Silva - 0\n",
      "saved Craig Ferguson 0\n",
      "saved Craig Ferguson 1\n",
      "saved Mirjana Joković 0\n",
      "saved Mirjana Joković 1\n",
      "failed for Mirjana Joković - 1\n",
      "saved Kelsey Asbille 0\n",
      "saved Kelsey Asbille 1\n",
      "saved Kelsey Asbille 2\n",
      "failed for Neenasam Ashwath - 2\n",
      "failed for Neenasam Ashwath - 2\n",
      "saved Frank Hagney 0\n",
      "saved Malinda Williams 0\n",
      "failed for Malinda Williams - 0\n",
      "saved Johannes Brost 0\n",
      "saved Kichiemon Nakamura 0\n",
      "failed for Kichiemon Nakamura - 0\n",
      "saved Trezzo Mahoro 0\n",
      "saved Mahesh Balraj 0\n",
      "saved Michael Talbott 0\n",
      "saved Editha Domingo 0\n",
      "saved Şebnem Sönmez 0\n",
      "saved Şebnem Sönmez 1\n",
      "saved James Cameron 0\n",
      "saved James Cameron 1\n",
      "saved James Cameron 2\n",
      "saved Ratna Pathak 0\n",
      "saved Martin Compston 0\n",
      "saved Martin Compston 1\n",
      "saved Martin Compston 2\n",
      "failed for Martin Compston - 2\n",
      "saved Keenen Ivory Wayans 0\n",
      "saved Dewshane Williams 0\n",
      "saved Aasif Mandvi 0\n",
      "saved Martin Hewitt 0\n",
      "saved Dara Singh 0\n",
      "saved Adam Bakri 0\n",
      "saved Soni Razdan 0\n",
      "saved Bill Hader 0\n",
      "saved Bill Hader 1\n",
      "saved Bill Hader 2\n",
      "saved Chris Messina 0\n",
      "saved Chris Messina 1\n",
      "saved Chris Messina 2\n",
      "saved James Gandolfini 0\n",
      "saved Daniel Mesguich 0\n",
      "saved Marie Göranzon 0\n",
      "saved Marie Göranzon 1\n",
      "saved Taron Egerton 0\n",
      "saved Taron Egerton 1\n",
      "saved Taron Egerton 2\n",
      "saved Divine 0\n",
      "saved Hakuryu 0\n",
      "saved Hakuryu 1\n",
      "saved Hakuryu 2\n",
      "saved Lou Landré 0\n",
      "failed for Lou Landré - 0\n",
      "saved Nick Stahl 0\n",
      "saved Gavan O'Herlihy 0\n",
      "failed for Gavan O'Herlihy - 0\n",
      "failed for Joseph Cali - 0\n",
      "saved Micah Fitzgerald 0\n",
      "saved Micah Fitzgerald 1\n",
      "saved Micah Fitzgerald 2\n",
      "saved Carlo Monni 0\n",
      "saved Christos Stergioglou 0\n",
      "saved Christos Stergioglou 1\n",
      "saved Maidie Norman 0\n",
      "saved Ellen Drew 0\n",
      "saved Ellen Drew 1\n",
      "saved Alice Brady 0\n",
      "saved Morris Carnovsky 0\n",
      "failed for Morris Carnovsky - 0\n",
      "failed for Morris Carnovsky - 0\n",
      "saved Mitch Pileggi 0\n",
      "saved Celia Lovsky 0\n",
      "saved Jean Debucourt 0\n",
      "failed for Jean Debucourt - 0\n",
      "saved Kieran Culkin 0\n",
      "saved Kieran Culkin 1\n",
      "saved Kieran Culkin 2\n",
      "saved Tim Plester 0\n",
      "saved Murray Matheson 0\n",
      "saved Mel Gibson 0\n",
      "saved Mel Gibson 1\n",
      "saved Mel Gibson 2\n",
      "saved Pier Paolo Capponi 0\n",
      "saved Tito Vuolo 0\n",
      "saved Nicholas Smith 0\n",
      "saved Rima Te Wiata 0\n",
      "saved Isabelle Nélisse 0\n",
      "saved Isabelle Nélisse 1\n",
      "failed for Isabelle Nélisse - 1\n",
      "saved Dorie Barton 0\n",
      "saved Paul Nicholls 0\n",
      "saved Paul Nicholls 1\n",
      "saved Paul Nicholls 2\n",
      "saved Harriet Thorpe 0\n",
      "saved Thomas Heinze 0\n",
      "saved Dale Fuller 0\n",
      "saved Jeon Jung-kook 0\n",
      "saved Jeon Jung-kook 1\n",
      "failed for Jeon Jung-kook - 1\n",
      "failed for Magdalena Kumorek - 1\n",
      "saved Ian Burfield 0\n",
      "saved Ian Burfield 1\n",
      "saved Jean Brooks 0\n",
      "saved Filip Peeters 0\n",
      "saved Emiliano Queiroz 0\n",
      "saved Frank Thomas 0\n",
      "saved Dwayne Hickman 0\n",
      "saved Roberta Fiorentini 0\n",
      "saved Tony Burton 0\n",
      "saved David Troughton 0\n",
      "saved Joe Piscopo 0\n",
      "saved Joe Piscopo 1\n",
      "saved Brooke Langton 0\n",
      "saved Maria Kavoyianni 0\n",
      "saved Urbano Barberini 0\n",
      "saved Penny Singleton 0\n",
      "saved Brian McCarthy 0\n",
      "saved Brian McCarthy 1\n",
      "saved Brian McCarthy 2\n",
      "saved Louis Black 0\n",
      "failed for Louis Black - 0\n",
      "saved Jesse Bradford 0\n",
      "saved Mary Joy 0\n",
      "saved Fabrizio Rongione 0\n",
      "saved Earl Boen 0\n",
      "saved Earl Boen 1\n",
      "saved Wings Hauser 0\n",
      "saved Lenka Peterson 0\n",
      "failed for Toni Crabtree - 0\n",
      "saved Peng Yuchang 0\n",
      "saved Peng Yuchang 1\n",
      "saved Lisa Vicari 0\n",
      "saved Lisa Vicari 1\n",
      "saved Lisa Vicari 2\n",
      "saved Melissa Tang 0\n",
      "saved Peter Lewis 0\n",
      "saved Jeremy Northam 0\n",
      "saved Jeremy Northam 1\n",
      "saved Jeremy Northam 2\n",
      "saved Geoffrey Scott 0\n",
      "saved Anjanette Comer 0\n",
      "saved Anjanette Comer 1\n",
      "saved Lola Dueñas 0\n",
      "saved Lola Dueñas 1\n",
      "saved Lola Dueñas 2\n",
      "saved Erasmo Pascual 0\n",
      "failed for Erasmo Pascual - 0\n",
      "saved Riccardo Cucciolla 0\n",
      "saved Lino Banfi 0\n",
      "saved Lino Banfi 1\n",
      "saved Gregory Scott Cummins 0\n",
      "saved Thomas F. Wilson 0\n",
      "saved Dirk Benedict 0\n",
      "saved Catherine Spaak 0\n",
      "saved Catherine Spaak 1\n",
      "saved Catherine Spaak 2\n",
      "failed for Catherine Spaak - 2\n",
      "saved John Squire 0\n",
      "saved Troy T. Parham 0\n",
      "saved Mohan Babu 0\n",
      "saved Matthew Edison 0\n",
      "saved Thomas Turgoose 0\n",
      "saved Gouri G Kishan 0\n",
      "saved Richard Fraser 0\n",
      "saved Sigrid ten Napel 0\n",
      "saved Yesse Spence 0\n",
      "saved William Devane 0\n",
      "saved William Devane 1\n",
      "saved Álvaro Monje 0\n",
      "saved Donald Cook 0\n",
      "saved Miyavi 0\n",
      "saved Miyavi 1\n",
      "saved Miyavi 2\n",
      "saved Gilda Radner 0\n",
      "failed for Helen Burns - 0\n",
      "saved Jerry O'Connell 0\n",
      "saved Jerry O'Connell 1\n",
      "saved Jerry O'Connell 2\n",
      "saved Jeanne Cagney 0\n",
      "failed for Lutuf Nouasser - 0\n",
      "failed for Lutuf Nouasser - 0\n",
      "saved Jisshu Sengupta 0\n",
      "saved Malcolm Danare 0\n",
      "saved Mirjana Karanović 0\n",
      "saved Vladimir Gulyaev 0\n",
      "saved Patricia Charbonneau 0\n",
      "saved Peter Bowles 0\n",
      "saved Anson Mount 0\n",
      "saved Anson Mount 1\n",
      "saved Anson Mount 2\n",
      "saved Julian Wadham 0\n",
      "saved Michele Gammino 0\n",
      "saved Adriana Barraza 0\n",
      "saved Adriana Barraza 1\n",
      "saved Peter Cushing 0\n",
      "saved Peter Cushing 1\n",
      "saved Peter Cushing 2\n",
      "failed for Peter Cushing - 2\n",
      "saved Henry Brown 0\n",
      "saved Sean McClory 0\n",
      "saved Leo Burmester 0\n",
      "saved James Urbaniak 0\n",
      "saved James Urbaniak 1\n",
      "saved Natalya Sedykh 0\n",
      "saved Harrison Ford 0\n",
      "saved Harrison Ford 1\n",
      "saved Harrison Ford 2\n",
      "saved Sarah Bolger 0\n",
      "saved Sarah Bolger 1\n",
      "saved Sarah Bolger 2\n",
      "saved Tommy Wong 0\n",
      "saved Tommy Wong 1\n",
      "saved Madeleine Worrall 0\n",
      "saved Hristo Shopov 0\n",
      "saved Hristo Shopov 1\n",
      "saved Mary Tyler Moore 0\n",
      "saved Mary Tyler Moore 1\n",
      "saved Mary Tyler Moore 2\n",
      "saved Ove Sprogøe 0\n",
      "saved Ove Sprogøe 1\n",
      "saved Ove Sprogøe 2\n",
      "saved Lauryn Canny 0\n",
      "saved Minna Haapkylä 0\n",
      "saved Peter MacNeill 0\n",
      "saved Tristan Sturrock 0\n",
      "saved Aaron Glenane 0\n",
      "saved Clea DuVall 0\n",
      "saved Clea DuVall 1\n",
      "saved Malek Akkad 0\n",
      "saved Randi Brooks 0\n",
      "saved Chris Browning 0\n",
      "saved Chris Browning 1\n",
      "saved Kris Hitchen 0\n",
      "saved Kris Hitchen 1\n",
      "saved Nick Adams 0\n",
      "saved Ayesha Jhulka 0\n",
      "saved Ayesha Jhulka 1\n",
      "failed for Ayesha Jhulka - 1\n",
      "saved Matthew Newton 0\n",
      "saved Diahann Carroll 0\n",
      "saved Hend Rostom 0\n",
      "saved Joe Cornish 0\n",
      "saved Barbara Rütting 0\n",
      "saved Guru Somasundaram 0\n",
      "saved Fátima Molina 0\n",
      "saved Nicoletta Machiavelli 0\n",
      "saved Nicoletta Machiavelli 1\n",
      "saved Sergio Castellitto 0\n",
      "failed for Sergio Castellitto - 0\n",
      "saved Mireille Perrey 0\n",
      "saved Vicky Vanita 0\n",
      "saved Vicky Vanita 1\n",
      "saved Connie Nielsen 0\n",
      "saved Connie Nielsen 1\n",
      "saved Connie Nielsen 2\n",
      "saved Kirk Douglas 0\n",
      "saved Kirk Douglas 1\n",
      "saved Kirk Douglas 2\n",
      "saved Ginger Rogers 0\n",
      "saved Ginger Rogers 1\n",
      "saved Ginger Rogers 2\n",
      "saved Max Schreck 0\n",
      "saved Dagmara Domińczyk 0\n",
      "saved Adrienne Corri 0\n",
      "saved June Duprez 0\n",
      "saved June Duprez 1\n",
      "saved Ángela Molina 0\n",
      "saved Ángela Molina 1\n",
      "saved James Lugton 0\n",
      "saved James Lugton 1\n",
      "saved Novella Nelson 0\n",
      "saved Enrica Maria Modugno 0\n",
      "saved Enrica Maria Modugno 1\n",
      "saved Boyd Gaines 0\n",
      "saved Boyd Gaines 1\n",
      "saved Raima Sen 0\n",
      "saved Martha Hyer 0\n",
      "saved Martha Hyer 1\n",
      "saved Dabney Coleman 0\n",
      "saved Adolf Wohlbrück 0\n",
      "saved Carolyn Jones 0\n",
      "saved Carolyn Jones 1\n",
      "saved Carolyn Jones 2\n",
      "saved Jan Munroe 0\n",
      "saved Vince Vieluf 0\n",
      "saved Frances Gifford 0\n",
      "saved Mike Bell 0\n",
      "saved Greer Garson 0\n",
      "saved Greer Garson 1\n",
      "saved Greer Garson 2\n",
      "failed for Greer Garson - 2\n",
      "saved Steve Sandvoss 0\n",
      "saved Michalis Maniatis 0\n",
      "saved Kevin Durand 0\n",
      "saved Allen Leech 0\n",
      "failed for Allen Leech - 0\n",
      "saved John Voldstad 0\n"
     ]
    }
   ],
   "source": [
    "limit = 3\n",
    "actors_dir = data_path / 'actors'\n",
    "last_success = 27030\n",
    "\n",
    "for idx, row in actors_df.iterrows():\n",
    "    if idx < last_success:\n",
    "        continue\n",
    "        \n",
    "    try:\n",
    "        tmdb_id = tmdb.Find(f'nm{row[\"imdb_id\"]}').info(external_source='imdb_id')[\"person_results\"][0][\"id\"]\n",
    "        people = tmdb.People(tmdb_id)\n",
    "        urls = list(map(lambda x: x['file_path'], people.images()['profiles']))\n",
    "        for i, url in enumerate(urls[:3]):\n",
    "#             if i==limit:\n",
    "#               break\n",
    "\n",
    "    #         Path(f'{actors_dir}/{people.info()[\"name\"]}').mkdir(exist_ok=True)\n",
    "\n",
    "            response = requests.get(f'{base_url}{url}')\n",
    "            img = Image.open(BytesIO(response.content))\n",
    "    #         print(f'{actors_dir}/{row[\"actor_dir\"]}/{i}.jpg')\n",
    "            img.save(f'{actors_dir}/{row[\"actor_dir\"]}/{i}.jpg')\n",
    "            print('saved', people.info()[\"name\"], i)\n",
    "    except IndexError:\n",
    "        print(f'failed for {people.info()[\"name\"]} - {i}')\n",
    "        continue\n",
    "#     break"
   ]
  },
  {
   "cell_type": "code",
   "execution_count": 144,
   "metadata": {},
   "outputs": [
    {
     "data": {
      "text/plain": [
       "29018"
      ]
     },
     "execution_count": 144,
     "metadata": {},
     "output_type": "execute_result"
    }
   ],
   "source": [
    "# tmdb_id = search.person(query=\"Robert Redford\")[\"results\"][0][\"id\"]\n",
    "\n",
    "idx\n",
    "# people.images()\n",
    "# urls = list(map(lambda x: x['file_path'], people.images()['profiles']))\n",
    "# response = requests.get(f\"{base_url}{urls[1]}\")\n",
    "# img = Image.open(BytesIO(response.content))\n",
    "# img\n",
    "# actors_df.iloc[idx]"
   ]
  },
  {
   "cell_type": "code",
   "execution_count": 122,
   "metadata": {},
   "outputs": [
    {
     "data": {
      "text/plain": [
       "[1, 2, 3]"
      ]
     },
     "execution_count": 122,
     "metadata": {},
     "output_type": "execute_result"
    }
   ],
   "source": [
    "Image.open(f'{actors_dir}/{row[\"actor_dir\"]}/{i}.jpg')\n",
    "[1,2,3][:5]"
   ]
  },
  {
   "cell_type": "code",
   "execution_count": null,
   "metadata": {},
   "outputs": [],
   "source": [
    "people = tmdb.People(actor_id)\n",
    "urls = list(map(lambda x: x['file_path'], people.images()['profiles']))\n",
    "\n",
    "for i, url in enumerate(urls):\n",
    "if i==limit:\n",
    "  break\n",
    "\n",
    "Path(f'{actors_dir}/{people.info()[\"name\"]}').mkdir(exist_ok=True)\n",
    "\n",
    "response = requests.get(f'{base_url}{url}')\n",
    "img = Image.open(BytesIO(response.content))\n",
    "img.save(f'{actors_dir}/{people.info()[\"name\"]}/{people.info()[\"name\"]}-{i}.jpg')"
   ]
  },
  {
   "cell_type": "markdown",
   "metadata": {
    "id": "d8tmQgvGCsse"
   },
   "source": [
    "# By Races"
   ]
  },
  {
   "cell_type": "markdown",
   "metadata": {
    "id": "aTP8gIXwCFSN"
   },
   "source": [
    "## Building The Directories"
   ]
  },
  {
   "cell_type": "code",
   "execution_count": null,
   "metadata": {
    "id": "nR4w_53EgKua"
   },
   "outputs": [],
   "source": [
    "races = {\n",
    "'black':['Chadwick Boseman','Will Smith','Morgan Freeman','Donald Glover','Forest Whitaker','Michael Ealy','Halle Berry','Angela Bassett','Viola Davis','Cicely Tyson'],\n",
    "'asian':['Awkwafina','Lana Condor','Aubrey Anderson-Emmons','Lyrica Okano','Claudia Kim','Ki Hong Lee','Manny Jacinto','Arden Cho','Ian Chen','Henry Golding'],\n",
    "'indian':['Amitabh Bachchan','Priyanka Chopra','Irrfan Khan','Akshay Kumar','Deepika Padukone','Anil Kapoor','Kamal Haasan','Vidya Balan','Kareena Kapoor','Katrina Kaif'],\n",
    "'hispanic':['Jennifer Lopez','John Leguizamo','Cheech Marin','Danny Trejo','Sofía Vergara','Penélope Cruz','George Lopez','Benjamin Bratt','Guillermo Navarro','Aubrey Plaza'],\n",
    "'white':['James Mcavoy','Chris Pratt','Chris Hemsworth','Chris Evans','Sebastian Stan','Angelina Jolie','Scarlett Johansson','Christina Hendricks','Amanda Seyfried','Natalie Portman']\n",
    "}\n",
    "\n",
    "actors = ['Chadwick Boseman','Will Smith','Morgan Freeman','Donald Glover','Forest Whitaker','Michael Ealy','Halle Berry','Angela Bassett','Viola Davis','Cicely Tyson','Awkwafina','Lana Condor','Aubrey Anderson-Emmons','Lyrica Okano','Claudia Kim','Ki Hong Lee','Manny Jacinto','Arden Cho','Ian Chen','Henry Golding','Amitabh Bachchan','Priyanka Chopra','Irrfan Khan','Akshay Kumar','Deepika Padukone','Anil Kapoor','Kamal Haasan','Vidya Balan','Kareena Kapoor','Katrina Kaif','Jennifer Lopez','John Leguizamo','Cheech Marin','Danny Trejo','Sofía Vergara','Penélope Cruz','George Lopez','Benjamin Bratt','Guillermo Navarro','Aubrey Plaza','James Mcavoy','Chris Pratt','Chris Hemsworth','Chris Evans','Sebastian Stan','Angelina Jolie','Scarlett Johansson','Christina Hendricks','Amanda Seyfried','Natalie Portman']\n",
    "actors_ids = [172069,2888,192,119589,2178,8177,4587,9780,19492,18249,1625558,1452046,1224228,1684139,1401531,1310760,1368795,144279,1397359,1807132,35780,77234,76793,35070,53975,72118,93193,35068,37233,81869,16866,5723,11159,11160,63522,955,41798,4589,3113,119592,5530,73457,74568,16828,60898,11701,1245,110014,71070,524]"
   ]
  },
  {
   "cell_type": "code",
   "execution_count": 8,
   "metadata": {
    "id": "RTsnjsAPcqsR"
   },
   "outputs": [],
   "source": [
    "import requests\n",
    "from PIL import Image\n",
    "from io import BytesIO\n",
    "import tmdbsimple as tmdb\n",
    "from pathlib import Path\n",
    "import pandas as pd\n",
    "\n",
    "Path(\"validation\").mkdir(exist_ok=True)\n",
    "Path(\"validation/actors\").mkdir(exist_ok=True)\n",
    "Path(\"validation/races\").mkdir(exist_ok=True)\n",
    "\n",
    "data_path = Path('/data/Posters/data')\n",
    "base_dir = Path('validation')\n",
    "actors_dir = base_dir / 'actors'\n",
    "races_dir = base_dir / 'races'\n",
    "\n",
    "tmdb.API_KEY = ''\n",
    "base_url = 'https://image.tmdb.org/t/p/w780'\n",
    "search = tmdb.Search()\n",
    "\n",
    "def get_ids(actors_names):\n",
    "  actors_ids = []\n",
    "\n",
    "  for actor_name in actors_names:\n",
    "    search.person(query=actor_name)\n",
    "    id = search.results[0]['id']\n",
    "    actors_ids.append(id)\n",
    "\n",
    "  return actors_ids\n",
    "\n",
    "def save_actor_images(actor_id, limit):\n",
    "  people = tmdb.People(actor_id)\n",
    "  urls = list(map(lambda x: x['file_path'], people.images()['profiles']))\n",
    "\n",
    "  for i, url in enumerate(urls):\n",
    "    if i==limit:\n",
    "      break\n",
    "\n",
    "    Path(f'{actors_dir}/{people.info()[\"name\"]}').mkdir(exist_ok=True)\n",
    "\n",
    "    response = requests.get(f'{base_url}{url}')\n",
    "    img = Image.open(BytesIO(response.content))\n",
    "    img.save(f'{actors_dir}/{people.info()[\"name\"]}/{people.info()[\"name\"]}-{i}.jpg')\n",
    "\n",
    "def save_actors_by_race(actors_names, race):\n",
    "  actors_ids = get_ids(actors_names)\n",
    "  for actor_id in actors_ids:\n",
    "    people = tmdb.People(actor_id)\n",
    "    url = people.images()['profiles'][0]['file_path']\n",
    "\n",
    "    Path(f'{races_dir}/{race}').mkdir(exist_ok=True)\n",
    "\n",
    "    response = requests.get(f'{base_url}{url}')\n",
    "    img = Image.open(BytesIO(response.content))\n",
    "    img.save(f'{races_dir}/{race}/{people.info()[\"name\"]}.jpg')\n",
    "\n",
    "# for id in actors_ids:\n",
    "#   save_actor_images(id, 3)\n",
    "\n",
    "# for race, names in races.items():\n",
    "#   save_actors_by_race(names, race)"
   ]
  },
  {
   "cell_type": "markdown",
   "metadata": {
    "id": "WGqkP6vYCVEo"
   },
   "source": [
    "## Cropping"
   ]
  },
  {
   "cell_type": "code",
   "execution_count": null,
   "metadata": {
    "id": "0WsAtQkvbEKf"
   },
   "outputs": [],
   "source": [
    "Path('cropped').mkdir(exist_ok=True)\n",
    "!cp -r validation/* cropped/"
   ]
  },
  {
   "cell_type": "code",
   "execution_count": null,
   "metadata": {
    "colab": {
     "base_uri": "https://localhost:8080/",
     "height": 117,
     "referenced_widgets": [
      "ca734496d7444857b6cc3d32e09df387",
      "6b4660b0d95c400eba2d35ff5badf4a5",
      "bc618126ce264f0ea0d5db8b5e1309a5",
      "94918a7109c0410b8c8dcfb2019d6e49",
      "aa633fca61834088b1e1a9a4bb1e888e",
      "8e8a9bc054b843f4ae1cb6a2695f26e2",
      "d6f95864d605443f845cdcdee0b8eeef",
      "04ed79101c5a4c6cbd3d9af1d8e324ce"
     ]
    },
    "id": "J42Dwov8YvbP",
    "outputId": "e578e306-5766-450d-c39d-cc48c499ec7e"
   },
   "outputs": [
    {
     "name": "stderr",
     "output_type": "stream",
     "text": [
      "/usr/local/lib/python3.6/dist-packages/ipykernel_launcher.py:10: TqdmDeprecationWarning: This function will be removed in tqdm==5.0.0\n",
      "Please use `tqdm.notebook.tqdm` instead of `tqdm.tqdm_notebook`\n",
      "  # Remove the CWD from sys.path while we load stuff.\n"
     ]
    },
    {
     "data": {
      "application/vnd.jupyter.widget-view+json": {
       "model_id": "ca734496d7444857b6cc3d32e09df387",
       "version_major": 2,
       "version_minor": 0
      },
      "text/plain": [
       "HBox(children=(FloatProgress(value=0.0, description='Images', max=173.0, style=ProgressStyle(description_width…"
      ]
     },
     "metadata": {
      "tags": []
     },
     "output_type": "display_data"
    },
    {
     "name": "stdout",
     "output_type": "stream",
     "text": [
      "\n"
     ]
    }
   ],
   "source": [
    "from mtcnn import MTCNN\n",
    "import cv2\n",
    "\n",
    "\n",
    "detector = MTCNN()\n",
    "\n",
    "from tqdm import tqdm_notebook as tqdm\n",
    "cropped_path= Path('cropped')\n",
    "\n",
    "for img in tqdm(cropped_path.rglob(\"*.jpg\"), desc=\"Images\", total=len(list(cropped_path.rglob(\"*.jpg\")))):\n",
    "  try: \n",
    "    im = Image.open(img).convert(\"RGB\") \n",
    "    for face in detector.detect_faces(np.asarray(im)):\n",
    "      box = face[\"box\"]\n",
    "      im1 = im.crop(box=(box[0], box[1], box[0]+box[2],box[1]+box[3] )) \n",
    "      im1.save(img)\n",
    "      break\n",
    "  except IsADirectoryError:\n",
    "    pass"
   ]
  },
  {
   "cell_type": "code",
   "execution_count": null,
   "metadata": {
    "id": "2chhWvlIh106"
   },
   "outputs": [],
   "source": [
    "cropped_dir = Path(f'cropped')\n",
    "cropped_actors_dir = cropped_dir / 'actors'\n",
    "cropped_races_dir = cropped_dir / 'races'\n",
    "\n",
    "df_val = pd.DataFrame({\"img\": list(cropped_races_dir.rglob(\"*.jpg\")), \"img_raw\": list(races_dir.rglob(\"*.jpg\"))})\n",
    "df_val[\"label\"] = df_val[\"img\"].apply(lambda x: x.parents[0].name)\n",
    "df_val[\"name\"] = df_val[\"img\"].apply(lambda x: x.stem)"
   ]
  },
  {
   "cell_type": "markdown",
   "metadata": {
    "id": "3t37RNUvCanb"
   },
   "source": [
    "## Our Models"
   ]
  },
  {
   "cell_type": "code",
   "execution_count": null,
   "metadata": {
    "id": "LA3W97o51JNj"
   },
   "outputs": [],
   "source": [
    "model_acc = {}"
   ]
  },
  {
   "cell_type": "code",
   "execution_count": null,
   "metadata": {
    "colab": {
     "base_uri": "https://localhost:8080/",
     "height": 183,
     "referenced_widgets": [
      "729928f966074f7b83bc9ef10fd3c99a",
      "d2ca1ff79e17476a8d919231bdbe7ed1",
      "821a557bb55d4e359813efe2558e2753",
      "ca40439db4684bd4bf053590cc8e316e",
      "e4b58d32f2de48f590340ebc7d3aab75",
      "4fe5e22c7e8a47e3a1562efdca619d06",
      "e34b5c5abcdd44e289bba468ca6095bf",
      "d0839b7858b74b9fbc3d348267551c5a"
     ]
    },
    "id": "qeAjE79fRLmp",
    "outputId": "670782d9-8e61-49d4-9228-6c82001911b3"
   },
   "outputs": [
    {
     "name": "stderr",
     "output_type": "stream",
     "text": [
      "/usr/local/lib/python3.6/dist-packages/ipykernel_launcher.py:14: TqdmDeprecationWarning: This function will be removed in tqdm==5.0.0\n",
      "Please use `tqdm.notebook.tqdm` instead of `tqdm.tqdm_notebook`\n",
      "  \n"
     ]
    },
    {
     "data": {
      "application/vnd.jupyter.widget-view+json": {
       "model_id": "729928f966074f7b83bc9ef10fd3c99a",
       "version_major": 2,
       "version_minor": 0
      },
      "text/plain": [
       "HBox(children=(FloatProgress(value=1.0, bar_style='info', max=1.0), HTML(value='')))"
      ]
     },
     "metadata": {
      "tags": []
     },
     "output_type": "display_data"
    },
    {
     "name": "stdout",
     "output_type": "stream",
     "text": [
      "\n"
     ]
    },
    {
     "data": {
      "text/plain": [
       "{'ethni_0825f1_v6': 0.52,\n",
       " 'ethni_085b_96unfrezee_V6': 0.58,\n",
       " 'ethni_085b_unfrezee_V6': 0.58,\n",
       " 'ethni_086f1': 0.54}"
      ]
     },
     "execution_count": 81,
     "metadata": {
      "tags": []
     },
     "output_type": "execute_result"
    }
   ],
   "source": [
    "models_dir = Path(root_dir)/\"models\"\n",
    "models_paths = list(models_dir.glob(\"*.pkl\"))\n",
    "\n",
    "for m_path in tqdm(models_paths[6:7]):\n",
    "  print(m_path)\n",
    "  learner = load_learner(m_path)\n",
    "  res = [learner.predict(line)[0] for line in df_val[\"img\"]]\n",
    "\n",
    "  df_val[\"Ours\"] = res\n",
    "  df_val[\"Ours\"] = df_val[\"Ours\"].replace(\"latino\",\"hispanic\")\n",
    "  df_val[\"Ours\"] = df_val[\"Ours\"].replace(\"african\",\"black\")\n",
    "  acc = sum(df_val[\"Ours\"] == df_val[\"label\"]) / len(df_val)\n",
    "  model_acc[m_path.stem] = acc\n",
    "\n",
    "model_acc"
   ]
  },
  {
   "cell_type": "code",
   "execution_count": null,
   "metadata": {
    "colab": {
     "base_uri": "https://localhost:8080/",
     "height": 320
    },
    "id": "HedbE9E-zjiP",
    "outputId": "b5f803c6-f9d1-458f-851e-f24d1247db25"
   },
   "outputs": [
    {
     "ename": "AttributeError",
     "evalue": "ignored",
     "output_type": "error",
     "traceback": [
      "\u001b[0;31m---------------------------------------------------------------------------\u001b[0m",
      "\u001b[0;31mAttributeError\u001b[0m                            Traceback (most recent call last)",
      "\u001b[0;32m<ipython-input-73-7de02a58ddf6>\u001b[0m in \u001b[0;36m<module>\u001b[0;34m()\u001b[0m\n\u001b[1;32m      1\u001b[0m \u001b[0mmodels_paths\u001b[0m\u001b[0;34m[\u001b[0m\u001b[0;36m1\u001b[0m\u001b[0;34m:\u001b[0m\u001b[0;36m2\u001b[0m\u001b[0;34m]\u001b[0m\u001b[0;34m\u001b[0m\u001b[0;34m\u001b[0m\u001b[0m\n\u001b[0;32m----> 2\u001b[0;31m \u001b[0mlearner\u001b[0m \u001b[0;34m=\u001b[0m \u001b[0mload_learner\u001b[0m\u001b[0;34m(\u001b[0m\u001b[0;34m'/content/gdrive/My Drive/models/ethni_083f_unfrezee_V9.pkl'\u001b[0m\u001b[0;34m)\u001b[0m\u001b[0;34m\u001b[0m\u001b[0;34m\u001b[0m\u001b[0m\n\u001b[0m",
      "\u001b[0;32m/usr/local/lib/python3.6/dist-packages/fastai/learner.py\u001b[0m in \u001b[0;36mload_learner\u001b[0;34m(fname, cpu, pickle_module)\u001b[0m\n\u001b[1;32m    552\u001b[0m     \u001b[0;34m\"Load a `Learner` object in `fname`, optionally putting it on the `cpu`\"\u001b[0m\u001b[0;34m\u001b[0m\u001b[0;34m\u001b[0m\u001b[0m\n\u001b[1;32m    553\u001b[0m     \u001b[0mdistrib_barrier\u001b[0m\u001b[0;34m(\u001b[0m\u001b[0;34m)\u001b[0m\u001b[0;34m\u001b[0m\u001b[0;34m\u001b[0m\u001b[0m\n\u001b[0;32m--> 554\u001b[0;31m     \u001b[0mres\u001b[0m \u001b[0;34m=\u001b[0m \u001b[0mtorch\u001b[0m\u001b[0;34m.\u001b[0m\u001b[0mload\u001b[0m\u001b[0;34m(\u001b[0m\u001b[0mfname\u001b[0m\u001b[0;34m,\u001b[0m \u001b[0mmap_location\u001b[0m\u001b[0;34m=\u001b[0m\u001b[0;34m'cpu'\u001b[0m \u001b[0;32mif\u001b[0m \u001b[0mcpu\u001b[0m \u001b[0;32melse\u001b[0m \u001b[0;32mNone\u001b[0m\u001b[0;34m,\u001b[0m \u001b[0mpickle_module\u001b[0m\u001b[0;34m=\u001b[0m\u001b[0mpickle_module\u001b[0m\u001b[0;34m)\u001b[0m\u001b[0;34m\u001b[0m\u001b[0;34m\u001b[0m\u001b[0m\n\u001b[0m\u001b[1;32m    555\u001b[0m     \u001b[0;32mif\u001b[0m \u001b[0mhasattr\u001b[0m\u001b[0;34m(\u001b[0m\u001b[0mres\u001b[0m\u001b[0;34m,\u001b[0m \u001b[0;34m'to_fp32'\u001b[0m\u001b[0;34m)\u001b[0m\u001b[0;34m:\u001b[0m \u001b[0mres\u001b[0m \u001b[0;34m=\u001b[0m \u001b[0mres\u001b[0m\u001b[0;34m.\u001b[0m\u001b[0mto_fp32\u001b[0m\u001b[0;34m(\u001b[0m\u001b[0;34m)\u001b[0m\u001b[0;34m\u001b[0m\u001b[0;34m\u001b[0m\u001b[0m\n\u001b[1;32m    556\u001b[0m     \u001b[0;32mif\u001b[0m \u001b[0mcpu\u001b[0m\u001b[0;34m:\u001b[0m \u001b[0mres\u001b[0m\u001b[0;34m.\u001b[0m\u001b[0mdls\u001b[0m\u001b[0;34m.\u001b[0m\u001b[0mcpu\u001b[0m\u001b[0;34m(\u001b[0m\u001b[0;34m)\u001b[0m\u001b[0;34m\u001b[0m\u001b[0;34m\u001b[0m\u001b[0m\n",
      "\u001b[0;32m/usr/local/lib/python3.6/dist-packages/torch/serialization.py\u001b[0m in \u001b[0;36mload\u001b[0;34m(f, map_location, pickle_module, **pickle_load_args)\u001b[0m\n\u001b[1;32m    592\u001b[0m                     \u001b[0mopened_file\u001b[0m\u001b[0;34m.\u001b[0m\u001b[0mseek\u001b[0m\u001b[0;34m(\u001b[0m\u001b[0morig_position\u001b[0m\u001b[0;34m)\u001b[0m\u001b[0;34m\u001b[0m\u001b[0;34m\u001b[0m\u001b[0m\n\u001b[1;32m    593\u001b[0m                     \u001b[0;32mreturn\u001b[0m \u001b[0mtorch\u001b[0m\u001b[0;34m.\u001b[0m\u001b[0mjit\u001b[0m\u001b[0;34m.\u001b[0m\u001b[0mload\u001b[0m\u001b[0;34m(\u001b[0m\u001b[0mopened_file\u001b[0m\u001b[0;34m)\u001b[0m\u001b[0;34m\u001b[0m\u001b[0;34m\u001b[0m\u001b[0m\n\u001b[0;32m--> 594\u001b[0;31m                 \u001b[0;32mreturn\u001b[0m \u001b[0m_load\u001b[0m\u001b[0;34m(\u001b[0m\u001b[0mopened_zipfile\u001b[0m\u001b[0;34m,\u001b[0m \u001b[0mmap_location\u001b[0m\u001b[0;34m,\u001b[0m \u001b[0mpickle_module\u001b[0m\u001b[0;34m,\u001b[0m \u001b[0;34m**\u001b[0m\u001b[0mpickle_load_args\u001b[0m\u001b[0;34m)\u001b[0m\u001b[0;34m\u001b[0m\u001b[0;34m\u001b[0m\u001b[0m\n\u001b[0m\u001b[1;32m    595\u001b[0m         \u001b[0;32mreturn\u001b[0m \u001b[0m_legacy_load\u001b[0m\u001b[0;34m(\u001b[0m\u001b[0mopened_file\u001b[0m\u001b[0;34m,\u001b[0m \u001b[0mmap_location\u001b[0m\u001b[0;34m,\u001b[0m \u001b[0mpickle_module\u001b[0m\u001b[0;34m,\u001b[0m \u001b[0;34m**\u001b[0m\u001b[0mpickle_load_args\u001b[0m\u001b[0;34m)\u001b[0m\u001b[0;34m\u001b[0m\u001b[0;34m\u001b[0m\u001b[0m\n\u001b[1;32m    596\u001b[0m \u001b[0;34m\u001b[0m\u001b[0m\n",
      "\u001b[0;32m/usr/local/lib/python3.6/dist-packages/torch/serialization.py\u001b[0m in \u001b[0;36m_load\u001b[0;34m(zip_file, map_location, pickle_module, pickle_file, **pickle_load_args)\u001b[0m\n\u001b[1;32m    851\u001b[0m     \u001b[0munpickler\u001b[0m \u001b[0;34m=\u001b[0m \u001b[0mpickle_module\u001b[0m\u001b[0;34m.\u001b[0m\u001b[0mUnpickler\u001b[0m\u001b[0;34m(\u001b[0m\u001b[0mdata_file\u001b[0m\u001b[0;34m,\u001b[0m \u001b[0;34m**\u001b[0m\u001b[0mpickle_load_args\u001b[0m\u001b[0;34m)\u001b[0m\u001b[0;34m\u001b[0m\u001b[0;34m\u001b[0m\u001b[0m\n\u001b[1;32m    852\u001b[0m     \u001b[0munpickler\u001b[0m\u001b[0;34m.\u001b[0m\u001b[0mpersistent_load\u001b[0m \u001b[0;34m=\u001b[0m \u001b[0mpersistent_load\u001b[0m\u001b[0;34m\u001b[0m\u001b[0;34m\u001b[0m\u001b[0m\n\u001b[0;32m--> 853\u001b[0;31m     \u001b[0mresult\u001b[0m \u001b[0;34m=\u001b[0m \u001b[0munpickler\u001b[0m\u001b[0;34m.\u001b[0m\u001b[0mload\u001b[0m\u001b[0;34m(\u001b[0m\u001b[0;34m)\u001b[0m\u001b[0;34m\u001b[0m\u001b[0;34m\u001b[0m\u001b[0m\n\u001b[0m\u001b[1;32m    854\u001b[0m \u001b[0;34m\u001b[0m\u001b[0m\n\u001b[1;32m    855\u001b[0m     \u001b[0mtorch\u001b[0m\u001b[0;34m.\u001b[0m\u001b[0m_utils\u001b[0m\u001b[0;34m.\u001b[0m\u001b[0m_validate_loaded_sparse_tensors\u001b[0m\u001b[0;34m(\u001b[0m\u001b[0;34m)\u001b[0m\u001b[0;34m\u001b[0m\u001b[0;34m\u001b[0m\u001b[0m\n",
      "\u001b[0;31mAttributeError\u001b[0m: Can't get attribute 'AlbumentationsTransform' on <module '__main__'>"
     ]
    }
   ],
   "source": [
    "models_paths[1:2]\n",
    "models_paths[2:3]\n",
    "learner = load_learner()"
   ]
  },
  {
   "cell_type": "markdown",
   "metadata": {
    "id": "Gwr2rnBJ2xo-"
   },
   "source": [
    "## Fair Face Model"
   ]
  },
  {
   "cell_type": "code",
   "execution_count": null,
   "metadata": {
    "colab": {
     "base_uri": "https://localhost:8080/"
    },
    "id": "o5_pXk0j6Qp9",
    "outputId": "a6c9402b-492f-4ec6-a6a2-656386dfade0"
   },
   "outputs": [
    {
     "name": "stdout",
     "output_type": "stream",
     "text": [
      "Mounted at /content/gdrive\n"
     ]
    }
   ],
   "source": [
    "from google.colab import drive\n",
    "drive.mount('/content/gdrive', force_remount=True)\n",
    "root_dir = \"/content/gdrive/My Drive/\"\n",
    "base_dir = Path('dataset/')"
   ]
  },
  {
   "cell_type": "code",
   "execution_count": null,
   "metadata": {
    "colab": {
     "base_uri": "https://localhost:8080/"
    },
    "id": "YRhw4xTo2yOx",
    "outputId": "42b6b859-c25b-43a2-a78e-53f8b3c2f9f6"
   },
   "outputs": [
    {
     "name": "stdout",
     "output_type": "stream",
     "text": [
      "Cloning into 'FairFace'...\n",
      "remote: Enumerating objects: 202, done.\u001b[K\n",
      "remote: Total 202 (delta 0), reused 0 (delta 0), pack-reused 202\u001b[K\n",
      "Receiving objects: 100% (202/202), 14.23 MiB | 38.84 MiB/s, done.\n",
      "Resolving deltas: 100% (102/102), done.\n"
     ]
    }
   ],
   "source": [
    "!git clone https://github.com/dchen236/FairFace.git"
   ]
  },
  {
   "cell_type": "code",
   "execution_count": null,
   "metadata": {
    "id": "IiAWRGzELLMy"
   },
   "outputs": [],
   "source": [
    "!cp /content/gdrive/My\\ Drive/Ethnicity/Fair/fair_face_models.zip FairFace/fair_face_models.zip"
   ]
  },
  {
   "cell_type": "code",
   "execution_count": null,
   "metadata": {
    "id": "PfpN3MC06lNf"
   },
   "outputs": [],
   "source": []
  },
  {
   "cell_type": "code",
   "execution_count": null,
   "metadata": {
    "colab": {
     "base_uri": "https://localhost:8080/"
    },
    "id": "sP3sELzFFysb",
    "outputId": "5d5bf476-fcf2-4fe2-8323-335a91c0cb9b"
   },
   "outputs": [
    {
     "name": "stdout",
     "output_type": "stream",
     "text": [
      "Archive:  FairFace/fair_face_models.zip\n",
      "   creating: FairFace/fair_face_models/\n",
      "  inflating: FairFace/fair_face_models/fairface_alldata_4race_20191111.pt  \n",
      "  inflating: FairFace/fair_face_models/res34_fair_align_multi_7_20190809.pt  \n"
     ]
    }
   ],
   "source": [
    "!unzip FairFace/fair_face_models.zip -d FairFace"
   ]
  },
  {
   "cell_type": "code",
   "execution_count": null,
   "metadata": {
    "id": "K0zbyAXHGNT8"
   },
   "outputs": [],
   "source": [
    "!mv FairFace/fair_face_models/res34_fair_align_multi_7_20190809.pt FairFace/fair_face_models/fairface_alldata_20191111.pt"
   ]
  },
  {
   "cell_type": "code",
   "execution_count": null,
   "metadata": {
    "id": "s2RZTQuwPynj"
   },
   "outputs": [],
   "source": [
    "df_val[\"img_path\"] = df_val[\"img_raw\"].apply(lambda x: str(x.absolute()))\n",
    "df_val[[\"img_path\"]].to_csv(\"FairFace/val.csv\",index=False)\n",
    "# df_val[\"img_face_path\"] = df_val[\"img\"].apply(lambda x: str(x.absolute()))"
   ]
  },
  {
   "cell_type": "code",
   "execution_count": null,
   "metadata": {
    "colab": {
     "base_uri": "https://localhost:8080/"
    },
    "id": "e6x72P9a8OTP",
    "outputId": "a07a7502-ec32-4106-886b-da934f86864d"
   },
   "outputs": [
    {
     "name": "stdout",
     "output_type": "stream",
     "text": [
      "/content/FairFace\n"
     ]
    }
   ],
   "source": [
    "%cd FairFace"
   ]
  },
  {
   "cell_type": "code",
   "execution_count": null,
   "metadata": {
    "colab": {
     "base_uri": "https://localhost:8080/"
    },
    "id": "WTkIoXOf3TuM",
    "outputId": "a394c098-f9bc-41c6-d9cf-b9e58df8ac35"
   },
   "outputs": [
    {
     "name": "stdout",
     "output_type": "stream",
     "text": [
      "using CUDA?: True\n",
      "---0/50---\n",
      "detected faces are saved at  detected_faces\n",
      "Predicting... 0/55\n",
      "saved results at  test_outputs.csv\n"
     ]
    }
   ],
   "source": [
    "!python predict.py --csv \"val.csv\""
   ]
  },
  {
   "cell_type": "code",
   "execution_count": null,
   "metadata": {
    "colab": {
     "base_uri": "https://localhost:8080/"
    },
    "id": "6_cxkLMz8nJt",
    "outputId": "242f07bd-894f-4e17-f573-1cdbc98fe7b0"
   },
   "outputs": [
    {
     "name": "stdout",
     "output_type": "stream",
     "text": [
      "/content\n"
     ]
    }
   ],
   "source": [
    "%cd .."
   ]
  },
  {
   "cell_type": "code",
   "execution_count": null,
   "metadata": {
    "id": "BZwodropcZEM"
   },
   "outputs": [],
   "source": [
    "df_fair = pd.read_csv(\"FairFace/test_outputs.csv\")\n",
    "df_fair[\"name\"] =  df_fair[\"face_name_align\"].apply(lambda x: x.split(\"/\")[-1].split(\"_face\")[0]) "
   ]
  },
  {
   "cell_type": "code",
   "execution_count": null,
   "metadata": {
    "colab": {
     "base_uri": "https://localhost:8080/"
    },
    "id": "hSOH1rOwdmco",
    "outputId": "c2705448-a7c2-4079-b401-3cb65b0630da"
   },
   "outputs": [
    {
     "data": {
      "text/plain": [
       "0.9"
      ]
     },
     "execution_count": 47,
     "metadata": {
      "tags": []
     },
     "output_type": "execute_result"
    }
   ],
   "source": [
    "df_val[\"label\"] = df_val[\"label\"].replace(\"asian\",\"Asian\")\n",
    "df_val[\"label\"] = df_val[\"label\"].replace(\"black\",\"Black\")\n",
    "df_val[\"label\"] = df_val[\"label\"].replace(\"white\",\"White\")\n",
    "df_val[\"label\"] = df_val[\"label\"].replace(\"hispanic\",\"White\")\n",
    "df_val[\"label\"] = df_val[\"label\"].replace(\"indian\",\"Indian\")\n",
    "\n",
    "df_merged = df_fair.merge(df_val)[[\"race\",\"race4\",\"label\"]]\n",
    "\n",
    "sum(df_merged[\"race4\"] == df_merged[\"label\"]) / len(df_val)"
   ]
  },
  {
   "cell_type": "markdown",
   "metadata": {
    "id": "b-XrZ9g-DBpl"
   },
   "source": [
    "# By Actors"
   ]
  },
  {
   "cell_type": "markdown",
   "metadata": {
    "id": "El9jNTsODJir"
   },
   "source": [
    "## Fair Face Model"
   ]
  },
  {
   "cell_type": "code",
   "execution_count": null,
   "metadata": {
    "colab": {
     "base_uri": "https://localhost:8080/"
    },
    "collapsed": true,
    "id": "-mTyhrskJQ6U",
    "jupyter": {
     "outputs_hidden": true
    },
    "outputId": "ef799cdd-430c-4de1-eeac-d36cd5ee6b5d"
   },
   "outputs": [
    {
     "data": {
      "text/plain": [
       "[Path('validation/actors/Chadwick Boseman'),\n",
       " Path('validation/actors/Will Smith'),\n",
       " Path('validation/actors/Morgan Freeman'),\n",
       " Path('validation/actors/Donald Glover'),\n",
       " Path('validation/actors/Forest Whitaker'),\n",
       " Path('validation/actors/Michael Ealy'),\n",
       " Path('validation/actors/Halle Berry'),\n",
       " Path('validation/actors/Angela Bassett'),\n",
       " Path('validation/actors/Viola Davis'),\n",
       " Path('validation/actors/Cicely Tyson'),\n",
       " Path('validation/actors/Awkwafina'),\n",
       " Path('validation/actors/Lana Condor'),\n",
       " Path('validation/actors/Aubrey Anderson-Emmons'),\n",
       " Path('validation/actors/Lyrica Okano'),\n",
       " Path('validation/actors/Claudia Kim'),\n",
       " Path('validation/actors/Ki Hong Lee'),\n",
       " Path('validation/actors/Manny Jacinto'),\n",
       " Path('validation/actors/Arden Cho'),\n",
       " Path('validation/actors/Ian Chen'),\n",
       " Path('validation/actors/Henry Golding'),\n",
       " Path('validation/actors/Amitabh Bachchan'),\n",
       " Path('validation/actors/Priyanka Chopra'),\n",
       " Path('validation/actors/Irrfan Khan'),\n",
       " Path('validation/actors/Akshay Kumar'),\n",
       " Path('validation/actors/Deepika Padukone'),\n",
       " Path('validation/actors/Anil Kapoor'),\n",
       " Path('validation/actors/Kamal Haasan'),\n",
       " Path('validation/actors/Vidya Balan'),\n",
       " Path('validation/actors/Kareena Kapoor'),\n",
       " Path('validation/actors/Katrina Kaif'),\n",
       " Path('validation/actors/Jennifer Lopez'),\n",
       " Path('validation/actors/John Leguizamo'),\n",
       " Path('validation/actors/Cheech Marin'),\n",
       " Path('validation/actors/Danny Trejo'),\n",
       " Path('validation/actors/Sofía Vergara'),\n",
       " Path('validation/actors/Penélope Cruz'),\n",
       " Path('validation/actors/George Lopez'),\n",
       " Path('validation/actors/Benjamin Bratt'),\n",
       " Path('validation/actors/Guillermo Navarro'),\n",
       " Path('validation/actors/Aubrey Plaza'),\n",
       " Path('validation/actors/James Mcavoy'),\n",
       " Path('validation/actors/Chris Pratt'),\n",
       " Path('validation/actors/Chris Hemsworth'),\n",
       " Path('validation/actors/Chris Evans'),\n",
       " Path('validation/actors/Sebastian Stan'),\n",
       " Path('validation/actors/Angelina Jolie'),\n",
       " Path('validation/actors/Scarlett Johansson'),\n",
       " Path('validation/actors/Christina Hendricks'),\n",
       " Path('validation/actors/Amanda Seyfried'),\n",
       " Path('validation/actors/Natalie Portman')]"
      ]
     },
     "execution_count": 48,
     "metadata": {
      "tags": []
     },
     "output_type": "execute_result"
    }
   ],
   "source": [
    "actors_dir\n",
    "[actors_dir / a for a in actors]"
   ]
  },
  {
   "cell_type": "code",
   "execution_count": null,
   "metadata": {
    "colab": {
     "base_uri": "https://localhost:8080/",
     "height": 419
    },
    "id": "M9gS3ExoDH7-",
    "outputId": "b9571785-8f0a-42c2-81d6-73e70e81ad6d"
   },
   "outputs": [
    {
     "data": {
      "text/html": [
       "<div>\n",
       "<style scoped>\n",
       "    .dataframe tbody tr th:only-of-type {\n",
       "        vertical-align: middle;\n",
       "    }\n",
       "\n",
       "    .dataframe tbody tr th {\n",
       "        vertical-align: top;\n",
       "    }\n",
       "\n",
       "    .dataframe thead th {\n",
       "        text-align: right;\n",
       "    }\n",
       "</style>\n",
       "<table border=\"1\" class=\"dataframe\">\n",
       "  <thead>\n",
       "    <tr style=\"text-align: right;\">\n",
       "      <th></th>\n",
       "      <th>img_path</th>\n",
       "      <th>name</th>\n",
       "      <th>label</th>\n",
       "    </tr>\n",
       "  </thead>\n",
       "  <tbody>\n",
       "    <tr>\n",
       "      <th>0</th>\n",
       "      <td>/content/validation/actors/Katrina Kaif/Katrina Kaif-1.jpg</td>\n",
       "      <td>Katrina Kaif</td>\n",
       "      <td>Indian</td>\n",
       "    </tr>\n",
       "    <tr>\n",
       "      <th>1</th>\n",
       "      <td>/content/validation/actors/Katrina Kaif/Katrina Kaif-0.jpg</td>\n",
       "      <td>Katrina Kaif</td>\n",
       "      <td>Indian</td>\n",
       "    </tr>\n",
       "    <tr>\n",
       "      <th>2</th>\n",
       "      <td>/content/validation/actors/Katrina Kaif/Katrina Kaif-2.jpg</td>\n",
       "      <td>Katrina Kaif</td>\n",
       "      <td>Indian</td>\n",
       "    </tr>\n",
       "    <tr>\n",
       "      <th>3</th>\n",
       "      <td>/content/validation/actors/Chris Hemsworth/Chris Hemsworth-1.jpg</td>\n",
       "      <td>Chris Hemsworth</td>\n",
       "      <td>White</td>\n",
       "    </tr>\n",
       "    <tr>\n",
       "      <th>4</th>\n",
       "      <td>/content/validation/actors/Chris Hemsworth/Chris Hemsworth-2.jpg</td>\n",
       "      <td>Chris Hemsworth</td>\n",
       "      <td>White</td>\n",
       "    </tr>\n",
       "    <tr>\n",
       "      <th>...</th>\n",
       "      <td>...</td>\n",
       "      <td>...</td>\n",
       "      <td>...</td>\n",
       "    </tr>\n",
       "    <tr>\n",
       "      <th>118</th>\n",
       "      <td>/content/validation/actors/Henry Golding/Henry Golding-0.jpg</td>\n",
       "      <td>Henry Golding</td>\n",
       "      <td>Asian</td>\n",
       "    </tr>\n",
       "    <tr>\n",
       "      <th>119</th>\n",
       "      <td>/content/validation/actors/Henry Golding/Henry Golding-2.jpg</td>\n",
       "      <td>Henry Golding</td>\n",
       "      <td>Asian</td>\n",
       "    </tr>\n",
       "    <tr>\n",
       "      <th>120</th>\n",
       "      <td>/content/validation/actors/Henry Golding/Henry Golding-1.jpg</td>\n",
       "      <td>Henry Golding</td>\n",
       "      <td>Asian</td>\n",
       "    </tr>\n",
       "    <tr>\n",
       "      <th>121</th>\n",
       "      <td>/content/validation/actors/George Lopez/George Lopez-0.jpg</td>\n",
       "      <td>George Lopez</td>\n",
       "      <td>White</td>\n",
       "    </tr>\n",
       "    <tr>\n",
       "      <th>122</th>\n",
       "      <td>/content/validation/actors/George Lopez/George Lopez-1.jpg</td>\n",
       "      <td>George Lopez</td>\n",
       "      <td>White</td>\n",
       "    </tr>\n",
       "  </tbody>\n",
       "</table>\n",
       "<p>123 rows × 3 columns</p>\n",
       "</div>"
      ],
      "text/plain": [
       "                                                             img_path  ...   label\n",
       "0          /content/validation/actors/Katrina Kaif/Katrina Kaif-1.jpg  ...  Indian\n",
       "1          /content/validation/actors/Katrina Kaif/Katrina Kaif-0.jpg  ...  Indian\n",
       "2          /content/validation/actors/Katrina Kaif/Katrina Kaif-2.jpg  ...  Indian\n",
       "3    /content/validation/actors/Chris Hemsworth/Chris Hemsworth-1.jpg  ...   White\n",
       "4    /content/validation/actors/Chris Hemsworth/Chris Hemsworth-2.jpg  ...   White\n",
       "..                                                                ...  ...     ...\n",
       "118      /content/validation/actors/Henry Golding/Henry Golding-0.jpg  ...   Asian\n",
       "119      /content/validation/actors/Henry Golding/Henry Golding-2.jpg  ...   Asian\n",
       "120      /content/validation/actors/Henry Golding/Henry Golding-1.jpg  ...   Asian\n",
       "121        /content/validation/actors/George Lopez/George Lopez-0.jpg  ...   White\n",
       "122        /content/validation/actors/George Lopez/George Lopez-1.jpg  ...   White\n",
       "\n",
       "[123 rows x 3 columns]"
      ]
     },
     "execution_count": 49,
     "metadata": {
      "tags": []
     },
     "output_type": "execute_result"
    }
   ],
   "source": [
    "df_actors = pd.DataFrame({\"img_path\": list(actors_dir.rglob(\"*.jpg\"))})\n",
    "df_actors[\"img_path\"] = df_actors[\"img_path\"].apply(lambda x: str(x.absolute()))\n",
    "df_actors[\"name\"] = df_actors[\"img_path\"].apply(lambda p: p.partition(\"actors/\")[2].partition(\"/\")[0])\n",
    "for i, row in df_val.iterrows():\n",
    "  df_actors.loc[df_actors[\"name\"] == row[\"name\"],\"label\"] = row[\"label\"]\n",
    "\n",
    "df_actors"
   ]
  },
  {
   "cell_type": "code",
   "execution_count": null,
   "metadata": {
    "id": "7fCGl5wEO2c9"
   },
   "outputs": [],
   "source": [
    "df_actors[[\"img_path\"]].to_csv(\"FairFace/actors_val.csv\",index=False)"
   ]
  },
  {
   "cell_type": "code",
   "execution_count": null,
   "metadata": {
    "colab": {
     "base_uri": "https://localhost:8080/"
    },
    "id": "_-szQbYeQow8",
    "outputId": "a2005d8e-aad4-454b-8e9e-f0f8239c94c3"
   },
   "outputs": [
    {
     "name": "stdout",
     "output_type": "stream",
     "text": [
      "/content/FairFace\n",
      "using CUDA?: True\n",
      "---0/123---\n",
      "detected faces are saved at  detected_faces\n",
      "Predicting... 0/124\n",
      "saved results at  test_outputs.csv\n",
      "/content\n"
     ]
    }
   ],
   "source": [
    "!rm -rf FairFace/detected_faces/\n",
    "%cd FairFace\n",
    "!python predict.py --csv \"actors_val.csv\"\n",
    "%cd .."
   ]
  },
  {
   "cell_type": "code",
   "execution_count": null,
   "metadata": {
    "id": "xJYDnrMLRG6p"
   },
   "outputs": [],
   "source": [
    "df_fair_actors = pd.read_csv(\"FairFace/test_outputs.csv\")\n",
    "df_fair_actors[\"name\"] =  df_fair_actors[\"face_name_align\"].apply(lambda x: x.split(\"/\")[-1].split(\"_face\")[0].split(\"-\")[0]) \n",
    "# df_fair_actors[df_fair_actors[\"name\"] == 'John Leguizamo']\n",
    "group= df_fair_actors[df_fair_actors[\"name\"] == 'John Leguizamo']\n",
    "# def grouping(g):\n",
    "  \n",
    "#   return g.value_counts(\"race4\")\n",
    "# # df_fair_actors.groupby(\"name\").apply(grouping)\n",
    "# grouping(group).argmax()"
   ]
  },
  {
   "cell_type": "code",
   "execution_count": null,
   "metadata": {
    "id": "MiT27VoX8K3l"
   },
   "outputs": [],
   "source": [
    "def make_array(text):\n",
    "    return np.fromstring(text,sep=' ')\n",
    "\n"
   ]
  },
  {
   "cell_type": "code",
   "execution_count": null,
   "metadata": {
    "colab": {
     "base_uri": "https://localhost:8080/"
    },
    "id": "GuPrrEPv8Z7N",
    "outputId": "62ffc1d8-e7df-4e1c-a343-37d509db0ae6"
   },
   "outputs": [
    {
     "name": "stderr",
     "output_type": "stream",
     "text": [
      "/usr/local/lib/python3.6/dist-packages/ipykernel_launcher.py:1: DeprecationWarning: string or file could not be read to its end due to unmatched data; this will raise a ValueError in the future.\n",
      "  \"\"\"Entry point for launching an IPython kernel.\n"
     ]
    },
    {
     "data": {
      "text/plain": [
       "array([], dtype=float64)"
      ]
     },
     "execution_count": 97,
     "metadata": {
      "tags": []
     },
     "output_type": "execute_result"
    }
   ],
   "source": [
    " np.fromstring(df_fair_actors[\"race_scores_fair\"][0], sep=\" \")"
   ]
  },
  {
   "cell_type": "code",
   "execution_count": null,
   "metadata": {
    "id": "R89g8Gsx7UnI"
   },
   "outputs": [],
   "source": [
    "df_fair_actors[\"race_scores_fair\"] = df_fair_actors[\"race_scores_fair\"].str.strip(\"[\")\n",
    "df_fair_actors[\"race_scores_fair\"] = df_fair_actors[\"race_scores_fair\"].str.strip(\"]\")\n",
    "df_fair_actors[\"race_scores_fair\"] = df_fair_actors[\"race_scores_fair\"].str.replace(\"\\n\", \"\")\n",
    "df_fair_actors[\"race_scores_fair\"] = df_fair_actors[\"race_scores_fair\"].apply(make_array)"
   ]
  },
  {
   "cell_type": "code",
   "execution_count": null,
   "metadata": {
    "colab": {
     "base_uri": "https://localhost:8080/",
     "height": 35
    },
    "id": "bV4pOAJ-_Ea2",
    "outputId": "73433f4a-7d90-48d3-aed8-06fb3e85b840"
   },
   "outputs": [
    {
     "data": {
      "application/vnd.google.colaboratory.intrinsic+json": {
       "type": "string"
      },
      "text/plain": [
       "'[1.2332422e-04 9.9935174e-01 5.5991706e-05 4.6895538e-04]'"
      ]
     },
     "execution_count": 100,
     "metadata": {
      "tags": []
     },
     "output_type": "execute_result"
    }
   ],
   "source": [
    "df_fair_actors[\"race_scores_fair_4\"][0]"
   ]
  },
  {
   "cell_type": "code",
   "execution_count": null,
   "metadata": {
    "colab": {
     "base_uri": "https://localhost:8080/"
    },
    "id": "Gsui6pJR_Kjz",
    "outputId": "a9387719-d906-4c2e-8614-1c0890f7e65b"
   },
   "outputs": [
    {
     "data": {
      "text/plain": [
       "0      [0.00012332422, 0.99935174, 5.5991706e-05, 0.00046895538]\n",
       "1         [0.99296612, 3.7447382e-05, 0.001092559, 0.0059038997]\n",
       "2        [0.0052239671, 5.8794071e-06, 0.99259251, 0.0021776273]\n",
       "3          [0.40811849, 0.00050312985, 0.0018550161, 0.58952332]\n",
       "4               [0.84233147, 0.08022348, 0.00153142, 0.07591364]\n",
       "                                 ...                            \n",
       "119     [0.99745798, 1.1741641e-05, 1.7528706e-05, 0.0025127043]\n",
       "120        [0.80446827, 0.0033674056, 0.00041935447, 0.19174498]\n",
       "121      [0.00028028144, 0.99258035, 0.0036407569, 0.0034986387]\n",
       "122             [0.98209435, 0.00121475, 0.01133319, 0.00535764]\n",
       "123    [0.99883103, 3.0531228e-05, 0.00025408514, 0.00088434666]\n",
       "Name: race_scores_fair_4, Length: 124, dtype: object"
      ]
     },
     "execution_count": 105,
     "metadata": {
      "tags": []
     },
     "output_type": "execute_result"
    }
   ],
   "source": [
    "df_fair_actors[\"race_scores_fair_4\"].apply(make_array)"
   ]
  },
  {
   "cell_type": "code",
   "execution_count": null,
   "metadata": {
    "id": "eyK2tb6w9b6h"
   },
   "outputs": [],
   "source": [
    "df_fair_actors[\"race_scores_fair_4\"] = df_fair_actors[\"race_scores_fair_4\"].str.strip(\"[\")\n",
    "df_fair_actors[\"race_scores_fair_4\"] = df_fair_actors[\"race_scores_fair_4\"].str.strip(\"]\")\n",
    "df_fair_actors[\"race_scores_fair_4\"] = df_fair_actors[\"race_scores_fair_4\"].str.replace(\"\\n\", \"\")\n",
    "df_fair_actors[\"race_scores_fair_4\"] = df_fair_actors[\"race_scores_fair_4\"].apply(make_array)"
   ]
  },
  {
   "cell_type": "code",
   "execution_count": null,
   "metadata": {
    "id": "HYKtwJfX7Ads"
   },
   "outputs": [],
   "source": [
    "res = []\n",
    "for n, line in df_fair_actors.groupby(\"name\"):\n",
    "  res.append((n, races[np.stack(line[\"race_scores_fair_4\"].values).mean(axis=0).argmax()]))\n",
    "  "
   ]
  },
  {
   "cell_type": "code",
   "execution_count": null,
   "metadata": {},
   "outputs": [],
   "source": [
    "res"
   ]
  },
  {
   "cell_type": "code",
   "execution_count": null,
   "metadata": {
    "colab": {
     "base_uri": "https://localhost:8080/",
     "height": 589
    },
    "collapsed": true,
    "id": "QnOjBAYYBZMt",
    "jupyter": {
     "outputs_hidden": true
    },
    "outputId": "a9b99b2b-aab9-4356-f121-37e2223f3229"
   },
   "outputs": [
    {
     "data": {
      "text/html": [
       "<div>\n",
       "<style scoped>\n",
       "    .dataframe tbody tr th:only-of-type {\n",
       "        vertical-align: middle;\n",
       "    }\n",
       "\n",
       "    .dataframe tbody tr th {\n",
       "        vertical-align: top;\n",
       "    }\n",
       "\n",
       "    .dataframe thead th {\n",
       "        text-align: right;\n",
       "    }\n",
       "</style>\n",
       "<table border=\"1\" class=\"dataframe\">\n",
       "  <thead>\n",
       "    <tr style=\"text-align: right;\">\n",
       "      <th></th>\n",
       "      <th>face_name_align</th>\n",
       "      <th>race</th>\n",
       "      <th>race4</th>\n",
       "      <th>gender</th>\n",
       "      <th>age</th>\n",
       "      <th>race_scores_fair</th>\n",
       "      <th>race_scores_fair_4</th>\n",
       "      <th>gender_scores_fair</th>\n",
       "      <th>age_scores_fair</th>\n",
       "      <th>name</th>\n",
       "    </tr>\n",
       "  </thead>\n",
       "  <tbody>\n",
       "    <tr>\n",
       "      <th>0</th>\n",
       "      <td>detected_faces/Viola Davis-1_face0.jpg</td>\n",
       "      <td>Black</td>\n",
       "      <td>Black</td>\n",
       "      <td>Female</td>\n",
       "      <td>30-39</td>\n",
       "      <td>[1.5005918e-05, 0.99840003, 0.0006869362, 2.85928e-05, 0.00035486693, 0.00051262492, 1.8353982e-06]</td>\n",
       "      <td>[0.00012332422, 0.99935174, 5.5991706e-05, 0.00046895538]</td>\n",
       "      <td>[3.9583317e-04 9.9960417e-01]</td>\n",
       "      <td>[1.1529766e-07 6.5544809e-06 3.2189407e-03 2.2442445e-01 6.2065440e-01\\n 1.4239049e-01 9.1252709e-03 1.7564757e-04 4.0849932e-06]</td>\n",
       "      <td>Viola Davis</td>\n",
       "    </tr>\n",
       "    <tr>\n",
       "      <th>1</th>\n",
       "      <td>detected_faces/Angelina Jolie-1_face0.jpg</td>\n",
       "      <td>White</td>\n",
       "      <td>White</td>\n",
       "      <td>Female</td>\n",
       "      <td>30-39</td>\n",
       "      <td>[0.94232213, 3.5342923e-06, 0.0067687379, 4.2068594e-05, 3.1999098e-05, 0.00022261257, 0.050608966]</td>\n",
       "      <td>[0.99296612, 3.7447382e-05, 0.001092559, 0.0059038997]</td>\n",
       "      <td>[8.1347770e-07 9.9999917e-01]</td>\n",
       "      <td>[9.5151993e-09 1.5337221e-06 1.2331266e-03 2.3999824e-01 6.1994410e-01\\n 1.3492398e-01 3.8483606e-03 5.0011033e-05 6.2733187e-07]</td>\n",
       "      <td>Angelina Jolie</td>\n",
       "    </tr>\n",
       "    <tr>\n",
       "      <th>2</th>\n",
       "      <td>detected_faces/Claudia Kim-0_face0.jpg</td>\n",
       "      <td>East Asian</td>\n",
       "      <td>Asian</td>\n",
       "      <td>Female</td>\n",
       "      <td>20-29</td>\n",
       "      <td>[0.0041960389, 3.305265e-06, 0.0056678024, 0.76874357, 0.22050139, 0.00075009512, 0.00013788353]</td>\n",
       "      <td>[0.0052239671, 5.8794071e-06, 0.99259251, 0.0021776273]</td>\n",
       "      <td>[1.5864788e-06 9.9999845e-01]</td>\n",
       "      <td>[2.6334037e-09 1.8922587e-05 6.6879764e-02 8.7879109e-01 5.4132152e-02\\n 1.7775259e-04 3.0603212e-07 6.2321988e-09 4.6670379e-11]</td>\n",
       "      <td>Claudia Kim</td>\n",
       "    </tr>\n",
       "    <tr>\n",
       "      <th>3</th>\n",
       "      <td>detected_faces/Katrina Kaif-2_face0.jpg</td>\n",
       "      <td>Middle Eastern</td>\n",
       "      <td>Indian</td>\n",
       "      <td>Female</td>\n",
       "      <td>20-29</td>\n",
       "      <td>[0.013114717, 1.994434e-05, 0.024308346, 0.00012815814, 6.078044e-05, 0.13689351, 0.82547456]</td>\n",
       "      <td>[0.40811849, 0.00050312985, 0.0018550161, 0.58952332]</td>\n",
       "      <td>[1.946678e-05 9.999805e-01]</td>\n",
       "      <td>[4.9788702e-09 4.4012482e-05 5.2275483e-02 9.0891123e-01 3.8470667e-02\\n 2.9762252e-04 1.0330988e-06 1.3739409e-08 2.1042143e-10]</td>\n",
       "      <td>Katrina Kaif</td>\n",
       "    </tr>\n",
       "    <tr>\n",
       "      <th>4</th>\n",
       "      <td>detected_faces/Jennifer Lopez-1_face0.jpg</td>\n",
       "      <td>Latino_Hispanic</td>\n",
       "      <td>White</td>\n",
       "      <td>Female</td>\n",
       "      <td>20-29</td>\n",
       "      <td>[0.3261635, 0.0080899969, 0.48276311, 0.00047674504, 0.00067009189, 0.017187383, 0.16464913]</td>\n",
       "      <td>[0.84233147, 0.08022348, 0.00153142, 0.07591364]</td>\n",
       "      <td>[9.2069672e-07 9.9999905e-01]</td>\n",
       "      <td>[2.9853867e-10 5.7983875e-06 4.4957239e-02 8.2373488e-01 1.3085344e-01\\n 4.4833828e-04 3.2250745e-07 1.9224908e-09 1.9832086e-11]</td>\n",
       "      <td>Jennifer Lopez</td>\n",
       "    </tr>\n",
       "    <tr>\n",
       "      <th>...</th>\n",
       "      <td>...</td>\n",
       "      <td>...</td>\n",
       "      <td>...</td>\n",
       "      <td>...</td>\n",
       "      <td>...</td>\n",
       "      <td>...</td>\n",
       "      <td>...</td>\n",
       "      <td>...</td>\n",
       "      <td>...</td>\n",
       "      <td>...</td>\n",
       "    </tr>\n",
       "    <tr>\n",
       "      <th>119</th>\n",
       "      <td>detected_faces/Natalie Portman-2_face0.jpg</td>\n",
       "      <td>White</td>\n",
       "      <td>White</td>\n",
       "      <td>Female</td>\n",
       "      <td>20-29</td>\n",
       "      <td>[0.99448234, 9.4419539e-07, 0.0028932542, 1.3004833e-06, 2.2752386e-06, 7.404849e-05, 0.0025458036]</td>\n",
       "      <td>[0.99745798, 1.1741641e-05, 1.7528706e-05, 0.0025127043]</td>\n",
       "      <td>[3.2716875e-06 9.9999666e-01]</td>\n",
       "      <td>[1.7046419e-09 1.0830123e-05 2.7543588e-02 7.9106748e-01 1.8010315e-01\\n 1.2731085e-03 1.7942209e-06 9.6572883e-09 1.9230553e-10]</td>\n",
       "      <td>Natalie Portman</td>\n",
       "    </tr>\n",
       "    <tr>\n",
       "      <th>120</th>\n",
       "      <td>detected_faces/Kamal Haasan-2_face0.jpg</td>\n",
       "      <td>Middle Eastern</td>\n",
       "      <td>White</td>\n",
       "      <td>Male</td>\n",
       "      <td>30-39</td>\n",
       "      <td>[0.17668062, 0.0014569843, 0.036903709, 0.0001834705, 0.0003449845, 0.02403173, 0.76039845]</td>\n",
       "      <td>[0.80446827, 0.0033674056, 0.00041935447, 0.19174498]</td>\n",
       "      <td>[0.9978204 0.0021797]</td>\n",
       "      <td>[4.1017915e-06 2.7387670e-05 3.1400399e-04 3.2411549e-02 5.6658798e-01\\n 3.8641918e-01 1.4067625e-02 1.6265486e-04 5.4752104e-06]</td>\n",
       "      <td>Kamal Haasan</td>\n",
       "    </tr>\n",
       "    <tr>\n",
       "      <th>121</th>\n",
       "      <td>detected_faces/Cicely Tyson-0_face0.jpg</td>\n",
       "      <td>Black</td>\n",
       "      <td>Black</td>\n",
       "      <td>Female</td>\n",
       "      <td>40-49</td>\n",
       "      <td>[0.00014839679, 0.98936987, 0.006893991, 0.00014455509, 0.00043224343, 0.002922701, 8.8181361e-05]</td>\n",
       "      <td>[0.00028028144, 0.99258035, 0.0036407569, 0.0034986387]</td>\n",
       "      <td>[1.9818723e-04 9.9980181e-01]</td>\n",
       "      <td>[7.1278043e-07 8.1300177e-06 1.3012382e-04 3.6881329e-03 1.2306122e-01\\n 5.2300119e-01 2.9875571e-01 4.9627963e-02 1.7268320e-03]</td>\n",
       "      <td>Cicely Tyson</td>\n",
       "    </tr>\n",
       "    <tr>\n",
       "      <th>122</th>\n",
       "      <td>detected_faces/Sofía Vergara-0_face0.jpg</td>\n",
       "      <td>White</td>\n",
       "      <td>White</td>\n",
       "      <td>Female</td>\n",
       "      <td>20-29</td>\n",
       "      <td>[0.88876021, 0.00036526992, 0.10301862, 0.0021632402, 0.0021217964, 0.00076174428, 0.0028090223]</td>\n",
       "      <td>[0.98209435, 0.00121475, 0.01133319, 0.00535764]</td>\n",
       "      <td>[1.4732128e-06 9.9999851e-01]</td>\n",
       "      <td>[9.6354995e-09 2.5665344e-05 4.2832222e-02 7.7841109e-01 1.7711672e-01\\n 1.6095194e-03 4.7371950e-06 3.0058416e-08 3.4526493e-10]</td>\n",
       "      <td>Sofía Vergara</td>\n",
       "    </tr>\n",
       "    <tr>\n",
       "      <th>123</th>\n",
       "      <td>detected_faces/James McAvoy-1_face0.jpg</td>\n",
       "      <td>White</td>\n",
       "      <td>White</td>\n",
       "      <td>Male</td>\n",
       "      <td>30-39</td>\n",
       "      <td>[0.99865061, 2.9988126e-07, 0.00049368868, 4.3834489e-06, 1.0312691e-05, 1.4796423e-05, 0.00082589255]</td>\n",
       "      <td>[0.99883103, 3.0531228e-05, 0.00025408514, 0.00088434666]</td>\n",
       "      <td>[9.9995798e-01 4.2036947e-05]</td>\n",
       "      <td>[3.3018399e-08 3.6049579e-07 3.4059823e-04 1.3994530e-01 5.7068813e-01\\n 2.8139299e-01 7.5297668e-03 9.9738900e-05 3.0452577e-06]</td>\n",
       "      <td>James McAvoy</td>\n",
       "    </tr>\n",
       "  </tbody>\n",
       "</table>\n",
       "<p>124 rows × 10 columns</p>\n",
       "</div>"
      ],
      "text/plain": [
       "                                face_name_align  ...             name\n",
       "0        detected_faces/Viola Davis-1_face0.jpg  ...      Viola Davis\n",
       "1     detected_faces/Angelina Jolie-1_face0.jpg  ...   Angelina Jolie\n",
       "2        detected_faces/Claudia Kim-0_face0.jpg  ...      Claudia Kim\n",
       "3       detected_faces/Katrina Kaif-2_face0.jpg  ...     Katrina Kaif\n",
       "4     detected_faces/Jennifer Lopez-1_face0.jpg  ...   Jennifer Lopez\n",
       "..                                          ...  ...              ...\n",
       "119  detected_faces/Natalie Portman-2_face0.jpg  ...  Natalie Portman\n",
       "120     detected_faces/Kamal Haasan-2_face0.jpg  ...     Kamal Haasan\n",
       "121     detected_faces/Cicely Tyson-0_face0.jpg  ...     Cicely Tyson\n",
       "122    detected_faces/Sofía Vergara-0_face0.jpg  ...    Sofía Vergara\n",
       "123     detected_faces/James McAvoy-1_face0.jpg  ...     James McAvoy\n",
       "\n",
       "[124 rows x 10 columns]"
      ]
     },
     "execution_count": 132,
     "metadata": {
      "tags": []
     },
     "output_type": "execute_result"
    }
   ],
   "source": [
    "df_fair_actors"
   ]
  },
  {
   "cell_type": "code",
   "execution_count": null,
   "metadata": {
    "id": "O212Pea7ARnW"
   },
   "outputs": [],
   "source": [
    "name_race = df_actors[[\"name\",\"label\"]].drop_duplicates()"
   ]
  },
  {
   "cell_type": "code",
   "execution_count": null,
   "metadata": {
    "id": "CqpMGvSuAfe1"
   },
   "outputs": [],
   "source": [
    "name_race = name_race.merge(df_fair_actors, on=\"name\")"
   ]
  },
  {
   "cell_type": "code",
   "execution_count": null,
   "metadata": {
    "colab": {
     "base_uri": "https://localhost:8080/"
    },
    "id": "U__2tB_QA6VL",
    "outputId": "d69e8376-332d-492d-bcfa-4025bb306875"
   },
   "outputs": [
    {
     "data": {
      "text/plain": [
       "104"
      ]
     },
     "execution_count": 137,
     "metadata": {
      "tags": []
     },
     "output_type": "execute_result"
    }
   ],
   "source": [
    "sum(name_race[\"race4\"]==name_race[\"label\"])"
   ]
  },
  {
   "cell_type": "code",
   "execution_count": null,
   "metadata": {
    "colab": {
     "base_uri": "https://localhost:8080/"
    },
    "id": "9flqvmWfBnsW",
    "outputId": "da9ad87f-ee57-4284-88e7-78815f7704b8"
   },
   "outputs": [
    {
     "data": {
      "text/plain": [
       "0.8455284552845529"
      ]
     },
     "execution_count": 139,
     "metadata": {
      "tags": []
     },
     "output_type": "execute_result"
    }
   ],
   "source": [
    "104/len(name_race)"
   ]
  },
  {
   "cell_type": "code",
   "execution_count": null,
   "metadata": {
    "colab": {
     "base_uri": "https://localhost:8080/"
    },
    "id": "mpo4E1YcBCdt",
    "outputId": "8aa79a30-7a0d-481d-e14c-2dbe7842594f"
   },
   "outputs": [
    {
     "data": {
      "text/plain": [
       "0.8979591836734694"
      ]
     },
     "execution_count": 131,
     "metadata": {
      "tags": []
     },
     "output_type": "execute_result"
    }
   ],
   "source": [
    "44/49"
   ]
  },
  {
   "cell_type": "code",
   "execution_count": null,
   "metadata": {
    "id": "nQieymc7BR2D"
   },
   "outputs": [],
   "source": [
    "name_race = df_actors[[\"name\",\"label\"]].drop_duplicates()"
   ]
  },
  {
   "cell_type": "code",
   "execution_count": null,
   "metadata": {
    "id": "chX25F3QBR2R"
   },
   "outputs": [],
   "source": [
    "pred_avg = pd.DataFrame(res, columns=[\"Actor\",\"Pred_Label\"])"
   ]
  },
  {
   "cell_type": "code",
   "execution_count": null,
   "metadata": {
    "id": "Ogscix-0BR2R"
   },
   "outputs": [],
   "source": [
    "name_race = name_race.merge(pred_avg, left_on=\"name\", right_on=\"Actor\")"
   ]
  },
  {
   "cell_type": "code",
   "execution_count": null,
   "metadata": {
    "colab": {
     "base_uri": "https://localhost:8080/"
    },
    "id": "U2By0NmKBR2S",
    "outputId": "8d372869-89e8-403b-ae9b-55ad2d649d93"
   },
   "outputs": [
    {
     "data": {
      "text/plain": [
       "44"
      ]
     },
     "execution_count": 128,
     "metadata": {
      "tags": []
     },
     "output_type": "execute_result"
    }
   ],
   "source": [
    "sum(name_race[\"label\"]==name_race[\"Pred_Label\"])"
   ]
  },
  {
   "cell_type": "code",
   "execution_count": null,
   "metadata": {
    "id": "0r-FjcZl_1L_"
   },
   "outputs": [],
   "source": [
    "races = [\"White\" ,\"Black\", \"Asian\" ,\"Indian\"]"
   ]
  },
  {
   "cell_type": "code",
   "execution_count": null,
   "metadata": {
    "colab": {
     "base_uri": "https://localhost:8080/",
     "height": 193
    },
    "id": "yr0qOA5H_h5n",
    "outputId": "9ebb780d-226e-4fd0-80b1-69ab3347139a"
   },
   "outputs": [
    {
     "data": {
      "text/html": [
       "<div>\n",
       "<style scoped>\n",
       "    .dataframe tbody tr th:only-of-type {\n",
       "        vertical-align: middle;\n",
       "    }\n",
       "\n",
       "    .dataframe tbody tr th {\n",
       "        vertical-align: top;\n",
       "    }\n",
       "\n",
       "    .dataframe thead th {\n",
       "        text-align: right;\n",
       "    }\n",
       "</style>\n",
       "<table border=\"1\" class=\"dataframe\">\n",
       "  <thead>\n",
       "    <tr style=\"text-align: right;\">\n",
       "      <th></th>\n",
       "      <th>face_name_align</th>\n",
       "      <th>race</th>\n",
       "      <th>race4</th>\n",
       "      <th>gender</th>\n",
       "      <th>age</th>\n",
       "      <th>race_scores_fair</th>\n",
       "      <th>race_scores_fair_4</th>\n",
       "      <th>gender_scores_fair</th>\n",
       "      <th>age_scores_fair</th>\n",
       "      <th>name</th>\n",
       "    </tr>\n",
       "  </thead>\n",
       "  <tbody>\n",
       "    <tr>\n",
       "      <th>18</th>\n",
       "      <td>detected_faces/Akshay Kumar-0_face0.jpg</td>\n",
       "      <td>Middle Eastern</td>\n",
       "      <td>White</td>\n",
       "      <td>Male</td>\n",
       "      <td>40-49</td>\n",
       "      <td>[0.29083887, 0.00068838813, 0.16762526, 0.00022458847, 0.00090689614, 0.10402437, 0.43569162]</td>\n",
       "      <td>[0.60454249, 0.00050376414, 0.0018093099, 0.3931444]</td>\n",
       "      <td>[9.9963516e-01 3.6483916e-04]</td>\n",
       "      <td>[3.3712990e-06 1.5460555e-05 3.7065023e-04 1.7930385e-02 4.4393662e-01\\n 5.1113671e-01 2.6472047e-02 1.3235197e-04 2.4199885e-06]</td>\n",
       "      <td>Akshay Kumar</td>\n",
       "    </tr>\n",
       "    <tr>\n",
       "      <th>25</th>\n",
       "      <td>detected_faces/Akshay Kumar-2_face0.jpg</td>\n",
       "      <td>White</td>\n",
       "      <td>White</td>\n",
       "      <td>Male</td>\n",
       "      <td>40-49</td>\n",
       "      <td>[0.27569026, 0.0011593, 0.26068318, 0.00036179, 0.00145879, 0.19555828, 0.26508847]</td>\n",
       "      <td>[0.5320408, 0.00078573, 0.00286712, 0.46430635]</td>\n",
       "      <td>[9.996647e-01 3.352756e-04]</td>\n",
       "      <td>[3.9371857e-06 2.1215970e-05 4.5332735e-04 2.0754470e-02 4.5979285e-01\\n 4.9296132e-01 2.5888428e-02 1.2239178e-04 2.0850041e-06]</td>\n",
       "      <td>Akshay Kumar</td>\n",
       "    </tr>\n",
       "    <tr>\n",
       "      <th>87</th>\n",
       "      <td>detected_faces/Akshay Kumar-1_face0.jpg</td>\n",
       "      <td>Middle Eastern</td>\n",
       "      <td>White</td>\n",
       "      <td>Male</td>\n",
       "      <td>40-49</td>\n",
       "      <td>[0.16456974, 0.00070177554, 0.15480457, 0.00020752005, 0.0010028782, 0.14877318, 0.52994037]</td>\n",
       "      <td>[0.52213955, 0.00066477, 0.00245686, 0.47473887]</td>\n",
       "      <td>[9.995116e-01 4.884003e-04]</td>\n",
       "      <td>[5.2415917e-06 3.1099938e-05 5.8093108e-04 2.2633120e-02 4.5965272e-01\\n 4.9116763e-01 2.5788864e-02 1.3755726e-04 2.8600330e-06]</td>\n",
       "      <td>Akshay Kumar</td>\n",
       "    </tr>\n",
       "  </tbody>\n",
       "</table>\n",
       "</div>"
      ],
      "text/plain": [
       "                            face_name_align  ...          name\n",
       "18  detected_faces/Akshay Kumar-0_face0.jpg  ...  Akshay Kumar\n",
       "25  detected_faces/Akshay Kumar-2_face0.jpg  ...  Akshay Kumar\n",
       "87  detected_faces/Akshay Kumar-1_face0.jpg  ...  Akshay Kumar\n",
       "\n",
       "[3 rows x 10 columns]"
      ]
     },
     "execution_count": 112,
     "metadata": {
      "tags": []
     },
     "output_type": "execute_result"
    }
   ],
   "source": [
    "line"
   ]
  },
  {
   "cell_type": "markdown",
   "metadata": {
    "id": "516-EZz0C1iR"
   },
   "source": [
    "# old..."
   ]
  },
  {
   "cell_type": "markdown",
   "metadata": {
    "id": "iA9YLDdE2xoY"
   },
   "source": [
    "## Getting the data"
   ]
  },
  {
   "cell_type": "code",
   "execution_count": null,
   "metadata": {
    "colab": {
     "base_uri": "https://localhost:8080/"
    },
    "id": "P4yWceVcydBm",
    "outputId": "d5fd7626-4444-4c9e-b336-d578a310c49d"
   },
   "outputs": [
    {
     "name": "stdout",
     "output_type": "stream",
     "text": [
      "Mounted at /content/gdrive\n"
     ]
    }
   ],
   "source": [
    "from google.colab import drive\n",
    "drive.mount('/content/gdrive', force_remount=True)\n",
    "root_dir = \"/content/gdrive/My Drive/\"\n",
    "base_dir = Path('dataset/')"
   ]
  },
  {
   "cell_type": "code",
   "execution_count": null,
   "metadata": {
    "id": "fTC6XZ-0y3lq"
   },
   "outputs": [],
   "source": [
    "gdrive_path = \"/content/gdrive/My\\ Drive/\"\n",
    "base_dir = Path('validation/')\n",
    "path_img = base_dir/ \"images\"\n",
    "val_face_path= base_dir/ \"Val\"\n",
    "val_raw_path= base_dir/ \"Val_Raw\"\n",
    "# fair_path = Path(root_dir)/\"Ethnicity/Fair\"\n",
    "models_path = Path(root_dir)/\"models/\""
   ]
  },
  {
   "cell_type": "code",
   "execution_count": null,
   "metadata": {
    "colab": {
     "base_uri": "https://localhost:8080/"
    },
    "id": "LgsXmF1kDRvy",
    "outputId": "7ac5f39c-dd20-40d0-bf56-55090955c5d5"
   },
   "outputs": [
    {
     "name": "stdout",
     "output_type": "stream",
     "text": [
      "Archive:  /content/gdrive/My Drive/Ethnicity/Fair/fair_face_models.zip\n",
      "   creating: fair_face_models/\n",
      "  inflating: fair_face_models/fairface_alldata_4race_20191111.pt  \n",
      "  inflating: fair_face_models/res34_fair_align_multi_7_20190809.pt  \n"
     ]
    }
   ],
   "source": [
    "!unzip /content/gdrive/My\\ Drive/Ethnicity/Fair/fair_face_models.zip"
   ]
  },
  {
   "cell_type": "code",
   "execution_count": null,
   "metadata": {
    "colab": {
     "base_uri": "https://localhost:8080/"
    },
    "id": "cr3lhyetDUev",
    "outputId": "97e12802-100d-4736-9f8f-a8dee77a6e6a"
   },
   "outputs": [
    {
     "name": "stdout",
     "output_type": "stream",
     "text": [
      "Cloning into 'FairFace'...\n",
      "remote: Enumerating objects: 202, done.\u001b[K\n",
      "remote: Total 202 (delta 0), reused 0 (delta 0), pack-reused 202\u001b[K\n",
      "Receiving objects: 100% (202/202), 14.23 MiB | 35.19 MiB/s, done.\n",
      "Resolving deltas: 100% (102/102), done.\n"
     ]
    }
   ],
   "source": [
    "!git clone https://github.com/dchen236/FairFace.git"
   ]
  },
  {
   "cell_type": "code",
   "execution_count": null,
   "metadata": {
    "id": "OjTcoyJVDst1"
   },
   "outputs": [],
   "source": [
    "Path('FairFace').mkdir(exist_ok=True)\n",
    "!cp /content/gdrive/My\\ Drive/models/Ethnicity/Fair/fair_face_models.zip FairFace/fair_face_models.zip"
   ]
  },
  {
   "cell_type": "code",
   "execution_count": null,
   "metadata": {
    "id": "sbSLlZumYXtF"
   },
   "outputs": [],
   "source": [
    "!mkdir dataset\n",
    "!cp -r /content/gdrive/My\\ Drive/Ethnicity/Val {str(base_dir)+\"/Val\"}\n",
    "!cp -r /content/gdrive/My\\ Drive/Ethnicity/Val {str(base_dir)+\"/Val_Raw\"}\n"
   ]
  },
  {
   "cell_type": "code",
   "execution_count": null,
   "metadata": {
    "colab": {
     "base_uri": "https://localhost:8080/"
    },
    "id": "XP2RUZCxHgxW",
    "outputId": "69d85eba-ab09-477d-d656-ad4ff7315678"
   },
   "outputs": [
    {
     "name": "stdout",
     "output_type": "stream",
     "text": [
      "Collecting mtcnn\n",
      "\u001b[?25l  Downloading https://files.pythonhosted.org/packages/67/43/abee91792797c609c1bf30f1112117f7a87a713ebaa6ec5201d5555a73ef/mtcnn-0.1.0-py3-none-any.whl (2.3MB)\n",
      "\u001b[K     |████████████████████████████████| 2.3MB 8.4MB/s \n",
      "\u001b[?25hRequirement already satisfied: opencv-python>=4.1.0 in /usr/local/lib/python3.6/dist-packages (from mtcnn) (4.1.2.30)\n",
      "Requirement already satisfied: keras>=2.0.0 in /usr/local/lib/python3.6/dist-packages (from mtcnn) (2.4.3)\n",
      "Requirement already satisfied: numpy>=1.11.3 in /usr/local/lib/python3.6/dist-packages (from opencv-python>=4.1.0->mtcnn) (1.19.4)\n",
      "Requirement already satisfied: scipy>=0.14 in /usr/local/lib/python3.6/dist-packages (from keras>=2.0.0->mtcnn) (1.4.1)\n",
      "Requirement already satisfied: h5py in /usr/local/lib/python3.6/dist-packages (from keras>=2.0.0->mtcnn) (2.10.0)\n",
      "Requirement already satisfied: pyyaml in /usr/local/lib/python3.6/dist-packages (from keras>=2.0.0->mtcnn) (3.13)\n",
      "Requirement already satisfied: six in /usr/local/lib/python3.6/dist-packages (from h5py->keras>=2.0.0->mtcnn) (1.15.0)\n",
      "Installing collected packages: mtcnn\n",
      "Successfully installed mtcnn-0.1.0\n"
     ]
    }
   ],
   "source": [
    "!pip install mtcnn "
   ]
  },
  {
   "cell_type": "code",
   "execution_count": null,
   "metadata": {
    "id": "RMs2NwG_HSvo"
   },
   "outputs": [],
   "source": [
    "from mtcnn import MTCNN\n",
    "import cv2\n",
    "\n",
    "\n",
    "detector = MTCNN()\n"
   ]
  },
  {
   "cell_type": "code",
   "execution_count": null,
   "metadata": {
    "colab": {
     "base_uri": "https://localhost:8080/",
     "height": 117,
     "referenced_widgets": [
      "a36dc6e745b445c29022f76e35ff1047",
      "00ff015800344d2c822fb9067de7a2c7",
      "2b123df4ccec499abc0ed57ce0fbcf7d",
      "6f847f889b3343fb9efe8e3783c6c759",
      "9564dd73973d4494a7e077b997bad018",
      "86fd2f0f278d4f338cf655c3e8b677b6",
      "98b8b0d6f5c34154ab0827767a1590e7",
      "e4f8816990cf4bb5af4aefc83a717929"
     ]
    },
    "id": "E1Cj8ALcfX76",
    "outputId": "a3899c0e-35c7-44b0-be78-1010374b1942"
   },
   "outputs": [
    {
     "name": "stderr",
     "output_type": "stream",
     "text": [
      "/usr/local/lib/python3.6/dist-packages/ipykernel_launcher.py:4: TqdmDeprecationWarning: This function will be removed in tqdm==5.0.0\n",
      "Please use `tqdm.notebook.tqdm` instead of `tqdm.tqdm_notebook`\n",
      "  after removing the cwd from sys.path.\n"
     ]
    },
    {
     "data": {
      "application/vnd.jupyter.widget-view+json": {
       "model_id": "a36dc6e745b445c29022f76e35ff1047",
       "version_major": 2,
       "version_minor": 0
      },
      "text/plain": [
       "HBox(children=(FloatProgress(value=1.0, bar_style='info', description='Images', max=1.0, style=ProgressStyle(d…"
      ]
     },
     "metadata": {
      "tags": []
     },
     "output_type": "display_data"
    },
    {
     "name": "stdout",
     "output_type": "stream",
     "text": [
      "\n"
     ]
    }
   ],
   "source": [
    "from tqdm import tqdm_notebook as tqdm\n",
    "val_path= base_dir/ \"Val\"\n",
    "\n",
    "for img in tqdm(val_path.rglob(\"*\"), desc=\"Images\"):\n",
    "  try: \n",
    "    im = Image.open(img) \n",
    "    for face in detector.detect_faces(np.asarray(im)):\n",
    "      box = face[\"box\"]\n",
    "      im1 = im.crop(box=(box[0], box[1], box[0]+box[2],box[1]+box[3] )) \n",
    "      im1.save(img)\n",
    "      break\n",
    "  except IsADirectoryError:\n",
    "    pass"
   ]
  },
  {
   "cell_type": "code",
   "execution_count": null,
   "metadata": {
    "id": "nz1qtYQj1ytH"
   },
   "outputs": [],
   "source": [
    "from PIL import ImageOps\n",
    "import albumentations as A\n",
    "\n",
    "class AlbumentationsTransform(DisplayedTransform):\n",
    "    split_idx,order=0,2\n",
    "    def __init__(self, train_aug): store_attr()\n",
    "    \n",
    "    def encodes(self, img: PILImage):\n",
    "      if random.random() > 0.5:\n",
    "        return ImageOps.grayscale(img).convert(\"RGB\")\n",
    "      else:\n",
    "        return img\n",
    "        # aug_img = self.train_aug(image=np.array(img))['image']\n",
    "        # return PILImage.create(aug_img)\n",
    "gray = AlbumentationsTransform(A.ToGray(p=0.5))"
   ]
  },
  {
   "cell_type": "markdown",
   "metadata": {
    "id": "P8NOI569TA3m"
   },
   "source": [
    "## Classification"
   ]
  },
  {
   "cell_type": "code",
   "execution_count": null,
   "metadata": {
    "id": "Gx-qHkLAXJLx"
   },
   "outputs": [],
   "source": [
    "list(base_dir.rglob(\"*.jpg\"))"
   ]
  },
  {
   "cell_type": "code",
   "execution_count": null,
   "metadata": {
    "id": "jOqsL4ZFgmBH"
   },
   "outputs": [],
   "source": [
    "df_val = pd.DataFrame({\"img\": list(base_dir.rglob(\"*.jpg\")), \"img_raw\": list(base_dir.rglob(\"*.jpg\"))})\n",
    "df_val[\"label\"] = df_val[\"img\"].apply(lambda x: x.parents[0].name)"
   ]
  },
  {
   "cell_type": "code",
   "execution_count": null,
   "metadata": {
    "id": "PAP5qik4XTwK"
   },
   "outputs": [],
   "source": [
    "df_val"
   ]
  },
  {
   "cell_type": "code",
   "execution_count": null,
   "metadata": {
    "id": "zQoEwNE2IaDu"
   },
   "outputs": [],
   "source": [
    "df_val[\"name\"] = df_val[\"img\"].apply(lambda x: x.stem)"
   ]
  },
  {
   "cell_type": "code",
   "execution_count": null,
   "metadata": {
    "id": "E501FWN7OWIg"
   },
   "outputs": [],
   "source": [
    "df_val[\"name\"] =  df_val[\"name\"].apply(lambda x: x.split(\".\")[0]) "
   ]
  },
  {
   "cell_type": "code",
   "execution_count": null,
   "metadata": {
    "id": "mZUuKqk7KMxr"
   },
   "outputs": [],
   "source": [
    "# df_val[\"label\"] = df_val[\"label\"].replace(\"asian\",\"Asian\")\n",
    "df_val[\"label\"] = df_val[\"label\"].replace(\"latino\",\"Latino_Hispanic\")\n",
    "df_val[\"label\"] = df_val[\"label\"].replace(\"white\",\"White\")\n",
    "df_val[\"label\"] = df_val[\"label\"].replace(\"african\",\"Black\")\n",
    "df_val[\"label\"] = df_val[\"label\"].replace(\"asian\",\"East Asian\")\n",
    "df_val[\"label\"] = df_val[\"label\"].replace(\"indian\",\"Indian\")"
   ]
  },
  {
   "cell_type": "code",
   "execution_count": null,
   "metadata": {
    "id": "rgCP1X8fPu1P"
   },
   "outputs": [],
   "source": [
    "df_val[\"label2\"]  = df_val[\"label\"] \n",
    "df_val[\"label2\"] = df_val[\"label2\"].replace(\"East Asian\",\"Asian\")\n",
    "df_val[\"label2\"] = df_val[\"label2\"].replace(\"Latino_Hispanic\",\"White\")"
   ]
  },
  {
   "cell_type": "markdown",
   "metadata": {
    "id": "cB2c5k4CRvmc"
   },
   "source": [
    "## Dima"
   ]
  },
  {
   "cell_type": "code",
   "execution_count": null,
   "metadata": {
    "id": "Iug1eHFLSSCH"
   },
   "outputs": [],
   "source": [
    "models = ['ethni_0825f1_v6','ethni_083f_unfrezee_V9','ethni_0858f_unfrezee_V9','ethni_085b_96unfrezee_V6','ethni_085b_unfrezee_V6','ethni_086f1']\n",
    "learner = load_learner(models_path/\"ethni_0858f_unfrezee_V9.pkl\")"
   ]
  },
  {
   "cell_type": "code",
   "execution_count": null,
   "metadata": {
    "id": "jPmdpoVoLdqg"
   },
   "outputs": [],
   "source": [
    "# learn.export(Path(root_dir)/\"Ethnicity/LWF/ethni_new_v9_08.pkl\")\n",
    "# learn.export(Path(root_dir)/\"Ethnicity/LWF/ethni_new_v8_082.pkl\")\n",
    "learner = load_learner(models_path/\"ethni_0858f_unfrezee_V9.pkl\")"
   ]
  },
  {
   "cell_type": "code",
   "execution_count": null,
   "metadata": {
    "colab": {
     "base_uri": "https://localhost:8080/",
     "height": 17
    },
    "id": "KjA58-PAPYIy",
    "outputId": "244caa4c-baaa-45d2-8826-bace589269af"
   },
   "outputs": [
    {
     "data": {
      "text/html": [],
      "text/plain": [
       "<IPython.core.display.HTML object>"
      ]
     },
     "metadata": {
      "tags": []
     },
     "output_type": "display_data"
    },
    {
     "data": {
      "text/html": [],
      "text/plain": [
       "<IPython.core.display.HTML object>"
      ]
     },
     "metadata": {
      "tags": []
     },
     "output_type": "display_data"
    },
    {
     "data": {
      "text/html": [],
      "text/plain": [
       "<IPython.core.display.HTML object>"
      ]
     },
     "metadata": {
      "tags": []
     },
     "output_type": "display_data"
    },
    {
     "data": {
      "text/html": [],
      "text/plain": [
       "<IPython.core.display.HTML object>"
      ]
     },
     "metadata": {
      "tags": []
     },
     "output_type": "display_data"
    },
    {
     "data": {
      "text/html": [],
      "text/plain": [
       "<IPython.core.display.HTML object>"
      ]
     },
     "metadata": {
      "tags": []
     },
     "output_type": "display_data"
    },
    {
     "data": {
      "text/html": [],
      "text/plain": [
       "<IPython.core.display.HTML object>"
      ]
     },
     "metadata": {
      "tags": []
     },
     "output_type": "display_data"
    },
    {
     "data": {
      "text/html": [],
      "text/plain": [
       "<IPython.core.display.HTML object>"
      ]
     },
     "metadata": {
      "tags": []
     },
     "output_type": "display_data"
    },
    {
     "data": {
      "text/html": [],
      "text/plain": [
       "<IPython.core.display.HTML object>"
      ]
     },
     "metadata": {
      "tags": []
     },
     "output_type": "display_data"
    },
    {
     "data": {
      "text/html": [],
      "text/plain": [
       "<IPython.core.display.HTML object>"
      ]
     },
     "metadata": {
      "tags": []
     },
     "output_type": "display_data"
    },
    {
     "data": {
      "text/html": [],
      "text/plain": [
       "<IPython.core.display.HTML object>"
      ]
     },
     "metadata": {
      "tags": []
     },
     "output_type": "display_data"
    },
    {
     "data": {
      "text/html": [],
      "text/plain": [
       "<IPython.core.display.HTML object>"
      ]
     },
     "metadata": {
      "tags": []
     },
     "output_type": "display_data"
    },
    {
     "data": {
      "text/html": [],
      "text/plain": [
       "<IPython.core.display.HTML object>"
      ]
     },
     "metadata": {
      "tags": []
     },
     "output_type": "display_data"
    },
    {
     "data": {
      "text/html": [],
      "text/plain": [
       "<IPython.core.display.HTML object>"
      ]
     },
     "metadata": {
      "tags": []
     },
     "output_type": "display_data"
    },
    {
     "data": {
      "text/html": [],
      "text/plain": [
       "<IPython.core.display.HTML object>"
      ]
     },
     "metadata": {
      "tags": []
     },
     "output_type": "display_data"
    },
    {
     "data": {
      "text/html": [],
      "text/plain": [
       "<IPython.core.display.HTML object>"
      ]
     },
     "metadata": {
      "tags": []
     },
     "output_type": "display_data"
    },
    {
     "data": {
      "text/html": [],
      "text/plain": [
       "<IPython.core.display.HTML object>"
      ]
     },
     "metadata": {
      "tags": []
     },
     "output_type": "display_data"
    },
    {
     "data": {
      "text/html": [],
      "text/plain": [
       "<IPython.core.display.HTML object>"
      ]
     },
     "metadata": {
      "tags": []
     },
     "output_type": "display_data"
    },
    {
     "data": {
      "text/html": [],
      "text/plain": [
       "<IPython.core.display.HTML object>"
      ]
     },
     "metadata": {
      "tags": []
     },
     "output_type": "display_data"
    },
    {
     "data": {
      "text/html": [],
      "text/plain": [
       "<IPython.core.display.HTML object>"
      ]
     },
     "metadata": {
      "tags": []
     },
     "output_type": "display_data"
    },
    {
     "data": {
      "text/html": [],
      "text/plain": [
       "<IPython.core.display.HTML object>"
      ]
     },
     "metadata": {
      "tags": []
     },
     "output_type": "display_data"
    },
    {
     "data": {
      "text/html": [],
      "text/plain": [
       "<IPython.core.display.HTML object>"
      ]
     },
     "metadata": {
      "tags": []
     },
     "output_type": "display_data"
    },
    {
     "data": {
      "text/html": [],
      "text/plain": [
       "<IPython.core.display.HTML object>"
      ]
     },
     "metadata": {
      "tags": []
     },
     "output_type": "display_data"
    },
    {
     "data": {
      "text/html": [],
      "text/plain": [
       "<IPython.core.display.HTML object>"
      ]
     },
     "metadata": {
      "tags": []
     },
     "output_type": "display_data"
    },
    {
     "data": {
      "text/html": [],
      "text/plain": [
       "<IPython.core.display.HTML object>"
      ]
     },
     "metadata": {
      "tags": []
     },
     "output_type": "display_data"
    },
    {
     "data": {
      "text/html": [],
      "text/plain": [
       "<IPython.core.display.HTML object>"
      ]
     },
     "metadata": {
      "tags": []
     },
     "output_type": "display_data"
    },
    {
     "data": {
      "text/html": [],
      "text/plain": [
       "<IPython.core.display.HTML object>"
      ]
     },
     "metadata": {
      "tags": []
     },
     "output_type": "display_data"
    },
    {
     "data": {
      "text/html": [],
      "text/plain": [
       "<IPython.core.display.HTML object>"
      ]
     },
     "metadata": {
      "tags": []
     },
     "output_type": "display_data"
    },
    {
     "data": {
      "text/html": [],
      "text/plain": [
       "<IPython.core.display.HTML object>"
      ]
     },
     "metadata": {
      "tags": []
     },
     "output_type": "display_data"
    },
    {
     "data": {
      "text/html": [],
      "text/plain": [
       "<IPython.core.display.HTML object>"
      ]
     },
     "metadata": {
      "tags": []
     },
     "output_type": "display_data"
    },
    {
     "data": {
      "text/html": [],
      "text/plain": [
       "<IPython.core.display.HTML object>"
      ]
     },
     "metadata": {
      "tags": []
     },
     "output_type": "display_data"
    },
    {
     "data": {
      "text/html": [],
      "text/plain": [
       "<IPython.core.display.HTML object>"
      ]
     },
     "metadata": {
      "tags": []
     },
     "output_type": "display_data"
    },
    {
     "data": {
      "text/html": [],
      "text/plain": [
       "<IPython.core.display.HTML object>"
      ]
     },
     "metadata": {
      "tags": []
     },
     "output_type": "display_data"
    },
    {
     "data": {
      "text/html": [],
      "text/plain": [
       "<IPython.core.display.HTML object>"
      ]
     },
     "metadata": {
      "tags": []
     },
     "output_type": "display_data"
    },
    {
     "data": {
      "text/html": [],
      "text/plain": [
       "<IPython.core.display.HTML object>"
      ]
     },
     "metadata": {
      "tags": []
     },
     "output_type": "display_data"
    },
    {
     "data": {
      "text/html": [],
      "text/plain": [
       "<IPython.core.display.HTML object>"
      ]
     },
     "metadata": {
      "tags": []
     },
     "output_type": "display_data"
    },
    {
     "data": {
      "text/html": [],
      "text/plain": [
       "<IPython.core.display.HTML object>"
      ]
     },
     "metadata": {
      "tags": []
     },
     "output_type": "display_data"
    },
    {
     "data": {
      "text/html": [],
      "text/plain": [
       "<IPython.core.display.HTML object>"
      ]
     },
     "metadata": {
      "tags": []
     },
     "output_type": "display_data"
    },
    {
     "data": {
      "text/html": [],
      "text/plain": [
       "<IPython.core.display.HTML object>"
      ]
     },
     "metadata": {
      "tags": []
     },
     "output_type": "display_data"
    },
    {
     "data": {
      "text/html": [],
      "text/plain": [
       "<IPython.core.display.HTML object>"
      ]
     },
     "metadata": {
      "tags": []
     },
     "output_type": "display_data"
    },
    {
     "data": {
      "text/html": [],
      "text/plain": [
       "<IPython.core.display.HTML object>"
      ]
     },
     "metadata": {
      "tags": []
     },
     "output_type": "display_data"
    },
    {
     "data": {
      "text/html": [],
      "text/plain": [
       "<IPython.core.display.HTML object>"
      ]
     },
     "metadata": {
      "tags": []
     },
     "output_type": "display_data"
    },
    {
     "data": {
      "text/html": [],
      "text/plain": [
       "<IPython.core.display.HTML object>"
      ]
     },
     "metadata": {
      "tags": []
     },
     "output_type": "display_data"
    },
    {
     "data": {
      "text/html": [],
      "text/plain": [
       "<IPython.core.display.HTML object>"
      ]
     },
     "metadata": {
      "tags": []
     },
     "output_type": "display_data"
    },
    {
     "data": {
      "text/html": [],
      "text/plain": [
       "<IPython.core.display.HTML object>"
      ]
     },
     "metadata": {
      "tags": []
     },
     "output_type": "display_data"
    },
    {
     "data": {
      "text/html": [],
      "text/plain": [
       "<IPython.core.display.HTML object>"
      ]
     },
     "metadata": {
      "tags": []
     },
     "output_type": "display_data"
    },
    {
     "data": {
      "text/html": [],
      "text/plain": [
       "<IPython.core.display.HTML object>"
      ]
     },
     "metadata": {
      "tags": []
     },
     "output_type": "display_data"
    },
    {
     "data": {
      "text/html": [],
      "text/plain": [
       "<IPython.core.display.HTML object>"
      ]
     },
     "metadata": {
      "tags": []
     },
     "output_type": "display_data"
    },
    {
     "data": {
      "text/html": [],
      "text/plain": [
       "<IPython.core.display.HTML object>"
      ]
     },
     "metadata": {
      "tags": []
     },
     "output_type": "display_data"
    },
    {
     "data": {
      "text/html": [],
      "text/plain": [
       "<IPython.core.display.HTML object>"
      ]
     },
     "metadata": {
      "tags": []
     },
     "output_type": "display_data"
    },
    {
     "data": {
      "text/html": [],
      "text/plain": [
       "<IPython.core.display.HTML object>"
      ]
     },
     "metadata": {
      "tags": []
     },
     "output_type": "display_data"
    }
   ],
   "source": [
    "res = [learner.predict(line)[0] for line in df_val[\"img_face_path\"]]"
   ]
  },
  {
   "cell_type": "code",
   "execution_count": null,
   "metadata": {
    "id": "LCHhDwAshOHZ"
   },
   "outputs": [],
   "source": [
    "# [learner.predict(line)[2][:4] for line in df_val[\"img_face_path\"]]"
   ]
  },
  {
   "cell_type": "code",
   "execution_count": null,
   "metadata": {
    "id": "BhKEv4uFPbjJ"
   },
   "outputs": [],
   "source": [
    "df_val[\"Ours\"] = res\n",
    "df_val[\"Ours\"] = df_val[\"Ours\"].replace(\"asian\",\"Asian\")\n",
    "df_val[\"Ours\"] = df_val[\"Ours\"].replace(\"latino\",\"White\")\n",
    "df_val[\"Ours\"] = df_val[\"Ours\"].replace(\"hispanic\",\"White\")\n",
    "df_val[\"Ours\"] = df_val[\"Ours\"].replace(\"black\",\"Black\")\n",
    "df_val[\"Ours\"] = df_val[\"Ours\"].replace(\"white\",\"White\")\n",
    "df_val[\"Ours\"] = df_val[\"Ours\"].replace(\"african\",\"Black\")\n",
    "df_val[\"Ours\"] = df_val[\"Ours\"].replace(\"asian\",\"Asian\")\n",
    "df_val[\"Ours\"] = df_val[\"Ours\"].replace(\"indian\",\"Indian\")"
   ]
  },
  {
   "cell_type": "code",
   "execution_count": null,
   "metadata": {
    "colab": {
     "base_uri": "https://localhost:8080/"
    },
    "id": "JA0AlsYeW57Q",
    "outputId": "1830d0e5-a0e2-433e-f33d-0988743d6545"
   },
   "outputs": [
    {
     "data": {
      "text/plain": [
       "0.86"
      ]
     },
     "execution_count": 32,
     "metadata": {
      "tags": []
     },
     "output_type": "execute_result"
    }
   ],
   "source": [
    "sum(df_val[\"Ours\"] == df_val[\"label2\"]) / len(df_val)"
   ]
  },
  {
   "cell_type": "code",
   "execution_count": null,
   "metadata": {
    "colab": {
     "base_uri": "https://localhost:8080/"
    },
    "id": "D_hv6klALoeT",
    "outputId": "3996170e-1b89-4d2b-9681-65bc8660961b"
   },
   "outputs": [
    {
     "data": {
      "text/plain": [
       "0.8"
      ]
     },
     "execution_count": 87,
     "metadata": {
      "tags": []
     },
     "output_type": "execute_result"
    }
   ],
   "source": [
    "sum(df2[\"race4\"] == df2[\"label2\"]) / len(df_val)"
   ]
  },
  {
   "cell_type": "code",
   "execution_count": null,
   "metadata": {
    "colab": {
     "base_uri": "https://localhost:8080/"
    },
    "id": "tkZ2uBu4QlFw",
    "outputId": "27d10b98-b2bc-47bd-f885-d7e160afd526"
   },
   "outputs": [
    {
     "data": {
      "text/plain": [
       "0.7"
      ]
     },
     "execution_count": 97,
     "metadata": {
      "tags": []
     },
     "output_type": "execute_result"
    }
   ],
   "source": [
    "sum(df2[\"race\"] == df2[\"label\"]) / len(df_val)"
   ]
  },
  {
   "cell_type": "code",
   "execution_count": null,
   "metadata": {
    "colab": {
     "base_uri": "https://localhost:8080/",
     "height": 443
    },
    "id": "SfTLOwB63m2n",
    "outputId": "f0dd2cd2-2929-4122-84d3-f3a1b9baaba3"
   },
   "outputs": [
    {
     "ename": "AssertionError",
     "evalue": "ignored",
     "output_type": "error",
     "traceback": [
      "\u001b[0;31m---------------------------------------------------------------------------\u001b[0m",
      "\u001b[0;31mAssertionError\u001b[0m                            Traceback (most recent call last)",
      "\u001b[0;32m<ipython-input-38-1d213d4bb610>\u001b[0m in \u001b[0;36m<module>\u001b[0;34m()\u001b[0m\n\u001b[0;32m----> 1\u001b[0;31m \u001b[0mlearner\u001b[0m\u001b[0;34m.\u001b[0m\u001b[0mpredict\u001b[0m\u001b[0;34m(\u001b[0m\u001b[0mlist\u001b[0m\u001b[0;34m(\u001b[0m\u001b[0mdf_val\u001b[0m\u001b[0;34m[\u001b[0m\u001b[0;34m\"img_face_path\"\u001b[0m\u001b[0;34m]\u001b[0m\u001b[0;34m)\u001b[0m\u001b[0;34m)\u001b[0m\u001b[0;34m\u001b[0m\u001b[0;34m\u001b[0m\u001b[0m\n\u001b[0m",
      "\u001b[0;32m/usr/local/lib/python3.6/dist-packages/fastai/learner.py\u001b[0m in \u001b[0;36mpredict\u001b[0;34m(self, item, rm_type_tfms, with_input)\u001b[0m\n\u001b[1;32m    248\u001b[0m \u001b[0;34m\u001b[0m\u001b[0m\n\u001b[1;32m    249\u001b[0m     \u001b[0;32mdef\u001b[0m \u001b[0mpredict\u001b[0m\u001b[0;34m(\u001b[0m\u001b[0mself\u001b[0m\u001b[0;34m,\u001b[0m \u001b[0mitem\u001b[0m\u001b[0;34m,\u001b[0m \u001b[0mrm_type_tfms\u001b[0m\u001b[0;34m=\u001b[0m\u001b[0;32mNone\u001b[0m\u001b[0;34m,\u001b[0m \u001b[0mwith_input\u001b[0m\u001b[0;34m=\u001b[0m\u001b[0;32mFalse\u001b[0m\u001b[0;34m)\u001b[0m\u001b[0;34m:\u001b[0m\u001b[0;34m\u001b[0m\u001b[0;34m\u001b[0m\u001b[0m\n\u001b[0;32m--> 250\u001b[0;31m         \u001b[0mdl\u001b[0m \u001b[0;34m=\u001b[0m \u001b[0mself\u001b[0m\u001b[0;34m.\u001b[0m\u001b[0mdls\u001b[0m\u001b[0;34m.\u001b[0m\u001b[0mtest_dl\u001b[0m\u001b[0;34m(\u001b[0m\u001b[0;34m[\u001b[0m\u001b[0mitem\u001b[0m\u001b[0;34m]\u001b[0m\u001b[0;34m,\u001b[0m \u001b[0mrm_type_tfms\u001b[0m\u001b[0;34m=\u001b[0m\u001b[0mrm_type_tfms\u001b[0m\u001b[0;34m,\u001b[0m \u001b[0mnum_workers\u001b[0m\u001b[0;34m=\u001b[0m\u001b[0;36m0\u001b[0m\u001b[0;34m)\u001b[0m\u001b[0;34m\u001b[0m\u001b[0;34m\u001b[0m\u001b[0m\n\u001b[0m\u001b[1;32m    251\u001b[0m         \u001b[0minp\u001b[0m\u001b[0;34m,\u001b[0m\u001b[0mpreds\u001b[0m\u001b[0;34m,\u001b[0m\u001b[0m_\u001b[0m\u001b[0;34m,\u001b[0m\u001b[0mdec_preds\u001b[0m \u001b[0;34m=\u001b[0m \u001b[0mself\u001b[0m\u001b[0;34m.\u001b[0m\u001b[0mget_preds\u001b[0m\u001b[0;34m(\u001b[0m\u001b[0mdl\u001b[0m\u001b[0;34m=\u001b[0m\u001b[0mdl\u001b[0m\u001b[0;34m,\u001b[0m \u001b[0mwith_input\u001b[0m\u001b[0;34m=\u001b[0m\u001b[0;32mTrue\u001b[0m\u001b[0;34m,\u001b[0m \u001b[0mwith_decoded\u001b[0m\u001b[0;34m=\u001b[0m\u001b[0;32mTrue\u001b[0m\u001b[0;34m)\u001b[0m\u001b[0;34m\u001b[0m\u001b[0;34m\u001b[0m\u001b[0m\n\u001b[1;32m    252\u001b[0m         \u001b[0mi\u001b[0m \u001b[0;34m=\u001b[0m \u001b[0mgetattr\u001b[0m\u001b[0;34m(\u001b[0m\u001b[0mself\u001b[0m\u001b[0;34m.\u001b[0m\u001b[0mdls\u001b[0m\u001b[0;34m,\u001b[0m \u001b[0;34m'n_inp'\u001b[0m\u001b[0;34m,\u001b[0m \u001b[0;34m-\u001b[0m\u001b[0;36m1\u001b[0m\u001b[0;34m)\u001b[0m\u001b[0;34m\u001b[0m\u001b[0;34m\u001b[0m\u001b[0m\n",
      "\u001b[0;32m/usr/local/lib/python3.6/dist-packages/fastai/data/core.py\u001b[0m in \u001b[0;36mtest_dl\u001b[0;34m(self, test_items, rm_type_tfms, with_labels, **kwargs)\u001b[0m\n\u001b[1;32m    380\u001b[0m     \u001b[0;34m\"Create a test dataloader from `test_items` using validation transforms of `dls`\"\u001b[0m\u001b[0;34m\u001b[0m\u001b[0;34m\u001b[0m\u001b[0m\n\u001b[1;32m    381\u001b[0m     test_ds = test_set(self.valid_ds, test_items, rm_tfms=rm_type_tfms, with_labels=with_labels\n\u001b[0;32m--> 382\u001b[0;31m                       ) if isinstance(self.valid_ds, (Datasets, TfmdLists)) else test_items\n\u001b[0m\u001b[1;32m    383\u001b[0m     \u001b[0;32mreturn\u001b[0m \u001b[0mself\u001b[0m\u001b[0;34m.\u001b[0m\u001b[0mvalid\u001b[0m\u001b[0;34m.\u001b[0m\u001b[0mnew\u001b[0m\u001b[0;34m(\u001b[0m\u001b[0mtest_ds\u001b[0m\u001b[0;34m,\u001b[0m \u001b[0;34m**\u001b[0m\u001b[0mkwargs\u001b[0m\u001b[0;34m)\u001b[0m\u001b[0;34m\u001b[0m\u001b[0;34m\u001b[0m\u001b[0m\n",
      "\u001b[0;32m/usr/local/lib/python3.6/dist-packages/fastai/data/core.py\u001b[0m in \u001b[0;36mtest_set\u001b[0;34m(dsets, test_items, rm_tfms, with_labels)\u001b[0m\n\u001b[1;32m    363\u001b[0m         \u001b[0mtls\u001b[0m \u001b[0;34m=\u001b[0m \u001b[0mdsets\u001b[0m\u001b[0;34m.\u001b[0m\u001b[0mtls\u001b[0m \u001b[0;32mif\u001b[0m \u001b[0mwith_labels\u001b[0m \u001b[0;32melse\u001b[0m \u001b[0mdsets\u001b[0m\u001b[0;34m.\u001b[0m\u001b[0mtls\u001b[0m\u001b[0;34m[\u001b[0m\u001b[0;34m:\u001b[0m\u001b[0mdsets\u001b[0m\u001b[0;34m.\u001b[0m\u001b[0mn_inp\u001b[0m\u001b[0;34m]\u001b[0m\u001b[0;34m\u001b[0m\u001b[0;34m\u001b[0m\u001b[0m\n\u001b[1;32m    364\u001b[0m         \u001b[0mtest_tls\u001b[0m \u001b[0;34m=\u001b[0m \u001b[0;34m[\u001b[0m\u001b[0mtl\u001b[0m\u001b[0;34m.\u001b[0m\u001b[0m_new\u001b[0m\u001b[0;34m(\u001b[0m\u001b[0mtest_items\u001b[0m\u001b[0;34m,\u001b[0m \u001b[0msplit_idx\u001b[0m\u001b[0;34m=\u001b[0m\u001b[0;36m1\u001b[0m\u001b[0;34m)\u001b[0m \u001b[0;32mfor\u001b[0m \u001b[0mtl\u001b[0m \u001b[0;32min\u001b[0m \u001b[0mtls\u001b[0m\u001b[0;34m]\u001b[0m\u001b[0;34m\u001b[0m\u001b[0;34m\u001b[0m\u001b[0m\n\u001b[0;32m--> 365\u001b[0;31m         \u001b[0;32mif\u001b[0m \u001b[0mrm_tfms\u001b[0m \u001b[0;32mis\u001b[0m \u001b[0;32mNone\u001b[0m\u001b[0;34m:\u001b[0m \u001b[0mrm_tfms\u001b[0m \u001b[0;34m=\u001b[0m \u001b[0;34m[\u001b[0m\u001b[0mtl\u001b[0m\u001b[0;34m.\u001b[0m\u001b[0minfer_idx\u001b[0m\u001b[0;34m(\u001b[0m\u001b[0mget_first\u001b[0m\u001b[0;34m(\u001b[0m\u001b[0mtest_items\u001b[0m\u001b[0;34m)\u001b[0m\u001b[0;34m)\u001b[0m \u001b[0;32mfor\u001b[0m \u001b[0mtl\u001b[0m \u001b[0;32min\u001b[0m \u001b[0mtest_tls\u001b[0m\u001b[0;34m]\u001b[0m\u001b[0;34m\u001b[0m\u001b[0;34m\u001b[0m\u001b[0m\n\u001b[0m\u001b[1;32m    366\u001b[0m         \u001b[0;32melse\u001b[0m\u001b[0;34m:\u001b[0m               \u001b[0mrm_tfms\u001b[0m \u001b[0;34m=\u001b[0m \u001b[0mtuplify\u001b[0m\u001b[0;34m(\u001b[0m\u001b[0mrm_tfms\u001b[0m\u001b[0;34m,\u001b[0m \u001b[0mmatch\u001b[0m\u001b[0;34m=\u001b[0m\u001b[0mtest_tls\u001b[0m\u001b[0;34m)\u001b[0m\u001b[0;34m\u001b[0m\u001b[0;34m\u001b[0m\u001b[0m\n\u001b[1;32m    367\u001b[0m         \u001b[0;32mfor\u001b[0m \u001b[0mi\u001b[0m\u001b[0;34m,\u001b[0m\u001b[0mj\u001b[0m \u001b[0;32min\u001b[0m \u001b[0menumerate\u001b[0m\u001b[0;34m(\u001b[0m\u001b[0mrm_tfms\u001b[0m\u001b[0;34m)\u001b[0m\u001b[0;34m:\u001b[0m \u001b[0mtest_tls\u001b[0m\u001b[0;34m[\u001b[0m\u001b[0mi\u001b[0m\u001b[0;34m]\u001b[0m\u001b[0;34m.\u001b[0m\u001b[0mtfms\u001b[0m\u001b[0;34m.\u001b[0m\u001b[0mfs\u001b[0m \u001b[0;34m=\u001b[0m \u001b[0mtest_tls\u001b[0m\u001b[0;34m[\u001b[0m\u001b[0mi\u001b[0m\u001b[0;34m]\u001b[0m\u001b[0;34m.\u001b[0m\u001b[0mtfms\u001b[0m\u001b[0;34m.\u001b[0m\u001b[0mfs\u001b[0m\u001b[0;34m[\u001b[0m\u001b[0mj\u001b[0m\u001b[0;34m:\u001b[0m\u001b[0;34m]\u001b[0m\u001b[0;34m\u001b[0m\u001b[0;34m\u001b[0m\u001b[0m\n",
      "\u001b[0;32m/usr/local/lib/python3.6/dist-packages/fastai/data/core.py\u001b[0m in \u001b[0;36m<listcomp>\u001b[0;34m(.0)\u001b[0m\n\u001b[1;32m    363\u001b[0m         \u001b[0mtls\u001b[0m \u001b[0;34m=\u001b[0m \u001b[0mdsets\u001b[0m\u001b[0;34m.\u001b[0m\u001b[0mtls\u001b[0m \u001b[0;32mif\u001b[0m \u001b[0mwith_labels\u001b[0m \u001b[0;32melse\u001b[0m \u001b[0mdsets\u001b[0m\u001b[0;34m.\u001b[0m\u001b[0mtls\u001b[0m\u001b[0;34m[\u001b[0m\u001b[0;34m:\u001b[0m\u001b[0mdsets\u001b[0m\u001b[0;34m.\u001b[0m\u001b[0mn_inp\u001b[0m\u001b[0;34m]\u001b[0m\u001b[0;34m\u001b[0m\u001b[0;34m\u001b[0m\u001b[0m\n\u001b[1;32m    364\u001b[0m         \u001b[0mtest_tls\u001b[0m \u001b[0;34m=\u001b[0m \u001b[0;34m[\u001b[0m\u001b[0mtl\u001b[0m\u001b[0;34m.\u001b[0m\u001b[0m_new\u001b[0m\u001b[0;34m(\u001b[0m\u001b[0mtest_items\u001b[0m\u001b[0;34m,\u001b[0m \u001b[0msplit_idx\u001b[0m\u001b[0;34m=\u001b[0m\u001b[0;36m1\u001b[0m\u001b[0;34m)\u001b[0m \u001b[0;32mfor\u001b[0m \u001b[0mtl\u001b[0m \u001b[0;32min\u001b[0m \u001b[0mtls\u001b[0m\u001b[0;34m]\u001b[0m\u001b[0;34m\u001b[0m\u001b[0;34m\u001b[0m\u001b[0m\n\u001b[0;32m--> 365\u001b[0;31m         \u001b[0;32mif\u001b[0m \u001b[0mrm_tfms\u001b[0m \u001b[0;32mis\u001b[0m \u001b[0;32mNone\u001b[0m\u001b[0;34m:\u001b[0m \u001b[0mrm_tfms\u001b[0m \u001b[0;34m=\u001b[0m \u001b[0;34m[\u001b[0m\u001b[0mtl\u001b[0m\u001b[0;34m.\u001b[0m\u001b[0minfer_idx\u001b[0m\u001b[0;34m(\u001b[0m\u001b[0mget_first\u001b[0m\u001b[0;34m(\u001b[0m\u001b[0mtest_items\u001b[0m\u001b[0;34m)\u001b[0m\u001b[0;34m)\u001b[0m \u001b[0;32mfor\u001b[0m \u001b[0mtl\u001b[0m \u001b[0;32min\u001b[0m \u001b[0mtest_tls\u001b[0m\u001b[0;34m]\u001b[0m\u001b[0;34m\u001b[0m\u001b[0;34m\u001b[0m\u001b[0m\n\u001b[0m\u001b[1;32m    366\u001b[0m         \u001b[0;32melse\u001b[0m\u001b[0;34m:\u001b[0m               \u001b[0mrm_tfms\u001b[0m \u001b[0;34m=\u001b[0m \u001b[0mtuplify\u001b[0m\u001b[0;34m(\u001b[0m\u001b[0mrm_tfms\u001b[0m\u001b[0;34m,\u001b[0m \u001b[0mmatch\u001b[0m\u001b[0;34m=\u001b[0m\u001b[0mtest_tls\u001b[0m\u001b[0;34m)\u001b[0m\u001b[0;34m\u001b[0m\u001b[0;34m\u001b[0m\u001b[0m\n\u001b[1;32m    367\u001b[0m         \u001b[0;32mfor\u001b[0m \u001b[0mi\u001b[0m\u001b[0;34m,\u001b[0m\u001b[0mj\u001b[0m \u001b[0;32min\u001b[0m \u001b[0menumerate\u001b[0m\u001b[0;34m(\u001b[0m\u001b[0mrm_tfms\u001b[0m\u001b[0;34m)\u001b[0m\u001b[0;34m:\u001b[0m \u001b[0mtest_tls\u001b[0m\u001b[0;34m[\u001b[0m\u001b[0mi\u001b[0m\u001b[0;34m]\u001b[0m\u001b[0;34m.\u001b[0m\u001b[0mtfms\u001b[0m\u001b[0;34m.\u001b[0m\u001b[0mfs\u001b[0m \u001b[0;34m=\u001b[0m \u001b[0mtest_tls\u001b[0m\u001b[0;34m[\u001b[0m\u001b[0mi\u001b[0m\u001b[0;34m]\u001b[0m\u001b[0;34m.\u001b[0m\u001b[0mtfms\u001b[0m\u001b[0;34m.\u001b[0m\u001b[0mfs\u001b[0m\u001b[0;34m[\u001b[0m\u001b[0mj\u001b[0m\u001b[0;34m:\u001b[0m\u001b[0;34m]\u001b[0m\u001b[0;34m\u001b[0m\u001b[0;34m\u001b[0m\u001b[0m\n",
      "\u001b[0;32m/usr/local/lib/python3.6/dist-packages/fastai/data/core.py\u001b[0m in \u001b[0;36minfer_idx\u001b[0;34m(self, x)\u001b[0m\n\u001b[1;32m    269\u001b[0m         \u001b[0mtypes\u001b[0m \u001b[0;34m=\u001b[0m \u001b[0mL\u001b[0m\u001b[0;34m(\u001b[0m\u001b[0mt\u001b[0m \u001b[0;32mif\u001b[0m \u001b[0mis_listy\u001b[0m\u001b[0;34m(\u001b[0m\u001b[0mt\u001b[0m\u001b[0;34m)\u001b[0m \u001b[0;32melse\u001b[0m \u001b[0;34m[\u001b[0m\u001b[0mt\u001b[0m\u001b[0;34m]\u001b[0m \u001b[0;32mfor\u001b[0m \u001b[0mt\u001b[0m \u001b[0;32min\u001b[0m \u001b[0mself\u001b[0m\u001b[0;34m.\u001b[0m\u001b[0mtypes\u001b[0m\u001b[0;34m)\u001b[0m\u001b[0;34m.\u001b[0m\u001b[0mconcat\u001b[0m\u001b[0;34m(\u001b[0m\u001b[0;34m)\u001b[0m\u001b[0;34m.\u001b[0m\u001b[0munique\u001b[0m\u001b[0;34m(\u001b[0m\u001b[0;34m)\u001b[0m\u001b[0;34m\u001b[0m\u001b[0;34m\u001b[0m\u001b[0m\n\u001b[1;32m    270\u001b[0m         \u001b[0mpretty_types\u001b[0m \u001b[0;34m=\u001b[0m \u001b[0;34m'\\n'\u001b[0m\u001b[0;34m.\u001b[0m\u001b[0mjoin\u001b[0m\u001b[0;34m(\u001b[0m\u001b[0;34m[\u001b[0m\u001b[0;34mf'  - {t}'\u001b[0m \u001b[0;32mfor\u001b[0m \u001b[0mt\u001b[0m \u001b[0;32min\u001b[0m \u001b[0mtypes\u001b[0m\u001b[0;34m]\u001b[0m\u001b[0;34m)\u001b[0m\u001b[0;34m\u001b[0m\u001b[0;34m\u001b[0m\u001b[0m\n\u001b[0;32m--> 271\u001b[0;31m         \u001b[0;32massert\u001b[0m \u001b[0midx\u001b[0m \u001b[0;34m<\u001b[0m \u001b[0mlen\u001b[0m\u001b[0;34m(\u001b[0m\u001b[0mself\u001b[0m\u001b[0;34m.\u001b[0m\u001b[0mtypes\u001b[0m\u001b[0;34m)\u001b[0m\u001b[0;34m,\u001b[0m \u001b[0;34mf\"Expected an input of type in \\n{pretty_types}\\n but got {type(x)}\"\u001b[0m\u001b[0;34m\u001b[0m\u001b[0;34m\u001b[0m\u001b[0m\n\u001b[0m\u001b[1;32m    272\u001b[0m         \u001b[0;32mreturn\u001b[0m \u001b[0midx\u001b[0m\u001b[0;34m\u001b[0m\u001b[0;34m\u001b[0m\u001b[0m\n\u001b[1;32m    273\u001b[0m \u001b[0;34m\u001b[0m\u001b[0m\n",
      "\u001b[0;31mAssertionError\u001b[0m: Expected an input of type in \n  - <class 'pathlib.PosixPath'>\n  - <class 'pathlib.Path'>\n  - <class 'str'>\n  - <class 'torch.Tensor'>\n  - <class 'numpy.ndarray'>\n  - <class 'bytes'>\n  - <class 'fastai.vision.core.PILImage'>\n but got <class 'list'>"
     ]
    }
   ],
   "source": [
    "learner.predict(list(df_val[\"img_face_path\"]))"
   ]
  },
  {
   "cell_type": "code",
   "execution_count": null,
   "metadata": {
    "colab": {
     "base_uri": "https://localhost:8080/",
     "height": 117,
     "referenced_widgets": [
      "ee5484ee8ade4632af4cd8100556f18b",
      "67e77e28f7e0470294ca35f9e738a5ce",
      "1d39263f87bc47409181d492981a8e3f",
      "ab0c0f2526a44501b5e72a19b82c4022",
      "ecb24134e08a4b91860a825c4389d43c",
      "8e092e3f134a4b639db89183d9ffa22b",
      "3ed32593509b4a23bb2b639834b38f32",
      "3c059194a67f4d37be98dfd22121edaf"
     ]
    },
    "id": "j_UZwj3ZOy_x",
    "outputId": "af734452-18fa-4c82-e393-12f0123f8573"
   },
   "outputs": [
    {
     "name": "stderr",
     "output_type": "stream",
     "text": [
      "/usr/local/lib/python3.6/dist-packages/ipykernel_launcher.py:2: TqdmDeprecationWarning: This function will be removed in tqdm==5.0.0\n",
      "Please use `tqdm.notebook.tqdm` instead of `tqdm.tqdm_notebook`\n",
      "  \n"
     ]
    },
    {
     "data": {
      "application/vnd.jupyter.widget-view+json": {
       "model_id": "ee5484ee8ade4632af4cd8100556f18b",
       "version_major": 2,
       "version_minor": 0
      },
      "text/plain": [
       "HBox(children=(FloatProgress(value=0.0, max=27.0), HTML(value='')))"
      ]
     },
     "metadata": {
      "tags": []
     },
     "output_type": "display_data"
    },
    {
     "data": {
      "text/html": [],
      "text/plain": [
       "<IPython.core.display.HTML object>"
      ]
     },
     "metadata": {
      "tags": []
     },
     "output_type": "display_data"
    },
    {
     "data": {
      "text/html": [],
      "text/plain": [
       "<IPython.core.display.HTML object>"
      ]
     },
     "metadata": {
      "tags": []
     },
     "output_type": "display_data"
    },
    {
     "data": {
      "text/html": [],
      "text/plain": [
       "<IPython.core.display.HTML object>"
      ]
     },
     "metadata": {
      "tags": []
     },
     "output_type": "display_data"
    },
    {
     "data": {
      "text/html": [],
      "text/plain": [
       "<IPython.core.display.HTML object>"
      ]
     },
     "metadata": {
      "tags": []
     },
     "output_type": "display_data"
    },
    {
     "data": {
      "text/html": [],
      "text/plain": [
       "<IPython.core.display.HTML object>"
      ]
     },
     "metadata": {
      "tags": []
     },
     "output_type": "display_data"
    },
    {
     "data": {
      "text/html": [],
      "text/plain": [
       "<IPython.core.display.HTML object>"
      ]
     },
     "metadata": {
      "tags": []
     },
     "output_type": "display_data"
    },
    {
     "data": {
      "text/html": [],
      "text/plain": [
       "<IPython.core.display.HTML object>"
      ]
     },
     "metadata": {
      "tags": []
     },
     "output_type": "display_data"
    },
    {
     "data": {
      "text/html": [],
      "text/plain": [
       "<IPython.core.display.HTML object>"
      ]
     },
     "metadata": {
      "tags": []
     },
     "output_type": "display_data"
    },
    {
     "data": {
      "text/html": [],
      "text/plain": [
       "<IPython.core.display.HTML object>"
      ]
     },
     "metadata": {
      "tags": []
     },
     "output_type": "display_data"
    },
    {
     "data": {
      "text/html": [],
      "text/plain": [
       "<IPython.core.display.HTML object>"
      ]
     },
     "metadata": {
      "tags": []
     },
     "output_type": "display_data"
    },
    {
     "data": {
      "text/html": [],
      "text/plain": [
       "<IPython.core.display.HTML object>"
      ]
     },
     "metadata": {
      "tags": []
     },
     "output_type": "display_data"
    },
    {
     "data": {
      "text/html": [],
      "text/plain": [
       "<IPython.core.display.HTML object>"
      ]
     },
     "metadata": {
      "tags": []
     },
     "output_type": "display_data"
    },
    {
     "data": {
      "text/html": [],
      "text/plain": [
       "<IPython.core.display.HTML object>"
      ]
     },
     "metadata": {
      "tags": []
     },
     "output_type": "display_data"
    },
    {
     "data": {
      "text/html": [],
      "text/plain": [
       "<IPython.core.display.HTML object>"
      ]
     },
     "metadata": {
      "tags": []
     },
     "output_type": "display_data"
    },
    {
     "data": {
      "text/html": [],
      "text/plain": [
       "<IPython.core.display.HTML object>"
      ]
     },
     "metadata": {
      "tags": []
     },
     "output_type": "display_data"
    },
    {
     "data": {
      "text/html": [],
      "text/plain": [
       "<IPython.core.display.HTML object>"
      ]
     },
     "metadata": {
      "tags": []
     },
     "output_type": "display_data"
    },
    {
     "data": {
      "text/html": [],
      "text/plain": [
       "<IPython.core.display.HTML object>"
      ]
     },
     "metadata": {
      "tags": []
     },
     "output_type": "display_data"
    },
    {
     "data": {
      "text/html": [],
      "text/plain": [
       "<IPython.core.display.HTML object>"
      ]
     },
     "metadata": {
      "tags": []
     },
     "output_type": "display_data"
    },
    {
     "data": {
      "text/html": [],
      "text/plain": [
       "<IPython.core.display.HTML object>"
      ]
     },
     "metadata": {
      "tags": []
     },
     "output_type": "display_data"
    },
    {
     "data": {
      "text/html": [],
      "text/plain": [
       "<IPython.core.display.HTML object>"
      ]
     },
     "metadata": {
      "tags": []
     },
     "output_type": "display_data"
    },
    {
     "data": {
      "text/html": [],
      "text/plain": [
       "<IPython.core.display.HTML object>"
      ]
     },
     "metadata": {
      "tags": []
     },
     "output_type": "display_data"
    },
    {
     "data": {
      "text/html": [],
      "text/plain": [
       "<IPython.core.display.HTML object>"
      ]
     },
     "metadata": {
      "tags": []
     },
     "output_type": "display_data"
    },
    {
     "data": {
      "text/html": [],
      "text/plain": [
       "<IPython.core.display.HTML object>"
      ]
     },
     "metadata": {
      "tags": []
     },
     "output_type": "display_data"
    },
    {
     "data": {
      "text/html": [],
      "text/plain": [
       "<IPython.core.display.HTML object>"
      ]
     },
     "metadata": {
      "tags": []
     },
     "output_type": "display_data"
    },
    {
     "data": {
      "text/html": [],
      "text/plain": [
       "<IPython.core.display.HTML object>"
      ]
     },
     "metadata": {
      "tags": []
     },
     "output_type": "display_data"
    },
    {
     "data": {
      "text/html": [],
      "text/plain": [
       "<IPython.core.display.HTML object>"
      ]
     },
     "metadata": {
      "tags": []
     },
     "output_type": "display_data"
    },
    {
     "data": {
      "text/html": [],
      "text/plain": [
       "<IPython.core.display.HTML object>"
      ]
     },
     "metadata": {
      "tags": []
     },
     "output_type": "display_data"
    },
    {
     "data": {
      "text/html": [],
      "text/plain": [
       "<IPython.core.display.HTML object>"
      ]
     },
     "metadata": {
      "tags": []
     },
     "output_type": "display_data"
    },
    {
     "data": {
      "text/html": [],
      "text/plain": [
       "<IPython.core.display.HTML object>"
      ]
     },
     "metadata": {
      "tags": []
     },
     "output_type": "display_data"
    },
    {
     "data": {
      "text/html": [],
      "text/plain": [
       "<IPython.core.display.HTML object>"
      ]
     },
     "metadata": {
      "tags": []
     },
     "output_type": "display_data"
    },
    {
     "data": {
      "text/html": [],
      "text/plain": [
       "<IPython.core.display.HTML object>"
      ]
     },
     "metadata": {
      "tags": []
     },
     "output_type": "display_data"
    },
    {
     "data": {
      "text/html": [],
      "text/plain": [
       "<IPython.core.display.HTML object>"
      ]
     },
     "metadata": {
      "tags": []
     },
     "output_type": "display_data"
    },
    {
     "data": {
      "text/html": [],
      "text/plain": [
       "<IPython.core.display.HTML object>"
      ]
     },
     "metadata": {
      "tags": []
     },
     "output_type": "display_data"
    },
    {
     "data": {
      "text/html": [],
      "text/plain": [
       "<IPython.core.display.HTML object>"
      ]
     },
     "metadata": {
      "tags": []
     },
     "output_type": "display_data"
    },
    {
     "data": {
      "text/html": [],
      "text/plain": [
       "<IPython.core.display.HTML object>"
      ]
     },
     "metadata": {
      "tags": []
     },
     "output_type": "display_data"
    },
    {
     "data": {
      "text/html": [],
      "text/plain": [
       "<IPython.core.display.HTML object>"
      ]
     },
     "metadata": {
      "tags": []
     },
     "output_type": "display_data"
    },
    {
     "data": {
      "text/html": [],
      "text/plain": [
       "<IPython.core.display.HTML object>"
      ]
     },
     "metadata": {
      "tags": []
     },
     "output_type": "display_data"
    },
    {
     "data": {
      "text/html": [],
      "text/plain": [
       "<IPython.core.display.HTML object>"
      ]
     },
     "metadata": {
      "tags": []
     },
     "output_type": "display_data"
    },
    {
     "data": {
      "text/html": [],
      "text/plain": [
       "<IPython.core.display.HTML object>"
      ]
     },
     "metadata": {
      "tags": []
     },
     "output_type": "display_data"
    },
    {
     "data": {
      "text/html": [],
      "text/plain": [
       "<IPython.core.display.HTML object>"
      ]
     },
     "metadata": {
      "tags": []
     },
     "output_type": "display_data"
    },
    {
     "data": {
      "text/html": [],
      "text/plain": [
       "<IPython.core.display.HTML object>"
      ]
     },
     "metadata": {
      "tags": []
     },
     "output_type": "display_data"
    },
    {
     "data": {
      "text/html": [],
      "text/plain": [
       "<IPython.core.display.HTML object>"
      ]
     },
     "metadata": {
      "tags": []
     },
     "output_type": "display_data"
    },
    {
     "data": {
      "text/html": [],
      "text/plain": [
       "<IPython.core.display.HTML object>"
      ]
     },
     "metadata": {
      "tags": []
     },
     "output_type": "display_data"
    },
    {
     "data": {
      "text/html": [],
      "text/plain": [
       "<IPython.core.display.HTML object>"
      ]
     },
     "metadata": {
      "tags": []
     },
     "output_type": "display_data"
    },
    {
     "data": {
      "text/html": [],
      "text/plain": [
       "<IPython.core.display.HTML object>"
      ]
     },
     "metadata": {
      "tags": []
     },
     "output_type": "display_data"
    },
    {
     "data": {
      "text/html": [],
      "text/plain": [
       "<IPython.core.display.HTML object>"
      ]
     },
     "metadata": {
      "tags": []
     },
     "output_type": "display_data"
    },
    {
     "data": {
      "text/html": [],
      "text/plain": [
       "<IPython.core.display.HTML object>"
      ]
     },
     "metadata": {
      "tags": []
     },
     "output_type": "display_data"
    },
    {
     "data": {
      "text/html": [],
      "text/plain": [
       "<IPython.core.display.HTML object>"
      ]
     },
     "metadata": {
      "tags": []
     },
     "output_type": "display_data"
    },
    {
     "data": {
      "text/html": [],
      "text/plain": [
       "<IPython.core.display.HTML object>"
      ]
     },
     "metadata": {
      "tags": []
     },
     "output_type": "display_data"
    },
    {
     "data": {
      "text/html": [],
      "text/plain": [
       "<IPython.core.display.HTML object>"
      ]
     },
     "metadata": {
      "tags": []
     },
     "output_type": "display_data"
    },
    {
     "data": {
      "text/html": [],
      "text/plain": [
       "<IPython.core.display.HTML object>"
      ]
     },
     "metadata": {
      "tags": []
     },
     "output_type": "display_data"
    },
    {
     "data": {
      "text/html": [],
      "text/plain": [
       "<IPython.core.display.HTML object>"
      ]
     },
     "metadata": {
      "tags": []
     },
     "output_type": "display_data"
    },
    {
     "data": {
      "text/html": [],
      "text/plain": [
       "<IPython.core.display.HTML object>"
      ]
     },
     "metadata": {
      "tags": []
     },
     "output_type": "display_data"
    },
    {
     "data": {
      "text/html": [],
      "text/plain": [
       "<IPython.core.display.HTML object>"
      ]
     },
     "metadata": {
      "tags": []
     },
     "output_type": "display_data"
    },
    {
     "data": {
      "text/html": [],
      "text/plain": [
       "<IPython.core.display.HTML object>"
      ]
     },
     "metadata": {
      "tags": []
     },
     "output_type": "display_data"
    },
    {
     "data": {
      "text/html": [],
      "text/plain": [
       "<IPython.core.display.HTML object>"
      ]
     },
     "metadata": {
      "tags": []
     },
     "output_type": "display_data"
    },
    {
     "data": {
      "text/html": [],
      "text/plain": [
       "<IPython.core.display.HTML object>"
      ]
     },
     "metadata": {
      "tags": []
     },
     "output_type": "display_data"
    },
    {
     "data": {
      "text/html": [],
      "text/plain": [
       "<IPython.core.display.HTML object>"
      ]
     },
     "metadata": {
      "tags": []
     },
     "output_type": "display_data"
    },
    {
     "data": {
      "text/html": [],
      "text/plain": [
       "<IPython.core.display.HTML object>"
      ]
     },
     "metadata": {
      "tags": []
     },
     "output_type": "display_data"
    },
    {
     "data": {
      "text/html": [],
      "text/plain": [
       "<IPython.core.display.HTML object>"
      ]
     },
     "metadata": {
      "tags": []
     },
     "output_type": "display_data"
    },
    {
     "data": {
      "text/html": [],
      "text/plain": [
       "<IPython.core.display.HTML object>"
      ]
     },
     "metadata": {
      "tags": []
     },
     "output_type": "display_data"
    },
    {
     "data": {
      "text/html": [],
      "text/plain": [
       "<IPython.core.display.HTML object>"
      ]
     },
     "metadata": {
      "tags": []
     },
     "output_type": "display_data"
    },
    {
     "data": {
      "text/html": [],
      "text/plain": [
       "<IPython.core.display.HTML object>"
      ]
     },
     "metadata": {
      "tags": []
     },
     "output_type": "display_data"
    },
    {
     "data": {
      "text/html": [],
      "text/plain": [
       "<IPython.core.display.HTML object>"
      ]
     },
     "metadata": {
      "tags": []
     },
     "output_type": "display_data"
    },
    {
     "data": {
      "text/html": [],
      "text/plain": [
       "<IPython.core.display.HTML object>"
      ]
     },
     "metadata": {
      "tags": []
     },
     "output_type": "display_data"
    },
    {
     "data": {
      "text/html": [],
      "text/plain": [
       "<IPython.core.display.HTML object>"
      ]
     },
     "metadata": {
      "tags": []
     },
     "output_type": "display_data"
    },
    {
     "data": {
      "text/html": [],
      "text/plain": [
       "<IPython.core.display.HTML object>"
      ]
     },
     "metadata": {
      "tags": []
     },
     "output_type": "display_data"
    },
    {
     "data": {
      "text/html": [],
      "text/plain": [
       "<IPython.core.display.HTML object>"
      ]
     },
     "metadata": {
      "tags": []
     },
     "output_type": "display_data"
    },
    {
     "data": {
      "text/html": [],
      "text/plain": [
       "<IPython.core.display.HTML object>"
      ]
     },
     "metadata": {
      "tags": []
     },
     "output_type": "display_data"
    },
    {
     "data": {
      "text/html": [],
      "text/plain": [
       "<IPython.core.display.HTML object>"
      ]
     },
     "metadata": {
      "tags": []
     },
     "output_type": "display_data"
    },
    {
     "data": {
      "text/html": [],
      "text/plain": [
       "<IPython.core.display.HTML object>"
      ]
     },
     "metadata": {
      "tags": []
     },
     "output_type": "display_data"
    },
    {
     "data": {
      "text/html": [],
      "text/plain": [
       "<IPython.core.display.HTML object>"
      ]
     },
     "metadata": {
      "tags": []
     },
     "output_type": "display_data"
    },
    {
     "data": {
      "text/html": [],
      "text/plain": [
       "<IPython.core.display.HTML object>"
      ]
     },
     "metadata": {
      "tags": []
     },
     "output_type": "display_data"
    },
    {
     "data": {
      "text/html": [],
      "text/plain": [
       "<IPython.core.display.HTML object>"
      ]
     },
     "metadata": {
      "tags": []
     },
     "output_type": "display_data"
    },
    {
     "data": {
      "text/html": [],
      "text/plain": [
       "<IPython.core.display.HTML object>"
      ]
     },
     "metadata": {
      "tags": []
     },
     "output_type": "display_data"
    },
    {
     "data": {
      "text/html": [],
      "text/plain": [
       "<IPython.core.display.HTML object>"
      ]
     },
     "metadata": {
      "tags": []
     },
     "output_type": "display_data"
    },
    {
     "data": {
      "text/html": [],
      "text/plain": [
       "<IPython.core.display.HTML object>"
      ]
     },
     "metadata": {
      "tags": []
     },
     "output_type": "display_data"
    },
    {
     "data": {
      "text/html": [],
      "text/plain": [
       "<IPython.core.display.HTML object>"
      ]
     },
     "metadata": {
      "tags": []
     },
     "output_type": "display_data"
    },
    {
     "data": {
      "text/html": [],
      "text/plain": [
       "<IPython.core.display.HTML object>"
      ]
     },
     "metadata": {
      "tags": []
     },
     "output_type": "display_data"
    },
    {
     "data": {
      "text/html": [],
      "text/plain": [
       "<IPython.core.display.HTML object>"
      ]
     },
     "metadata": {
      "tags": []
     },
     "output_type": "display_data"
    },
    {
     "data": {
      "text/html": [],
      "text/plain": [
       "<IPython.core.display.HTML object>"
      ]
     },
     "metadata": {
      "tags": []
     },
     "output_type": "display_data"
    },
    {
     "data": {
      "text/html": [],
      "text/plain": [
       "<IPython.core.display.HTML object>"
      ]
     },
     "metadata": {
      "tags": []
     },
     "output_type": "display_data"
    },
    {
     "data": {
      "text/html": [],
      "text/plain": [
       "<IPython.core.display.HTML object>"
      ]
     },
     "metadata": {
      "tags": []
     },
     "output_type": "display_data"
    },
    {
     "data": {
      "text/html": [],
      "text/plain": [
       "<IPython.core.display.HTML object>"
      ]
     },
     "metadata": {
      "tags": []
     },
     "output_type": "display_data"
    },
    {
     "data": {
      "text/html": [],
      "text/plain": [
       "<IPython.core.display.HTML object>"
      ]
     },
     "metadata": {
      "tags": []
     },
     "output_type": "display_data"
    },
    {
     "data": {
      "text/html": [],
      "text/plain": [
       "<IPython.core.display.HTML object>"
      ]
     },
     "metadata": {
      "tags": []
     },
     "output_type": "display_data"
    },
    {
     "data": {
      "text/html": [],
      "text/plain": [
       "<IPython.core.display.HTML object>"
      ]
     },
     "metadata": {
      "tags": []
     },
     "output_type": "display_data"
    },
    {
     "data": {
      "text/html": [],
      "text/plain": [
       "<IPython.core.display.HTML object>"
      ]
     },
     "metadata": {
      "tags": []
     },
     "output_type": "display_data"
    },
    {
     "data": {
      "text/html": [],
      "text/plain": [
       "<IPython.core.display.HTML object>"
      ]
     },
     "metadata": {
      "tags": []
     },
     "output_type": "display_data"
    },
    {
     "data": {
      "text/html": [],
      "text/plain": [
       "<IPython.core.display.HTML object>"
      ]
     },
     "metadata": {
      "tags": []
     },
     "output_type": "display_data"
    },
    {
     "data": {
      "text/html": [],
      "text/plain": [
       "<IPython.core.display.HTML object>"
      ]
     },
     "metadata": {
      "tags": []
     },
     "output_type": "display_data"
    },
    {
     "data": {
      "text/html": [],
      "text/plain": [
       "<IPython.core.display.HTML object>"
      ]
     },
     "metadata": {
      "tags": []
     },
     "output_type": "display_data"
    },
    {
     "data": {
      "text/html": [],
      "text/plain": [
       "<IPython.core.display.HTML object>"
      ]
     },
     "metadata": {
      "tags": []
     },
     "output_type": "display_data"
    },
    {
     "data": {
      "text/html": [],
      "text/plain": [
       "<IPython.core.display.HTML object>"
      ]
     },
     "metadata": {
      "tags": []
     },
     "output_type": "display_data"
    },
    {
     "data": {
      "text/html": [],
      "text/plain": [
       "<IPython.core.display.HTML object>"
      ]
     },
     "metadata": {
      "tags": []
     },
     "output_type": "display_data"
    },
    {
     "data": {
      "text/html": [],
      "text/plain": [
       "<IPython.core.display.HTML object>"
      ]
     },
     "metadata": {
      "tags": []
     },
     "output_type": "display_data"
    },
    {
     "data": {
      "text/html": [],
      "text/plain": [
       "<IPython.core.display.HTML object>"
      ]
     },
     "metadata": {
      "tags": []
     },
     "output_type": "display_data"
    },
    {
     "data": {
      "text/html": [],
      "text/plain": [
       "<IPython.core.display.HTML object>"
      ]
     },
     "metadata": {
      "tags": []
     },
     "output_type": "display_data"
    },
    {
     "data": {
      "text/html": [],
      "text/plain": [
       "<IPython.core.display.HTML object>"
      ]
     },
     "metadata": {
      "tags": []
     },
     "output_type": "display_data"
    },
    {
     "data": {
      "text/html": [],
      "text/plain": [
       "<IPython.core.display.HTML object>"
      ]
     },
     "metadata": {
      "tags": []
     },
     "output_type": "display_data"
    },
    {
     "data": {
      "text/html": [],
      "text/plain": [
       "<IPython.core.display.HTML object>"
      ]
     },
     "metadata": {
      "tags": []
     },
     "output_type": "display_data"
    },
    {
     "data": {
      "text/html": [],
      "text/plain": [
       "<IPython.core.display.HTML object>"
      ]
     },
     "metadata": {
      "tags": []
     },
     "output_type": "display_data"
    },
    {
     "data": {
      "text/html": [],
      "text/plain": [
       "<IPython.core.display.HTML object>"
      ]
     },
     "metadata": {
      "tags": []
     },
     "output_type": "display_data"
    },
    {
     "data": {
      "text/html": [],
      "text/plain": [
       "<IPython.core.display.HTML object>"
      ]
     },
     "metadata": {
      "tags": []
     },
     "output_type": "display_data"
    },
    {
     "data": {
      "text/html": [],
      "text/plain": [
       "<IPython.core.display.HTML object>"
      ]
     },
     "metadata": {
      "tags": []
     },
     "output_type": "display_data"
    },
    {
     "data": {
      "text/html": [],
      "text/plain": [
       "<IPython.core.display.HTML object>"
      ]
     },
     "metadata": {
      "tags": []
     },
     "output_type": "display_data"
    },
    {
     "data": {
      "text/html": [],
      "text/plain": [
       "<IPython.core.display.HTML object>"
      ]
     },
     "metadata": {
      "tags": []
     },
     "output_type": "display_data"
    },
    {
     "data": {
      "text/html": [],
      "text/plain": [
       "<IPython.core.display.HTML object>"
      ]
     },
     "metadata": {
      "tags": []
     },
     "output_type": "display_data"
    },
    {
     "data": {
      "text/html": [],
      "text/plain": [
       "<IPython.core.display.HTML object>"
      ]
     },
     "metadata": {
      "tags": []
     },
     "output_type": "display_data"
    },
    {
     "data": {
      "text/html": [],
      "text/plain": [
       "<IPython.core.display.HTML object>"
      ]
     },
     "metadata": {
      "tags": []
     },
     "output_type": "display_data"
    },
    {
     "data": {
      "text/html": [],
      "text/plain": [
       "<IPython.core.display.HTML object>"
      ]
     },
     "metadata": {
      "tags": []
     },
     "output_type": "display_data"
    },
    {
     "data": {
      "text/html": [],
      "text/plain": [
       "<IPython.core.display.HTML object>"
      ]
     },
     "metadata": {
      "tags": []
     },
     "output_type": "display_data"
    },
    {
     "data": {
      "text/html": [],
      "text/plain": [
       "<IPython.core.display.HTML object>"
      ]
     },
     "metadata": {
      "tags": []
     },
     "output_type": "display_data"
    },
    {
     "data": {
      "text/html": [],
      "text/plain": [
       "<IPython.core.display.HTML object>"
      ]
     },
     "metadata": {
      "tags": []
     },
     "output_type": "display_data"
    },
    {
     "data": {
      "text/html": [],
      "text/plain": [
       "<IPython.core.display.HTML object>"
      ]
     },
     "metadata": {
      "tags": []
     },
     "output_type": "display_data"
    },
    {
     "data": {
      "text/html": [],
      "text/plain": [
       "<IPython.core.display.HTML object>"
      ]
     },
     "metadata": {
      "tags": []
     },
     "output_type": "display_data"
    },
    {
     "data": {
      "text/html": [],
      "text/plain": [
       "<IPython.core.display.HTML object>"
      ]
     },
     "metadata": {
      "tags": []
     },
     "output_type": "display_data"
    },
    {
     "data": {
      "text/html": [],
      "text/plain": [
       "<IPython.core.display.HTML object>"
      ]
     },
     "metadata": {
      "tags": []
     },
     "output_type": "display_data"
    },
    {
     "data": {
      "text/html": [],
      "text/plain": [
       "<IPython.core.display.HTML object>"
      ]
     },
     "metadata": {
      "tags": []
     },
     "output_type": "display_data"
    },
    {
     "data": {
      "text/html": [],
      "text/plain": [
       "<IPython.core.display.HTML object>"
      ]
     },
     "metadata": {
      "tags": []
     },
     "output_type": "display_data"
    },
    {
     "data": {
      "text/html": [],
      "text/plain": [
       "<IPython.core.display.HTML object>"
      ]
     },
     "metadata": {
      "tags": []
     },
     "output_type": "display_data"
    },
    {
     "data": {
      "text/html": [],
      "text/plain": [
       "<IPython.core.display.HTML object>"
      ]
     },
     "metadata": {
      "tags": []
     },
     "output_type": "display_data"
    },
    {
     "data": {
      "text/html": [],
      "text/plain": [
       "<IPython.core.display.HTML object>"
      ]
     },
     "metadata": {
      "tags": []
     },
     "output_type": "display_data"
    },
    {
     "data": {
      "text/html": [],
      "text/plain": [
       "<IPython.core.display.HTML object>"
      ]
     },
     "metadata": {
      "tags": []
     },
     "output_type": "display_data"
    },
    {
     "data": {
      "text/html": [],
      "text/plain": [
       "<IPython.core.display.HTML object>"
      ]
     },
     "metadata": {
      "tags": []
     },
     "output_type": "display_data"
    },
    {
     "data": {
      "text/html": [],
      "text/plain": [
       "<IPython.core.display.HTML object>"
      ]
     },
     "metadata": {
      "tags": []
     },
     "output_type": "display_data"
    },
    {
     "data": {
      "text/html": [],
      "text/plain": [
       "<IPython.core.display.HTML object>"
      ]
     },
     "metadata": {
      "tags": []
     },
     "output_type": "display_data"
    },
    {
     "data": {
      "text/html": [],
      "text/plain": [
       "<IPython.core.display.HTML object>"
      ]
     },
     "metadata": {
      "tags": []
     },
     "output_type": "display_data"
    },
    {
     "data": {
      "text/html": [],
      "text/plain": [
       "<IPython.core.display.HTML object>"
      ]
     },
     "metadata": {
      "tags": []
     },
     "output_type": "display_data"
    },
    {
     "data": {
      "text/html": [],
      "text/plain": [
       "<IPython.core.display.HTML object>"
      ]
     },
     "metadata": {
      "tags": []
     },
     "output_type": "display_data"
    },
    {
     "data": {
      "text/html": [],
      "text/plain": [
       "<IPython.core.display.HTML object>"
      ]
     },
     "metadata": {
      "tags": []
     },
     "output_type": "display_data"
    },
    {
     "data": {
      "text/html": [],
      "text/plain": [
       "<IPython.core.display.HTML object>"
      ]
     },
     "metadata": {
      "tags": []
     },
     "output_type": "display_data"
    },
    {
     "data": {
      "text/html": [],
      "text/plain": [
       "<IPython.core.display.HTML object>"
      ]
     },
     "metadata": {
      "tags": []
     },
     "output_type": "display_data"
    },
    {
     "data": {
      "text/html": [],
      "text/plain": [
       "<IPython.core.display.HTML object>"
      ]
     },
     "metadata": {
      "tags": []
     },
     "output_type": "display_data"
    },
    {
     "data": {
      "text/html": [],
      "text/plain": [
       "<IPython.core.display.HTML object>"
      ]
     },
     "metadata": {
      "tags": []
     },
     "output_type": "display_data"
    },
    {
     "data": {
      "text/html": [],
      "text/plain": [
       "<IPython.core.display.HTML object>"
      ]
     },
     "metadata": {
      "tags": []
     },
     "output_type": "display_data"
    },
    {
     "data": {
      "text/html": [],
      "text/plain": [
       "<IPython.core.display.HTML object>"
      ]
     },
     "metadata": {
      "tags": []
     },
     "output_type": "display_data"
    },
    {
     "data": {
      "text/html": [],
      "text/plain": [
       "<IPython.core.display.HTML object>"
      ]
     },
     "metadata": {
      "tags": []
     },
     "output_type": "display_data"
    },
    {
     "data": {
      "text/html": [],
      "text/plain": [
       "<IPython.core.display.HTML object>"
      ]
     },
     "metadata": {
      "tags": []
     },
     "output_type": "display_data"
    },
    {
     "data": {
      "text/html": [],
      "text/plain": [
       "<IPython.core.display.HTML object>"
      ]
     },
     "metadata": {
      "tags": []
     },
     "output_type": "display_data"
    },
    {
     "data": {
      "text/html": [],
      "text/plain": [
       "<IPython.core.display.HTML object>"
      ]
     },
     "metadata": {
      "tags": []
     },
     "output_type": "display_data"
    },
    {
     "data": {
      "text/html": [],
      "text/plain": [
       "<IPython.core.display.HTML object>"
      ]
     },
     "metadata": {
      "tags": []
     },
     "output_type": "display_data"
    },
    {
     "data": {
      "text/html": [],
      "text/plain": [
       "<IPython.core.display.HTML object>"
      ]
     },
     "metadata": {
      "tags": []
     },
     "output_type": "display_data"
    },
    {
     "data": {
      "text/html": [],
      "text/plain": [
       "<IPython.core.display.HTML object>"
      ]
     },
     "metadata": {
      "tags": []
     },
     "output_type": "display_data"
    },
    {
     "data": {
      "text/html": [],
      "text/plain": [
       "<IPython.core.display.HTML object>"
      ]
     },
     "metadata": {
      "tags": []
     },
     "output_type": "display_data"
    },
    {
     "data": {
      "text/html": [],
      "text/plain": [
       "<IPython.core.display.HTML object>"
      ]
     },
     "metadata": {
      "tags": []
     },
     "output_type": "display_data"
    },
    {
     "data": {
      "text/html": [],
      "text/plain": [
       "<IPython.core.display.HTML object>"
      ]
     },
     "metadata": {
      "tags": []
     },
     "output_type": "display_data"
    },
    {
     "data": {
      "text/html": [],
      "text/plain": [
       "<IPython.core.display.HTML object>"
      ]
     },
     "metadata": {
      "tags": []
     },
     "output_type": "display_data"
    },
    {
     "data": {
      "text/html": [],
      "text/plain": [
       "<IPython.core.display.HTML object>"
      ]
     },
     "metadata": {
      "tags": []
     },
     "output_type": "display_data"
    },
    {
     "data": {
      "text/html": [],
      "text/plain": [
       "<IPython.core.display.HTML object>"
      ]
     },
     "metadata": {
      "tags": []
     },
     "output_type": "display_data"
    },
    {
     "data": {
      "text/html": [],
      "text/plain": [
       "<IPython.core.display.HTML object>"
      ]
     },
     "metadata": {
      "tags": []
     },
     "output_type": "display_data"
    },
    {
     "data": {
      "text/html": [],
      "text/plain": [
       "<IPython.core.display.HTML object>"
      ]
     },
     "metadata": {
      "tags": []
     },
     "output_type": "display_data"
    },
    {
     "data": {
      "text/html": [],
      "text/plain": [
       "<IPython.core.display.HTML object>"
      ]
     },
     "metadata": {
      "tags": []
     },
     "output_type": "display_data"
    },
    {
     "data": {
      "text/html": [],
      "text/plain": [
       "<IPython.core.display.HTML object>"
      ]
     },
     "metadata": {
      "tags": []
     },
     "output_type": "display_data"
    },
    {
     "data": {
      "text/html": [],
      "text/plain": [
       "<IPython.core.display.HTML object>"
      ]
     },
     "metadata": {
      "tags": []
     },
     "output_type": "display_data"
    },
    {
     "data": {
      "text/html": [],
      "text/plain": [
       "<IPython.core.display.HTML object>"
      ]
     },
     "metadata": {
      "tags": []
     },
     "output_type": "display_data"
    },
    {
     "data": {
      "text/html": [],
      "text/plain": [
       "<IPython.core.display.HTML object>"
      ]
     },
     "metadata": {
      "tags": []
     },
     "output_type": "display_data"
    },
    {
     "data": {
      "text/html": [],
      "text/plain": [
       "<IPython.core.display.HTML object>"
      ]
     },
     "metadata": {
      "tags": []
     },
     "output_type": "display_data"
    },
    {
     "data": {
      "text/html": [],
      "text/plain": [
       "<IPython.core.display.HTML object>"
      ]
     },
     "metadata": {
      "tags": []
     },
     "output_type": "display_data"
    },
    {
     "data": {
      "text/html": [],
      "text/plain": [
       "<IPython.core.display.HTML object>"
      ]
     },
     "metadata": {
      "tags": []
     },
     "output_type": "display_data"
    },
    {
     "data": {
      "text/html": [],
      "text/plain": [
       "<IPython.core.display.HTML object>"
      ]
     },
     "metadata": {
      "tags": []
     },
     "output_type": "display_data"
    },
    {
     "data": {
      "text/html": [],
      "text/plain": [
       "<IPython.core.display.HTML object>"
      ]
     },
     "metadata": {
      "tags": []
     },
     "output_type": "display_data"
    },
    {
     "data": {
      "text/html": [],
      "text/plain": [
       "<IPython.core.display.HTML object>"
      ]
     },
     "metadata": {
      "tags": []
     },
     "output_type": "display_data"
    },
    {
     "data": {
      "text/html": [],
      "text/plain": [
       "<IPython.core.display.HTML object>"
      ]
     },
     "metadata": {
      "tags": []
     },
     "output_type": "display_data"
    },
    {
     "data": {
      "text/html": [],
      "text/plain": [
       "<IPython.core.display.HTML object>"
      ]
     },
     "metadata": {
      "tags": []
     },
     "output_type": "display_data"
    },
    {
     "data": {
      "text/html": [],
      "text/plain": [
       "<IPython.core.display.HTML object>"
      ]
     },
     "metadata": {
      "tags": []
     },
     "output_type": "display_data"
    },
    {
     "data": {
      "text/html": [],
      "text/plain": [
       "<IPython.core.display.HTML object>"
      ]
     },
     "metadata": {
      "tags": []
     },
     "output_type": "display_data"
    },
    {
     "data": {
      "text/html": [],
      "text/plain": [
       "<IPython.core.display.HTML object>"
      ]
     },
     "metadata": {
      "tags": []
     },
     "output_type": "display_data"
    },
    {
     "data": {
      "text/html": [],
      "text/plain": [
       "<IPython.core.display.HTML object>"
      ]
     },
     "metadata": {
      "tags": []
     },
     "output_type": "display_data"
    },
    {
     "data": {
      "text/html": [],
      "text/plain": [
       "<IPython.core.display.HTML object>"
      ]
     },
     "metadata": {
      "tags": []
     },
     "output_type": "display_data"
    },
    {
     "data": {
      "text/html": [],
      "text/plain": [
       "<IPython.core.display.HTML object>"
      ]
     },
     "metadata": {
      "tags": []
     },
     "output_type": "display_data"
    },
    {
     "data": {
      "text/html": [],
      "text/plain": [
       "<IPython.core.display.HTML object>"
      ]
     },
     "metadata": {
      "tags": []
     },
     "output_type": "display_data"
    },
    {
     "data": {
      "text/html": [],
      "text/plain": [
       "<IPython.core.display.HTML object>"
      ]
     },
     "metadata": {
      "tags": []
     },
     "output_type": "display_data"
    },
    {
     "data": {
      "text/html": [],
      "text/plain": [
       "<IPython.core.display.HTML object>"
      ]
     },
     "metadata": {
      "tags": []
     },
     "output_type": "display_data"
    },
    {
     "data": {
      "text/html": [],
      "text/plain": [
       "<IPython.core.display.HTML object>"
      ]
     },
     "metadata": {
      "tags": []
     },
     "output_type": "display_data"
    },
    {
     "data": {
      "text/html": [],
      "text/plain": [
       "<IPython.core.display.HTML object>"
      ]
     },
     "metadata": {
      "tags": []
     },
     "output_type": "display_data"
    },
    {
     "data": {
      "text/html": [],
      "text/plain": [
       "<IPython.core.display.HTML object>"
      ]
     },
     "metadata": {
      "tags": []
     },
     "output_type": "display_data"
    },
    {
     "data": {
      "text/html": [],
      "text/plain": [
       "<IPython.core.display.HTML object>"
      ]
     },
     "metadata": {
      "tags": []
     },
     "output_type": "display_data"
    },
    {
     "data": {
      "text/html": [],
      "text/plain": [
       "<IPython.core.display.HTML object>"
      ]
     },
     "metadata": {
      "tags": []
     },
     "output_type": "display_data"
    },
    {
     "data": {
      "text/html": [],
      "text/plain": [
       "<IPython.core.display.HTML object>"
      ]
     },
     "metadata": {
      "tags": []
     },
     "output_type": "display_data"
    },
    {
     "data": {
      "text/html": [],
      "text/plain": [
       "<IPython.core.display.HTML object>"
      ]
     },
     "metadata": {
      "tags": []
     },
     "output_type": "display_data"
    },
    {
     "data": {
      "text/html": [],
      "text/plain": [
       "<IPython.core.display.HTML object>"
      ]
     },
     "metadata": {
      "tags": []
     },
     "output_type": "display_data"
    },
    {
     "data": {
      "text/html": [],
      "text/plain": [
       "<IPython.core.display.HTML object>"
      ]
     },
     "metadata": {
      "tags": []
     },
     "output_type": "display_data"
    },
    {
     "data": {
      "text/html": [],
      "text/plain": [
       "<IPython.core.display.HTML object>"
      ]
     },
     "metadata": {
      "tags": []
     },
     "output_type": "display_data"
    },
    {
     "data": {
      "text/html": [],
      "text/plain": [
       "<IPython.core.display.HTML object>"
      ]
     },
     "metadata": {
      "tags": []
     },
     "output_type": "display_data"
    },
    {
     "data": {
      "text/html": [],
      "text/plain": [
       "<IPython.core.display.HTML object>"
      ]
     },
     "metadata": {
      "tags": []
     },
     "output_type": "display_data"
    },
    {
     "data": {
      "text/html": [],
      "text/plain": [
       "<IPython.core.display.HTML object>"
      ]
     },
     "metadata": {
      "tags": []
     },
     "output_type": "display_data"
    },
    {
     "data": {
      "text/html": [],
      "text/plain": [
       "<IPython.core.display.HTML object>"
      ]
     },
     "metadata": {
      "tags": []
     },
     "output_type": "display_data"
    },
    {
     "data": {
      "text/html": [],
      "text/plain": [
       "<IPython.core.display.HTML object>"
      ]
     },
     "metadata": {
      "tags": []
     },
     "output_type": "display_data"
    },
    {
     "data": {
      "text/html": [],
      "text/plain": [
       "<IPython.core.display.HTML object>"
      ]
     },
     "metadata": {
      "tags": []
     },
     "output_type": "display_data"
    },
    {
     "data": {
      "text/html": [],
      "text/plain": [
       "<IPython.core.display.HTML object>"
      ]
     },
     "metadata": {
      "tags": []
     },
     "output_type": "display_data"
    },
    {
     "data": {
      "text/html": [],
      "text/plain": [
       "<IPython.core.display.HTML object>"
      ]
     },
     "metadata": {
      "tags": []
     },
     "output_type": "display_data"
    },
    {
     "data": {
      "text/html": [],
      "text/plain": [
       "<IPython.core.display.HTML object>"
      ]
     },
     "metadata": {
      "tags": []
     },
     "output_type": "display_data"
    },
    {
     "data": {
      "text/html": [],
      "text/plain": [
       "<IPython.core.display.HTML object>"
      ]
     },
     "metadata": {
      "tags": []
     },
     "output_type": "display_data"
    },
    {
     "data": {
      "text/html": [],
      "text/plain": [
       "<IPython.core.display.HTML object>"
      ]
     },
     "metadata": {
      "tags": []
     },
     "output_type": "display_data"
    },
    {
     "data": {
      "text/html": [],
      "text/plain": [
       "<IPython.core.display.HTML object>"
      ]
     },
     "metadata": {
      "tags": []
     },
     "output_type": "display_data"
    },
    {
     "data": {
      "text/html": [],
      "text/plain": [
       "<IPython.core.display.HTML object>"
      ]
     },
     "metadata": {
      "tags": []
     },
     "output_type": "display_data"
    },
    {
     "data": {
      "text/html": [],
      "text/plain": [
       "<IPython.core.display.HTML object>"
      ]
     },
     "metadata": {
      "tags": []
     },
     "output_type": "display_data"
    },
    {
     "data": {
      "text/html": [],
      "text/plain": [
       "<IPython.core.display.HTML object>"
      ]
     },
     "metadata": {
      "tags": []
     },
     "output_type": "display_data"
    },
    {
     "data": {
      "text/html": [],
      "text/plain": [
       "<IPython.core.display.HTML object>"
      ]
     },
     "metadata": {
      "tags": []
     },
     "output_type": "display_data"
    },
    {
     "data": {
      "text/html": [],
      "text/plain": [
       "<IPython.core.display.HTML object>"
      ]
     },
     "metadata": {
      "tags": []
     },
     "output_type": "display_data"
    },
    {
     "data": {
      "text/html": [],
      "text/plain": [
       "<IPython.core.display.HTML object>"
      ]
     },
     "metadata": {
      "tags": []
     },
     "output_type": "display_data"
    },
    {
     "data": {
      "text/html": [],
      "text/plain": [
       "<IPython.core.display.HTML object>"
      ]
     },
     "metadata": {
      "tags": []
     },
     "output_type": "display_data"
    },
    {
     "data": {
      "text/html": [],
      "text/plain": [
       "<IPython.core.display.HTML object>"
      ]
     },
     "metadata": {
      "tags": []
     },
     "output_type": "display_data"
    },
    {
     "data": {
      "text/html": [],
      "text/plain": [
       "<IPython.core.display.HTML object>"
      ]
     },
     "metadata": {
      "tags": []
     },
     "output_type": "display_data"
    },
    {
     "data": {
      "text/html": [],
      "text/plain": [
       "<IPython.core.display.HTML object>"
      ]
     },
     "metadata": {
      "tags": []
     },
     "output_type": "display_data"
    },
    {
     "data": {
      "text/html": [],
      "text/plain": [
       "<IPython.core.display.HTML object>"
      ]
     },
     "metadata": {
      "tags": []
     },
     "output_type": "display_data"
    },
    {
     "data": {
      "text/html": [],
      "text/plain": [
       "<IPython.core.display.HTML object>"
      ]
     },
     "metadata": {
      "tags": []
     },
     "output_type": "display_data"
    },
    {
     "data": {
      "text/html": [],
      "text/plain": [
       "<IPython.core.display.HTML object>"
      ]
     },
     "metadata": {
      "tags": []
     },
     "output_type": "display_data"
    },
    {
     "data": {
      "text/html": [],
      "text/plain": [
       "<IPython.core.display.HTML object>"
      ]
     },
     "metadata": {
      "tags": []
     },
     "output_type": "display_data"
    },
    {
     "data": {
      "text/html": [],
      "text/plain": [
       "<IPython.core.display.HTML object>"
      ]
     },
     "metadata": {
      "tags": []
     },
     "output_type": "display_data"
    },
    {
     "data": {
      "text/html": [],
      "text/plain": [
       "<IPython.core.display.HTML object>"
      ]
     },
     "metadata": {
      "tags": []
     },
     "output_type": "display_data"
    },
    {
     "data": {
      "text/html": [],
      "text/plain": [
       "<IPython.core.display.HTML object>"
      ]
     },
     "metadata": {
      "tags": []
     },
     "output_type": "display_data"
    },
    {
     "data": {
      "text/html": [],
      "text/plain": [
       "<IPython.core.display.HTML object>"
      ]
     },
     "metadata": {
      "tags": []
     },
     "output_type": "display_data"
    },
    {
     "data": {
      "text/html": [],
      "text/plain": [
       "<IPython.core.display.HTML object>"
      ]
     },
     "metadata": {
      "tags": []
     },
     "output_type": "display_data"
    },
    {
     "data": {
      "text/html": [],
      "text/plain": [
       "<IPython.core.display.HTML object>"
      ]
     },
     "metadata": {
      "tags": []
     },
     "output_type": "display_data"
    },
    {
     "data": {
      "text/html": [],
      "text/plain": [
       "<IPython.core.display.HTML object>"
      ]
     },
     "metadata": {
      "tags": []
     },
     "output_type": "display_data"
    },
    {
     "data": {
      "text/html": [],
      "text/plain": [
       "<IPython.core.display.HTML object>"
      ]
     },
     "metadata": {
      "tags": []
     },
     "output_type": "display_data"
    },
    {
     "data": {
      "text/html": [],
      "text/plain": [
       "<IPython.core.display.HTML object>"
      ]
     },
     "metadata": {
      "tags": []
     },
     "output_type": "display_data"
    },
    {
     "data": {
      "text/html": [],
      "text/plain": [
       "<IPython.core.display.HTML object>"
      ]
     },
     "metadata": {
      "tags": []
     },
     "output_type": "display_data"
    },
    {
     "data": {
      "text/html": [],
      "text/plain": [
       "<IPython.core.display.HTML object>"
      ]
     },
     "metadata": {
      "tags": []
     },
     "output_type": "display_data"
    },
    {
     "data": {
      "text/html": [],
      "text/plain": [
       "<IPython.core.display.HTML object>"
      ]
     },
     "metadata": {
      "tags": []
     },
     "output_type": "display_data"
    },
    {
     "data": {
      "text/html": [],
      "text/plain": [
       "<IPython.core.display.HTML object>"
      ]
     },
     "metadata": {
      "tags": []
     },
     "output_type": "display_data"
    },
    {
     "data": {
      "text/html": [],
      "text/plain": [
       "<IPython.core.display.HTML object>"
      ]
     },
     "metadata": {
      "tags": []
     },
     "output_type": "display_data"
    },
    {
     "data": {
      "text/html": [],
      "text/plain": [
       "<IPython.core.display.HTML object>"
      ]
     },
     "metadata": {
      "tags": []
     },
     "output_type": "display_data"
    },
    {
     "data": {
      "text/html": [],
      "text/plain": [
       "<IPython.core.display.HTML object>"
      ]
     },
     "metadata": {
      "tags": []
     },
     "output_type": "display_data"
    },
    {
     "data": {
      "text/html": [],
      "text/plain": [
       "<IPython.core.display.HTML object>"
      ]
     },
     "metadata": {
      "tags": []
     },
     "output_type": "display_data"
    },
    {
     "data": {
      "text/html": [],
      "text/plain": [
       "<IPython.core.display.HTML object>"
      ]
     },
     "metadata": {
      "tags": []
     },
     "output_type": "display_data"
    },
    {
     "data": {
      "text/html": [],
      "text/plain": [
       "<IPython.core.display.HTML object>"
      ]
     },
     "metadata": {
      "tags": []
     },
     "output_type": "display_data"
    },
    {
     "data": {
      "text/html": [],
      "text/plain": [
       "<IPython.core.display.HTML object>"
      ]
     },
     "metadata": {
      "tags": []
     },
     "output_type": "display_data"
    },
    {
     "data": {
      "text/html": [],
      "text/plain": [
       "<IPython.core.display.HTML object>"
      ]
     },
     "metadata": {
      "tags": []
     },
     "output_type": "display_data"
    },
    {
     "data": {
      "text/html": [],
      "text/plain": [
       "<IPython.core.display.HTML object>"
      ]
     },
     "metadata": {
      "tags": []
     },
     "output_type": "display_data"
    },
    {
     "data": {
      "text/html": [],
      "text/plain": [
       "<IPython.core.display.HTML object>"
      ]
     },
     "metadata": {
      "tags": []
     },
     "output_type": "display_data"
    },
    {
     "data": {
      "text/html": [],
      "text/plain": [
       "<IPython.core.display.HTML object>"
      ]
     },
     "metadata": {
      "tags": []
     },
     "output_type": "display_data"
    },
    {
     "data": {
      "text/html": [],
      "text/plain": [
       "<IPython.core.display.HTML object>"
      ]
     },
     "metadata": {
      "tags": []
     },
     "output_type": "display_data"
    },
    {
     "data": {
      "text/html": [],
      "text/plain": [
       "<IPython.core.display.HTML object>"
      ]
     },
     "metadata": {
      "tags": []
     },
     "output_type": "display_data"
    },
    {
     "data": {
      "text/html": [],
      "text/plain": [
       "<IPython.core.display.HTML object>"
      ]
     },
     "metadata": {
      "tags": []
     },
     "output_type": "display_data"
    },
    {
     "data": {
      "text/html": [],
      "text/plain": [
       "<IPython.core.display.HTML object>"
      ]
     },
     "metadata": {
      "tags": []
     },
     "output_type": "display_data"
    },
    {
     "data": {
      "text/html": [],
      "text/plain": [
       "<IPython.core.display.HTML object>"
      ]
     },
     "metadata": {
      "tags": []
     },
     "output_type": "display_data"
    },
    {
     "data": {
      "text/html": [],
      "text/plain": [
       "<IPython.core.display.HTML object>"
      ]
     },
     "metadata": {
      "tags": []
     },
     "output_type": "display_data"
    },
    {
     "data": {
      "text/html": [],
      "text/plain": [
       "<IPython.core.display.HTML object>"
      ]
     },
     "metadata": {
      "tags": []
     },
     "output_type": "display_data"
    },
    {
     "data": {
      "text/html": [],
      "text/plain": [
       "<IPython.core.display.HTML object>"
      ]
     },
     "metadata": {
      "tags": []
     },
     "output_type": "display_data"
    },
    {
     "data": {
      "text/html": [],
      "text/plain": [
       "<IPython.core.display.HTML object>"
      ]
     },
     "metadata": {
      "tags": []
     },
     "output_type": "display_data"
    },
    {
     "data": {
      "text/html": [],
      "text/plain": [
       "<IPython.core.display.HTML object>"
      ]
     },
     "metadata": {
      "tags": []
     },
     "output_type": "display_data"
    },
    {
     "data": {
      "text/html": [],
      "text/plain": [
       "<IPython.core.display.HTML object>"
      ]
     },
     "metadata": {
      "tags": []
     },
     "output_type": "display_data"
    },
    {
     "data": {
      "text/html": [],
      "text/plain": [
       "<IPython.core.display.HTML object>"
      ]
     },
     "metadata": {
      "tags": []
     },
     "output_type": "display_data"
    },
    {
     "data": {
      "text/html": [],
      "text/plain": [
       "<IPython.core.display.HTML object>"
      ]
     },
     "metadata": {
      "tags": []
     },
     "output_type": "display_data"
    },
    {
     "data": {
      "text/html": [],
      "text/plain": [
       "<IPython.core.display.HTML object>"
      ]
     },
     "metadata": {
      "tags": []
     },
     "output_type": "display_data"
    },
    {
     "data": {
      "text/html": [],
      "text/plain": [
       "<IPython.core.display.HTML object>"
      ]
     },
     "metadata": {
      "tags": []
     },
     "output_type": "display_data"
    },
    {
     "data": {
      "text/html": [],
      "text/plain": [
       "<IPython.core.display.HTML object>"
      ]
     },
     "metadata": {
      "tags": []
     },
     "output_type": "display_data"
    },
    {
     "data": {
      "text/html": [],
      "text/plain": [
       "<IPython.core.display.HTML object>"
      ]
     },
     "metadata": {
      "tags": []
     },
     "output_type": "display_data"
    },
    {
     "data": {
      "text/html": [],
      "text/plain": [
       "<IPython.core.display.HTML object>"
      ]
     },
     "metadata": {
      "tags": []
     },
     "output_type": "display_data"
    },
    {
     "data": {
      "text/html": [],
      "text/plain": [
       "<IPython.core.display.HTML object>"
      ]
     },
     "metadata": {
      "tags": []
     },
     "output_type": "display_data"
    },
    {
     "data": {
      "text/html": [],
      "text/plain": [
       "<IPython.core.display.HTML object>"
      ]
     },
     "metadata": {
      "tags": []
     },
     "output_type": "display_data"
    },
    {
     "data": {
      "text/html": [],
      "text/plain": [
       "<IPython.core.display.HTML object>"
      ]
     },
     "metadata": {
      "tags": []
     },
     "output_type": "display_data"
    },
    {
     "data": {
      "text/html": [],
      "text/plain": [
       "<IPython.core.display.HTML object>"
      ]
     },
     "metadata": {
      "tags": []
     },
     "output_type": "display_data"
    },
    {
     "data": {
      "text/html": [],
      "text/plain": [
       "<IPython.core.display.HTML object>"
      ]
     },
     "metadata": {
      "tags": []
     },
     "output_type": "display_data"
    },
    {
     "data": {
      "text/html": [],
      "text/plain": [
       "<IPython.core.display.HTML object>"
      ]
     },
     "metadata": {
      "tags": []
     },
     "output_type": "display_data"
    },
    {
     "data": {
      "text/html": [],
      "text/plain": [
       "<IPython.core.display.HTML object>"
      ]
     },
     "metadata": {
      "tags": []
     },
     "output_type": "display_data"
    },
    {
     "data": {
      "text/html": [],
      "text/plain": [
       "<IPython.core.display.HTML object>"
      ]
     },
     "metadata": {
      "tags": []
     },
     "output_type": "display_data"
    },
    {
     "data": {
      "text/html": [],
      "text/plain": [
       "<IPython.core.display.HTML object>"
      ]
     },
     "metadata": {
      "tags": []
     },
     "output_type": "display_data"
    },
    {
     "data": {
      "text/html": [],
      "text/plain": [
       "<IPython.core.display.HTML object>"
      ]
     },
     "metadata": {
      "tags": []
     },
     "output_type": "display_data"
    },
    {
     "data": {
      "text/html": [],
      "text/plain": [
       "<IPython.core.display.HTML object>"
      ]
     },
     "metadata": {
      "tags": []
     },
     "output_type": "display_data"
    },
    {
     "data": {
      "text/html": [],
      "text/plain": [
       "<IPython.core.display.HTML object>"
      ]
     },
     "metadata": {
      "tags": []
     },
     "output_type": "display_data"
    },
    {
     "data": {
      "text/html": [],
      "text/plain": [
       "<IPython.core.display.HTML object>"
      ]
     },
     "metadata": {
      "tags": []
     },
     "output_type": "display_data"
    },
    {
     "data": {
      "text/html": [],
      "text/plain": [
       "<IPython.core.display.HTML object>"
      ]
     },
     "metadata": {
      "tags": []
     },
     "output_type": "display_data"
    },
    {
     "data": {
      "text/html": [],
      "text/plain": [
       "<IPython.core.display.HTML object>"
      ]
     },
     "metadata": {
      "tags": []
     },
     "output_type": "display_data"
    },
    {
     "data": {
      "text/html": [],
      "text/plain": [
       "<IPython.core.display.HTML object>"
      ]
     },
     "metadata": {
      "tags": []
     },
     "output_type": "display_data"
    },
    {
     "data": {
      "text/html": [],
      "text/plain": [
       "<IPython.core.display.HTML object>"
      ]
     },
     "metadata": {
      "tags": []
     },
     "output_type": "display_data"
    },
    {
     "data": {
      "text/html": [],
      "text/plain": [
       "<IPython.core.display.HTML object>"
      ]
     },
     "metadata": {
      "tags": []
     },
     "output_type": "display_data"
    },
    {
     "data": {
      "text/html": [],
      "text/plain": [
       "<IPython.core.display.HTML object>"
      ]
     },
     "metadata": {
      "tags": []
     },
     "output_type": "display_data"
    },
    {
     "data": {
      "text/html": [],
      "text/plain": [
       "<IPython.core.display.HTML object>"
      ]
     },
     "metadata": {
      "tags": []
     },
     "output_type": "display_data"
    },
    {
     "data": {
      "text/html": [],
      "text/plain": [
       "<IPython.core.display.HTML object>"
      ]
     },
     "metadata": {
      "tags": []
     },
     "output_type": "display_data"
    },
    {
     "data": {
      "text/html": [],
      "text/plain": [
       "<IPython.core.display.HTML object>"
      ]
     },
     "metadata": {
      "tags": []
     },
     "output_type": "display_data"
    },
    {
     "data": {
      "text/html": [],
      "text/plain": [
       "<IPython.core.display.HTML object>"
      ]
     },
     "metadata": {
      "tags": []
     },
     "output_type": "display_data"
    },
    {
     "data": {
      "text/html": [],
      "text/plain": [
       "<IPython.core.display.HTML object>"
      ]
     },
     "metadata": {
      "tags": []
     },
     "output_type": "display_data"
    },
    {
     "data": {
      "text/html": [],
      "text/plain": [
       "<IPython.core.display.HTML object>"
      ]
     },
     "metadata": {
      "tags": []
     },
     "output_type": "display_data"
    },
    {
     "data": {
      "text/html": [],
      "text/plain": [
       "<IPython.core.display.HTML object>"
      ]
     },
     "metadata": {
      "tags": []
     },
     "output_type": "display_data"
    },
    {
     "data": {
      "text/html": [],
      "text/plain": [
       "<IPython.core.display.HTML object>"
      ]
     },
     "metadata": {
      "tags": []
     },
     "output_type": "display_data"
    },
    {
     "data": {
      "text/html": [],
      "text/plain": [
       "<IPython.core.display.HTML object>"
      ]
     },
     "metadata": {
      "tags": []
     },
     "output_type": "display_data"
    },
    {
     "data": {
      "text/html": [],
      "text/plain": [
       "<IPython.core.display.HTML object>"
      ]
     },
     "metadata": {
      "tags": []
     },
     "output_type": "display_data"
    },
    {
     "data": {
      "text/html": [],
      "text/plain": [
       "<IPython.core.display.HTML object>"
      ]
     },
     "metadata": {
      "tags": []
     },
     "output_type": "display_data"
    },
    {
     "data": {
      "text/html": [],
      "text/plain": [
       "<IPython.core.display.HTML object>"
      ]
     },
     "metadata": {
      "tags": []
     },
     "output_type": "display_data"
    },
    {
     "data": {
      "text/html": [],
      "text/plain": [
       "<IPython.core.display.HTML object>"
      ]
     },
     "metadata": {
      "tags": []
     },
     "output_type": "display_data"
    },
    {
     "data": {
      "text/html": [],
      "text/plain": [
       "<IPython.core.display.HTML object>"
      ]
     },
     "metadata": {
      "tags": []
     },
     "output_type": "display_data"
    },
    {
     "data": {
      "text/html": [],
      "text/plain": [
       "<IPython.core.display.HTML object>"
      ]
     },
     "metadata": {
      "tags": []
     },
     "output_type": "display_data"
    },
    {
     "data": {
      "text/html": [],
      "text/plain": [
       "<IPython.core.display.HTML object>"
      ]
     },
     "metadata": {
      "tags": []
     },
     "output_type": "display_data"
    },
    {
     "data": {
      "text/html": [],
      "text/plain": [
       "<IPython.core.display.HTML object>"
      ]
     },
     "metadata": {
      "tags": []
     },
     "output_type": "display_data"
    },
    {
     "data": {
      "text/html": [],
      "text/plain": [
       "<IPython.core.display.HTML object>"
      ]
     },
     "metadata": {
      "tags": []
     },
     "output_type": "display_data"
    },
    {
     "data": {
      "text/html": [],
      "text/plain": [
       "<IPython.core.display.HTML object>"
      ]
     },
     "metadata": {
      "tags": []
     },
     "output_type": "display_data"
    },
    {
     "data": {
      "text/html": [],
      "text/plain": [
       "<IPython.core.display.HTML object>"
      ]
     },
     "metadata": {
      "tags": []
     },
     "output_type": "display_data"
    },
    {
     "data": {
      "text/html": [],
      "text/plain": [
       "<IPython.core.display.HTML object>"
      ]
     },
     "metadata": {
      "tags": []
     },
     "output_type": "display_data"
    },
    {
     "data": {
      "text/html": [],
      "text/plain": [
       "<IPython.core.display.HTML object>"
      ]
     },
     "metadata": {
      "tags": []
     },
     "output_type": "display_data"
    },
    {
     "data": {
      "text/html": [],
      "text/plain": [
       "<IPython.core.display.HTML object>"
      ]
     },
     "metadata": {
      "tags": []
     },
     "output_type": "display_data"
    },
    {
     "data": {
      "text/html": [],
      "text/plain": [
       "<IPython.core.display.HTML object>"
      ]
     },
     "metadata": {
      "tags": []
     },
     "output_type": "display_data"
    },
    {
     "data": {
      "text/html": [],
      "text/plain": [
       "<IPython.core.display.HTML object>"
      ]
     },
     "metadata": {
      "tags": []
     },
     "output_type": "display_data"
    },
    {
     "data": {
      "text/html": [],
      "text/plain": [
       "<IPython.core.display.HTML object>"
      ]
     },
     "metadata": {
      "tags": []
     },
     "output_type": "display_data"
    },
    {
     "data": {
      "text/html": [],
      "text/plain": [
       "<IPython.core.display.HTML object>"
      ]
     },
     "metadata": {
      "tags": []
     },
     "output_type": "display_data"
    },
    {
     "data": {
      "text/html": [],
      "text/plain": [
       "<IPython.core.display.HTML object>"
      ]
     },
     "metadata": {
      "tags": []
     },
     "output_type": "display_data"
    },
    {
     "data": {
      "text/html": [],
      "text/plain": [
       "<IPython.core.display.HTML object>"
      ]
     },
     "metadata": {
      "tags": []
     },
     "output_type": "display_data"
    },
    {
     "data": {
      "text/html": [],
      "text/plain": [
       "<IPython.core.display.HTML object>"
      ]
     },
     "metadata": {
      "tags": []
     },
     "output_type": "display_data"
    },
    {
     "data": {
      "text/html": [],
      "text/plain": [
       "<IPython.core.display.HTML object>"
      ]
     },
     "metadata": {
      "tags": []
     },
     "output_type": "display_data"
    },
    {
     "data": {
      "text/html": [],
      "text/plain": [
       "<IPython.core.display.HTML object>"
      ]
     },
     "metadata": {
      "tags": []
     },
     "output_type": "display_data"
    },
    {
     "data": {
      "text/html": [],
      "text/plain": [
       "<IPython.core.display.HTML object>"
      ]
     },
     "metadata": {
      "tags": []
     },
     "output_type": "display_data"
    },
    {
     "data": {
      "text/html": [],
      "text/plain": [
       "<IPython.core.display.HTML object>"
      ]
     },
     "metadata": {
      "tags": []
     },
     "output_type": "display_data"
    },
    {
     "data": {
      "text/html": [],
      "text/plain": [
       "<IPython.core.display.HTML object>"
      ]
     },
     "metadata": {
      "tags": []
     },
     "output_type": "display_data"
    },
    {
     "data": {
      "text/html": [],
      "text/plain": [
       "<IPython.core.display.HTML object>"
      ]
     },
     "metadata": {
      "tags": []
     },
     "output_type": "display_data"
    },
    {
     "data": {
      "text/html": [],
      "text/plain": [
       "<IPython.core.display.HTML object>"
      ]
     },
     "metadata": {
      "tags": []
     },
     "output_type": "display_data"
    },
    {
     "data": {
      "text/html": [],
      "text/plain": [
       "<IPython.core.display.HTML object>"
      ]
     },
     "metadata": {
      "tags": []
     },
     "output_type": "display_data"
    },
    {
     "data": {
      "text/html": [],
      "text/plain": [
       "<IPython.core.display.HTML object>"
      ]
     },
     "metadata": {
      "tags": []
     },
     "output_type": "display_data"
    },
    {
     "data": {
      "text/html": [],
      "text/plain": [
       "<IPython.core.display.HTML object>"
      ]
     },
     "metadata": {
      "tags": []
     },
     "output_type": "display_data"
    },
    {
     "data": {
      "text/html": [],
      "text/plain": [
       "<IPython.core.display.HTML object>"
      ]
     },
     "metadata": {
      "tags": []
     },
     "output_type": "display_data"
    },
    {
     "data": {
      "text/html": [],
      "text/plain": [
       "<IPython.core.display.HTML object>"
      ]
     },
     "metadata": {
      "tags": []
     },
     "output_type": "display_data"
    },
    {
     "data": {
      "text/html": [],
      "text/plain": [
       "<IPython.core.display.HTML object>"
      ]
     },
     "metadata": {
      "tags": []
     },
     "output_type": "display_data"
    },
    {
     "data": {
      "text/html": [],
      "text/plain": [
       "<IPython.core.display.HTML object>"
      ]
     },
     "metadata": {
      "tags": []
     },
     "output_type": "display_data"
    },
    {
     "data": {
      "text/html": [],
      "text/plain": [
       "<IPython.core.display.HTML object>"
      ]
     },
     "metadata": {
      "tags": []
     },
     "output_type": "display_data"
    },
    {
     "data": {
      "text/html": [],
      "text/plain": [
       "<IPython.core.display.HTML object>"
      ]
     },
     "metadata": {
      "tags": []
     },
     "output_type": "display_data"
    },
    {
     "data": {
      "text/html": [],
      "text/plain": [
       "<IPython.core.display.HTML object>"
      ]
     },
     "metadata": {
      "tags": []
     },
     "output_type": "display_data"
    },
    {
     "data": {
      "text/html": [],
      "text/plain": [
       "<IPython.core.display.HTML object>"
      ]
     },
     "metadata": {
      "tags": []
     },
     "output_type": "display_data"
    },
    {
     "data": {
      "text/html": [],
      "text/plain": [
       "<IPython.core.display.HTML object>"
      ]
     },
     "metadata": {
      "tags": []
     },
     "output_type": "display_data"
    },
    {
     "data": {
      "text/html": [],
      "text/plain": [
       "<IPython.core.display.HTML object>"
      ]
     },
     "metadata": {
      "tags": []
     },
     "output_type": "display_data"
    },
    {
     "data": {
      "text/html": [],
      "text/plain": [
       "<IPython.core.display.HTML object>"
      ]
     },
     "metadata": {
      "tags": []
     },
     "output_type": "display_data"
    },
    {
     "data": {
      "text/html": [],
      "text/plain": [
       "<IPython.core.display.HTML object>"
      ]
     },
     "metadata": {
      "tags": []
     },
     "output_type": "display_data"
    },
    {
     "data": {
      "text/html": [],
      "text/plain": [
       "<IPython.core.display.HTML object>"
      ]
     },
     "metadata": {
      "tags": []
     },
     "output_type": "display_data"
    },
    {
     "data": {
      "text/html": [],
      "text/plain": [
       "<IPython.core.display.HTML object>"
      ]
     },
     "metadata": {
      "tags": []
     },
     "output_type": "display_data"
    },
    {
     "data": {
      "text/html": [],
      "text/plain": [
       "<IPython.core.display.HTML object>"
      ]
     },
     "metadata": {
      "tags": []
     },
     "output_type": "display_data"
    },
    {
     "data": {
      "text/html": [],
      "text/plain": [
       "<IPython.core.display.HTML object>"
      ]
     },
     "metadata": {
      "tags": []
     },
     "output_type": "display_data"
    },
    {
     "data": {
      "text/html": [],
      "text/plain": [
       "<IPython.core.display.HTML object>"
      ]
     },
     "metadata": {
      "tags": []
     },
     "output_type": "display_data"
    },
    {
     "data": {
      "text/html": [],
      "text/plain": [
       "<IPython.core.display.HTML object>"
      ]
     },
     "metadata": {
      "tags": []
     },
     "output_type": "display_data"
    },
    {
     "data": {
      "text/html": [],
      "text/plain": [
       "<IPython.core.display.HTML object>"
      ]
     },
     "metadata": {
      "tags": []
     },
     "output_type": "display_data"
    },
    {
     "data": {
      "text/html": [],
      "text/plain": [
       "<IPython.core.display.HTML object>"
      ]
     },
     "metadata": {
      "tags": []
     },
     "output_type": "display_data"
    },
    {
     "data": {
      "text/html": [],
      "text/plain": [
       "<IPython.core.display.HTML object>"
      ]
     },
     "metadata": {
      "tags": []
     },
     "output_type": "display_data"
    },
    {
     "data": {
      "text/html": [],
      "text/plain": [
       "<IPython.core.display.HTML object>"
      ]
     },
     "metadata": {
      "tags": []
     },
     "output_type": "display_data"
    },
    {
     "data": {
      "text/html": [],
      "text/plain": [
       "<IPython.core.display.HTML object>"
      ]
     },
     "metadata": {
      "tags": []
     },
     "output_type": "display_data"
    },
    {
     "data": {
      "text/html": [],
      "text/plain": [
       "<IPython.core.display.HTML object>"
      ]
     },
     "metadata": {
      "tags": []
     },
     "output_type": "display_data"
    },
    {
     "data": {
      "text/html": [],
      "text/plain": [
       "<IPython.core.display.HTML object>"
      ]
     },
     "metadata": {
      "tags": []
     },
     "output_type": "display_data"
    },
    {
     "data": {
      "text/html": [],
      "text/plain": [
       "<IPython.core.display.HTML object>"
      ]
     },
     "metadata": {
      "tags": []
     },
     "output_type": "display_data"
    },
    {
     "data": {
      "text/html": [],
      "text/plain": [
       "<IPython.core.display.HTML object>"
      ]
     },
     "metadata": {
      "tags": []
     },
     "output_type": "display_data"
    },
    {
     "data": {
      "text/html": [],
      "text/plain": [
       "<IPython.core.display.HTML object>"
      ]
     },
     "metadata": {
      "tags": []
     },
     "output_type": "display_data"
    },
    {
     "data": {
      "text/html": [],
      "text/plain": [
       "<IPython.core.display.HTML object>"
      ]
     },
     "metadata": {
      "tags": []
     },
     "output_type": "display_data"
    },
    {
     "data": {
      "text/html": [],
      "text/plain": [
       "<IPython.core.display.HTML object>"
      ]
     },
     "metadata": {
      "tags": []
     },
     "output_type": "display_data"
    },
    {
     "data": {
      "text/html": [],
      "text/plain": [
       "<IPython.core.display.HTML object>"
      ]
     },
     "metadata": {
      "tags": []
     },
     "output_type": "display_data"
    },
    {
     "data": {
      "text/html": [],
      "text/plain": [
       "<IPython.core.display.HTML object>"
      ]
     },
     "metadata": {
      "tags": []
     },
     "output_type": "display_data"
    },
    {
     "data": {
      "text/html": [],
      "text/plain": [
       "<IPython.core.display.HTML object>"
      ]
     },
     "metadata": {
      "tags": []
     },
     "output_type": "display_data"
    },
    {
     "data": {
      "text/html": [],
      "text/plain": [
       "<IPython.core.display.HTML object>"
      ]
     },
     "metadata": {
      "tags": []
     },
     "output_type": "display_data"
    },
    {
     "data": {
      "text/html": [],
      "text/plain": [
       "<IPython.core.display.HTML object>"
      ]
     },
     "metadata": {
      "tags": []
     },
     "output_type": "display_data"
    },
    {
     "data": {
      "text/html": [],
      "text/plain": [
       "<IPython.core.display.HTML object>"
      ]
     },
     "metadata": {
      "tags": []
     },
     "output_type": "display_data"
    },
    {
     "data": {
      "text/html": [],
      "text/plain": [
       "<IPython.core.display.HTML object>"
      ]
     },
     "metadata": {
      "tags": []
     },
     "output_type": "display_data"
    },
    {
     "data": {
      "text/html": [],
      "text/plain": [
       "<IPython.core.display.HTML object>"
      ]
     },
     "metadata": {
      "tags": []
     },
     "output_type": "display_data"
    },
    {
     "data": {
      "text/html": [],
      "text/plain": [
       "<IPython.core.display.HTML object>"
      ]
     },
     "metadata": {
      "tags": []
     },
     "output_type": "display_data"
    },
    {
     "data": {
      "text/html": [],
      "text/plain": [
       "<IPython.core.display.HTML object>"
      ]
     },
     "metadata": {
      "tags": []
     },
     "output_type": "display_data"
    },
    {
     "data": {
      "text/html": [],
      "text/plain": [
       "<IPython.core.display.HTML object>"
      ]
     },
     "metadata": {
      "tags": []
     },
     "output_type": "display_data"
    },
    {
     "data": {
      "text/html": [],
      "text/plain": [
       "<IPython.core.display.HTML object>"
      ]
     },
     "metadata": {
      "tags": []
     },
     "output_type": "display_data"
    },
    {
     "data": {
      "text/html": [],
      "text/plain": [
       "<IPython.core.display.HTML object>"
      ]
     },
     "metadata": {
      "tags": []
     },
     "output_type": "display_data"
    },
    {
     "data": {
      "text/html": [],
      "text/plain": [
       "<IPython.core.display.HTML object>"
      ]
     },
     "metadata": {
      "tags": []
     },
     "output_type": "display_data"
    },
    {
     "data": {
      "text/html": [],
      "text/plain": [
       "<IPython.core.display.HTML object>"
      ]
     },
     "metadata": {
      "tags": []
     },
     "output_type": "display_data"
    },
    {
     "data": {
      "text/html": [],
      "text/plain": [
       "<IPython.core.display.HTML object>"
      ]
     },
     "metadata": {
      "tags": []
     },
     "output_type": "display_data"
    },
    {
     "data": {
      "text/html": [],
      "text/plain": [
       "<IPython.core.display.HTML object>"
      ]
     },
     "metadata": {
      "tags": []
     },
     "output_type": "display_data"
    },
    {
     "data": {
      "text/html": [],
      "text/plain": [
       "<IPython.core.display.HTML object>"
      ]
     },
     "metadata": {
      "tags": []
     },
     "output_type": "display_data"
    },
    {
     "data": {
      "text/html": [],
      "text/plain": [
       "<IPython.core.display.HTML object>"
      ]
     },
     "metadata": {
      "tags": []
     },
     "output_type": "display_data"
    },
    {
     "data": {
      "text/html": [],
      "text/plain": [
       "<IPython.core.display.HTML object>"
      ]
     },
     "metadata": {
      "tags": []
     },
     "output_type": "display_data"
    },
    {
     "data": {
      "text/html": [],
      "text/plain": [
       "<IPython.core.display.HTML object>"
      ]
     },
     "metadata": {
      "tags": []
     },
     "output_type": "display_data"
    },
    {
     "data": {
      "text/html": [],
      "text/plain": [
       "<IPython.core.display.HTML object>"
      ]
     },
     "metadata": {
      "tags": []
     },
     "output_type": "display_data"
    },
    {
     "data": {
      "text/html": [],
      "text/plain": [
       "<IPython.core.display.HTML object>"
      ]
     },
     "metadata": {
      "tags": []
     },
     "output_type": "display_data"
    },
    {
     "data": {
      "text/html": [],
      "text/plain": [
       "<IPython.core.display.HTML object>"
      ]
     },
     "metadata": {
      "tags": []
     },
     "output_type": "display_data"
    },
    {
     "data": {
      "text/html": [],
      "text/plain": [
       "<IPython.core.display.HTML object>"
      ]
     },
     "metadata": {
      "tags": []
     },
     "output_type": "display_data"
    },
    {
     "data": {
      "text/html": [],
      "text/plain": [
       "<IPython.core.display.HTML object>"
      ]
     },
     "metadata": {
      "tags": []
     },
     "output_type": "display_data"
    },
    {
     "data": {
      "text/html": [],
      "text/plain": [
       "<IPython.core.display.HTML object>"
      ]
     },
     "metadata": {
      "tags": []
     },
     "output_type": "display_data"
    },
    {
     "data": {
      "text/html": [],
      "text/plain": [
       "<IPython.core.display.HTML object>"
      ]
     },
     "metadata": {
      "tags": []
     },
     "output_type": "display_data"
    },
    {
     "data": {
      "text/html": [],
      "text/plain": [
       "<IPython.core.display.HTML object>"
      ]
     },
     "metadata": {
      "tags": []
     },
     "output_type": "display_data"
    },
    {
     "data": {
      "text/html": [],
      "text/plain": [
       "<IPython.core.display.HTML object>"
      ]
     },
     "metadata": {
      "tags": []
     },
     "output_type": "display_data"
    },
    {
     "data": {
      "text/html": [],
      "text/plain": [
       "<IPython.core.display.HTML object>"
      ]
     },
     "metadata": {
      "tags": []
     },
     "output_type": "display_data"
    },
    {
     "data": {
      "text/html": [],
      "text/plain": [
       "<IPython.core.display.HTML object>"
      ]
     },
     "metadata": {
      "tags": []
     },
     "output_type": "display_data"
    },
    {
     "data": {
      "text/html": [],
      "text/plain": [
       "<IPython.core.display.HTML object>"
      ]
     },
     "metadata": {
      "tags": []
     },
     "output_type": "display_data"
    },
    {
     "data": {
      "text/html": [],
      "text/plain": [
       "<IPython.core.display.HTML object>"
      ]
     },
     "metadata": {
      "tags": []
     },
     "output_type": "display_data"
    },
    {
     "data": {
      "text/html": [],
      "text/plain": [
       "<IPython.core.display.HTML object>"
      ]
     },
     "metadata": {
      "tags": []
     },
     "output_type": "display_data"
    },
    {
     "data": {
      "text/html": [],
      "text/plain": [
       "<IPython.core.display.HTML object>"
      ]
     },
     "metadata": {
      "tags": []
     },
     "output_type": "display_data"
    },
    {
     "data": {
      "text/html": [],
      "text/plain": [
       "<IPython.core.display.HTML object>"
      ]
     },
     "metadata": {
      "tags": []
     },
     "output_type": "display_data"
    },
    {
     "data": {
      "text/html": [],
      "text/plain": [
       "<IPython.core.display.HTML object>"
      ]
     },
     "metadata": {
      "tags": []
     },
     "output_type": "display_data"
    },
    {
     "data": {
      "text/html": [],
      "text/plain": [
       "<IPython.core.display.HTML object>"
      ]
     },
     "metadata": {
      "tags": []
     },
     "output_type": "display_data"
    },
    {
     "data": {
      "text/html": [],
      "text/plain": [
       "<IPython.core.display.HTML object>"
      ]
     },
     "metadata": {
      "tags": []
     },
     "output_type": "display_data"
    },
    {
     "data": {
      "text/html": [],
      "text/plain": [
       "<IPython.core.display.HTML object>"
      ]
     },
     "metadata": {
      "tags": []
     },
     "output_type": "display_data"
    },
    {
     "data": {
      "text/html": [],
      "text/plain": [
       "<IPython.core.display.HTML object>"
      ]
     },
     "metadata": {
      "tags": []
     },
     "output_type": "display_data"
    },
    {
     "data": {
      "text/html": [],
      "text/plain": [
       "<IPython.core.display.HTML object>"
      ]
     },
     "metadata": {
      "tags": []
     },
     "output_type": "display_data"
    },
    {
     "data": {
      "text/html": [],
      "text/plain": [
       "<IPython.core.display.HTML object>"
      ]
     },
     "metadata": {
      "tags": []
     },
     "output_type": "display_data"
    },
    {
     "data": {
      "text/html": [],
      "text/plain": [
       "<IPython.core.display.HTML object>"
      ]
     },
     "metadata": {
      "tags": []
     },
     "output_type": "display_data"
    },
    {
     "data": {
      "text/html": [],
      "text/plain": [
       "<IPython.core.display.HTML object>"
      ]
     },
     "metadata": {
      "tags": []
     },
     "output_type": "display_data"
    },
    {
     "data": {
      "text/html": [],
      "text/plain": [
       "<IPython.core.display.HTML object>"
      ]
     },
     "metadata": {
      "tags": []
     },
     "output_type": "display_data"
    },
    {
     "data": {
      "text/html": [],
      "text/plain": [
       "<IPython.core.display.HTML object>"
      ]
     },
     "metadata": {
      "tags": []
     },
     "output_type": "display_data"
    },
    {
     "data": {
      "text/html": [],
      "text/plain": [
       "<IPython.core.display.HTML object>"
      ]
     },
     "metadata": {
      "tags": []
     },
     "output_type": "display_data"
    },
    {
     "data": {
      "text/html": [],
      "text/plain": [
       "<IPython.core.display.HTML object>"
      ]
     },
     "metadata": {
      "tags": []
     },
     "output_type": "display_data"
    },
    {
     "data": {
      "text/html": [],
      "text/plain": [
       "<IPython.core.display.HTML object>"
      ]
     },
     "metadata": {
      "tags": []
     },
     "output_type": "display_data"
    },
    {
     "data": {
      "text/html": [],
      "text/plain": [
       "<IPython.core.display.HTML object>"
      ]
     },
     "metadata": {
      "tags": []
     },
     "output_type": "display_data"
    },
    {
     "data": {
      "text/html": [],
      "text/plain": [
       "<IPython.core.display.HTML object>"
      ]
     },
     "metadata": {
      "tags": []
     },
     "output_type": "display_data"
    },
    {
     "data": {
      "text/html": [],
      "text/plain": [
       "<IPython.core.display.HTML object>"
      ]
     },
     "metadata": {
      "tags": []
     },
     "output_type": "display_data"
    },
    {
     "data": {
      "text/html": [],
      "text/plain": [
       "<IPython.core.display.HTML object>"
      ]
     },
     "metadata": {
      "tags": []
     },
     "output_type": "display_data"
    },
    {
     "data": {
      "text/html": [],
      "text/plain": [
       "<IPython.core.display.HTML object>"
      ]
     },
     "metadata": {
      "tags": []
     },
     "output_type": "display_data"
    },
    {
     "data": {
      "text/html": [],
      "text/plain": [
       "<IPython.core.display.HTML object>"
      ]
     },
     "metadata": {
      "tags": []
     },
     "output_type": "display_data"
    },
    {
     "data": {
      "text/html": [],
      "text/plain": [
       "<IPython.core.display.HTML object>"
      ]
     },
     "metadata": {
      "tags": []
     },
     "output_type": "display_data"
    },
    {
     "data": {
      "text/html": [],
      "text/plain": [
       "<IPython.core.display.HTML object>"
      ]
     },
     "metadata": {
      "tags": []
     },
     "output_type": "display_data"
    },
    {
     "data": {
      "text/html": [],
      "text/plain": [
       "<IPython.core.display.HTML object>"
      ]
     },
     "metadata": {
      "tags": []
     },
     "output_type": "display_data"
    },
    {
     "data": {
      "text/html": [],
      "text/plain": [
       "<IPython.core.display.HTML object>"
      ]
     },
     "metadata": {
      "tags": []
     },
     "output_type": "display_data"
    },
    {
     "data": {
      "text/html": [],
      "text/plain": [
       "<IPython.core.display.HTML object>"
      ]
     },
     "metadata": {
      "tags": []
     },
     "output_type": "display_data"
    },
    {
     "data": {
      "text/html": [],
      "text/plain": [
       "<IPython.core.display.HTML object>"
      ]
     },
     "metadata": {
      "tags": []
     },
     "output_type": "display_data"
    },
    {
     "data": {
      "text/html": [],
      "text/plain": [
       "<IPython.core.display.HTML object>"
      ]
     },
     "metadata": {
      "tags": []
     },
     "output_type": "display_data"
    },
    {
     "data": {
      "text/html": [],
      "text/plain": [
       "<IPython.core.display.HTML object>"
      ]
     },
     "metadata": {
      "tags": []
     },
     "output_type": "display_data"
    },
    {
     "data": {
      "text/html": [],
      "text/plain": [
       "<IPython.core.display.HTML object>"
      ]
     },
     "metadata": {
      "tags": []
     },
     "output_type": "display_data"
    },
    {
     "data": {
      "text/html": [],
      "text/plain": [
       "<IPython.core.display.HTML object>"
      ]
     },
     "metadata": {
      "tags": []
     },
     "output_type": "display_data"
    },
    {
     "data": {
      "text/html": [],
      "text/plain": [
       "<IPython.core.display.HTML object>"
      ]
     },
     "metadata": {
      "tags": []
     },
     "output_type": "display_data"
    },
    {
     "data": {
      "text/html": [],
      "text/plain": [
       "<IPython.core.display.HTML object>"
      ]
     },
     "metadata": {
      "tags": []
     },
     "output_type": "display_data"
    },
    {
     "data": {
      "text/html": [],
      "text/plain": [
       "<IPython.core.display.HTML object>"
      ]
     },
     "metadata": {
      "tags": []
     },
     "output_type": "display_data"
    },
    {
     "data": {
      "text/html": [],
      "text/plain": [
       "<IPython.core.display.HTML object>"
      ]
     },
     "metadata": {
      "tags": []
     },
     "output_type": "display_data"
    },
    {
     "data": {
      "text/html": [],
      "text/plain": [
       "<IPython.core.display.HTML object>"
      ]
     },
     "metadata": {
      "tags": []
     },
     "output_type": "display_data"
    },
    {
     "data": {
      "text/html": [],
      "text/plain": [
       "<IPython.core.display.HTML object>"
      ]
     },
     "metadata": {
      "tags": []
     },
     "output_type": "display_data"
    },
    {
     "data": {
      "text/html": [],
      "text/plain": [
       "<IPython.core.display.HTML object>"
      ]
     },
     "metadata": {
      "tags": []
     },
     "output_type": "display_data"
    },
    {
     "data": {
      "text/html": [],
      "text/plain": [
       "<IPython.core.display.HTML object>"
      ]
     },
     "metadata": {
      "tags": []
     },
     "output_type": "display_data"
    },
    {
     "data": {
      "text/html": [],
      "text/plain": [
       "<IPython.core.display.HTML object>"
      ]
     },
     "metadata": {
      "tags": []
     },
     "output_type": "display_data"
    },
    {
     "data": {
      "text/html": [],
      "text/plain": [
       "<IPython.core.display.HTML object>"
      ]
     },
     "metadata": {
      "tags": []
     },
     "output_type": "display_data"
    },
    {
     "data": {
      "text/html": [],
      "text/plain": [
       "<IPython.core.display.HTML object>"
      ]
     },
     "metadata": {
      "tags": []
     },
     "output_type": "display_data"
    },
    {
     "data": {
      "text/html": [],
      "text/plain": [
       "<IPython.core.display.HTML object>"
      ]
     },
     "metadata": {
      "tags": []
     },
     "output_type": "display_data"
    },
    {
     "data": {
      "text/html": [],
      "text/plain": [
       "<IPython.core.display.HTML object>"
      ]
     },
     "metadata": {
      "tags": []
     },
     "output_type": "display_data"
    },
    {
     "data": {
      "text/html": [],
      "text/plain": [
       "<IPython.core.display.HTML object>"
      ]
     },
     "metadata": {
      "tags": []
     },
     "output_type": "display_data"
    },
    {
     "data": {
      "text/html": [],
      "text/plain": [
       "<IPython.core.display.HTML object>"
      ]
     },
     "metadata": {
      "tags": []
     },
     "output_type": "display_data"
    },
    {
     "data": {
      "text/html": [],
      "text/plain": [
       "<IPython.core.display.HTML object>"
      ]
     },
     "metadata": {
      "tags": []
     },
     "output_type": "display_data"
    },
    {
     "data": {
      "text/html": [],
      "text/plain": [
       "<IPython.core.display.HTML object>"
      ]
     },
     "metadata": {
      "tags": []
     },
     "output_type": "display_data"
    },
    {
     "data": {
      "text/html": [],
      "text/plain": [
       "<IPython.core.display.HTML object>"
      ]
     },
     "metadata": {
      "tags": []
     },
     "output_type": "display_data"
    },
    {
     "data": {
      "text/html": [],
      "text/plain": [
       "<IPython.core.display.HTML object>"
      ]
     },
     "metadata": {
      "tags": []
     },
     "output_type": "display_data"
    },
    {
     "data": {
      "text/html": [],
      "text/plain": [
       "<IPython.core.display.HTML object>"
      ]
     },
     "metadata": {
      "tags": []
     },
     "output_type": "display_data"
    },
    {
     "data": {
      "text/html": [],
      "text/plain": [
       "<IPython.core.display.HTML object>"
      ]
     },
     "metadata": {
      "tags": []
     },
     "output_type": "display_data"
    },
    {
     "data": {
      "text/html": [],
      "text/plain": [
       "<IPython.core.display.HTML object>"
      ]
     },
     "metadata": {
      "tags": []
     },
     "output_type": "display_data"
    },
    {
     "data": {
      "text/html": [],
      "text/plain": [
       "<IPython.core.display.HTML object>"
      ]
     },
     "metadata": {
      "tags": []
     },
     "output_type": "display_data"
    },
    {
     "data": {
      "text/html": [],
      "text/plain": [
       "<IPython.core.display.HTML object>"
      ]
     },
     "metadata": {
      "tags": []
     },
     "output_type": "display_data"
    },
    {
     "data": {
      "text/html": [],
      "text/plain": [
       "<IPython.core.display.HTML object>"
      ]
     },
     "metadata": {
      "tags": []
     },
     "output_type": "display_data"
    },
    {
     "data": {
      "text/html": [],
      "text/plain": [
       "<IPython.core.display.HTML object>"
      ]
     },
     "metadata": {
      "tags": []
     },
     "output_type": "display_data"
    },
    {
     "data": {
      "text/html": [],
      "text/plain": [
       "<IPython.core.display.HTML object>"
      ]
     },
     "metadata": {
      "tags": []
     },
     "output_type": "display_data"
    },
    {
     "data": {
      "text/html": [],
      "text/plain": [
       "<IPython.core.display.HTML object>"
      ]
     },
     "metadata": {
      "tags": []
     },
     "output_type": "display_data"
    },
    {
     "data": {
      "text/html": [],
      "text/plain": [
       "<IPython.core.display.HTML object>"
      ]
     },
     "metadata": {
      "tags": []
     },
     "output_type": "display_data"
    },
    {
     "data": {
      "text/html": [],
      "text/plain": [
       "<IPython.core.display.HTML object>"
      ]
     },
     "metadata": {
      "tags": []
     },
     "output_type": "display_data"
    },
    {
     "data": {
      "text/html": [],
      "text/plain": [
       "<IPython.core.display.HTML object>"
      ]
     },
     "metadata": {
      "tags": []
     },
     "output_type": "display_data"
    },
    {
     "data": {
      "text/html": [],
      "text/plain": [
       "<IPython.core.display.HTML object>"
      ]
     },
     "metadata": {
      "tags": []
     },
     "output_type": "display_data"
    },
    {
     "data": {
      "text/html": [],
      "text/plain": [
       "<IPython.core.display.HTML object>"
      ]
     },
     "metadata": {
      "tags": []
     },
     "output_type": "display_data"
    },
    {
     "data": {
      "text/html": [],
      "text/plain": [
       "<IPython.core.display.HTML object>"
      ]
     },
     "metadata": {
      "tags": []
     },
     "output_type": "display_data"
    },
    {
     "data": {
      "text/html": [],
      "text/plain": [
       "<IPython.core.display.HTML object>"
      ]
     },
     "metadata": {
      "tags": []
     },
     "output_type": "display_data"
    },
    {
     "data": {
      "text/html": [],
      "text/plain": [
       "<IPython.core.display.HTML object>"
      ]
     },
     "metadata": {
      "tags": []
     },
     "output_type": "display_data"
    },
    {
     "data": {
      "text/html": [],
      "text/plain": [
       "<IPython.core.display.HTML object>"
      ]
     },
     "metadata": {
      "tags": []
     },
     "output_type": "display_data"
    },
    {
     "data": {
      "text/html": [],
      "text/plain": [
       "<IPython.core.display.HTML object>"
      ]
     },
     "metadata": {
      "tags": []
     },
     "output_type": "display_data"
    },
    {
     "data": {
      "text/html": [],
      "text/plain": [
       "<IPython.core.display.HTML object>"
      ]
     },
     "metadata": {
      "tags": []
     },
     "output_type": "display_data"
    },
    {
     "data": {
      "text/html": [],
      "text/plain": [
       "<IPython.core.display.HTML object>"
      ]
     },
     "metadata": {
      "tags": []
     },
     "output_type": "display_data"
    },
    {
     "data": {
      "text/html": [],
      "text/plain": [
       "<IPython.core.display.HTML object>"
      ]
     },
     "metadata": {
      "tags": []
     },
     "output_type": "display_data"
    },
    {
     "data": {
      "text/html": [],
      "text/plain": [
       "<IPython.core.display.HTML object>"
      ]
     },
     "metadata": {
      "tags": []
     },
     "output_type": "display_data"
    },
    {
     "data": {
      "text/html": [],
      "text/plain": [
       "<IPython.core.display.HTML object>"
      ]
     },
     "metadata": {
      "tags": []
     },
     "output_type": "display_data"
    },
    {
     "data": {
      "text/html": [],
      "text/plain": [
       "<IPython.core.display.HTML object>"
      ]
     },
     "metadata": {
      "tags": []
     },
     "output_type": "display_data"
    },
    {
     "data": {
      "text/html": [],
      "text/plain": [
       "<IPython.core.display.HTML object>"
      ]
     },
     "metadata": {
      "tags": []
     },
     "output_type": "display_data"
    },
    {
     "data": {
      "text/html": [],
      "text/plain": [
       "<IPython.core.display.HTML object>"
      ]
     },
     "metadata": {
      "tags": []
     },
     "output_type": "display_data"
    },
    {
     "data": {
      "text/html": [],
      "text/plain": [
       "<IPython.core.display.HTML object>"
      ]
     },
     "metadata": {
      "tags": []
     },
     "output_type": "display_data"
    },
    {
     "data": {
      "text/html": [],
      "text/plain": [
       "<IPython.core.display.HTML object>"
      ]
     },
     "metadata": {
      "tags": []
     },
     "output_type": "display_data"
    },
    {
     "data": {
      "text/html": [],
      "text/plain": [
       "<IPython.core.display.HTML object>"
      ]
     },
     "metadata": {
      "tags": []
     },
     "output_type": "display_data"
    },
    {
     "data": {
      "text/html": [],
      "text/plain": [
       "<IPython.core.display.HTML object>"
      ]
     },
     "metadata": {
      "tags": []
     },
     "output_type": "display_data"
    },
    {
     "data": {
      "text/html": [],
      "text/plain": [
       "<IPython.core.display.HTML object>"
      ]
     },
     "metadata": {
      "tags": []
     },
     "output_type": "display_data"
    },
    {
     "data": {
      "text/html": [],
      "text/plain": [
       "<IPython.core.display.HTML object>"
      ]
     },
     "metadata": {
      "tags": []
     },
     "output_type": "display_data"
    },
    {
     "data": {
      "text/html": [],
      "text/plain": [
       "<IPython.core.display.HTML object>"
      ]
     },
     "metadata": {
      "tags": []
     },
     "output_type": "display_data"
    },
    {
     "data": {
      "text/html": [],
      "text/plain": [
       "<IPython.core.display.HTML object>"
      ]
     },
     "metadata": {
      "tags": []
     },
     "output_type": "display_data"
    },
    {
     "data": {
      "text/html": [],
      "text/plain": [
       "<IPython.core.display.HTML object>"
      ]
     },
     "metadata": {
      "tags": []
     },
     "output_type": "display_data"
    },
    {
     "data": {
      "text/html": [],
      "text/plain": [
       "<IPython.core.display.HTML object>"
      ]
     },
     "metadata": {
      "tags": []
     },
     "output_type": "display_data"
    },
    {
     "data": {
      "text/html": [],
      "text/plain": [
       "<IPython.core.display.HTML object>"
      ]
     },
     "metadata": {
      "tags": []
     },
     "output_type": "display_data"
    },
    {
     "data": {
      "text/html": [],
      "text/plain": [
       "<IPython.core.display.HTML object>"
      ]
     },
     "metadata": {
      "tags": []
     },
     "output_type": "display_data"
    },
    {
     "data": {
      "text/html": [],
      "text/plain": [
       "<IPython.core.display.HTML object>"
      ]
     },
     "metadata": {
      "tags": []
     },
     "output_type": "display_data"
    },
    {
     "data": {
      "text/html": [],
      "text/plain": [
       "<IPython.core.display.HTML object>"
      ]
     },
     "metadata": {
      "tags": []
     },
     "output_type": "display_data"
    },
    {
     "data": {
      "text/html": [],
      "text/plain": [
       "<IPython.core.display.HTML object>"
      ]
     },
     "metadata": {
      "tags": []
     },
     "output_type": "display_data"
    },
    {
     "data": {
      "text/html": [],
      "text/plain": [
       "<IPython.core.display.HTML object>"
      ]
     },
     "metadata": {
      "tags": []
     },
     "output_type": "display_data"
    },
    {
     "data": {
      "text/html": [],
      "text/plain": [
       "<IPython.core.display.HTML object>"
      ]
     },
     "metadata": {
      "tags": []
     },
     "output_type": "display_data"
    },
    {
     "data": {
      "text/html": [],
      "text/plain": [
       "<IPython.core.display.HTML object>"
      ]
     },
     "metadata": {
      "tags": []
     },
     "output_type": "display_data"
    },
    {
     "data": {
      "text/html": [],
      "text/plain": [
       "<IPython.core.display.HTML object>"
      ]
     },
     "metadata": {
      "tags": []
     },
     "output_type": "display_data"
    },
    {
     "data": {
      "text/html": [],
      "text/plain": [
       "<IPython.core.display.HTML object>"
      ]
     },
     "metadata": {
      "tags": []
     },
     "output_type": "display_data"
    },
    {
     "data": {
      "text/html": [],
      "text/plain": [
       "<IPython.core.display.HTML object>"
      ]
     },
     "metadata": {
      "tags": []
     },
     "output_type": "display_data"
    },
    {
     "data": {
      "text/html": [],
      "text/plain": [
       "<IPython.core.display.HTML object>"
      ]
     },
     "metadata": {
      "tags": []
     },
     "output_type": "display_data"
    },
    {
     "data": {
      "text/html": [],
      "text/plain": [
       "<IPython.core.display.HTML object>"
      ]
     },
     "metadata": {
      "tags": []
     },
     "output_type": "display_data"
    },
    {
     "data": {
      "text/html": [],
      "text/plain": [
       "<IPython.core.display.HTML object>"
      ]
     },
     "metadata": {
      "tags": []
     },
     "output_type": "display_data"
    },
    {
     "data": {
      "text/html": [],
      "text/plain": [
       "<IPython.core.display.HTML object>"
      ]
     },
     "metadata": {
      "tags": []
     },
     "output_type": "display_data"
    },
    {
     "data": {
      "text/html": [],
      "text/plain": [
       "<IPython.core.display.HTML object>"
      ]
     },
     "metadata": {
      "tags": []
     },
     "output_type": "display_data"
    },
    {
     "data": {
      "text/html": [],
      "text/plain": [
       "<IPython.core.display.HTML object>"
      ]
     },
     "metadata": {
      "tags": []
     },
     "output_type": "display_data"
    },
    {
     "data": {
      "text/html": [],
      "text/plain": [
       "<IPython.core.display.HTML object>"
      ]
     },
     "metadata": {
      "tags": []
     },
     "output_type": "display_data"
    },
    {
     "data": {
      "text/html": [],
      "text/plain": [
       "<IPython.core.display.HTML object>"
      ]
     },
     "metadata": {
      "tags": []
     },
     "output_type": "display_data"
    },
    {
     "data": {
      "text/html": [],
      "text/plain": [
       "<IPython.core.display.HTML object>"
      ]
     },
     "metadata": {
      "tags": []
     },
     "output_type": "display_data"
    },
    {
     "data": {
      "text/html": [],
      "text/plain": [
       "<IPython.core.display.HTML object>"
      ]
     },
     "metadata": {
      "tags": []
     },
     "output_type": "display_data"
    },
    {
     "data": {
      "text/html": [],
      "text/plain": [
       "<IPython.core.display.HTML object>"
      ]
     },
     "metadata": {
      "tags": []
     },
     "output_type": "display_data"
    },
    {
     "data": {
      "text/html": [],
      "text/plain": [
       "<IPython.core.display.HTML object>"
      ]
     },
     "metadata": {
      "tags": []
     },
     "output_type": "display_data"
    },
    {
     "data": {
      "text/html": [],
      "text/plain": [
       "<IPython.core.display.HTML object>"
      ]
     },
     "metadata": {
      "tags": []
     },
     "output_type": "display_data"
    },
    {
     "data": {
      "text/html": [],
      "text/plain": [
       "<IPython.core.display.HTML object>"
      ]
     },
     "metadata": {
      "tags": []
     },
     "output_type": "display_data"
    },
    {
     "data": {
      "text/html": [],
      "text/plain": [
       "<IPython.core.display.HTML object>"
      ]
     },
     "metadata": {
      "tags": []
     },
     "output_type": "display_data"
    },
    {
     "data": {
      "text/html": [],
      "text/plain": [
       "<IPython.core.display.HTML object>"
      ]
     },
     "metadata": {
      "tags": []
     },
     "output_type": "display_data"
    },
    {
     "data": {
      "text/html": [],
      "text/plain": [
       "<IPython.core.display.HTML object>"
      ]
     },
     "metadata": {
      "tags": []
     },
     "output_type": "display_data"
    },
    {
     "data": {
      "text/html": [],
      "text/plain": [
       "<IPython.core.display.HTML object>"
      ]
     },
     "metadata": {
      "tags": []
     },
     "output_type": "display_data"
    },
    {
     "data": {
      "text/html": [],
      "text/plain": [
       "<IPython.core.display.HTML object>"
      ]
     },
     "metadata": {
      "tags": []
     },
     "output_type": "display_data"
    },
    {
     "data": {
      "text/html": [],
      "text/plain": [
       "<IPython.core.display.HTML object>"
      ]
     },
     "metadata": {
      "tags": []
     },
     "output_type": "display_data"
    },
    {
     "data": {
      "text/html": [],
      "text/plain": [
       "<IPython.core.display.HTML object>"
      ]
     },
     "metadata": {
      "tags": []
     },
     "output_type": "display_data"
    },
    {
     "data": {
      "text/html": [],
      "text/plain": [
       "<IPython.core.display.HTML object>"
      ]
     },
     "metadata": {
      "tags": []
     },
     "output_type": "display_data"
    },
    {
     "data": {
      "text/html": [],
      "text/plain": [
       "<IPython.core.display.HTML object>"
      ]
     },
     "metadata": {
      "tags": []
     },
     "output_type": "display_data"
    },
    {
     "data": {
      "text/html": [],
      "text/plain": [
       "<IPython.core.display.HTML object>"
      ]
     },
     "metadata": {
      "tags": []
     },
     "output_type": "display_data"
    },
    {
     "data": {
      "text/html": [],
      "text/plain": [
       "<IPython.core.display.HTML object>"
      ]
     },
     "metadata": {
      "tags": []
     },
     "output_type": "display_data"
    },
    {
     "data": {
      "text/html": [],
      "text/plain": [
       "<IPython.core.display.HTML object>"
      ]
     },
     "metadata": {
      "tags": []
     },
     "output_type": "display_data"
    },
    {
     "data": {
      "text/html": [],
      "text/plain": [
       "<IPython.core.display.HTML object>"
      ]
     },
     "metadata": {
      "tags": []
     },
     "output_type": "display_data"
    },
    {
     "data": {
      "text/html": [],
      "text/plain": [
       "<IPython.core.display.HTML object>"
      ]
     },
     "metadata": {
      "tags": []
     },
     "output_type": "display_data"
    },
    {
     "data": {
      "text/html": [],
      "text/plain": [
       "<IPython.core.display.HTML object>"
      ]
     },
     "metadata": {
      "tags": []
     },
     "output_type": "display_data"
    },
    {
     "data": {
      "text/html": [],
      "text/plain": [
       "<IPython.core.display.HTML object>"
      ]
     },
     "metadata": {
      "tags": []
     },
     "output_type": "display_data"
    },
    {
     "data": {
      "text/html": [],
      "text/plain": [
       "<IPython.core.display.HTML object>"
      ]
     },
     "metadata": {
      "tags": []
     },
     "output_type": "display_data"
    },
    {
     "data": {
      "text/html": [],
      "text/plain": [
       "<IPython.core.display.HTML object>"
      ]
     },
     "metadata": {
      "tags": []
     },
     "output_type": "display_data"
    },
    {
     "data": {
      "text/html": [],
      "text/plain": [
       "<IPython.core.display.HTML object>"
      ]
     },
     "metadata": {
      "tags": []
     },
     "output_type": "display_data"
    },
    {
     "data": {
      "text/html": [],
      "text/plain": [
       "<IPython.core.display.HTML object>"
      ]
     },
     "metadata": {
      "tags": []
     },
     "output_type": "display_data"
    },
    {
     "data": {
      "text/html": [],
      "text/plain": [
       "<IPython.core.display.HTML object>"
      ]
     },
     "metadata": {
      "tags": []
     },
     "output_type": "display_data"
    },
    {
     "data": {
      "text/html": [],
      "text/plain": [
       "<IPython.core.display.HTML object>"
      ]
     },
     "metadata": {
      "tags": []
     },
     "output_type": "display_data"
    },
    {
     "data": {
      "text/html": [],
      "text/plain": [
       "<IPython.core.display.HTML object>"
      ]
     },
     "metadata": {
      "tags": []
     },
     "output_type": "display_data"
    },
    {
     "data": {
      "text/html": [],
      "text/plain": [
       "<IPython.core.display.HTML object>"
      ]
     },
     "metadata": {
      "tags": []
     },
     "output_type": "display_data"
    },
    {
     "data": {
      "text/html": [],
      "text/plain": [
       "<IPython.core.display.HTML object>"
      ]
     },
     "metadata": {
      "tags": []
     },
     "output_type": "display_data"
    },
    {
     "data": {
      "text/html": [],
      "text/plain": [
       "<IPython.core.display.HTML object>"
      ]
     },
     "metadata": {
      "tags": []
     },
     "output_type": "display_data"
    },
    {
     "data": {
      "text/html": [],
      "text/plain": [
       "<IPython.core.display.HTML object>"
      ]
     },
     "metadata": {
      "tags": []
     },
     "output_type": "display_data"
    },
    {
     "data": {
      "text/html": [],
      "text/plain": [
       "<IPython.core.display.HTML object>"
      ]
     },
     "metadata": {
      "tags": []
     },
     "output_type": "display_data"
    },
    {
     "data": {
      "text/html": [],
      "text/plain": [
       "<IPython.core.display.HTML object>"
      ]
     },
     "metadata": {
      "tags": []
     },
     "output_type": "display_data"
    },
    {
     "data": {
      "text/html": [],
      "text/plain": [
       "<IPython.core.display.HTML object>"
      ]
     },
     "metadata": {
      "tags": []
     },
     "output_type": "display_data"
    },
    {
     "data": {
      "text/html": [],
      "text/plain": [
       "<IPython.core.display.HTML object>"
      ]
     },
     "metadata": {
      "tags": []
     },
     "output_type": "display_data"
    },
    {
     "data": {
      "text/html": [],
      "text/plain": [
       "<IPython.core.display.HTML object>"
      ]
     },
     "metadata": {
      "tags": []
     },
     "output_type": "display_data"
    },
    {
     "data": {
      "text/html": [],
      "text/plain": [
       "<IPython.core.display.HTML object>"
      ]
     },
     "metadata": {
      "tags": []
     },
     "output_type": "display_data"
    },
    {
     "data": {
      "text/html": [],
      "text/plain": [
       "<IPython.core.display.HTML object>"
      ]
     },
     "metadata": {
      "tags": []
     },
     "output_type": "display_data"
    },
    {
     "data": {
      "text/html": [],
      "text/plain": [
       "<IPython.core.display.HTML object>"
      ]
     },
     "metadata": {
      "tags": []
     },
     "output_type": "display_data"
    },
    {
     "data": {
      "text/html": [],
      "text/plain": [
       "<IPython.core.display.HTML object>"
      ]
     },
     "metadata": {
      "tags": []
     },
     "output_type": "display_data"
    },
    {
     "data": {
      "text/html": [],
      "text/plain": [
       "<IPython.core.display.HTML object>"
      ]
     },
     "metadata": {
      "tags": []
     },
     "output_type": "display_data"
    },
    {
     "data": {
      "text/html": [],
      "text/plain": [
       "<IPython.core.display.HTML object>"
      ]
     },
     "metadata": {
      "tags": []
     },
     "output_type": "display_data"
    },
    {
     "data": {
      "text/html": [],
      "text/plain": [
       "<IPython.core.display.HTML object>"
      ]
     },
     "metadata": {
      "tags": []
     },
     "output_type": "display_data"
    },
    {
     "data": {
      "text/html": [],
      "text/plain": [
       "<IPython.core.display.HTML object>"
      ]
     },
     "metadata": {
      "tags": []
     },
     "output_type": "display_data"
    },
    {
     "data": {
      "text/html": [],
      "text/plain": [
       "<IPython.core.display.HTML object>"
      ]
     },
     "metadata": {
      "tags": []
     },
     "output_type": "display_data"
    },
    {
     "data": {
      "text/html": [],
      "text/plain": [
       "<IPython.core.display.HTML object>"
      ]
     },
     "metadata": {
      "tags": []
     },
     "output_type": "display_data"
    },
    {
     "data": {
      "text/html": [],
      "text/plain": [
       "<IPython.core.display.HTML object>"
      ]
     },
     "metadata": {
      "tags": []
     },
     "output_type": "display_data"
    },
    {
     "data": {
      "text/html": [],
      "text/plain": [
       "<IPython.core.display.HTML object>"
      ]
     },
     "metadata": {
      "tags": []
     },
     "output_type": "display_data"
    },
    {
     "data": {
      "text/html": [],
      "text/plain": [
       "<IPython.core.display.HTML object>"
      ]
     },
     "metadata": {
      "tags": []
     },
     "output_type": "display_data"
    },
    {
     "data": {
      "text/html": [],
      "text/plain": [
       "<IPython.core.display.HTML object>"
      ]
     },
     "metadata": {
      "tags": []
     },
     "output_type": "display_data"
    },
    {
     "data": {
      "text/html": [],
      "text/plain": [
       "<IPython.core.display.HTML object>"
      ]
     },
     "metadata": {
      "tags": []
     },
     "output_type": "display_data"
    },
    {
     "data": {
      "text/html": [],
      "text/plain": [
       "<IPython.core.display.HTML object>"
      ]
     },
     "metadata": {
      "tags": []
     },
     "output_type": "display_data"
    },
    {
     "data": {
      "text/html": [],
      "text/plain": [
       "<IPython.core.display.HTML object>"
      ]
     },
     "metadata": {
      "tags": []
     },
     "output_type": "display_data"
    },
    {
     "data": {
      "text/html": [],
      "text/plain": [
       "<IPython.core.display.HTML object>"
      ]
     },
     "metadata": {
      "tags": []
     },
     "output_type": "display_data"
    },
    {
     "data": {
      "text/html": [],
      "text/plain": [
       "<IPython.core.display.HTML object>"
      ]
     },
     "metadata": {
      "tags": []
     },
     "output_type": "display_data"
    },
    {
     "data": {
      "text/html": [],
      "text/plain": [
       "<IPython.core.display.HTML object>"
      ]
     },
     "metadata": {
      "tags": []
     },
     "output_type": "display_data"
    },
    {
     "data": {
      "text/html": [],
      "text/plain": [
       "<IPython.core.display.HTML object>"
      ]
     },
     "metadata": {
      "tags": []
     },
     "output_type": "display_data"
    },
    {
     "data": {
      "text/html": [],
      "text/plain": [
       "<IPython.core.display.HTML object>"
      ]
     },
     "metadata": {
      "tags": []
     },
     "output_type": "display_data"
    },
    {
     "data": {
      "text/html": [],
      "text/plain": [
       "<IPython.core.display.HTML object>"
      ]
     },
     "metadata": {
      "tags": []
     },
     "output_type": "display_data"
    },
    {
     "data": {
      "text/html": [],
      "text/plain": [
       "<IPython.core.display.HTML object>"
      ]
     },
     "metadata": {
      "tags": []
     },
     "output_type": "display_data"
    },
    {
     "data": {
      "text/html": [],
      "text/plain": [
       "<IPython.core.display.HTML object>"
      ]
     },
     "metadata": {
      "tags": []
     },
     "output_type": "display_data"
    },
    {
     "data": {
      "text/html": [],
      "text/plain": [
       "<IPython.core.display.HTML object>"
      ]
     },
     "metadata": {
      "tags": []
     },
     "output_type": "display_data"
    },
    {
     "data": {
      "text/html": [],
      "text/plain": [
       "<IPython.core.display.HTML object>"
      ]
     },
     "metadata": {
      "tags": []
     },
     "output_type": "display_data"
    },
    {
     "data": {
      "text/html": [],
      "text/plain": [
       "<IPython.core.display.HTML object>"
      ]
     },
     "metadata": {
      "tags": []
     },
     "output_type": "display_data"
    },
    {
     "data": {
      "text/html": [],
      "text/plain": [
       "<IPython.core.display.HTML object>"
      ]
     },
     "metadata": {
      "tags": []
     },
     "output_type": "display_data"
    },
    {
     "data": {
      "text/html": [],
      "text/plain": [
       "<IPython.core.display.HTML object>"
      ]
     },
     "metadata": {
      "tags": []
     },
     "output_type": "display_data"
    },
    {
     "data": {
      "text/html": [],
      "text/plain": [
       "<IPython.core.display.HTML object>"
      ]
     },
     "metadata": {
      "tags": []
     },
     "output_type": "display_data"
    },
    {
     "data": {
      "text/html": [],
      "text/plain": [
       "<IPython.core.display.HTML object>"
      ]
     },
     "metadata": {
      "tags": []
     },
     "output_type": "display_data"
    },
    {
     "data": {
      "text/html": [],
      "text/plain": [
       "<IPython.core.display.HTML object>"
      ]
     },
     "metadata": {
      "tags": []
     },
     "output_type": "display_data"
    },
    {
     "data": {
      "text/html": [],
      "text/plain": [
       "<IPython.core.display.HTML object>"
      ]
     },
     "metadata": {
      "tags": []
     },
     "output_type": "display_data"
    },
    {
     "data": {
      "text/html": [],
      "text/plain": [
       "<IPython.core.display.HTML object>"
      ]
     },
     "metadata": {
      "tags": []
     },
     "output_type": "display_data"
    },
    {
     "data": {
      "text/html": [],
      "text/plain": [
       "<IPython.core.display.HTML object>"
      ]
     },
     "metadata": {
      "tags": []
     },
     "output_type": "display_data"
    },
    {
     "data": {
      "text/html": [],
      "text/plain": [
       "<IPython.core.display.HTML object>"
      ]
     },
     "metadata": {
      "tags": []
     },
     "output_type": "display_data"
    },
    {
     "data": {
      "text/html": [],
      "text/plain": [
       "<IPython.core.display.HTML object>"
      ]
     },
     "metadata": {
      "tags": []
     },
     "output_type": "display_data"
    },
    {
     "data": {
      "text/html": [],
      "text/plain": [
       "<IPython.core.display.HTML object>"
      ]
     },
     "metadata": {
      "tags": []
     },
     "output_type": "display_data"
    },
    {
     "data": {
      "text/html": [],
      "text/plain": [
       "<IPython.core.display.HTML object>"
      ]
     },
     "metadata": {
      "tags": []
     },
     "output_type": "display_data"
    },
    {
     "data": {
      "text/html": [],
      "text/plain": [
       "<IPython.core.display.HTML object>"
      ]
     },
     "metadata": {
      "tags": []
     },
     "output_type": "display_data"
    },
    {
     "data": {
      "text/html": [],
      "text/plain": [
       "<IPython.core.display.HTML object>"
      ]
     },
     "metadata": {
      "tags": []
     },
     "output_type": "display_data"
    },
    {
     "data": {
      "text/html": [],
      "text/plain": [
       "<IPython.core.display.HTML object>"
      ]
     },
     "metadata": {
      "tags": []
     },
     "output_type": "display_data"
    },
    {
     "data": {
      "text/html": [],
      "text/plain": [
       "<IPython.core.display.HTML object>"
      ]
     },
     "metadata": {
      "tags": []
     },
     "output_type": "display_data"
    },
    {
     "data": {
      "text/html": [],
      "text/plain": [
       "<IPython.core.display.HTML object>"
      ]
     },
     "metadata": {
      "tags": []
     },
     "output_type": "display_data"
    },
    {
     "data": {
      "text/html": [],
      "text/plain": [
       "<IPython.core.display.HTML object>"
      ]
     },
     "metadata": {
      "tags": []
     },
     "output_type": "display_data"
    },
    {
     "data": {
      "text/html": [],
      "text/plain": [
       "<IPython.core.display.HTML object>"
      ]
     },
     "metadata": {
      "tags": []
     },
     "output_type": "display_data"
    },
    {
     "data": {
      "text/html": [],
      "text/plain": [
       "<IPython.core.display.HTML object>"
      ]
     },
     "metadata": {
      "tags": []
     },
     "output_type": "display_data"
    },
    {
     "data": {
      "text/html": [],
      "text/plain": [
       "<IPython.core.display.HTML object>"
      ]
     },
     "metadata": {
      "tags": []
     },
     "output_type": "display_data"
    },
    {
     "data": {
      "text/html": [],
      "text/plain": [
       "<IPython.core.display.HTML object>"
      ]
     },
     "metadata": {
      "tags": []
     },
     "output_type": "display_data"
    },
    {
     "data": {
      "text/html": [],
      "text/plain": [
       "<IPython.core.display.HTML object>"
      ]
     },
     "metadata": {
      "tags": []
     },
     "output_type": "display_data"
    },
    {
     "data": {
      "text/html": [],
      "text/plain": [
       "<IPython.core.display.HTML object>"
      ]
     },
     "metadata": {
      "tags": []
     },
     "output_type": "display_data"
    },
    {
     "data": {
      "text/html": [],
      "text/plain": [
       "<IPython.core.display.HTML object>"
      ]
     },
     "metadata": {
      "tags": []
     },
     "output_type": "display_data"
    },
    {
     "data": {
      "text/html": [],
      "text/plain": [
       "<IPython.core.display.HTML object>"
      ]
     },
     "metadata": {
      "tags": []
     },
     "output_type": "display_data"
    },
    {
     "data": {
      "text/html": [],
      "text/plain": [
       "<IPython.core.display.HTML object>"
      ]
     },
     "metadata": {
      "tags": []
     },
     "output_type": "display_data"
    },
    {
     "data": {
      "text/html": [],
      "text/plain": [
       "<IPython.core.display.HTML object>"
      ]
     },
     "metadata": {
      "tags": []
     },
     "output_type": "display_data"
    },
    {
     "data": {
      "text/html": [],
      "text/plain": [
       "<IPython.core.display.HTML object>"
      ]
     },
     "metadata": {
      "tags": []
     },
     "output_type": "display_data"
    },
    {
     "data": {
      "text/html": [],
      "text/plain": [
       "<IPython.core.display.HTML object>"
      ]
     },
     "metadata": {
      "tags": []
     },
     "output_type": "display_data"
    },
    {
     "data": {
      "text/html": [],
      "text/plain": [
       "<IPython.core.display.HTML object>"
      ]
     },
     "metadata": {
      "tags": []
     },
     "output_type": "display_data"
    },
    {
     "data": {
      "text/html": [],
      "text/plain": [
       "<IPython.core.display.HTML object>"
      ]
     },
     "metadata": {
      "tags": []
     },
     "output_type": "display_data"
    },
    {
     "data": {
      "text/html": [],
      "text/plain": [
       "<IPython.core.display.HTML object>"
      ]
     },
     "metadata": {
      "tags": []
     },
     "output_type": "display_data"
    },
    {
     "data": {
      "text/html": [],
      "text/plain": [
       "<IPython.core.display.HTML object>"
      ]
     },
     "metadata": {
      "tags": []
     },
     "output_type": "display_data"
    },
    {
     "data": {
      "text/html": [],
      "text/plain": [
       "<IPython.core.display.HTML object>"
      ]
     },
     "metadata": {
      "tags": []
     },
     "output_type": "display_data"
    },
    {
     "data": {
      "text/html": [],
      "text/plain": [
       "<IPython.core.display.HTML object>"
      ]
     },
     "metadata": {
      "tags": []
     },
     "output_type": "display_data"
    },
    {
     "data": {
      "text/html": [],
      "text/plain": [
       "<IPython.core.display.HTML object>"
      ]
     },
     "metadata": {
      "tags": []
     },
     "output_type": "display_data"
    },
    {
     "data": {
      "text/html": [],
      "text/plain": [
       "<IPython.core.display.HTML object>"
      ]
     },
     "metadata": {
      "tags": []
     },
     "output_type": "display_data"
    },
    {
     "data": {
      "text/html": [],
      "text/plain": [
       "<IPython.core.display.HTML object>"
      ]
     },
     "metadata": {
      "tags": []
     },
     "output_type": "display_data"
    },
    {
     "data": {
      "text/html": [],
      "text/plain": [
       "<IPython.core.display.HTML object>"
      ]
     },
     "metadata": {
      "tags": []
     },
     "output_type": "display_data"
    },
    {
     "data": {
      "text/html": [],
      "text/plain": [
       "<IPython.core.display.HTML object>"
      ]
     },
     "metadata": {
      "tags": []
     },
     "output_type": "display_data"
    },
    {
     "data": {
      "text/html": [],
      "text/plain": [
       "<IPython.core.display.HTML object>"
      ]
     },
     "metadata": {
      "tags": []
     },
     "output_type": "display_data"
    },
    {
     "data": {
      "text/html": [],
      "text/plain": [
       "<IPython.core.display.HTML object>"
      ]
     },
     "metadata": {
      "tags": []
     },
     "output_type": "display_data"
    },
    {
     "data": {
      "text/html": [],
      "text/plain": [
       "<IPython.core.display.HTML object>"
      ]
     },
     "metadata": {
      "tags": []
     },
     "output_type": "display_data"
    },
    {
     "data": {
      "text/html": [],
      "text/plain": [
       "<IPython.core.display.HTML object>"
      ]
     },
     "metadata": {
      "tags": []
     },
     "output_type": "display_data"
    },
    {
     "data": {
      "text/html": [],
      "text/plain": [
       "<IPython.core.display.HTML object>"
      ]
     },
     "metadata": {
      "tags": []
     },
     "output_type": "display_data"
    },
    {
     "data": {
      "text/html": [],
      "text/plain": [
       "<IPython.core.display.HTML object>"
      ]
     },
     "metadata": {
      "tags": []
     },
     "output_type": "display_data"
    },
    {
     "data": {
      "text/html": [],
      "text/plain": [
       "<IPython.core.display.HTML object>"
      ]
     },
     "metadata": {
      "tags": []
     },
     "output_type": "display_data"
    },
    {
     "data": {
      "text/html": [],
      "text/plain": [
       "<IPython.core.display.HTML object>"
      ]
     },
     "metadata": {
      "tags": []
     },
     "output_type": "display_data"
    },
    {
     "data": {
      "text/html": [],
      "text/plain": [
       "<IPython.core.display.HTML object>"
      ]
     },
     "metadata": {
      "tags": []
     },
     "output_type": "display_data"
    },
    {
     "data": {
      "text/html": [],
      "text/plain": [
       "<IPython.core.display.HTML object>"
      ]
     },
     "metadata": {
      "tags": []
     },
     "output_type": "display_data"
    },
    {
     "data": {
      "text/html": [],
      "text/plain": [
       "<IPython.core.display.HTML object>"
      ]
     },
     "metadata": {
      "tags": []
     },
     "output_type": "display_data"
    },
    {
     "data": {
      "text/html": [],
      "text/plain": [
       "<IPython.core.display.HTML object>"
      ]
     },
     "metadata": {
      "tags": []
     },
     "output_type": "display_data"
    },
    {
     "data": {
      "text/html": [],
      "text/plain": [
       "<IPython.core.display.HTML object>"
      ]
     },
     "metadata": {
      "tags": []
     },
     "output_type": "display_data"
    },
    {
     "data": {
      "text/html": [],
      "text/plain": [
       "<IPython.core.display.HTML object>"
      ]
     },
     "metadata": {
      "tags": []
     },
     "output_type": "display_data"
    },
    {
     "data": {
      "text/html": [],
      "text/plain": [
       "<IPython.core.display.HTML object>"
      ]
     },
     "metadata": {
      "tags": []
     },
     "output_type": "display_data"
    },
    {
     "data": {
      "text/html": [],
      "text/plain": [
       "<IPython.core.display.HTML object>"
      ]
     },
     "metadata": {
      "tags": []
     },
     "output_type": "display_data"
    },
    {
     "data": {
      "text/html": [],
      "text/plain": [
       "<IPython.core.display.HTML object>"
      ]
     },
     "metadata": {
      "tags": []
     },
     "output_type": "display_data"
    },
    {
     "data": {
      "text/html": [],
      "text/plain": [
       "<IPython.core.display.HTML object>"
      ]
     },
     "metadata": {
      "tags": []
     },
     "output_type": "display_data"
    },
    {
     "data": {
      "text/html": [],
      "text/plain": [
       "<IPython.core.display.HTML object>"
      ]
     },
     "metadata": {
      "tags": []
     },
     "output_type": "display_data"
    },
    {
     "data": {
      "text/html": [],
      "text/plain": [
       "<IPython.core.display.HTML object>"
      ]
     },
     "metadata": {
      "tags": []
     },
     "output_type": "display_data"
    },
    {
     "data": {
      "text/html": [],
      "text/plain": [
       "<IPython.core.display.HTML object>"
      ]
     },
     "metadata": {
      "tags": []
     },
     "output_type": "display_data"
    },
    {
     "data": {
      "text/html": [],
      "text/plain": [
       "<IPython.core.display.HTML object>"
      ]
     },
     "metadata": {
      "tags": []
     },
     "output_type": "display_data"
    },
    {
     "data": {
      "text/html": [],
      "text/plain": [
       "<IPython.core.display.HTML object>"
      ]
     },
     "metadata": {
      "tags": []
     },
     "output_type": "display_data"
    },
    {
     "data": {
      "text/html": [],
      "text/plain": [
       "<IPython.core.display.HTML object>"
      ]
     },
     "metadata": {
      "tags": []
     },
     "output_type": "display_data"
    },
    {
     "data": {
      "text/html": [],
      "text/plain": [
       "<IPython.core.display.HTML object>"
      ]
     },
     "metadata": {
      "tags": []
     },
     "output_type": "display_data"
    },
    {
     "data": {
      "text/html": [],
      "text/plain": [
       "<IPython.core.display.HTML object>"
      ]
     },
     "metadata": {
      "tags": []
     },
     "output_type": "display_data"
    },
    {
     "data": {
      "text/html": [],
      "text/plain": [
       "<IPython.core.display.HTML object>"
      ]
     },
     "metadata": {
      "tags": []
     },
     "output_type": "display_data"
    },
    {
     "data": {
      "text/html": [],
      "text/plain": [
       "<IPython.core.display.HTML object>"
      ]
     },
     "metadata": {
      "tags": []
     },
     "output_type": "display_data"
    },
    {
     "data": {
      "text/html": [],
      "text/plain": [
       "<IPython.core.display.HTML object>"
      ]
     },
     "metadata": {
      "tags": []
     },
     "output_type": "display_data"
    },
    {
     "data": {
      "text/html": [],
      "text/plain": [
       "<IPython.core.display.HTML object>"
      ]
     },
     "metadata": {
      "tags": []
     },
     "output_type": "display_data"
    },
    {
     "data": {
      "text/html": [],
      "text/plain": [
       "<IPython.core.display.HTML object>"
      ]
     },
     "metadata": {
      "tags": []
     },
     "output_type": "display_data"
    },
    {
     "data": {
      "text/html": [],
      "text/plain": [
       "<IPython.core.display.HTML object>"
      ]
     },
     "metadata": {
      "tags": []
     },
     "output_type": "display_data"
    },
    {
     "data": {
      "text/html": [],
      "text/plain": [
       "<IPython.core.display.HTML object>"
      ]
     },
     "metadata": {
      "tags": []
     },
     "output_type": "display_data"
    },
    {
     "data": {
      "text/html": [],
      "text/plain": [
       "<IPython.core.display.HTML object>"
      ]
     },
     "metadata": {
      "tags": []
     },
     "output_type": "display_data"
    },
    {
     "data": {
      "text/html": [],
      "text/plain": [
       "<IPython.core.display.HTML object>"
      ]
     },
     "metadata": {
      "tags": []
     },
     "output_type": "display_data"
    },
    {
     "data": {
      "text/html": [],
      "text/plain": [
       "<IPython.core.display.HTML object>"
      ]
     },
     "metadata": {
      "tags": []
     },
     "output_type": "display_data"
    },
    {
     "data": {
      "text/html": [],
      "text/plain": [
       "<IPython.core.display.HTML object>"
      ]
     },
     "metadata": {
      "tags": []
     },
     "output_type": "display_data"
    },
    {
     "data": {
      "text/html": [],
      "text/plain": [
       "<IPython.core.display.HTML object>"
      ]
     },
     "metadata": {
      "tags": []
     },
     "output_type": "display_data"
    },
    {
     "data": {
      "text/html": [],
      "text/plain": [
       "<IPython.core.display.HTML object>"
      ]
     },
     "metadata": {
      "tags": []
     },
     "output_type": "display_data"
    },
    {
     "data": {
      "text/html": [],
      "text/plain": [
       "<IPython.core.display.HTML object>"
      ]
     },
     "metadata": {
      "tags": []
     },
     "output_type": "display_data"
    },
    {
     "data": {
      "text/html": [],
      "text/plain": [
       "<IPython.core.display.HTML object>"
      ]
     },
     "metadata": {
      "tags": []
     },
     "output_type": "display_data"
    },
    {
     "data": {
      "text/html": [],
      "text/plain": [
       "<IPython.core.display.HTML object>"
      ]
     },
     "metadata": {
      "tags": []
     },
     "output_type": "display_data"
    },
    {
     "data": {
      "text/html": [],
      "text/plain": [
       "<IPython.core.display.HTML object>"
      ]
     },
     "metadata": {
      "tags": []
     },
     "output_type": "display_data"
    },
    {
     "data": {
      "text/html": [],
      "text/plain": [
       "<IPython.core.display.HTML object>"
      ]
     },
     "metadata": {
      "tags": []
     },
     "output_type": "display_data"
    },
    {
     "data": {
      "text/html": [],
      "text/plain": [
       "<IPython.core.display.HTML object>"
      ]
     },
     "metadata": {
      "tags": []
     },
     "output_type": "display_data"
    },
    {
     "data": {
      "text/html": [],
      "text/plain": [
       "<IPython.core.display.HTML object>"
      ]
     },
     "metadata": {
      "tags": []
     },
     "output_type": "display_data"
    },
    {
     "data": {
      "text/html": [],
      "text/plain": [
       "<IPython.core.display.HTML object>"
      ]
     },
     "metadata": {
      "tags": []
     },
     "output_type": "display_data"
    },
    {
     "data": {
      "text/html": [],
      "text/plain": [
       "<IPython.core.display.HTML object>"
      ]
     },
     "metadata": {
      "tags": []
     },
     "output_type": "display_data"
    },
    {
     "data": {
      "text/html": [],
      "text/plain": [
       "<IPython.core.display.HTML object>"
      ]
     },
     "metadata": {
      "tags": []
     },
     "output_type": "display_data"
    },
    {
     "data": {
      "text/html": [],
      "text/plain": [
       "<IPython.core.display.HTML object>"
      ]
     },
     "metadata": {
      "tags": []
     },
     "output_type": "display_data"
    },
    {
     "data": {
      "text/html": [],
      "text/plain": [
       "<IPython.core.display.HTML object>"
      ]
     },
     "metadata": {
      "tags": []
     },
     "output_type": "display_data"
    },
    {
     "data": {
      "text/html": [],
      "text/plain": [
       "<IPython.core.display.HTML object>"
      ]
     },
     "metadata": {
      "tags": []
     },
     "output_type": "display_data"
    },
    {
     "data": {
      "text/html": [],
      "text/plain": [
       "<IPython.core.display.HTML object>"
      ]
     },
     "metadata": {
      "tags": []
     },
     "output_type": "display_data"
    },
    {
     "data": {
      "text/html": [],
      "text/plain": [
       "<IPython.core.display.HTML object>"
      ]
     },
     "metadata": {
      "tags": []
     },
     "output_type": "display_data"
    },
    {
     "data": {
      "text/html": [],
      "text/plain": [
       "<IPython.core.display.HTML object>"
      ]
     },
     "metadata": {
      "tags": []
     },
     "output_type": "display_data"
    },
    {
     "data": {
      "text/html": [],
      "text/plain": [
       "<IPython.core.display.HTML object>"
      ]
     },
     "metadata": {
      "tags": []
     },
     "output_type": "display_data"
    },
    {
     "data": {
      "text/html": [],
      "text/plain": [
       "<IPython.core.display.HTML object>"
      ]
     },
     "metadata": {
      "tags": []
     },
     "output_type": "display_data"
    },
    {
     "data": {
      "text/html": [],
      "text/plain": [
       "<IPython.core.display.HTML object>"
      ]
     },
     "metadata": {
      "tags": []
     },
     "output_type": "display_data"
    },
    {
     "data": {
      "text/html": [],
      "text/plain": [
       "<IPython.core.display.HTML object>"
      ]
     },
     "metadata": {
      "tags": []
     },
     "output_type": "display_data"
    },
    {
     "data": {
      "text/html": [],
      "text/plain": [
       "<IPython.core.display.HTML object>"
      ]
     },
     "metadata": {
      "tags": []
     },
     "output_type": "display_data"
    },
    {
     "data": {
      "text/html": [],
      "text/plain": [
       "<IPython.core.display.HTML object>"
      ]
     },
     "metadata": {
      "tags": []
     },
     "output_type": "display_data"
    },
    {
     "data": {
      "text/html": [],
      "text/plain": [
       "<IPython.core.display.HTML object>"
      ]
     },
     "metadata": {
      "tags": []
     },
     "output_type": "display_data"
    },
    {
     "data": {
      "text/html": [],
      "text/plain": [
       "<IPython.core.display.HTML object>"
      ]
     },
     "metadata": {
      "tags": []
     },
     "output_type": "display_data"
    },
    {
     "data": {
      "text/html": [],
      "text/plain": [
       "<IPython.core.display.HTML object>"
      ]
     },
     "metadata": {
      "tags": []
     },
     "output_type": "display_data"
    },
    {
     "data": {
      "text/html": [],
      "text/plain": [
       "<IPython.core.display.HTML object>"
      ]
     },
     "metadata": {
      "tags": []
     },
     "output_type": "display_data"
    },
    {
     "data": {
      "text/html": [],
      "text/plain": [
       "<IPython.core.display.HTML object>"
      ]
     },
     "metadata": {
      "tags": []
     },
     "output_type": "display_data"
    },
    {
     "data": {
      "text/html": [],
      "text/plain": [
       "<IPython.core.display.HTML object>"
      ]
     },
     "metadata": {
      "tags": []
     },
     "output_type": "display_data"
    },
    {
     "data": {
      "text/html": [],
      "text/plain": [
       "<IPython.core.display.HTML object>"
      ]
     },
     "metadata": {
      "tags": []
     },
     "output_type": "display_data"
    },
    {
     "data": {
      "text/html": [],
      "text/plain": [
       "<IPython.core.display.HTML object>"
      ]
     },
     "metadata": {
      "tags": []
     },
     "output_type": "display_data"
    },
    {
     "data": {
      "text/html": [],
      "text/plain": [
       "<IPython.core.display.HTML object>"
      ]
     },
     "metadata": {
      "tags": []
     },
     "output_type": "display_data"
    },
    {
     "data": {
      "text/html": [],
      "text/plain": [
       "<IPython.core.display.HTML object>"
      ]
     },
     "metadata": {
      "tags": []
     },
     "output_type": "display_data"
    },
    {
     "data": {
      "text/html": [],
      "text/plain": [
       "<IPython.core.display.HTML object>"
      ]
     },
     "metadata": {
      "tags": []
     },
     "output_type": "display_data"
    },
    {
     "data": {
      "text/html": [],
      "text/plain": [
       "<IPython.core.display.HTML object>"
      ]
     },
     "metadata": {
      "tags": []
     },
     "output_type": "display_data"
    },
    {
     "data": {
      "text/html": [],
      "text/plain": [
       "<IPython.core.display.HTML object>"
      ]
     },
     "metadata": {
      "tags": []
     },
     "output_type": "display_data"
    },
    {
     "data": {
      "text/html": [],
      "text/plain": [
       "<IPython.core.display.HTML object>"
      ]
     },
     "metadata": {
      "tags": []
     },
     "output_type": "display_data"
    },
    {
     "data": {
      "text/html": [],
      "text/plain": [
       "<IPython.core.display.HTML object>"
      ]
     },
     "metadata": {
      "tags": []
     },
     "output_type": "display_data"
    },
    {
     "data": {
      "text/html": [],
      "text/plain": [
       "<IPython.core.display.HTML object>"
      ]
     },
     "metadata": {
      "tags": []
     },
     "output_type": "display_data"
    },
    {
     "data": {
      "text/html": [],
      "text/plain": [
       "<IPython.core.display.HTML object>"
      ]
     },
     "metadata": {
      "tags": []
     },
     "output_type": "display_data"
    },
    {
     "data": {
      "text/html": [],
      "text/plain": [
       "<IPython.core.display.HTML object>"
      ]
     },
     "metadata": {
      "tags": []
     },
     "output_type": "display_data"
    },
    {
     "data": {
      "text/html": [],
      "text/plain": [
       "<IPython.core.display.HTML object>"
      ]
     },
     "metadata": {
      "tags": []
     },
     "output_type": "display_data"
    },
    {
     "data": {
      "text/html": [],
      "text/plain": [
       "<IPython.core.display.HTML object>"
      ]
     },
     "metadata": {
      "tags": []
     },
     "output_type": "display_data"
    },
    {
     "data": {
      "text/html": [],
      "text/plain": [
       "<IPython.core.display.HTML object>"
      ]
     },
     "metadata": {
      "tags": []
     },
     "output_type": "display_data"
    },
    {
     "data": {
      "text/html": [],
      "text/plain": [
       "<IPython.core.display.HTML object>"
      ]
     },
     "metadata": {
      "tags": []
     },
     "output_type": "display_data"
    },
    {
     "data": {
      "text/html": [],
      "text/plain": [
       "<IPython.core.display.HTML object>"
      ]
     },
     "metadata": {
      "tags": []
     },
     "output_type": "display_data"
    },
    {
     "data": {
      "text/html": [],
      "text/plain": [
       "<IPython.core.display.HTML object>"
      ]
     },
     "metadata": {
      "tags": []
     },
     "output_type": "display_data"
    },
    {
     "data": {
      "text/html": [],
      "text/plain": [
       "<IPython.core.display.HTML object>"
      ]
     },
     "metadata": {
      "tags": []
     },
     "output_type": "display_data"
    },
    {
     "data": {
      "text/html": [],
      "text/plain": [
       "<IPython.core.display.HTML object>"
      ]
     },
     "metadata": {
      "tags": []
     },
     "output_type": "display_data"
    },
    {
     "data": {
      "text/html": [],
      "text/plain": [
       "<IPython.core.display.HTML object>"
      ]
     },
     "metadata": {
      "tags": []
     },
     "output_type": "display_data"
    },
    {
     "data": {
      "text/html": [],
      "text/plain": [
       "<IPython.core.display.HTML object>"
      ]
     },
     "metadata": {
      "tags": []
     },
     "output_type": "display_data"
    },
    {
     "data": {
      "text/html": [],
      "text/plain": [
       "<IPython.core.display.HTML object>"
      ]
     },
     "metadata": {
      "tags": []
     },
     "output_type": "display_data"
    },
    {
     "data": {
      "text/html": [],
      "text/plain": [
       "<IPython.core.display.HTML object>"
      ]
     },
     "metadata": {
      "tags": []
     },
     "output_type": "display_data"
    },
    {
     "data": {
      "text/html": [],
      "text/plain": [
       "<IPython.core.display.HTML object>"
      ]
     },
     "metadata": {
      "tags": []
     },
     "output_type": "display_data"
    },
    {
     "data": {
      "text/html": [],
      "text/plain": [
       "<IPython.core.display.HTML object>"
      ]
     },
     "metadata": {
      "tags": []
     },
     "output_type": "display_data"
    },
    {
     "data": {
      "text/html": [],
      "text/plain": [
       "<IPython.core.display.HTML object>"
      ]
     },
     "metadata": {
      "tags": []
     },
     "output_type": "display_data"
    },
    {
     "data": {
      "text/html": [],
      "text/plain": [
       "<IPython.core.display.HTML object>"
      ]
     },
     "metadata": {
      "tags": []
     },
     "output_type": "display_data"
    },
    {
     "data": {
      "text/html": [],
      "text/plain": [
       "<IPython.core.display.HTML object>"
      ]
     },
     "metadata": {
      "tags": []
     },
     "output_type": "display_data"
    },
    {
     "data": {
      "text/html": [],
      "text/plain": [
       "<IPython.core.display.HTML object>"
      ]
     },
     "metadata": {
      "tags": []
     },
     "output_type": "display_data"
    },
    {
     "data": {
      "text/html": [],
      "text/plain": [
       "<IPython.core.display.HTML object>"
      ]
     },
     "metadata": {
      "tags": []
     },
     "output_type": "display_data"
    },
    {
     "data": {
      "text/html": [],
      "text/plain": [
       "<IPython.core.display.HTML object>"
      ]
     },
     "metadata": {
      "tags": []
     },
     "output_type": "display_data"
    },
    {
     "data": {
      "text/html": [],
      "text/plain": [
       "<IPython.core.display.HTML object>"
      ]
     },
     "metadata": {
      "tags": []
     },
     "output_type": "display_data"
    },
    {
     "data": {
      "text/html": [],
      "text/plain": [
       "<IPython.core.display.HTML object>"
      ]
     },
     "metadata": {
      "tags": []
     },
     "output_type": "display_data"
    },
    {
     "data": {
      "text/html": [],
      "text/plain": [
       "<IPython.core.display.HTML object>"
      ]
     },
     "metadata": {
      "tags": []
     },
     "output_type": "display_data"
    },
    {
     "data": {
      "text/html": [],
      "text/plain": [
       "<IPython.core.display.HTML object>"
      ]
     },
     "metadata": {
      "tags": []
     },
     "output_type": "display_data"
    },
    {
     "data": {
      "text/html": [],
      "text/plain": [
       "<IPython.core.display.HTML object>"
      ]
     },
     "metadata": {
      "tags": []
     },
     "output_type": "display_data"
    },
    {
     "data": {
      "text/html": [],
      "text/plain": [
       "<IPython.core.display.HTML object>"
      ]
     },
     "metadata": {
      "tags": []
     },
     "output_type": "display_data"
    },
    {
     "data": {
      "text/html": [],
      "text/plain": [
       "<IPython.core.display.HTML object>"
      ]
     },
     "metadata": {
      "tags": []
     },
     "output_type": "display_data"
    },
    {
     "data": {
      "text/html": [],
      "text/plain": [
       "<IPython.core.display.HTML object>"
      ]
     },
     "metadata": {
      "tags": []
     },
     "output_type": "display_data"
    },
    {
     "data": {
      "text/html": [],
      "text/plain": [
       "<IPython.core.display.HTML object>"
      ]
     },
     "metadata": {
      "tags": []
     },
     "output_type": "display_data"
    },
    {
     "data": {
      "text/html": [],
      "text/plain": [
       "<IPython.core.display.HTML object>"
      ]
     },
     "metadata": {
      "tags": []
     },
     "output_type": "display_data"
    },
    {
     "data": {
      "text/html": [],
      "text/plain": [
       "<IPython.core.display.HTML object>"
      ]
     },
     "metadata": {
      "tags": []
     },
     "output_type": "display_data"
    },
    {
     "data": {
      "text/html": [],
      "text/plain": [
       "<IPython.core.display.HTML object>"
      ]
     },
     "metadata": {
      "tags": []
     },
     "output_type": "display_data"
    },
    {
     "data": {
      "text/html": [],
      "text/plain": [
       "<IPython.core.display.HTML object>"
      ]
     },
     "metadata": {
      "tags": []
     },
     "output_type": "display_data"
    },
    {
     "data": {
      "text/html": [],
      "text/plain": [
       "<IPython.core.display.HTML object>"
      ]
     },
     "metadata": {
      "tags": []
     },
     "output_type": "display_data"
    },
    {
     "data": {
      "text/html": [],
      "text/plain": [
       "<IPython.core.display.HTML object>"
      ]
     },
     "metadata": {
      "tags": []
     },
     "output_type": "display_data"
    },
    {
     "data": {
      "text/html": [],
      "text/plain": [
       "<IPython.core.display.HTML object>"
      ]
     },
     "metadata": {
      "tags": []
     },
     "output_type": "display_data"
    },
    {
     "data": {
      "text/html": [],
      "text/plain": [
       "<IPython.core.display.HTML object>"
      ]
     },
     "metadata": {
      "tags": []
     },
     "output_type": "display_data"
    },
    {
     "data": {
      "text/html": [],
      "text/plain": [
       "<IPython.core.display.HTML object>"
      ]
     },
     "metadata": {
      "tags": []
     },
     "output_type": "display_data"
    },
    {
     "data": {
      "text/html": [],
      "text/plain": [
       "<IPython.core.display.HTML object>"
      ]
     },
     "metadata": {
      "tags": []
     },
     "output_type": "display_data"
    },
    {
     "data": {
      "text/html": [],
      "text/plain": [
       "<IPython.core.display.HTML object>"
      ]
     },
     "metadata": {
      "tags": []
     },
     "output_type": "display_data"
    },
    {
     "data": {
      "text/html": [],
      "text/plain": [
       "<IPython.core.display.HTML object>"
      ]
     },
     "metadata": {
      "tags": []
     },
     "output_type": "display_data"
    },
    {
     "data": {
      "text/html": [],
      "text/plain": [
       "<IPython.core.display.HTML object>"
      ]
     },
     "metadata": {
      "tags": []
     },
     "output_type": "display_data"
    },
    {
     "data": {
      "text/html": [],
      "text/plain": [
       "<IPython.core.display.HTML object>"
      ]
     },
     "metadata": {
      "tags": []
     },
     "output_type": "display_data"
    },
    {
     "data": {
      "text/html": [],
      "text/plain": [
       "<IPython.core.display.HTML object>"
      ]
     },
     "metadata": {
      "tags": []
     },
     "output_type": "display_data"
    },
    {
     "data": {
      "text/html": [],
      "text/plain": [
       "<IPython.core.display.HTML object>"
      ]
     },
     "metadata": {
      "tags": []
     },
     "output_type": "display_data"
    },
    {
     "data": {
      "text/html": [],
      "text/plain": [
       "<IPython.core.display.HTML object>"
      ]
     },
     "metadata": {
      "tags": []
     },
     "output_type": "display_data"
    },
    {
     "data": {
      "text/html": [],
      "text/plain": [
       "<IPython.core.display.HTML object>"
      ]
     },
     "metadata": {
      "tags": []
     },
     "output_type": "display_data"
    },
    {
     "data": {
      "text/html": [],
      "text/plain": [
       "<IPython.core.display.HTML object>"
      ]
     },
     "metadata": {
      "tags": []
     },
     "output_type": "display_data"
    },
    {
     "data": {
      "text/html": [],
      "text/plain": [
       "<IPython.core.display.HTML object>"
      ]
     },
     "metadata": {
      "tags": []
     },
     "output_type": "display_data"
    },
    {
     "data": {
      "text/html": [],
      "text/plain": [
       "<IPython.core.display.HTML object>"
      ]
     },
     "metadata": {
      "tags": []
     },
     "output_type": "display_data"
    },
    {
     "data": {
      "text/html": [],
      "text/plain": [
       "<IPython.core.display.HTML object>"
      ]
     },
     "metadata": {
      "tags": []
     },
     "output_type": "display_data"
    },
    {
     "data": {
      "text/html": [],
      "text/plain": [
       "<IPython.core.display.HTML object>"
      ]
     },
     "metadata": {
      "tags": []
     },
     "output_type": "display_data"
    },
    {
     "data": {
      "text/html": [],
      "text/plain": [
       "<IPython.core.display.HTML object>"
      ]
     },
     "metadata": {
      "tags": []
     },
     "output_type": "display_data"
    },
    {
     "data": {
      "text/html": [],
      "text/plain": [
       "<IPython.core.display.HTML object>"
      ]
     },
     "metadata": {
      "tags": []
     },
     "output_type": "display_data"
    },
    {
     "data": {
      "text/html": [],
      "text/plain": [
       "<IPython.core.display.HTML object>"
      ]
     },
     "metadata": {
      "tags": []
     },
     "output_type": "display_data"
    },
    {
     "data": {
      "text/html": [],
      "text/plain": [
       "<IPython.core.display.HTML object>"
      ]
     },
     "metadata": {
      "tags": []
     },
     "output_type": "display_data"
    },
    {
     "data": {
      "text/html": [],
      "text/plain": [
       "<IPython.core.display.HTML object>"
      ]
     },
     "metadata": {
      "tags": []
     },
     "output_type": "display_data"
    },
    {
     "data": {
      "text/html": [],
      "text/plain": [
       "<IPython.core.display.HTML object>"
      ]
     },
     "metadata": {
      "tags": []
     },
     "output_type": "display_data"
    },
    {
     "data": {
      "text/html": [],
      "text/plain": [
       "<IPython.core.display.HTML object>"
      ]
     },
     "metadata": {
      "tags": []
     },
     "output_type": "display_data"
    },
    {
     "data": {
      "text/html": [],
      "text/plain": [
       "<IPython.core.display.HTML object>"
      ]
     },
     "metadata": {
      "tags": []
     },
     "output_type": "display_data"
    },
    {
     "data": {
      "text/html": [],
      "text/plain": [
       "<IPython.core.display.HTML object>"
      ]
     },
     "metadata": {
      "tags": []
     },
     "output_type": "display_data"
    },
    {
     "data": {
      "text/html": [],
      "text/plain": [
       "<IPython.core.display.HTML object>"
      ]
     },
     "metadata": {
      "tags": []
     },
     "output_type": "display_data"
    },
    {
     "data": {
      "text/html": [],
      "text/plain": [
       "<IPython.core.display.HTML object>"
      ]
     },
     "metadata": {
      "tags": []
     },
     "output_type": "display_data"
    },
    {
     "data": {
      "text/html": [],
      "text/plain": [
       "<IPython.core.display.HTML object>"
      ]
     },
     "metadata": {
      "tags": []
     },
     "output_type": "display_data"
    },
    {
     "data": {
      "text/html": [],
      "text/plain": [
       "<IPython.core.display.HTML object>"
      ]
     },
     "metadata": {
      "tags": []
     },
     "output_type": "display_data"
    },
    {
     "data": {
      "text/html": [],
      "text/plain": [
       "<IPython.core.display.HTML object>"
      ]
     },
     "metadata": {
      "tags": []
     },
     "output_type": "display_data"
    },
    {
     "data": {
      "text/html": [],
      "text/plain": [
       "<IPython.core.display.HTML object>"
      ]
     },
     "metadata": {
      "tags": []
     },
     "output_type": "display_data"
    },
    {
     "data": {
      "text/html": [],
      "text/plain": [
       "<IPython.core.display.HTML object>"
      ]
     },
     "metadata": {
      "tags": []
     },
     "output_type": "display_data"
    },
    {
     "data": {
      "text/html": [],
      "text/plain": [
       "<IPython.core.display.HTML object>"
      ]
     },
     "metadata": {
      "tags": []
     },
     "output_type": "display_data"
    },
    {
     "data": {
      "text/html": [],
      "text/plain": [
       "<IPython.core.display.HTML object>"
      ]
     },
     "metadata": {
      "tags": []
     },
     "output_type": "display_data"
    },
    {
     "data": {
      "text/html": [],
      "text/plain": [
       "<IPython.core.display.HTML object>"
      ]
     },
     "metadata": {
      "tags": []
     },
     "output_type": "display_data"
    },
    {
     "data": {
      "text/html": [],
      "text/plain": [
       "<IPython.core.display.HTML object>"
      ]
     },
     "metadata": {
      "tags": []
     },
     "output_type": "display_data"
    },
    {
     "data": {
      "text/html": [],
      "text/plain": [
       "<IPython.core.display.HTML object>"
      ]
     },
     "metadata": {
      "tags": []
     },
     "output_type": "display_data"
    },
    {
     "data": {
      "text/html": [],
      "text/plain": [
       "<IPython.core.display.HTML object>"
      ]
     },
     "metadata": {
      "tags": []
     },
     "output_type": "display_data"
    },
    {
     "data": {
      "text/html": [],
      "text/plain": [
       "<IPython.core.display.HTML object>"
      ]
     },
     "metadata": {
      "tags": []
     },
     "output_type": "display_data"
    },
    {
     "data": {
      "text/html": [],
      "text/plain": [
       "<IPython.core.display.HTML object>"
      ]
     },
     "metadata": {
      "tags": []
     },
     "output_type": "display_data"
    },
    {
     "data": {
      "text/html": [],
      "text/plain": [
       "<IPython.core.display.HTML object>"
      ]
     },
     "metadata": {
      "tags": []
     },
     "output_type": "display_data"
    },
    {
     "data": {
      "text/html": [],
      "text/plain": [
       "<IPython.core.display.HTML object>"
      ]
     },
     "metadata": {
      "tags": []
     },
     "output_type": "display_data"
    },
    {
     "data": {
      "text/html": [],
      "text/plain": [
       "<IPython.core.display.HTML object>"
      ]
     },
     "metadata": {
      "tags": []
     },
     "output_type": "display_data"
    },
    {
     "data": {
      "text/html": [],
      "text/plain": [
       "<IPython.core.display.HTML object>"
      ]
     },
     "metadata": {
      "tags": []
     },
     "output_type": "display_data"
    },
    {
     "data": {
      "text/html": [],
      "text/plain": [
       "<IPython.core.display.HTML object>"
      ]
     },
     "metadata": {
      "tags": []
     },
     "output_type": "display_data"
    },
    {
     "data": {
      "text/html": [],
      "text/plain": [
       "<IPython.core.display.HTML object>"
      ]
     },
     "metadata": {
      "tags": []
     },
     "output_type": "display_data"
    },
    {
     "data": {
      "text/html": [],
      "text/plain": [
       "<IPython.core.display.HTML object>"
      ]
     },
     "metadata": {
      "tags": []
     },
     "output_type": "display_data"
    },
    {
     "data": {
      "text/html": [],
      "text/plain": [
       "<IPython.core.display.HTML object>"
      ]
     },
     "metadata": {
      "tags": []
     },
     "output_type": "display_data"
    },
    {
     "data": {
      "text/html": [],
      "text/plain": [
       "<IPython.core.display.HTML object>"
      ]
     },
     "metadata": {
      "tags": []
     },
     "output_type": "display_data"
    },
    {
     "data": {
      "text/html": [],
      "text/plain": [
       "<IPython.core.display.HTML object>"
      ]
     },
     "metadata": {
      "tags": []
     },
     "output_type": "display_data"
    },
    {
     "data": {
      "text/html": [],
      "text/plain": [
       "<IPython.core.display.HTML object>"
      ]
     },
     "metadata": {
      "tags": []
     },
     "output_type": "display_data"
    },
    {
     "data": {
      "text/html": [],
      "text/plain": [
       "<IPython.core.display.HTML object>"
      ]
     },
     "metadata": {
      "tags": []
     },
     "output_type": "display_data"
    },
    {
     "data": {
      "text/html": [],
      "text/plain": [
       "<IPython.core.display.HTML object>"
      ]
     },
     "metadata": {
      "tags": []
     },
     "output_type": "display_data"
    },
    {
     "data": {
      "text/html": [],
      "text/plain": [
       "<IPython.core.display.HTML object>"
      ]
     },
     "metadata": {
      "tags": []
     },
     "output_type": "display_data"
    },
    {
     "data": {
      "text/html": [],
      "text/plain": [
       "<IPython.core.display.HTML object>"
      ]
     },
     "metadata": {
      "tags": []
     },
     "output_type": "display_data"
    },
    {
     "data": {
      "text/html": [],
      "text/plain": [
       "<IPython.core.display.HTML object>"
      ]
     },
     "metadata": {
      "tags": []
     },
     "output_type": "display_data"
    },
    {
     "data": {
      "text/html": [],
      "text/plain": [
       "<IPython.core.display.HTML object>"
      ]
     },
     "metadata": {
      "tags": []
     },
     "output_type": "display_data"
    },
    {
     "data": {
      "text/html": [],
      "text/plain": [
       "<IPython.core.display.HTML object>"
      ]
     },
     "metadata": {
      "tags": []
     },
     "output_type": "display_data"
    },
    {
     "data": {
      "text/html": [],
      "text/plain": [
       "<IPython.core.display.HTML object>"
      ]
     },
     "metadata": {
      "tags": []
     },
     "output_type": "display_data"
    },
    {
     "data": {
      "text/html": [],
      "text/plain": [
       "<IPython.core.display.HTML object>"
      ]
     },
     "metadata": {
      "tags": []
     },
     "output_type": "display_data"
    },
    {
     "data": {
      "text/html": [],
      "text/plain": [
       "<IPython.core.display.HTML object>"
      ]
     },
     "metadata": {
      "tags": []
     },
     "output_type": "display_data"
    },
    {
     "data": {
      "text/html": [],
      "text/plain": [
       "<IPython.core.display.HTML object>"
      ]
     },
     "metadata": {
      "tags": []
     },
     "output_type": "display_data"
    },
    {
     "data": {
      "text/html": [],
      "text/plain": [
       "<IPython.core.display.HTML object>"
      ]
     },
     "metadata": {
      "tags": []
     },
     "output_type": "display_data"
    },
    {
     "data": {
      "text/html": [],
      "text/plain": [
       "<IPython.core.display.HTML object>"
      ]
     },
     "metadata": {
      "tags": []
     },
     "output_type": "display_data"
    },
    {
     "data": {
      "text/html": [],
      "text/plain": [
       "<IPython.core.display.HTML object>"
      ]
     },
     "metadata": {
      "tags": []
     },
     "output_type": "display_data"
    },
    {
     "data": {
      "text/html": [],
      "text/plain": [
       "<IPython.core.display.HTML object>"
      ]
     },
     "metadata": {
      "tags": []
     },
     "output_type": "display_data"
    },
    {
     "data": {
      "text/html": [],
      "text/plain": [
       "<IPython.core.display.HTML object>"
      ]
     },
     "metadata": {
      "tags": []
     },
     "output_type": "display_data"
    },
    {
     "data": {
      "text/html": [],
      "text/plain": [
       "<IPython.core.display.HTML object>"
      ]
     },
     "metadata": {
      "tags": []
     },
     "output_type": "display_data"
    },
    {
     "data": {
      "text/html": [],
      "text/plain": [
       "<IPython.core.display.HTML object>"
      ]
     },
     "metadata": {
      "tags": []
     },
     "output_type": "display_data"
    },
    {
     "data": {
      "text/html": [],
      "text/plain": [
       "<IPython.core.display.HTML object>"
      ]
     },
     "metadata": {
      "tags": []
     },
     "output_type": "display_data"
    },
    {
     "data": {
      "text/html": [],
      "text/plain": [
       "<IPython.core.display.HTML object>"
      ]
     },
     "metadata": {
      "tags": []
     },
     "output_type": "display_data"
    },
    {
     "data": {
      "text/html": [],
      "text/plain": [
       "<IPython.core.display.HTML object>"
      ]
     },
     "metadata": {
      "tags": []
     },
     "output_type": "display_data"
    },
    {
     "data": {
      "text/html": [],
      "text/plain": [
       "<IPython.core.display.HTML object>"
      ]
     },
     "metadata": {
      "tags": []
     },
     "output_type": "display_data"
    },
    {
     "data": {
      "text/html": [],
      "text/plain": [
       "<IPython.core.display.HTML object>"
      ]
     },
     "metadata": {
      "tags": []
     },
     "output_type": "display_data"
    },
    {
     "data": {
      "text/html": [],
      "text/plain": [
       "<IPython.core.display.HTML object>"
      ]
     },
     "metadata": {
      "tags": []
     },
     "output_type": "display_data"
    },
    {
     "data": {
      "text/html": [],
      "text/plain": [
       "<IPython.core.display.HTML object>"
      ]
     },
     "metadata": {
      "tags": []
     },
     "output_type": "display_data"
    },
    {
     "data": {
      "text/html": [],
      "text/plain": [
       "<IPython.core.display.HTML object>"
      ]
     },
     "metadata": {
      "tags": []
     },
     "output_type": "display_data"
    },
    {
     "data": {
      "text/html": [],
      "text/plain": [
       "<IPython.core.display.HTML object>"
      ]
     },
     "metadata": {
      "tags": []
     },
     "output_type": "display_data"
    },
    {
     "data": {
      "text/html": [],
      "text/plain": [
       "<IPython.core.display.HTML object>"
      ]
     },
     "metadata": {
      "tags": []
     },
     "output_type": "display_data"
    },
    {
     "data": {
      "text/html": [],
      "text/plain": [
       "<IPython.core.display.HTML object>"
      ]
     },
     "metadata": {
      "tags": []
     },
     "output_type": "display_data"
    },
    {
     "data": {
      "text/html": [],
      "text/plain": [
       "<IPython.core.display.HTML object>"
      ]
     },
     "metadata": {
      "tags": []
     },
     "output_type": "display_data"
    },
    {
     "data": {
      "text/html": [],
      "text/plain": [
       "<IPython.core.display.HTML object>"
      ]
     },
     "metadata": {
      "tags": []
     },
     "output_type": "display_data"
    },
    {
     "data": {
      "text/html": [],
      "text/plain": [
       "<IPython.core.display.HTML object>"
      ]
     },
     "metadata": {
      "tags": []
     },
     "output_type": "display_data"
    },
    {
     "data": {
      "text/html": [],
      "text/plain": [
       "<IPython.core.display.HTML object>"
      ]
     },
     "metadata": {
      "tags": []
     },
     "output_type": "display_data"
    },
    {
     "data": {
      "text/html": [],
      "text/plain": [
       "<IPython.core.display.HTML object>"
      ]
     },
     "metadata": {
      "tags": []
     },
     "output_type": "display_data"
    },
    {
     "data": {
      "text/html": [],
      "text/plain": [
       "<IPython.core.display.HTML object>"
      ]
     },
     "metadata": {
      "tags": []
     },
     "output_type": "display_data"
    },
    {
     "data": {
      "text/html": [],
      "text/plain": [
       "<IPython.core.display.HTML object>"
      ]
     },
     "metadata": {
      "tags": []
     },
     "output_type": "display_data"
    },
    {
     "data": {
      "text/html": [],
      "text/plain": [
       "<IPython.core.display.HTML object>"
      ]
     },
     "metadata": {
      "tags": []
     },
     "output_type": "display_data"
    },
    {
     "data": {
      "text/html": [],
      "text/plain": [
       "<IPython.core.display.HTML object>"
      ]
     },
     "metadata": {
      "tags": []
     },
     "output_type": "display_data"
    },
    {
     "data": {
      "text/html": [],
      "text/plain": [
       "<IPython.core.display.HTML object>"
      ]
     },
     "metadata": {
      "tags": []
     },
     "output_type": "display_data"
    },
    {
     "data": {
      "text/html": [],
      "text/plain": [
       "<IPython.core.display.HTML object>"
      ]
     },
     "metadata": {
      "tags": []
     },
     "output_type": "display_data"
    },
    {
     "data": {
      "text/html": [],
      "text/plain": [
       "<IPython.core.display.HTML object>"
      ]
     },
     "metadata": {
      "tags": []
     },
     "output_type": "display_data"
    },
    {
     "data": {
      "text/html": [],
      "text/plain": [
       "<IPython.core.display.HTML object>"
      ]
     },
     "metadata": {
      "tags": []
     },
     "output_type": "display_data"
    },
    {
     "data": {
      "text/html": [],
      "text/plain": [
       "<IPython.core.display.HTML object>"
      ]
     },
     "metadata": {
      "tags": []
     },
     "output_type": "display_data"
    },
    {
     "data": {
      "text/html": [],
      "text/plain": [
       "<IPython.core.display.HTML object>"
      ]
     },
     "metadata": {
      "tags": []
     },
     "output_type": "display_data"
    },
    {
     "data": {
      "text/html": [],
      "text/plain": [
       "<IPython.core.display.HTML object>"
      ]
     },
     "metadata": {
      "tags": []
     },
     "output_type": "display_data"
    },
    {
     "data": {
      "text/html": [],
      "text/plain": [
       "<IPython.core.display.HTML object>"
      ]
     },
     "metadata": {
      "tags": []
     },
     "output_type": "display_data"
    },
    {
     "data": {
      "text/html": [],
      "text/plain": [
       "<IPython.core.display.HTML object>"
      ]
     },
     "metadata": {
      "tags": []
     },
     "output_type": "display_data"
    },
    {
     "data": {
      "text/html": [],
      "text/plain": [
       "<IPython.core.display.HTML object>"
      ]
     },
     "metadata": {
      "tags": []
     },
     "output_type": "display_data"
    },
    {
     "data": {
      "text/html": [],
      "text/plain": [
       "<IPython.core.display.HTML object>"
      ]
     },
     "metadata": {
      "tags": []
     },
     "output_type": "display_data"
    },
    {
     "data": {
      "text/html": [],
      "text/plain": [
       "<IPython.core.display.HTML object>"
      ]
     },
     "metadata": {
      "tags": []
     },
     "output_type": "display_data"
    },
    {
     "data": {
      "text/html": [],
      "text/plain": [
       "<IPython.core.display.HTML object>"
      ]
     },
     "metadata": {
      "tags": []
     },
     "output_type": "display_data"
    },
    {
     "data": {
      "text/html": [],
      "text/plain": [
       "<IPython.core.display.HTML object>"
      ]
     },
     "metadata": {
      "tags": []
     },
     "output_type": "display_data"
    },
    {
     "data": {
      "text/html": [],
      "text/plain": [
       "<IPython.core.display.HTML object>"
      ]
     },
     "metadata": {
      "tags": []
     },
     "output_type": "display_data"
    },
    {
     "data": {
      "text/html": [],
      "text/plain": [
       "<IPython.core.display.HTML object>"
      ]
     },
     "metadata": {
      "tags": []
     },
     "output_type": "display_data"
    },
    {
     "data": {
      "text/html": [],
      "text/plain": [
       "<IPython.core.display.HTML object>"
      ]
     },
     "metadata": {
      "tags": []
     },
     "output_type": "display_data"
    },
    {
     "data": {
      "text/html": [],
      "text/plain": [
       "<IPython.core.display.HTML object>"
      ]
     },
     "metadata": {
      "tags": []
     },
     "output_type": "display_data"
    },
    {
     "data": {
      "text/html": [],
      "text/plain": [
       "<IPython.core.display.HTML object>"
      ]
     },
     "metadata": {
      "tags": []
     },
     "output_type": "display_data"
    },
    {
     "data": {
      "text/html": [],
      "text/plain": [
       "<IPython.core.display.HTML object>"
      ]
     },
     "metadata": {
      "tags": []
     },
     "output_type": "display_data"
    },
    {
     "data": {
      "text/html": [],
      "text/plain": [
       "<IPython.core.display.HTML object>"
      ]
     },
     "metadata": {
      "tags": []
     },
     "output_type": "display_data"
    },
    {
     "data": {
      "text/html": [],
      "text/plain": [
       "<IPython.core.display.HTML object>"
      ]
     },
     "metadata": {
      "tags": []
     },
     "output_type": "display_data"
    },
    {
     "data": {
      "text/html": [],
      "text/plain": [
       "<IPython.core.display.HTML object>"
      ]
     },
     "metadata": {
      "tags": []
     },
     "output_type": "display_data"
    },
    {
     "data": {
      "text/html": [],
      "text/plain": [
       "<IPython.core.display.HTML object>"
      ]
     },
     "metadata": {
      "tags": []
     },
     "output_type": "display_data"
    },
    {
     "data": {
      "text/html": [],
      "text/plain": [
       "<IPython.core.display.HTML object>"
      ]
     },
     "metadata": {
      "tags": []
     },
     "output_type": "display_data"
    },
    {
     "data": {
      "text/html": [],
      "text/plain": [
       "<IPython.core.display.HTML object>"
      ]
     },
     "metadata": {
      "tags": []
     },
     "output_type": "display_data"
    },
    {
     "data": {
      "text/html": [],
      "text/plain": [
       "<IPython.core.display.HTML object>"
      ]
     },
     "metadata": {
      "tags": []
     },
     "output_type": "display_data"
    },
    {
     "data": {
      "text/html": [],
      "text/plain": [
       "<IPython.core.display.HTML object>"
      ]
     },
     "metadata": {
      "tags": []
     },
     "output_type": "display_data"
    },
    {
     "data": {
      "text/html": [],
      "text/plain": [
       "<IPython.core.display.HTML object>"
      ]
     },
     "metadata": {
      "tags": []
     },
     "output_type": "display_data"
    },
    {
     "data": {
      "text/html": [],
      "text/plain": [
       "<IPython.core.display.HTML object>"
      ]
     },
     "metadata": {
      "tags": []
     },
     "output_type": "display_data"
    },
    {
     "data": {
      "text/html": [],
      "text/plain": [
       "<IPython.core.display.HTML object>"
      ]
     },
     "metadata": {
      "tags": []
     },
     "output_type": "display_data"
    },
    {
     "data": {
      "text/html": [],
      "text/plain": [
       "<IPython.core.display.HTML object>"
      ]
     },
     "metadata": {
      "tags": []
     },
     "output_type": "display_data"
    },
    {
     "data": {
      "text/html": [],
      "text/plain": [
       "<IPython.core.display.HTML object>"
      ]
     },
     "metadata": {
      "tags": []
     },
     "output_type": "display_data"
    },
    {
     "data": {
      "text/html": [],
      "text/plain": [
       "<IPython.core.display.HTML object>"
      ]
     },
     "metadata": {
      "tags": []
     },
     "output_type": "display_data"
    },
    {
     "data": {
      "text/html": [],
      "text/plain": [
       "<IPython.core.display.HTML object>"
      ]
     },
     "metadata": {
      "tags": []
     },
     "output_type": "display_data"
    },
    {
     "data": {
      "text/html": [],
      "text/plain": [
       "<IPython.core.display.HTML object>"
      ]
     },
     "metadata": {
      "tags": []
     },
     "output_type": "display_data"
    },
    {
     "data": {
      "text/html": [],
      "text/plain": [
       "<IPython.core.display.HTML object>"
      ]
     },
     "metadata": {
      "tags": []
     },
     "output_type": "display_data"
    },
    {
     "data": {
      "text/html": [],
      "text/plain": [
       "<IPython.core.display.HTML object>"
      ]
     },
     "metadata": {
      "tags": []
     },
     "output_type": "display_data"
    },
    {
     "data": {
      "text/html": [],
      "text/plain": [
       "<IPython.core.display.HTML object>"
      ]
     },
     "metadata": {
      "tags": []
     },
     "output_type": "display_data"
    },
    {
     "data": {
      "text/html": [],
      "text/plain": [
       "<IPython.core.display.HTML object>"
      ]
     },
     "metadata": {
      "tags": []
     },
     "output_type": "display_data"
    },
    {
     "data": {
      "text/html": [],
      "text/plain": [
       "<IPython.core.display.HTML object>"
      ]
     },
     "metadata": {
      "tags": []
     },
     "output_type": "display_data"
    },
    {
     "data": {
      "text/html": [],
      "text/plain": [
       "<IPython.core.display.HTML object>"
      ]
     },
     "metadata": {
      "tags": []
     },
     "output_type": "display_data"
    },
    {
     "data": {
      "text/html": [],
      "text/plain": [
       "<IPython.core.display.HTML object>"
      ]
     },
     "metadata": {
      "tags": []
     },
     "output_type": "display_data"
    },
    {
     "data": {
      "text/html": [],
      "text/plain": [
       "<IPython.core.display.HTML object>"
      ]
     },
     "metadata": {
      "tags": []
     },
     "output_type": "display_data"
    },
    {
     "data": {
      "text/html": [],
      "text/plain": [
       "<IPython.core.display.HTML object>"
      ]
     },
     "metadata": {
      "tags": []
     },
     "output_type": "display_data"
    },
    {
     "data": {
      "text/html": [],
      "text/plain": [
       "<IPython.core.display.HTML object>"
      ]
     },
     "metadata": {
      "tags": []
     },
     "output_type": "display_data"
    },
    {
     "data": {
      "text/html": [],
      "text/plain": [
       "<IPython.core.display.HTML object>"
      ]
     },
     "metadata": {
      "tags": []
     },
     "output_type": "display_data"
    },
    {
     "data": {
      "text/html": [],
      "text/plain": [
       "<IPython.core.display.HTML object>"
      ]
     },
     "metadata": {
      "tags": []
     },
     "output_type": "display_data"
    },
    {
     "data": {
      "text/html": [],
      "text/plain": [
       "<IPython.core.display.HTML object>"
      ]
     },
     "metadata": {
      "tags": []
     },
     "output_type": "display_data"
    },
    {
     "data": {
      "text/html": [],
      "text/plain": [
       "<IPython.core.display.HTML object>"
      ]
     },
     "metadata": {
      "tags": []
     },
     "output_type": "display_data"
    },
    {
     "data": {
      "text/html": [],
      "text/plain": [
       "<IPython.core.display.HTML object>"
      ]
     },
     "metadata": {
      "tags": []
     },
     "output_type": "display_data"
    },
    {
     "data": {
      "text/html": [],
      "text/plain": [
       "<IPython.core.display.HTML object>"
      ]
     },
     "metadata": {
      "tags": []
     },
     "output_type": "display_data"
    },
    {
     "data": {
      "text/html": [],
      "text/plain": [
       "<IPython.core.display.HTML object>"
      ]
     },
     "metadata": {
      "tags": []
     },
     "output_type": "display_data"
    },
    {
     "data": {
      "text/html": [],
      "text/plain": [
       "<IPython.core.display.HTML object>"
      ]
     },
     "metadata": {
      "tags": []
     },
     "output_type": "display_data"
    },
    {
     "data": {
      "text/html": [],
      "text/plain": [
       "<IPython.core.display.HTML object>"
      ]
     },
     "metadata": {
      "tags": []
     },
     "output_type": "display_data"
    },
    {
     "data": {
      "text/html": [],
      "text/plain": [
       "<IPython.core.display.HTML object>"
      ]
     },
     "metadata": {
      "tags": []
     },
     "output_type": "display_data"
    },
    {
     "data": {
      "text/html": [],
      "text/plain": [
       "<IPython.core.display.HTML object>"
      ]
     },
     "metadata": {
      "tags": []
     },
     "output_type": "display_data"
    },
    {
     "data": {
      "text/html": [],
      "text/plain": [
       "<IPython.core.display.HTML object>"
      ]
     },
     "metadata": {
      "tags": []
     },
     "output_type": "display_data"
    },
    {
     "data": {
      "text/html": [],
      "text/plain": [
       "<IPython.core.display.HTML object>"
      ]
     },
     "metadata": {
      "tags": []
     },
     "output_type": "display_data"
    },
    {
     "data": {
      "text/html": [],
      "text/plain": [
       "<IPython.core.display.HTML object>"
      ]
     },
     "metadata": {
      "tags": []
     },
     "output_type": "display_data"
    },
    {
     "data": {
      "text/html": [],
      "text/plain": [
       "<IPython.core.display.HTML object>"
      ]
     },
     "metadata": {
      "tags": []
     },
     "output_type": "display_data"
    },
    {
     "data": {
      "text/html": [],
      "text/plain": [
       "<IPython.core.display.HTML object>"
      ]
     },
     "metadata": {
      "tags": []
     },
     "output_type": "display_data"
    },
    {
     "data": {
      "text/html": [],
      "text/plain": [
       "<IPython.core.display.HTML object>"
      ]
     },
     "metadata": {
      "tags": []
     },
     "output_type": "display_data"
    },
    {
     "data": {
      "text/html": [],
      "text/plain": [
       "<IPython.core.display.HTML object>"
      ]
     },
     "metadata": {
      "tags": []
     },
     "output_type": "display_data"
    },
    {
     "data": {
      "text/html": [],
      "text/plain": [
       "<IPython.core.display.HTML object>"
      ]
     },
     "metadata": {
      "tags": []
     },
     "output_type": "display_data"
    },
    {
     "data": {
      "text/html": [],
      "text/plain": [
       "<IPython.core.display.HTML object>"
      ]
     },
     "metadata": {
      "tags": []
     },
     "output_type": "display_data"
    },
    {
     "data": {
      "text/html": [],
      "text/plain": [
       "<IPython.core.display.HTML object>"
      ]
     },
     "metadata": {
      "tags": []
     },
     "output_type": "display_data"
    },
    {
     "data": {
      "text/html": [],
      "text/plain": [
       "<IPython.core.display.HTML object>"
      ]
     },
     "metadata": {
      "tags": []
     },
     "output_type": "display_data"
    },
    {
     "data": {
      "text/html": [],
      "text/plain": [
       "<IPython.core.display.HTML object>"
      ]
     },
     "metadata": {
      "tags": []
     },
     "output_type": "display_data"
    },
    {
     "data": {
      "text/html": [],
      "text/plain": [
       "<IPython.core.display.HTML object>"
      ]
     },
     "metadata": {
      "tags": []
     },
     "output_type": "display_data"
    },
    {
     "data": {
      "text/html": [],
      "text/plain": [
       "<IPython.core.display.HTML object>"
      ]
     },
     "metadata": {
      "tags": []
     },
     "output_type": "display_data"
    },
    {
     "data": {
      "text/html": [],
      "text/plain": [
       "<IPython.core.display.HTML object>"
      ]
     },
     "metadata": {
      "tags": []
     },
     "output_type": "display_data"
    },
    {
     "data": {
      "text/html": [],
      "text/plain": [
       "<IPython.core.display.HTML object>"
      ]
     },
     "metadata": {
      "tags": []
     },
     "output_type": "display_data"
    },
    {
     "data": {
      "text/html": [],
      "text/plain": [
       "<IPython.core.display.HTML object>"
      ]
     },
     "metadata": {
      "tags": []
     },
     "output_type": "display_data"
    },
    {
     "data": {
      "text/html": [],
      "text/plain": [
       "<IPython.core.display.HTML object>"
      ]
     },
     "metadata": {
      "tags": []
     },
     "output_type": "display_data"
    },
    {
     "data": {
      "text/html": [],
      "text/plain": [
       "<IPython.core.display.HTML object>"
      ]
     },
     "metadata": {
      "tags": []
     },
     "output_type": "display_data"
    },
    {
     "data": {
      "text/html": [],
      "text/plain": [
       "<IPython.core.display.HTML object>"
      ]
     },
     "metadata": {
      "tags": []
     },
     "output_type": "display_data"
    },
    {
     "data": {
      "text/html": [],
      "text/plain": [
       "<IPython.core.display.HTML object>"
      ]
     },
     "metadata": {
      "tags": []
     },
     "output_type": "display_data"
    },
    {
     "data": {
      "text/html": [],
      "text/plain": [
       "<IPython.core.display.HTML object>"
      ]
     },
     "metadata": {
      "tags": []
     },
     "output_type": "display_data"
    },
    {
     "data": {
      "text/html": [],
      "text/plain": [
       "<IPython.core.display.HTML object>"
      ]
     },
     "metadata": {
      "tags": []
     },
     "output_type": "display_data"
    },
    {
     "data": {
      "text/html": [],
      "text/plain": [
       "<IPython.core.display.HTML object>"
      ]
     },
     "metadata": {
      "tags": []
     },
     "output_type": "display_data"
    },
    {
     "data": {
      "text/html": [],
      "text/plain": [
       "<IPython.core.display.HTML object>"
      ]
     },
     "metadata": {
      "tags": []
     },
     "output_type": "display_data"
    },
    {
     "data": {
      "text/html": [],
      "text/plain": [
       "<IPython.core.display.HTML object>"
      ]
     },
     "metadata": {
      "tags": []
     },
     "output_type": "display_data"
    },
    {
     "data": {
      "text/html": [],
      "text/plain": [
       "<IPython.core.display.HTML object>"
      ]
     },
     "metadata": {
      "tags": []
     },
     "output_type": "display_data"
    },
    {
     "data": {
      "text/html": [],
      "text/plain": [
       "<IPython.core.display.HTML object>"
      ]
     },
     "metadata": {
      "tags": []
     },
     "output_type": "display_data"
    },
    {
     "data": {
      "text/html": [],
      "text/plain": [
       "<IPython.core.display.HTML object>"
      ]
     },
     "metadata": {
      "tags": []
     },
     "output_type": "display_data"
    },
    {
     "data": {
      "text/html": [],
      "text/plain": [
       "<IPython.core.display.HTML object>"
      ]
     },
     "metadata": {
      "tags": []
     },
     "output_type": "display_data"
    },
    {
     "data": {
      "text/html": [],
      "text/plain": [
       "<IPython.core.display.HTML object>"
      ]
     },
     "metadata": {
      "tags": []
     },
     "output_type": "display_data"
    },
    {
     "data": {
      "text/html": [],
      "text/plain": [
       "<IPython.core.display.HTML object>"
      ]
     },
     "metadata": {
      "tags": []
     },
     "output_type": "display_data"
    },
    {
     "data": {
      "text/html": [],
      "text/plain": [
       "<IPython.core.display.HTML object>"
      ]
     },
     "metadata": {
      "tags": []
     },
     "output_type": "display_data"
    },
    {
     "data": {
      "text/html": [],
      "text/plain": [
       "<IPython.core.display.HTML object>"
      ]
     },
     "metadata": {
      "tags": []
     },
     "output_type": "display_data"
    },
    {
     "data": {
      "text/html": [],
      "text/plain": [
       "<IPython.core.display.HTML object>"
      ]
     },
     "metadata": {
      "tags": []
     },
     "output_type": "display_data"
    },
    {
     "data": {
      "text/html": [],
      "text/plain": [
       "<IPython.core.display.HTML object>"
      ]
     },
     "metadata": {
      "tags": []
     },
     "output_type": "display_data"
    },
    {
     "data": {
      "text/html": [],
      "text/plain": [
       "<IPython.core.display.HTML object>"
      ]
     },
     "metadata": {
      "tags": []
     },
     "output_type": "display_data"
    },
    {
     "data": {
      "text/html": [],
      "text/plain": [
       "<IPython.core.display.HTML object>"
      ]
     },
     "metadata": {
      "tags": []
     },
     "output_type": "display_data"
    },
    {
     "data": {
      "text/html": [],
      "text/plain": [
       "<IPython.core.display.HTML object>"
      ]
     },
     "metadata": {
      "tags": []
     },
     "output_type": "display_data"
    },
    {
     "data": {
      "text/html": [],
      "text/plain": [
       "<IPython.core.display.HTML object>"
      ]
     },
     "metadata": {
      "tags": []
     },
     "output_type": "display_data"
    },
    {
     "data": {
      "text/html": [],
      "text/plain": [
       "<IPython.core.display.HTML object>"
      ]
     },
     "metadata": {
      "tags": []
     },
     "output_type": "display_data"
    },
    {
     "data": {
      "text/html": [],
      "text/plain": [
       "<IPython.core.display.HTML object>"
      ]
     },
     "metadata": {
      "tags": []
     },
     "output_type": "display_data"
    },
    {
     "data": {
      "text/html": [],
      "text/plain": [
       "<IPython.core.display.HTML object>"
      ]
     },
     "metadata": {
      "tags": []
     },
     "output_type": "display_data"
    },
    {
     "data": {
      "text/html": [],
      "text/plain": [
       "<IPython.core.display.HTML object>"
      ]
     },
     "metadata": {
      "tags": []
     },
     "output_type": "display_data"
    },
    {
     "data": {
      "text/html": [],
      "text/plain": [
       "<IPython.core.display.HTML object>"
      ]
     },
     "metadata": {
      "tags": []
     },
     "output_type": "display_data"
    },
    {
     "data": {
      "text/html": [],
      "text/plain": [
       "<IPython.core.display.HTML object>"
      ]
     },
     "metadata": {
      "tags": []
     },
     "output_type": "display_data"
    },
    {
     "data": {
      "text/html": [],
      "text/plain": [
       "<IPython.core.display.HTML object>"
      ]
     },
     "metadata": {
      "tags": []
     },
     "output_type": "display_data"
    },
    {
     "data": {
      "text/html": [],
      "text/plain": [
       "<IPython.core.display.HTML object>"
      ]
     },
     "metadata": {
      "tags": []
     },
     "output_type": "display_data"
    },
    {
     "data": {
      "text/html": [],
      "text/plain": [
       "<IPython.core.display.HTML object>"
      ]
     },
     "metadata": {
      "tags": []
     },
     "output_type": "display_data"
    },
    {
     "data": {
      "text/html": [],
      "text/plain": [
       "<IPython.core.display.HTML object>"
      ]
     },
     "metadata": {
      "tags": []
     },
     "output_type": "display_data"
    },
    {
     "data": {
      "text/html": [],
      "text/plain": [
       "<IPython.core.display.HTML object>"
      ]
     },
     "metadata": {
      "tags": []
     },
     "output_type": "display_data"
    },
    {
     "data": {
      "text/html": [],
      "text/plain": [
       "<IPython.core.display.HTML object>"
      ]
     },
     "metadata": {
      "tags": []
     },
     "output_type": "display_data"
    },
    {
     "data": {
      "text/html": [],
      "text/plain": [
       "<IPython.core.display.HTML object>"
      ]
     },
     "metadata": {
      "tags": []
     },
     "output_type": "display_data"
    },
    {
     "data": {
      "text/html": [],
      "text/plain": [
       "<IPython.core.display.HTML object>"
      ]
     },
     "metadata": {
      "tags": []
     },
     "output_type": "display_data"
    },
    {
     "data": {
      "text/html": [],
      "text/plain": [
       "<IPython.core.display.HTML object>"
      ]
     },
     "metadata": {
      "tags": []
     },
     "output_type": "display_data"
    },
    {
     "data": {
      "text/html": [],
      "text/plain": [
       "<IPython.core.display.HTML object>"
      ]
     },
     "metadata": {
      "tags": []
     },
     "output_type": "display_data"
    },
    {
     "data": {
      "text/html": [],
      "text/plain": [
       "<IPython.core.display.HTML object>"
      ]
     },
     "metadata": {
      "tags": []
     },
     "output_type": "display_data"
    },
    {
     "data": {
      "text/html": [],
      "text/plain": [
       "<IPython.core.display.HTML object>"
      ]
     },
     "metadata": {
      "tags": []
     },
     "output_type": "display_data"
    },
    {
     "data": {
      "text/html": [],
      "text/plain": [
       "<IPython.core.display.HTML object>"
      ]
     },
     "metadata": {
      "tags": []
     },
     "output_type": "display_data"
    },
    {
     "data": {
      "text/html": [],
      "text/plain": [
       "<IPython.core.display.HTML object>"
      ]
     },
     "metadata": {
      "tags": []
     },
     "output_type": "display_data"
    },
    {
     "data": {
      "text/html": [],
      "text/plain": [
       "<IPython.core.display.HTML object>"
      ]
     },
     "metadata": {
      "tags": []
     },
     "output_type": "display_data"
    },
    {
     "data": {
      "text/html": [],
      "text/plain": [
       "<IPython.core.display.HTML object>"
      ]
     },
     "metadata": {
      "tags": []
     },
     "output_type": "display_data"
    },
    {
     "data": {
      "text/html": [],
      "text/plain": [
       "<IPython.core.display.HTML object>"
      ]
     },
     "metadata": {
      "tags": []
     },
     "output_type": "display_data"
    },
    {
     "data": {
      "text/html": [],
      "text/plain": [
       "<IPython.core.display.HTML object>"
      ]
     },
     "metadata": {
      "tags": []
     },
     "output_type": "display_data"
    },
    {
     "data": {
      "text/html": [],
      "text/plain": [
       "<IPython.core.display.HTML object>"
      ]
     },
     "metadata": {
      "tags": []
     },
     "output_type": "display_data"
    },
    {
     "data": {
      "text/html": [],
      "text/plain": [
       "<IPython.core.display.HTML object>"
      ]
     },
     "metadata": {
      "tags": []
     },
     "output_type": "display_data"
    },
    {
     "data": {
      "text/html": [],
      "text/plain": [
       "<IPython.core.display.HTML object>"
      ]
     },
     "metadata": {
      "tags": []
     },
     "output_type": "display_data"
    },
    {
     "data": {
      "text/html": [],
      "text/plain": [
       "<IPython.core.display.HTML object>"
      ]
     },
     "metadata": {
      "tags": []
     },
     "output_type": "display_data"
    },
    {
     "data": {
      "text/html": [],
      "text/plain": [
       "<IPython.core.display.HTML object>"
      ]
     },
     "metadata": {
      "tags": []
     },
     "output_type": "display_data"
    },
    {
     "data": {
      "text/html": [],
      "text/plain": [
       "<IPython.core.display.HTML object>"
      ]
     },
     "metadata": {
      "tags": []
     },
     "output_type": "display_data"
    },
    {
     "data": {
      "text/html": [],
      "text/plain": [
       "<IPython.core.display.HTML object>"
      ]
     },
     "metadata": {
      "tags": []
     },
     "output_type": "display_data"
    },
    {
     "data": {
      "text/html": [],
      "text/plain": [
       "<IPython.core.display.HTML object>"
      ]
     },
     "metadata": {
      "tags": []
     },
     "output_type": "display_data"
    },
    {
     "data": {
      "text/html": [],
      "text/plain": [
       "<IPython.core.display.HTML object>"
      ]
     },
     "metadata": {
      "tags": []
     },
     "output_type": "display_data"
    },
    {
     "data": {
      "text/html": [],
      "text/plain": [
       "<IPython.core.display.HTML object>"
      ]
     },
     "metadata": {
      "tags": []
     },
     "output_type": "display_data"
    },
    {
     "data": {
      "text/html": [],
      "text/plain": [
       "<IPython.core.display.HTML object>"
      ]
     },
     "metadata": {
      "tags": []
     },
     "output_type": "display_data"
    },
    {
     "data": {
      "text/html": [],
      "text/plain": [
       "<IPython.core.display.HTML object>"
      ]
     },
     "metadata": {
      "tags": []
     },
     "output_type": "display_data"
    },
    {
     "data": {
      "text/html": [],
      "text/plain": [
       "<IPython.core.display.HTML object>"
      ]
     },
     "metadata": {
      "tags": []
     },
     "output_type": "display_data"
    },
    {
     "data": {
      "text/html": [],
      "text/plain": [
       "<IPython.core.display.HTML object>"
      ]
     },
     "metadata": {
      "tags": []
     },
     "output_type": "display_data"
    },
    {
     "data": {
      "text/html": [],
      "text/plain": [
       "<IPython.core.display.HTML object>"
      ]
     },
     "metadata": {
      "tags": []
     },
     "output_type": "display_data"
    },
    {
     "data": {
      "text/html": [],
      "text/plain": [
       "<IPython.core.display.HTML object>"
      ]
     },
     "metadata": {
      "tags": []
     },
     "output_type": "display_data"
    },
    {
     "data": {
      "text/html": [],
      "text/plain": [
       "<IPython.core.display.HTML object>"
      ]
     },
     "metadata": {
      "tags": []
     },
     "output_type": "display_data"
    },
    {
     "data": {
      "text/html": [],
      "text/plain": [
       "<IPython.core.display.HTML object>"
      ]
     },
     "metadata": {
      "tags": []
     },
     "output_type": "display_data"
    },
    {
     "data": {
      "text/html": [],
      "text/plain": [
       "<IPython.core.display.HTML object>"
      ]
     },
     "metadata": {
      "tags": []
     },
     "output_type": "display_data"
    },
    {
     "data": {
      "text/html": [],
      "text/plain": [
       "<IPython.core.display.HTML object>"
      ]
     },
     "metadata": {
      "tags": []
     },
     "output_type": "display_data"
    },
    {
     "data": {
      "text/html": [],
      "text/plain": [
       "<IPython.core.display.HTML object>"
      ]
     },
     "metadata": {
      "tags": []
     },
     "output_type": "display_data"
    },
    {
     "data": {
      "text/html": [],
      "text/plain": [
       "<IPython.core.display.HTML object>"
      ]
     },
     "metadata": {
      "tags": []
     },
     "output_type": "display_data"
    },
    {
     "data": {
      "text/html": [],
      "text/plain": [
       "<IPython.core.display.HTML object>"
      ]
     },
     "metadata": {
      "tags": []
     },
     "output_type": "display_data"
    },
    {
     "data": {
      "text/html": [],
      "text/plain": [
       "<IPython.core.display.HTML object>"
      ]
     },
     "metadata": {
      "tags": []
     },
     "output_type": "display_data"
    },
    {
     "data": {
      "text/html": [],
      "text/plain": [
       "<IPython.core.display.HTML object>"
      ]
     },
     "metadata": {
      "tags": []
     },
     "output_type": "display_data"
    },
    {
     "data": {
      "text/html": [],
      "text/plain": [
       "<IPython.core.display.HTML object>"
      ]
     },
     "metadata": {
      "tags": []
     },
     "output_type": "display_data"
    },
    {
     "data": {
      "text/html": [],
      "text/plain": [
       "<IPython.core.display.HTML object>"
      ]
     },
     "metadata": {
      "tags": []
     },
     "output_type": "display_data"
    },
    {
     "data": {
      "text/html": [],
      "text/plain": [
       "<IPython.core.display.HTML object>"
      ]
     },
     "metadata": {
      "tags": []
     },
     "output_type": "display_data"
    },
    {
     "data": {
      "text/html": [],
      "text/plain": [
       "<IPython.core.display.HTML object>"
      ]
     },
     "metadata": {
      "tags": []
     },
     "output_type": "display_data"
    },
    {
     "data": {
      "text/html": [],
      "text/plain": [
       "<IPython.core.display.HTML object>"
      ]
     },
     "metadata": {
      "tags": []
     },
     "output_type": "display_data"
    },
    {
     "data": {
      "text/html": [],
      "text/plain": [
       "<IPython.core.display.HTML object>"
      ]
     },
     "metadata": {
      "tags": []
     },
     "output_type": "display_data"
    },
    {
     "data": {
      "text/html": [],
      "text/plain": [
       "<IPython.core.display.HTML object>"
      ]
     },
     "metadata": {
      "tags": []
     },
     "output_type": "display_data"
    },
    {
     "data": {
      "text/html": [],
      "text/plain": [
       "<IPython.core.display.HTML object>"
      ]
     },
     "metadata": {
      "tags": []
     },
     "output_type": "display_data"
    },
    {
     "data": {
      "text/html": [],
      "text/plain": [
       "<IPython.core.display.HTML object>"
      ]
     },
     "metadata": {
      "tags": []
     },
     "output_type": "display_data"
    },
    {
     "data": {
      "text/html": [],
      "text/plain": [
       "<IPython.core.display.HTML object>"
      ]
     },
     "metadata": {
      "tags": []
     },
     "output_type": "display_data"
    },
    {
     "data": {
      "text/html": [],
      "text/plain": [
       "<IPython.core.display.HTML object>"
      ]
     },
     "metadata": {
      "tags": []
     },
     "output_type": "display_data"
    },
    {
     "data": {
      "text/html": [],
      "text/plain": [
       "<IPython.core.display.HTML object>"
      ]
     },
     "metadata": {
      "tags": []
     },
     "output_type": "display_data"
    },
    {
     "data": {
      "text/html": [],
      "text/plain": [
       "<IPython.core.display.HTML object>"
      ]
     },
     "metadata": {
      "tags": []
     },
     "output_type": "display_data"
    },
    {
     "data": {
      "text/html": [],
      "text/plain": [
       "<IPython.core.display.HTML object>"
      ]
     },
     "metadata": {
      "tags": []
     },
     "output_type": "display_data"
    },
    {
     "data": {
      "text/html": [],
      "text/plain": [
       "<IPython.core.display.HTML object>"
      ]
     },
     "metadata": {
      "tags": []
     },
     "output_type": "display_data"
    },
    {
     "data": {
      "text/html": [],
      "text/plain": [
       "<IPython.core.display.HTML object>"
      ]
     },
     "metadata": {
      "tags": []
     },
     "output_type": "display_data"
    },
    {
     "data": {
      "text/html": [],
      "text/plain": [
       "<IPython.core.display.HTML object>"
      ]
     },
     "metadata": {
      "tags": []
     },
     "output_type": "display_data"
    },
    {
     "data": {
      "text/html": [],
      "text/plain": [
       "<IPython.core.display.HTML object>"
      ]
     },
     "metadata": {
      "tags": []
     },
     "output_type": "display_data"
    },
    {
     "data": {
      "text/html": [],
      "text/plain": [
       "<IPython.core.display.HTML object>"
      ]
     },
     "metadata": {
      "tags": []
     },
     "output_type": "display_data"
    },
    {
     "data": {
      "text/html": [],
      "text/plain": [
       "<IPython.core.display.HTML object>"
      ]
     },
     "metadata": {
      "tags": []
     },
     "output_type": "display_data"
    },
    {
     "data": {
      "text/html": [],
      "text/plain": [
       "<IPython.core.display.HTML object>"
      ]
     },
     "metadata": {
      "tags": []
     },
     "output_type": "display_data"
    },
    {
     "data": {
      "text/html": [],
      "text/plain": [
       "<IPython.core.display.HTML object>"
      ]
     },
     "metadata": {
      "tags": []
     },
     "output_type": "display_data"
    },
    {
     "data": {
      "text/html": [],
      "text/plain": [
       "<IPython.core.display.HTML object>"
      ]
     },
     "metadata": {
      "tags": []
     },
     "output_type": "display_data"
    },
    {
     "data": {
      "text/html": [],
      "text/plain": [
       "<IPython.core.display.HTML object>"
      ]
     },
     "metadata": {
      "tags": []
     },
     "output_type": "display_data"
    },
    {
     "data": {
      "text/html": [],
      "text/plain": [
       "<IPython.core.display.HTML object>"
      ]
     },
     "metadata": {
      "tags": []
     },
     "output_type": "display_data"
    },
    {
     "data": {
      "text/html": [],
      "text/plain": [
       "<IPython.core.display.HTML object>"
      ]
     },
     "metadata": {
      "tags": []
     },
     "output_type": "display_data"
    },
    {
     "data": {
      "text/html": [],
      "text/plain": [
       "<IPython.core.display.HTML object>"
      ]
     },
     "metadata": {
      "tags": []
     },
     "output_type": "display_data"
    },
    {
     "data": {
      "text/html": [],
      "text/plain": [
       "<IPython.core.display.HTML object>"
      ]
     },
     "metadata": {
      "tags": []
     },
     "output_type": "display_data"
    },
    {
     "data": {
      "text/html": [],
      "text/plain": [
       "<IPython.core.display.HTML object>"
      ]
     },
     "metadata": {
      "tags": []
     },
     "output_type": "display_data"
    },
    {
     "data": {
      "text/html": [],
      "text/plain": [
       "<IPython.core.display.HTML object>"
      ]
     },
     "metadata": {
      "tags": []
     },
     "output_type": "display_data"
    },
    {
     "data": {
      "text/html": [],
      "text/plain": [
       "<IPython.core.display.HTML object>"
      ]
     },
     "metadata": {
      "tags": []
     },
     "output_type": "display_data"
    },
    {
     "data": {
      "text/html": [],
      "text/plain": [
       "<IPython.core.display.HTML object>"
      ]
     },
     "metadata": {
      "tags": []
     },
     "output_type": "display_data"
    },
    {
     "data": {
      "text/html": [],
      "text/plain": [
       "<IPython.core.display.HTML object>"
      ]
     },
     "metadata": {
      "tags": []
     },
     "output_type": "display_data"
    },
    {
     "data": {
      "text/html": [],
      "text/plain": [
       "<IPython.core.display.HTML object>"
      ]
     },
     "metadata": {
      "tags": []
     },
     "output_type": "display_data"
    },
    {
     "data": {
      "text/html": [],
      "text/plain": [
       "<IPython.core.display.HTML object>"
      ]
     },
     "metadata": {
      "tags": []
     },
     "output_type": "display_data"
    },
    {
     "data": {
      "text/html": [],
      "text/plain": [
       "<IPython.core.display.HTML object>"
      ]
     },
     "metadata": {
      "tags": []
     },
     "output_type": "display_data"
    },
    {
     "data": {
      "text/html": [],
      "text/plain": [
       "<IPython.core.display.HTML object>"
      ]
     },
     "metadata": {
      "tags": []
     },
     "output_type": "display_data"
    },
    {
     "data": {
      "text/html": [],
      "text/plain": [
       "<IPython.core.display.HTML object>"
      ]
     },
     "metadata": {
      "tags": []
     },
     "output_type": "display_data"
    },
    {
     "data": {
      "text/html": [],
      "text/plain": [
       "<IPython.core.display.HTML object>"
      ]
     },
     "metadata": {
      "tags": []
     },
     "output_type": "display_data"
    },
    {
     "data": {
      "text/html": [],
      "text/plain": [
       "<IPython.core.display.HTML object>"
      ]
     },
     "metadata": {
      "tags": []
     },
     "output_type": "display_data"
    },
    {
     "data": {
      "text/html": [],
      "text/plain": [
       "<IPython.core.display.HTML object>"
      ]
     },
     "metadata": {
      "tags": []
     },
     "output_type": "display_data"
    },
    {
     "data": {
      "text/html": [],
      "text/plain": [
       "<IPython.core.display.HTML object>"
      ]
     },
     "metadata": {
      "tags": []
     },
     "output_type": "display_data"
    },
    {
     "data": {
      "text/html": [],
      "text/plain": [
       "<IPython.core.display.HTML object>"
      ]
     },
     "metadata": {
      "tags": []
     },
     "output_type": "display_data"
    },
    {
     "data": {
      "text/html": [],
      "text/plain": [
       "<IPython.core.display.HTML object>"
      ]
     },
     "metadata": {
      "tags": []
     },
     "output_type": "display_data"
    },
    {
     "data": {
      "text/html": [],
      "text/plain": [
       "<IPython.core.display.HTML object>"
      ]
     },
     "metadata": {
      "tags": []
     },
     "output_type": "display_data"
    },
    {
     "data": {
      "text/html": [],
      "text/plain": [
       "<IPython.core.display.HTML object>"
      ]
     },
     "metadata": {
      "tags": []
     },
     "output_type": "display_data"
    },
    {
     "data": {
      "text/html": [],
      "text/plain": [
       "<IPython.core.display.HTML object>"
      ]
     },
     "metadata": {
      "tags": []
     },
     "output_type": "display_data"
    },
    {
     "data": {
      "text/html": [],
      "text/plain": [
       "<IPython.core.display.HTML object>"
      ]
     },
     "metadata": {
      "tags": []
     },
     "output_type": "display_data"
    },
    {
     "data": {
      "text/html": [],
      "text/plain": [
       "<IPython.core.display.HTML object>"
      ]
     },
     "metadata": {
      "tags": []
     },
     "output_type": "display_data"
    },
    {
     "data": {
      "text/html": [],
      "text/plain": [
       "<IPython.core.display.HTML object>"
      ]
     },
     "metadata": {
      "tags": []
     },
     "output_type": "display_data"
    },
    {
     "data": {
      "text/html": [],
      "text/plain": [
       "<IPython.core.display.HTML object>"
      ]
     },
     "metadata": {
      "tags": []
     },
     "output_type": "display_data"
    },
    {
     "data": {
      "text/html": [],
      "text/plain": [
       "<IPython.core.display.HTML object>"
      ]
     },
     "metadata": {
      "tags": []
     },
     "output_type": "display_data"
    },
    {
     "data": {
      "text/html": [],
      "text/plain": [
       "<IPython.core.display.HTML object>"
      ]
     },
     "metadata": {
      "tags": []
     },
     "output_type": "display_data"
    },
    {
     "data": {
      "text/html": [],
      "text/plain": [
       "<IPython.core.display.HTML object>"
      ]
     },
     "metadata": {
      "tags": []
     },
     "output_type": "display_data"
    },
    {
     "data": {
      "text/html": [],
      "text/plain": [
       "<IPython.core.display.HTML object>"
      ]
     },
     "metadata": {
      "tags": []
     },
     "output_type": "display_data"
    },
    {
     "data": {
      "text/html": [],
      "text/plain": [
       "<IPython.core.display.HTML object>"
      ]
     },
     "metadata": {
      "tags": []
     },
     "output_type": "display_data"
    },
    {
     "data": {
      "text/html": [],
      "text/plain": [
       "<IPython.core.display.HTML object>"
      ]
     },
     "metadata": {
      "tags": []
     },
     "output_type": "display_data"
    },
    {
     "data": {
      "text/html": [],
      "text/plain": [
       "<IPython.core.display.HTML object>"
      ]
     },
     "metadata": {
      "tags": []
     },
     "output_type": "display_data"
    },
    {
     "data": {
      "text/html": [],
      "text/plain": [
       "<IPython.core.display.HTML object>"
      ]
     },
     "metadata": {
      "tags": []
     },
     "output_type": "display_data"
    },
    {
     "data": {
      "text/html": [],
      "text/plain": [
       "<IPython.core.display.HTML object>"
      ]
     },
     "metadata": {
      "tags": []
     },
     "output_type": "display_data"
    },
    {
     "data": {
      "text/html": [],
      "text/plain": [
       "<IPython.core.display.HTML object>"
      ]
     },
     "metadata": {
      "tags": []
     },
     "output_type": "display_data"
    },
    {
     "data": {
      "text/html": [],
      "text/plain": [
       "<IPython.core.display.HTML object>"
      ]
     },
     "metadata": {
      "tags": []
     },
     "output_type": "display_data"
    },
    {
     "data": {
      "text/html": [],
      "text/plain": [
       "<IPython.core.display.HTML object>"
      ]
     },
     "metadata": {
      "tags": []
     },
     "output_type": "display_data"
    },
    {
     "data": {
      "text/html": [],
      "text/plain": [
       "<IPython.core.display.HTML object>"
      ]
     },
     "metadata": {
      "tags": []
     },
     "output_type": "display_data"
    },
    {
     "data": {
      "text/html": [],
      "text/plain": [
       "<IPython.core.display.HTML object>"
      ]
     },
     "metadata": {
      "tags": []
     },
     "output_type": "display_data"
    },
    {
     "data": {
      "text/html": [],
      "text/plain": [
       "<IPython.core.display.HTML object>"
      ]
     },
     "metadata": {
      "tags": []
     },
     "output_type": "display_data"
    },
    {
     "data": {
      "text/html": [],
      "text/plain": [
       "<IPython.core.display.HTML object>"
      ]
     },
     "metadata": {
      "tags": []
     },
     "output_type": "display_data"
    },
    {
     "data": {
      "text/html": [],
      "text/plain": [
       "<IPython.core.display.HTML object>"
      ]
     },
     "metadata": {
      "tags": []
     },
     "output_type": "display_data"
    },
    {
     "data": {
      "text/html": [],
      "text/plain": [
       "<IPython.core.display.HTML object>"
      ]
     },
     "metadata": {
      "tags": []
     },
     "output_type": "display_data"
    },
    {
     "data": {
      "text/html": [],
      "text/plain": [
       "<IPython.core.display.HTML object>"
      ]
     },
     "metadata": {
      "tags": []
     },
     "output_type": "display_data"
    },
    {
     "data": {
      "text/html": [],
      "text/plain": [
       "<IPython.core.display.HTML object>"
      ]
     },
     "metadata": {
      "tags": []
     },
     "output_type": "display_data"
    },
    {
     "data": {
      "text/html": [],
      "text/plain": [
       "<IPython.core.display.HTML object>"
      ]
     },
     "metadata": {
      "tags": []
     },
     "output_type": "display_data"
    },
    {
     "data": {
      "text/html": [],
      "text/plain": [
       "<IPython.core.display.HTML object>"
      ]
     },
     "metadata": {
      "tags": []
     },
     "output_type": "display_data"
    },
    {
     "data": {
      "text/html": [],
      "text/plain": [
       "<IPython.core.display.HTML object>"
      ]
     },
     "metadata": {
      "tags": []
     },
     "output_type": "display_data"
    },
    {
     "data": {
      "text/html": [],
      "text/plain": [
       "<IPython.core.display.HTML object>"
      ]
     },
     "metadata": {
      "tags": []
     },
     "output_type": "display_data"
    },
    {
     "data": {
      "text/html": [],
      "text/plain": [
       "<IPython.core.display.HTML object>"
      ]
     },
     "metadata": {
      "tags": []
     },
     "output_type": "display_data"
    },
    {
     "data": {
      "text/html": [],
      "text/plain": [
       "<IPython.core.display.HTML object>"
      ]
     },
     "metadata": {
      "tags": []
     },
     "output_type": "display_data"
    },
    {
     "data": {
      "text/html": [],
      "text/plain": [
       "<IPython.core.display.HTML object>"
      ]
     },
     "metadata": {
      "tags": []
     },
     "output_type": "display_data"
    },
    {
     "data": {
      "text/html": [],
      "text/plain": [
       "<IPython.core.display.HTML object>"
      ]
     },
     "metadata": {
      "tags": []
     },
     "output_type": "display_data"
    },
    {
     "data": {
      "text/html": [],
      "text/plain": [
       "<IPython.core.display.HTML object>"
      ]
     },
     "metadata": {
      "tags": []
     },
     "output_type": "display_data"
    },
    {
     "data": {
      "text/html": [],
      "text/plain": [
       "<IPython.core.display.HTML object>"
      ]
     },
     "metadata": {
      "tags": []
     },
     "output_type": "display_data"
    },
    {
     "data": {
      "text/html": [],
      "text/plain": [
       "<IPython.core.display.HTML object>"
      ]
     },
     "metadata": {
      "tags": []
     },
     "output_type": "display_data"
    },
    {
     "data": {
      "text/html": [],
      "text/plain": [
       "<IPython.core.display.HTML object>"
      ]
     },
     "metadata": {
      "tags": []
     },
     "output_type": "display_data"
    },
    {
     "data": {
      "text/html": [],
      "text/plain": [
       "<IPython.core.display.HTML object>"
      ]
     },
     "metadata": {
      "tags": []
     },
     "output_type": "display_data"
    },
    {
     "data": {
      "text/html": [],
      "text/plain": [
       "<IPython.core.display.HTML object>"
      ]
     },
     "metadata": {
      "tags": []
     },
     "output_type": "display_data"
    },
    {
     "data": {
      "text/html": [],
      "text/plain": [
       "<IPython.core.display.HTML object>"
      ]
     },
     "metadata": {
      "tags": []
     },
     "output_type": "display_data"
    },
    {
     "data": {
      "text/html": [],
      "text/plain": [
       "<IPython.core.display.HTML object>"
      ]
     },
     "metadata": {
      "tags": []
     },
     "output_type": "display_data"
    },
    {
     "data": {
      "text/html": [],
      "text/plain": [
       "<IPython.core.display.HTML object>"
      ]
     },
     "metadata": {
      "tags": []
     },
     "output_type": "display_data"
    },
    {
     "data": {
      "text/html": [],
      "text/plain": [
       "<IPython.core.display.HTML object>"
      ]
     },
     "metadata": {
      "tags": []
     },
     "output_type": "display_data"
    },
    {
     "data": {
      "text/html": [],
      "text/plain": [
       "<IPython.core.display.HTML object>"
      ]
     },
     "metadata": {
      "tags": []
     },
     "output_type": "display_data"
    },
    {
     "data": {
      "text/html": [],
      "text/plain": [
       "<IPython.core.display.HTML object>"
      ]
     },
     "metadata": {
      "tags": []
     },
     "output_type": "display_data"
    },
    {
     "data": {
      "text/html": [],
      "text/plain": [
       "<IPython.core.display.HTML object>"
      ]
     },
     "metadata": {
      "tags": []
     },
     "output_type": "display_data"
    },
    {
     "data": {
      "text/html": [],
      "text/plain": [
       "<IPython.core.display.HTML object>"
      ]
     },
     "metadata": {
      "tags": []
     },
     "output_type": "display_data"
    },
    {
     "data": {
      "text/html": [],
      "text/plain": [
       "<IPython.core.display.HTML object>"
      ]
     },
     "metadata": {
      "tags": []
     },
     "output_type": "display_data"
    },
    {
     "data": {
      "text/html": [],
      "text/plain": [
       "<IPython.core.display.HTML object>"
      ]
     },
     "metadata": {
      "tags": []
     },
     "output_type": "display_data"
    },
    {
     "data": {
      "text/html": [],
      "text/plain": [
       "<IPython.core.display.HTML object>"
      ]
     },
     "metadata": {
      "tags": []
     },
     "output_type": "display_data"
    },
    {
     "data": {
      "text/html": [],
      "text/plain": [
       "<IPython.core.display.HTML object>"
      ]
     },
     "metadata": {
      "tags": []
     },
     "output_type": "display_data"
    },
    {
     "data": {
      "text/html": [],
      "text/plain": [
       "<IPython.core.display.HTML object>"
      ]
     },
     "metadata": {
      "tags": []
     },
     "output_type": "display_data"
    },
    {
     "data": {
      "text/html": [],
      "text/plain": [
       "<IPython.core.display.HTML object>"
      ]
     },
     "metadata": {
      "tags": []
     },
     "output_type": "display_data"
    },
    {
     "data": {
      "text/html": [],
      "text/plain": [
       "<IPython.core.display.HTML object>"
      ]
     },
     "metadata": {
      "tags": []
     },
     "output_type": "display_data"
    },
    {
     "data": {
      "text/html": [],
      "text/plain": [
       "<IPython.core.display.HTML object>"
      ]
     },
     "metadata": {
      "tags": []
     },
     "output_type": "display_data"
    },
    {
     "data": {
      "text/html": [],
      "text/plain": [
       "<IPython.core.display.HTML object>"
      ]
     },
     "metadata": {
      "tags": []
     },
     "output_type": "display_data"
    },
    {
     "data": {
      "text/html": [],
      "text/plain": [
       "<IPython.core.display.HTML object>"
      ]
     },
     "metadata": {
      "tags": []
     },
     "output_type": "display_data"
    },
    {
     "data": {
      "text/html": [],
      "text/plain": [
       "<IPython.core.display.HTML object>"
      ]
     },
     "metadata": {
      "tags": []
     },
     "output_type": "display_data"
    },
    {
     "data": {
      "text/html": [],
      "text/plain": [
       "<IPython.core.display.HTML object>"
      ]
     },
     "metadata": {
      "tags": []
     },
     "output_type": "display_data"
    },
    {
     "data": {
      "text/html": [],
      "text/plain": [
       "<IPython.core.display.HTML object>"
      ]
     },
     "metadata": {
      "tags": []
     },
     "output_type": "display_data"
    },
    {
     "data": {
      "text/html": [],
      "text/plain": [
       "<IPython.core.display.HTML object>"
      ]
     },
     "metadata": {
      "tags": []
     },
     "output_type": "display_data"
    },
    {
     "data": {
      "text/html": [],
      "text/plain": [
       "<IPython.core.display.HTML object>"
      ]
     },
     "metadata": {
      "tags": []
     },
     "output_type": "display_data"
    },
    {
     "data": {
      "text/html": [],
      "text/plain": [
       "<IPython.core.display.HTML object>"
      ]
     },
     "metadata": {
      "tags": []
     },
     "output_type": "display_data"
    },
    {
     "data": {
      "text/html": [],
      "text/plain": [
       "<IPython.core.display.HTML object>"
      ]
     },
     "metadata": {
      "tags": []
     },
     "output_type": "display_data"
    },
    {
     "data": {
      "text/html": [],
      "text/plain": [
       "<IPython.core.display.HTML object>"
      ]
     },
     "metadata": {
      "tags": []
     },
     "output_type": "display_data"
    },
    {
     "data": {
      "text/html": [],
      "text/plain": [
       "<IPython.core.display.HTML object>"
      ]
     },
     "metadata": {
      "tags": []
     },
     "output_type": "display_data"
    },
    {
     "data": {
      "text/html": [],
      "text/plain": [
       "<IPython.core.display.HTML object>"
      ]
     },
     "metadata": {
      "tags": []
     },
     "output_type": "display_data"
    },
    {
     "data": {
      "text/html": [],
      "text/plain": [
       "<IPython.core.display.HTML object>"
      ]
     },
     "metadata": {
      "tags": []
     },
     "output_type": "display_data"
    },
    {
     "data": {
      "text/html": [],
      "text/plain": [
       "<IPython.core.display.HTML object>"
      ]
     },
     "metadata": {
      "tags": []
     },
     "output_type": "display_data"
    },
    {
     "data": {
      "text/html": [],
      "text/plain": [
       "<IPython.core.display.HTML object>"
      ]
     },
     "metadata": {
      "tags": []
     },
     "output_type": "display_data"
    },
    {
     "data": {
      "text/html": [],
      "text/plain": [
       "<IPython.core.display.HTML object>"
      ]
     },
     "metadata": {
      "tags": []
     },
     "output_type": "display_data"
    },
    {
     "data": {
      "text/html": [],
      "text/plain": [
       "<IPython.core.display.HTML object>"
      ]
     },
     "metadata": {
      "tags": []
     },
     "output_type": "display_data"
    },
    {
     "data": {
      "text/html": [],
      "text/plain": [
       "<IPython.core.display.HTML object>"
      ]
     },
     "metadata": {
      "tags": []
     },
     "output_type": "display_data"
    },
    {
     "data": {
      "text/html": [],
      "text/plain": [
       "<IPython.core.display.HTML object>"
      ]
     },
     "metadata": {
      "tags": []
     },
     "output_type": "display_data"
    },
    {
     "data": {
      "text/html": [],
      "text/plain": [
       "<IPython.core.display.HTML object>"
      ]
     },
     "metadata": {
      "tags": []
     },
     "output_type": "display_data"
    },
    {
     "data": {
      "text/html": [],
      "text/plain": [
       "<IPython.core.display.HTML object>"
      ]
     },
     "metadata": {
      "tags": []
     },
     "output_type": "display_data"
    },
    {
     "data": {
      "text/html": [],
      "text/plain": [
       "<IPython.core.display.HTML object>"
      ]
     },
     "metadata": {
      "tags": []
     },
     "output_type": "display_data"
    },
    {
     "data": {
      "text/html": [],
      "text/plain": [
       "<IPython.core.display.HTML object>"
      ]
     },
     "metadata": {
      "tags": []
     },
     "output_type": "display_data"
    },
    {
     "data": {
      "text/html": [],
      "text/plain": [
       "<IPython.core.display.HTML object>"
      ]
     },
     "metadata": {
      "tags": []
     },
     "output_type": "display_data"
    },
    {
     "data": {
      "text/html": [],
      "text/plain": [
       "<IPython.core.display.HTML object>"
      ]
     },
     "metadata": {
      "tags": []
     },
     "output_type": "display_data"
    },
    {
     "data": {
      "text/html": [],
      "text/plain": [
       "<IPython.core.display.HTML object>"
      ]
     },
     "metadata": {
      "tags": []
     },
     "output_type": "display_data"
    },
    {
     "data": {
      "text/html": [],
      "text/plain": [
       "<IPython.core.display.HTML object>"
      ]
     },
     "metadata": {
      "tags": []
     },
     "output_type": "display_data"
    },
    {
     "data": {
      "text/html": [],
      "text/plain": [
       "<IPython.core.display.HTML object>"
      ]
     },
     "metadata": {
      "tags": []
     },
     "output_type": "display_data"
    },
    {
     "data": {
      "text/html": [],
      "text/plain": [
       "<IPython.core.display.HTML object>"
      ]
     },
     "metadata": {
      "tags": []
     },
     "output_type": "display_data"
    },
    {
     "data": {
      "text/html": [],
      "text/plain": [
       "<IPython.core.display.HTML object>"
      ]
     },
     "metadata": {
      "tags": []
     },
     "output_type": "display_data"
    },
    {
     "data": {
      "text/html": [],
      "text/plain": [
       "<IPython.core.display.HTML object>"
      ]
     },
     "metadata": {
      "tags": []
     },
     "output_type": "display_data"
    },
    {
     "data": {
      "text/html": [],
      "text/plain": [
       "<IPython.core.display.HTML object>"
      ]
     },
     "metadata": {
      "tags": []
     },
     "output_type": "display_data"
    },
    {
     "data": {
      "text/html": [],
      "text/plain": [
       "<IPython.core.display.HTML object>"
      ]
     },
     "metadata": {
      "tags": []
     },
     "output_type": "display_data"
    },
    {
     "data": {
      "text/html": [],
      "text/plain": [
       "<IPython.core.display.HTML object>"
      ]
     },
     "metadata": {
      "tags": []
     },
     "output_type": "display_data"
    },
    {
     "data": {
      "text/html": [],
      "text/plain": [
       "<IPython.core.display.HTML object>"
      ]
     },
     "metadata": {
      "tags": []
     },
     "output_type": "display_data"
    },
    {
     "data": {
      "text/html": [],
      "text/plain": [
       "<IPython.core.display.HTML object>"
      ]
     },
     "metadata": {
      "tags": []
     },
     "output_type": "display_data"
    },
    {
     "data": {
      "text/html": [],
      "text/plain": [
       "<IPython.core.display.HTML object>"
      ]
     },
     "metadata": {
      "tags": []
     },
     "output_type": "display_data"
    },
    {
     "data": {
      "text/html": [],
      "text/plain": [
       "<IPython.core.display.HTML object>"
      ]
     },
     "metadata": {
      "tags": []
     },
     "output_type": "display_data"
    },
    {
     "data": {
      "text/html": [],
      "text/plain": [
       "<IPython.core.display.HTML object>"
      ]
     },
     "metadata": {
      "tags": []
     },
     "output_type": "display_data"
    },
    {
     "data": {
      "text/html": [],
      "text/plain": [
       "<IPython.core.display.HTML object>"
      ]
     },
     "metadata": {
      "tags": []
     },
     "output_type": "display_data"
    },
    {
     "data": {
      "text/html": [],
      "text/plain": [
       "<IPython.core.display.HTML object>"
      ]
     },
     "metadata": {
      "tags": []
     },
     "output_type": "display_data"
    },
    {
     "data": {
      "text/html": [],
      "text/plain": [
       "<IPython.core.display.HTML object>"
      ]
     },
     "metadata": {
      "tags": []
     },
     "output_type": "display_data"
    },
    {
     "data": {
      "text/html": [],
      "text/plain": [
       "<IPython.core.display.HTML object>"
      ]
     },
     "metadata": {
      "tags": []
     },
     "output_type": "display_data"
    },
    {
     "data": {
      "text/html": [],
      "text/plain": [
       "<IPython.core.display.HTML object>"
      ]
     },
     "metadata": {
      "tags": []
     },
     "output_type": "display_data"
    },
    {
     "data": {
      "text/html": [],
      "text/plain": [
       "<IPython.core.display.HTML object>"
      ]
     },
     "metadata": {
      "tags": []
     },
     "output_type": "display_data"
    },
    {
     "data": {
      "text/html": [],
      "text/plain": [
       "<IPython.core.display.HTML object>"
      ]
     },
     "metadata": {
      "tags": []
     },
     "output_type": "display_data"
    },
    {
     "data": {
      "text/html": [],
      "text/plain": [
       "<IPython.core.display.HTML object>"
      ]
     },
     "metadata": {
      "tags": []
     },
     "output_type": "display_data"
    },
    {
     "data": {
      "text/html": [],
      "text/plain": [
       "<IPython.core.display.HTML object>"
      ]
     },
     "metadata": {
      "tags": []
     },
     "output_type": "display_data"
    },
    {
     "data": {
      "text/html": [],
      "text/plain": [
       "<IPython.core.display.HTML object>"
      ]
     },
     "metadata": {
      "tags": []
     },
     "output_type": "display_data"
    },
    {
     "data": {
      "text/html": [],
      "text/plain": [
       "<IPython.core.display.HTML object>"
      ]
     },
     "metadata": {
      "tags": []
     },
     "output_type": "display_data"
    },
    {
     "data": {
      "text/html": [],
      "text/plain": [
       "<IPython.core.display.HTML object>"
      ]
     },
     "metadata": {
      "tags": []
     },
     "output_type": "display_data"
    },
    {
     "data": {
      "text/html": [],
      "text/plain": [
       "<IPython.core.display.HTML object>"
      ]
     },
     "metadata": {
      "tags": []
     },
     "output_type": "display_data"
    },
    {
     "data": {
      "text/html": [],
      "text/plain": [
       "<IPython.core.display.HTML object>"
      ]
     },
     "metadata": {
      "tags": []
     },
     "output_type": "display_data"
    },
    {
     "data": {
      "text/html": [],
      "text/plain": [
       "<IPython.core.display.HTML object>"
      ]
     },
     "metadata": {
      "tags": []
     },
     "output_type": "display_data"
    },
    {
     "data": {
      "text/html": [],
      "text/plain": [
       "<IPython.core.display.HTML object>"
      ]
     },
     "metadata": {
      "tags": []
     },
     "output_type": "display_data"
    },
    {
     "data": {
      "text/html": [],
      "text/plain": [
       "<IPython.core.display.HTML object>"
      ]
     },
     "metadata": {
      "tags": []
     },
     "output_type": "display_data"
    },
    {
     "data": {
      "text/html": [],
      "text/plain": [
       "<IPython.core.display.HTML object>"
      ]
     },
     "metadata": {
      "tags": []
     },
     "output_type": "display_data"
    },
    {
     "data": {
      "text/html": [],
      "text/plain": [
       "<IPython.core.display.HTML object>"
      ]
     },
     "metadata": {
      "tags": []
     },
     "output_type": "display_data"
    },
    {
     "data": {
      "text/html": [],
      "text/plain": [
       "<IPython.core.display.HTML object>"
      ]
     },
     "metadata": {
      "tags": []
     },
     "output_type": "display_data"
    },
    {
     "data": {
      "text/html": [],
      "text/plain": [
       "<IPython.core.display.HTML object>"
      ]
     },
     "metadata": {
      "tags": []
     },
     "output_type": "display_data"
    },
    {
     "data": {
      "text/html": [],
      "text/plain": [
       "<IPython.core.display.HTML object>"
      ]
     },
     "metadata": {
      "tags": []
     },
     "output_type": "display_data"
    },
    {
     "data": {
      "text/html": [],
      "text/plain": [
       "<IPython.core.display.HTML object>"
      ]
     },
     "metadata": {
      "tags": []
     },
     "output_type": "display_data"
    },
    {
     "data": {
      "text/html": [],
      "text/plain": [
       "<IPython.core.display.HTML object>"
      ]
     },
     "metadata": {
      "tags": []
     },
     "output_type": "display_data"
    },
    {
     "data": {
      "text/html": [],
      "text/plain": [
       "<IPython.core.display.HTML object>"
      ]
     },
     "metadata": {
      "tags": []
     },
     "output_type": "display_data"
    },
    {
     "data": {
      "text/html": [],
      "text/plain": [
       "<IPython.core.display.HTML object>"
      ]
     },
     "metadata": {
      "tags": []
     },
     "output_type": "display_data"
    },
    {
     "data": {
      "text/html": [],
      "text/plain": [
       "<IPython.core.display.HTML object>"
      ]
     },
     "metadata": {
      "tags": []
     },
     "output_type": "display_data"
    },
    {
     "data": {
      "text/html": [],
      "text/plain": [
       "<IPython.core.display.HTML object>"
      ]
     },
     "metadata": {
      "tags": []
     },
     "output_type": "display_data"
    },
    {
     "data": {
      "text/html": [],
      "text/plain": [
       "<IPython.core.display.HTML object>"
      ]
     },
     "metadata": {
      "tags": []
     },
     "output_type": "display_data"
    },
    {
     "data": {
      "text/html": [],
      "text/plain": [
       "<IPython.core.display.HTML object>"
      ]
     },
     "metadata": {
      "tags": []
     },
     "output_type": "display_data"
    },
    {
     "data": {
      "text/html": [],
      "text/plain": [
       "<IPython.core.display.HTML object>"
      ]
     },
     "metadata": {
      "tags": []
     },
     "output_type": "display_data"
    },
    {
     "data": {
      "text/html": [],
      "text/plain": [
       "<IPython.core.display.HTML object>"
      ]
     },
     "metadata": {
      "tags": []
     },
     "output_type": "display_data"
    },
    {
     "data": {
      "text/html": [],
      "text/plain": [
       "<IPython.core.display.HTML object>"
      ]
     },
     "metadata": {
      "tags": []
     },
     "output_type": "display_data"
    },
    {
     "data": {
      "text/html": [],
      "text/plain": [
       "<IPython.core.display.HTML object>"
      ]
     },
     "metadata": {
      "tags": []
     },
     "output_type": "display_data"
    },
    {
     "data": {
      "text/html": [],
      "text/plain": [
       "<IPython.core.display.HTML object>"
      ]
     },
     "metadata": {
      "tags": []
     },
     "output_type": "display_data"
    },
    {
     "data": {
      "text/html": [],
      "text/plain": [
       "<IPython.core.display.HTML object>"
      ]
     },
     "metadata": {
      "tags": []
     },
     "output_type": "display_data"
    },
    {
     "data": {
      "text/html": [],
      "text/plain": [
       "<IPython.core.display.HTML object>"
      ]
     },
     "metadata": {
      "tags": []
     },
     "output_type": "display_data"
    },
    {
     "data": {
      "text/html": [],
      "text/plain": [
       "<IPython.core.display.HTML object>"
      ]
     },
     "metadata": {
      "tags": []
     },
     "output_type": "display_data"
    },
    {
     "data": {
      "text/html": [],
      "text/plain": [
       "<IPython.core.display.HTML object>"
      ]
     },
     "metadata": {
      "tags": []
     },
     "output_type": "display_data"
    },
    {
     "data": {
      "text/html": [],
      "text/plain": [
       "<IPython.core.display.HTML object>"
      ]
     },
     "metadata": {
      "tags": []
     },
     "output_type": "display_data"
    },
    {
     "data": {
      "text/html": [],
      "text/plain": [
       "<IPython.core.display.HTML object>"
      ]
     },
     "metadata": {
      "tags": []
     },
     "output_type": "display_data"
    },
    {
     "data": {
      "text/html": [],
      "text/plain": [
       "<IPython.core.display.HTML object>"
      ]
     },
     "metadata": {
      "tags": []
     },
     "output_type": "display_data"
    },
    {
     "data": {
      "text/html": [],
      "text/plain": [
       "<IPython.core.display.HTML object>"
      ]
     },
     "metadata": {
      "tags": []
     },
     "output_type": "display_data"
    },
    {
     "data": {
      "text/html": [],
      "text/plain": [
       "<IPython.core.display.HTML object>"
      ]
     },
     "metadata": {
      "tags": []
     },
     "output_type": "display_data"
    },
    {
     "data": {
      "text/html": [],
      "text/plain": [
       "<IPython.core.display.HTML object>"
      ]
     },
     "metadata": {
      "tags": []
     },
     "output_type": "display_data"
    },
    {
     "data": {
      "text/html": [],
      "text/plain": [
       "<IPython.core.display.HTML object>"
      ]
     },
     "metadata": {
      "tags": []
     },
     "output_type": "display_data"
    },
    {
     "data": {
      "text/html": [],
      "text/plain": [
       "<IPython.core.display.HTML object>"
      ]
     },
     "metadata": {
      "tags": []
     },
     "output_type": "display_data"
    },
    {
     "data": {
      "text/html": [],
      "text/plain": [
       "<IPython.core.display.HTML object>"
      ]
     },
     "metadata": {
      "tags": []
     },
     "output_type": "display_data"
    },
    {
     "data": {
      "text/html": [],
      "text/plain": [
       "<IPython.core.display.HTML object>"
      ]
     },
     "metadata": {
      "tags": []
     },
     "output_type": "display_data"
    },
    {
     "data": {
      "text/html": [],
      "text/plain": [
       "<IPython.core.display.HTML object>"
      ]
     },
     "metadata": {
      "tags": []
     },
     "output_type": "display_data"
    },
    {
     "data": {
      "text/html": [],
      "text/plain": [
       "<IPython.core.display.HTML object>"
      ]
     },
     "metadata": {
      "tags": []
     },
     "output_type": "display_data"
    },
    {
     "data": {
      "text/html": [],
      "text/plain": [
       "<IPython.core.display.HTML object>"
      ]
     },
     "metadata": {
      "tags": []
     },
     "output_type": "display_data"
    },
    {
     "data": {
      "text/html": [],
      "text/plain": [
       "<IPython.core.display.HTML object>"
      ]
     },
     "metadata": {
      "tags": []
     },
     "output_type": "display_data"
    },
    {
     "data": {
      "text/html": [],
      "text/plain": [
       "<IPython.core.display.HTML object>"
      ]
     },
     "metadata": {
      "tags": []
     },
     "output_type": "display_data"
    },
    {
     "data": {
      "text/html": [],
      "text/plain": [
       "<IPython.core.display.HTML object>"
      ]
     },
     "metadata": {
      "tags": []
     },
     "output_type": "display_data"
    },
    {
     "data": {
      "text/html": [],
      "text/plain": [
       "<IPython.core.display.HTML object>"
      ]
     },
     "metadata": {
      "tags": []
     },
     "output_type": "display_data"
    },
    {
     "data": {
      "text/html": [],
      "text/plain": [
       "<IPython.core.display.HTML object>"
      ]
     },
     "metadata": {
      "tags": []
     },
     "output_type": "display_data"
    },
    {
     "data": {
      "text/html": [],
      "text/plain": [
       "<IPython.core.display.HTML object>"
      ]
     },
     "metadata": {
      "tags": []
     },
     "output_type": "display_data"
    },
    {
     "data": {
      "text/html": [],
      "text/plain": [
       "<IPython.core.display.HTML object>"
      ]
     },
     "metadata": {
      "tags": []
     },
     "output_type": "display_data"
    },
    {
     "data": {
      "text/html": [],
      "text/plain": [
       "<IPython.core.display.HTML object>"
      ]
     },
     "metadata": {
      "tags": []
     },
     "output_type": "display_data"
    },
    {
     "data": {
      "text/html": [],
      "text/plain": [
       "<IPython.core.display.HTML object>"
      ]
     },
     "metadata": {
      "tags": []
     },
     "output_type": "display_data"
    },
    {
     "data": {
      "text/html": [],
      "text/plain": [
       "<IPython.core.display.HTML object>"
      ]
     },
     "metadata": {
      "tags": []
     },
     "output_type": "display_data"
    },
    {
     "data": {
      "text/html": [],
      "text/plain": [
       "<IPython.core.display.HTML object>"
      ]
     },
     "metadata": {
      "tags": []
     },
     "output_type": "display_data"
    },
    {
     "data": {
      "text/html": [],
      "text/plain": [
       "<IPython.core.display.HTML object>"
      ]
     },
     "metadata": {
      "tags": []
     },
     "output_type": "display_data"
    },
    {
     "data": {
      "text/html": [],
      "text/plain": [
       "<IPython.core.display.HTML object>"
      ]
     },
     "metadata": {
      "tags": []
     },
     "output_type": "display_data"
    },
    {
     "data": {
      "text/html": [],
      "text/plain": [
       "<IPython.core.display.HTML object>"
      ]
     },
     "metadata": {
      "tags": []
     },
     "output_type": "display_data"
    },
    {
     "data": {
      "text/html": [],
      "text/plain": [
       "<IPython.core.display.HTML object>"
      ]
     },
     "metadata": {
      "tags": []
     },
     "output_type": "display_data"
    },
    {
     "data": {
      "text/html": [],
      "text/plain": [
       "<IPython.core.display.HTML object>"
      ]
     },
     "metadata": {
      "tags": []
     },
     "output_type": "display_data"
    },
    {
     "data": {
      "text/html": [],
      "text/plain": [
       "<IPython.core.display.HTML object>"
      ]
     },
     "metadata": {
      "tags": []
     },
     "output_type": "display_data"
    },
    {
     "data": {
      "text/html": [],
      "text/plain": [
       "<IPython.core.display.HTML object>"
      ]
     },
     "metadata": {
      "tags": []
     },
     "output_type": "display_data"
    },
    {
     "data": {
      "text/html": [],
      "text/plain": [
       "<IPython.core.display.HTML object>"
      ]
     },
     "metadata": {
      "tags": []
     },
     "output_type": "display_data"
    },
    {
     "data": {
      "text/html": [],
      "text/plain": [
       "<IPython.core.display.HTML object>"
      ]
     },
     "metadata": {
      "tags": []
     },
     "output_type": "display_data"
    },
    {
     "data": {
      "text/html": [],
      "text/plain": [
       "<IPython.core.display.HTML object>"
      ]
     },
     "metadata": {
      "tags": []
     },
     "output_type": "display_data"
    },
    {
     "data": {
      "text/html": [],
      "text/plain": [
       "<IPython.core.display.HTML object>"
      ]
     },
     "metadata": {
      "tags": []
     },
     "output_type": "display_data"
    },
    {
     "data": {
      "text/html": [],
      "text/plain": [
       "<IPython.core.display.HTML object>"
      ]
     },
     "metadata": {
      "tags": []
     },
     "output_type": "display_data"
    },
    {
     "data": {
      "text/html": [],
      "text/plain": [
       "<IPython.core.display.HTML object>"
      ]
     },
     "metadata": {
      "tags": []
     },
     "output_type": "display_data"
    },
    {
     "data": {
      "text/html": [],
      "text/plain": [
       "<IPython.core.display.HTML object>"
      ]
     },
     "metadata": {
      "tags": []
     },
     "output_type": "display_data"
    },
    {
     "data": {
      "text/html": [],
      "text/plain": [
       "<IPython.core.display.HTML object>"
      ]
     },
     "metadata": {
      "tags": []
     },
     "output_type": "display_data"
    },
    {
     "data": {
      "text/html": [],
      "text/plain": [
       "<IPython.core.display.HTML object>"
      ]
     },
     "metadata": {
      "tags": []
     },
     "output_type": "display_data"
    },
    {
     "data": {
      "text/html": [],
      "text/plain": [
       "<IPython.core.display.HTML object>"
      ]
     },
     "metadata": {
      "tags": []
     },
     "output_type": "display_data"
    },
    {
     "data": {
      "text/html": [],
      "text/plain": [
       "<IPython.core.display.HTML object>"
      ]
     },
     "metadata": {
      "tags": []
     },
     "output_type": "display_data"
    },
    {
     "data": {
      "text/html": [],
      "text/plain": [
       "<IPython.core.display.HTML object>"
      ]
     },
     "metadata": {
      "tags": []
     },
     "output_type": "display_data"
    },
    {
     "data": {
      "text/html": [],
      "text/plain": [
       "<IPython.core.display.HTML object>"
      ]
     },
     "metadata": {
      "tags": []
     },
     "output_type": "display_data"
    },
    {
     "data": {
      "text/html": [],
      "text/plain": [
       "<IPython.core.display.HTML object>"
      ]
     },
     "metadata": {
      "tags": []
     },
     "output_type": "display_data"
    },
    {
     "data": {
      "text/html": [],
      "text/plain": [
       "<IPython.core.display.HTML object>"
      ]
     },
     "metadata": {
      "tags": []
     },
     "output_type": "display_data"
    },
    {
     "data": {
      "text/html": [],
      "text/plain": [
       "<IPython.core.display.HTML object>"
      ]
     },
     "metadata": {
      "tags": []
     },
     "output_type": "display_data"
    },
    {
     "data": {
      "text/html": [],
      "text/plain": [
       "<IPython.core.display.HTML object>"
      ]
     },
     "metadata": {
      "tags": []
     },
     "output_type": "display_data"
    },
    {
     "data": {
      "text/html": [],
      "text/plain": [
       "<IPython.core.display.HTML object>"
      ]
     },
     "metadata": {
      "tags": []
     },
     "output_type": "display_data"
    },
    {
     "data": {
      "text/html": [],
      "text/plain": [
       "<IPython.core.display.HTML object>"
      ]
     },
     "metadata": {
      "tags": []
     },
     "output_type": "display_data"
    },
    {
     "data": {
      "text/html": [],
      "text/plain": [
       "<IPython.core.display.HTML object>"
      ]
     },
     "metadata": {
      "tags": []
     },
     "output_type": "display_data"
    },
    {
     "data": {
      "text/html": [],
      "text/plain": [
       "<IPython.core.display.HTML object>"
      ]
     },
     "metadata": {
      "tags": []
     },
     "output_type": "display_data"
    },
    {
     "data": {
      "text/html": [],
      "text/plain": [
       "<IPython.core.display.HTML object>"
      ]
     },
     "metadata": {
      "tags": []
     },
     "output_type": "display_data"
    },
    {
     "data": {
      "text/html": [],
      "text/plain": [
       "<IPython.core.display.HTML object>"
      ]
     },
     "metadata": {
      "tags": []
     },
     "output_type": "display_data"
    },
    {
     "data": {
      "text/html": [],
      "text/plain": [
       "<IPython.core.display.HTML object>"
      ]
     },
     "metadata": {
      "tags": []
     },
     "output_type": "display_data"
    },
    {
     "data": {
      "text/html": [],
      "text/plain": [
       "<IPython.core.display.HTML object>"
      ]
     },
     "metadata": {
      "tags": []
     },
     "output_type": "display_data"
    },
    {
     "data": {
      "text/html": [],
      "text/plain": [
       "<IPython.core.display.HTML object>"
      ]
     },
     "metadata": {
      "tags": []
     },
     "output_type": "display_data"
    },
    {
     "data": {
      "text/html": [],
      "text/plain": [
       "<IPython.core.display.HTML object>"
      ]
     },
     "metadata": {
      "tags": []
     },
     "output_type": "display_data"
    },
    {
     "data": {
      "text/html": [],
      "text/plain": [
       "<IPython.core.display.HTML object>"
      ]
     },
     "metadata": {
      "tags": []
     },
     "output_type": "display_data"
    },
    {
     "data": {
      "text/html": [],
      "text/plain": [
       "<IPython.core.display.HTML object>"
      ]
     },
     "metadata": {
      "tags": []
     },
     "output_type": "display_data"
    },
    {
     "data": {
      "text/html": [],
      "text/plain": [
       "<IPython.core.display.HTML object>"
      ]
     },
     "metadata": {
      "tags": []
     },
     "output_type": "display_data"
    },
    {
     "data": {
      "text/html": [],
      "text/plain": [
       "<IPython.core.display.HTML object>"
      ]
     },
     "metadata": {
      "tags": []
     },
     "output_type": "display_data"
    },
    {
     "data": {
      "text/html": [],
      "text/plain": [
       "<IPython.core.display.HTML object>"
      ]
     },
     "metadata": {
      "tags": []
     },
     "output_type": "display_data"
    },
    {
     "data": {
      "text/html": [],
      "text/plain": [
       "<IPython.core.display.HTML object>"
      ]
     },
     "metadata": {
      "tags": []
     },
     "output_type": "display_data"
    },
    {
     "data": {
      "text/html": [],
      "text/plain": [
       "<IPython.core.display.HTML object>"
      ]
     },
     "metadata": {
      "tags": []
     },
     "output_type": "display_data"
    },
    {
     "data": {
      "text/html": [],
      "text/plain": [
       "<IPython.core.display.HTML object>"
      ]
     },
     "metadata": {
      "tags": []
     },
     "output_type": "display_data"
    },
    {
     "data": {
      "text/html": [],
      "text/plain": [
       "<IPython.core.display.HTML object>"
      ]
     },
     "metadata": {
      "tags": []
     },
     "output_type": "display_data"
    },
    {
     "data": {
      "text/html": [],
      "text/plain": [
       "<IPython.core.display.HTML object>"
      ]
     },
     "metadata": {
      "tags": []
     },
     "output_type": "display_data"
    },
    {
     "data": {
      "text/html": [],
      "text/plain": [
       "<IPython.core.display.HTML object>"
      ]
     },
     "metadata": {
      "tags": []
     },
     "output_type": "display_data"
    },
    {
     "data": {
      "text/html": [],
      "text/plain": [
       "<IPython.core.display.HTML object>"
      ]
     },
     "metadata": {
      "tags": []
     },
     "output_type": "display_data"
    },
    {
     "data": {
      "text/html": [],
      "text/plain": [
       "<IPython.core.display.HTML object>"
      ]
     },
     "metadata": {
      "tags": []
     },
     "output_type": "display_data"
    },
    {
     "data": {
      "text/html": [],
      "text/plain": [
       "<IPython.core.display.HTML object>"
      ]
     },
     "metadata": {
      "tags": []
     },
     "output_type": "display_data"
    },
    {
     "data": {
      "text/html": [],
      "text/plain": [
       "<IPython.core.display.HTML object>"
      ]
     },
     "metadata": {
      "tags": []
     },
     "output_type": "display_data"
    },
    {
     "data": {
      "text/html": [],
      "text/plain": [
       "<IPython.core.display.HTML object>"
      ]
     },
     "metadata": {
      "tags": []
     },
     "output_type": "display_data"
    },
    {
     "data": {
      "text/html": [],
      "text/plain": [
       "<IPython.core.display.HTML object>"
      ]
     },
     "metadata": {
      "tags": []
     },
     "output_type": "display_data"
    },
    {
     "data": {
      "text/html": [],
      "text/plain": [
       "<IPython.core.display.HTML object>"
      ]
     },
     "metadata": {
      "tags": []
     },
     "output_type": "display_data"
    },
    {
     "data": {
      "text/html": [],
      "text/plain": [
       "<IPython.core.display.HTML object>"
      ]
     },
     "metadata": {
      "tags": []
     },
     "output_type": "display_data"
    },
    {
     "data": {
      "text/html": [],
      "text/plain": [
       "<IPython.core.display.HTML object>"
      ]
     },
     "metadata": {
      "tags": []
     },
     "output_type": "display_data"
    },
    {
     "data": {
      "text/html": [],
      "text/plain": [
       "<IPython.core.display.HTML object>"
      ]
     },
     "metadata": {
      "tags": []
     },
     "output_type": "display_data"
    },
    {
     "data": {
      "text/html": [],
      "text/plain": [
       "<IPython.core.display.HTML object>"
      ]
     },
     "metadata": {
      "tags": []
     },
     "output_type": "display_data"
    },
    {
     "data": {
      "text/html": [],
      "text/plain": [
       "<IPython.core.display.HTML object>"
      ]
     },
     "metadata": {
      "tags": []
     },
     "output_type": "display_data"
    },
    {
     "data": {
      "text/html": [],
      "text/plain": [
       "<IPython.core.display.HTML object>"
      ]
     },
     "metadata": {
      "tags": []
     },
     "output_type": "display_data"
    },
    {
     "data": {
      "text/html": [],
      "text/plain": [
       "<IPython.core.display.HTML object>"
      ]
     },
     "metadata": {
      "tags": []
     },
     "output_type": "display_data"
    },
    {
     "data": {
      "text/html": [],
      "text/plain": [
       "<IPython.core.display.HTML object>"
      ]
     },
     "metadata": {
      "tags": []
     },
     "output_type": "display_data"
    },
    {
     "data": {
      "text/html": [],
      "text/plain": [
       "<IPython.core.display.HTML object>"
      ]
     },
     "metadata": {
      "tags": []
     },
     "output_type": "display_data"
    },
    {
     "data": {
      "text/html": [],
      "text/plain": [
       "<IPython.core.display.HTML object>"
      ]
     },
     "metadata": {
      "tags": []
     },
     "output_type": "display_data"
    },
    {
     "data": {
      "text/html": [],
      "text/plain": [
       "<IPython.core.display.HTML object>"
      ]
     },
     "metadata": {
      "tags": []
     },
     "output_type": "display_data"
    },
    {
     "data": {
      "text/html": [],
      "text/plain": [
       "<IPython.core.display.HTML object>"
      ]
     },
     "metadata": {
      "tags": []
     },
     "output_type": "display_data"
    },
    {
     "data": {
      "text/html": [],
      "text/plain": [
       "<IPython.core.display.HTML object>"
      ]
     },
     "metadata": {
      "tags": []
     },
     "output_type": "display_data"
    },
    {
     "data": {
      "text/html": [],
      "text/plain": [
       "<IPython.core.display.HTML object>"
      ]
     },
     "metadata": {
      "tags": []
     },
     "output_type": "display_data"
    },
    {
     "data": {
      "text/html": [],
      "text/plain": [
       "<IPython.core.display.HTML object>"
      ]
     },
     "metadata": {
      "tags": []
     },
     "output_type": "display_data"
    },
    {
     "data": {
      "text/html": [],
      "text/plain": [
       "<IPython.core.display.HTML object>"
      ]
     },
     "metadata": {
      "tags": []
     },
     "output_type": "display_data"
    },
    {
     "data": {
      "text/html": [],
      "text/plain": [
       "<IPython.core.display.HTML object>"
      ]
     },
     "metadata": {
      "tags": []
     },
     "output_type": "display_data"
    },
    {
     "data": {
      "text/html": [],
      "text/plain": [
       "<IPython.core.display.HTML object>"
      ]
     },
     "metadata": {
      "tags": []
     },
     "output_type": "display_data"
    },
    {
     "data": {
      "text/html": [],
      "text/plain": [
       "<IPython.core.display.HTML object>"
      ]
     },
     "metadata": {
      "tags": []
     },
     "output_type": "display_data"
    },
    {
     "data": {
      "text/html": [],
      "text/plain": [
       "<IPython.core.display.HTML object>"
      ]
     },
     "metadata": {
      "tags": []
     },
     "output_type": "display_data"
    },
    {
     "data": {
      "text/html": [],
      "text/plain": [
       "<IPython.core.display.HTML object>"
      ]
     },
     "metadata": {
      "tags": []
     },
     "output_type": "display_data"
    },
    {
     "data": {
      "text/html": [],
      "text/plain": [
       "<IPython.core.display.HTML object>"
      ]
     },
     "metadata": {
      "tags": []
     },
     "output_type": "display_data"
    },
    {
     "data": {
      "text/html": [],
      "text/plain": [
       "<IPython.core.display.HTML object>"
      ]
     },
     "metadata": {
      "tags": []
     },
     "output_type": "display_data"
    },
    {
     "data": {
      "text/html": [],
      "text/plain": [
       "<IPython.core.display.HTML object>"
      ]
     },
     "metadata": {
      "tags": []
     },
     "output_type": "display_data"
    },
    {
     "data": {
      "text/html": [],
      "text/plain": [
       "<IPython.core.display.HTML object>"
      ]
     },
     "metadata": {
      "tags": []
     },
     "output_type": "display_data"
    },
    {
     "data": {
      "text/html": [],
      "text/plain": [
       "<IPython.core.display.HTML object>"
      ]
     },
     "metadata": {
      "tags": []
     },
     "output_type": "display_data"
    },
    {
     "data": {
      "text/html": [],
      "text/plain": [
       "<IPython.core.display.HTML object>"
      ]
     },
     "metadata": {
      "tags": []
     },
     "output_type": "display_data"
    },
    {
     "data": {
      "text/html": [],
      "text/plain": [
       "<IPython.core.display.HTML object>"
      ]
     },
     "metadata": {
      "tags": []
     },
     "output_type": "display_data"
    },
    {
     "data": {
      "text/html": [],
      "text/plain": [
       "<IPython.core.display.HTML object>"
      ]
     },
     "metadata": {
      "tags": []
     },
     "output_type": "display_data"
    },
    {
     "data": {
      "text/html": [],
      "text/plain": [
       "<IPython.core.display.HTML object>"
      ]
     },
     "metadata": {
      "tags": []
     },
     "output_type": "display_data"
    },
    {
     "data": {
      "text/html": [],
      "text/plain": [
       "<IPython.core.display.HTML object>"
      ]
     },
     "metadata": {
      "tags": []
     },
     "output_type": "display_data"
    },
    {
     "data": {
      "text/html": [],
      "text/plain": [
       "<IPython.core.display.HTML object>"
      ]
     },
     "metadata": {
      "tags": []
     },
     "output_type": "display_data"
    },
    {
     "data": {
      "text/html": [],
      "text/plain": [
       "<IPython.core.display.HTML object>"
      ]
     },
     "metadata": {
      "tags": []
     },
     "output_type": "display_data"
    },
    {
     "data": {
      "text/html": [],
      "text/plain": [
       "<IPython.core.display.HTML object>"
      ]
     },
     "metadata": {
      "tags": []
     },
     "output_type": "display_data"
    },
    {
     "data": {
      "text/html": [],
      "text/plain": [
       "<IPython.core.display.HTML object>"
      ]
     },
     "metadata": {
      "tags": []
     },
     "output_type": "display_data"
    },
    {
     "data": {
      "text/html": [],
      "text/plain": [
       "<IPython.core.display.HTML object>"
      ]
     },
     "metadata": {
      "tags": []
     },
     "output_type": "display_data"
    },
    {
     "data": {
      "text/html": [],
      "text/plain": [
       "<IPython.core.display.HTML object>"
      ]
     },
     "metadata": {
      "tags": []
     },
     "output_type": "display_data"
    },
    {
     "data": {
      "text/html": [],
      "text/plain": [
       "<IPython.core.display.HTML object>"
      ]
     },
     "metadata": {
      "tags": []
     },
     "output_type": "display_data"
    },
    {
     "data": {
      "text/html": [],
      "text/plain": [
       "<IPython.core.display.HTML object>"
      ]
     },
     "metadata": {
      "tags": []
     },
     "output_type": "display_data"
    },
    {
     "data": {
      "text/html": [],
      "text/plain": [
       "<IPython.core.display.HTML object>"
      ]
     },
     "metadata": {
      "tags": []
     },
     "output_type": "display_data"
    },
    {
     "data": {
      "text/html": [],
      "text/plain": [
       "<IPython.core.display.HTML object>"
      ]
     },
     "metadata": {
      "tags": []
     },
     "output_type": "display_data"
    },
    {
     "data": {
      "text/html": [],
      "text/plain": [
       "<IPython.core.display.HTML object>"
      ]
     },
     "metadata": {
      "tags": []
     },
     "output_type": "display_data"
    },
    {
     "data": {
      "text/html": [],
      "text/plain": [
       "<IPython.core.display.HTML object>"
      ]
     },
     "metadata": {
      "tags": []
     },
     "output_type": "display_data"
    },
    {
     "data": {
      "text/html": [],
      "text/plain": [
       "<IPython.core.display.HTML object>"
      ]
     },
     "metadata": {
      "tags": []
     },
     "output_type": "display_data"
    },
    {
     "data": {
      "text/html": [],
      "text/plain": [
       "<IPython.core.display.HTML object>"
      ]
     },
     "metadata": {
      "tags": []
     },
     "output_type": "display_data"
    },
    {
     "data": {
      "text/html": [],
      "text/plain": [
       "<IPython.core.display.HTML object>"
      ]
     },
     "metadata": {
      "tags": []
     },
     "output_type": "display_data"
    },
    {
     "data": {
      "text/html": [],
      "text/plain": [
       "<IPython.core.display.HTML object>"
      ]
     },
     "metadata": {
      "tags": []
     },
     "output_type": "display_data"
    },
    {
     "data": {
      "text/html": [],
      "text/plain": [
       "<IPython.core.display.HTML object>"
      ]
     },
     "metadata": {
      "tags": []
     },
     "output_type": "display_data"
    },
    {
     "data": {
      "text/html": [],
      "text/plain": [
       "<IPython.core.display.HTML object>"
      ]
     },
     "metadata": {
      "tags": []
     },
     "output_type": "display_data"
    },
    {
     "data": {
      "text/html": [],
      "text/plain": [
       "<IPython.core.display.HTML object>"
      ]
     },
     "metadata": {
      "tags": []
     },
     "output_type": "display_data"
    },
    {
     "data": {
      "text/html": [],
      "text/plain": [
       "<IPython.core.display.HTML object>"
      ]
     },
     "metadata": {
      "tags": []
     },
     "output_type": "display_data"
    },
    {
     "data": {
      "text/html": [],
      "text/plain": [
       "<IPython.core.display.HTML object>"
      ]
     },
     "metadata": {
      "tags": []
     },
     "output_type": "display_data"
    },
    {
     "data": {
      "text/html": [],
      "text/plain": [
       "<IPython.core.display.HTML object>"
      ]
     },
     "metadata": {
      "tags": []
     },
     "output_type": "display_data"
    },
    {
     "data": {
      "text/html": [],
      "text/plain": [
       "<IPython.core.display.HTML object>"
      ]
     },
     "metadata": {
      "tags": []
     },
     "output_type": "display_data"
    },
    {
     "data": {
      "text/html": [],
      "text/plain": [
       "<IPython.core.display.HTML object>"
      ]
     },
     "metadata": {
      "tags": []
     },
     "output_type": "display_data"
    },
    {
     "data": {
      "text/html": [],
      "text/plain": [
       "<IPython.core.display.HTML object>"
      ]
     },
     "metadata": {
      "tags": []
     },
     "output_type": "display_data"
    },
    {
     "data": {
      "text/html": [],
      "text/plain": [
       "<IPython.core.display.HTML object>"
      ]
     },
     "metadata": {
      "tags": []
     },
     "output_type": "display_data"
    },
    {
     "data": {
      "text/html": [],
      "text/plain": [
       "<IPython.core.display.HTML object>"
      ]
     },
     "metadata": {
      "tags": []
     },
     "output_type": "display_data"
    },
    {
     "data": {
      "text/html": [],
      "text/plain": [
       "<IPython.core.display.HTML object>"
      ]
     },
     "metadata": {
      "tags": []
     },
     "output_type": "display_data"
    },
    {
     "data": {
      "text/html": [],
      "text/plain": [
       "<IPython.core.display.HTML object>"
      ]
     },
     "metadata": {
      "tags": []
     },
     "output_type": "display_data"
    },
    {
     "data": {
      "text/html": [],
      "text/plain": [
       "<IPython.core.display.HTML object>"
      ]
     },
     "metadata": {
      "tags": []
     },
     "output_type": "display_data"
    },
    {
     "data": {
      "text/html": [],
      "text/plain": [
       "<IPython.core.display.HTML object>"
      ]
     },
     "metadata": {
      "tags": []
     },
     "output_type": "display_data"
    },
    {
     "data": {
      "text/html": [],
      "text/plain": [
       "<IPython.core.display.HTML object>"
      ]
     },
     "metadata": {
      "tags": []
     },
     "output_type": "display_data"
    },
    {
     "data": {
      "text/html": [],
      "text/plain": [
       "<IPython.core.display.HTML object>"
      ]
     },
     "metadata": {
      "tags": []
     },
     "output_type": "display_data"
    },
    {
     "data": {
      "text/html": [],
      "text/plain": [
       "<IPython.core.display.HTML object>"
      ]
     },
     "metadata": {
      "tags": []
     },
     "output_type": "display_data"
    },
    {
     "data": {
      "text/html": [],
      "text/plain": [
       "<IPython.core.display.HTML object>"
      ]
     },
     "metadata": {
      "tags": []
     },
     "output_type": "display_data"
    },
    {
     "data": {
      "text/html": [],
      "text/plain": [
       "<IPython.core.display.HTML object>"
      ]
     },
     "metadata": {
      "tags": []
     },
     "output_type": "display_data"
    },
    {
     "data": {
      "text/html": [],
      "text/plain": [
       "<IPython.core.display.HTML object>"
      ]
     },
     "metadata": {
      "tags": []
     },
     "output_type": "display_data"
    },
    {
     "data": {
      "text/html": [],
      "text/plain": [
       "<IPython.core.display.HTML object>"
      ]
     },
     "metadata": {
      "tags": []
     },
     "output_type": "display_data"
    },
    {
     "data": {
      "text/html": [],
      "text/plain": [
       "<IPython.core.display.HTML object>"
      ]
     },
     "metadata": {
      "tags": []
     },
     "output_type": "display_data"
    },
    {
     "data": {
      "text/html": [],
      "text/plain": [
       "<IPython.core.display.HTML object>"
      ]
     },
     "metadata": {
      "tags": []
     },
     "output_type": "display_data"
    },
    {
     "data": {
      "text/html": [],
      "text/plain": [
       "<IPython.core.display.HTML object>"
      ]
     },
     "metadata": {
      "tags": []
     },
     "output_type": "display_data"
    },
    {
     "data": {
      "text/html": [],
      "text/plain": [
       "<IPython.core.display.HTML object>"
      ]
     },
     "metadata": {
      "tags": []
     },
     "output_type": "display_data"
    },
    {
     "data": {
      "text/html": [],
      "text/plain": [
       "<IPython.core.display.HTML object>"
      ]
     },
     "metadata": {
      "tags": []
     },
     "output_type": "display_data"
    },
    {
     "data": {
      "text/html": [],
      "text/plain": [
       "<IPython.core.display.HTML object>"
      ]
     },
     "metadata": {
      "tags": []
     },
     "output_type": "display_data"
    },
    {
     "data": {
      "text/html": [],
      "text/plain": [
       "<IPython.core.display.HTML object>"
      ]
     },
     "metadata": {
      "tags": []
     },
     "output_type": "display_data"
    },
    {
     "data": {
      "text/html": [],
      "text/plain": [
       "<IPython.core.display.HTML object>"
      ]
     },
     "metadata": {
      "tags": []
     },
     "output_type": "display_data"
    },
    {
     "data": {
      "text/html": [],
      "text/plain": [
       "<IPython.core.display.HTML object>"
      ]
     },
     "metadata": {
      "tags": []
     },
     "output_type": "display_data"
    },
    {
     "data": {
      "text/html": [],
      "text/plain": [
       "<IPython.core.display.HTML object>"
      ]
     },
     "metadata": {
      "tags": []
     },
     "output_type": "display_data"
    },
    {
     "data": {
      "text/html": [],
      "text/plain": [
       "<IPython.core.display.HTML object>"
      ]
     },
     "metadata": {
      "tags": []
     },
     "output_type": "display_data"
    },
    {
     "data": {
      "text/html": [],
      "text/plain": [
       "<IPython.core.display.HTML object>"
      ]
     },
     "metadata": {
      "tags": []
     },
     "output_type": "display_data"
    },
    {
     "data": {
      "text/html": [],
      "text/plain": [
       "<IPython.core.display.HTML object>"
      ]
     },
     "metadata": {
      "tags": []
     },
     "output_type": "display_data"
    },
    {
     "data": {
      "text/html": [],
      "text/plain": [
       "<IPython.core.display.HTML object>"
      ]
     },
     "metadata": {
      "tags": []
     },
     "output_type": "display_data"
    },
    {
     "data": {
      "text/html": [],
      "text/plain": [
       "<IPython.core.display.HTML object>"
      ]
     },
     "metadata": {
      "tags": []
     },
     "output_type": "display_data"
    },
    {
     "data": {
      "text/html": [],
      "text/plain": [
       "<IPython.core.display.HTML object>"
      ]
     },
     "metadata": {
      "tags": []
     },
     "output_type": "display_data"
    },
    {
     "data": {
      "text/html": [],
      "text/plain": [
       "<IPython.core.display.HTML object>"
      ]
     },
     "metadata": {
      "tags": []
     },
     "output_type": "display_data"
    },
    {
     "data": {
      "text/html": [],
      "text/plain": [
       "<IPython.core.display.HTML object>"
      ]
     },
     "metadata": {
      "tags": []
     },
     "output_type": "display_data"
    },
    {
     "data": {
      "text/html": [],
      "text/plain": [
       "<IPython.core.display.HTML object>"
      ]
     },
     "metadata": {
      "tags": []
     },
     "output_type": "display_data"
    },
    {
     "data": {
      "text/html": [],
      "text/plain": [
       "<IPython.core.display.HTML object>"
      ]
     },
     "metadata": {
      "tags": []
     },
     "output_type": "display_data"
    },
    {
     "data": {
      "text/html": [],
      "text/plain": [
       "<IPython.core.display.HTML object>"
      ]
     },
     "metadata": {
      "tags": []
     },
     "output_type": "display_data"
    },
    {
     "data": {
      "text/html": [],
      "text/plain": [
       "<IPython.core.display.HTML object>"
      ]
     },
     "metadata": {
      "tags": []
     },
     "output_type": "display_data"
    },
    {
     "data": {
      "text/html": [],
      "text/plain": [
       "<IPython.core.display.HTML object>"
      ]
     },
     "metadata": {
      "tags": []
     },
     "output_type": "display_data"
    },
    {
     "data": {
      "text/html": [],
      "text/plain": [
       "<IPython.core.display.HTML object>"
      ]
     },
     "metadata": {
      "tags": []
     },
     "output_type": "display_data"
    },
    {
     "data": {
      "text/html": [],
      "text/plain": [
       "<IPython.core.display.HTML object>"
      ]
     },
     "metadata": {
      "tags": []
     },
     "output_type": "display_data"
    },
    {
     "data": {
      "text/html": [],
      "text/plain": [
       "<IPython.core.display.HTML object>"
      ]
     },
     "metadata": {
      "tags": []
     },
     "output_type": "display_data"
    },
    {
     "data": {
      "text/html": [],
      "text/plain": [
       "<IPython.core.display.HTML object>"
      ]
     },
     "metadata": {
      "tags": []
     },
     "output_type": "display_data"
    },
    {
     "data": {
      "text/html": [],
      "text/plain": [
       "<IPython.core.display.HTML object>"
      ]
     },
     "metadata": {
      "tags": []
     },
     "output_type": "display_data"
    },
    {
     "data": {
      "text/html": [],
      "text/plain": [
       "<IPython.core.display.HTML object>"
      ]
     },
     "metadata": {
      "tags": []
     },
     "output_type": "display_data"
    },
    {
     "data": {
      "text/html": [],
      "text/plain": [
       "<IPython.core.display.HTML object>"
      ]
     },
     "metadata": {
      "tags": []
     },
     "output_type": "display_data"
    },
    {
     "data": {
      "text/html": [],
      "text/plain": [
       "<IPython.core.display.HTML object>"
      ]
     },
     "metadata": {
      "tags": []
     },
     "output_type": "display_data"
    },
    {
     "data": {
      "text/html": [],
      "text/plain": [
       "<IPython.core.display.HTML object>"
      ]
     },
     "metadata": {
      "tags": []
     },
     "output_type": "display_data"
    },
    {
     "data": {
      "text/html": [],
      "text/plain": [
       "<IPython.core.display.HTML object>"
      ]
     },
     "metadata": {
      "tags": []
     },
     "output_type": "display_data"
    },
    {
     "data": {
      "text/html": [],
      "text/plain": [
       "<IPython.core.display.HTML object>"
      ]
     },
     "metadata": {
      "tags": []
     },
     "output_type": "display_data"
    },
    {
     "data": {
      "text/html": [],
      "text/plain": [
       "<IPython.core.display.HTML object>"
      ]
     },
     "metadata": {
      "tags": []
     },
     "output_type": "display_data"
    },
    {
     "data": {
      "text/html": [],
      "text/plain": [
       "<IPython.core.display.HTML object>"
      ]
     },
     "metadata": {
      "tags": []
     },
     "output_type": "display_data"
    },
    {
     "data": {
      "text/html": [],
      "text/plain": [
       "<IPython.core.display.HTML object>"
      ]
     },
     "metadata": {
      "tags": []
     },
     "output_type": "display_data"
    },
    {
     "data": {
      "text/html": [],
      "text/plain": [
       "<IPython.core.display.HTML object>"
      ]
     },
     "metadata": {
      "tags": []
     },
     "output_type": "display_data"
    },
    {
     "data": {
      "text/html": [],
      "text/plain": [
       "<IPython.core.display.HTML object>"
      ]
     },
     "metadata": {
      "tags": []
     },
     "output_type": "display_data"
    },
    {
     "data": {
      "text/html": [],
      "text/plain": [
       "<IPython.core.display.HTML object>"
      ]
     },
     "metadata": {
      "tags": []
     },
     "output_type": "display_data"
    },
    {
     "data": {
      "text/html": [],
      "text/plain": [
       "<IPython.core.display.HTML object>"
      ]
     },
     "metadata": {
      "tags": []
     },
     "output_type": "display_data"
    },
    {
     "data": {
      "text/html": [],
      "text/plain": [
       "<IPython.core.display.HTML object>"
      ]
     },
     "metadata": {
      "tags": []
     },
     "output_type": "display_data"
    },
    {
     "data": {
      "text/html": [],
      "text/plain": [
       "<IPython.core.display.HTML object>"
      ]
     },
     "metadata": {
      "tags": []
     },
     "output_type": "display_data"
    },
    {
     "data": {
      "text/html": [],
      "text/plain": [
       "<IPython.core.display.HTML object>"
      ]
     },
     "metadata": {
      "tags": []
     },
     "output_type": "display_data"
    },
    {
     "data": {
      "text/html": [],
      "text/plain": [
       "<IPython.core.display.HTML object>"
      ]
     },
     "metadata": {
      "tags": []
     },
     "output_type": "display_data"
    },
    {
     "data": {
      "text/html": [],
      "text/plain": [
       "<IPython.core.display.HTML object>"
      ]
     },
     "metadata": {
      "tags": []
     },
     "output_type": "display_data"
    },
    {
     "data": {
      "text/html": [],
      "text/plain": [
       "<IPython.core.display.HTML object>"
      ]
     },
     "metadata": {
      "tags": []
     },
     "output_type": "display_data"
    },
    {
     "data": {
      "text/html": [],
      "text/plain": [
       "<IPython.core.display.HTML object>"
      ]
     },
     "metadata": {
      "tags": []
     },
     "output_type": "display_data"
    },
    {
     "data": {
      "text/html": [],
      "text/plain": [
       "<IPython.core.display.HTML object>"
      ]
     },
     "metadata": {
      "tags": []
     },
     "output_type": "display_data"
    },
    {
     "data": {
      "text/html": [],
      "text/plain": [
       "<IPython.core.display.HTML object>"
      ]
     },
     "metadata": {
      "tags": []
     },
     "output_type": "display_data"
    },
    {
     "data": {
      "text/html": [],
      "text/plain": [
       "<IPython.core.display.HTML object>"
      ]
     },
     "metadata": {
      "tags": []
     },
     "output_type": "display_data"
    },
    {
     "data": {
      "text/html": [],
      "text/plain": [
       "<IPython.core.display.HTML object>"
      ]
     },
     "metadata": {
      "tags": []
     },
     "output_type": "display_data"
    },
    {
     "data": {
      "text/html": [],
      "text/plain": [
       "<IPython.core.display.HTML object>"
      ]
     },
     "metadata": {
      "tags": []
     },
     "output_type": "display_data"
    },
    {
     "data": {
      "text/html": [],
      "text/plain": [
       "<IPython.core.display.HTML object>"
      ]
     },
     "metadata": {
      "tags": []
     },
     "output_type": "display_data"
    },
    {
     "data": {
      "text/html": [],
      "text/plain": [
       "<IPython.core.display.HTML object>"
      ]
     },
     "metadata": {
      "tags": []
     },
     "output_type": "display_data"
    },
    {
     "data": {
      "text/html": [],
      "text/plain": [
       "<IPython.core.display.HTML object>"
      ]
     },
     "metadata": {
      "tags": []
     },
     "output_type": "display_data"
    },
    {
     "data": {
      "text/html": [],
      "text/plain": [
       "<IPython.core.display.HTML object>"
      ]
     },
     "metadata": {
      "tags": []
     },
     "output_type": "display_data"
    },
    {
     "data": {
      "text/html": [],
      "text/plain": [
       "<IPython.core.display.HTML object>"
      ]
     },
     "metadata": {
      "tags": []
     },
     "output_type": "display_data"
    },
    {
     "data": {
      "text/html": [],
      "text/plain": [
       "<IPython.core.display.HTML object>"
      ]
     },
     "metadata": {
      "tags": []
     },
     "output_type": "display_data"
    },
    {
     "data": {
      "text/html": [],
      "text/plain": [
       "<IPython.core.display.HTML object>"
      ]
     },
     "metadata": {
      "tags": []
     },
     "output_type": "display_data"
    },
    {
     "data": {
      "text/html": [],
      "text/plain": [
       "<IPython.core.display.HTML object>"
      ]
     },
     "metadata": {
      "tags": []
     },
     "output_type": "display_data"
    },
    {
     "data": {
      "text/html": [],
      "text/plain": [
       "<IPython.core.display.HTML object>"
      ]
     },
     "metadata": {
      "tags": []
     },
     "output_type": "display_data"
    },
    {
     "data": {
      "text/html": [],
      "text/plain": [
       "<IPython.core.display.HTML object>"
      ]
     },
     "metadata": {
      "tags": []
     },
     "output_type": "display_data"
    },
    {
     "data": {
      "text/html": [],
      "text/plain": [
       "<IPython.core.display.HTML object>"
      ]
     },
     "metadata": {
      "tags": []
     },
     "output_type": "display_data"
    },
    {
     "data": {
      "text/html": [],
      "text/plain": [
       "<IPython.core.display.HTML object>"
      ]
     },
     "metadata": {
      "tags": []
     },
     "output_type": "display_data"
    },
    {
     "data": {
      "text/html": [],
      "text/plain": [
       "<IPython.core.display.HTML object>"
      ]
     },
     "metadata": {
      "tags": []
     },
     "output_type": "display_data"
    },
    {
     "data": {
      "text/html": [],
      "text/plain": [
       "<IPython.core.display.HTML object>"
      ]
     },
     "metadata": {
      "tags": []
     },
     "output_type": "display_data"
    },
    {
     "data": {
      "text/html": [],
      "text/plain": [
       "<IPython.core.display.HTML object>"
      ]
     },
     "metadata": {
      "tags": []
     },
     "output_type": "display_data"
    },
    {
     "data": {
      "text/html": [],
      "text/plain": [
       "<IPython.core.display.HTML object>"
      ]
     },
     "metadata": {
      "tags": []
     },
     "output_type": "display_data"
    },
    {
     "data": {
      "text/html": [],
      "text/plain": [
       "<IPython.core.display.HTML object>"
      ]
     },
     "metadata": {
      "tags": []
     },
     "output_type": "display_data"
    },
    {
     "data": {
      "text/html": [],
      "text/plain": [
       "<IPython.core.display.HTML object>"
      ]
     },
     "metadata": {
      "tags": []
     },
     "output_type": "display_data"
    },
    {
     "data": {
      "text/html": [],
      "text/plain": [
       "<IPython.core.display.HTML object>"
      ]
     },
     "metadata": {
      "tags": []
     },
     "output_type": "display_data"
    },
    {
     "data": {
      "text/html": [],
      "text/plain": [
       "<IPython.core.display.HTML object>"
      ]
     },
     "metadata": {
      "tags": []
     },
     "output_type": "display_data"
    },
    {
     "data": {
      "text/html": [],
      "text/plain": [
       "<IPython.core.display.HTML object>"
      ]
     },
     "metadata": {
      "tags": []
     },
     "output_type": "display_data"
    },
    {
     "data": {
      "text/html": [],
      "text/plain": [
       "<IPython.core.display.HTML object>"
      ]
     },
     "metadata": {
      "tags": []
     },
     "output_type": "display_data"
    },
    {
     "data": {
      "text/html": [],
      "text/plain": [
       "<IPython.core.display.HTML object>"
      ]
     },
     "metadata": {
      "tags": []
     },
     "output_type": "display_data"
    },
    {
     "data": {
      "text/html": [],
      "text/plain": [
       "<IPython.core.display.HTML object>"
      ]
     },
     "metadata": {
      "tags": []
     },
     "output_type": "display_data"
    },
    {
     "data": {
      "text/html": [],
      "text/plain": [
       "<IPython.core.display.HTML object>"
      ]
     },
     "metadata": {
      "tags": []
     },
     "output_type": "display_data"
    },
    {
     "data": {
      "text/html": [],
      "text/plain": [
       "<IPython.core.display.HTML object>"
      ]
     },
     "metadata": {
      "tags": []
     },
     "output_type": "display_data"
    },
    {
     "data": {
      "text/html": [],
      "text/plain": [
       "<IPython.core.display.HTML object>"
      ]
     },
     "metadata": {
      "tags": []
     },
     "output_type": "display_data"
    },
    {
     "data": {
      "text/html": [],
      "text/plain": [
       "<IPython.core.display.HTML object>"
      ]
     },
     "metadata": {
      "tags": []
     },
     "output_type": "display_data"
    },
    {
     "data": {
      "text/html": [],
      "text/plain": [
       "<IPython.core.display.HTML object>"
      ]
     },
     "metadata": {
      "tags": []
     },
     "output_type": "display_data"
    },
    {
     "data": {
      "text/html": [],
      "text/plain": [
       "<IPython.core.display.HTML object>"
      ]
     },
     "metadata": {
      "tags": []
     },
     "output_type": "display_data"
    },
    {
     "data": {
      "text/html": [],
      "text/plain": [
       "<IPython.core.display.HTML object>"
      ]
     },
     "metadata": {
      "tags": []
     },
     "output_type": "display_data"
    },
    {
     "data": {
      "text/html": [],
      "text/plain": [
       "<IPython.core.display.HTML object>"
      ]
     },
     "metadata": {
      "tags": []
     },
     "output_type": "display_data"
    },
    {
     "data": {
      "text/html": [],
      "text/plain": [
       "<IPython.core.display.HTML object>"
      ]
     },
     "metadata": {
      "tags": []
     },
     "output_type": "display_data"
    },
    {
     "name": "stdout",
     "output_type": "stream",
     "text": [
      "\n"
     ]
    }
   ],
   "source": [
    "model_acc = {}\n",
    "for m_path in tqdm(list(models_path.glob(\"*.pkl\"))):\n",
    "  learner = load_learner(m_path)\n",
    "  res = [learner.predict(line)[0] for line in df_val[\"img_face_path\"]]\n",
    "\n",
    "  df_val[\"Ours\"] = res\n",
    "  df_val[\"Ours\"] = df_val[\"Ours\"].replace(\"asian\",\"Asian\")\n",
    "  df_val[\"Ours\"] = df_val[\"Ours\"].replace(\"latino\",\"White\")\n",
    "  df_val[\"Ours\"] = df_val[\"Ours\"].replace(\"hispanic\",\"White\")\n",
    "  df_val[\"Ours\"] = df_val[\"Ours\"].replace(\"black\",\"Black\")\n",
    "  df_val[\"Ours\"] = df_val[\"Ours\"].replace(\"white\",\"White\")\n",
    "  df_val[\"Ours\"] = df_val[\"Ours\"].replace(\"african\",\"Black\")\n",
    "  df_val[\"Ours\"] = df_val[\"Ours\"].replace(\"asian\",\"Asian\")\n",
    "  df_val[\"Ours\"] = df_val[\"Ours\"].replace(\"indian\",\"Indian\")\n",
    "\n",
    "  acc = sum(df_val[\"Ours\"] == df_val[\"label2\"]) / len(df_val)\n",
    "  model_acc[m_path.stem] = acc\n"
   ]
  },
  {
   "cell_type": "code",
   "execution_count": null,
   "metadata": {
    "colab": {
     "base_uri": "https://localhost:8080/"
    },
    "id": "Qqbgq5u93eI4",
    "outputId": "1942c352-dd53-402b-8d44-bcd999dcba4e"
   },
   "outputs": [
    {
     "data": {
      "text/plain": [
       "{'ethni_081f1_v7': 0.7,\n",
       " 'ethni_0825f1_v6': 0.86,\n",
       " 'ethni_083f_unfrezee_V9': 0.84,\n",
       " 'ethni_0857f1_v5': 0.82,\n",
       " 'ethni_0858f_unfrezee_V9': 0.86,\n",
       " 'ethni_085b_96unfrezee': 0.78,\n",
       " 'ethni_085b_96unfrezee_V6': 0.84,\n",
       " 'ethni_085b_unfrezee': 0.68,\n",
       " 'ethni_085b_unfrezee_V6': 0.84,\n",
       " 'ethni_086f1': 0.84,\n",
       " 'ethni_088': 0.48,\n",
       " 'ethni_088f1': 0.76,\n",
       " 'ethni_089': 0.22,\n",
       " 'ethni_08f1_v7': 0.7,\n",
       " 'ethni_09': 0.48,\n",
       " 'ethni_090': 0.48,\n",
       " 'ethni_091': 0.48,\n",
       " 'ethni_09136': 0.5,\n",
       " 'ethni_09167': 0.56,\n",
       " 'ethni_092': 0.6,\n",
       " 'ethni_09217': 0.56,\n",
       " 'ethni_0929b': 0.68,\n",
       " 'ethni_092b': 0.78,\n",
       " 'ethni_0933': 0.72,\n",
       " 'ethni_new_v8_0.82': 0.8,\n",
       " 'ethni_new_v8_082': 0.8,\n",
       " 'ethni_new_v9_08': 0.78}"
      ]
     },
     "execution_count": 42,
     "metadata": {
      "tags": []
     },
     "output_type": "execute_result"
    }
   ],
   "source": [
    "morgan_1"
   ]
  },
  {
   "cell_type": "code",
   "execution_count": null,
   "metadata": {
    "colab": {
     "base_uri": "https://localhost:8080/"
    },
    "id": "dSEdl-zy6luN",
    "outputId": "3fd566c0-5252-43d3-d234-0bce7bc7c50e"
   },
   "outputs": [
    {
     "name": "stdout",
     "output_type": "stream",
     "text": [
      "/content\n"
     ]
    }
   ],
   "source": [
    "%cd ../"
   ]
  },
  {
   "cell_type": "code",
   "execution_count": null,
   "metadata": {
    "id": "My2kIeKv9Sen"
   },
   "outputs": [],
   "source": [
    "learner = load_learner(models_path/\"ethni_0825f1_v6.pkl\")"
   ]
  },
  {
   "cell_type": "code",
   "execution_count": null,
   "metadata": {
    "colab": {
     "base_uri": "https://localhost:8080/",
     "height": 1000
    },
    "id": "cso3CBmL5uuz",
    "outputId": "2d146fea-ea86-4af8-f43b-ac4f2d105864"
   },
   "outputs": [
    {
     "data": {
      "text/html": [],
      "text/plain": [
       "<IPython.core.display.HTML object>"
      ]
     },
     "metadata": {
      "tags": []
     },
     "output_type": "display_data"
    },
    {
     "data": {
      "text/plain": [
       "('african',\n",
       " tensor(0),\n",
       " tensor([9.9850e-01, 8.2509e-04, 3.7196e-04, 2.7198e-04, 3.4039e-05, 1.8740e-12,\n",
       "         3.1152e-13, 4.8893e-13, 2.8926e-13, 3.3053e-13, 1.6542e-13, 2.6309e-13,\n",
       "         5.9405e-13, 9.8431e-13, 1.8255e-13, 9.5037e-14, 8.8576e-13, 5.0107e-13,\n",
       "         7.0514e-13, 2.7360e-13, 2.5486e-13, 1.4654e-13, 3.9549e-13, 1.4269e-13,\n",
       "         3.1694e-13, 3.5812e-13, 1.1516e-13, 5.8486e-13, 3.8600e-13, 2.4901e-13,\n",
       "         4.0515e-13, 3.2959e-13, 1.0037e-12, 1.7726e-13, 2.2781e-13, 2.6645e-13,\n",
       "         8.0428e-14, 2.5057e-13, 2.6693e-13, 3.3582e-13, 1.1622e-13, 2.6980e-13,\n",
       "         1.2830e-13, 2.8470e-13, 1.7586e-13, 4.9225e-13, 7.9886e-14, 1.2558e-13,\n",
       "         3.5640e-13, 4.1257e-13, 1.0833e-13, 1.5090e-13, 5.5702e-13, 1.8019e-13,\n",
       "         1.3560e-13, 1.3065e-13, 3.2682e-13, 1.4807e-13, 1.0914e-12, 2.2884e-13,\n",
       "         2.4873e-13, 2.1076e-13, 4.9228e-13, 4.3229e-13, 7.1763e-14, 8.9648e-14,\n",
       "         3.9819e-13, 4.5198e-13, 7.7863e-13, 5.3997e-13, 3.4032e-13, 4.1117e-13,\n",
       "         2.6863e-13, 7.2799e-13, 7.3307e-13, 2.1149e-13, 5.5439e-13, 1.9571e-13,\n",
       "         2.2457e-13, 6.2858e-13, 4.2940e-13, 1.3283e-13, 3.4532e-13, 4.4489e-13,\n",
       "         2.0974e-13, 3.3040e-13, 2.2094e-13, 2.9117e-13, 1.3374e-13, 1.0138e-12,\n",
       "         1.8718e-13, 1.2378e-13, 2.9824e-13, 1.2492e-13, 7.3260e-13, 3.0317e-13,\n",
       "         3.6092e-13, 3.3565e-13, 5.3854e-13, 2.6663e-13, 1.6080e-13, 1.7413e-13,\n",
       "         6.7448e-14, 2.0477e-13, 3.5161e-13, 7.1435e-13, 2.3325e-13, 2.3944e-13,\n",
       "         6.2506e-14, 2.0244e-13, 7.0169e-14, 2.3812e-13, 6.3622e-13, 2.1915e-13,\n",
       "         7.1644e-13, 6.9690e-13, 6.4072e-13, 1.7521e-13, 1.9890e-13, 4.5809e-14,\n",
       "         3.4019e-13, 3.2696e-13, 5.7343e-13, 3.6492e-13, 3.8887e-13, 1.8598e-13,\n",
       "         9.9818e-13, 1.4987e-13, 2.0398e-13, 2.4939e-13, 3.8536e-13, 2.9910e-13,\n",
       "         1.2919e-13, 2.8070e-13, 2.5042e-13, 1.0196e-12, 3.0715e-13, 1.0209e-13,\n",
       "         2.9802e-13, 3.3789e-13, 1.4806e-13, 2.8360e-13, 2.0897e-13, 2.1295e-13,\n",
       "         1.9787e-13, 3.4538e-13, 1.9610e-13, 1.9733e-13, 1.6332e-13, 1.8766e-13,\n",
       "         1.0380e-13, 2.0309e-13, 2.2655e-13, 1.9358e-13, 3.3401e-13, 1.9930e-13,\n",
       "         2.3533e-13, 4.3225e-13, 1.1052e-13, 7.0779e-13, 1.7162e-13, 3.2412e-13,\n",
       "         7.8255e-14, 9.0733e-13, 2.0907e-13, 1.1257e-13, 5.0238e-13, 4.9011e-13,\n",
       "         4.7821e-13, 1.3432e-13, 8.9490e-13, 2.5648e-13, 1.7437e-13, 2.6529e-13,\n",
       "         6.4471e-13, 2.7174e-13, 9.9636e-13, 9.6529e-13, 2.4806e-13, 4.8085e-13,\n",
       "         1.1613e-12, 1.6394e-13, 5.2561e-13, 1.8860e-13, 2.3584e-13, 3.5815e-13,\n",
       "         8.8103e-13, 6.7433e-13, 3.0018e-13, 4.8223e-13, 4.1401e-13, 3.2918e-13,\n",
       "         1.6501e-13, 1.3415e-13, 3.2290e-13, 4.7381e-13, 1.4430e-13, 1.5328e-13,\n",
       "         2.2492e-13, 6.8229e-13, 2.5196e-13, 1.0678e-13, 1.8114e-13, 2.5647e-13,\n",
       "         1.3721e-13, 1.4050e-13, 1.7201e-13, 4.4629e-13, 2.5966e-13, 1.1739e-13,\n",
       "         6.3529e-13, 1.3268e-12, 1.1075e-12, 5.0452e-13, 4.0747e-13, 1.8205e-13,\n",
       "         4.4090e-13, 2.0625e-13, 2.6811e-13, 3.6528e-13, 1.5063e-13, 1.9551e-13,\n",
       "         2.4887e-13, 1.4136e-13, 3.2236e-13, 4.7977e-13, 1.4564e-13, 1.4669e-13,\n",
       "         1.1876e-12, 1.9046e-13, 2.7891e-13, 8.8699e-13, 5.3787e-13, 3.4985e-13,\n",
       "         1.2331e-13, 5.2608e-13, 1.4111e-13, 1.6628e-13, 2.4081e-13, 1.5017e-13,\n",
       "         2.1028e-13, 9.7692e-14, 2.0827e-13, 1.0907e-13, 4.7822e-13, 2.7099e-13,\n",
       "         2.6483e-13, 3.3202e-13, 2.1909e-13, 3.4330e-13, 6.4288e-14, 6.6387e-13,\n",
       "         2.6653e-13, 1.5497e-12, 7.8780e-13, 3.1010e-13, 3.5705e-13, 3.5353e-13,\n",
       "         2.9643e-13, 5.3550e-13, 1.9243e-12, 1.6640e-13, 3.1852e-13, 1.2166e-13,\n",
       "         1.4207e-13, 1.8110e-13, 2.7160e-13, 7.3036e-13, 2.0655e-13, 5.7428e-13,\n",
       "         3.4527e-13, 9.9555e-14, 1.5290e-13, 4.4188e-13, 9.2416e-14, 3.0455e-13,\n",
       "         4.8755e-13, 4.1587e-13, 2.5011e-13, 5.3337e-13, 3.1966e-13, 2.3705e-13,\n",
       "         2.5955e-13, 2.0598e-13, 2.7670e-13, 2.5673e-13, 8.8966e-13, 4.3453e-13,\n",
       "         2.2304e-13, 6.4070e-13, 4.1008e-13, 3.1622e-13, 5.3374e-13, 2.3512e-13,\n",
       "         2.4740e-13, 3.3428e-13, 1.1041e-13, 3.9607e-13, 5.3763e-13, 3.3713e-13,\n",
       "         3.8093e-13, 1.3002e-13, 1.0041e-13, 3.1407e-13, 8.9431e-13, 1.8836e-13,\n",
       "         6.4781e-13, 8.4675e-13, 5.9289e-13, 2.6350e-13, 5.0461e-13, 2.0095e-13,\n",
       "         1.8311e-12, 2.8210e-13, 1.9950e-13, 2.5136e-13, 1.4171e-13, 4.8715e-13,\n",
       "         9.8060e-13, 7.5793e-14, 2.1219e-13, 1.8360e-13, 8.5261e-13, 4.6938e-13,\n",
       "         3.6178e-13, 5.7967e-13, 1.9371e-13, 1.5771e-12, 6.6229e-13, 7.2820e-13,\n",
       "         7.3223e-13, 1.8003e-13, 1.6306e-13, 2.2780e-13, 5.0203e-13, 1.5474e-13,\n",
       "         2.3301e-13, 2.1250e-13, 3.5624e-13, 2.8781e-13, 1.1328e-13, 5.9643e-13,\n",
       "         7.5376e-14, 3.6284e-13, 3.4771e-13, 2.7938e-13, 3.3406e-13, 3.8615e-13,\n",
       "         2.3769e-13, 8.8618e-13, 1.6969e-12, 1.5347e-13, 2.5528e-13, 1.0754e-12,\n",
       "         2.7773e-13, 4.4059e-13, 1.6995e-13, 3.4849e-13, 1.9686e-13, 1.3924e-13,\n",
       "         3.5783e-13, 2.0082e-13, 2.3233e-13, 2.3985e-13, 3.7112e-13, 7.3533e-14,\n",
       "         2.8901e-13, 9.8480e-14, 2.2836e-13, 1.8962e-13, 7.3868e-13, 5.1281e-13,\n",
       "         5.5464e-13, 3.9849e-13, 4.0942e-13, 1.5686e-13, 1.5192e-13, 5.7325e-13,\n",
       "         1.0578e-13, 3.8574e-13, 1.9180e-13, 2.8204e-13, 3.7163e-13, 2.4223e-13,\n",
       "         5.9277e-13, 2.0704e-13, 6.6510e-13, 2.0641e-13, 1.4136e-13, 2.7582e-13,\n",
       "         1.4215e-13, 3.6643e-13, 4.7704e-13, 2.1577e-13, 5.7997e-13, 2.3838e-13,\n",
       "         4.5015e-13, 5.7433e-13, 1.5123e-13, 1.3128e-13, 1.4511e-13, 3.5583e-13,\n",
       "         1.5163e-13, 2.9270e-13, 1.7515e-13, 5.5626e-13, 3.5181e-13, 3.7407e-13,\n",
       "         6.5833e-13, 2.5305e-13, 5.4867e-13, 4.4681e-14, 2.3150e-13, 3.2117e-13,\n",
       "         8.6235e-13, 5.1330e-13, 9.8396e-14, 2.7461e-13, 1.4449e-12, 1.7351e-13,\n",
       "         5.0274e-13, 3.6346e-13, 2.2140e-13, 5.1829e-13, 1.0909e-13, 1.5317e-13,\n",
       "         1.3038e-13, 1.8686e-13, 1.1124e-13, 1.5896e-13, 3.7908e-13, 3.0710e-13,\n",
       "         1.4704e-13, 1.5534e-13, 2.4717e-13, 5.0609e-13, 5.4434e-13, 1.2327e-13,\n",
       "         2.2949e-13, 2.6159e-13, 4.1974e-13, 2.2361e-13, 3.8354e-13, 3.7655e-13,\n",
       "         1.8965e-13, 1.3933e-13, 7.1918e-13, 7.4330e-13, 1.7770e-13, 1.3544e-13,\n",
       "         1.8690e-13, 3.2940e-13, 7.0604e-14, 1.2743e-13, 9.3647e-13, 5.5402e-13,\n",
       "         2.9795e-13, 4.3042e-13, 2.8647e-13, 2.6146e-13, 2.9331e-13, 5.9120e-13,\n",
       "         1.9849e-13, 7.9381e-14, 1.5660e-13, 1.3711e-13, 1.1194e-12, 6.8180e-13,\n",
       "         6.0261e-13, 4.2879e-13, 3.6591e-13, 1.3904e-13, 3.2010e-13, 2.1122e-13,\n",
       "         6.1783e-13, 3.2664e-13, 1.6835e-13, 2.4565e-13, 1.6728e-13, 3.2535e-13,\n",
       "         2.1571e-13, 2.5665e-13, 2.7183e-13, 2.7019e-13, 4.4145e-13, 1.0140e-12,\n",
       "         1.5785e-13, 1.5074e-13, 1.7866e-13, 1.7428e-13, 2.2150e-13, 2.1195e-13,\n",
       "         1.2217e-12, 2.5200e-13, 3.1503e-13, 2.0575e-13, 2.7921e-13, 2.7433e-13,\n",
       "         5.0103e-13, 1.8883e-13, 4.6471e-13, 6.5383e-13, 1.6140e-13, 1.4929e-13,\n",
       "         1.4118e-13, 3.2487e-13, 4.2425e-13, 1.1754e-13, 1.5339e-13, 1.6036e-13,\n",
       "         4.5640e-13, 2.3873e-13, 1.1272e-12, 3.1740e-13, 3.2974e-13, 2.6799e-13,\n",
       "         2.8670e-13, 1.4693e-13, 1.7139e-13, 3.4300e-13, 4.6525e-13, 1.3410e-12,\n",
       "         4.6939e-13, 3.5445e-13, 3.6649e-13, 3.0744e-13, 3.5131e-13, 2.8717e-13,\n",
       "         2.9865e-13, 2.2938e-13, 5.0475e-13, 5.7560e-13, 2.3938e-13, 2.4655e-13,\n",
       "         9.8904e-14, 3.5912e-13, 4.5236e-13, 1.5703e-13, 5.6104e-13, 4.7511e-13,\n",
       "         1.0348e-12, 3.4814e-13, 3.5887e-13, 4.4125e-13, 2.2792e-13, 1.0196e-12,\n",
       "         1.2698e-13, 6.1247e-13, 2.9155e-13, 4.1583e-13, 3.4787e-13, 1.2668e-13,\n",
       "         6.7416e-13, 1.7051e-13, 6.1089e-13, 7.1524e-13, 2.5185e-13, 7.9979e-13,\n",
       "         1.3886e-13, 2.6739e-13, 2.6809e-13, 7.8357e-14, 9.5573e-14, 2.2973e-13,\n",
       "         2.1513e-13, 9.0744e-14, 3.0265e-13, 4.4565e-13, 2.7779e-13, 4.9844e-13,\n",
       "         3.8203e-13, 8.0899e-13, 5.2217e-13, 3.1986e-13, 2.6443e-13, 2.3150e-13,\n",
       "         8.2258e-13, 1.1160e-13, 4.7907e-13, 3.5503e-13, 2.0871e-13, 1.8548e-13,\n",
       "         4.6274e-13, 1.5068e-13, 2.1077e-13, 6.1335e-13, 2.1823e-13, 6.3871e-13,\n",
       "         1.9800e-13, 3.5810e-13, 1.1835e-13, 3.7994e-13, 3.3541e-13, 4.0047e-13,\n",
       "         4.9780e-14, 2.4466e-13, 6.9965e-13, 3.3845e-13, 2.2498e-13, 9.1168e-14,\n",
       "         1.7498e-13, 6.4089e-13, 2.6283e-13, 1.3266e-13, 2.5562e-13, 8.8382e-13,\n",
       "         2.8692e-13, 1.7331e-13, 4.4503e-13, 2.6872e-13, 5.3854e-13, 1.6067e-13,\n",
       "         5.5556e-13, 2.8145e-13, 3.1936e-13, 4.7341e-13, 1.0723e-13, 2.6175e-13,\n",
       "         3.3993e-13, 1.6501e-13, 1.0005e-13, 5.1440e-13, 4.5385e-13, 3.5041e-13,\n",
       "         7.5135e-13, 3.6950e-13, 1.4529e-13, 1.3741e-12, 3.9989e-13, 7.4943e-13,\n",
       "         3.5886e-13, 3.8396e-13, 2.2652e-13, 5.0832e-13, 1.6215e-13, 1.6750e-13,\n",
       "         5.1836e-13, 2.6379e-13, 2.2467e-13, 2.2964e-13, 1.8455e-13, 2.4714e-13,\n",
       "         2.1053e-13, 1.4444e-13, 3.3389e-13, 4.7879e-13, 2.0775e-13, 5.7232e-13,\n",
       "         3.4523e-13, 2.0365e-13, 5.7030e-13, 1.0083e-13, 2.9565e-13, 9.5828e-14,\n",
       "         1.5264e-13, 5.9942e-13, 1.1668e-13, 5.3379e-13, 3.9413e-13, 4.1647e-13,\n",
       "         8.2776e-13, 2.3079e-13, 1.0168e-12, 2.4352e-13, 1.9326e-13, 1.9647e-13,\n",
       "         1.3581e-13, 8.2712e-13, 2.3350e-13, 8.0225e-13, 4.6737e-13, 2.4084e-13,\n",
       "         1.7509e-13, 3.9000e-13, 3.3304e-13, 1.3490e-13, 5.2074e-13, 2.6343e-13,\n",
       "         4.0755e-13, 4.5013e-13, 6.7895e-13, 5.6803e-13, 2.2617e-13, 4.9624e-13,\n",
       "         1.0499e-12, 6.9942e-13, 5.8538e-13, 2.2970e-13, 3.7561e-13, 3.7961e-13,\n",
       "         2.1754e-13, 1.8984e-13, 4.1232e-13, 3.4896e-13, 1.5708e-13, 3.0252e-13,\n",
       "         3.0537e-13, 1.6589e-13, 1.8634e-13, 2.6840e-13, 3.7508e-13, 3.4806e-13,\n",
       "         7.0295e-13, 2.5112e-13, 1.2907e-13, 1.3682e-12, 1.3537e-13, 5.7027e-13,\n",
       "         4.4327e-13, 1.3733e-12, 2.4908e-13, 1.7563e-13, 2.2149e-13, 3.1756e-13,\n",
       "         9.7420e-13, 7.6779e-14, 6.4655e-13, 1.8617e-13, 2.7117e-13, 8.5761e-14,\n",
       "         1.6173e-13, 7.1995e-13, 3.3204e-13, 3.9547e-13, 3.5997e-12, 1.2753e-13,\n",
       "         2.0812e-13, 1.1760e-13, 3.4153e-13, 7.7109e-13, 4.3746e-13, 9.7943e-14,\n",
       "         1.1460e-13, 3.8820e-13, 2.3147e-13, 3.2024e-13, 1.0210e-13, 3.2861e-13,\n",
       "         1.8799e-13, 2.4928e-13, 3.7284e-13, 2.6568e-13, 4.1983e-13, 1.0557e-12,\n",
       "         2.3887e-13, 6.5106e-13, 2.7409e-13, 1.5836e-13, 5.2713e-13, 3.6833e-13,\n",
       "         1.1204e-12, 1.6991e-13, 3.2620e-13, 2.2204e-13, 3.8188e-13, 6.9862e-14,\n",
       "         6.2215e-13, 2.0332e-13, 2.8918e-13, 2.9618e-13, 2.4763e-13, 6.1063e-13,\n",
       "         4.5090e-13, 1.6689e-13, 1.3417e-13, 3.6327e-13, 2.7547e-13, 3.3101e-12,\n",
       "         3.3552e-13, 1.5244e-13, 2.3945e-13, 3.0771e-13, 2.1107e-13, 2.5755e-13,\n",
       "         1.4711e-13, 2.4004e-13, 2.6069e-13, 1.6379e-13, 2.2678e-13, 2.5539e-13,\n",
       "         4.0395e-13, 1.2683e-13, 7.8909e-13, 1.6576e-13, 1.9283e-13, 3.2839e-13,\n",
       "         6.8344e-13, 2.5423e-13, 3.0636e-13, 3.1051e-13, 3.9541e-13, 2.6559e-13,\n",
       "         1.5270e-13, 2.3100e-13, 3.1357e-13, 1.8300e-13, 6.7512e-13, 5.1426e-13,\n",
       "         3.2382e-13, 2.7515e-13, 4.1850e-13, 8.5755e-14, 1.7534e-13, 5.2624e-13,\n",
       "         6.3666e-13, 2.8708e-13, 1.9496e-13, 4.8185e-13, 3.7103e-13, 1.1268e-12,\n",
       "         3.5910e-13, 2.0002e-12, 5.4252e-13, 2.2833e-13, 1.1243e-13, 1.5593e-13,\n",
       "         6.7926e-13, 3.4532e-13, 6.5484e-13, 8.1273e-13, 1.0531e-13, 2.4583e-13,\n",
       "         9.2659e-14, 1.5673e-13, 1.4921e-13, 1.2797e-13, 1.9374e-13, 1.5309e-13,\n",
       "         2.1604e-13, 1.6480e-13, 7.3965e-14, 1.6287e-13, 3.7504e-13, 2.3653e-13,\n",
       "         1.1952e-12, 3.8037e-13, 5.0000e-13, 1.2238e-13, 2.8366e-13, 3.4860e-13,\n",
       "         4.0769e-13, 2.5806e-13, 2.5147e-13, 1.1301e-13, 1.3438e-13, 5.7781e-13,\n",
       "         6.5414e-14, 1.6383e-13, 1.6524e-13, 3.8009e-13, 1.2614e-13, 1.8463e-13,\n",
       "         4.7127e-13, 7.5399e-13, 3.0846e-13, 2.0498e-13, 1.8614e-13, 1.2452e-13,\n",
       "         9.9123e-14, 1.5790e-13, 2.5808e-13, 2.3009e-13, 1.9726e-13, 7.3789e-14,\n",
       "         4.2518e-13, 6.3524e-13, 1.4370e-13, 3.3308e-13, 1.8917e-13, 1.0484e-13,\n",
       "         1.5117e-13, 3.7695e-13, 1.4893e-13, 1.2784e-13, 3.9722e-13, 2.0051e-13,\n",
       "         1.0279e-13, 8.3096e-14, 1.5936e-13, 2.3479e-13, 2.9234e-13, 2.8269e-13,\n",
       "         6.5264e-14, 2.4965e-13, 2.5342e-13, 6.6774e-13, 3.3813e-13, 2.2642e-13,\n",
       "         1.8048e-13, 2.2240e-13, 5.5178e-13, 3.5524e-13, 1.4944e-13, 5.3636e-13,\n",
       "         3.0281e-13, 1.8993e-13, 9.7786e-13, 2.2155e-12, 2.6121e-13, 2.8352e-13,\n",
       "         8.4585e-13, 4.1324e-13, 6.4172e-14, 1.2443e-12, 1.4984e-13, 1.0526e-12,\n",
       "         2.7796e-13, 4.4048e-13, 8.1285e-13, 1.0015e-13, 8.7732e-13, 2.9603e-13,\n",
       "         1.5649e-12, 2.5979e-13, 3.3466e-13, 1.0121e-13, 2.4721e-13, 1.8066e-13,\n",
       "         2.1339e-13, 3.0249e-13, 3.4674e-13, 5.2198e-13, 1.5188e-13, 2.4732e-13,\n",
       "         3.7022e-13, 1.8191e-13, 4.4508e-13, 4.4657e-13, 6.8728e-13, 3.0709e-13,\n",
       "         7.1936e-14, 1.6907e-13, 4.1011e-13, 2.5736e-13, 1.1531e-13, 6.7827e-13,\n",
       "         3.2461e-12, 2.0014e-13, 2.4195e-13, 2.9317e-13, 1.3847e-13, 3.6864e-13,\n",
       "         1.0916e-13, 5.2799e-13, 3.4739e-13, 2.8800e-13, 7.4167e-13, 3.5917e-13,\n",
       "         3.6630e-13, 6.8723e-13, 4.0634e-13, 1.9787e-13, 5.4295e-13, 2.4458e-13,\n",
       "         1.9301e-13, 3.7444e-13, 3.3298e-13, 2.0788e-13, 5.3738e-13, 4.9527e-13,\n",
       "         1.0774e-13, 9.9807e-14, 1.5664e-13, 1.5874e-13, 7.5617e-13, 3.6472e-13,\n",
       "         1.3332e-13, 5.8640e-13, 1.9904e-13, 1.2648e-13, 1.3644e-13, 1.0970e-13,\n",
       "         2.4350e-13, 1.0399e-13, 2.6533e-13, 1.0802e-13, 2.1297e-13, 1.2764e-13,\n",
       "         1.7463e-13, 3.6722e-13, 4.1759e-13, 1.3941e-13, 9.2862e-13, 3.1711e-13,\n",
       "         1.6634e-13, 1.1290e-13, 4.3054e-13, 3.0655e-13, 2.1832e-13, 1.6510e-12,\n",
       "         3.0439e-13, 2.1990e-13, 5.0841e-13, 6.0660e-13, 9.3454e-13, 5.1798e-13,\n",
       "         3.2859e-13, 2.2884e-13, 6.2665e-13, 3.6811e-13]))"
      ]
     },
     "execution_count": 75,
     "metadata": {
      "tags": []
     },
     "output_type": "execute_result"
    }
   ],
   "source": [
    "learner.predict(\"/content/dataset/Val/african/f4a0db679815478861fb54637ba1ba07e9-23-morgan-freeman.2x.h473.w710.jpg\")"
   ]
  },
  {
   "cell_type": "code",
   "execution_count": null,
   "metadata": {
    "colab": {
     "base_uri": "https://localhost:8080/"
    },
    "id": "6oCNPWVw6NYu",
    "outputId": "f9b83e92-3ff2-4636-c065-3ac80cea6a44"
   },
   "outputs": [
    {
     "name": "stdout",
     "output_type": "stream",
     "text": [
      "--2020-12-24 08:51:57--  https://i.guim.co.uk/img/media/8eec87781f44af5b562ae66c4545f95c97afca4f/0_91_3700_2220/master/3700.jpg?width=1200&height=1200&quality=85&auto=format&fit=crop&s=a5374611a91163312dcf3c24401aeb9c\n",
      "Resolving i.guim.co.uk (i.guim.co.uk)... 151.101.1.111, 151.101.65.111, 151.101.129.111, ...\n",
      "Connecting to i.guim.co.uk (i.guim.co.uk)|151.101.1.111|:443... connected.\n",
      "HTTP request sent, awaiting response... 200 OK\n",
      "Length: 183409 (179K) [image/jpeg]\n",
      "Saving to: ‘3700.jpg?width=1200&height=1200&quality=85&auto=format&fit=crop&s=a5374611a91163312dcf3c24401aeb9c’\n",
      "\n",
      "3700.jpg?width=1200 100%[===================>] 179.11K  --.-KB/s    in 0.02s   \n",
      "\n",
      "2020-12-24 08:51:57 (10.9 MB/s) - ‘3700.jpg?width=1200&height=1200&quality=85&auto=format&fit=crop&s=a5374611a91163312dcf3c24401aeb9c’ saved [183409/183409]\n",
      "\n"
     ]
    }
   ],
   "source": [
    "!wget 'https://i.guim.co.uk/img/media/8eec87781f44af5b562ae66c4545f95c97afca4f/0_91_3700_2220/master/3700.jpg?width=1200&height=1200&quality=85&auto=format&fit=crop&s=a5374611a91163312dcf3c24401aeb9c'\n",
    "# !wget https://i.pinimg.com/originals/b2/cb/e6/b2cbe60c73e15a9097e7a8d82e717861.jpg \n",
    "\n"
   ]
  },
  {
   "cell_type": "code",
   "execution_count": null,
   "metadata": {
    "colab": {
     "base_uri": "https://localhost:8080/"
    },
    "id": "60nMc6uy7eFq",
    "outputId": "1bf18e34-e6e6-45d7-b937-94a679ca89f0"
   },
   "outputs": [
    {
     "name": "stdout",
     "output_type": "stream",
     "text": [
      " b2cbe60c73e15a9097e7a8d82e717861.jpg\n",
      " b2cbe60c73e15a9097e7a8d82e717861.jpg.1\n",
      " dataset\n",
      " FairFace\n",
      " fair_face_models\n",
      " gdrive\n",
      "'images?q=tbn:ANd9GcRtcoH8G8Zdi3-q2LZmQvys0XFDFw3e4dQjXw'\n",
      "'images?q=tbn:ANd9GcRtcoH8G8Zdi3-q2LZmQvys0XFDFw3e4dQjXw.1'\n",
      "'images?q=tbn:ANd9GcRtcoH8G8Zdi3-q2LZmQvys0XFDFw3e4dQjXw.2'\n",
      "'images?q=tbn:ANd9GcRtcoH8G8Zdi3-q2LZmQvys0XFDFw3e4dQjXw&usqp=CAU'\n",
      " morgan2.jpg\n",
      " morgan.jpg\n",
      " sample_data\n"
     ]
    }
   ],
   "source": [
    "!ls "
   ]
  },
  {
   "cell_type": "code",
   "execution_count": null,
   "metadata": {
    "colab": {
     "base_uri": "https://localhost:8080/",
     "height": 117,
     "referenced_widgets": [
      "5c034f41ba0d4d8ca1eca01eab10a7d3",
      "80c9e67b372748cdb10e3cfe734c6821",
      "63a296d7487f496da712d37561d27d63",
      "cbd89996e5eb449cbb3608091ed814f6",
      "a8de7fcf109142fd94e948ec105bbcf6",
      "9580795c81304858b090dfdb34edfd64",
      "13d575496b54415f987bd4b5105c2dfb",
      "4fd855d876f2450789b932980ba30584"
     ]
    },
    "id": "IbAWPSaW6QP-",
    "outputId": "9789f6bc-68aa-44be-ebec-eb9e13406fc3"
   },
   "outputs": [
    {
     "name": "stderr",
     "output_type": "stream",
     "text": [
      "/usr/local/lib/python3.6/dist-packages/ipykernel_launcher.py:4: TqdmDeprecationWarning: This function will be removed in tqdm==5.0.0\n",
      "Please use `tqdm.notebook.tqdm` instead of `tqdm.tqdm_notebook`\n",
      "  after removing the cwd from sys.path.\n"
     ]
    },
    {
     "data": {
      "application/vnd.jupyter.widget-view+json": {
       "model_id": "5c034f41ba0d4d8ca1eca01eab10a7d3",
       "version_major": 2,
       "version_minor": 0
      },
      "text/plain": [
       "HBox(children=(FloatProgress(value=0.0, description='Images', max=2.0, style=ProgressStyle(description_width='…"
      ]
     },
     "metadata": {
      "tags": []
     },
     "output_type": "display_data"
    },
    {
     "name": "stdout",
     "output_type": "stream",
     "text": [
      "\n"
     ]
    }
   ],
   "source": [
    "from tqdm import tqdm_notebook as tqdm\n",
    "val_path= base_dir/ \"Val\"\n",
    "\n",
    "for img in tqdm([\"morgan.jpg\",\"morgan2.jpg\"], desc=\"Images\"):\n",
    "  try: \n",
    "    im = Image.open(img) \n",
    "    for face in detector.detect_faces(np.asarray(im)):\n",
    "      box = face[\"box\"]\n",
    "      im1 = im.crop(box=(box[0], box[1], box[0]+box[2],box[1]+box[3] )) \n",
    "      im1.save(img)\n",
    "      break\n",
    "  except IsADirectoryError:\n",
    "    pass"
   ]
  },
  {
   "cell_type": "code",
   "execution_count": null,
   "metadata": {
    "colab": {
     "base_uri": "https://localhost:8080/",
     "height": 1000
    },
    "id": "5-IL-zEb7bQs",
    "outputId": "7242ccfe-5576-4049-df2a-5f506c8944a0"
   },
   "outputs": [
    {
     "data": {
      "text/html": [],
      "text/plain": [
       "<IPython.core.display.HTML object>"
      ]
     },
     "metadata": {
      "tags": []
     },
     "output_type": "display_data"
    },
    {
     "data": {
      "text/plain": [
       "('african',\n",
       " tensor(0),\n",
       " tensor([9.9853e-01, 9.7169e-05, 7.1462e-04, 6.3777e-04, 1.9409e-05, 1.9322e-14,\n",
       "         3.5104e-15, 5.6150e-15, 2.5385e-15, 2.8951e-15, 1.2112e-15, 2.2072e-15,\n",
       "         6.2210e-15, 9.1783e-15, 1.2846e-15, 7.6048e-16, 6.4754e-15, 3.6239e-15,\n",
       "         6.5987e-15, 2.6921e-15, 2.0084e-15, 9.5080e-16, 3.6611e-15, 8.2125e-16,\n",
       "         3.1807e-15, 2.9849e-15, 9.1208e-16, 3.2640e-15, 3.4122e-15, 1.7819e-15,\n",
       "         1.6253e-15, 3.7522e-15, 7.5584e-15, 1.5105e-15, 1.1293e-15, 1.7729e-15,\n",
       "         5.2754e-16, 1.2442e-15, 2.7804e-15, 3.5950e-15, 7.3698e-16, 1.8355e-15,\n",
       "         9.7314e-16, 3.5064e-15, 2.0876e-15, 3.4206e-15, 5.6981e-16, 1.2684e-15,\n",
       "         6.0015e-15, 3.9095e-15, 6.9620e-16, 8.6990e-16, 3.5836e-15, 1.7039e-15,\n",
       "         9.8014e-16, 1.0943e-15, 2.7142e-15, 1.3442e-15, 6.0373e-15, 1.8581e-15,\n",
       "         1.8738e-15, 2.7037e-15, 5.7294e-15, 1.8127e-15, 5.8977e-16, 8.8063e-16,\n",
       "         1.4311e-15, 3.4380e-15, 7.0476e-15, 3.1159e-15, 2.9258e-15, 3.1568e-15,\n",
       "         1.6123e-15, 5.4059e-15, 7.9631e-15, 1.6069e-15, 7.9832e-15, 1.9407e-15,\n",
       "         1.5332e-15, 6.0028e-15, 2.1190e-15, 1.5333e-15, 3.4240e-15, 3.5108e-15,\n",
       "         1.9466e-15, 2.7218e-15, 3.1402e-15, 2.9249e-15, 1.1282e-15, 1.0397e-14,\n",
       "         1.5509e-15, 1.1847e-15, 1.4592e-15, 8.9065e-16, 6.7248e-15, 2.9139e-15,\n",
       "         1.1378e-15, 3.5128e-15, 2.5807e-15, 4.8892e-15, 9.5587e-16, 1.5803e-15,\n",
       "         3.6973e-16, 1.3100e-15, 3.5044e-15, 7.6210e-15, 2.7948e-15, 1.6705e-15,\n",
       "         7.2941e-16, 2.6770e-15, 7.1972e-16, 2.9257e-15, 6.2392e-15, 2.1722e-15,\n",
       "         5.8469e-15, 5.3225e-15, 4.3662e-15, 2.1279e-15, 1.5022e-15, 4.0780e-16,\n",
       "         3.4346e-15, 3.4728e-15, 4.6767e-15, 2.4798e-15, 4.8175e-15, 1.4146e-15,\n",
       "         4.4897e-15, 1.2863e-15, 1.7811e-15, 1.2140e-15, 3.4248e-15, 2.5892e-15,\n",
       "         1.3291e-15, 2.2244e-15, 1.3878e-15, 8.2355e-15, 2.5561e-15, 7.9008e-16,\n",
       "         1.8656e-15, 3.6439e-15, 7.5631e-16, 3.9596e-15, 1.5321e-15, 1.3837e-15,\n",
       "         1.7417e-15, 3.9460e-15, 1.6857e-15, 1.9210e-15, 1.6684e-15, 1.2415e-15,\n",
       "         1.1872e-15, 1.9093e-15, 2.1148e-15, 2.2691e-15, 1.6448e-15, 2.1541e-15,\n",
       "         1.6156e-15, 3.0561e-15, 1.0433e-15, 4.3090e-15, 1.7910e-15, 1.2920e-15,\n",
       "         7.2761e-16, 6.0629e-15, 1.4200e-15, 6.1994e-16, 3.7532e-15, 4.3983e-15,\n",
       "         3.1811e-15, 1.2177e-15, 9.8625e-15, 3.4781e-15, 1.3562e-15, 2.0892e-15,\n",
       "         6.2031e-15, 2.7558e-15, 1.0718e-14, 8.6667e-15, 1.8937e-15, 3.8791e-15,\n",
       "         7.6577e-15, 1.9040e-15, 3.8560e-15, 2.1478e-15, 1.4382e-15, 2.8240e-15,\n",
       "         9.0456e-15, 8.0324e-15, 2.2096e-15, 4.4461e-15, 3.5125e-15, 3.6217e-15,\n",
       "         1.2340e-15, 9.8377e-16, 2.4838e-15, 1.8718e-15, 8.7222e-16, 9.7237e-16,\n",
       "         1.3397e-15, 3.7934e-15, 2.4598e-15, 8.3285e-16, 1.8089e-15, 2.4953e-15,\n",
       "         6.7785e-16, 1.2392e-15, 1.6603e-15, 2.9154e-15, 2.1079e-15, 1.7547e-15,\n",
       "         8.8702e-15, 1.2063e-14, 8.3344e-15, 2.3998e-15, 2.8272e-15, 9.9991e-16,\n",
       "         2.7391e-15, 1.9696e-15, 1.4476e-15, 2.2820e-15, 1.3319e-15, 1.4460e-15,\n",
       "         2.4053e-15, 9.0159e-16, 2.0144e-15, 3.4402e-15, 8.4778e-16, 1.7570e-15,\n",
       "         8.5194e-15, 2.5318e-15, 4.1018e-15, 4.8218e-15, 3.1353e-15, 3.1184e-15,\n",
       "         1.2816e-15, 3.3367e-15, 1.2863e-15, 1.4101e-15, 2.3232e-15, 2.0261e-15,\n",
       "         3.0501e-15, 7.9069e-16, 1.8401e-15, 9.6242e-16, 9.7076e-15, 2.3684e-15,\n",
       "         1.0452e-15, 4.5347e-15, 1.2849e-15, 2.5331e-15, 5.6327e-16, 6.1726e-15,\n",
       "         4.0602e-15, 2.1522e-14, 3.9182e-15, 2.5236e-15, 2.8227e-15, 2.5719e-15,\n",
       "         3.1799e-15, 2.9935e-15, 1.9362e-14, 1.5045e-15, 1.7993e-15, 1.5712e-15,\n",
       "         1.0181e-15, 2.2636e-15, 1.9469e-15, 6.4797e-15, 2.0803e-15, 8.3344e-15,\n",
       "         4.2579e-15, 1.1620e-15, 1.5375e-15, 3.7908e-15, 9.2777e-16, 1.9282e-15,\n",
       "         3.0854e-15, 2.7931e-15, 1.6782e-15, 4.8119e-15, 1.3219e-15, 1.4933e-15,\n",
       "         3.9388e-15, 1.5524e-15, 1.9951e-15, 2.5802e-15, 8.3144e-15, 2.7664e-15,\n",
       "         1.7670e-15, 8.6644e-15, 2.0412e-15, 2.8995e-15, 4.9521e-15, 1.8895e-15,\n",
       "         1.9619e-15, 2.4353e-15, 6.1270e-16, 3.2075e-15, 9.0824e-15, 2.8067e-15,\n",
       "         1.8461e-15, 1.0813e-15, 6.7064e-16, 1.6608e-15, 4.5100e-15, 1.0840e-15,\n",
       "         4.2123e-15, 3.0735e-15, 3.4428e-15, 1.2282e-15, 3.5228e-15, 1.4876e-15,\n",
       "         1.0321e-14, 2.8099e-15, 2.0125e-15, 2.0837e-15, 9.9536e-16, 4.0345e-15,\n",
       "         1.2470e-14, 8.0604e-16, 2.3351e-15, 1.6522e-15, 4.6772e-15, 4.5769e-15,\n",
       "         2.5945e-15, 3.2752e-15, 1.6547e-15, 1.6807e-14, 4.3495e-15, 2.7932e-15,\n",
       "         6.5469e-15, 1.8756e-15, 1.9220e-15, 1.3175e-15, 6.5910e-15, 1.3445e-15,\n",
       "         1.5545e-15, 1.8030e-15, 5.4622e-15, 3.4892e-15, 5.7863e-16, 4.6558e-15,\n",
       "         6.0825e-16, 4.4939e-15, 2.4318e-15, 3.1053e-15, 3.5007e-15, 3.3567e-15,\n",
       "         1.7567e-15, 8.2369e-15, 1.7468e-14, 1.1546e-15, 1.7908e-15, 9.3344e-15,\n",
       "         3.1959e-15, 5.0203e-15, 1.5953e-15, 2.1271e-15, 1.3274e-15, 9.0474e-16,\n",
       "         4.7272e-15, 1.7377e-15, 1.7827e-15, 1.4187e-15, 3.0323e-15, 5.5313e-16,\n",
       "         1.8562e-15, 1.1602e-15, 2.0997e-15, 3.2037e-15, 6.5268e-15, 4.0261e-15,\n",
       "         3.7967e-15, 3.3261e-15, 3.0595e-15, 1.7202e-15, 1.3897e-15, 7.3741e-15,\n",
       "         1.2436e-15, 4.1282e-15, 2.2115e-15, 1.8397e-15, 3.2078e-15, 2.2096e-15,\n",
       "         6.5036e-15, 2.6112e-15, 4.3573e-15, 2.1794e-15, 1.0004e-15, 2.9644e-15,\n",
       "         1.5157e-15, 3.7396e-15, 3.9297e-15, 1.4023e-15, 5.0967e-15, 2.6812e-15,\n",
       "         5.1106e-15, 5.4148e-15, 9.6815e-16, 1.3446e-15, 8.0323e-16, 4.3806e-15,\n",
       "         1.1095e-15, 4.1102e-15, 1.1846e-15, 4.1580e-15, 3.1532e-15, 3.7839e-15,\n",
       "         5.2951e-15, 1.7552e-15, 6.3935e-15, 5.2948e-16, 3.4379e-15, 3.4090e-15,\n",
       "         5.4133e-15, 3.6378e-15, 9.3588e-16, 1.9662e-15, 1.0886e-14, 1.1926e-15,\n",
       "         3.6220e-15, 1.8037e-15, 2.1011e-15, 2.6860e-15, 8.1939e-16, 1.4020e-15,\n",
       "         1.5130e-15, 1.0047e-15, 9.4074e-16, 1.5367e-15, 3.1784e-15, 1.8185e-15,\n",
       "         9.0813e-16, 1.2122e-15, 2.7444e-15, 4.4586e-15, 5.0555e-15, 1.8933e-15,\n",
       "         2.0175e-15, 3.7613e-15, 2.6616e-15, 1.9865e-15, 2.6140e-15, 3.3587e-15,\n",
       "         1.0819e-15, 2.2309e-15, 6.6821e-15, 3.8461e-15, 1.0431e-15, 1.7384e-15,\n",
       "         1.0048e-15, 4.1265e-15, 9.1210e-16, 5.8772e-16, 5.5357e-15, 3.9337e-15,\n",
       "         2.9193e-15, 7.2687e-15, 1.5342e-15, 2.6300e-15, 2.3740e-15, 4.5780e-15,\n",
       "         1.6084e-15, 7.5938e-16, 1.3956e-15, 1.7371e-15, 1.2911e-14, 4.0046e-15,\n",
       "         5.7834e-15, 4.1619e-15, 3.9862e-15, 1.2965e-15, 1.5262e-15, 2.2749e-15,\n",
       "         4.2458e-15, 3.1750e-15, 1.4355e-15, 1.7423e-15, 1.4906e-15, 3.6393e-15,\n",
       "         1.3107e-15, 2.4106e-15, 2.5601e-15, 2.5674e-15, 4.5663e-15, 7.7395e-15,\n",
       "         9.8546e-16, 1.2200e-15, 1.0279e-15, 1.3785e-15, 2.2334e-15, 1.6464e-15,\n",
       "         1.1956e-14, 1.8060e-15, 4.0568e-15, 1.9355e-15, 1.6795e-15, 1.4471e-15,\n",
       "         6.3080e-15, 2.8690e-15, 3.2666e-15, 3.6313e-15, 1.5320e-15, 8.5574e-16,\n",
       "         8.5004e-16, 2.2256e-15, 3.0289e-15, 1.5630e-15, 9.1944e-16, 1.1299e-15,\n",
       "         2.6321e-15, 1.5884e-15, 8.2331e-15, 2.4244e-15, 3.1514e-15, 2.7390e-15,\n",
       "         2.9192e-15, 1.6880e-15, 1.3358e-15, 2.2939e-15, 2.8495e-15, 1.5363e-14,\n",
       "         3.1551e-15, 2.8532e-15, 2.3266e-15, 1.8107e-15, 1.8834e-15, 2.5147e-15,\n",
       "         2.5478e-15, 1.4173e-15, 3.5627e-15, 3.6669e-15, 1.3616e-15, 1.9657e-15,\n",
       "         8.2610e-16, 3.6464e-15, 3.4247e-15, 1.4654e-15, 3.1399e-15, 6.0508e-15,\n",
       "         6.4013e-15, 2.5222e-15, 2.2271e-15, 2.8000e-15, 3.4217e-15, 5.2387e-15,\n",
       "         7.6665e-16, 6.4459e-15, 1.8305e-15, 3.9810e-15, 2.0040e-15, 9.1788e-16,\n",
       "         3.3493e-15, 1.2873e-15, 4.7784e-15, 2.9125e-15, 2.6580e-15, 5.4418e-15,\n",
       "         7.2512e-16, 3.1809e-15, 1.8681e-15, 1.0447e-15, 7.8502e-16, 2.5000e-15,\n",
       "         2.4599e-15, 3.8865e-16, 3.4463e-15, 4.2662e-15, 2.6642e-15, 4.8001e-15,\n",
       "         3.1415e-15, 1.1914e-14, 4.1079e-15, 4.4397e-15, 2.8632e-15, 2.7747e-15,\n",
       "         1.0169e-14, 1.4217e-15, 2.7772e-15, 3.7112e-15, 1.2841e-15, 2.2334e-15,\n",
       "         3.6781e-15, 1.1090e-15, 3.5753e-15, 3.6570e-15, 2.8035e-15, 5.3162e-15,\n",
       "         1.4759e-15, 3.7466e-15, 1.6695e-15, 3.2952e-15, 2.8634e-15, 2.9488e-15,\n",
       "         2.5801e-16, 1.3123e-15, 4.2279e-15, 2.8000e-15, 1.6921e-15, 6.8528e-16,\n",
       "         1.6000e-15, 4.4519e-15, 3.2408e-15, 1.1768e-15, 1.2902e-15, 5.0553e-15,\n",
       "         3.8908e-15, 2.1500e-15, 3.0943e-15, 2.6101e-15, 2.6480e-15, 2.3430e-15,\n",
       "         4.4168e-15, 4.0123e-15, 2.4474e-15, 3.3706e-15, 8.9342e-16, 2.5314e-15,\n",
       "         2.7032e-15, 1.0565e-15, 7.8098e-16, 4.0809e-15, 5.4731e-15, 2.1753e-15,\n",
       "         9.4613e-15, 2.4127e-15, 1.7827e-15, 8.8558e-15, 2.6746e-15, 6.7755e-15,\n",
       "         2.6830e-15, 3.7486e-15, 2.2798e-15, 4.4004e-15, 1.7203e-15, 2.7268e-15,\n",
       "         3.2620e-15, 1.6847e-15, 2.5785e-15, 2.3516e-15, 1.3976e-15, 2.2435e-15,\n",
       "         1.9327e-15, 9.5140e-16, 2.5324e-15, 2.7225e-15, 2.1782e-15, 3.0033e-15,\n",
       "         4.3857e-15, 1.6750e-15, 4.1081e-15, 7.2387e-16, 2.3506e-15, 1.5046e-15,\n",
       "         2.4297e-15, 4.0788e-15, 1.7922e-15, 5.0211e-15, 2.3511e-15, 4.0263e-15,\n",
       "         7.9103e-15, 1.6473e-15, 7.3724e-15, 2.0841e-15, 1.9013e-15, 2.9072e-15,\n",
       "         1.0139e-15, 7.0815e-15, 2.3730e-15, 9.1156e-15, 3.7978e-15, 2.3395e-15,\n",
       "         1.9779e-15, 2.5428e-15, 3.1672e-15, 1.0590e-15, 4.8086e-15, 2.3609e-15,\n",
       "         5.1542e-15, 2.6905e-15, 3.9132e-15, 3.0766e-15, 1.0414e-15, 5.9647e-15,\n",
       "         4.4754e-15, 7.2457e-15, 5.4319e-15, 1.2657e-15, 6.5654e-15, 3.0725e-15,\n",
       "         1.6012e-15, 7.8053e-16, 5.5320e-15, 2.8651e-15, 1.6217e-15, 1.8905e-15,\n",
       "         2.3091e-15, 1.2669e-15, 2.0886e-15, 2.1144e-15, 2.2567e-15, 2.2498e-15,\n",
       "         7.0167e-15, 1.7172e-15, 9.6210e-16, 1.6331e-14, 1.8792e-15, 4.0685e-15,\n",
       "         3.0435e-15, 1.4480e-14, 3.4347e-15, 2.7828e-15, 1.8953e-15, 3.3338e-15,\n",
       "         1.7088e-14, 7.0885e-16, 4.1392e-15, 1.5792e-15, 2.3528e-15, 5.9405e-16,\n",
       "         1.2434e-15, 4.0924e-15, 3.6161e-15, 6.4950e-15, 4.5589e-14, 1.1150e-15,\n",
       "         2.2833e-15, 1.0774e-15, 3.7536e-15, 4.4991e-15, 2.1688e-15, 1.0502e-15,\n",
       "         1.2706e-15, 3.0128e-15, 1.4912e-15, 1.6339e-15, 9.8871e-16, 5.7504e-15,\n",
       "         1.2310e-15, 2.8305e-15, 2.0792e-15, 2.8865e-15, 6.2874e-15, 8.7408e-15,\n",
       "         1.6244e-15, 5.6519e-15, 2.2328e-15, 1.2786e-15, 3.0652e-15, 3.0209e-15,\n",
       "         8.8303e-15, 1.5010e-15, 2.2840e-15, 2.4818e-15, 2.2812e-15, 8.2123e-16,\n",
       "         4.2500e-15, 2.3179e-15, 4.4531e-15, 2.3581e-15, 2.1156e-15, 3.4520e-15,\n",
       "         4.4943e-15, 1.9838e-15, 1.4828e-15, 2.5897e-15, 3.1929e-15, 2.8401e-14,\n",
       "         2.5131e-15, 1.1306e-15, 1.4627e-15, 3.0644e-15, 1.4511e-15, 1.7845e-15,\n",
       "         2.7238e-15, 1.6282e-15, 3.1096e-15, 1.7814e-15, 2.3793e-15, 1.8303e-15,\n",
       "         3.7477e-15, 9.9362e-16, 1.3354e-14, 1.2850e-15, 2.0523e-15, 6.9159e-15,\n",
       "         6.6120e-15, 3.0265e-15, 1.6709e-15, 3.2328e-15, 2.2927e-15, 1.1654e-15,\n",
       "         1.5431e-15, 2.6398e-15, 1.5580e-15, 1.4015e-15, 5.2277e-15, 5.2507e-15,\n",
       "         3.1127e-15, 2.1641e-15, 2.4141e-15, 5.8287e-16, 1.9481e-15, 4.4717e-15,\n",
       "         8.5109e-15, 2.3057e-15, 1.2772e-15, 2.6689e-15, 2.7939e-15, 8.0745e-15,\n",
       "         4.0638e-15, 2.2685e-14, 4.0259e-15, 1.5616e-15, 4.7119e-16, 1.5859e-15,\n",
       "         7.6748e-15, 2.6631e-15, 7.4391e-15, 6.0736e-15, 8.7968e-16, 1.8829e-15,\n",
       "         6.9541e-16, 1.3735e-15, 1.5028e-15, 1.6889e-15, 1.4671e-15, 1.4776e-15,\n",
       "         2.6779e-15, 1.3377e-15, 8.5507e-16, 1.7778e-15, 5.9087e-15, 1.7556e-15,\n",
       "         1.1329e-14, 4.7667e-15, 3.6303e-15, 8.6295e-16, 3.4150e-15, 5.3756e-15,\n",
       "         4.5401e-15, 2.0277e-15, 2.1836e-15, 9.2753e-16, 1.2752e-15, 5.0105e-15,\n",
       "         4.4552e-16, 1.7538e-15, 1.8944e-15, 3.3057e-15, 1.4571e-15, 1.8334e-15,\n",
       "         5.9673e-15, 4.6140e-15, 3.0881e-15, 7.4113e-16, 1.4604e-15, 1.3559e-15,\n",
       "         1.0029e-15, 1.2945e-15, 1.9881e-15, 2.8147e-15, 2.2719e-15, 4.1730e-16,\n",
       "         4.1888e-15, 6.0932e-15, 1.5903e-15, 2.5507e-15, 1.6351e-15, 8.4406e-16,\n",
       "         2.0709e-15, 4.4390e-15, 1.2109e-15, 8.5018e-16, 2.7840e-15, 1.7134e-15,\n",
       "         1.2311e-15, 1.3067e-15, 1.6649e-15, 1.8711e-15, 1.8259e-15, 2.8698e-15,\n",
       "         5.4138e-16, 2.2602e-15, 1.6854e-15, 4.6128e-15, 2.3424e-15, 1.5126e-15,\n",
       "         1.9514e-15, 1.9670e-15, 8.2723e-15, 3.1847e-15, 1.1876e-15, 8.1052e-15,\n",
       "         3.4719e-15, 2.3495e-15, 7.9839e-15, 2.0828e-14, 1.4671e-15, 1.7377e-15,\n",
       "         8.2649e-15, 1.8262e-15, 4.9194e-16, 8.9658e-15, 1.0859e-15, 6.9670e-15,\n",
       "         3.6312e-15, 2.5172e-15, 6.9736e-15, 1.4233e-15, 5.9995e-15, 3.2991e-15,\n",
       "         1.6284e-14, 1.2494e-15, 3.2952e-15, 1.2005e-15, 1.8564e-15, 2.5424e-15,\n",
       "         1.8853e-15, 1.7433e-15, 2.7557e-15, 6.2561e-15, 8.4266e-16, 1.8193e-15,\n",
       "         2.4787e-15, 2.6975e-15, 4.8208e-15, 4.1147e-15, 5.6104e-15, 2.4533e-15,\n",
       "         7.3116e-16, 1.3360e-15, 5.4545e-15, 2.2996e-15, 9.5572e-16, 6.5769e-15,\n",
       "         3.6189e-14, 1.4722e-15, 2.3440e-15, 1.9912e-15, 1.6340e-15, 2.6437e-15,\n",
       "         4.5917e-16, 5.3817e-15, 2.0076e-15, 2.3043e-15, 9.9132e-15, 4.1287e-15,\n",
       "         3.3193e-15, 6.0669e-15, 4.7736e-15, 1.2512e-15, 3.8676e-15, 1.6843e-15,\n",
       "         8.9268e-16, 4.6346e-15, 2.5363e-15, 2.0794e-15, 4.5096e-15, 3.2098e-15,\n",
       "         1.3181e-15, 6.9402e-16, 1.3328e-15, 1.0203e-15, 6.2208e-15, 2.7926e-15,\n",
       "         1.1536e-15, 6.3383e-15, 1.6200e-15, 1.2432e-15, 1.4332e-15, 8.8130e-16,\n",
       "         2.0433e-15, 8.2134e-16, 3.3793e-15, 1.2335e-15, 2.1032e-15, 1.3497e-15,\n",
       "         1.2870e-15, 3.8603e-15, 4.0944e-15, 1.0154e-15, 6.7365e-15, 2.6600e-15,\n",
       "         1.6161e-15, 7.7241e-16, 2.1712e-15, 1.4402e-15, 2.4284e-15, 8.1208e-15,\n",
       "         1.9444e-15, 2.5082e-15, 3.3244e-15, 2.5878e-15, 1.0590e-14, 3.0624e-15,\n",
       "         4.4090e-15, 1.8332e-15, 4.9669e-15, 4.2869e-15]))"
      ]
     },
     "execution_count": 76,
     "metadata": {
      "tags": []
     },
     "output_type": "execute_result"
    }
   ],
   "source": [
    "learner.predict(\"morgan.jpg\")"
   ]
  },
  {
   "cell_type": "code",
   "execution_count": null,
   "metadata": {
    "colab": {
     "base_uri": "https://localhost:8080/",
     "height": 1000
    },
    "id": "NT8cy0QT8-O7",
    "outputId": "12c757fd-2d31-4375-8ca2-6a2b67d862bd"
   },
   "outputs": [
    {
     "data": {
      "text/html": [],
      "text/plain": [
       "<IPython.core.display.HTML object>"
      ]
     },
     "metadata": {
      "tags": []
     },
     "output_type": "display_data"
    },
    {
     "data": {
      "text/plain": [
       "('african',\n",
       " tensor(0),\n",
       " tensor([9.1793e-01, 4.1993e-02, 3.0006e-02, 1.0055e-02, 1.5306e-05, 1.9797e-12,\n",
       "         1.7891e-13, 3.5560e-13, 1.7843e-13, 3.5238e-13, 1.4412e-13, 1.4453e-13,\n",
       "         3.3555e-13, 2.1323e-13, 1.0637e-13, 3.7138e-14, 4.4031e-13, 2.9381e-13,\n",
       "         3.5027e-13, 1.2256e-13, 1.1081e-13, 8.0765e-14, 2.4937e-13, 8.2678e-14,\n",
       "         2.5243e-13, 1.6389e-13, 6.3038e-14, 1.8487e-13, 1.8283e-13, 1.0925e-13,\n",
       "         1.6511e-13, 1.1658e-13, 8.7044e-13, 1.4471e-13, 1.0599e-13, 8.6533e-14,\n",
       "         4.0329e-14, 1.4891e-13, 1.9634e-13, 1.4495e-13, 7.1498e-14, 9.6939e-14,\n",
       "         7.1949e-14, 1.2311e-13, 6.2809e-14, 3.5629e-13, 3.3355e-14, 2.9967e-14,\n",
       "         1.4594e-13, 2.2418e-13, 2.8150e-14, 4.4543e-14, 2.3584e-13, 9.4348e-14,\n",
       "         6.0800e-14, 5.9429e-14, 2.1784e-13, 6.9961e-14, 4.5763e-13, 1.2207e-13,\n",
       "         8.0530e-14, 1.0478e-13, 3.6870e-13, 2.2658e-13, 1.7224e-14, 3.7424e-14,\n",
       "         2.7469e-13, 1.6001e-13, 3.3134e-13, 1.9677e-13, 2.5533e-13, 2.0372e-13,\n",
       "         2.8140e-13, 3.4606e-13, 4.1869e-13, 7.8773e-14, 3.4478e-13, 9.3915e-14,\n",
       "         1.0420e-13, 4.3024e-13, 4.8782e-13, 6.2639e-14, 2.5555e-13, 9.0809e-14,\n",
       "         1.0910e-13, 1.8368e-13, 2.2893e-13, 1.0416e-13, 1.0782e-13, 3.4942e-13,\n",
       "         7.7016e-14, 7.2988e-14, 2.0415e-13, 4.7392e-14, 4.5512e-13, 1.7216e-13,\n",
       "         1.5228e-13, 7.3943e-14, 2.1218e-13, 8.8778e-14, 5.3450e-14, 8.9090e-14,\n",
       "         1.5256e-14, 9.9187e-14, 3.3504e-13, 5.8337e-13, 1.5279e-13, 8.4924e-14,\n",
       "         2.7910e-14, 1.1935e-13, 2.5584e-14, 1.5437e-13, 3.3064e-13, 1.4546e-13,\n",
       "         5.3525e-13, 5.6694e-13, 3.4671e-13, 6.4754e-14, 1.3274e-13, 3.4320e-14,\n",
       "         1.8752e-13, 4.7850e-13, 3.1055e-13, 2.6564e-13, 2.9316e-13, 1.1612e-13,\n",
       "         6.6876e-13, 1.0780e-13, 1.3681e-13, 2.1338e-13, 2.0426e-13, 1.4943e-13,\n",
       "         4.9628e-14, 1.5725e-13, 8.7088e-14, 4.1511e-13, 2.2094e-13, 6.1137e-14,\n",
       "         1.4122e-13, 2.3087e-13, 8.1677e-14, 1.5541e-13, 9.4277e-14, 1.6196e-13,\n",
       "         1.7461e-13, 1.5797e-13, 7.8706e-14, 6.4492e-14, 7.1551e-14, 7.6881e-14,\n",
       "         4.9043e-14, 1.0925e-13, 2.0945e-13, 1.3721e-13, 1.2640e-13, 1.1979e-13,\n",
       "         6.5810e-14, 2.4690e-13, 1.2583e-13, 5.6317e-13, 5.5805e-14, 1.2239e-13,\n",
       "         2.4001e-14, 2.6553e-13, 1.1935e-13, 4.9723e-14, 3.7695e-13, 3.9182e-13,\n",
       "         3.7390e-13, 5.0317e-14, 4.4272e-13, 1.9522e-13, 6.7396e-14, 2.0689e-13,\n",
       "         5.1112e-13, 2.2870e-13, 4.3798e-13, 8.1157e-13, 6.5122e-14, 3.0482e-13,\n",
       "         5.2548e-13, 6.9053e-14, 3.4486e-13, 1.4653e-13, 1.1928e-13, 1.3433e-13,\n",
       "         4.7833e-13, 2.9101e-13, 1.1340e-13, 3.5254e-13, 2.7274e-13, 2.2899e-13,\n",
       "         6.4216e-14, 1.1573e-13, 1.9724e-13, 2.5046e-13, 4.6915e-14, 8.6872e-14,\n",
       "         1.2147e-13, 5.1395e-13, 1.0761e-13, 5.1257e-14, 1.0886e-13, 1.5852e-13,\n",
       "         5.2431e-14, 9.8253e-14, 8.8147e-14, 4.1666e-13, 7.1057e-14, 9.7771e-14,\n",
       "         6.5560e-13, 7.4757e-13, 6.2995e-13, 2.6229e-13, 1.7490e-13, 9.1188e-14,\n",
       "         3.6563e-13, 8.9211e-14, 1.0942e-13, 1.7853e-13, 9.4506e-14, 5.7769e-14,\n",
       "         1.5857e-13, 5.8487e-14, 6.0013e-14, 2.8651e-13, 6.5803e-14, 9.3514e-14,\n",
       "         8.5679e-13, 9.6935e-14, 1.0406e-13, 7.0921e-13, 2.6090e-13, 1.5151e-13,\n",
       "         7.7247e-14, 2.3044e-13, 7.4483e-14, 8.7130e-14, 6.6262e-14, 6.2664e-14,\n",
       "         1.4226e-13, 4.9932e-14, 1.0616e-13, 3.1225e-14, 3.1921e-13, 1.1278e-13,\n",
       "         1.6065e-13, 2.5179e-13, 8.4765e-14, 1.9834e-13, 2.8546e-14, 3.7258e-13,\n",
       "         9.2306e-14, 1.6835e-12, 4.6439e-13, 1.8224e-13, 1.5247e-13, 1.5575e-13,\n",
       "         2.1584e-13, 4.6729e-13, 1.1404e-12, 5.5671e-14, 2.5896e-13, 8.1562e-14,\n",
       "         5.2238e-14, 6.7766e-14, 8.8004e-14, 3.1906e-13, 9.5128e-14, 5.9526e-13,\n",
       "         1.9176e-13, 3.8061e-14, 7.2324e-14, 2.1163e-13, 3.3050e-14, 1.3516e-13,\n",
       "         2.5469e-13, 2.3155e-13, 6.6940e-14, 2.9819e-13, 1.8866e-13, 1.9929e-13,\n",
       "         1.3614e-13, 1.0669e-13, 1.3963e-13, 1.3376e-13, 5.2715e-13, 3.3995e-13,\n",
       "         1.3664e-13, 5.1212e-13, 2.2649e-13, 1.8464e-13, 2.6262e-13, 1.2712e-13,\n",
       "         1.3811e-13, 1.9570e-13, 2.9404e-14, 2.4808e-13, 1.4697e-13, 2.8953e-13,\n",
       "         1.3110e-13, 4.1101e-14, 6.1666e-14, 2.4464e-13, 3.5822e-13, 1.3581e-13,\n",
       "         2.8142e-13, 4.7190e-13, 4.3059e-13, 1.9094e-13, 4.0015e-13, 7.4745e-14,\n",
       "         1.2067e-12, 2.3276e-13, 1.1842e-13, 1.2721e-13, 6.9807e-14, 3.5217e-13,\n",
       "         9.8378e-13, 4.2822e-14, 8.0658e-14, 7.9810e-14, 2.4427e-13, 2.9267e-13,\n",
       "         2.1676e-13, 2.4824e-13, 1.0899e-13, 1.2117e-12, 5.6021e-13, 2.6820e-13,\n",
       "         6.5259e-13, 1.3393e-13, 5.6427e-14, 7.0575e-14, 2.7016e-13, 7.9827e-14,\n",
       "         1.1053e-13, 8.9910e-14, 2.0091e-13, 1.3851e-13, 7.6448e-14, 4.9826e-13,\n",
       "         5.1572e-14, 1.3114e-13, 1.6370e-13, 8.5482e-14, 1.3896e-13, 1.5375e-13,\n",
       "         1.2203e-13, 6.2599e-13, 1.1977e-12, 5.6019e-14, 1.6753e-13, 5.4452e-13,\n",
       "         1.3513e-13, 2.2241e-13, 1.0107e-13, 2.1012e-13, 8.6841e-14, 6.1468e-14,\n",
       "         1.8883e-13, 4.8028e-14, 1.9951e-13, 1.3038e-13, 4.1196e-13, 1.9346e-14,\n",
       "         1.0374e-13, 5.2027e-14, 1.3448e-13, 1.5064e-13, 3.5082e-13, 1.7967e-13,\n",
       "         3.8281e-13, 1.9391e-13, 2.4326e-13, 6.7938e-14, 7.2396e-14, 3.3048e-13,\n",
       "         4.9379e-14, 4.3536e-13, 8.7538e-14, 1.4219e-13, 1.3843e-13, 1.3541e-13,\n",
       "         5.0987e-13, 5.5369e-14, 8.8969e-13, 8.0256e-14, 7.9349e-14, 2.0412e-13,\n",
       "         5.3741e-14, 1.4741e-13, 2.6063e-13, 1.6780e-13, 4.3121e-13, 1.2295e-13,\n",
       "         2.5022e-13, 2.6224e-13, 5.6289e-14, 6.1650e-14, 9.7562e-14, 3.7344e-13,\n",
       "         8.1449e-14, 1.0439e-13, 1.3405e-13, 5.2434e-13, 1.5157e-13, 1.5643e-13,\n",
       "         2.6476e-13, 1.3794e-13, 3.3190e-13, 1.4536e-14, 9.5719e-14, 2.3661e-13,\n",
       "         4.2207e-13, 2.4433e-13, 9.5978e-14, 1.2563e-13, 7.3057e-13, 5.2925e-14,\n",
       "         2.3858e-13, 2.0218e-13, 6.7363e-14, 5.2016e-13, 4.7398e-14, 1.3978e-13,\n",
       "         1.2777e-13, 1.1245e-13, 3.9834e-14, 6.3775e-14, 1.5183e-13, 1.8625e-13,\n",
       "         5.1336e-14, 7.7115e-14, 1.5891e-13, 2.6863e-13, 2.9909e-13, 6.1937e-14,\n",
       "         1.3219e-13, 1.4396e-13, 2.2338e-13, 1.3719e-13, 3.1271e-13, 2.4121e-13,\n",
       "         1.1660e-13, 1.2390e-13, 4.8189e-13, 4.1439e-13, 1.5769e-13, 8.6230e-14,\n",
       "         1.0151e-13, 1.5408e-13, 4.8122e-14, 7.0717e-14, 3.1741e-13, 3.5431e-13,\n",
       "         1.5297e-13, 1.9199e-13, 1.2579e-13, 9.3838e-14, 1.6947e-13, 2.3188e-13,\n",
       "         1.1993e-13, 3.9740e-14, 5.5743e-14, 1.2961e-13, 9.1889e-13, 3.2063e-13,\n",
       "         5.2212e-13, 4.1375e-13, 8.0402e-14, 5.2849e-14, 1.7034e-13, 1.9641e-13,\n",
       "         3.3754e-13, 2.5016e-13, 7.2365e-14, 1.0830e-13, 8.2498e-14, 1.6199e-13,\n",
       "         7.7028e-14, 6.9930e-14, 1.6202e-13, 1.2796e-13, 3.5833e-13, 6.8059e-13,\n",
       "         5.3864e-14, 9.2361e-14, 1.1874e-13, 1.1195e-13, 9.8002e-14, 1.0017e-13,\n",
       "         7.0805e-13, 1.6810e-13, 1.8960e-13, 1.2491e-13, 2.2638e-13, 1.2546e-13,\n",
       "         3.9956e-13, 1.1041e-13, 3.8237e-13, 2.8321e-13, 7.9891e-14, 1.0881e-13,\n",
       "         2.6255e-14, 1.5701e-13, 1.8433e-13, 5.2143e-14, 8.5006e-14, 9.7086e-14,\n",
       "         3.3336e-13, 1.4651e-13, 5.5589e-13, 2.3967e-13, 1.1949e-13, 1.6110e-13,\n",
       "         1.2486e-13, 7.9099e-14, 1.1427e-13, 2.8546e-13, 1.5973e-13, 9.6632e-13,\n",
       "         1.9333e-13, 1.6422e-13, 1.5825e-13, 2.7014e-13, 1.5846e-13, 3.0721e-13,\n",
       "         1.3082e-13, 7.7647e-14, 3.4907e-13, 2.4403e-13, 1.6505e-13, 1.2820e-13,\n",
       "         6.4914e-14, 2.2103e-13, 1.9712e-13, 9.0851e-14, 2.8637e-13, 1.5445e-13,\n",
       "         5.1078e-13, 1.4617e-13, 1.0729e-13, 3.1848e-13, 1.2689e-13, 6.4484e-13,\n",
       "         1.0713e-13, 2.2628e-13, 1.4901e-13, 2.0796e-13, 5.5994e-13, 6.0431e-14,\n",
       "         5.0598e-13, 5.9816e-14, 2.4611e-13, 2.5282e-13, 3.1168e-13, 5.3036e-13,\n",
       "         7.3246e-14, 1.1310e-13, 7.7127e-14, 3.1281e-14, 5.2900e-14, 1.3145e-13,\n",
       "         8.8381e-14, 5.6684e-14, 2.7572e-13, 5.1185e-13, 1.7348e-13, 2.4033e-13,\n",
       "         2.4597e-13, 5.5876e-13, 3.8407e-13, 2.2551e-13, 2.5106e-13, 1.2940e-13,\n",
       "         4.4080e-13, 1.1193e-13, 1.7125e-13, 3.2815e-13, 1.4378e-13, 8.5105e-14,\n",
       "         3.9023e-13, 1.4297e-13, 8.7000e-14, 4.3806e-13, 9.8609e-14, 4.2435e-13,\n",
       "         1.0914e-13, 2.0206e-13, 1.0663e-13, 2.4978e-13, 1.4389e-13, 2.7731e-13,\n",
       "         1.7970e-14, 1.5706e-13, 3.5113e-13, 3.6339e-13, 1.6365e-13, 3.6610e-14,\n",
       "         7.9208e-14, 3.6299e-13, 1.2554e-13, 7.1372e-14, 1.3802e-13, 4.5622e-13,\n",
       "         1.4631e-13, 5.2694e-14, 3.3920e-13, 1.7091e-13, 2.9750e-13, 6.5470e-14,\n",
       "         3.3604e-13, 1.2595e-13, 1.2530e-13, 2.3950e-13, 3.0117e-14, 1.0415e-13,\n",
       "         2.8879e-13, 5.6884e-14, 3.1753e-14, 2.4044e-13, 3.7229e-13, 2.8424e-13,\n",
       "         5.1500e-13, 1.6554e-13, 6.7940e-14, 6.8828e-13, 4.8327e-13, 4.1440e-13,\n",
       "         1.5082e-13, 1.7336e-13, 1.6686e-13, 2.4563e-13, 9.0818e-14, 1.3787e-13,\n",
       "         1.2034e-13, 1.5270e-13, 5.7351e-14, 1.0900e-13, 1.3648e-13, 2.1111e-13,\n",
       "         5.6085e-14, 8.4115e-14, 1.5399e-13, 2.9361e-13, 1.3377e-13, 5.2220e-13,\n",
       "         1.5642e-13, 8.6444e-14, 4.0541e-13, 6.0411e-14, 1.0286e-13, 6.4244e-14,\n",
       "         1.3293e-13, 1.3761e-13, 3.6784e-14, 2.0983e-13, 2.2258e-13, 1.5595e-13,\n",
       "         5.3475e-13, 1.0147e-13, 5.9641e-13, 1.5196e-13, 1.0846e-13, 1.2215e-13,\n",
       "         8.5455e-14, 4.1383e-13, 1.4761e-13, 6.8556e-13, 2.7240e-13, 1.9565e-13,\n",
       "         6.9742e-14, 1.8390e-13, 1.4463e-13, 7.0018e-14, 2.1867e-13, 1.2552e-13,\n",
       "         3.7942e-13, 2.5402e-13, 2.9802e-13, 1.9617e-13, 1.1319e-13, 5.8147e-13,\n",
       "         5.7791e-13, 3.7524e-13, 3.8893e-13, 2.9938e-13, 1.5670e-13, 3.1322e-13,\n",
       "         1.3883e-13, 1.1548e-13, 2.8106e-13, 2.8162e-13, 7.6103e-14, 1.9999e-13,\n",
       "         1.1503e-13, 6.2933e-14, 1.0001e-13, 1.9281e-13, 1.9480e-13, 3.7150e-13,\n",
       "         5.8124e-13, 1.6080e-13, 6.5265e-14, 1.1404e-12, 1.1172e-13, 3.4276e-13,\n",
       "         2.0711e-13, 6.5172e-13, 1.2956e-13, 9.3745e-14, 9.9282e-14, 3.3369e-13,\n",
       "         1.1071e-12, 4.2694e-14, 4.9070e-13, 1.1217e-13, 1.1641e-13, 5.2792e-14,\n",
       "         8.7375e-14, 3.2370e-13, 2.2951e-13, 1.0037e-13, 3.1747e-12, 6.7190e-14,\n",
       "         1.1535e-13, 9.6763e-14, 3.5770e-13, 5.5729e-13, 1.8912e-13, 2.6793e-14,\n",
       "         9.4782e-14, 1.2085e-13, 1.5009e-13, 2.0882e-13, 8.5383e-14, 1.1422e-13,\n",
       "         2.2523e-13, 1.5725e-13, 2.1837e-13, 1.3518e-13, 2.0882e-13, 5.8507e-13,\n",
       "         1.5829e-13, 7.9610e-13, 1.0966e-13, 7.8854e-14, 2.4589e-13, 2.7825e-13,\n",
       "         1.0564e-12, 1.0346e-13, 2.9455e-13, 1.3167e-13, 2.6844e-13, 2.4866e-14,\n",
       "         3.2336e-13, 1.1087e-13, 1.1706e-13, 1.2750e-13, 1.5879e-13, 4.6190e-13,\n",
       "         3.6455e-13, 1.0336e-13, 1.1012e-13, 1.7108e-13, 1.2304e-13, 3.2619e-12,\n",
       "         2.1325e-13, 7.4032e-14, 1.1722e-13, 3.2511e-13, 1.4002e-13, 3.2307e-13,\n",
       "         5.9015e-14, 1.5216e-13, 2.2437e-13, 8.3213e-14, 1.6070e-13, 1.6811e-13,\n",
       "         2.1607e-13, 7.2445e-14, 4.6802e-13, 6.3912e-14, 8.8936e-14, 2.2430e-13,\n",
       "         2.9619e-13, 1.7922e-13, 1.7079e-13, 2.1139e-13, 1.9443e-13, 2.1420e-13,\n",
       "         6.5369e-14, 5.9567e-14, 4.5542e-13, 1.7965e-13, 5.2741e-13, 3.8932e-13,\n",
       "         1.7362e-13, 1.3318e-13, 1.8708e-13, 5.2025e-14, 8.1030e-14, 3.5997e-13,\n",
       "         7.8428e-13, 1.5924e-13, 7.6616e-14, 2.9245e-13, 2.0666e-13, 4.0673e-13,\n",
       "         3.7227e-13, 1.8105e-12, 3.5628e-13, 1.3864e-13, 5.3698e-14, 1.0194e-13,\n",
       "         7.2411e-13, 1.1298e-13, 2.8322e-13, 4.9498e-13, 5.1149e-14, 1.5644e-13,\n",
       "         3.3705e-14, 6.6198e-14, 1.2230e-13, 8.9873e-14, 9.5540e-14, 8.0351e-14,\n",
       "         1.4392e-13, 7.0577e-14, 3.8246e-14, 6.3428e-14, 3.8497e-13, 1.3604e-13,\n",
       "         6.4082e-13, 2.9097e-13, 2.8817e-13, 5.5355e-14, 1.3716e-13, 1.9640e-13,\n",
       "         2.7091e-13, 1.8081e-13, 2.3262e-13, 9.6546e-14, 5.4244e-14, 3.0360e-13,\n",
       "         3.2805e-14, 1.0800e-13, 9.4523e-14, 2.1733e-13, 7.3699e-14, 7.1602e-14,\n",
       "         5.3711e-13, 4.0195e-13, 1.6670e-13, 1.3920e-13, 1.1585e-13, 7.2923e-14,\n",
       "         4.7083e-14, 1.4151e-13, 1.9636e-13, 1.0003e-13, 7.9337e-14, 3.9619e-14,\n",
       "         2.0259e-13, 2.2060e-13, 9.1175e-14, 2.1011e-13, 1.1809e-13, 4.3690e-14,\n",
       "         7.5082e-14, 2.0196e-13, 3.0541e-14, 4.3267e-14, 2.9210e-13, 7.1634e-14,\n",
       "         5.2572e-14, 2.6774e-14, 8.0195e-14, 6.2070e-14, 2.5751e-13, 2.1706e-13,\n",
       "         2.3908e-14, 1.5717e-13, 1.1929e-13, 3.0015e-13, 2.1517e-13, 1.1796e-13,\n",
       "         1.2349e-13, 9.7355e-14, 3.6810e-13, 1.1522e-13, 1.4079e-13, 2.9210e-13,\n",
       "         2.0802e-13, 1.3334e-13, 6.3173e-13, 1.9040e-12, 1.3915e-13, 2.0022e-13,\n",
       "         4.0520e-13, 3.5008e-13, 5.1543e-14, 3.7114e-13, 5.5520e-14, 4.3673e-13,\n",
       "         1.1108e-13, 2.2302e-13, 7.3404e-13, 9.4655e-14, 5.4874e-13, 2.1176e-13,\n",
       "         6.9541e-13, 1.0067e-13, 2.0110e-13, 4.2403e-14, 1.6535e-13, 6.5990e-14,\n",
       "         7.7984e-14, 1.3103e-13, 1.8583e-13, 3.8487e-13, 4.3417e-14, 9.6463e-14,\n",
       "         1.8995e-13, 6.2469e-14, 3.2097e-13, 1.7394e-13, 4.8730e-13, 1.2620e-13,\n",
       "         4.1113e-14, 8.1806e-14, 2.0707e-13, 1.7157e-13, 6.4699e-14, 2.4558e-13,\n",
       "         3.4840e-12, 1.3819e-13, 9.0757e-14, 1.2615e-13, 9.4844e-14, 2.3064e-13,\n",
       "         1.1268e-13, 3.1053e-13, 1.7140e-13, 1.6072e-13, 6.5270e-13, 1.7403e-13,\n",
       "         1.7641e-13, 4.4099e-13, 2.3116e-13, 1.6900e-13, 1.9322e-13, 1.2584e-13,\n",
       "         1.2657e-13, 4.2282e-13, 1.2636e-13, 1.4693e-13, 3.0248e-13, 3.1709e-13,\n",
       "         4.7758e-14, 3.8678e-14, 8.4874e-14, 1.0994e-13, 4.6487e-13, 3.2921e-13,\n",
       "         6.7994e-14, 1.9518e-13, 6.3247e-14, 9.9237e-14, 8.6285e-14, 5.1038e-14,\n",
       "         6.6859e-14, 7.3425e-14, 1.6810e-13, 7.4299e-14, 1.1346e-13, 5.6868e-14,\n",
       "         8.9761e-14, 1.8512e-13, 2.5870e-13, 9.9385e-14, 4.1452e-13, 1.2973e-13,\n",
       "         5.6434e-14, 3.9445e-14, 3.0256e-13, 1.3501e-13, 1.4264e-13, 9.9889e-13,\n",
       "         1.0425e-13, 6.2843e-14, 2.5864e-13, 3.8236e-13, 6.9123e-13, 3.1391e-13,\n",
       "         1.4860e-13, 1.5424e-13, 2.6874e-13, 2.8233e-13]))"
      ]
     },
     "execution_count": 77,
     "metadata": {
      "tags": []
     },
     "output_type": "execute_result"
    }
   ],
   "source": [
    "learner.predict(\"morgan2.jpg\")"
   ]
  },
  {
   "cell_type": "code",
   "execution_count": null,
   "metadata": {
    "id": "yqBn5GFN8_Jz"
   },
   "outputs": [],
   "source": []
  }
 ],
 "metadata": {
  "accelerator": "GPU",
  "colab": {
   "collapsed_sections": [],
   "name": "Validation.ipynb",
   "provenance": [],
   "toc_visible": true
  },
  "kernelspec": {
   "display_name": "Python 3",
   "language": "python",
   "name": "python3"
  },
  "language_info": {
   "codemirror_mode": {
    "name": "ipython",
    "version": 3
   },
   "file_extension": ".py",
   "mimetype": "text/x-python",
   "name": "python",
   "nbconvert_exporter": "python",
   "pygments_lexer": "ipython3",
   "version": "3.7.9"
  },
  "widgets": {
   "application/vnd.jupyter.widget-state+json": {
    "00ff015800344d2c822fb9067de7a2c7": {
     "model_module": "@jupyter-widgets/base",
     "model_name": "LayoutModel",
     "state": {
      "_model_module": "@jupyter-widgets/base",
      "_model_module_version": "1.2.0",
      "_model_name": "LayoutModel",
      "_view_count": null,
      "_view_module": "@jupyter-widgets/base",
      "_view_module_version": "1.2.0",
      "_view_name": "LayoutView",
      "align_content": null,
      "align_items": null,
      "align_self": null,
      "border": null,
      "bottom": null,
      "display": null,
      "flex": null,
      "flex_flow": null,
      "grid_area": null,
      "grid_auto_columns": null,
      "grid_auto_flow": null,
      "grid_auto_rows": null,
      "grid_column": null,
      "grid_gap": null,
      "grid_row": null,
      "grid_template_areas": null,
      "grid_template_columns": null,
      "grid_template_rows": null,
      "height": null,
      "justify_content": null,
      "justify_items": null,
      "left": null,
      "margin": null,
      "max_height": null,
      "max_width": null,
      "min_height": null,
      "min_width": null,
      "object_fit": null,
      "object_position": null,
      "order": null,
      "overflow": null,
      "overflow_x": null,
      "overflow_y": null,
      "padding": null,
      "right": null,
      "top": null,
      "visibility": null,
      "width": null
     }
    },
    "04ed79101c5a4c6cbd3d9af1d8e324ce": {
     "model_module": "@jupyter-widgets/base",
     "model_name": "LayoutModel",
     "state": {
      "_model_module": "@jupyter-widgets/base",
      "_model_module_version": "1.2.0",
      "_model_name": "LayoutModel",
      "_view_count": null,
      "_view_module": "@jupyter-widgets/base",
      "_view_module_version": "1.2.0",
      "_view_name": "LayoutView",
      "align_content": null,
      "align_items": null,
      "align_self": null,
      "border": null,
      "bottom": null,
      "display": null,
      "flex": null,
      "flex_flow": null,
      "grid_area": null,
      "grid_auto_columns": null,
      "grid_auto_flow": null,
      "grid_auto_rows": null,
      "grid_column": null,
      "grid_gap": null,
      "grid_row": null,
      "grid_template_areas": null,
      "grid_template_columns": null,
      "grid_template_rows": null,
      "height": null,
      "justify_content": null,
      "justify_items": null,
      "left": null,
      "margin": null,
      "max_height": null,
      "max_width": null,
      "min_height": null,
      "min_width": null,
      "object_fit": null,
      "object_position": null,
      "order": null,
      "overflow": null,
      "overflow_x": null,
      "overflow_y": null,
      "padding": null,
      "right": null,
      "top": null,
      "visibility": null,
      "width": null
     }
    },
    "13d575496b54415f987bd4b5105c2dfb": {
     "model_module": "@jupyter-widgets/controls",
     "model_name": "DescriptionStyleModel",
     "state": {
      "_model_module": "@jupyter-widgets/controls",
      "_model_module_version": "1.5.0",
      "_model_name": "DescriptionStyleModel",
      "_view_count": null,
      "_view_module": "@jupyter-widgets/base",
      "_view_module_version": "1.2.0",
      "_view_name": "StyleView",
      "description_width": ""
     }
    },
    "1d39263f87bc47409181d492981a8e3f": {
     "model_module": "@jupyter-widgets/controls",
     "model_name": "FloatProgressModel",
     "state": {
      "_dom_classes": [],
      "_model_module": "@jupyter-widgets/controls",
      "_model_module_version": "1.5.0",
      "_model_name": "FloatProgressModel",
      "_view_count": null,
      "_view_module": "@jupyter-widgets/controls",
      "_view_module_version": "1.5.0",
      "_view_name": "ProgressView",
      "bar_style": "success",
      "description": "100%",
      "description_tooltip": null,
      "layout": "IPY_MODEL_8e092e3f134a4b639db89183d9ffa22b",
      "max": 27,
      "min": 0,
      "orientation": "horizontal",
      "style": "IPY_MODEL_ecb24134e08a4b91860a825c4389d43c",
      "value": 27
     }
    },
    "2b123df4ccec499abc0ed57ce0fbcf7d": {
     "model_module": "@jupyter-widgets/controls",
     "model_name": "FloatProgressModel",
     "state": {
      "_dom_classes": [],
      "_model_module": "@jupyter-widgets/controls",
      "_model_module_version": "1.5.0",
      "_model_name": "FloatProgressModel",
      "_view_count": null,
      "_view_module": "@jupyter-widgets/controls",
      "_view_module_version": "1.5.0",
      "_view_name": "ProgressView",
      "bar_style": "success",
      "description": "Images: ",
      "description_tooltip": null,
      "layout": "IPY_MODEL_86fd2f0f278d4f338cf655c3e8b677b6",
      "max": 1,
      "min": 0,
      "orientation": "horizontal",
      "style": "IPY_MODEL_9564dd73973d4494a7e077b997bad018",
      "value": 1
     }
    },
    "3c059194a67f4d37be98dfd22121edaf": {
     "model_module": "@jupyter-widgets/base",
     "model_name": "LayoutModel",
     "state": {
      "_model_module": "@jupyter-widgets/base",
      "_model_module_version": "1.2.0",
      "_model_name": "LayoutModel",
      "_view_count": null,
      "_view_module": "@jupyter-widgets/base",
      "_view_module_version": "1.2.0",
      "_view_name": "LayoutView",
      "align_content": null,
      "align_items": null,
      "align_self": null,
      "border": null,
      "bottom": null,
      "display": null,
      "flex": null,
      "flex_flow": null,
      "grid_area": null,
      "grid_auto_columns": null,
      "grid_auto_flow": null,
      "grid_auto_rows": null,
      "grid_column": null,
      "grid_gap": null,
      "grid_row": null,
      "grid_template_areas": null,
      "grid_template_columns": null,
      "grid_template_rows": null,
      "height": null,
      "justify_content": null,
      "justify_items": null,
      "left": null,
      "margin": null,
      "max_height": null,
      "max_width": null,
      "min_height": null,
      "min_width": null,
      "object_fit": null,
      "object_position": null,
      "order": null,
      "overflow": null,
      "overflow_x": null,
      "overflow_y": null,
      "padding": null,
      "right": null,
      "top": null,
      "visibility": null,
      "width": null
     }
    },
    "3ed32593509b4a23bb2b639834b38f32": {
     "model_module": "@jupyter-widgets/controls",
     "model_name": "DescriptionStyleModel",
     "state": {
      "_model_module": "@jupyter-widgets/controls",
      "_model_module_version": "1.5.0",
      "_model_name": "DescriptionStyleModel",
      "_view_count": null,
      "_view_module": "@jupyter-widgets/base",
      "_view_module_version": "1.2.0",
      "_view_name": "StyleView",
      "description_width": ""
     }
    },
    "4fd855d876f2450789b932980ba30584": {
     "model_module": "@jupyter-widgets/base",
     "model_name": "LayoutModel",
     "state": {
      "_model_module": "@jupyter-widgets/base",
      "_model_module_version": "1.2.0",
      "_model_name": "LayoutModel",
      "_view_count": null,
      "_view_module": "@jupyter-widgets/base",
      "_view_module_version": "1.2.0",
      "_view_name": "LayoutView",
      "align_content": null,
      "align_items": null,
      "align_self": null,
      "border": null,
      "bottom": null,
      "display": null,
      "flex": null,
      "flex_flow": null,
      "grid_area": null,
      "grid_auto_columns": null,
      "grid_auto_flow": null,
      "grid_auto_rows": null,
      "grid_column": null,
      "grid_gap": null,
      "grid_row": null,
      "grid_template_areas": null,
      "grid_template_columns": null,
      "grid_template_rows": null,
      "height": null,
      "justify_content": null,
      "justify_items": null,
      "left": null,
      "margin": null,
      "max_height": null,
      "max_width": null,
      "min_height": null,
      "min_width": null,
      "object_fit": null,
      "object_position": null,
      "order": null,
      "overflow": null,
      "overflow_x": null,
      "overflow_y": null,
      "padding": null,
      "right": null,
      "top": null,
      "visibility": null,
      "width": null
     }
    },
    "4fe5e22c7e8a47e3a1562efdca619d06": {
     "model_module": "@jupyter-widgets/base",
     "model_name": "LayoutModel",
     "state": {
      "_model_module": "@jupyter-widgets/base",
      "_model_module_version": "1.2.0",
      "_model_name": "LayoutModel",
      "_view_count": null,
      "_view_module": "@jupyter-widgets/base",
      "_view_module_version": "1.2.0",
      "_view_name": "LayoutView",
      "align_content": null,
      "align_items": null,
      "align_self": null,
      "border": null,
      "bottom": null,
      "display": null,
      "flex": null,
      "flex_flow": null,
      "grid_area": null,
      "grid_auto_columns": null,
      "grid_auto_flow": null,
      "grid_auto_rows": null,
      "grid_column": null,
      "grid_gap": null,
      "grid_row": null,
      "grid_template_areas": null,
      "grid_template_columns": null,
      "grid_template_rows": null,
      "height": null,
      "justify_content": null,
      "justify_items": null,
      "left": null,
      "margin": null,
      "max_height": null,
      "max_width": null,
      "min_height": null,
      "min_width": null,
      "object_fit": null,
      "object_position": null,
      "order": null,
      "overflow": null,
      "overflow_x": null,
      "overflow_y": null,
      "padding": null,
      "right": null,
      "top": null,
      "visibility": null,
      "width": null
     }
    },
    "5c034f41ba0d4d8ca1eca01eab10a7d3": {
     "model_module": "@jupyter-widgets/controls",
     "model_name": "HBoxModel",
     "state": {
      "_dom_classes": [],
      "_model_module": "@jupyter-widgets/controls",
      "_model_module_version": "1.5.0",
      "_model_name": "HBoxModel",
      "_view_count": null,
      "_view_module": "@jupyter-widgets/controls",
      "_view_module_version": "1.5.0",
      "_view_name": "HBoxView",
      "box_style": "",
      "children": [
       "IPY_MODEL_63a296d7487f496da712d37561d27d63",
       "IPY_MODEL_cbd89996e5eb449cbb3608091ed814f6"
      ],
      "layout": "IPY_MODEL_80c9e67b372748cdb10e3cfe734c6821"
     }
    },
    "63a296d7487f496da712d37561d27d63": {
     "model_module": "@jupyter-widgets/controls",
     "model_name": "FloatProgressModel",
     "state": {
      "_dom_classes": [],
      "_model_module": "@jupyter-widgets/controls",
      "_model_module_version": "1.5.0",
      "_model_name": "FloatProgressModel",
      "_view_count": null,
      "_view_module": "@jupyter-widgets/controls",
      "_view_module_version": "1.5.0",
      "_view_name": "ProgressView",
      "bar_style": "success",
      "description": "Images: 100%",
      "description_tooltip": null,
      "layout": "IPY_MODEL_9580795c81304858b090dfdb34edfd64",
      "max": 2,
      "min": 0,
      "orientation": "horizontal",
      "style": "IPY_MODEL_a8de7fcf109142fd94e948ec105bbcf6",
      "value": 2
     }
    },
    "67e77e28f7e0470294ca35f9e738a5ce": {
     "model_module": "@jupyter-widgets/base",
     "model_name": "LayoutModel",
     "state": {
      "_model_module": "@jupyter-widgets/base",
      "_model_module_version": "1.2.0",
      "_model_name": "LayoutModel",
      "_view_count": null,
      "_view_module": "@jupyter-widgets/base",
      "_view_module_version": "1.2.0",
      "_view_name": "LayoutView",
      "align_content": null,
      "align_items": null,
      "align_self": null,
      "border": null,
      "bottom": null,
      "display": null,
      "flex": null,
      "flex_flow": null,
      "grid_area": null,
      "grid_auto_columns": null,
      "grid_auto_flow": null,
      "grid_auto_rows": null,
      "grid_column": null,
      "grid_gap": null,
      "grid_row": null,
      "grid_template_areas": null,
      "grid_template_columns": null,
      "grid_template_rows": null,
      "height": null,
      "justify_content": null,
      "justify_items": null,
      "left": null,
      "margin": null,
      "max_height": null,
      "max_width": null,
      "min_height": null,
      "min_width": null,
      "object_fit": null,
      "object_position": null,
      "order": null,
      "overflow": null,
      "overflow_x": null,
      "overflow_y": null,
      "padding": null,
      "right": null,
      "top": null,
      "visibility": null,
      "width": null
     }
    },
    "6b4660b0d95c400eba2d35ff5badf4a5": {
     "model_module": "@jupyter-widgets/base",
     "model_name": "LayoutModel",
     "state": {
      "_model_module": "@jupyter-widgets/base",
      "_model_module_version": "1.2.0",
      "_model_name": "LayoutModel",
      "_view_count": null,
      "_view_module": "@jupyter-widgets/base",
      "_view_module_version": "1.2.0",
      "_view_name": "LayoutView",
      "align_content": null,
      "align_items": null,
      "align_self": null,
      "border": null,
      "bottom": null,
      "display": null,
      "flex": null,
      "flex_flow": null,
      "grid_area": null,
      "grid_auto_columns": null,
      "grid_auto_flow": null,
      "grid_auto_rows": null,
      "grid_column": null,
      "grid_gap": null,
      "grid_row": null,
      "grid_template_areas": null,
      "grid_template_columns": null,
      "grid_template_rows": null,
      "height": null,
      "justify_content": null,
      "justify_items": null,
      "left": null,
      "margin": null,
      "max_height": null,
      "max_width": null,
      "min_height": null,
      "min_width": null,
      "object_fit": null,
      "object_position": null,
      "order": null,
      "overflow": null,
      "overflow_x": null,
      "overflow_y": null,
      "padding": null,
      "right": null,
      "top": null,
      "visibility": null,
      "width": null
     }
    },
    "6f847f889b3343fb9efe8e3783c6c759": {
     "model_module": "@jupyter-widgets/controls",
     "model_name": "HTMLModel",
     "state": {
      "_dom_classes": [],
      "_model_module": "@jupyter-widgets/controls",
      "_model_module_version": "1.5.0",
      "_model_name": "HTMLModel",
      "_view_count": null,
      "_view_module": "@jupyter-widgets/controls",
      "_view_module_version": "1.5.0",
      "_view_name": "HTMLView",
      "description": "",
      "description_tooltip": null,
      "layout": "IPY_MODEL_e4f8816990cf4bb5af4aefc83a717929",
      "placeholder": "​",
      "style": "IPY_MODEL_98b8b0d6f5c34154ab0827767a1590e7",
      "value": " 55/? [05:44&lt;00:00,  6.26s/it]"
     }
    },
    "729928f966074f7b83bc9ef10fd3c99a": {
     "model_module": "@jupyter-widgets/controls",
     "model_name": "HBoxModel",
     "state": {
      "_dom_classes": [],
      "_model_module": "@jupyter-widgets/controls",
      "_model_module_version": "1.5.0",
      "_model_name": "HBoxModel",
      "_view_count": null,
      "_view_module": "@jupyter-widgets/controls",
      "_view_module_version": "1.5.0",
      "_view_name": "HBoxView",
      "box_style": "",
      "children": [
       "IPY_MODEL_821a557bb55d4e359813efe2558e2753",
       "IPY_MODEL_ca40439db4684bd4bf053590cc8e316e"
      ],
      "layout": "IPY_MODEL_d2ca1ff79e17476a8d919231bdbe7ed1"
     }
    },
    "80c9e67b372748cdb10e3cfe734c6821": {
     "model_module": "@jupyter-widgets/base",
     "model_name": "LayoutModel",
     "state": {
      "_model_module": "@jupyter-widgets/base",
      "_model_module_version": "1.2.0",
      "_model_name": "LayoutModel",
      "_view_count": null,
      "_view_module": "@jupyter-widgets/base",
      "_view_module_version": "1.2.0",
      "_view_name": "LayoutView",
      "align_content": null,
      "align_items": null,
      "align_self": null,
      "border": null,
      "bottom": null,
      "display": null,
      "flex": null,
      "flex_flow": null,
      "grid_area": null,
      "grid_auto_columns": null,
      "grid_auto_flow": null,
      "grid_auto_rows": null,
      "grid_column": null,
      "grid_gap": null,
      "grid_row": null,
      "grid_template_areas": null,
      "grid_template_columns": null,
      "grid_template_rows": null,
      "height": null,
      "justify_content": null,
      "justify_items": null,
      "left": null,
      "margin": null,
      "max_height": null,
      "max_width": null,
      "min_height": null,
      "min_width": null,
      "object_fit": null,
      "object_position": null,
      "order": null,
      "overflow": null,
      "overflow_x": null,
      "overflow_y": null,
      "padding": null,
      "right": null,
      "top": null,
      "visibility": null,
      "width": null
     }
    },
    "821a557bb55d4e359813efe2558e2753": {
     "model_module": "@jupyter-widgets/controls",
     "model_name": "FloatProgressModel",
     "state": {
      "_dom_classes": [],
      "_model_module": "@jupyter-widgets/controls",
      "_model_module_version": "1.5.0",
      "_model_name": "FloatProgressModel",
      "_view_count": null,
      "_view_module": "@jupyter-widgets/controls",
      "_view_module_version": "1.5.0",
      "_view_name": "ProgressView",
      "bar_style": "success",
      "description": "",
      "description_tooltip": null,
      "layout": "IPY_MODEL_4fe5e22c7e8a47e3a1562efdca619d06",
      "max": 1,
      "min": 0,
      "orientation": "horizontal",
      "style": "IPY_MODEL_e4b58d32f2de48f590340ebc7d3aab75",
      "value": 0
     }
    },
    "86fd2f0f278d4f338cf655c3e8b677b6": {
     "model_module": "@jupyter-widgets/base",
     "model_name": "LayoutModel",
     "state": {
      "_model_module": "@jupyter-widgets/base",
      "_model_module_version": "1.2.0",
      "_model_name": "LayoutModel",
      "_view_count": null,
      "_view_module": "@jupyter-widgets/base",
      "_view_module_version": "1.2.0",
      "_view_name": "LayoutView",
      "align_content": null,
      "align_items": null,
      "align_self": null,
      "border": null,
      "bottom": null,
      "display": null,
      "flex": null,
      "flex_flow": null,
      "grid_area": null,
      "grid_auto_columns": null,
      "grid_auto_flow": null,
      "grid_auto_rows": null,
      "grid_column": null,
      "grid_gap": null,
      "grid_row": null,
      "grid_template_areas": null,
      "grid_template_columns": null,
      "grid_template_rows": null,
      "height": null,
      "justify_content": null,
      "justify_items": null,
      "left": null,
      "margin": null,
      "max_height": null,
      "max_width": null,
      "min_height": null,
      "min_width": null,
      "object_fit": null,
      "object_position": null,
      "order": null,
      "overflow": null,
      "overflow_x": null,
      "overflow_y": null,
      "padding": null,
      "right": null,
      "top": null,
      "visibility": null,
      "width": null
     }
    },
    "8e092e3f134a4b639db89183d9ffa22b": {
     "model_module": "@jupyter-widgets/base",
     "model_name": "LayoutModel",
     "state": {
      "_model_module": "@jupyter-widgets/base",
      "_model_module_version": "1.2.0",
      "_model_name": "LayoutModel",
      "_view_count": null,
      "_view_module": "@jupyter-widgets/base",
      "_view_module_version": "1.2.0",
      "_view_name": "LayoutView",
      "align_content": null,
      "align_items": null,
      "align_self": null,
      "border": null,
      "bottom": null,
      "display": null,
      "flex": null,
      "flex_flow": null,
      "grid_area": null,
      "grid_auto_columns": null,
      "grid_auto_flow": null,
      "grid_auto_rows": null,
      "grid_column": null,
      "grid_gap": null,
      "grid_row": null,
      "grid_template_areas": null,
      "grid_template_columns": null,
      "grid_template_rows": null,
      "height": null,
      "justify_content": null,
      "justify_items": null,
      "left": null,
      "margin": null,
      "max_height": null,
      "max_width": null,
      "min_height": null,
      "min_width": null,
      "object_fit": null,
      "object_position": null,
      "order": null,
      "overflow": null,
      "overflow_x": null,
      "overflow_y": null,
      "padding": null,
      "right": null,
      "top": null,
      "visibility": null,
      "width": null
     }
    },
    "8e8a9bc054b843f4ae1cb6a2695f26e2": {
     "model_module": "@jupyter-widgets/base",
     "model_name": "LayoutModel",
     "state": {
      "_model_module": "@jupyter-widgets/base",
      "_model_module_version": "1.2.0",
      "_model_name": "LayoutModel",
      "_view_count": null,
      "_view_module": "@jupyter-widgets/base",
      "_view_module_version": "1.2.0",
      "_view_name": "LayoutView",
      "align_content": null,
      "align_items": null,
      "align_self": null,
      "border": null,
      "bottom": null,
      "display": null,
      "flex": null,
      "flex_flow": null,
      "grid_area": null,
      "grid_auto_columns": null,
      "grid_auto_flow": null,
      "grid_auto_rows": null,
      "grid_column": null,
      "grid_gap": null,
      "grid_row": null,
      "grid_template_areas": null,
      "grid_template_columns": null,
      "grid_template_rows": null,
      "height": null,
      "justify_content": null,
      "justify_items": null,
      "left": null,
      "margin": null,
      "max_height": null,
      "max_width": null,
      "min_height": null,
      "min_width": null,
      "object_fit": null,
      "object_position": null,
      "order": null,
      "overflow": null,
      "overflow_x": null,
      "overflow_y": null,
      "padding": null,
      "right": null,
      "top": null,
      "visibility": null,
      "width": null
     }
    },
    "94918a7109c0410b8c8dcfb2019d6e49": {
     "model_module": "@jupyter-widgets/controls",
     "model_name": "HTMLModel",
     "state": {
      "_dom_classes": [],
      "_model_module": "@jupyter-widgets/controls",
      "_model_module_version": "1.5.0",
      "_model_name": "HTMLModel",
      "_view_count": null,
      "_view_module": "@jupyter-widgets/controls",
      "_view_module_version": "1.5.0",
      "_view_name": "HTMLView",
      "description": "",
      "description_tooltip": null,
      "layout": "IPY_MODEL_04ed79101c5a4c6cbd3d9af1d8e324ce",
      "placeholder": "​",
      "style": "IPY_MODEL_d6f95864d605443f845cdcdee0b8eeef",
      "value": " 173/173 [33:00&lt;00:00, 11.45s/it]"
     }
    },
    "9564dd73973d4494a7e077b997bad018": {
     "model_module": "@jupyter-widgets/controls",
     "model_name": "ProgressStyleModel",
     "state": {
      "_model_module": "@jupyter-widgets/controls",
      "_model_module_version": "1.5.0",
      "_model_name": "ProgressStyleModel",
      "_view_count": null,
      "_view_module": "@jupyter-widgets/base",
      "_view_module_version": "1.2.0",
      "_view_name": "StyleView",
      "bar_color": null,
      "description_width": "initial"
     }
    },
    "9580795c81304858b090dfdb34edfd64": {
     "model_module": "@jupyter-widgets/base",
     "model_name": "LayoutModel",
     "state": {
      "_model_module": "@jupyter-widgets/base",
      "_model_module_version": "1.2.0",
      "_model_name": "LayoutModel",
      "_view_count": null,
      "_view_module": "@jupyter-widgets/base",
      "_view_module_version": "1.2.0",
      "_view_name": "LayoutView",
      "align_content": null,
      "align_items": null,
      "align_self": null,
      "border": null,
      "bottom": null,
      "display": null,
      "flex": null,
      "flex_flow": null,
      "grid_area": null,
      "grid_auto_columns": null,
      "grid_auto_flow": null,
      "grid_auto_rows": null,
      "grid_column": null,
      "grid_gap": null,
      "grid_row": null,
      "grid_template_areas": null,
      "grid_template_columns": null,
      "grid_template_rows": null,
      "height": null,
      "justify_content": null,
      "justify_items": null,
      "left": null,
      "margin": null,
      "max_height": null,
      "max_width": null,
      "min_height": null,
      "min_width": null,
      "object_fit": null,
      "object_position": null,
      "order": null,
      "overflow": null,
      "overflow_x": null,
      "overflow_y": null,
      "padding": null,
      "right": null,
      "top": null,
      "visibility": null,
      "width": null
     }
    },
    "98b8b0d6f5c34154ab0827767a1590e7": {
     "model_module": "@jupyter-widgets/controls",
     "model_name": "DescriptionStyleModel",
     "state": {
      "_model_module": "@jupyter-widgets/controls",
      "_model_module_version": "1.5.0",
      "_model_name": "DescriptionStyleModel",
      "_view_count": null,
      "_view_module": "@jupyter-widgets/base",
      "_view_module_version": "1.2.0",
      "_view_name": "StyleView",
      "description_width": ""
     }
    },
    "a36dc6e745b445c29022f76e35ff1047": {
     "model_module": "@jupyter-widgets/controls",
     "model_name": "HBoxModel",
     "state": {
      "_dom_classes": [],
      "_model_module": "@jupyter-widgets/controls",
      "_model_module_version": "1.5.0",
      "_model_name": "HBoxModel",
      "_view_count": null,
      "_view_module": "@jupyter-widgets/controls",
      "_view_module_version": "1.5.0",
      "_view_name": "HBoxView",
      "box_style": "",
      "children": [
       "IPY_MODEL_2b123df4ccec499abc0ed57ce0fbcf7d",
       "IPY_MODEL_6f847f889b3343fb9efe8e3783c6c759"
      ],
      "layout": "IPY_MODEL_00ff015800344d2c822fb9067de7a2c7"
     }
    },
    "a8de7fcf109142fd94e948ec105bbcf6": {
     "model_module": "@jupyter-widgets/controls",
     "model_name": "ProgressStyleModel",
     "state": {
      "_model_module": "@jupyter-widgets/controls",
      "_model_module_version": "1.5.0",
      "_model_name": "ProgressStyleModel",
      "_view_count": null,
      "_view_module": "@jupyter-widgets/base",
      "_view_module_version": "1.2.0",
      "_view_name": "StyleView",
      "bar_color": null,
      "description_width": "initial"
     }
    },
    "aa633fca61834088b1e1a9a4bb1e888e": {
     "model_module": "@jupyter-widgets/controls",
     "model_name": "ProgressStyleModel",
     "state": {
      "_model_module": "@jupyter-widgets/controls",
      "_model_module_version": "1.5.0",
      "_model_name": "ProgressStyleModel",
      "_view_count": null,
      "_view_module": "@jupyter-widgets/base",
      "_view_module_version": "1.2.0",
      "_view_name": "StyleView",
      "bar_color": null,
      "description_width": "initial"
     }
    },
    "ab0c0f2526a44501b5e72a19b82c4022": {
     "model_module": "@jupyter-widgets/controls",
     "model_name": "HTMLModel",
     "state": {
      "_dom_classes": [],
      "_model_module": "@jupyter-widgets/controls",
      "_model_module_version": "1.5.0",
      "_model_name": "HTMLModel",
      "_view_count": null,
      "_view_module": "@jupyter-widgets/controls",
      "_view_module_version": "1.5.0",
      "_view_name": "HTMLView",
      "description": "",
      "description_tooltip": null,
      "layout": "IPY_MODEL_3c059194a67f4d37be98dfd22121edaf",
      "placeholder": "​",
      "style": "IPY_MODEL_3ed32593509b4a23bb2b639834b38f32",
      "value": " 27/27 [04:06&lt;00:00,  9.14s/it]"
     }
    },
    "bc618126ce264f0ea0d5db8b5e1309a5": {
     "model_module": "@jupyter-widgets/controls",
     "model_name": "FloatProgressModel",
     "state": {
      "_dom_classes": [],
      "_model_module": "@jupyter-widgets/controls",
      "_model_module_version": "1.5.0",
      "_model_name": "FloatProgressModel",
      "_view_count": null,
      "_view_module": "@jupyter-widgets/controls",
      "_view_module_version": "1.5.0",
      "_view_name": "ProgressView",
      "bar_style": "success",
      "description": "Images: 100%",
      "description_tooltip": null,
      "layout": "IPY_MODEL_8e8a9bc054b843f4ae1cb6a2695f26e2",
      "max": 173,
      "min": 0,
      "orientation": "horizontal",
      "style": "IPY_MODEL_aa633fca61834088b1e1a9a4bb1e888e",
      "value": 173
     }
    },
    "ca40439db4684bd4bf053590cc8e316e": {
     "model_module": "@jupyter-widgets/controls",
     "model_name": "HTMLModel",
     "state": {
      "_dom_classes": [],
      "_model_module": "@jupyter-widgets/controls",
      "_model_module_version": "1.5.0",
      "_model_name": "HTMLModel",
      "_view_count": null,
      "_view_module": "@jupyter-widgets/controls",
      "_view_module_version": "1.5.0",
      "_view_name": "HTMLView",
      "description": "",
      "description_tooltip": null,
      "layout": "IPY_MODEL_d0839b7858b74b9fbc3d348267551c5a",
      "placeholder": "​",
      "style": "IPY_MODEL_e34b5c5abcdd44e289bba468ca6095bf",
      "value": " 0/0 [06:12&lt;?, ?it/s]"
     }
    },
    "ca734496d7444857b6cc3d32e09df387": {
     "model_module": "@jupyter-widgets/controls",
     "model_name": "HBoxModel",
     "state": {
      "_dom_classes": [],
      "_model_module": "@jupyter-widgets/controls",
      "_model_module_version": "1.5.0",
      "_model_name": "HBoxModel",
      "_view_count": null,
      "_view_module": "@jupyter-widgets/controls",
      "_view_module_version": "1.5.0",
      "_view_name": "HBoxView",
      "box_style": "",
      "children": [
       "IPY_MODEL_bc618126ce264f0ea0d5db8b5e1309a5",
       "IPY_MODEL_94918a7109c0410b8c8dcfb2019d6e49"
      ],
      "layout": "IPY_MODEL_6b4660b0d95c400eba2d35ff5badf4a5"
     }
    },
    "cbd89996e5eb449cbb3608091ed814f6": {
     "model_module": "@jupyter-widgets/controls",
     "model_name": "HTMLModel",
     "state": {
      "_dom_classes": [],
      "_model_module": "@jupyter-widgets/controls",
      "_model_module_version": "1.5.0",
      "_model_name": "HTMLModel",
      "_view_count": null,
      "_view_module": "@jupyter-widgets/controls",
      "_view_module_version": "1.5.0",
      "_view_name": "HTMLView",
      "description": "",
      "description_tooltip": null,
      "layout": "IPY_MODEL_4fd855d876f2450789b932980ba30584",
      "placeholder": "​",
      "style": "IPY_MODEL_13d575496b54415f987bd4b5105c2dfb",
      "value": " 2/2 [00:01&lt;00:00,  1.05it/s]"
     }
    },
    "d0839b7858b74b9fbc3d348267551c5a": {
     "model_module": "@jupyter-widgets/base",
     "model_name": "LayoutModel",
     "state": {
      "_model_module": "@jupyter-widgets/base",
      "_model_module_version": "1.2.0",
      "_model_name": "LayoutModel",
      "_view_count": null,
      "_view_module": "@jupyter-widgets/base",
      "_view_module_version": "1.2.0",
      "_view_name": "LayoutView",
      "align_content": null,
      "align_items": null,
      "align_self": null,
      "border": null,
      "bottom": null,
      "display": null,
      "flex": null,
      "flex_flow": null,
      "grid_area": null,
      "grid_auto_columns": null,
      "grid_auto_flow": null,
      "grid_auto_rows": null,
      "grid_column": null,
      "grid_gap": null,
      "grid_row": null,
      "grid_template_areas": null,
      "grid_template_columns": null,
      "grid_template_rows": null,
      "height": null,
      "justify_content": null,
      "justify_items": null,
      "left": null,
      "margin": null,
      "max_height": null,
      "max_width": null,
      "min_height": null,
      "min_width": null,
      "object_fit": null,
      "object_position": null,
      "order": null,
      "overflow": null,
      "overflow_x": null,
      "overflow_y": null,
      "padding": null,
      "right": null,
      "top": null,
      "visibility": null,
      "width": null
     }
    },
    "d2ca1ff79e17476a8d919231bdbe7ed1": {
     "model_module": "@jupyter-widgets/base",
     "model_name": "LayoutModel",
     "state": {
      "_model_module": "@jupyter-widgets/base",
      "_model_module_version": "1.2.0",
      "_model_name": "LayoutModel",
      "_view_count": null,
      "_view_module": "@jupyter-widgets/base",
      "_view_module_version": "1.2.0",
      "_view_name": "LayoutView",
      "align_content": null,
      "align_items": null,
      "align_self": null,
      "border": null,
      "bottom": null,
      "display": null,
      "flex": null,
      "flex_flow": null,
      "grid_area": null,
      "grid_auto_columns": null,
      "grid_auto_flow": null,
      "grid_auto_rows": null,
      "grid_column": null,
      "grid_gap": null,
      "grid_row": null,
      "grid_template_areas": null,
      "grid_template_columns": null,
      "grid_template_rows": null,
      "height": null,
      "justify_content": null,
      "justify_items": null,
      "left": null,
      "margin": null,
      "max_height": null,
      "max_width": null,
      "min_height": null,
      "min_width": null,
      "object_fit": null,
      "object_position": null,
      "order": null,
      "overflow": null,
      "overflow_x": null,
      "overflow_y": null,
      "padding": null,
      "right": null,
      "top": null,
      "visibility": null,
      "width": null
     }
    },
    "d6f95864d605443f845cdcdee0b8eeef": {
     "model_module": "@jupyter-widgets/controls",
     "model_name": "DescriptionStyleModel",
     "state": {
      "_model_module": "@jupyter-widgets/controls",
      "_model_module_version": "1.5.0",
      "_model_name": "DescriptionStyleModel",
      "_view_count": null,
      "_view_module": "@jupyter-widgets/base",
      "_view_module_version": "1.2.0",
      "_view_name": "StyleView",
      "description_width": ""
     }
    },
    "e34b5c5abcdd44e289bba468ca6095bf": {
     "model_module": "@jupyter-widgets/controls",
     "model_name": "DescriptionStyleModel",
     "state": {
      "_model_module": "@jupyter-widgets/controls",
      "_model_module_version": "1.5.0",
      "_model_name": "DescriptionStyleModel",
      "_view_count": null,
      "_view_module": "@jupyter-widgets/base",
      "_view_module_version": "1.2.0",
      "_view_name": "StyleView",
      "description_width": ""
     }
    },
    "e4b58d32f2de48f590340ebc7d3aab75": {
     "model_module": "@jupyter-widgets/controls",
     "model_name": "ProgressStyleModel",
     "state": {
      "_model_module": "@jupyter-widgets/controls",
      "_model_module_version": "1.5.0",
      "_model_name": "ProgressStyleModel",
      "_view_count": null,
      "_view_module": "@jupyter-widgets/base",
      "_view_module_version": "1.2.0",
      "_view_name": "StyleView",
      "bar_color": null,
      "description_width": "initial"
     }
    },
    "e4f8816990cf4bb5af4aefc83a717929": {
     "model_module": "@jupyter-widgets/base",
     "model_name": "LayoutModel",
     "state": {
      "_model_module": "@jupyter-widgets/base",
      "_model_module_version": "1.2.0",
      "_model_name": "LayoutModel",
      "_view_count": null,
      "_view_module": "@jupyter-widgets/base",
      "_view_module_version": "1.2.0",
      "_view_name": "LayoutView",
      "align_content": null,
      "align_items": null,
      "align_self": null,
      "border": null,
      "bottom": null,
      "display": null,
      "flex": null,
      "flex_flow": null,
      "grid_area": null,
      "grid_auto_columns": null,
      "grid_auto_flow": null,
      "grid_auto_rows": null,
      "grid_column": null,
      "grid_gap": null,
      "grid_row": null,
      "grid_template_areas": null,
      "grid_template_columns": null,
      "grid_template_rows": null,
      "height": null,
      "justify_content": null,
      "justify_items": null,
      "left": null,
      "margin": null,
      "max_height": null,
      "max_width": null,
      "min_height": null,
      "min_width": null,
      "object_fit": null,
      "object_position": null,
      "order": null,
      "overflow": null,
      "overflow_x": null,
      "overflow_y": null,
      "padding": null,
      "right": null,
      "top": null,
      "visibility": null,
      "width": null
     }
    },
    "ecb24134e08a4b91860a825c4389d43c": {
     "model_module": "@jupyter-widgets/controls",
     "model_name": "ProgressStyleModel",
     "state": {
      "_model_module": "@jupyter-widgets/controls",
      "_model_module_version": "1.5.0",
      "_model_name": "ProgressStyleModel",
      "_view_count": null,
      "_view_module": "@jupyter-widgets/base",
      "_view_module_version": "1.2.0",
      "_view_name": "StyleView",
      "bar_color": null,
      "description_width": "initial"
     }
    },
    "ee5484ee8ade4632af4cd8100556f18b": {
     "model_module": "@jupyter-widgets/controls",
     "model_name": "HBoxModel",
     "state": {
      "_dom_classes": [],
      "_model_module": "@jupyter-widgets/controls",
      "_model_module_version": "1.5.0",
      "_model_name": "HBoxModel",
      "_view_count": null,
      "_view_module": "@jupyter-widgets/controls",
      "_view_module_version": "1.5.0",
      "_view_name": "HBoxView",
      "box_style": "",
      "children": [
       "IPY_MODEL_1d39263f87bc47409181d492981a8e3f",
       "IPY_MODEL_ab0c0f2526a44501b5e72a19b82c4022"
      ],
      "layout": "IPY_MODEL_67e77e28f7e0470294ca35f9e738a5ce"
     }
    }
   }
  }
 },
 "nbformat": 4,
 "nbformat_minor": 4
}
