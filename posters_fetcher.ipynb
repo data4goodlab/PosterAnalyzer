{
 "cells": [
  {
   "cell_type": "markdown",
   "metadata": {
    "id": "gTgLx0yppan0"
   },
   "source": [
    "# Fetching The Posters Metadata And Images"
   ]
  },
  {
   "cell_type": "code",
   "execution_count": 1,
   "metadata": {
    "colab": {
     "base_uri": "https://localhost:8080/"
    },
    "executionInfo": {
     "elapsed": 14750,
     "status": "ok",
     "timestamp": 1653287972922,
     "user": {
      "displayName": "Mor Levy",
      "userId": "01162621481807463830"
     },
     "user_tz": -180
    },
    "id": "-8g6HiU1xXiG",
    "outputId": "9d30e004-7eb6-4e91-b219-c30dfa4960b1"
   },
   "outputs": [
    {
     "name": "stdout",
     "output_type": "stream",
     "text": [
      "Collecting IMDbPY\n",
      "  Downloading IMDbPY-2021.4.18-py3-none-any.whl (298 kB)\n",
      "\u001b[K     |████████████████████████████████| 298 kB 8.5 MB/s eta 0:00:01\n",
      "\u001b[?25hRequirement already satisfied: SQLAlchemy in /usr/local/lib/python3.7/dist-packages (from IMDbPY) (1.4.36)\n",
      "Requirement already satisfied: lxml in /usr/local/lib/python3.7/dist-packages (from IMDbPY) (4.2.6)\n",
      "Requirement already satisfied: importlib-metadata in /usr/local/lib/python3.7/dist-packages (from SQLAlchemy->IMDbPY) (4.11.3)\n",
      "Requirement already satisfied: greenlet!=0.4.17 in /usr/local/lib/python3.7/dist-packages (from SQLAlchemy->IMDbPY) (1.1.2)\n",
      "Requirement already satisfied: typing-extensions>=3.6.4 in /usr/local/lib/python3.7/dist-packages (from importlib-metadata->SQLAlchemy->IMDbPY) (4.2.0)\n",
      "Requirement already satisfied: zipp>=0.5 in /usr/local/lib/python3.7/dist-packages (from importlib-metadata->SQLAlchemy->IMDbPY) (3.8.0)\n",
      "Installing collected packages: IMDbPY\n",
      "Successfully installed IMDbPY-2021.4.18\n",
      "Collecting tmdbsimple\n",
      "  Downloading tmdbsimple-2.9.1-py3-none-any.whl (38 kB)\n",
      "Requirement already satisfied: requests in /usr/local/lib/python3.7/dist-packages (from tmdbsimple) (2.23.0)\n",
      "Requirement already satisfied: certifi>=2017.4.17 in /usr/local/lib/python3.7/dist-packages (from requests->tmdbsimple) (2021.10.8)\n",
      "Requirement already satisfied: chardet<4,>=3.0.2 in /usr/local/lib/python3.7/dist-packages (from requests->tmdbsimple) (3.0.4)\n",
      "Requirement already satisfied: urllib3!=1.25.0,!=1.25.1,<1.26,>=1.21.1 in /usr/local/lib/python3.7/dist-packages (from requests->tmdbsimple) (1.24.3)\n",
      "Requirement already satisfied: idna<3,>=2.5 in /usr/local/lib/python3.7/dist-packages (from requests->tmdbsimple) (2.10)\n",
      "Installing collected packages: tmdbsimple\n",
      "Successfully installed tmdbsimple-2.9.1\n"
     ]
    }
   ],
   "source": [
    "!pip install IMDbPY\n",
    "!pip install tmdbsimple"
   ]
  },
  {
   "cell_type": "code",
   "execution_count": 2,
   "metadata": {
    "executionInfo": {
     "elapsed": 1055,
     "status": "ok",
     "timestamp": 1653287973963,
     "user": {
      "displayName": "Mor Levy",
      "userId": "01162621481807463830"
     },
     "user_tz": -180
    },
    "id": "RLF0KMke6qva"
   },
   "outputs": [],
   "source": [
    "import json\n",
    "import os\n",
    "from io import BytesIO\n",
    "from pathlib import Path\n",
    "\n",
    "import pandas as pd\n",
    "import requests\n",
    "from PIL import Image\n",
    "from tqdm import tqdm_notebook as tqdm\n",
    "import numpy as np\n",
    "\n",
    "import imdb\n",
    "import tmdbsimple as tmdb"
   ]
  },
  {
   "cell_type": "code",
   "execution_count": null,
   "metadata": {
    "id": "2AotDj206iMt"
   },
   "outputs": [],
   "source": [
    "posters_dir = Path('posters')\n",
    "posters_dir.mkdir()"
   ]
  },
  {
   "cell_type": "code",
   "execution_count": null,
   "metadata": {
    "id": "2QnAVccG6vAx"
   },
   "outputs": [],
   "source": [
    "def save_img(dir_path, save_path, url):\n",
    "  response = requests.get(f'{url}')\n",
    "  img = Image.open(BytesIO(response.content))\n",
    "\n",
    "  if not os.path.exists(dir_path):\n",
    "    os.makedirs(dir_path)\n",
    "\n",
    "  img.save(f'{dir_path}/{save_path}')"
   ]
  },
  {
   "cell_type": "markdown",
   "metadata": {
    "id": "NmJDkxHVO5DE"
   },
   "source": [
    "## Load latest IMDb data:"
   ]
  },
  {
   "cell_type": "code",
   "execution_count": null,
   "metadata": {
    "colab": {
     "base_uri": "https://localhost:8080/"
    },
    "executionInfo": {
     "elapsed": 40652,
     "status": "ok",
     "timestamp": 1652604080611,
     "user": {
      "displayName": "Mor Levy",
      "userId": "01162621481807463830"
     },
     "user_tz": -180
    },
    "id": "k5ZJfK8FNY6C",
    "outputId": "1ab15b81-301a-4d00-c8fc-fa60de3c323d"
   },
   "outputs": [
    {
     "name": "stderr",
     "output_type": "stream",
     "text": [
      "/usr/local/lib/python3.7/dist-packages/IPython/core/interactiveshell.py:2882: DtypeWarning: Columns (7) have mixed types.Specify dtype option on import or set low_memory=False.\n",
      "  exec(code_obj, self.user_global_ns, self.user_ns)\n"
     ]
    }
   ],
   "source": [
    "basics = pd.read_csv('https://datasets.imdbws.com/title.basics.tsv.gz', sep='\\t', header=0, na_values=\"\\\\N\") # titles from IMDb\n",
    "ratings = pd.read_csv('https://datasets.imdbws.com/title.ratings.tsv.gz', sep='\\t', header=0) # ratings from IMDb"
   ]
  },
  {
   "cell_type": "code",
   "execution_count": null,
   "metadata": {
    "id": "La8Eg56Odjfh"
   },
   "outputs": [],
   "source": [
    "basics = basics[basics[\"titleType\"] == 'movie']\n",
    "basics = basics[basics[\"originalTitle\"]==basics[\"primaryTitle\"]]"
   ]
  },
  {
   "cell_type": "code",
   "execution_count": null,
   "metadata": {
    "id": "s-lBadxllif9"
   },
   "outputs": [],
   "source": [
    "data = pd.merge(ratings, basics, on='tconst').dropna(subset=[\"startYear\"])\n",
    "reduced = data[data[\"numVotes\"] > 1000].sort_values(\"averageRating\", ascending=False) \n",
    "reduced.genres = reduced.genres.str.split(\",\")\n",
    "reduced[\"genres\"] = reduced[\"genres\"].apply(lambda x: [] if  x is np.nan else x)\n",
    "reduced = reduced[reduced[\"genres\"].apply(lambda x: \"Animation\" not in x)]\n",
    "\n",
    "reduced['tconst'].to_csv('reduced-ids.csv', index=False)"
   ]
  },
  {
   "cell_type": "code",
   "execution_count": null,
   "metadata": {
    "id": "czkaQgepCFCO"
   },
   "outputs": [],
   "source": [
    "# sample - you should comment those lines for full data run\n",
    "sample_ids = ['tt0133093', 'tt1392170', 'tt1431045']\n",
    "reduced = reduced[reduced['tconst'].isin(sample_ids)]"
   ]
  },
  {
   "cell_type": "code",
   "execution_count": null,
   "metadata": {
    "id": "G6RVYbX79owp"
   },
   "outputs": [],
   "source": [
    "tmdb_key = '' # your tmdb api key\n",
    "\n",
    "with Path(\"tmdb.txt\").open() as  f:\n",
    "  tmdb_key = f.read().strip()"
   ]
  },
  {
   "cell_type": "markdown",
   "metadata": {
    "id": "FK8XDyHt4f_1"
   },
   "source": [
    "## Download Poster Images"
   ]
  },
  {
   "cell_type": "code",
   "execution_count": null,
   "metadata": {
    "collapsed": true,
    "id": "7dJFXwC2zBQF",
    "jupyter": {
     "outputs_hidden": true
    }
   },
   "outputs": [],
   "source": [
    "imdbPy = imdb.IMDb()\n",
    "base_tmdb_img_url = 'https://image.tmdb.org/t/p/w780'\n",
    "tmdb.API_KEY = tmdb_key\n",
    "\n",
    "try: \n",
    "  with Path('curr_id.txt').open(\"r\") as f:\n",
    "      curr = int(f.read()) # In case the program shuts down before finishing everything\n",
    "\n",
    "except FileNotFoundError: \n",
    "  curr = 0 \n",
    "\n",
    "for i, imdb_id in enumerate(tqdm(reduced['tconst'][curr:])):\n",
    "    try:\n",
    "        number_imdb_id = imdb_id.partition('tt')[2]\n",
    "        movie = imdbPy.get_movie(number_imdb_id)\n",
    "        dir_path = posters_dir/imdb_id\n",
    "\n",
    "        # Save images from IMDB\n",
    "        if \"full-size cover url\" in movie.keys():\n",
    "            save_img(dir_path, f'{imdb_id}-imdbpy.jpg', movie[\"full-size cover url\"])\n",
    "        else:\n",
    "            print(f'{imdb_id} does not have a poster')\n",
    "\n",
    "        # Save images from TMDB + images metadata\n",
    "        imgs_metadata = tmdb.Movies(imdb_id).images()['posters']\n",
    "\n",
    "        for img in imgs_metadata:\n",
    "            save_img(dir_path, f'{img[\"file_path\"][1:]}', f'{base_tmdb_img_url}{img[\"file_path\"]}')\n",
    "\n",
    "        with (dir_path/'metadata.json').open(\"w\") as f:\n",
    "            json.dump(imgs_metadata, f)\n",
    "\n",
    "        with (dir_path/'movie_name.txt').open(\"w\") as f:\n",
    "            f.write(f\"{movie.get('title')}\")\n",
    "\n",
    "    except UnicodeEncodeError:\n",
    "        print(\"UnicodeEncodeError\")\n",
    "    except OSError:\n",
    "        print(\"OSError\")\n",
    "    except imdb.IMDbDataAccessError:\n",
    "        print(\"IMDbDataAccessError\")\n",
    "    except KeyError:\n",
    "        print(\"KeyError\")\n",
    "    finally:\n",
    "        with Path('curr_id.txt').open(\"w\") as f:\n",
    "            f.write(f\"{curr+i}\")\n",
    "\n"
   ]
  },
  {
   "cell_type": "code",
   "execution_count": null,
   "metadata": {
    "colab": {
     "base_uri": "https://localhost:8080/",
     "height": 101,
     "referenced_widgets": [
      "d8774138f14a4086a768553f0ca5dc88",
      "e22540b9c9434e099d894b3e52ec62e0",
      "bbf167c36d4e44db8cce4c865a0bde6e",
      "486621b1c5a449fc8495d36554865d49",
      "63c83262b6494121abf8cec7d9b72531",
      "3694d8afc91a46ae9e477d8b3904afd3",
      "6452a41431414782888fddaa3f663d51",
      "fe8fa8802bb0461f874f0323b061b3b5",
      "74dd6c4bc94f4560b7891a6f3ef89e1a",
      "e315aa193dd7433aa2b990491631adfc",
      "2fb8c1d9f59e41ecab0be3802c8ca1eb"
     ]
    },
    "executionInfo": {
     "elapsed": 270,
     "status": "ok",
     "timestamp": 1652604238679,
     "user": {
      "displayName": "Mor Levy",
      "userId": "01162621481807463830"
     },
     "user_tz": -180
    },
    "id": "Ud-3m78CKgSf",
    "outputId": "f4c8f5e0-e4b2-4b92-a19a-5673a47d8e44"
   },
   "outputs": [
    {
     "name": "stderr",
     "output_type": "stream",
     "text": [
      "/usr/local/lib/python3.7/dist-packages/ipykernel_launcher.py:3: TqdmDeprecationWarning: This function will be removed in tqdm==5.0.0\n",
      "Please use `tqdm.notebook.tqdm` instead of `tqdm.tqdm_notebook`\n",
      "  This is separate from the ipykernel package so we can avoid doing imports until\n"
     ]
    },
    {
     "data": {
      "application/vnd.jupyter.widget-view+json": {
       "model_id": "d8774138f14a4086a768553f0ca5dc88",
       "version_major": 2,
       "version_minor": 0
      },
      "text/plain": [
       "0it [00:00, ?it/s]"
      ]
     },
     "metadata": {},
     "output_type": "display_data"
    }
   ],
   "source": [
    "# Create posters dataframe from collected metadata\n",
    "movie_posters = []\n",
    "for movie_dir in tqdm(posters_dir.iterdir()):\n",
    "  try:\n",
    "    with (movie_dir/\"metadata.json\").open(\"r\") as f:\n",
    "      movie_metadata = json.load(f)\n",
    "      df = pd.DataFrame(movie_metadata)\n",
    "      title = (movie_dir/\"movie_name.txt\").open().read()\n",
    "      df[\"movie\"] = title\n",
    "      df[\"tconst\"] = movie_dir.name\n",
    "      movie_posters.append(df)\n",
    "  except FileNotFoundError:\n",
    "      print(movie_dir.name)\n",
    "\n",
    "movie_posters = pd.concat(movie_posters)\n",
    "movie_posters = movie_posters.reset_index(drop=True)\n",
    "movie_posters = movie_posters.merge(reduced, on='tconst')\n",
    "\n",
    "movie_posters.to_pickle(\"movie_posters.pkl\")"
   ]
  },
  {
   "cell_type": "code",
   "execution_count": null,
   "metadata": {
    "colab": {
     "base_uri": "https://localhost:8080/",
     "height": 101,
     "referenced_widgets": [
      "59304b0fc3f749b38a860943c5ca2a17",
      "1fe4c9b582d54e4abdec182fc34a3dcc",
      "4c89d360b4d24714a39847243d05ba75",
      "b897f8406f8f45f79603f88491e4edd7",
      "fa5731582dc6490ea3ea25713d8c60dc",
      "6d6ce720424b49bdac62ef7a8f373104",
      "776bc04c7b2a47f3a2438e7b0e665686",
      "cd66e833a1474a76a057d4ba29fde5dc",
      "470dc92d38fd491e83ef74511e3efc6e",
      "1964cb04fb714895b1b55f002add2283",
      "b075e0e678d84a8c9775d1a3f65fddbc"
     ]
    },
    "executionInfo": {
     "elapsed": 837,
     "status": "ok",
     "timestamp": 1647775809540,
     "user": {
      "displayName": "Mor Levy",
      "photoUrl": "https://lh3.googleusercontent.com/a-/AOh14GhwyEEZtoAuwpSyqNr_bCxfym7rD3MWVdv2TWWFEQ=s64",
      "userId": "01162621481807463830"
     },
     "user_tz": -120
    },
    "id": "BYvC1Hf7AlYB",
    "outputId": "d62f07aa-b31e-4660-8f88-0016ad6ce298"
   },
   "outputs": [
    {
     "name": "stderr",
     "output_type": "stream",
     "text": [
      "/usr/local/lib/python3.7/dist-packages/ipykernel_launcher.py:3: TqdmDeprecationWarning: This function will be removed in tqdm==5.0.0\n",
      "Please use `tqdm.notebook.tqdm` instead of `tqdm.tqdm_notebook`\n",
      "  This is separate from the ipykernel package so we can avoid doing imports until\n"
     ]
    },
    {
     "data": {
      "application/vnd.jupyter.widget-view+json": {
       "model_id": "59304b0fc3f749b38a860943c5ca2a17",
       "version_major": 2,
       "version_minor": 0
      },
      "text/plain": [
       "  0%|          | 0/3 [00:00<?, ?it/s]"
      ]
     },
     "metadata": {},
     "output_type": "display_data"
    }
   ],
   "source": [
    "tmdb.API_KEY = tmdb_key\n",
    "tmdb_data = []\n",
    "for i, imdb_id in enumerate(tqdm(reduced['tconst'][curr:])):\n",
    "  try:\n",
    "      number_id = imdb_id.partition('tt')[2]\n",
    "\n",
    "      tmdb_movie = tmdb.Movies(imdb_id)\n",
    "      tmdb_info = tmdb_movie.info()\n",
    "      tmdb_data.append(tmdb_info)\n",
    "  except requests.HTTPError:\n",
    "    pass"
   ]
  },
  {
   "cell_type": "code",
   "execution_count": null,
   "metadata": {
    "id": "Ks7-OBJHWfID"
   },
   "outputs": [],
   "source": [
    "tmdb_df = pd.DataFrame(tmdb_data)\n",
    "tmdb_df.to_pickle(\"tmdb_data.pkl\")"
   ]
  }
 ],
 "metadata": {
  "colab": {
   "collapsed_sections": [],
   "name": "posters_fetcher.ipynb",
   "provenance": [
    {
     "file_id": "1-42klS_Rn4iRLm-whvco7NWPJGKkjNLh",
     "timestamp": 1631449183990
    }
   ]
  },
  "kernelspec": {
   "display_name": "Python [conda env:subs2graph]",
   "language": "python",
   "name": "conda-env-subs2graph-py"
  },
  "language_info": {
   "codemirror_mode": {
    "name": "ipython",
    "version": 3
   },
   "file_extension": ".py",
   "mimetype": "text/x-python",
   "name": "python",
   "nbconvert_exporter": "python",
   "pygments_lexer": "ipython3",
   "version": "3.6.7"
  },
  "widgets": {
   "application/vnd.jupyter.widget-state+json": {
    "1964cb04fb714895b1b55f002add2283": {
     "model_module": "@jupyter-widgets/base",
     "model_module_version": "1.2.0",
     "model_name": "LayoutModel",
     "state": {
      "_model_module": "@jupyter-widgets/base",
      "_model_module_version": "1.2.0",
      "_model_name": "LayoutModel",
      "_view_count": null,
      "_view_module": "@jupyter-widgets/base",
      "_view_module_version": "1.2.0",
      "_view_name": "LayoutView",
      "align_content": null,
      "align_items": null,
      "align_self": null,
      "border": null,
      "bottom": null,
      "display": null,
      "flex": null,
      "flex_flow": null,
      "grid_area": null,
      "grid_auto_columns": null,
      "grid_auto_flow": null,
      "grid_auto_rows": null,
      "grid_column": null,
      "grid_gap": null,
      "grid_row": null,
      "grid_template_areas": null,
      "grid_template_columns": null,
      "grid_template_rows": null,
      "height": null,
      "justify_content": null,
      "justify_items": null,
      "left": null,
      "margin": null,
      "max_height": null,
      "max_width": null,
      "min_height": null,
      "min_width": null,
      "object_fit": null,
      "object_position": null,
      "order": null,
      "overflow": null,
      "overflow_x": null,
      "overflow_y": null,
      "padding": null,
      "right": null,
      "top": null,
      "visibility": null,
      "width": null
     }
    },
    "1fe4c9b582d54e4abdec182fc34a3dcc": {
     "model_module": "@jupyter-widgets/controls",
     "model_module_version": "1.5.0",
     "model_name": "HTMLModel",
     "state": {
      "_dom_classes": [],
      "_model_module": "@jupyter-widgets/controls",
      "_model_module_version": "1.5.0",
      "_model_name": "HTMLModel",
      "_view_count": null,
      "_view_module": "@jupyter-widgets/controls",
      "_view_module_version": "1.5.0",
      "_view_name": "HTMLView",
      "description": "",
      "description_tooltip": null,
      "layout": "IPY_MODEL_6d6ce720424b49bdac62ef7a8f373104",
      "placeholder": "​",
      "style": "IPY_MODEL_776bc04c7b2a47f3a2438e7b0e665686",
      "value": "100%"
     }
    },
    "2fb8c1d9f59e41ecab0be3802c8ca1eb": {
     "model_module": "@jupyter-widgets/controls",
     "model_module_version": "1.5.0",
     "model_name": "DescriptionStyleModel",
     "state": {
      "_model_module": "@jupyter-widgets/controls",
      "_model_module_version": "1.5.0",
      "_model_name": "DescriptionStyleModel",
      "_view_count": null,
      "_view_module": "@jupyter-widgets/base",
      "_view_module_version": "1.2.0",
      "_view_name": "StyleView",
      "description_width": ""
     }
    },
    "3694d8afc91a46ae9e477d8b3904afd3": {
     "model_module": "@jupyter-widgets/base",
     "model_module_version": "1.2.0",
     "model_name": "LayoutModel",
     "state": {
      "_model_module": "@jupyter-widgets/base",
      "_model_module_version": "1.2.0",
      "_model_name": "LayoutModel",
      "_view_count": null,
      "_view_module": "@jupyter-widgets/base",
      "_view_module_version": "1.2.0",
      "_view_name": "LayoutView",
      "align_content": null,
      "align_items": null,
      "align_self": null,
      "border": null,
      "bottom": null,
      "display": null,
      "flex": null,
      "flex_flow": null,
      "grid_area": null,
      "grid_auto_columns": null,
      "grid_auto_flow": null,
      "grid_auto_rows": null,
      "grid_column": null,
      "grid_gap": null,
      "grid_row": null,
      "grid_template_areas": null,
      "grid_template_columns": null,
      "grid_template_rows": null,
      "height": null,
      "justify_content": null,
      "justify_items": null,
      "left": null,
      "margin": null,
      "max_height": null,
      "max_width": null,
      "min_height": null,
      "min_width": null,
      "object_fit": null,
      "object_position": null,
      "order": null,
      "overflow": null,
      "overflow_x": null,
      "overflow_y": null,
      "padding": null,
      "right": null,
      "top": null,
      "visibility": null,
      "width": null
     }
    },
    "470dc92d38fd491e83ef74511e3efc6e": {
     "model_module": "@jupyter-widgets/controls",
     "model_module_version": "1.5.0",
     "model_name": "ProgressStyleModel",
     "state": {
      "_model_module": "@jupyter-widgets/controls",
      "_model_module_version": "1.5.0",
      "_model_name": "ProgressStyleModel",
      "_view_count": null,
      "_view_module": "@jupyter-widgets/base",
      "_view_module_version": "1.2.0",
      "_view_name": "StyleView",
      "bar_color": null,
      "description_width": ""
     }
    },
    "486621b1c5a449fc8495d36554865d49": {
     "model_module": "@jupyter-widgets/controls",
     "model_module_version": "1.5.0",
     "model_name": "HTMLModel",
     "state": {
      "_dom_classes": [],
      "_model_module": "@jupyter-widgets/controls",
      "_model_module_version": "1.5.0",
      "_model_name": "HTMLModel",
      "_view_count": null,
      "_view_module": "@jupyter-widgets/controls",
      "_view_module_version": "1.5.0",
      "_view_name": "HTMLView",
      "description": "",
      "description_tooltip": null,
      "layout": "IPY_MODEL_e315aa193dd7433aa2b990491631adfc",
      "placeholder": "​",
      "style": "IPY_MODEL_2fb8c1d9f59e41ecab0be3802c8ca1eb",
      "value": " 3/? [00:00&lt;00:00, 46.09it/s]"
     }
    },
    "4c89d360b4d24714a39847243d05ba75": {
     "model_module": "@jupyter-widgets/controls",
     "model_module_version": "1.5.0",
     "model_name": "FloatProgressModel",
     "state": {
      "_dom_classes": [],
      "_model_module": "@jupyter-widgets/controls",
      "_model_module_version": "1.5.0",
      "_model_name": "FloatProgressModel",
      "_view_count": null,
      "_view_module": "@jupyter-widgets/controls",
      "_view_module_version": "1.5.0",
      "_view_name": "ProgressView",
      "bar_style": "success",
      "description": "",
      "description_tooltip": null,
      "layout": "IPY_MODEL_cd66e833a1474a76a057d4ba29fde5dc",
      "max": 3,
      "min": 0,
      "orientation": "horizontal",
      "style": "IPY_MODEL_470dc92d38fd491e83ef74511e3efc6e",
      "value": 3
     }
    },
    "59304b0fc3f749b38a860943c5ca2a17": {
     "model_module": "@jupyter-widgets/controls",
     "model_module_version": "1.5.0",
     "model_name": "HBoxModel",
     "state": {
      "_dom_classes": [],
      "_model_module": "@jupyter-widgets/controls",
      "_model_module_version": "1.5.0",
      "_model_name": "HBoxModel",
      "_view_count": null,
      "_view_module": "@jupyter-widgets/controls",
      "_view_module_version": "1.5.0",
      "_view_name": "HBoxView",
      "box_style": "",
      "children": [
       "IPY_MODEL_1fe4c9b582d54e4abdec182fc34a3dcc",
       "IPY_MODEL_4c89d360b4d24714a39847243d05ba75",
       "IPY_MODEL_b897f8406f8f45f79603f88491e4edd7"
      ],
      "layout": "IPY_MODEL_fa5731582dc6490ea3ea25713d8c60dc"
     }
    },
    "63c83262b6494121abf8cec7d9b72531": {
     "model_module": "@jupyter-widgets/base",
     "model_module_version": "1.2.0",
     "model_name": "LayoutModel",
     "state": {
      "_model_module": "@jupyter-widgets/base",
      "_model_module_version": "1.2.0",
      "_model_name": "LayoutModel",
      "_view_count": null,
      "_view_module": "@jupyter-widgets/base",
      "_view_module_version": "1.2.0",
      "_view_name": "LayoutView",
      "align_content": null,
      "align_items": null,
      "align_self": null,
      "border": null,
      "bottom": null,
      "display": null,
      "flex": null,
      "flex_flow": null,
      "grid_area": null,
      "grid_auto_columns": null,
      "grid_auto_flow": null,
      "grid_auto_rows": null,
      "grid_column": null,
      "grid_gap": null,
      "grid_row": null,
      "grid_template_areas": null,
      "grid_template_columns": null,
      "grid_template_rows": null,
      "height": null,
      "justify_content": null,
      "justify_items": null,
      "left": null,
      "margin": null,
      "max_height": null,
      "max_width": null,
      "min_height": null,
      "min_width": null,
      "object_fit": null,
      "object_position": null,
      "order": null,
      "overflow": null,
      "overflow_x": null,
      "overflow_y": null,
      "padding": null,
      "right": null,
      "top": null,
      "visibility": null,
      "width": null
     }
    },
    "6452a41431414782888fddaa3f663d51": {
     "model_module": "@jupyter-widgets/controls",
     "model_module_version": "1.5.0",
     "model_name": "DescriptionStyleModel",
     "state": {
      "_model_module": "@jupyter-widgets/controls",
      "_model_module_version": "1.5.0",
      "_model_name": "DescriptionStyleModel",
      "_view_count": null,
      "_view_module": "@jupyter-widgets/base",
      "_view_module_version": "1.2.0",
      "_view_name": "StyleView",
      "description_width": ""
     }
    },
    "6d6ce720424b49bdac62ef7a8f373104": {
     "model_module": "@jupyter-widgets/base",
     "model_module_version": "1.2.0",
     "model_name": "LayoutModel",
     "state": {
      "_model_module": "@jupyter-widgets/base",
      "_model_module_version": "1.2.0",
      "_model_name": "LayoutModel",
      "_view_count": null,
      "_view_module": "@jupyter-widgets/base",
      "_view_module_version": "1.2.0",
      "_view_name": "LayoutView",
      "align_content": null,
      "align_items": null,
      "align_self": null,
      "border": null,
      "bottom": null,
      "display": null,
      "flex": null,
      "flex_flow": null,
      "grid_area": null,
      "grid_auto_columns": null,
      "grid_auto_flow": null,
      "grid_auto_rows": null,
      "grid_column": null,
      "grid_gap": null,
      "grid_row": null,
      "grid_template_areas": null,
      "grid_template_columns": null,
      "grid_template_rows": null,
      "height": null,
      "justify_content": null,
      "justify_items": null,
      "left": null,
      "margin": null,
      "max_height": null,
      "max_width": null,
      "min_height": null,
      "min_width": null,
      "object_fit": null,
      "object_position": null,
      "order": null,
      "overflow": null,
      "overflow_x": null,
      "overflow_y": null,
      "padding": null,
      "right": null,
      "top": null,
      "visibility": null,
      "width": null
     }
    },
    "74dd6c4bc94f4560b7891a6f3ef89e1a": {
     "model_module": "@jupyter-widgets/controls",
     "model_module_version": "1.5.0",
     "model_name": "ProgressStyleModel",
     "state": {
      "_model_module": "@jupyter-widgets/controls",
      "_model_module_version": "1.5.0",
      "_model_name": "ProgressStyleModel",
      "_view_count": null,
      "_view_module": "@jupyter-widgets/base",
      "_view_module_version": "1.2.0",
      "_view_name": "StyleView",
      "bar_color": null,
      "description_width": ""
     }
    },
    "776bc04c7b2a47f3a2438e7b0e665686": {
     "model_module": "@jupyter-widgets/controls",
     "model_module_version": "1.5.0",
     "model_name": "DescriptionStyleModel",
     "state": {
      "_model_module": "@jupyter-widgets/controls",
      "_model_module_version": "1.5.0",
      "_model_name": "DescriptionStyleModel",
      "_view_count": null,
      "_view_module": "@jupyter-widgets/base",
      "_view_module_version": "1.2.0",
      "_view_name": "StyleView",
      "description_width": ""
     }
    },
    "b075e0e678d84a8c9775d1a3f65fddbc": {
     "model_module": "@jupyter-widgets/controls",
     "model_module_version": "1.5.0",
     "model_name": "DescriptionStyleModel",
     "state": {
      "_model_module": "@jupyter-widgets/controls",
      "_model_module_version": "1.5.0",
      "_model_name": "DescriptionStyleModel",
      "_view_count": null,
      "_view_module": "@jupyter-widgets/base",
      "_view_module_version": "1.2.0",
      "_view_name": "StyleView",
      "description_width": ""
     }
    },
    "b897f8406f8f45f79603f88491e4edd7": {
     "model_module": "@jupyter-widgets/controls",
     "model_module_version": "1.5.0",
     "model_name": "HTMLModel",
     "state": {
      "_dom_classes": [],
      "_model_module": "@jupyter-widgets/controls",
      "_model_module_version": "1.5.0",
      "_model_name": "HTMLModel",
      "_view_count": null,
      "_view_module": "@jupyter-widgets/controls",
      "_view_module_version": "1.5.0",
      "_view_name": "HTMLView",
      "description": "",
      "description_tooltip": null,
      "layout": "IPY_MODEL_1964cb04fb714895b1b55f002add2283",
      "placeholder": "​",
      "style": "IPY_MODEL_b075e0e678d84a8c9775d1a3f65fddbc",
      "value": " 3/3 [00:00&lt;00:00,  7.12it/s]"
     }
    },
    "bbf167c36d4e44db8cce4c865a0bde6e": {
     "model_module": "@jupyter-widgets/controls",
     "model_module_version": "1.5.0",
     "model_name": "FloatProgressModel",
     "state": {
      "_dom_classes": [],
      "_model_module": "@jupyter-widgets/controls",
      "_model_module_version": "1.5.0",
      "_model_name": "FloatProgressModel",
      "_view_count": null,
      "_view_module": "@jupyter-widgets/controls",
      "_view_module_version": "1.5.0",
      "_view_name": "ProgressView",
      "bar_style": "success",
      "description": "",
      "description_tooltip": null,
      "layout": "IPY_MODEL_fe8fa8802bb0461f874f0323b061b3b5",
      "max": 1,
      "min": 0,
      "orientation": "horizontal",
      "style": "IPY_MODEL_74dd6c4bc94f4560b7891a6f3ef89e1a",
      "value": 1
     }
    },
    "cd66e833a1474a76a057d4ba29fde5dc": {
     "model_module": "@jupyter-widgets/base",
     "model_module_version": "1.2.0",
     "model_name": "LayoutModel",
     "state": {
      "_model_module": "@jupyter-widgets/base",
      "_model_module_version": "1.2.0",
      "_model_name": "LayoutModel",
      "_view_count": null,
      "_view_module": "@jupyter-widgets/base",
      "_view_module_version": "1.2.0",
      "_view_name": "LayoutView",
      "align_content": null,
      "align_items": null,
      "align_self": null,
      "border": null,
      "bottom": null,
      "display": null,
      "flex": null,
      "flex_flow": null,
      "grid_area": null,
      "grid_auto_columns": null,
      "grid_auto_flow": null,
      "grid_auto_rows": null,
      "grid_column": null,
      "grid_gap": null,
      "grid_row": null,
      "grid_template_areas": null,
      "grid_template_columns": null,
      "grid_template_rows": null,
      "height": null,
      "justify_content": null,
      "justify_items": null,
      "left": null,
      "margin": null,
      "max_height": null,
      "max_width": null,
      "min_height": null,
      "min_width": null,
      "object_fit": null,
      "object_position": null,
      "order": null,
      "overflow": null,
      "overflow_x": null,
      "overflow_y": null,
      "padding": null,
      "right": null,
      "top": null,
      "visibility": null,
      "width": null
     }
    },
    "d8774138f14a4086a768553f0ca5dc88": {
     "model_module": "@jupyter-widgets/controls",
     "model_module_version": "1.5.0",
     "model_name": "HBoxModel",
     "state": {
      "_dom_classes": [],
      "_model_module": "@jupyter-widgets/controls",
      "_model_module_version": "1.5.0",
      "_model_name": "HBoxModel",
      "_view_count": null,
      "_view_module": "@jupyter-widgets/controls",
      "_view_module_version": "1.5.0",
      "_view_name": "HBoxView",
      "box_style": "",
      "children": [
       "IPY_MODEL_e22540b9c9434e099d894b3e52ec62e0",
       "IPY_MODEL_bbf167c36d4e44db8cce4c865a0bde6e",
       "IPY_MODEL_486621b1c5a449fc8495d36554865d49"
      ],
      "layout": "IPY_MODEL_63c83262b6494121abf8cec7d9b72531"
     }
    },
    "e22540b9c9434e099d894b3e52ec62e0": {
     "model_module": "@jupyter-widgets/controls",
     "model_module_version": "1.5.0",
     "model_name": "HTMLModel",
     "state": {
      "_dom_classes": [],
      "_model_module": "@jupyter-widgets/controls",
      "_model_module_version": "1.5.0",
      "_model_name": "HTMLModel",
      "_view_count": null,
      "_view_module": "@jupyter-widgets/controls",
      "_view_module_version": "1.5.0",
      "_view_name": "HTMLView",
      "description": "",
      "description_tooltip": null,
      "layout": "IPY_MODEL_3694d8afc91a46ae9e477d8b3904afd3",
      "placeholder": "​",
      "style": "IPY_MODEL_6452a41431414782888fddaa3f663d51",
      "value": ""
     }
    },
    "e315aa193dd7433aa2b990491631adfc": {
     "model_module": "@jupyter-widgets/base",
     "model_module_version": "1.2.0",
     "model_name": "LayoutModel",
     "state": {
      "_model_module": "@jupyter-widgets/base",
      "_model_module_version": "1.2.0",
      "_model_name": "LayoutModel",
      "_view_count": null,
      "_view_module": "@jupyter-widgets/base",
      "_view_module_version": "1.2.0",
      "_view_name": "LayoutView",
      "align_content": null,
      "align_items": null,
      "align_self": null,
      "border": null,
      "bottom": null,
      "display": null,
      "flex": null,
      "flex_flow": null,
      "grid_area": null,
      "grid_auto_columns": null,
      "grid_auto_flow": null,
      "grid_auto_rows": null,
      "grid_column": null,
      "grid_gap": null,
      "grid_row": null,
      "grid_template_areas": null,
      "grid_template_columns": null,
      "grid_template_rows": null,
      "height": null,
      "justify_content": null,
      "justify_items": null,
      "left": null,
      "margin": null,
      "max_height": null,
      "max_width": null,
      "min_height": null,
      "min_width": null,
      "object_fit": null,
      "object_position": null,
      "order": null,
      "overflow": null,
      "overflow_x": null,
      "overflow_y": null,
      "padding": null,
      "right": null,
      "top": null,
      "visibility": null,
      "width": null
     }
    },
    "fa5731582dc6490ea3ea25713d8c60dc": {
     "model_module": "@jupyter-widgets/base",
     "model_module_version": "1.2.0",
     "model_name": "LayoutModel",
     "state": {
      "_model_module": "@jupyter-widgets/base",
      "_model_module_version": "1.2.0",
      "_model_name": "LayoutModel",
      "_view_count": null,
      "_view_module": "@jupyter-widgets/base",
      "_view_module_version": "1.2.0",
      "_view_name": "LayoutView",
      "align_content": null,
      "align_items": null,
      "align_self": null,
      "border": null,
      "bottom": null,
      "display": null,
      "flex": null,
      "flex_flow": null,
      "grid_area": null,
      "grid_auto_columns": null,
      "grid_auto_flow": null,
      "grid_auto_rows": null,
      "grid_column": null,
      "grid_gap": null,
      "grid_row": null,
      "grid_template_areas": null,
      "grid_template_columns": null,
      "grid_template_rows": null,
      "height": null,
      "justify_content": null,
      "justify_items": null,
      "left": null,
      "margin": null,
      "max_height": null,
      "max_width": null,
      "min_height": null,
      "min_width": null,
      "object_fit": null,
      "object_position": null,
      "order": null,
      "overflow": null,
      "overflow_x": null,
      "overflow_y": null,
      "padding": null,
      "right": null,
      "top": null,
      "visibility": null,
      "width": null
     }
    },
    "fe8fa8802bb0461f874f0323b061b3b5": {
     "model_module": "@jupyter-widgets/base",
     "model_module_version": "1.2.0",
     "model_name": "LayoutModel",
     "state": {
      "_model_module": "@jupyter-widgets/base",
      "_model_module_version": "1.2.0",
      "_model_name": "LayoutModel",
      "_view_count": null,
      "_view_module": "@jupyter-widgets/base",
      "_view_module_version": "1.2.0",
      "_view_name": "LayoutView",
      "align_content": null,
      "align_items": null,
      "align_self": null,
      "border": null,
      "bottom": null,
      "display": null,
      "flex": null,
      "flex_flow": null,
      "grid_area": null,
      "grid_auto_columns": null,
      "grid_auto_flow": null,
      "grid_auto_rows": null,
      "grid_column": null,
      "grid_gap": null,
      "grid_row": null,
      "grid_template_areas": null,
      "grid_template_columns": null,
      "grid_template_rows": null,
      "height": null,
      "justify_content": null,
      "justify_items": null,
      "left": null,
      "margin": null,
      "max_height": null,
      "max_width": null,
      "min_height": null,
      "min_width": null,
      "object_fit": null,
      "object_position": null,
      "order": null,
      "overflow": null,
      "overflow_x": null,
      "overflow_y": null,
      "padding": null,
      "right": null,
      "top": null,
      "visibility": null,
      "width": "20px"
     }
    }
   }
  }
 },
 "nbformat": 4,
 "nbformat_minor": 4
}
