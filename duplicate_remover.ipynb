{
 "cells": [
  {
   "cell_type": "markdown",
   "metadata": {
    "id": "6nqdGbJ7qHn6"
   },
   "source": [
    "# Removing The Duplicate Poster Images In Each Movie"
   ]
  },
  {
   "cell_type": "code",
   "execution_count": 1,
   "metadata": {
    "colab": {
     "base_uri": "https://localhost:8080/"
    },
    "executionInfo": {
     "elapsed": 10153,
     "status": "ok",
     "timestamp": 1653288157220,
     "user": {
      "displayName": "Mor Levy",
      "userId": "01162621481807463830"
     },
     "user_tz": -180
    },
    "id": "aHEFLinuKFOX",
    "outputId": "1050d081-9167-4116-f742-f63a182b9337"
   },
   "outputs": [
    {
     "name": "stdout",
     "output_type": "stream",
     "text": [
      "Collecting imagehash\n",
      "  Downloading ImageHash-4.2.1.tar.gz (812 kB)\n",
      "\u001b[K     |████████████████████████████████| 812 kB 5.3 MB/s eta 0:00:01\n",
      "\u001b[?25hRequirement already satisfied: six in /usr/local/lib/python3.7/dist-packages (from imagehash) (1.15.0)\n",
      "Requirement already satisfied: numpy in /usr/local/lib/python3.7/dist-packages (from imagehash) (1.21.6)\n",
      "Requirement already satisfied: scipy in /usr/local/lib/python3.7/dist-packages (from imagehash) (1.4.1)\n",
      "Requirement already satisfied: pillow in /usr/local/lib/python3.7/dist-packages (from imagehash) (7.1.2)\n",
      "Requirement already satisfied: PyWavelets in /usr/local/lib/python3.7/dist-packages (from imagehash) (1.3.0)\n",
      "Building wheels for collected packages: imagehash\n",
      "  Building wheel for imagehash (setup.py) ... \u001b[?25l\u001b[?25hdone\n",
      "  Created wheel for imagehash: filename=ImageHash-4.2.1-py2.py3-none-any.whl size=295206 sha256=0d973d23b0a740850696f06711cbd38b98dd77f2ba32adbff59b50f4759a44b2\n",
      "  Stored in directory: /root/.cache/pip/wheels/4c/d5/59/5e3e297533ddb09407769762985d134135064c6831e29a914e\n",
      "Successfully built imagehash\n",
      "Installing collected packages: imagehash\n",
      "Successfully installed imagehash-4.2.1\n"
     ]
    }
   ],
   "source": [
    "!pip install imagehash"
   ]
  },
  {
   "cell_type": "code",
   "execution_count": 2,
   "metadata": {
    "executionInfo": {
     "elapsed": 390,
     "status": "ok",
     "timestamp": 1653288157593,
     "user": {
      "displayName": "Mor Levy",
      "userId": "01162621481807463830"
     },
     "user_tz": -180
    },
    "id": "oQ1qdYo40LSL"
   },
   "outputs": [],
   "source": [
    "from PIL import Image\n",
    "from tqdm.notebook import tqdm\n",
    "from pathlib import Path\n",
    "import imagehash\n",
    "import pickle\n",
    "from scipy.spatial.distance import cdist\n",
    "import numpy as np\n",
    "import pandas as pd\n",
    "\n",
    "movies_path = Path(\"movie_posters.pkl\")\n",
    "\n",
    "\n",
    "THRESHOLD = 20 # we chose 20 based on a random sample of duplicate posters"
   ]
  },
  {
   "cell_type": "code",
   "execution_count": null,
   "metadata": {
    "id": "WwSsLoSX0LSM"
   },
   "outputs": [],
   "source": [
    "posters = pd.read_pickle(movies_path)\n",
    "posters = posters.sort_values(\"movie\")"
   ]
  },
  {
   "cell_type": "code",
   "execution_count": null,
   "metadata": {
    "id": "Ntvf8EcK_1rf"
   },
   "outputs": [],
   "source": [
    "!unzip posters.zip # the sample's posters images "
   ]
  },
  {
   "cell_type": "code",
   "execution_count": null,
   "metadata": {
    "id": "r8xPlSUQ0LSM"
   },
   "outputs": [],
   "source": [
    "# calcualte each poster image hash value\n",
    "\n",
    "def get_img_dhash(row):\n",
    "    poster_path = f'posters/{row[\"tconst\"]}/{row[\"file_path\"]}'\n",
    "    img = Image.open(poster_path)\n",
    "    row['dhash'] = imagehash.dhash(img)\n",
    "\n",
    "    return row\n",
    "\n",
    "posters = posters.apply(get_img_dhash, axis=1)"
   ]
  },
  {
   "cell_type": "code",
   "execution_count": null,
   "metadata": {
    "id": "ZgZN76e00LSP"
   },
   "outputs": [],
   "source": [
    "def get_duplicates(s1, s2):\n",
    "    dup = set()\n",
    "    not_dup = set()\n",
    "    for i, j in zip(s1,s2):\n",
    "        if i not in dup and j not in dup:\n",
    "            if i in not_dup:\n",
    "                dup.add(j)\n",
    "            elif j in not_dup:\n",
    "                dup.add(i)\n",
    "            else:\n",
    "                dup.add(j)\n",
    "                not_dup.add(i)\n",
    "        else:\n",
    "            if i in not_dup:\n",
    "                dup.add(j)\n",
    "            if j in not_dup:\n",
    "                dup.add(i)\n",
    "    return list(dup)\n"
   ]
  },
  {
   "cell_type": "code",
   "execution_count": null,
   "metadata": {
    "colab": {
     "base_uri": "https://localhost:8080/",
     "height": 49,
     "referenced_widgets": [
      "be2b4c31352a48108769b3804fd1ccc0",
      "b8b0378792964ac6aef5e9b811531c7d",
      "1ba80c947ad942e1bc067efc0054994f",
      "eb7b9df33be541eba69b07174b934ca0",
      "403ec77727b64f57b2c88f838329ceaf",
      "4c14a307cc5e40bc96752b8697e1d274",
      "ac467f9b68ff4ec3922c4b91824e3ede",
      "8a4a0e3ed8ee46de853788df89613c7f",
      "17a37fff3f484817ba46e378ed05b0c1",
      "f4089ebe0fd644d89e68a840d98af1d4",
      "8682d3f7103d405e9f82879aeeea20b2"
     ]
    },
    "executionInfo": {
     "elapsed": 300,
     "status": "ok",
     "timestamp": 1652606222866,
     "user": {
      "displayName": "Mor Levy",
      "userId": "01162621481807463830"
     },
     "user_tz": -180
    },
    "id": "NElpzfbg0LSN",
    "outputId": "1a6808f4-320c-4725-aa93-184608cebde5"
   },
   "outputs": [
    {
     "data": {
      "application/vnd.jupyter.widget-view+json": {
       "model_id": "be2b4c31352a48108769b3804fd1ccc0",
       "version_major": 2,
       "version_minor": 0
      },
      "text/plain": [
       "  0%|          | 0/3 [00:00<?, ?it/s]"
      ]
     },
     "metadata": {},
     "output_type": "display_data"
    }
   ],
   "source": [
    "posters[\"dups\"]= False\n",
    "\n",
    "for m, posters in tqdm(posters.groupby(\"tconst\")):    \n",
    "    dhash = [p.hash.flatten() for p in posters[\"dhash\"]]\n",
    "    dist = cdist(dhash, dhash, lambda u, v: np.count_nonzero(v != u))\n",
    "    sim = np.where(dist<THRESHOLD) \n",
    "    s1 = sim[0][sim[0]!=sim[1]]\n",
    "    s2 = sim[1][sim[0]!=sim[1]]\n",
    "    \n",
    "    dups = get_duplicates(s1, s2)\n",
    "    posters.loc[posters.iloc[dups].index,'dups'] = True"
   ]
  },
  {
   "cell_type": "code",
   "execution_count": null,
   "metadata": {
    "id": "xYqgDeJa0LSO"
   },
   "outputs": [],
   "source": [
    "posters = posters.reset_index(drop=True)"
   ]
  },
  {
   "cell_type": "code",
   "execution_count": null,
   "metadata": {
    "id": "9RSsKQuREwkg"
   },
   "outputs": [],
   "source": [
    "posters.to_pickle(\"posters_with_dup.pkl\")"
   ]
  }
 ],
 "metadata": {
  "colab": {
   "collapsed_sections": [],
   "name": "duplicate_remover.ipynb",
   "provenance": []
  },
  "kernelspec": {
   "display_name": "Python 3",
   "language": "python",
   "name": "python3"
  },
  "language_info": {
   "codemirror_mode": {
    "name": "ipython",
    "version": 3
   },
   "file_extension": ".py",
   "mimetype": "text/x-python",
   "name": "python",
   "nbconvert_exporter": "python",
   "pygments_lexer": "ipython3",
   "version": "3.7.3"
  },
  "widgets": {
   "application/vnd.jupyter.widget-state+json": {
    "17a37fff3f484817ba46e378ed05b0c1": {
     "model_module": "@jupyter-widgets/controls",
     "model_module_version": "1.5.0",
     "model_name": "ProgressStyleModel",
     "state": {
      "_model_module": "@jupyter-widgets/controls",
      "_model_module_version": "1.5.0",
      "_model_name": "ProgressStyleModel",
      "_view_count": null,
      "_view_module": "@jupyter-widgets/base",
      "_view_module_version": "1.2.0",
      "_view_name": "StyleView",
      "bar_color": null,
      "description_width": ""
     }
    },
    "1ba80c947ad942e1bc067efc0054994f": {
     "model_module": "@jupyter-widgets/controls",
     "model_module_version": "1.5.0",
     "model_name": "FloatProgressModel",
     "state": {
      "_dom_classes": [],
      "_model_module": "@jupyter-widgets/controls",
      "_model_module_version": "1.5.0",
      "_model_name": "FloatProgressModel",
      "_view_count": null,
      "_view_module": "@jupyter-widgets/controls",
      "_view_module_version": "1.5.0",
      "_view_name": "ProgressView",
      "bar_style": "success",
      "description": "",
      "description_tooltip": null,
      "layout": "IPY_MODEL_8a4a0e3ed8ee46de853788df89613c7f",
      "max": 3,
      "min": 0,
      "orientation": "horizontal",
      "style": "IPY_MODEL_17a37fff3f484817ba46e378ed05b0c1",
      "value": 3
     }
    },
    "403ec77727b64f57b2c88f838329ceaf": {
     "model_module": "@jupyter-widgets/base",
     "model_module_version": "1.2.0",
     "model_name": "LayoutModel",
     "state": {
      "_model_module": "@jupyter-widgets/base",
      "_model_module_version": "1.2.0",
      "_model_name": "LayoutModel",
      "_view_count": null,
      "_view_module": "@jupyter-widgets/base",
      "_view_module_version": "1.2.0",
      "_view_name": "LayoutView",
      "align_content": null,
      "align_items": null,
      "align_self": null,
      "border": null,
      "bottom": null,
      "display": null,
      "flex": null,
      "flex_flow": null,
      "grid_area": null,
      "grid_auto_columns": null,
      "grid_auto_flow": null,
      "grid_auto_rows": null,
      "grid_column": null,
      "grid_gap": null,
      "grid_row": null,
      "grid_template_areas": null,
      "grid_template_columns": null,
      "grid_template_rows": null,
      "height": null,
      "justify_content": null,
      "justify_items": null,
      "left": null,
      "margin": null,
      "max_height": null,
      "max_width": null,
      "min_height": null,
      "min_width": null,
      "object_fit": null,
      "object_position": null,
      "order": null,
      "overflow": null,
      "overflow_x": null,
      "overflow_y": null,
      "padding": null,
      "right": null,
      "top": null,
      "visibility": null,
      "width": null
     }
    },
    "4c14a307cc5e40bc96752b8697e1d274": {
     "model_module": "@jupyter-widgets/base",
     "model_module_version": "1.2.0",
     "model_name": "LayoutModel",
     "state": {
      "_model_module": "@jupyter-widgets/base",
      "_model_module_version": "1.2.0",
      "_model_name": "LayoutModel",
      "_view_count": null,
      "_view_module": "@jupyter-widgets/base",
      "_view_module_version": "1.2.0",
      "_view_name": "LayoutView",
      "align_content": null,
      "align_items": null,
      "align_self": null,
      "border": null,
      "bottom": null,
      "display": null,
      "flex": null,
      "flex_flow": null,
      "grid_area": null,
      "grid_auto_columns": null,
      "grid_auto_flow": null,
      "grid_auto_rows": null,
      "grid_column": null,
      "grid_gap": null,
      "grid_row": null,
      "grid_template_areas": null,
      "grid_template_columns": null,
      "grid_template_rows": null,
      "height": null,
      "justify_content": null,
      "justify_items": null,
      "left": null,
      "margin": null,
      "max_height": null,
      "max_width": null,
      "min_height": null,
      "min_width": null,
      "object_fit": null,
      "object_position": null,
      "order": null,
      "overflow": null,
      "overflow_x": null,
      "overflow_y": null,
      "padding": null,
      "right": null,
      "top": null,
      "visibility": null,
      "width": null
     }
    },
    "8682d3f7103d405e9f82879aeeea20b2": {
     "model_module": "@jupyter-widgets/controls",
     "model_module_version": "1.5.0",
     "model_name": "DescriptionStyleModel",
     "state": {
      "_model_module": "@jupyter-widgets/controls",
      "_model_module_version": "1.5.0",
      "_model_name": "DescriptionStyleModel",
      "_view_count": null,
      "_view_module": "@jupyter-widgets/base",
      "_view_module_version": "1.2.0",
      "_view_name": "StyleView",
      "description_width": ""
     }
    },
    "8a4a0e3ed8ee46de853788df89613c7f": {
     "model_module": "@jupyter-widgets/base",
     "model_module_version": "1.2.0",
     "model_name": "LayoutModel",
     "state": {
      "_model_module": "@jupyter-widgets/base",
      "_model_module_version": "1.2.0",
      "_model_name": "LayoutModel",
      "_view_count": null,
      "_view_module": "@jupyter-widgets/base",
      "_view_module_version": "1.2.0",
      "_view_name": "LayoutView",
      "align_content": null,
      "align_items": null,
      "align_self": null,
      "border": null,
      "bottom": null,
      "display": null,
      "flex": null,
      "flex_flow": null,
      "grid_area": null,
      "grid_auto_columns": null,
      "grid_auto_flow": null,
      "grid_auto_rows": null,
      "grid_column": null,
      "grid_gap": null,
      "grid_row": null,
      "grid_template_areas": null,
      "grid_template_columns": null,
      "grid_template_rows": null,
      "height": null,
      "justify_content": null,
      "justify_items": null,
      "left": null,
      "margin": null,
      "max_height": null,
      "max_width": null,
      "min_height": null,
      "min_width": null,
      "object_fit": null,
      "object_position": null,
      "order": null,
      "overflow": null,
      "overflow_x": null,
      "overflow_y": null,
      "padding": null,
      "right": null,
      "top": null,
      "visibility": null,
      "width": null
     }
    },
    "ac467f9b68ff4ec3922c4b91824e3ede": {
     "model_module": "@jupyter-widgets/controls",
     "model_module_version": "1.5.0",
     "model_name": "DescriptionStyleModel",
     "state": {
      "_model_module": "@jupyter-widgets/controls",
      "_model_module_version": "1.5.0",
      "_model_name": "DescriptionStyleModel",
      "_view_count": null,
      "_view_module": "@jupyter-widgets/base",
      "_view_module_version": "1.2.0",
      "_view_name": "StyleView",
      "description_width": ""
     }
    },
    "b8b0378792964ac6aef5e9b811531c7d": {
     "model_module": "@jupyter-widgets/controls",
     "model_module_version": "1.5.0",
     "model_name": "HTMLModel",
     "state": {
      "_dom_classes": [],
      "_model_module": "@jupyter-widgets/controls",
      "_model_module_version": "1.5.0",
      "_model_name": "HTMLModel",
      "_view_count": null,
      "_view_module": "@jupyter-widgets/controls",
      "_view_module_version": "1.5.0",
      "_view_name": "HTMLView",
      "description": "",
      "description_tooltip": null,
      "layout": "IPY_MODEL_4c14a307cc5e40bc96752b8697e1d274",
      "placeholder": "​",
      "style": "IPY_MODEL_ac467f9b68ff4ec3922c4b91824e3ede",
      "value": "100%"
     }
    },
    "be2b4c31352a48108769b3804fd1ccc0": {
     "model_module": "@jupyter-widgets/controls",
     "model_module_version": "1.5.0",
     "model_name": "HBoxModel",
     "state": {
      "_dom_classes": [],
      "_model_module": "@jupyter-widgets/controls",
      "_model_module_version": "1.5.0",
      "_model_name": "HBoxModel",
      "_view_count": null,
      "_view_module": "@jupyter-widgets/controls",
      "_view_module_version": "1.5.0",
      "_view_name": "HBoxView",
      "box_style": "",
      "children": [
       "IPY_MODEL_b8b0378792964ac6aef5e9b811531c7d",
       "IPY_MODEL_1ba80c947ad942e1bc067efc0054994f",
       "IPY_MODEL_eb7b9df33be541eba69b07174b934ca0"
      ],
      "layout": "IPY_MODEL_403ec77727b64f57b2c88f838329ceaf"
     }
    },
    "eb7b9df33be541eba69b07174b934ca0": {
     "model_module": "@jupyter-widgets/controls",
     "model_module_version": "1.5.0",
     "model_name": "HTMLModel",
     "state": {
      "_dom_classes": [],
      "_model_module": "@jupyter-widgets/controls",
      "_model_module_version": "1.5.0",
      "_model_name": "HTMLModel",
      "_view_count": null,
      "_view_module": "@jupyter-widgets/controls",
      "_view_module_version": "1.5.0",
      "_view_name": "HTMLView",
      "description": "",
      "description_tooltip": null,
      "layout": "IPY_MODEL_f4089ebe0fd644d89e68a840d98af1d4",
      "placeholder": "​",
      "style": "IPY_MODEL_8682d3f7103d405e9f82879aeeea20b2",
      "value": " 3/3 [00:00&lt;00:00, 19.27it/s]"
     }
    },
    "f4089ebe0fd644d89e68a840d98af1d4": {
     "model_module": "@jupyter-widgets/base",
     "model_module_version": "1.2.0",
     "model_name": "LayoutModel",
     "state": {
      "_model_module": "@jupyter-widgets/base",
      "_model_module_version": "1.2.0",
      "_model_name": "LayoutModel",
      "_view_count": null,
      "_view_module": "@jupyter-widgets/base",
      "_view_module_version": "1.2.0",
      "_view_name": "LayoutView",
      "align_content": null,
      "align_items": null,
      "align_self": null,
      "border": null,
      "bottom": null,
      "display": null,
      "flex": null,
      "flex_flow": null,
      "grid_area": null,
      "grid_auto_columns": null,
      "grid_auto_flow": null,
      "grid_auto_rows": null,
      "grid_column": null,
      "grid_gap": null,
      "grid_row": null,
      "grid_template_areas": null,
      "grid_template_columns": null,
      "grid_template_rows": null,
      "height": null,
      "justify_content": null,
      "justify_items": null,
      "left": null,
      "margin": null,
      "max_height": null,
      "max_width": null,
      "min_height": null,
      "min_width": null,
      "object_fit": null,
      "object_position": null,
      "order": null,
      "overflow": null,
      "overflow_x": null,
      "overflow_y": null,
      "padding": null,
      "right": null,
      "top": null,
      "visibility": null,
      "width": null
     }
    }
   }
  }
 },
 "nbformat": 4,
 "nbformat_minor": 4
}
